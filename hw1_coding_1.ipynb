{
 "cells": [
  {
   "cell_type": "markdown",
   "metadata": {
    "application/vnd.databricks.v1+cell": {
     "cellMetadata": {
      "byteLimit": 2048000,
      "rowLimit": 10000
     },
     "inputWidgets": {},
     "nuid": "ee2986f3-3a56-4afb-bd2d-13bff7acbacc",
     "showTitle": false,
     "tableResultSettingsMap": {},
     "title": ""
    }
   },
   "source": [
    "# CMU auto-graded notebook\n",
    "\n",
    "Before you turn these assignments in, make sure everything runs as expected. First, **restart the kernel** (in the menubar, select Kernel$\\rightarrow$Restart) and then **run all cells** (in the menubar, select Cell$\\rightarrow$Run All).\n",
    "\n",
    "Make sure you fill in any place that says `YOUR CODE HERE` or \"YOUR ANSWER HERE.\""
   ]
  },
  {
   "cell_type": "markdown",
   "metadata": {
    "application/vnd.databricks.v1+cell": {
     "cellMetadata": {
      "byteLimit": 2048000,
      "rowLimit": 10000
     },
     "inputWidgets": {},
     "nuid": "65d54a25-3971-4641-9e0f-91e3555af7b3",
     "showTitle": false,
     "tableResultSettingsMap": {},
     "title": ""
    }
   },
   "source": [
    "---"
   ]
  },
  {
   "cell_type": "markdown",
   "metadata": {
    "application/vnd.databricks.v1+cell": {
     "cellMetadata": {
      "byteLimit": 2048000,
      "rowLimit": 10000
     },
     "inputWidgets": {},
     "nuid": "af977e9e-9aa5-4962-a055-94151e0596d4",
     "showTitle": false,
     "tableResultSettingsMap": {},
     "title": ""
    }
   },
   "source": [
    "# CMU Machine Learning with Large Datasets\n",
    "\n",
    "## Homework 1 - Coding 1: Entity Resolution"
   ]
  },
  {
   "cell_type": "code",
   "execution_count": 0,
   "metadata": {
    "application/vnd.databricks.v1+cell": {
     "cellMetadata": {
      "byteLimit": 2048000,
      "rowLimit": 10000
     },
     "inputWidgets": {},
     "nuid": "bd4c4906-509f-4cd3-a9c2-b11857317dce",
     "showTitle": false,
     "tableResultSettingsMap": {},
     "title": ""
    },
    "deletable": false,
    "nbgrader": {
     "cell_type": "code",
     "checksum": "7719fba09400b4d46b9ed7b785e7dd20",
     "grade": false,
     "grade_id": "collaborator",
     "locked": false,
     "schema_version": 3,
     "solution": true,
     "task": false
    }
   },
   "outputs": [
    {
     "output_type": "stream",
     "name": "stdout",
     "output_type": "stream",
     "text": [
      "['']\n"
     ]
    }
   ],
   "source": [
    "# Who did you collaborate with on this assignment? \n",
    "# if no one, collaborators should contain an empty string,\n",
    "# else list your collaborators below\n",
    "\n",
    "collaborators = [\"\"]\n",
    "# YOUR CODE HERE\n",
    "print(collaborators)\n"
   ]
  },
  {
   "cell_type": "code",
   "execution_count": 0,
   "metadata": {
    "application/vnd.databricks.v1+cell": {
     "cellMetadata": {
      "byteLimit": 2048000,
      "rowLimit": 10000
     },
     "inputWidgets": {},
     "nuid": "601e8be2-1038-4e97-8e1f-526c67398ac8",
     "showTitle": false,
     "tableResultSettingsMap": {},
     "title": ""
    },
    "deletable": false,
    "editable": false,
    "nbgrader": {
     "cell_type": "code",
     "checksum": "3d90ca40acf78b719b3e041b7b35146f",
     "grade": true,
     "grade_id": "collaborator_check",
     "locked": true,
     "points": 0,
     "schema_version": 3,
     "solution": false,
     "task": false
    },
    "tags": []
   },
   "outputs": [],
   "source": [
    "try:\n",
    "    collaborators\n",
    "except:\n",
    "    raise AssertionError(\"you did not list your collaborators, if any\")"
   ]
  },
  {
   "cell_type": "code",
   "execution_count": 0,
   "metadata": {
    "application/vnd.databricks.v1+cell": {
     "cellMetadata": {
      "byteLimit": 2048000,
      "rowLimit": 10000
     },
     "inputWidgets": {},
     "nuid": "61e60de4-6e7e-42cb-884c-9b5ef15d943d",
     "showTitle": false,
     "tableResultSettingsMap": {},
     "title": ""
    },
    "deletable": false,
    "editable": false,
    "nbgrader": {
     "cell_type": "code",
     "checksum": "5c9cc0b336dd25941d964305571f81f3",
     "grade": false,
     "grade_id": "cell-ac93bd79d8ca1cf8",
     "locked": true,
     "schema_version": 3,
     "solution": false,
     "task": false
    }
   },
   "outputs": [
    {
     "output_type": "stream",
     "name": "stdout",
     "output_type": "stream",
     "text": [
      "spark context started\n"
     ]
    },
    {
     "output_type": "stream",
     "name": "stderr",
     "output_type": "stream",
     "text": [
      "/databricks/spark/python/pyspark/sql/context.py:117: FutureWarning: Deprecated in 3.0.0. Use SparkSession.builder.getOrCreate() instead.\n  warnings.warn(\n"
     ]
    }
   ],
   "source": [
    "# YOU CAN MOST LIKELY IGNORE THIS CELL. This is only of use for running this notebook locally.\n",
    "# THIS CELL DOES NOT NEED TO BE RUN ON DATABRICKS. \n",
    "# Note that Databricks already creates a SparkContext for you, so this cell can be skipped.\n",
    "\n",
    "import pyspark\n",
    "from pyspark.sql import SparkSession, SQLContext\n",
    "\n",
    "spark = SparkSession.builder \\\n",
    "    .appName(\"hw\") \\\n",
    "    .config(\"spark.ui.showConsoleProgress\", \"False\") \\\n",
    "    .getOrCreate()\n",
    "sc = spark.sparkContext\n",
    "sc.setLogLevel(\"OFF\")\n",
    "sqlContext = SQLContext(sc)\n",
    "print(\"spark context started\")"
   ]
  },
  {
   "cell_type": "markdown",
   "metadata": {
    "application/vnd.databricks.v1+cell": {
     "cellMetadata": {
      "byteLimit": 2048000,
      "rowLimit": 10000
     },
     "inputWidgets": {},
     "nuid": "066f4c31-ae27-4d60-b1fe-2c88759c44b9",
     "showTitle": false,
     "tableResultSettingsMap": {},
     "title": ""
    }
   },
   "source": [
    "# **1. Text Analysis and Entity Resolution**\n",
    "Entity resolution is a common, yet difficult problem in data cleaning and integration. This lab will demonstrate how we can use Apache Spark to apply powerful and scalable text analysis techniques and perform entity resolution across two datasets of commercial products."
   ]
  },
  {
   "cell_type": "markdown",
   "metadata": {
    "application/vnd.databricks.v1+cell": {
     "cellMetadata": {
      "byteLimit": 2048000,
      "rowLimit": 10000
     },
     "inputWidgets": {},
     "nuid": "c33190ba-a615-4d20-85d5-38fd5ef71b69",
     "showTitle": false,
     "tableResultSettingsMap": {},
     "title": ""
    }
   },
   "source": [
    "Entity Resolution, or \"[Record linkage][wiki]\" is the term used by statisticians, epidemiologists, and historians, among others, to describe the process of joining records from one data source with another that describe the same entity. Our terms with the same meaning include, \"entity disambiguation/linking\", \"duplicate detection\", \"deduplication\", \"record matching\", \"(reference) reconciliation\", \"object identification\", \"data/information integration\", and \"conflation\".\n",
    "\n",
    "Entity Resolution (ER) refers to the task of finding records in a dataset that refer to the same entity across different data sources (e.g., data files, books, websites, databases). ER is necessary when joining datasets based on entities that may or may not share a common identifier (e.g., database key, URI, National identification number), as may be the case due to differences in record shape, storage location, and/or curator style or preference. A dataset that has undergone ER may be referred to as being cross-linked.\n",
    "[wiki]: https://en.wikipedia.org/wiki/Record_linkage"
   ]
  },
  {
   "cell_type": "markdown",
   "metadata": {
    "application/vnd.databricks.v1+cell": {
     "cellMetadata": {
      "byteLimit": 2048000,
      "rowLimit": 10000
     },
     "inputWidgets": {},
     "nuid": "b4baa55f-39f6-4aeb-b759-5a24fd20cd07",
     "showTitle": false,
     "tableResultSettingsMap": {},
     "title": ""
    }
   },
   "source": [
    "## Part 0: Preliminaries\n",
    "\n",
    "### Code\n",
    "\n",
    "This assignment can be completed using basic Python, PySpark transformations and actions, and the plotting library matplotlib. Other libraries are not allowed.\n",
    "\n",
    "### Files\n",
    "[Data files](https://github.com/spark-mooc/mooc-setup/tree/master/metric-learning/data/3-amazon-googleproducts) for this assignment are from the [metric-learning](https://github.com/spark-mooc/mooc-setup/tree/master/metric-learning) project and can be found at:\n",
    "`dbfs:/FileStore/tables/lab1/`\n",
    "\n",
    "The directory contains the following files:\n",
    "* **Google.csv**, the Google Products dataset, named as targets.csv in the repository\n",
    "* **Amazon.csv**, the Amazon dataset, named as sources.csv in the repository\n",
    "* **Google_small.csv**, 200 records sampled from the Google data, subset of targets.csv\n",
    "* **Amazon_small.csv**, 200 records sampled from the Amazon data, subset of sources.csv\n",
    "* **Amazon_Google_perfectMapping.csv**, the \"gold standard\" mapping, named as mapping.csv in the repository\n",
    "* **stopwords.txt**, a list of common English words\n",
    "\n",
    "Besides the complete data files, there are \"sample\" data files for each dataset - we will use these for **Part 1**. In addition, there is a \"gold standard\" file that contains all of the true mappings between entities in the two datasets. Every row in the gold standard file has a pair of record IDs (one Google, one Amazon) that belong to two records that describe the same thing in the real world. We will use the gold standard to evaluate our algorithms.\n",
    "\n",
    "### Table of Contents\n",
    "0) **Preliminaries**\n",
    "\n",
    "1) **Bag of Words**\n",
    " * Tokenization\n",
    " * Tokenizing Small Datasets\n",
    " * Record with the Most Tokens\n",
    " \n",
    "2) **Weighted Bag of Words with TF-IDF**\n",
    " * Implement Term Frequency\n",
    " * Create a Corpus\n",
    " * Implement IDF\n",
    " * Smallest IDF\n",
    " * IDF Histogram\n",
    " * Implement TF-IDF\n",
    " \n",
    "3) **Cosine Similarity**\n",
    " * Implement Math Components\n",
    " * Implement Cosine Similarity\n",
    " * Perform Entity Resolution\n",
    " * Entity Resolution with Broadcast Variables\n",
    " * Gold Standard Evaluation\n",
    " \n",
    "4) **Scalable Entity Resolution (Full Dataset)**\n",
    " * Tokenize\n",
    " * Compute IDFs and TF-IDFs\n",
    " * Compute Norms for the Weights\n",
    " * Create Inverted Indices\n",
    " * Indentify Common Tokens\n",
    " \n",
    "5) **Analysis**\n",
    " * Counting True Positives, False Positives, and True Negatives\n",
    " * Precision, Recall, F-measures\n",
    " * Line Plots\n",
    "\n",
    "We read in each of the files and create an RDD consisting of lines.\n",
    "For each of the data files (\"Google.csv\", \"Amazon.csv\", and the samples), we want to parse the IDs out of each record. The IDs are the first column of the file (they are URLs for Google, and alphanumeric strings for Amazon). Omitting the headers, we load these data files into pair RDDs where the *mapping ID* is the key, and the value is a string consisting of the name/title, description, and manufacturer from the record.\n",
    "\n",
    "The file format of an Amazon line is:\n",
    "\n",
    "```\n",
    "\"id\",\"title\",\"description\",\"manufacturer\",\"price\"\n",
    "```\n",
    "\n",
    "The file format of a Google line is:\n",
    "\n",
    "```\n",
    "\"id\",\"name\",\"description\",\"manufacturer\",\"price\"\n",
    "```"
   ]
  },
  {
   "cell_type": "code",
   "execution_count": 0,
   "metadata": {
    "application/vnd.databricks.v1+cell": {
     "cellMetadata": {
      "byteLimit": 2048000,
      "rowLimit": 10000
     },
     "inputWidgets": {},
     "nuid": "0d0205e0-c62d-4300-9c62-6006aed865b5",
     "showTitle": false,
     "tableResultSettingsMap": {},
     "title": ""
    }
   },
   "outputs": [],
   "source": [
    "# imports that will be used in the notebook -- shouldn't need to import any other libraries\n",
    "from nose.tools import assert_equal, assert_true\n",
    "import re\n",
    "import sys\n",
    "import os\n",
    "from pyspark import SparkFiles\n",
    "import matplotlib.pyplot as plt\n",
    "from pyspark.sql import Row\n",
    "import math\n",
    "from pyspark import Broadcast\n",
    "from pyspark.accumulators import AccumulatorParam"
   ]
  },
  {
   "cell_type": "code",
   "execution_count": 0,
   "metadata": {
    "application/vnd.databricks.v1+cell": {
     "cellMetadata": {
      "byteLimit": 2048000,
      "rowLimit": 10000
     },
     "inputWidgets": {},
     "nuid": "6f2cf7a4-7aef-4275-ba73-351dde3ac298",
     "showTitle": false,
     "tableResultSettingsMap": {},
     "title": ""
    }
   },
   "outputs": [],
   "source": [
    "DATAFILE_PATTERN = '^(.+),\"(.+)\",(.*),(.*),(.*)'\n",
    "\n",
    "def removeQuotes(s):\n",
    "    \"\"\" Remove quotation marks from an input string\n",
    "    Args:\n",
    "        s (str): input string that might have the quote \"\" characters\n",
    "    Returns:\n",
    "        str: a string without the quote characters\n",
    "    \"\"\"\n",
    "    return ''.join(i for i in s if i!='\"')\n",
    "\n",
    "\n",
    "def parseDatafileLine(datafileLine):\n",
    "    \"\"\" Parse a line of the data file using the specified regular expression pattern\n",
    "    Args:\n",
    "        datafileLine (str): input string that is a line from the data file\n",
    "    Returns:\n",
    "        tuple: a tuple including the parsed results using the given regular expression and without the quote characters\n",
    "    \"\"\"\n",
    "    match = re.search(DATAFILE_PATTERN, datafileLine.decode('utf-8'))\n",
    "    if match is None:\n",
    "        print('Invalid datafile line: %s' % datafileLine)\n",
    "        return (datafileLine, -1)\n",
    "    elif match.group(1) == '\"id\"':\n",
    "        print('Header datafile line: %s' % datafileLine)\n",
    "        return (datafileLine, 0)\n",
    "    else:\n",
    "        product = '%s %s %s' % (match.group(2), match.group(3), match.group(4))\n",
    "        return ((removeQuotes(match.group(1)), product), 1)"
   ]
  },
  {
   "cell_type": "markdown",
   "metadata": {
    "application/vnd.databricks.v1+cell": {
     "cellMetadata": {
      "byteLimit": 2048000,
      "rowLimit": 10000
     },
     "inputWidgets": {},
     "nuid": "5fc52616-92ce-4e7a-b963-cc509eb6fd32",
     "showTitle": false,
     "tableResultSettingsMap": {},
     "title": ""
    }
   },
   "source": [
    "Run the following cell to load the data files."
   ]
  },
  {
   "cell_type": "code",
   "execution_count": 0,
   "metadata": {
    "application/vnd.databricks.v1+cell": {
     "cellMetadata": {
      "byteLimit": 2048000,
      "rowLimit": 10000
     },
     "inputWidgets": {},
     "nuid": "b4ee59bf-cff4-48b2-a298-1e096dcb6a84",
     "showTitle": false,
     "tableResultSettingsMap": {},
     "title": ""
    }
   },
   "outputs": [
    {
     "output_type": "stream",
     "name": "stdout",
     "output_type": "stream",
     "text": [
      "Google_small.csv - Read 201 lines, successfully parsed 200 lines, failed to parse 0 lines\nGoogle.csv - Read 3227 lines, successfully parsed 3226 lines, failed to parse 0 lines\nAmazon_small.csv - Read 201 lines, successfully parsed 200 lines, failed to parse 0 lines\nAmazon.csv - Read 1364 lines, successfully parsed 1363 lines, failed to parse 0 lines\n"
     ]
    }
   ],
   "source": [
    "GOOGLE_PATH = 'Google.csv'\n",
    "GOOGLE_SMALL_PATH = 'Google_small.csv'\n",
    "AMAZON_PATH = 'Amazon.csv'\n",
    "AMAZON_SMALL_PATH = 'Amazon_small.csv'\n",
    "GOLD_STANDARD_PATH = 'Amazon_Google_perfectMapping.csv'\n",
    "STOPWORDS_PATH = 'stopwords.txt'\n",
    "\n",
    "\n",
    "def parseData(filename, path):\n",
    "    \"\"\" Parse a data file\n",
    "    Args:\n",
    "        filename (str): input file name of the data file\n",
    "    Returns:\n",
    "        RDD: a RDD of parsed lines\n",
    "    \"\"\"\n",
    "    sc.addFile(filename)\n",
    "    return (sc\n",
    "            .textFile(\"file:///\" + SparkFiles.get(path), 4, 0)\n",
    "            .map(parseDatafileLine)\n",
    "            .cache())\n",
    "\n",
    "def loadData(path):\n",
    "    \"\"\" Load a data file\n",
    "    Args:\n",
    "        path (str): input file name of the data file\n",
    "    Returns:\n",
    "        RDD: a RDD of parsed valid lines\n",
    "    \"\"\"\n",
    "\n",
    "    url = \"https://raw.githubusercontent.com/10605/data/master/hw1/\" + path\n",
    "    raw = parseData(url, path).cache()\n",
    "    failed = (raw\n",
    "              .filter(lambda s: s[1] == -1)\n",
    "              .map(lambda s: s[0]))\n",
    "    for line in failed.take(10):\n",
    "        print('%s - Invalid datafile line: %s' % (path, line))\n",
    "    valid = (raw\n",
    "             .filter(lambda s: s[1] == 1)\n",
    "             .map(lambda s: s[0])\n",
    "             .cache())\n",
    "    print('%s - Read %d lines, successfully parsed %d lines, failed to parse %d lines' % (path,\n",
    "                                                                                        raw.count(),\n",
    "                                                                                        valid.count(),\n",
    "                                                                                        failed.count()))\n",
    "    assert failed.count() == 0\n",
    "    assert raw.count() == (valid.count() + 1)\n",
    "    return valid\n",
    "\n",
    "googleSmall = loadData(GOOGLE_SMALL_PATH)\n",
    "google = loadData(GOOGLE_PATH)\n",
    "amazonSmall = loadData(AMAZON_SMALL_PATH)\n",
    "amazon = loadData(AMAZON_PATH)"
   ]
  },
  {
   "cell_type": "markdown",
   "metadata": {
    "application/vnd.databricks.v1+cell": {
     "cellMetadata": {
      "byteLimit": 2048000,
      "rowLimit": 10000
     },
     "inputWidgets": {},
     "nuid": "d5ac7c06-4985-4edd-992c-98c405cecb83",
     "showTitle": false,
     "tableResultSettingsMap": {},
     "title": ""
    }
   },
   "source": [
    "Let's examine the lines that were just loaded in the two subset (small) files - one from Google and one from Amazon"
   ]
  },
  {
   "cell_type": "code",
   "execution_count": 0,
   "metadata": {
    "application/vnd.databricks.v1+cell": {
     "cellMetadata": {
      "byteLimit": 2048000,
      "rowLimit": 10000
     },
     "inputWidgets": {},
     "nuid": "2a714407-2c41-4cc8-ab6e-d42479740e53",
     "showTitle": false,
     "tableResultSettingsMap": {},
     "title": ""
    }
   },
   "outputs": [
    {
     "output_type": "stream",
     "name": "stdout",
     "output_type": "stream",
     "text": [
      "google: http://www.google.com/base/feeds/snippets/11448761432933644608: spanish vocabulary builder \"expand your vocabulary! contains fun lessons that both teach and entertain you'll quickly find yourself mastering new terms. includes games and more!\" \n\ngoogle: http://www.google.com/base/feeds/snippets/8175198959985911471: topics presents: museums of world \"5 cd-rom set. step behind the velvet rope to examine some of the most treasured collections of antiquities art and inventions. includes the following the louvre - virtual visit 25 rooms in full screen interactive video detailed map of the louvre ...\" \n\ngoogle: http://www.google.com/base/feeds/snippets/18445827127704822533: sierrahome hse hallmark card studio special edition win 98 me 2000 xp \"hallmark card studio special edition (win 98 me 2000 xp)\" \"sierrahome\"\n\namazon: b000jz4hqo: clickart 950 000 - premier image pack (dvd-rom)  \"broderbund\"\n\namazon: b0006zf55o: ca international - arcserve lap/desktop oem 30pk \"oem arcserve backup v11.1 win 30u for laptops and desktops\" \"computer associates\"\n\namazon: b00004tkvy: noah's ark activity center (jewel case ages 3-8)  \"victory multimedia\"\n\n"
     ]
    }
   ],
   "source": [
    "for line in googleSmall.take(3):\n",
    "    print('google: %s: %s\\n' % (line[0], line[1]))\n",
    "\n",
    "for line in amazonSmall.take(3):\n",
    "    print('amazon: %s: %s\\n' % (line[0], line[1]))"
   ]
  },
  {
   "cell_type": "markdown",
   "metadata": {
    "application/vnd.databricks.v1+cell": {
     "cellMetadata": {
      "byteLimit": 2048000,
      "rowLimit": 10000
     },
     "inputWidgets": {},
     "nuid": "43abdd05-a0c2-43ab-ad7a-139ca5f8f643",
     "showTitle": false,
     "tableResultSettingsMap": {},
     "title": ""
    }
   },
   "source": [
    "## Part 1: ER as Text Similarity - Bags of Words\n",
    "\n",
    "A simple approach to entity resolution is to treat all records as strings and compute their similarity with a string distance function. In this part, we will build some components for performing bag-of-words text-analysis, and then use them to compute record similarity.\n",
    "[Bag-of-words][bag-of-words] is a conceptually simple yet powerful approach to text analysis.\n",
    "\n",
    "The idea is to treat strings, a.k.a. **documents**, as *unordered collections* of words, or **tokens**, i.e., as bags of words.\n",
    "> **Note on terminology**: a \"token\" is the result of parsing the document down to the elements we consider \"atomic\" for the task at hand.  Tokens can be things like words, numbers, acronyms, or other exotica like word-roots or fixed-length character strings.\n",
    "> Bag of words techniques all apply to any sort of token, so when we say \"bag-of-words\" we really mean \"bag-of-tokens,\" strictly speaking.\n",
    "Tokens become the atomic unit of text comparison. If we want to compare two documents, we count how many tokens they share in common. If we want to search for documents with keyword queries (this is what Google does), then we turn the keywords into tokens and find documents that contain them. The power of this approach is that it makes string comparisons insensitive to small differences that probably do not affect meaning much, for example, punctuation and word order.\n",
    "[bag-of-words]: https://en.wikipedia.org/wiki/Bag-of-words_model"
   ]
  },
  {
   "cell_type": "markdown",
   "metadata": {
    "application/vnd.databricks.v1+cell": {
     "cellMetadata": {
      "byteLimit": 2048000,
      "rowLimit": 10000
     },
     "inputWidgets": {},
     "nuid": "c5c601f7-1d10-41e0-a7b2-ebe67013d1e9",
     "showTitle": false,
     "tableResultSettingsMap": {},
     "title": ""
    }
   },
   "source": [
    "### (1a) Tokenize a String\n",
    "Implement the function `tokenize(string)` that takes a string and returns a list of non-empty tokens in the string. `tokenize` should split strings using the provided regular expression. Since we want to make token-matching case insensitive, make sure all tokens are turned lower-case. Give an interpretation, in natural language, of what the regular expression, `split_regex = r’\\W+'`, matches.\n",
    "If you need help with Regular Expressions, try the site [regex101](https://regex101.com/) where you can interactively explore the results of applying different regular expressions to strings.\n",
    "\n",
    "*Note that `\\W` includes the \"_\" character*.\n",
    "\n",
    "You should use [re.split()](https://docs.python.org/3/library/re.html#re.split) to perform the string split. Also:\n",
    "\n",
    "* make sure you remove any empty tokens\n",
    "* make sure you convert the string to lower case.\n",
    "\n",
    "#### Removing stopwords\n",
    "*[Stopwords][stopwords]* are common (English) words that do not contribute much to the content or meaning of a document (e.g., \"the\", \"a\", \"is\", \"to\", etc.). Stopwords add noise to bag-of-words comparisons, so they are usually excluded.\n",
    "Using the included file \"stopwords.txt\", in `tokenize` make sure not to emit stopwords.\n",
    "[stopwords]: https://en.wikipedia.org/wiki/Stop_words"
   ]
  },
  {
   "cell_type": "code",
   "execution_count": 0,
   "metadata": {
    "application/vnd.databricks.v1+cell": {
     "cellMetadata": {
      "byteLimit": 2048000,
      "rowLimit": 10000
     },
     "inputWidgets": {},
     "nuid": "ba9a30d8-7c1d-4edb-96ac-cc7989e4a0bd",
     "showTitle": false,
     "tableResultSettingsMap": {},
     "title": ""
    },
    "deletable": false,
    "nbgrader": {
     "cell_type": "code",
     "checksum": "8c9869e6085bea726b13c21dd2890cad",
     "grade": false,
     "grade_id": "tokenize",
     "locked": false,
     "schema_version": 3,
     "solution": true,
     "task": false
    }
   },
   "outputs": [
    {
     "output_type": "stream",
     "name": "stdout",
     "output_type": "stream",
     "text": [
      "These are the stopwords: {'out', 'we', 'was', 'how', 'myself', 'for', 'they', 'about', 'then', 'both', 'so', 'don', 'as', 'any', 'after', 'you', 'why', 'been', 'where', 'by', 'yourself', 'a', 'did', 'their', 'doing', 'be', 'further', 'ours', 'now', 'am', 'her', 'yourselves', 'that', 'what', 'my', 'to', 'not', 'own', 'there', 'this', 'each', 'all', 'more', 'me', 'which', 'himself', 'nor', 'other', 'who', 'same', 'at', 'such', 't', 'up', 'than', 'can', 'too', 'these', 'while', 'before', 'ourselves', 'he', 'i', 'our', 'its', 'but', 'with', 'because', 'those', 'the', 'it', 'hers', 'just', 'over', 'between', 'had', 'does', 'have', 'and', 'some', 'or', 'only', 'when', 'below', 'in', 'if', 'theirs', 'again', 'his', 'whom', 'above', 'should', 'itself', 'themselves', 'until', 'are', 'she', 'will', 'from', 'into', 'no', 'your', 'few', 'herself', 'of', 'has', 'down', 'were', 'once', 'having', 'them', 'under', 'him', 'do', 'on', 'an', 'yours', 'being', 'off', 'very', 'through', 'most', 'against', 'here', 'is', 's', 'during'}\na quick brown fox jumps over the lazy dog\n['quick', 'brown', 'fox', 'jumps', 'lazy', 'dog']\n"
     ]
    }
   ],
   "source": [
    "stopfile = \"https://raw.githubusercontent.com/10605/data/master/hw1/stopwords.txt\"\n",
    "sc.addFile(stopfile)\n",
    "stopwords = set(sc.textFile(\"file:///\" + SparkFiles.get(\"stopwords.txt\")).collect())\n",
    "print('These are the stopwords: %s' % stopwords)\n",
    "quickbrownfox = 'a quick brown fox jumps over the lazy dog'\n",
    "\n",
    "def tokenize(string):\n",
    "    \"\"\" An implementation of input string tokenization that excludes stopwords\n",
    "    Args:\n",
    "        string (str): input string\n",
    "    Returns:\n",
    "        list: a list of tokens without stopwords\n",
    "    \"\"\"\n",
    "    # TODO: Uncomment the template below and replace <FILL IN> with appropriate code\n",
    "    # return <FILL IN>\n",
    "    \n",
    "    # YOUR CODE HERE\n",
    "\n",
    "\n",
    "    import re\n",
    "\n",
    "    split_regex = r'\\W+'\n",
    "    #text = \"Hello, world! This is an example: 123.\"\n",
    "    tokens = re.split(split_regex,string)\n",
    "    final=[]\n",
    "    for token in tokens:\n",
    "        if (token.lower() not in stopwords and len(token)>0) :\n",
    "            final.append(token.lower())\n",
    "    return final\n",
    "    raise NotImplementedError()\n",
    "\n",
    "print(quickbrownfox)\n",
    "print(tokenize(quickbrownfox)) # Should give ['quick', 'brown', ... ]"
   ]
  },
  {
   "cell_type": "code",
   "execution_count": 0,
   "metadata": {
    "application/vnd.databricks.v1+cell": {
     "cellMetadata": {
      "byteLimit": 2048000,
      "rowLimit": 10000
     },
     "inputWidgets": {},
     "nuid": "6131e97c-a823-4497-861c-2a6852b8af4d",
     "showTitle": false,
     "tableResultSettingsMap": {},
     "title": ""
    },
    "deletable": false,
    "editable": false,
    "nbgrader": {
     "cell_type": "code",
     "checksum": "ed896603c7fe8f21cf57847e40a61571",
     "grade": true,
     "grade_id": "tokenize_test",
     "locked": true,
     "points": 3,
     "schema_version": 3,
     "solution": false,
     "task": false
    },
    "tags": []
   },
   "outputs": [],
   "source": [
    "\"\"\"Check that 'why', 'a', 'the' are all stopping words\"\"\"\n",
    "assert_equal(tokenize(\"Why a the?\"), [])\n",
    "\"\"\"Check that the word character \\W includes _\"\"\"\n",
    "assert_equal(tokenize(\"Being at the_?\"), ['the_'])\n",
    "\"\"\"Check that the function first tokenizes the string, then removes stopping words\"\"\"\n",
    "assert_equal(tokenize(quickbrownfox), ['quick','brown','fox','jumps','lazy','dog'])"
   ]
  },
  {
   "cell_type": "markdown",
   "metadata": {
    "application/vnd.databricks.v1+cell": {
     "cellMetadata": {
      "byteLimit": 2048000,
      "rowLimit": 10000
     },
     "inputWidgets": {},
     "nuid": "527c08ca-fbd2-430b-8aaa-8149473c34da",
     "showTitle": false,
     "tableResultSettingsMap": {},
     "title": ""
    }
   },
   "source": [
    "### (1b) Tokenizing the small datasets\n",
    "Now let's tokenize the two *small* datasets. For each ID in a dataset, `tokenize` the values, and then count the total number of tokens.\n",
    "\n",
    "The resulting RDDs, `amazonRecToToken` and `googleRecToToken` should be collections of `(recordID, [token_list])` pairs. For instance, here's a record that should be found in the resulting `amazonRecToToken` RDD:\n",
    "\n",
    "```\n",
    "('b00004tkvy', ['noah', 'ark', 'activity', 'center', 'jewel', 'case', 'ages', '3', '8', 'victory', 'multimedia'])\n",
    "```\n",
    "\n",
    "How many tokens, total, are there in the two datasets?"
   ]
  },
  {
   "cell_type": "code",
   "execution_count": 0,
   "metadata": {
    "application/vnd.databricks.v1+cell": {
     "cellMetadata": {
      "byteLimit": 2048000,
      "rowLimit": 10000
     },
     "inputWidgets": {},
     "nuid": "c8667f5f-0ef6-4aa8-88ea-14e985c283bb",
     "showTitle": false,
     "tableResultSettingsMap": {},
     "title": ""
    }
   },
   "outputs": [
    {
     "output_type": "stream",
     "name": "stdout",
     "output_type": "stream",
     "text": [
      "[('b000jz4hqo', 'clickart 950 000 - premier image pack (dvd-rom)  \"broderbund\"'), ('b0006zf55o', 'ca international - arcserve lap/desktop oem 30pk \"oem arcserve backup v11.1 win 30u for laptops and desktops\" \"computer associates\"')]\n"
     ]
    }
   ],
   "source": [
    "print(amazonSmall.take(2))"
   ]
  },
  {
   "cell_type": "code",
   "execution_count": 0,
   "metadata": {
    "application/vnd.databricks.v1+cell": {
     "cellMetadata": {
      "byteLimit": 2048000,
      "rowLimit": 10000
     },
     "inputWidgets": {},
     "nuid": "48918a2d-c35e-44d7-8c2b-2fd1b16a3ec3",
     "showTitle": false,
     "tableResultSettingsMap": {},
     "title": ""
    },
    "deletable": false,
    "nbgrader": {
     "cell_type": "code",
     "checksum": "fe26dda79dcac70252f66481b0888ef1",
     "grade": false,
     "grade_id": "count_tokens",
     "locked": false,
     "schema_version": 3,
     "solution": true,
     "task": false
    }
   },
   "outputs": [
    {
     "output_type": "stream",
     "name": "stdout",
     "output_type": "stream",
     "text": [
      "There are 22520 tokens in the combined datasets\n"
     ]
    }
   ],
   "source": [
    "\n",
    "amazonRecToToken = amazonSmall.map(lambda x: (x[0], tokenize(x[1])))\n",
    "googleRecToToken = googleSmall.map(lambda x: (x[0], tokenize(x[1])))\n",
    "\n",
    "def countTokens(vendorRDD):\n",
    "    recordCount = vendorRDD.map(lambda x: len(x[1]))\n",
    "    recordSum = recordCount.reduce(lambda a, b: a + b)\n",
    "    return recordSum\n",
    "\n",
    "totalTokens = countTokens(amazonRecToToken) + countTokens(googleRecToToken)\n",
    "print('There are %s tokens in the combined datasets' % totalTokens)\n"
   ]
  },
  {
   "cell_type": "code",
   "execution_count": 0,
   "metadata": {
    "application/vnd.databricks.v1+cell": {
     "cellMetadata": {
      "byteLimit": 2048000,
      "rowLimit": 10000
     },
     "inputWidgets": {},
     "nuid": "891eefaf-69bd-46e8-ab32-935c5d9fefd4",
     "showTitle": false,
     "tableResultSettingsMap": {},
     "title": ""
    }
   },
   "outputs": [
    {
     "output_type": "execute_result",
     "data": {
      "text/plain": [
       "[('b000jz4hqo',\n",
       "  ['clickart',\n",
       "   '950',\n",
       "   '000',\n",
       "   'premier',\n",
       "   'image',\n",
       "   'pack',\n",
       "   'dvd',\n",
       "   'rom',\n",
       "   'broderbund']),\n",
       " ('b0006zf55o',\n",
       "  ['ca',\n",
       "   'international',\n",
       "   'arcserve',\n",
       "   'lap',\n",
       "   'desktop',\n",
       "   'oem',\n",
       "   '30pk',\n",
       "   'oem',\n",
       "   'arcserve',\n",
       "   'backup',\n",
       "   'v11',\n",
       "   '1',\n",
       "   'win',\n",
       "   '30u',\n",
       "   'laptops',\n",
       "   'desktops',\n",
       "   'computer',\n",
       "   'associates']),\n",
       " ('b00004tkvy',\n",
       "  ['noah',\n",
       "   'ark',\n",
       "   'activity',\n",
       "   'center',\n",
       "   'jewel',\n",
       "   'case',\n",
       "   'ages',\n",
       "   '3',\n",
       "   '8',\n",
       "   'victory',\n",
       "   'multimedia']),\n",
       " ('b000g80lqo',\n",
       "  ['peachtree',\n",
       "   'sage',\n",
       "   'premium',\n",
       "   'accounting',\n",
       "   'nonprofits',\n",
       "   '2007',\n",
       "   'peachtree',\n",
       "   'premium',\n",
       "   'accounting',\n",
       "   'nonprofits',\n",
       "   '2007',\n",
       "   'affordable',\n",
       "   'easy',\n",
       "   'use',\n",
       "   'accounting',\n",
       "   'solution',\n",
       "   'provides',\n",
       "   'donor',\n",
       "   'grantor',\n",
       "   'management',\n",
       "   're',\n",
       "   'like',\n",
       "   'nonprofit',\n",
       "   'organizations',\n",
       "   're',\n",
       "   'constantly',\n",
       "   'striving',\n",
       "   'maximize',\n",
       "   'every',\n",
       "   'dollar',\n",
       "   'annual',\n",
       "   'operating',\n",
       "   'budget',\n",
       "   'financial',\n",
       "   'reporting',\n",
       "   'programs',\n",
       "   'funds',\n",
       "   'advanced',\n",
       "   'operational',\n",
       "   'reporting',\n",
       "   'rock',\n",
       "   'solid',\n",
       "   'core',\n",
       "   'accounting',\n",
       "   'features',\n",
       "   'made',\n",
       "   'peachtree',\n",
       "   'choice',\n",
       "   'hundreds',\n",
       "   'thousands',\n",
       "   'small',\n",
       "   'businesses',\n",
       "   'result',\n",
       "   'accounting',\n",
       "   'solution',\n",
       "   'tailor',\n",
       "   'made',\n",
       "   'challenges',\n",
       "   'operating',\n",
       "   'nonprofit',\n",
       "   'organization',\n",
       "   'keep',\n",
       "   'audit',\n",
       "   'trail',\n",
       "   'record',\n",
       "   'report',\n",
       "   'changes',\n",
       "   'made',\n",
       "   'transactions',\n",
       "   'improve',\n",
       "   'data',\n",
       "   'integrity',\n",
       "   'prior',\n",
       "   'period',\n",
       "   'locking',\n",
       "   'archive',\n",
       "   'organization',\n",
       "   'data',\n",
       "   'snap',\n",
       "   'shots',\n",
       "   'data',\n",
       "   'closed',\n",
       "   'year',\n",
       "   'set',\n",
       "   'individual',\n",
       "   'user',\n",
       "   'profiles',\n",
       "   'password',\n",
       "   'protection',\n",
       "   'peachtree',\n",
       "   'restore',\n",
       "   'wizard',\n",
       "   'restores',\n",
       "   'backed',\n",
       "   'data',\n",
       "   'files',\n",
       "   'plus',\n",
       "   'web',\n",
       "   'transactions',\n",
       "   'customized',\n",
       "   'forms',\n",
       "   'includes',\n",
       "   'standard',\n",
       "   'accounting',\n",
       "   'features',\n",
       "   'general',\n",
       "   'ledger',\n",
       "   'accounts',\n",
       "   'receivable',\n",
       "   'accounts',\n",
       "   'payable',\n",
       "   'payroll',\n",
       "   'solutions',\n",
       "   'time',\n",
       "   'billing',\n",
       "   'job',\n",
       "   'costing',\n",
       "   'fixed',\n",
       "   'assets',\n",
       "   'analysis',\n",
       "   'reporting',\n",
       "   'customization',\n",
       "   'easily',\n",
       "   'convert',\n",
       "   'quickbooks',\n",
       "   'sage',\n",
       "   'software']),\n",
       " ('b0006se5bq',\n",
       "  ['singing',\n",
       "   'coach',\n",
       "   'unlimited',\n",
       "   'singing',\n",
       "   'coach',\n",
       "   'unlimited',\n",
       "   'electronic',\n",
       "   'learning',\n",
       "   'products',\n",
       "   'win',\n",
       "   'nt',\n",
       "   '2000',\n",
       "   'xp',\n",
       "   'carry',\n",
       "   'tune',\n",
       "   'technologies']),\n",
       " ('b000ehpzv8',\n",
       "  ['emc',\n",
       "   'retrospect',\n",
       "   '7',\n",
       "   '5',\n",
       "   'disk',\n",
       "   'disk',\n",
       "   'windows',\n",
       "   'emc',\n",
       "   'retrospect',\n",
       "   '7',\n",
       "   '5',\n",
       "   'disk',\n",
       "   'diskcromwindows',\n",
       "   'dantz']),\n",
       " ('b00021xhzw',\n",
       "  ['adobe',\n",
       "   'effects',\n",
       "   'professional',\n",
       "   '6',\n",
       "   '5',\n",
       "   'upgrade',\n",
       "   'standard',\n",
       "   'professional',\n",
       "   'upgrade',\n",
       "   'installation',\n",
       "   'effects',\n",
       "   'standard',\n",
       "   'new',\n",
       "   'disk',\n",
       "   'caching',\n",
       "   'tools',\n",
       "   'speed',\n",
       "   'interactive',\n",
       "   'work',\n",
       "   'save',\n",
       "   'combination',\n",
       "   'animation',\n",
       "   'parameters',\n",
       "   'presets',\n",
       "   'create',\n",
       "   'transformations',\n",
       "   'masks',\n",
       "   'expressions',\n",
       "   'effects',\n",
       "   'text',\n",
       "   'tighter',\n",
       "   'integration',\n",
       "   'adobe',\n",
       "   'tools',\n",
       "   'import',\n",
       "   'photoshop',\n",
       "   'cs',\n",
       "   'illustrator',\n",
       "   'cs',\n",
       "   'files',\n",
       "   'preserved',\n",
       "   'layers',\n",
       "   'attributes',\n",
       "   'output',\n",
       "   'firewire',\n",
       "   'easier',\n",
       "   'previewing',\n",
       "   'ntsc',\n",
       "   'pal',\n",
       "   'video',\n",
       "   'monitors',\n",
       "   'adobe']),\n",
       " ('b000gzwjgc',\n",
       "  ['acad',\n",
       "   'upgrade',\n",
       "   'dragon',\n",
       "   'naturallyspeaking',\n",
       "   'pro',\n",
       "   'solution',\n",
       "   '9',\n",
       "   '0',\n",
       "   'a289a',\n",
       "   'fd7',\n",
       "   '9',\n",
       "   '0',\n",
       "   'marketing',\n",
       "   'information',\n",
       "   'dragon',\n",
       "   'naturallyspeakingprofessional',\n",
       "   '9',\n",
       "   'saveyou',\n",
       "   'organizationmoney',\n",
       "   'itempowers',\n",
       "   'anyone',\n",
       "   'tocreate',\n",
       "   'documents',\n",
       "   'overthree',\n",
       "   'times',\n",
       "   'faster',\n",
       "   'thantyping',\n",
       "   'also',\n",
       "   'protectsagainst',\n",
       "   'repetitive',\n",
       "   'stressinjuries',\n",
       "   'result',\n",
       "   'lostproductivity',\n",
       "   'higher',\n",
       "   'workers',\n",
       "   'compensationpremiums',\n",
       "   'higher',\n",
       "   'temporary',\n",
       "   'labor',\n",
       "   'costs',\n",
       "   'accuracy',\n",
       "   'performance',\n",
       "   'ease',\n",
       "   'use',\n",
       "   'indragon',\n",
       "   'naturallyspeaking',\n",
       "   'professional',\n",
       "   '9make',\n",
       "   'ideal',\n",
       "   'solution',\n",
       "   'busy',\n",
       "   'corporateprofessionals',\n",
       "   'employees',\n",
       "   'canuse',\n",
       "   'dragon',\n",
       "   'naturallyspeaking',\n",
       "   'professionalto',\n",
       "   'create',\n",
       "   'documents',\n",
       "   'email',\n",
       "   'messages',\n",
       "   'write',\n",
       "   'reports',\n",
       "   'complete',\n",
       "   'forms',\n",
       "   'voice',\n",
       "   'product',\n",
       "   'information',\n",
       "   'software',\n",
       "   'sub',\n",
       "   'type',\n",
       "   'voice',\n",
       "   'recognition',\n",
       "   'software',\n",
       "   'name',\n",
       "   'dragon',\n",
       "   'naturallyspeaking',\n",
       "   'v',\n",
       "   '9',\n",
       "   '0',\n",
       "   'professional',\n",
       "   'upgrade',\n",
       "   'features',\n",
       "   'benefits',\n",
       "   'accurate',\n",
       "   'ever',\n",
       "   'faster',\n",
       "   'safer',\n",
       "   'typing',\n",
       "   'section',\n",
       "   '508',\n",
       "   'certified',\n",
       "   'easy',\n",
       "   'use',\n",
       "   'special',\n",
       "   'user',\n",
       "   'training',\n",
       "   'required',\n",
       "   'support',\n",
       "   'citrix',\n",
       "   'thin',\n",
       "   'client',\n",
       "   'environments',\n",
       "   'enterprise',\n",
       "   'ready',\n",
       "   'ease',\n",
       "   'administration',\n",
       "   'mobility',\n",
       "   'bluetooth',\n",
       "   'support',\n",
       "   'robust',\n",
       "   'customization',\n",
       "   'natural',\n",
       "   'language',\n",
       "   'capabilities',\n",
       "   'text',\n",
       "   'speech',\n",
       "   'language',\n",
       "   'support',\n",
       "   'english',\n",
       "   'platform',\n",
       "   'support',\n",
       "   'pc',\n",
       "   'miscellaneous',\n",
       "   'compatibility',\n",
       "   'microsoft',\n",
       "   'office',\n",
       "   'applications',\n",
       "   'word',\n",
       "   'excel',\n",
       "   'outlook',\n",
       "   'andpowerpoint',\n",
       "   'corel',\n",
       "   'wordperfect',\n",
       "   'nuance',\n",
       "   'academic']),\n",
       " ('b0000dbykm',\n",
       "  ['mia',\n",
       "   'math',\n",
       "   'adventure',\n",
       "   'time',\n",
       "   'mia',\n",
       "   'math',\n",
       "   'adventure',\n",
       "   'time',\n",
       "   'children',\n",
       "   'help',\n",
       "   'mia',\n",
       "   'save',\n",
       "   'house',\n",
       "   'using',\n",
       "   'math',\n",
       "   'skills',\n",
       "   'kutoka']),\n",
       " ('b00029bqa2',\n",
       "  ['disney',\n",
       "   '1st',\n",
       "   '2nd',\n",
       "   'grade',\n",
       "   'bundle',\n",
       "   'pixar',\n",
       "   '1st',\n",
       "   'grade',\n",
       "   'secret',\n",
       "   'keys',\n",
       "   'aladdin',\n",
       "   'reading',\n",
       "   'quest',\n",
       "   'disney',\n",
       "   '1st',\n",
       "   '2nd',\n",
       "   'grade',\n",
       "   'bundle',\n",
       "   'help',\n",
       "   'child',\n",
       "   'learn',\n",
       "   'challenging',\n",
       "   'imagination',\n",
       "   'skill',\n",
       "   'building',\n",
       "   'activities',\n",
       "   'develop',\n",
       "   'love',\n",
       "   'education',\n",
       "   'child',\n",
       "   'features',\n",
       "   'disney',\n",
       "   'pixar',\n",
       "   'buzz',\n",
       "   'lightyear',\n",
       "   'learning',\n",
       "   '1st',\n",
       "   'grade',\n",
       "   'aladdin',\n",
       "   'reading',\n",
       "   'quest',\n",
       "   'disney',\n",
       "   'search',\n",
       "   'secret',\n",
       "   'keys',\n",
       "   'disney']),\n",
       " ('b0007prnjo',\n",
       "  ['paper',\n",
       "   'art',\n",
       "   'gift',\n",
       "   'wrapping',\n",
       "   'many',\n",
       "   'times',\n",
       "   'heard',\n",
       "   'thought',\n",
       "   'counts',\n",
       "   'especially',\n",
       "   'true',\n",
       "   'comes',\n",
       "   'giftseven',\n",
       "   'simple',\n",
       "   'gift',\n",
       "   'thoughtfully',\n",
       "   'presented',\n",
       "   'bring',\n",
       "   'special',\n",
       "   'joy',\n",
       "   'recipient',\n",
       "   'well',\n",
       "   'giver',\n",
       "   'cd',\n",
       "   'beautiful',\n",
       "   'guide',\n",
       "   'gift',\n",
       "   'wrapping',\n",
       "   'need',\n",
       "   'know',\n",
       "   'paper',\n",
       "   'fabric',\n",
       "   'different',\n",
       "   'tools',\n",
       "   'special',\n",
       "   'effects',\n",
       "   'basic',\n",
       "   'advanced',\n",
       "   'techniques',\n",
       "   'boxes',\n",
       "   'cylinders',\n",
       "   'baskets',\n",
       "   'bags',\n",
       "   'system',\n",
       "   'requirements',\n",
       "   'windows',\n",
       "   'windows',\n",
       "   '98',\n",
       "   '2000',\n",
       "   'xp',\n",
       "   '386',\n",
       "   'faster',\n",
       "   '8',\n",
       "   'mb',\n",
       "   'ram',\n",
       "   '640x480',\n",
       "   'monitor',\n",
       "   '256',\n",
       "   'colors',\n",
       "   '16',\n",
       "   'bit',\n",
       "   'color',\n",
       "   'better',\n",
       "   'recommended',\n",
       "   'soundblaster',\n",
       "   'compatible',\n",
       "   'sound',\n",
       "   'card',\n",
       "   'speakers',\n",
       "   '2x',\n",
       "   'cd',\n",
       "   'rom',\n",
       "   'drive',\n",
       "   'system',\n",
       "   'requirements',\n",
       "   'macintosh',\n",
       "   'mac',\n",
       "   'os',\n",
       "   '7',\n",
       "   '09',\n",
       "   '2',\n",
       "   'os',\n",
       "   'x',\n",
       "   'classic',\n",
       "   'mode',\n",
       "   '8',\n",
       "   'mb',\n",
       "   'ram',\n",
       "   '640x480',\n",
       "   'monitor',\n",
       "   '256',\n",
       "   'colors',\n",
       "   'thousands',\n",
       "   'colors',\n",
       "   'better',\n",
       "   'recommended',\n",
       "   '2x',\n",
       "   'cd',\n",
       "   'rom',\n",
       "   'drive',\n",
       "   'arc',\n",
       "   'media',\n",
       "   'inc']),\n",
       " ('b000aazr5i',\n",
       "  ['nfs',\n",
       "   'maestro',\n",
       "   'solo',\n",
       "   '2006',\n",
       "   '1u',\n",
       "   'marketing',\n",
       "   'information',\n",
       "   'nfs',\n",
       "   'maestro',\n",
       "   'solo',\n",
       "   'de',\n",
       "   'facto',\n",
       "   'standard',\n",
       "   'network',\n",
       "   'file',\n",
       "   'system',\n",
       "   'protocol',\n",
       "   'pc',\n",
       "   'supports',\n",
       "   'latest',\n",
       "   'nfs',\n",
       "   'technologies',\n",
       "   'including',\n",
       "   'nfsv4',\n",
       "   'nfs',\n",
       "   'tcp',\n",
       "   'webnfs',\n",
       "   'advanced',\n",
       "   'nfs',\n",
       "   'features',\n",
       "   'strong',\n",
       "   'security',\n",
       "   'seamless',\n",
       "   'integration',\n",
       "   'windows',\n",
       "   'operating',\n",
       "   'systems',\n",
       "   'comprehensive',\n",
       "   'support',\n",
       "   'enterprise',\n",
       "   'directory',\n",
       "   'services',\n",
       "   'make',\n",
       "   'nfs',\n",
       "   'maestro',\n",
       "   'solo',\n",
       "   'advanced',\n",
       "   'secured',\n",
       "   'pc',\n",
       "   'nfs',\n",
       "   'client',\n",
       "   'also',\n",
       "   'provides',\n",
       "   'bi',\n",
       "   'directional',\n",
       "   'file',\n",
       "   'printer',\n",
       "   'access',\n",
       "   'windows',\n",
       "   'nfs',\n",
       "   'enabled',\n",
       "   'hosts',\n",
       "   'product',\n",
       "   'information',\n",
       "   'software',\n",
       "   'sub',\n",
       "   'type',\n",
       "   'emulation',\n",
       "   'software',\n",
       "   'name',\n",
       "   'nfs',\n",
       "   'maestro',\n",
       "   'solo',\n",
       "   '2006',\n",
       "   'complete',\n",
       "   'product',\n",
       "   'features',\n",
       "   'benefits',\n",
       "   'support',\n",
       "   'operations',\n",
       "   'ipv6',\n",
       "   'networking',\n",
       "   'new',\n",
       "   'unicode',\n",
       "   'support',\n",
       "   'support',\n",
       "   'setuid',\n",
       "   'setgid',\n",
       "   'connection',\n",
       "   'specific',\n",
       "   'rpcsec_gss',\n",
       "   'type',\n",
       "   'service',\n",
       "   'symbolic',\n",
       "   'links',\n",
       "   'creation',\n",
       "   'nfs',\n",
       "   'support',\n",
       "   'supports',\n",
       "   'nfs',\n",
       "   'version',\n",
       "   '2',\n",
       "   '3',\n",
       "   '4',\n",
       "   'rfc',\n",
       "   '1094',\n",
       "   'rfc1813',\n",
       "   'rfc3530',\n",
       "   'client',\n",
       "   'server',\n",
       "   'implementations',\n",
       "   'kernel',\n",
       "   'mode',\n",
       "   'implementation',\n",
       "   'native',\n",
       "   '32',\n",
       "   'bit',\n",
       "   '64',\n",
       "   'bit',\n",
       "   'implementation',\n",
       "   'supports',\n",
       "   'operation',\n",
       "   'ipv6',\n",
       "   'networks',\n",
       "   'supports',\n",
       "   'setuid',\n",
       "   'setgid',\n",
       "   'supports',\n",
       "   'webnfs',\n",
       "   'rfc2054',\n",
       "   'nfs',\n",
       "   'tcp',\n",
       "   'supports',\n",
       "   '32',\n",
       "   'bit',\n",
       "   'file',\n",
       "   'locking',\n",
       "   'hard',\n",
       "   'soft',\n",
       "   'mount',\n",
       "   'supports',\n",
       "   'microsoft',\n",
       "   'unc',\n",
       "   'unlimited',\n",
       "   'remote',\n",
       "   'drives',\n",
       "   'printers',\n",
       "   'cache',\n",
       "   'manager',\n",
       "   'device',\n",
       "   'less',\n",
       "   'connection',\n",
       "   'support',\n",
       "   'creates',\n",
       "   'supports',\n",
       "   'symbolic',\n",
       "   'links',\n",
       "   'nfsv4',\n",
       "   'compatible',\n",
       "   'command',\n",
       "   'line',\n",
       "   'applications',\n",
       "   'directory',\n",
       "   'services',\n",
       "   'support',\n",
       "   'supports',\n",
       "   'nis',\n",
       "   'nis',\n",
       "   'ldap',\n",
       "   'microsoft',\n",
       "   'active',\n",
       "   'directory',\n",
       "   'support',\n",
       "   'sc',\n",
       "   'hummingbird',\n",
       "   'communications']),\n",
       " ('b000bhl1r8',\n",
       "  ['microsoft',\n",
       "   'sql',\n",
       "   'server',\n",
       "   'standard',\n",
       "   'edition',\n",
       "   '2005',\n",
       "   '64',\n",
       "   'bit',\n",
       "   'cd',\n",
       "   'dvd',\n",
       "   '5',\n",
       "   'client',\n",
       "   'sql',\n",
       "   'server',\n",
       "   'comprehensive',\n",
       "   'integrated',\n",
       "   'end',\n",
       "   'end',\n",
       "   'data',\n",
       "   'solution',\n",
       "   'empowers',\n",
       "   'users',\n",
       "   'across',\n",
       "   'organization',\n",
       "   'providing',\n",
       "   'secure',\n",
       "   'reliable',\n",
       "   'productive',\n",
       "   'platform',\n",
       "   'enterprise',\n",
       "   'data',\n",
       "   'business',\n",
       "   'intelligence',\n",
       "   'bi',\n",
       "   'applications',\n",
       "   'sql',\n",
       "   'server',\n",
       "   '2005',\n",
       "   'delivers',\n",
       "   'powerful',\n",
       "   'familiar',\n",
       "   'tools',\n",
       "   'information',\n",
       "   'technology',\n",
       "   'professionals',\n",
       "   'well',\n",
       "   'information',\n",
       "   'workers',\n",
       "   'reducing',\n",
       "   'complexity',\n",
       "   'creating',\n",
       "   'deploying',\n",
       "   'managing',\n",
       "   'using',\n",
       "   'enterprise',\n",
       "   'data',\n",
       "   'analytical',\n",
       "   'applications',\n",
       "   'platforms',\n",
       "   'ranging',\n",
       "   'mobile',\n",
       "   'devices',\n",
       "   'enterprise',\n",
       "   'data',\n",
       "   'systems',\n",
       "   'comprehensive',\n",
       "   'feature',\n",
       "   'set',\n",
       "   'interoperability',\n",
       "   'existing',\n",
       "   'systems',\n",
       "   'automation',\n",
       "   'routine',\n",
       "   'tasks',\n",
       "   'sql',\n",
       "   'server',\n",
       "   '2005',\n",
       "   'provides',\n",
       "   'complete',\n",
       "   'data',\n",
       "   'solution',\n",
       "   'enterprises',\n",
       "   'sizes',\n",
       "   'microsoft']),\n",
       " ('b000i82j80', ['spy', 'sweeper', 'spanish', 'webroot', 'software']),\n",
       " ('b00006hmwc',\n",
       "  ['domino',\n",
       "   'designer',\n",
       "   'developer',\n",
       "   'v5',\n",
       "   '0',\n",
       "   'reference',\n",
       "   'domino',\n",
       "   'designer',\n",
       "   'developer',\n",
       "   'r5',\n",
       "   'doc',\n",
       "   'pack',\n",
       "   'includes',\n",
       "   'following',\n",
       "   'titles',\n",
       "   'application',\n",
       "   'development',\n",
       "   'domino',\n",
       "   'designer',\n",
       "   'intermediate',\n",
       "   'advanced',\n",
       "   '536',\n",
       "   'pages',\n",
       "   'explains',\n",
       "   'building',\n",
       "   'applications',\n",
       "   'creating',\n",
       "   'databases',\n",
       "   'using',\n",
       "   'forms',\n",
       "   'fields',\n",
       "   'views',\n",
       "   'folders',\n",
       "   'navi',\n",
       "   'lotus',\n",
       "   'development']),\n",
       " ('b000in6u62', ['omnioutliner', 'professional', '3', '0', 'csdc']),\n",
       " ('b000083k56',\n",
       "  ['compaq',\n",
       "   'comp',\n",
       "   'secure',\n",
       "   'path',\n",
       "   'v3',\n",
       "   '0c',\n",
       "   'netware',\n",
       "   'wrkgrp',\n",
       "   '50',\n",
       "   'lic',\n",
       "   '231327',\n",
       "   'b22',\n",
       "   'compaq',\n",
       "   'computer']),\n",
       " ('b00006hvvo',\n",
       "  ['upg',\n",
       "   'sgms',\n",
       "   '1000',\n",
       "   'incremental',\n",
       "   'node',\n",
       "   'today',\n",
       "   'enterprises',\n",
       "   'service',\n",
       "   'providers',\n",
       "   'face',\n",
       "   'increasing',\n",
       "   'security',\n",
       "   'challenges',\n",
       "   'distributed',\n",
       "   'networks',\n",
       "   'security',\n",
       "   'virus',\n",
       "   'attacks',\n",
       "   'enforcing',\n",
       "   'security',\n",
       "   'policies',\n",
       "   'distributed',\n",
       "   'network',\n",
       "   'grows',\n",
       "   'branches',\n",
       "   'multiple',\n",
       "   'subnetworks',\n",
       "   'linked',\n",
       "   'internet',\n",
       "   'complexity',\n",
       "   'managing',\n",
       "   'security',\n",
       "   'appliances',\n",
       "   'security',\n",
       "   'policies',\n",
       "   'updates',\n",
       "   'single',\n",
       "   'flaw',\n",
       "   'security',\n",
       "   'implementation',\n",
       "   'point',\n",
       "   'network',\n",
       "   'expose',\n",
       "   'entire',\n",
       "   'infrastructure',\n",
       "   'allowing',\n",
       "   'malicious',\n",
       "   'access',\n",
       "   'important',\n",
       "   'data',\n",
       "   'files',\n",
       "   'severe',\n",
       "   'consequences',\n",
       "   'managing',\n",
       "   'security',\n",
       "   'distributed',\n",
       "   'networks',\n",
       "   'site',\n",
       "   'site',\n",
       "   'basis',\n",
       "   'time',\n",
       "   'consuming',\n",
       "   'expensive',\n",
       "   'unreliable',\n",
       "   'putting',\n",
       "   'big',\n",
       "   'strain',\n",
       "   'already',\n",
       "   'limited',\n",
       "   'resources',\n",
       "   'sonicwall',\n",
       "   'global',\n",
       "   'management',\n",
       "   'system',\n",
       "   'sonicwall',\n",
       "   'gms',\n",
       "   'standard',\n",
       "   'edition',\n",
       "   'enables',\n",
       "   'distributed',\n",
       "   'enterprises',\n",
       "   'service',\n",
       "   'providers',\n",
       "   'manage',\n",
       "   'thousands',\n",
       "   'sonicwall',\n",
       "   'internet',\n",
       "   'security',\n",
       "   'appliances',\n",
       "   'central',\n",
       "   'location',\n",
       "   'powerful',\n",
       "   'flexible',\n",
       "   'intuitive',\n",
       "   'application',\n",
       "   'sonicwall',\n",
       "   'gms',\n",
       "   'delivers',\n",
       "   'cost',\n",
       "   'effective',\n",
       "   'global',\n",
       "   'security',\n",
       "   'management',\n",
       "   'solution',\n",
       "   'reduces',\n",
       "   'staffing',\n",
       "   'requirements',\n",
       "   'speeds',\n",
       "   'deployment',\n",
       "   'lowers',\n",
       "   'cost',\n",
       "   'managing',\n",
       "   'security',\n",
       "   'services',\n",
       "   'sonicwall',\n",
       "   'gms',\n",
       "   'gives',\n",
       "   'administrators',\n",
       "   'integrated',\n",
       "   'tools',\n",
       "   'manage',\n",
       "   'security',\n",
       "   'policies',\n",
       "   'services',\n",
       "   'throughout',\n",
       "   'large',\n",
       "   'scale',\n",
       "   'multiple',\n",
       "   'policy',\n",
       "   'enterprise',\n",
       "   'service',\n",
       "   'provider',\n",
       "   'environment',\n",
       "   'administrators',\n",
       "   'easily',\n",
       "   'configure',\n",
       "   'sonicwall',\n",
       "   'firewall',\n",
       "   'settings',\n",
       "   'deploy',\n",
       "   'vpn',\n",
       "   'user',\n",
       "   'add',\n",
       "   'sonicwall',\n",
       "   'upgrade',\n",
       "   'subscription',\n",
       "   'services',\n",
       "   'gateway',\n",
       "   'anti',\n",
       "   'virus',\n",
       "   'anti',\n",
       "   'spyware',\n",
       "   'intrusion',\n",
       "   'prevention',\n",
       "   'service',\n",
       "   'complete',\n",
       "   'anti',\n",
       "   'virus',\n",
       "   'content',\n",
       "   'filtering',\n",
       "   'service',\n",
       "   'click',\n",
       "   'button',\n",
       "   'sonic',\n",
       "   'systems',\n",
       "   'inc']),\n",
       " ('b0000ycfcw',\n",
       "  ['human',\n",
       "   'body',\n",
       "   'topics',\n",
       "   'presents',\n",
       "   'human',\n",
       "   'body',\n",
       "   'll',\n",
       "   'uncover',\n",
       "   'deepest',\n",
       "   'mysteries',\n",
       "   'complexities',\n",
       "   'human',\n",
       "   'form',\n",
       "   'complete',\n",
       "   'introduction',\n",
       "   'anatomy',\n",
       "   'physiology',\n",
       "   'topics',\n",
       "   'entertainment']),\n",
       " ('b00066dd5m',\n",
       "  ['school',\n",
       "   'zone',\n",
       "   'pencil',\n",
       "   'pal',\n",
       "   'software',\n",
       "   'big',\n",
       "   'phonics',\n",
       "   'cd',\n",
       "   'rom',\n",
       "   'book',\n",
       "   'school',\n",
       "   'zone',\n",
       "   'interactive'])]"
      ]
     },
     "execution_count": 107,
     "metadata": {},
     "output_type": "execute_result"
    }
   ],
   "source": [
    "amazonRecToToken.take(20)"
   ]
  },
  {
   "cell_type": "code",
   "execution_count": 0,
   "metadata": {
    "application/vnd.databricks.v1+cell": {
     "cellMetadata": {
      "byteLimit": 2048000,
      "rowLimit": 10000
     },
     "inputWidgets": {},
     "nuid": "8a39e592-5c71-4ed4-822c-45690b6c19d2",
     "showTitle": false,
     "tableResultSettingsMap": {},
     "title": ""
    },
    "deletable": false,
    "editable": false,
    "nbgrader": {
     "cell_type": "code",
     "checksum": "a4d2bdb97558aeb91374f9aed423540b",
     "grade": true,
     "grade_id": "count_tokens_test",
     "locked": true,
     "points": 3,
     "schema_version": 3,
     "solution": false,
     "task": false
    },
    "tags": []
   },
   "outputs": [],
   "source": [
    "\"\"\"Check that the total number of tokens in two datasets are 22520\"\"\"\n",
    "assert_equal(totalTokens, 22520)"
   ]
  },
  {
   "cell_type": "markdown",
   "metadata": {
    "application/vnd.databricks.v1+cell": {
     "cellMetadata": {
      "byteLimit": 2048000,
      "rowLimit": 10000
     },
     "inputWidgets": {},
     "nuid": "3df6f4f2-4053-4af0-a86f-b9fbd2177963",
     "showTitle": false,
     "tableResultSettingsMap": {},
     "title": ""
    }
   },
   "source": [
    "### (1c) Amazon record with the most tokens\n",
    "Which Amazon record has the biggest number of tokens?\n",
    "In other words, you want to sort the records and get the one with the largest count of tokens.\n",
    "\n",
    "**Hint**: The RDD [takeOrdered()](https://spark.apache.org/docs/3.4.0/api/python/reference/api/pyspark.RDD.takeOrdered.html) transformation may be of some help here."
   ]
  },
  {
   "cell_type": "code",
   "execution_count": 0,
   "metadata": {
    "application/vnd.databricks.v1+cell": {
     "cellMetadata": {
      "byteLimit": 2048000,
      "rowLimit": 10000
     },
     "inputWidgets": {},
     "nuid": "9ee3a791-4228-4f6b-8fb8-cd817fcc088e",
     "showTitle": false,
     "tableResultSettingsMap": {},
     "title": ""
    },
    "deletable": false,
    "nbgrader": {
     "cell_type": "code",
     "checksum": "968c9afea112c9ed93ff32f7dbf03432",
     "grade": false,
     "grade_id": "find_biggest_record",
     "locked": false,
     "schema_version": 3,
     "solution": true,
     "task": false
    }
   },
   "outputs": [
    {
     "output_type": "stream",
     "name": "stdout",
     "output_type": "stream",
     "text": [
      "The Amazon record with ID \"b000o24l3q\" has the most tokens (1547)\n"
     ]
    }
   ],
   "source": [
    "def findBiggestRecord(vendorRDD):\n",
    "    \"\"\" Find and return the record with the largest number of tokens\n",
    "    Args:\n",
    "        vendorRDD (RDD of (recordId, tokens)): input Pair Tuple of record ID and tokens\n",
    "    Returns:\n",
    "        list: a list of 1 Pair Tuple of record ID and tokens\n",
    "    \"\"\"\n",
    "    # Find the record with the largest number of tokens\n",
    "    return vendorRDD.takeOrdered(1, key=lambda x: -len(x[1]))  # Sort descending by token count\n",
    "\n",
    "# Find the biggest record in Amazon dataset\n",
    "biggestRecordAmazon = findBiggestRecord(amazonRecToToken)\n",
    "\n",
    "# Print the result\n",
    "print('The Amazon record with ID \"%s\" has the most tokens (%s)' % (biggestRecordAmazon[0][0],\n",
    "                                                                   len(biggestRecordAmazon[0][1])))\n"
   ]
  },
  {
   "cell_type": "code",
   "execution_count": 0,
   "metadata": {
    "application/vnd.databricks.v1+cell": {
     "cellMetadata": {
      "byteLimit": 2048000,
      "rowLimit": 10000
     },
     "inputWidgets": {},
     "nuid": "39312e1f-9746-45fd-a8bb-e0954b2f1941",
     "showTitle": false,
     "tableResultSettingsMap": {},
     "title": ""
    },
    "deletable": false,
    "editable": false,
    "nbgrader": {
     "cell_type": "code",
     "checksum": "5884fd37c74643ea47ff83e6f85375d6",
     "grade": true,
     "grade_id": "find_biggest_record_test",
     "locked": true,
     "points": 3,
     "schema_version": 3,
     "solution": false,
     "task": false
    },
    "tags": []
   },
   "outputs": [],
   "source": [
    "\"\"\"Check that some record has the largest number of tokens 1547\"\"\"\n",
    "assert_equal(len(biggestRecordAmazon[0][1]), 1547)"
   ]
  },
  {
   "cell_type": "markdown",
   "metadata": {
    "application/vnd.databricks.v1+cell": {
     "cellMetadata": {
      "byteLimit": 2048000,
      "rowLimit": 10000
     },
     "inputWidgets": {},
     "nuid": "f4c6512d-72c8-402c-8dcb-64dd46605df3",
     "showTitle": false,
     "tableResultSettingsMap": {},
     "title": ""
    }
   },
   "source": [
    "## Part 2: ER as Text Similarity - Weighted Bag-of-Words using TF-IDF\n",
    "Bag-of-words comparisons are not very good when all tokens are treated the same: some tokens are more important than others. Weights give us a way to specify which tokens to favor. With weights, when we compare documents, instead of counting common tokens, we sum up the weights of common tokens. A good heuristic for assigning weights is called \"Term-Frequency/Inverse-Document-Frequency,\" or [TF-IDF][tfidf] for short.\n",
    "\n",
    "### TF\n",
    "\n",
    "TF rewards tokens that appear many times in the same document. It is computed as the frequency of a token in a document, that is, if document *d* contains 100 tokens and token *t* appears in *d* 5 times, then the TF weight of *t* in *d* is *5/100 = 1/20*. The intuition for TF is that if a word occurs often in a document, then it is more important to the meaning of the document.\n",
    "\n",
    "### IDF\n",
    "\n",
    "IDF rewards tokens that are rare overall in a dataset. The intuition is that it is more significant if two documents share a rare word than a common one. IDF weight for a token, *t*, in a set of documents, *U*, is computed as follows:\n",
    "* Let *N* be the total number of documents in *U*\n",
    "* Find *n(t)*, the number of documents in *U* that contain *t*\n",
    "* Then *IDF(t) = N/n(t)*.\n",
    "\n",
    "Note that *n(t)/N* is the frequency of *t* in *U*, and *N/n(t)* is the inverse frequency.\n",
    "\n",
    "> **Note on terminology**: Sometimes token weights depend on the document the token belongs to, that is, the same token may have a different weight when it's found in different documents.  We call these weights *local* weights.  TF is an example of a local weight, because it depends on the length of the source.  On the other hand, some token weights only depend on the token, and are the same everywhere that token is found.  We call these weights *global*, and IDF is one such weight.\n",
    "\n",
    "### TF-IDF\n",
    "\n",
    "Finally, to bring it all together, the total TF-IDF weight for a token in a document is the product of its TF and IDF weights.\n",
    "[tfidf]: https://en.wikipedia.org/wiki/Tf%E2%80%93idf"
   ]
  },
  {
   "cell_type": "markdown",
   "metadata": {
    "application/vnd.databricks.v1+cell": {
     "cellMetadata": {
      "byteLimit": 2048000,
      "rowLimit": 10000
     },
     "inputWidgets": {},
     "nuid": "5a60ab90-de86-4e22-b22b-8e3c3b3ae634",
     "showTitle": false,
     "tableResultSettingsMap": {},
     "title": ""
    }
   },
   "source": [
    "### (2a) Implement a TF function\n",
    "\n",
    "Implement `tf(tokens)` that takes a list of tokens and returns a Python [dictionary](https://docs.python.org/3/tutorial/datastructures.html#dictionaries) mapping tokens to TF weights."
   ]
  },
  {
   "cell_type": "code",
   "execution_count": 0,
   "metadata": {
    "application/vnd.databricks.v1+cell": {
     "cellMetadata": {
      "byteLimit": 2048000,
      "rowLimit": 10000
     },
     "inputWidgets": {},
     "nuid": "70a5558a-4c5c-460d-b869-328709a26fb9",
     "showTitle": false,
     "tableResultSettingsMap": {},
     "title": ""
    },
    "deletable": false,
    "nbgrader": {
     "cell_type": "code",
     "checksum": "7ba59fc76713d92e6945bb9a228dc50f",
     "grade": false,
     "grade_id": "tf",
     "locked": false,
     "schema_version": 3,
     "solution": true,
     "task": false
    }
   },
   "outputs": [
    {
     "output_type": "stream",
     "name": "stdout",
     "output_type": "stream",
     "text": [
      "{'quick': 0.16666666666666666, 'brown': 0.16666666666666666, 'fox': 0.16666666666666666, 'jumps': 0.16666666666666666, 'lazy': 0.16666666666666666, 'dog': 0.16666666666666666}\n"
     ]
    }
   ],
   "source": [
    "def tf(tokens):\n",
    "    \"\"\" Compute TF\n",
    "    Args:\n",
    "        tokens (list of str): input list of tokens from tokenize\n",
    "    Returns:\n",
    "        dictionary: a dictionary of tokens to its TF values\n",
    "    \"\"\"\n",
    "    # TODO: Uncomment the template below and replace <FILL IN> with appropriate code\n",
    "    # <FILL IN>\n",
    "    hashmap={}\n",
    "    for token in tokens:\n",
    "        hashmap[token]=hashmap.get(token,0)+1\n",
    "\n",
    "    total=sum(hashmap.values())\n",
    "\n",
    "    for key in hashmap.keys():\n",
    "        hashmap[key]=hashmap[key]/total\n",
    "    return hashmap\n",
    "\n",
    "\n",
    "\n",
    "    # YOUR CODE HERE\n",
    "    raise NotImplementedError()\n",
    "\n",
    "print(tf(tokenize(quickbrownfox))) # Should give { 'quick': 0.1666 ... }"
   ]
  },
  {
   "cell_type": "code",
   "execution_count": 0,
   "metadata": {
    "application/vnd.databricks.v1+cell": {
     "cellMetadata": {
      "byteLimit": 2048000,
      "rowLimit": 10000
     },
     "inputWidgets": {},
     "nuid": "202d0bd4-6206-4311-b6c8-f1c30bb550fd",
     "showTitle": false,
     "tableResultSettingsMap": {},
     "title": ""
    },
    "deletable": false,
    "editable": false,
    "nbgrader": {
     "cell_type": "code",
     "checksum": "41b033998ad6bf4681c73cfa73d88b33",
     "grade": true,
     "grade_id": "tf_test",
     "locked": true,
     "points": 3,
     "schema_version": 3,
     "solution": false,
     "task": false
    },
    "tags": []
   },
   "outputs": [],
   "source": [
    "\"\"\"Check for the TF score of each word in the list of tokens extracted from the string\"\"\"\n",
    "tf_test = tf(tokenize(quickbrownfox))\n",
    "assert_equal(tf_test, {'brown': 0.16666666666666666, 'lazy': 0.16666666666666666,\n",
    "                       'jumps': 0.16666666666666666, 'fox': 0.16666666666666666,\n",
    "                       'dog': 0.16666666666666666, 'quick': 0.16666666666666666})\n",
    "\"\"\"Check for the TF score of each word in the list of tokens extracted from the string\"\"\"\n",
    "tf_test2 = tf(tokenize('one_ one_ two!'))\n",
    "assert_equal(tf_test2,  {'one_': 0.6666666666666666, 'two': 0.3333333333333333})\n"
   ]
  },
  {
   "cell_type": "markdown",
   "metadata": {
    "application/vnd.databricks.v1+cell": {
     "cellMetadata": {
      "byteLimit": 2048000,
      "rowLimit": 10000
     },
     "inputWidgets": {},
     "nuid": "f24e17c2-5978-4bc6-87e3-c579d3f331a3",
     "showTitle": false,
     "tableResultSettingsMap": {},
     "title": ""
    }
   },
   "source": [
    "### (2b) Create a corpus\n",
    "Create a pair RDD called `corpusRDD`, consisting of a combination of the two small datasets, `amazonRecToToken` and `googleRecToToken`. Each element of the `corpusRDD` should be a pair consisting of a key from one of the small datasets (ID or URL) and the value is the associated value for that key from the small datasets."
   ]
  },
  {
   "cell_type": "code",
   "execution_count": 0,
   "metadata": {
    "application/vnd.databricks.v1+cell": {
     "cellMetadata": {
      "byteLimit": 2048000,
      "rowLimit": 10000
     },
     "inputWidgets": {},
     "nuid": "2a412965-ffef-4170-a83b-81c47353b054",
     "showTitle": false,
     "tableResultSettingsMap": {},
     "title": ""
    },
    "deletable": false,
    "nbgrader": {
     "cell_type": "code",
     "checksum": "fa5fdd5ad55b31bfa633cf6a7fcddc8f",
     "grade": false,
     "grade_id": "create_corpus",
     "locked": false,
     "schema_version": 3,
     "solution": true,
     "task": false
    }
   },
   "outputs": [],
   "source": [
    "# TODO: Uncomment the template below and replace <FILL IN> with appropriate code\n",
    "# corpusRDD = <FILL IN>\n",
    "corpusRDD = amazonRecToToken.union(googleRecToToken)\n",
    "# YOUR CODE HERE\n",
    "#raise NotImplementedError()"
   ]
  },
  {
   "cell_type": "code",
   "execution_count": 0,
   "metadata": {
    "application/vnd.databricks.v1+cell": {
     "cellMetadata": {
      "byteLimit": 2048000,
      "rowLimit": 10000
     },
     "inputWidgets": {},
     "nuid": "47140002-2eb7-4599-9231-e488e537cc8a",
     "showTitle": false,
     "tableResultSettingsMap": {},
     "title": ""
    }
   },
   "outputs": [
    {
     "output_type": "stream",
     "name": "stdout",
     "output_type": "stream",
     "text": [
      "('b000jz4hqo', ['clickart', '950', '000', 'premier', 'image', 'pack', 'dvd', 'rom', 'broderbund'])\n('b0006zf55o', ['ca', 'international', 'arcserve', 'lap', 'desktop', 'oem', '30pk', 'oem', 'arcserve', 'backup', 'v11', '1', 'win', '30u', 'laptops', 'desktops', 'computer', 'associates'])\n('b00004tkvy', ['noah', 'ark', 'activity', 'center', 'jewel', 'case', 'ages', '3', '8', 'victory', 'multimedia'])\n('b000g80lqo', ['peachtree', 'sage', 'premium', 'accounting', 'nonprofits', '2007', 'peachtree', 'premium', 'accounting', 'nonprofits', '2007', 'affordable', 'easy', 'use', 'accounting', 'solution', 'provides', 'donor', 'grantor', 'management', 're', 'like', 'nonprofit', 'organizations', 're', 'constantly', 'striving', 'maximize', 'every', 'dollar', 'annual', 'operating', 'budget', 'financial', 'reporting', 'programs', 'funds', 'advanced', 'operational', 'reporting', 'rock', 'solid', 'core', 'accounting', 'features', 'made', 'peachtree', 'choice', 'hundreds', 'thousands', 'small', 'businesses', 'result', 'accounting', 'solution', 'tailor', 'made', 'challenges', 'operating', 'nonprofit', 'organization', 'keep', 'audit', 'trail', 'record', 'report', 'changes', 'made', 'transactions', 'improve', 'data', 'integrity', 'prior', 'period', 'locking', 'archive', 'organization', 'data', 'snap', 'shots', 'data', 'closed', 'year', 'set', 'individual', 'user', 'profiles', 'password', 'protection', 'peachtree', 'restore', 'wizard', 'restores', 'backed', 'data', 'files', 'plus', 'web', 'transactions', 'customized', 'forms', 'includes', 'standard', 'accounting', 'features', 'general', 'ledger', 'accounts', 'receivable', 'accounts', 'payable', 'payroll', 'solutions', 'time', 'billing', 'job', 'costing', 'fixed', 'assets', 'analysis', 'reporting', 'customization', 'easily', 'convert', 'quickbooks', 'sage', 'software'])\n('b0006se5bq', ['singing', 'coach', 'unlimited', 'singing', 'coach', 'unlimited', 'electronic', 'learning', 'products', 'win', 'nt', '2000', 'xp', 'carry', 'tune', 'technologies'])\n('b000ehpzv8', ['emc', 'retrospect', '7', '5', 'disk', 'disk', 'windows', 'emc', 'retrospect', '7', '5', 'disk', 'diskcromwindows', 'dantz'])\n('b00021xhzw', ['adobe', 'effects', 'professional', '6', '5', 'upgrade', 'standard', 'professional', 'upgrade', 'installation', 'effects', 'standard', 'new', 'disk', 'caching', 'tools', 'speed', 'interactive', 'work', 'save', 'combination', 'animation', 'parameters', 'presets', 'create', 'transformations', 'masks', 'expressions', 'effects', 'text', 'tighter', 'integration', 'adobe', 'tools', 'import', 'photoshop', 'cs', 'illustrator', 'cs', 'files', 'preserved', 'layers', 'attributes', 'output', 'firewire', 'easier', 'previewing', 'ntsc', 'pal', 'video', 'monitors', 'adobe'])\n('b000gzwjgc', ['acad', 'upgrade', 'dragon', 'naturallyspeaking', 'pro', 'solution', '9', '0', 'a289a', 'fd7', '9', '0', 'marketing', 'information', 'dragon', 'naturallyspeakingprofessional', '9', 'saveyou', 'organizationmoney', 'itempowers', 'anyone', 'tocreate', 'documents', 'overthree', 'times', 'faster', 'thantyping', 'also', 'protectsagainst', 'repetitive', 'stressinjuries', 'result', 'lostproductivity', 'higher', 'workers', 'compensationpremiums', 'higher', 'temporary', 'labor', 'costs', 'accuracy', 'performance', 'ease', 'use', 'indragon', 'naturallyspeaking', 'professional', '9make', 'ideal', 'solution', 'busy', 'corporateprofessionals', 'employees', 'canuse', 'dragon', 'naturallyspeaking', 'professionalto', 'create', 'documents', 'email', 'messages', 'write', 'reports', 'complete', 'forms', 'voice', 'product', 'information', 'software', 'sub', 'type', 'voice', 'recognition', 'software', 'name', 'dragon', 'naturallyspeaking', 'v', '9', '0', 'professional', 'upgrade', 'features', 'benefits', 'accurate', 'ever', 'faster', 'safer', 'typing', 'section', '508', 'certified', 'easy', 'use', 'special', 'user', 'training', 'required', 'support', 'citrix', 'thin', 'client', 'environments', 'enterprise', 'ready', 'ease', 'administration', 'mobility', 'bluetooth', 'support', 'robust', 'customization', 'natural', 'language', 'capabilities', 'text', 'speech', 'language', 'support', 'english', 'platform', 'support', 'pc', 'miscellaneous', 'compatibility', 'microsoft', 'office', 'applications', 'word', 'excel', 'outlook', 'andpowerpoint', 'corel', 'wordperfect', 'nuance', 'academic'])\n('b0000dbykm', ['mia', 'math', 'adventure', 'time', 'mia', 'math', 'adventure', 'time', 'children', 'help', 'mia', 'save', 'house', 'using', 'math', 'skills', 'kutoka'])\n('b00029bqa2', ['disney', '1st', '2nd', 'grade', 'bundle', 'pixar', '1st', 'grade', 'secret', 'keys', 'aladdin', 'reading', 'quest', 'disney', '1st', '2nd', 'grade', 'bundle', 'help', 'child', 'learn', 'challenging', 'imagination', 'skill', 'building', 'activities', 'develop', 'love', 'education', 'child', 'features', 'disney', 'pixar', 'buzz', 'lightyear', 'learning', '1st', 'grade', 'aladdin', 'reading', 'quest', 'disney', 'search', 'secret', 'keys', 'disney'])\n('b0007prnjo', ['paper', 'art', 'gift', 'wrapping', 'many', 'times', 'heard', 'thought', 'counts', 'especially', 'true', 'comes', 'giftseven', 'simple', 'gift', 'thoughtfully', 'presented', 'bring', 'special', 'joy', 'recipient', 'well', 'giver', 'cd', 'beautiful', 'guide', 'gift', 'wrapping', 'need', 'know', 'paper', 'fabric', 'different', 'tools', 'special', 'effects', 'basic', 'advanced', 'techniques', 'boxes', 'cylinders', 'baskets', 'bags', 'system', 'requirements', 'windows', 'windows', '98', '2000', 'xp', '386', 'faster', '8', 'mb', 'ram', '640x480', 'monitor', '256', 'colors', '16', 'bit', 'color', 'better', 'recommended', 'soundblaster', 'compatible', 'sound', 'card', 'speakers', '2x', 'cd', 'rom', 'drive', 'system', 'requirements', 'macintosh', 'mac', 'os', '7', '09', '2', 'os', 'x', 'classic', 'mode', '8', 'mb', 'ram', '640x480', 'monitor', '256', 'colors', 'thousands', 'colors', 'better', 'recommended', '2x', 'cd', 'rom', 'drive', 'arc', 'media', 'inc'])\n('b000aazr5i', ['nfs', 'maestro', 'solo', '2006', '1u', 'marketing', 'information', 'nfs', 'maestro', 'solo', 'de', 'facto', 'standard', 'network', 'file', 'system', 'protocol', 'pc', 'supports', 'latest', 'nfs', 'technologies', 'including', 'nfsv4', 'nfs', 'tcp', 'webnfs', 'advanced', 'nfs', 'features', 'strong', 'security', 'seamless', 'integration', 'windows', 'operating', 'systems', 'comprehensive', 'support', 'enterprise', 'directory', 'services', 'make', 'nfs', 'maestro', 'solo', 'advanced', 'secured', 'pc', 'nfs', 'client', 'also', 'provides', 'bi', 'directional', 'file', 'printer', 'access', 'windows', 'nfs', 'enabled', 'hosts', 'product', 'information', 'software', 'sub', 'type', 'emulation', 'software', 'name', 'nfs', 'maestro', 'solo', '2006', 'complete', 'product', 'features', 'benefits', 'support', 'operations', 'ipv6', 'networking', 'new', 'unicode', 'support', 'support', 'setuid', 'setgid', 'connection', 'specific', 'rpcsec_gss', 'type', 'service', 'symbolic', 'links', 'creation', 'nfs', 'support', 'supports', 'nfs', 'version', '2', '3', '4', 'rfc', '1094', 'rfc1813', 'rfc3530', 'client', 'server', 'implementations', 'kernel', 'mode', 'implementation', 'native', '32', 'bit', '64', 'bit', 'implementation', 'supports', 'operation', 'ipv6', 'networks', 'supports', 'setuid', 'setgid', 'supports', 'webnfs', 'rfc2054', 'nfs', 'tcp', 'supports', '32', 'bit', 'file', 'locking', 'hard', 'soft', 'mount', 'supports', 'microsoft', 'unc', 'unlimited', 'remote', 'drives', 'printers', 'cache', 'manager', 'device', 'less', 'connection', 'support', 'creates', 'supports', 'symbolic', 'links', 'nfsv4', 'compatible', 'command', 'line', 'applications', 'directory', 'services', 'support', 'supports', 'nis', 'nis', 'ldap', 'microsoft', 'active', 'directory', 'support', 'sc', 'hummingbird', 'communications'])\n('b000bhl1r8', ['microsoft', 'sql', 'server', 'standard', 'edition', '2005', '64', 'bit', 'cd', 'dvd', '5', 'client', 'sql', 'server', 'comprehensive', 'integrated', 'end', 'end', 'data', 'solution', 'empowers', 'users', 'across', 'organization', 'providing', 'secure', 'reliable', 'productive', 'platform', 'enterprise', 'data', 'business', 'intelligence', 'bi', 'applications', 'sql', 'server', '2005', 'delivers', 'powerful', 'familiar', 'tools', 'information', 'technology', 'professionals', 'well', 'information', 'workers', 'reducing', 'complexity', 'creating', 'deploying', 'managing', 'using', 'enterprise', 'data', 'analytical', 'applications', 'platforms', 'ranging', 'mobile', 'devices', 'enterprise', 'data', 'systems', 'comprehensive', 'feature', 'set', 'interoperability', 'existing', 'systems', 'automation', 'routine', 'tasks', 'sql', 'server', '2005', 'provides', 'complete', 'data', 'solution', 'enterprises', 'sizes', 'microsoft'])\n('b000i82j80', ['spy', 'sweeper', 'spanish', 'webroot', 'software'])\n('b00006hmwc', ['domino', 'designer', 'developer', 'v5', '0', 'reference', 'domino', 'designer', 'developer', 'r5', 'doc', 'pack', 'includes', 'following', 'titles', 'application', 'development', 'domino', 'designer', 'intermediate', 'advanced', '536', 'pages', 'explains', 'building', 'applications', 'creating', 'databases', 'using', 'forms', 'fields', 'views', 'folders', 'navi', 'lotus', 'development'])\n('b000in6u62', ['omnioutliner', 'professional', '3', '0', 'csdc'])\n('b000083k56', ['compaq', 'comp', 'secure', 'path', 'v3', '0c', 'netware', 'wrkgrp', '50', 'lic', '231327', 'b22', 'compaq', 'computer'])\n('b00006hvvo', ['upg', 'sgms', '1000', 'incremental', 'node', 'today', 'enterprises', 'service', 'providers', 'face', 'increasing', 'security', 'challenges', 'distributed', 'networks', 'security', 'virus', 'attacks', 'enforcing', 'security', 'policies', 'distributed', 'network', 'grows', 'branches', 'multiple', 'subnetworks', 'linked', 'internet', 'complexity', 'managing', 'security', 'appliances', 'security', 'policies', 'updates', 'single', 'flaw', 'security', 'implementation', 'point', 'network', 'expose', 'entire', 'infrastructure', 'allowing', 'malicious', 'access', 'important', 'data', 'files', 'severe', 'consequences', 'managing', 'security', 'distributed', 'networks', 'site', 'site', 'basis', 'time', 'consuming', 'expensive', 'unreliable', 'putting', 'big', 'strain', 'already', 'limited', 'resources', 'sonicwall', 'global', 'management', 'system', 'sonicwall', 'gms', 'standard', 'edition', 'enables', 'distributed', 'enterprises', 'service', 'providers', 'manage', 'thousands', 'sonicwall', 'internet', 'security', 'appliances', 'central', 'location', 'powerful', 'flexible', 'intuitive', 'application', 'sonicwall', 'gms', 'delivers', 'cost', 'effective', 'global', 'security', 'management', 'solution', 'reduces', 'staffing', 'requirements', 'speeds', 'deployment', 'lowers', 'cost', 'managing', 'security', 'services', 'sonicwall', 'gms', 'gives', 'administrators', 'integrated', 'tools', 'manage', 'security', 'policies', 'services', 'throughout', 'large', 'scale', 'multiple', 'policy', 'enterprise', 'service', 'provider', 'environment', 'administrators', 'easily', 'configure', 'sonicwall', 'firewall', 'settings', 'deploy', 'vpn', 'user', 'add', 'sonicwall', 'upgrade', 'subscription', 'services', 'gateway', 'anti', 'virus', 'anti', 'spyware', 'intrusion', 'prevention', 'service', 'complete', 'anti', 'virus', 'content', 'filtering', 'service', 'click', 'button', 'sonic', 'systems', 'inc'])\n('b0000ycfcw', ['human', 'body', 'topics', 'presents', 'human', 'body', 'll', 'uncover', 'deepest', 'mysteries', 'complexities', 'human', 'form', 'complete', 'introduction', 'anatomy', 'physiology', 'topics', 'entertainment'])\n('b00066dd5m', ['school', 'zone', 'pencil', 'pal', 'software', 'big', 'phonics', 'cd', 'rom', 'book', 'school', 'zone', 'interactive'])\n('b00002sac9', ['millie', 'math', 'house', 'ages', '3', '7', 'win', 'mac', 'featuring', 'addition', 'subtraction', 'counting', '30', 'award', 'winning', 'millie', 'math', 'house', 'enhanced', 'offer', 'even', 'learning', 'seven', 'activities', 'children', 'explore', 'numbers', 'shapes', 'sizes', 'patterns', 'addition', 'subtraction', 'build', 'mouse', 'houses', 'create', 'wacky', 'bugs', 'count', 'animated', 'critters', 'make', 'jellybean', 'cookies', 'answer', 'math', 'challenges', 'posed', 'dorothy', 'duck', 'use', 'spanish', 'language', 'version', 'esl', 'bilingual', 'spanish', 'language', 'instruction', 'ibm', 'aap', 'misc', 'parts'])\n('b000bcz8ng', ['world', 'book', 'encyclopedia', '2006', 'world', 'book', 'encyclopedia', '2006', 'truly', 'student', 'friendly', 'cd', 'reference', 'resource', 'thoroughly', 'updated', 'thousands', 'revised', 'articles', 'hundreds', 'new', 'entries', 'maps', 'tables', 'illustrations', 'superior', 'navigation', 'clear', 'labeling', 'easily', 'accessible', 'entries', 'helps', 'young', 'scholars', 'retrieve', 'crucial', 'information', 'includes', '56', 'animations', 'simulations', '2', '241', 'tables', 'timelines', '10', '643', 'photo', 'illustrations', '640', 'new', 'illustrations', 'maps', '267', 'new', 'articles', '42', 'new', 'table', '4', '000', 'newly', 'revised', 'entries', 'topics', 'entertainment'])\n('b000fm18vi', ['musicalis', 'guitar', 'workshop', 'chord', 'display', 'create', 'chords', 'digital', 'tuner', 'charts', 'scales', 'complete', 'reference', 'beginner', 'advanced', 'global', 'software', 'publishing'])\n('b00009apna', ['printshop', '20', 'professional', 'publisher', 'complete', 'easy', 'publishing', 'solution', 'home', 'orbusinessproduct', 'informationentrust', 'business', 'personal', 'publications', 'renowned', 'quality', 'theprint', 'shop', 'backed', 'two', 'decades', 'industry', 'leadership', 'versatile', 'programis', 'essenti', 'broderbund'])\n('b0009rgzgm', ['data', 'protection', 'suite', 'use', 'computer', 're', 'risk', 'system', 'crashes', 'file', 'corruption', 'host', 'headaches', 'backup', 'pc', 'trusted', 'preserve', 'protect', 'backup', 'archive', 'digital', 'media', 'critical', 'data', 'quickly', 'easily', 'eliminating', 'guesswork', 'file', 'backup', 'software', 'featuring', 'award', 'winning', 'state', 'art', 'technology', 'straightforward', 'intuitive', 'interface', 'powerful', 'file', 'backup', 'software', 'makes', 'easy', 'prevent', 'data', 'disasters', 'restore', 'files', 'event', 'system', 'crash', 'plus', 'full', 'password', 'protection', 'means', 're', 'always', 'control', 'stomp', 'inc'])\n('b000ap2wyw', ['kids', 'power', 'fun', 'girls', 'topics', 'entertainment'])\n('b000o24l3q', ['adobe', 'premiere', 'pro', 'cs3', 'upgrade', 'note', 'upgrade', 'version', 'adobe', 'premiere', 'pro', 'cs3', 'tell', 'story', 'maximum', 'impact', 'using', 'adobe', 'premiere', 'pro', 'cs3', 'upgrade', 'software', 'start', 'finish', 'solution', 'efficient', 'video', 'production', 'includes', 'adobe', 'encore', 'cs3', 'adobe', 'onlocation', 'cs3', 'windows', 'formerly', 'award', 'winning', 'dv', 'rack', 'hd', 'save', 'time', 'set', 'capture', 'using', 'adobe', 'onlocation', 'output', 'expand', 'creative', 'options', 'via', 'integration', 'adobe', 'effects', 'cs3', 'professional', 'photoshop', 'deliver', 'content', 'dvd', 'blu', 'ray', 'disc', 'web', 'mobile', 'devices', 'powerful', 'editing', 'finishing', 'delivery', 'tools', 'adobe', 'premiere', 'pro', 'available', 'mac', 'windows', 'operating', 'systems', 'maintain', 'control', 'media', 'multiple', 'project', 'panels', 'customizable', 'panel', 'display', 'settings', 'instant', 'file', 'searches', 'export', 'adobe', 'encore', 'cs3', 'projects', 'dvd', 'blu', 'ray', 'disc', 'flash', 'export', 'flash', 'encore', 'generates', 'html', 'flv', 'swf', 'files', 'provide', 'dvd', 'style', 'chapter', 'selection', 'playback', 'interactivity', 'flash', 'player', 'capture', 'edit', 'deliver', 'video', 'dvd', 'web', 'adobe', 'premiere', 'pro', 'cs3', 'software', 'available', 'mac', 'windows', 'streamlines', 'entire', 'video', 'production', 'process', 'direct', 'disk', 'recording', 'editing', 'final', 'delivery', 'tape', 'disc', 'web', 'mobile', 'devices', 'adobe', 'premiere', 'pro', 'cs3', 'redefines', 'productivity', 'flexibility', 'capturing', 'editing', 'delivering', 'video', 'content', 'video', 'professionals', 'want', 'concentrate', 'storytelling', 'nuts', 'bolts', 'production', 'adobe', 'premiere', 'pro', 'cs3', 'frees', 'focus', 'telling', 'story', 'maximize', 'image', 'quality', 'work', 'faster', 'shoots', 'using', 'adobe', 'onlocation', 'cs3', 'software', 'requires', 'windows', 'boot', 'camp', 'mac', 'included', 'adobe', 'premiere', 'pro', 'calibrate', 'cameras', 'monitor', 'video', 'signals', 'record', 'directly', 'disk', 'shoot', 'edit', 'every', 'major', 'video', 'format', 'dv', 'hd', 'beyond', 'adobe', 'premiere', 'pro', 'cs3', 'improve', 'efficiency', 'creativity', 'new', 'workflow', 'new', 'visual', 'effects', 'features', 'save', 'time', 'expand', 'creative', 'options', 'tight', 'integration', 'adobe', 'software', 'including', 'adobe', 'effects', 'cs3', 'adobe', 'photoshop', 'cs3', 'adobe', 'encore', 'cs3', 'software', 'included', 'adobe', 'premiere', 'pro', 'cs3', 'lets', 'author', 'output', 'blu', 'ray', 'disc', 'dvd', 'flash', 'swf', 'web', 'adobe', 'premiere', 'pro', 'supports', 'additional', 'delivery', 'platforms', 'including', 'flash', 'mobile', 'devices', 'letting', 'reach', 'widest', 'audience', 'possible', 'audience', 'benefit', 'corporate', 'government', 'video', 'producers', 'adobe', 'premiere', 'pro', 'cs3', 'provides', 'tools', 'need', 'ensure', 'excellent', 'production', 'values', 'working', 'quickly', 'stay', 'schedule', 'edit', 'precise', 'control', 'add', 'stunning', 'effects', 'move', 'content', 'smoothly', 'adobe', 'effects', 'cs3', 'professional', 'photoshop', 'even', 'creative', 'control', 'streamline', 'review', 'process', 'adobe', 'clip', 'notes', 'output', 'multiple', 'formats', 'quickly', 'easily', 'reach', 'people', 'everywhere', 'adobe', 'premiere', 'pro', 'cs3', 'lets', 'communicate', 'high', 'quality', 'video', 'imagery', 'even', 'tight', 'budgets', 'looming', 'deadlines', 'event', 'videographers', 'small', 'crews', 'tight', 'deadlines', 'mean', 'need', 'work', 'fast', 'even', 'clients', 'demand', 'higher', 'higher', 'production', 'values', 'adobe', 'premiere', 'pro', 'cs3', 'lets', 'capture', 'events', 'directly', 'disc', 'included', 'adobe', 'onlocation', 'cs3', 'windows', 'work', 'fast', 'precision', 'editing', 'tools', 'including', 'support', 'editing', 'multicam', 'shots', 'create', 'compelling', 'effects', 'via', 'tight', 'integration', 'adobe', 'effects', 'cs3', 'professional', 'photoshop', 'cs3', 'use', 'included', 'copy', 'adobe', 'encore', 'cs3', 'deliver', 'content', 'however', 'clients', 'need', 'whether', 'dvd', 'blu', 'ray', 'disc', 'web', 'mobile', 'devices', 'independent', 'filmmakers', 'passion', 'storytelling', 'challenge', 'finding', 'right', 'software', 'handle', 'every', 'aspect', 'production', 'process', 'deliver', 'hollywood', 'quality', 'imagery', 'adobe', 'premiere', 'pro', 'cs3', 'meets', 'need', 'complete', 'toolset', 'capturing', 'footage', 'direct', 'disc', 'editing', 'imagery', 'creating', 'titles', 'post', 'production', 'producing', 'dvds', 'delivering', 'web', 'ready', 'content', 'promote', 'films', 'internet', 'included', 'video', 'workshop', 'training', 'materials', 'll', 'help', 'every', 'stage', 'production', 'post', 'production', 'boutiques', 'enjoy', 'advanced', 'editing', 'tools', 'well', 'uncompromised', 'image', 'quality', 'real', 'time', 'performance', 'need', 'professional', 'broadcast', 'film', 'post', 'production', 'work', 'major', 'formats', 'enjoy', 'powerful', 'effects', 'media', 'management', 'tools', 'get', 'unparalleled', 'integration', 'adobe', 'effects', 'cs3', 'professional', 'photoshop', 'software', 'increase', 'efficiency', 'workflow', 'enhancements', 'adobe', 'clip', 'notes', 'adobe', 'premiere', 'pro', 'cs3', 'adobe', 'encore', 'cs3', 'deliver', 'work', 'format', 'client', 'needs', 'adobe', 'flash', 'video', 'dvd', 'blu', 'ray', 'disc', 'uncompressed', 'hd', 'educators', 'students', 'adobe', 'premiere', 'pro', 'cs3', 'offers', 'complete', 'set', 'post', 'production', 'tools', 'let', 'handle', 'aspects', 'filmmaking', 'post', 'production', 'cost', 'effectively', 'capturing', 'editing', 'footage', 'creating', 'titles', 'dvds', 'promotional', 'materials', 'websites', 'feature', 'video', 'content', 'use', 'flexible', 'tools', 'express', 'creativity', 'work', 'file', 'format', 'windows', 'macintosh', 'platforms', 'deliver', 'work', 'across', 'multiple', 'media', 'new', 'adobe', 'premiere', 'pro', 'cs3k', 'dvd', 'blu', 'ray', 'disc', 'output', 'included', 'adobe', 'encore', 'cs3', 'create', 'dvd', 'blu', 'ray', 'disc', 'content', 'adobe', 'encore', 'cs3', 'software', 'included', 'adobe', 'premiere', 'pro', 'cs3', 'work', 'encore', 'authoring', 'interface', 'features', 'used', 'create', 'standard', 'definition', 'dvds', 'author', 'deliver', 'twice', 'automatically', 'convert', 'high', 'definition', 'blu', 'ray', 'disc', 'projects', 'standard', 'definition', 'dvds', 'high', 'quality', 'slow', 'motion', 'time', 'remapping', 'create', 'dramatic', 'slow', 'fast', 'motion', 'effects', 'without', 'exporting', 'clips', 'another', 'application', 'precise', 'keyframe', 'control', 'real', 'time', 'feedback', 'excellent', 'quality', 'advanced', 'frame', 'blending', 'slow', 'things', 'without', 'compromising', 'quality', 'generate', 'even', 'better', 'frames', 'pixel', 'motion', 'analysis', 'timewarp', 'effect', 'direct', 'disc', 'recording', 'included', 'adobe', 'onlocation', 'cs3', 'windows', 'save', 'tape', 'time', 'eliminating', 'capture', 'production', 'process', 'record', 'sd', 'hd', 'video', 'directly', 'disc', 'using', 'adobe', 'onlocation', 'cs3', 'software', 'included', 'adobe', 'premiere', 'pro', 'cs3', 'instantly', 'review', 'shot', 'without', 'shuttling', 'tape', 'adobe', 'onlocation', 'automatically', 'detects', 'flags', 'problems', 'provide', 'best', 'results', 'adobe', 'encore', 'cs3', 'projects', 'web', 'one', 'click', 'easily', 'create', 'adobe', 'flash', 'versions', 'dvd', 'blu', 'ray', 'disc', 'projects', 'web', 'use', 'adobe', 'encore', 'cs3', 'create', 'flash', 'content', 'complete', 'dvd', 'interactivity', 'menus', 'without', 'learning', 'flash', 'programming', 'multiple', 'project', 'windows', 'smart', 'file', 'search', 'find', 'files', 'faster', 'search', 'tools', 'instantly', 'update', 'results', 'list', 'type', 'sort', 'organize', 'assets', 'multiple', 'project', 'windows', 'graphical', 'text', 'view', 'setting', 'display', 'handle', 'media', 'files', 'making', 'project', 'management', 'easier', 'efficient', 'professional', 'set', 'monitoring', 'adobe', 'onlocation', 'cs3', 'maximize', 'camera', 'image', 'quality', 'shoots', 'using', 'adobe', 'onlocation', 'cs3', 'quickly', 'calibrate', 'camera', 'check', 'levels', 'monitor', 'signal', 'use', 'simple', 'tools', 'function', 'like', 'hardware', 'equivalents', 'get', 'results', 'quickly', 'easily', 'virtual', 'reference', 'monitor', 'waveform', 'monitor', 'vectorscope', 'audio', 'spectrum', 'analyzer', 'help', 'avoid', 'problems', 'improve', 'quality', 'location', 'create', 'stunning', 'slow', 'motion', 'retiming', 'effects', 'directly', 'timeline', 'setting', 'moving', 'time', 'remapping', 'keyframe', 'markers', 'improve', 'look', 'video', 'three', 'way', 'color', 'corrector', 'precision', 'color', 'correction', 'tools', 'adobe', 'premiere', 'pro', 'improved', 'editing', 'efficiency', 'work', 'faster', 'powerful', 'flexible', 'editing', 'tools', 'play', 'video', 'nested', 'audio', 'sequences', 'real', 'time', 'without', 'rendering', 'replace', 'clip', 'timeline', 'new', 'clip', 'preserving', 'replaced', 'clip', 'editing', 'attributes', 'settings', 'use', 'shortcuts', 'switch', 'workspace', 'panels', 'save', 'time', 'output', 'mobile', 'devices', 'make', 'video', 'viewable', 'latest', 'delivery', 'platforms', 'encode', 'video', 'delivery', 'cell', 'phones', 'mobile', 'devices', 'simulate', 'playback', 'devices', 'check', 'video', 'quality', 'download', 'profile', 'updates', 'simulate', 'latest', 'devices', 'flash', 'video', 'export', 'markers', 'converted', 'cue', 'points', 'encode', 'video', 'audio', 'flash', 'projects', 'web', 'playback', 'direct', 'flash', 'video', 'flv', 'export', 'adobe', 'premiere', 'pro', 'cs3', 'timeline', 'markers', 'become', 'flash', 'cue', 'points', 'trigger', 'interactivity', 'navigation', 'create', 'flash', 'video', 'ease', 'improve', 'efficiency', 'incorporate', 'tapeless', 'workflow', 'shoots', 'using', 'adobe', 'onlocation', 'cs3', 'monitor', 'camera', 'video', 'signal', 'record', 'directly', 'computer', 'hard', 'drive', 'multi', 'camera', 'window', 'makes', 'editing', 'action', 'recorded', 'several', 'cameras', 'multiple', 'takes', 'easy', 'pointing', 'clicking', 'additional', 'features', 'efficient', 'tools', 'creative', 'editing', 'create', 'high', 'quality', 'visual', 'editorial', 'effects', 'directly', 'within', 'editing', 'timeline', 'generate', 'slow', 'motion', 'time', 'remapping', 'effects', 'precise', 'keyframe', 'control', 'real', 'time', 'feedback', 'ad\n\n*** WARNING: max output size exceeded, skipping output. ***\n\nw', 'approval', 'adobe', 'clip', 'notes', 'expedite', 'review', 'cycles', 'avoid', 'miscommunication', 'adobe', 'clip', 'notes', 'embed', 'video', 'adobe', 'pdf', 'file', 'e', 'mail', 'file', 'client', 'review', 'add', 'timecode', 'specific', 'comments', 'view', 'comments', 'mapped', 'adobe', 'premiere', 'pro', 'cs3', 'timeline', 'mac', 'os', 'x', 'compatibility', 'use', 'adobe', 'premiere', 'pro', 'cs3', 'latest', 'intel', 'based', 'macintosh', 'computers', 'aaf', 'edl', 'import', 'export', 'exchange', 'project', 'metadata', 'major', 'video', 'film', 'audio', 'applications', 'via', 'industry', 'standard', 'advanced', 'authoring', 'format', 'aaf', 'aaf', 'edit', 'protocol', 'edit', 'decision', 'list', 'edl', 'files', 'aaf', 'import', 'export', 'windows', 'comprehensive', 'vtr', 'support', 'control', 'video', 'decks', 'rs', '422', 'rs', '232', 'serial', 'protocols', 'firewire', 'precise', 'batch', 'capturing', 'recapturing', 'insert', 'editing', 'file', 'management', 'adobe', 'bridge', 'work', 'efficiently', 'using', 'adobe', 'bridge', 'cs3', 'search', 'access', 'project', 'files', 'preview', 'apply', 'settings', 'run', 'batch', 'processes', 'tag', 'assets', 'xmp', 'metadata', 'macintosh', 'users', 'adobe', 'onlocation', 'requires', 'boot', 'camp', 'windows', 'purchased', 'separately', 'separate', 'windows', 'based', 'computer', 'adobe'])\n('b0009jlux8', ['copy', 'dvds', '2', 'professional', 'edition', 'icopydvds2', 'pro', 'edition', 'contains', 'need', 'copy', 'dvd', 'movie', 'quickly', 'easily', 'interface', 'simple', 'direct', 'put', 'movie', 'press', 'copy', 'icopydvds2', 'rest', 'unique', 'auto', 'fit', 'auto', 'burn', 'technology', 'creates', 'highest', 'quality', 'movie', 'possible', 'single', 'disc', 'every', 'time', 'software'])\n('b000cszg2m', ['gen', 'x', 'media', 'made', 'easy', 'vol', '3', 'media', 'made', 'easy', 'vol', '3', 'front', 'row', 'ticket', 'enjoying', 'best', 'today', 'entertainment', 'powerful', 'easy', 'use', 'contains', '8', 'full', 'programs', 'biggest', 'names', 'entertainment', 'software', 'roxio', 'pinnacle', 'steinberg', 'create', 'record', 'edit', 'remix', 'capture', 'restore', 'media', 'made', 'easy', 'vol', '3', 'gen', 'x'])\n('b00023azve', ['family', 'tree', 'maker', '11', '2', 'collector', 'edition', 'whether', 're', 'avid', 'family', 'historian', 'complete', 'novice', 'family', 'tree', 'maker', 'collectible', 'edition', 'version', '11', '2', 'help', 'create', 'detailed', 'family', 'trees', 'books', 'web', 'sites', 'reports', 'fill', 'personal', 'photos', 'family', 'memorabilia', 'record', 'information', 'pass', 'treasured', 'legacy', 'future', 'encore'])\n('b000ndicuy', ['adobe', 'fireworks', 'cs3', 'mac', 'accelerate', 'web', 'design', 'development', 'adobe', 'fireworks', 'cs3', 'software', 'ideal', 'tool', 'creating', 'optimizing', 'images', 'web', 'rapidly', 'prototyping', 'websites', 'web', 'applications', 'fireworks', 'cs3', 'offers', 'flexibility', 'edit', 'vector', 'bitmap', 'images', 'common', 'library', 'prebuilt', 'assets', 'timesaving', 'integration', 'adobe', 'photoshop', 'cs3', 'adobe', 'illustrator', 'cs3', 'adobe', 'dreamweaver', 'cs3', 'adobe', 'flash', 'cs3', 'professional', 'software', 'new', 'adobe', 'fireworks', 'cs3', 'dramatically', 'accelerates', 'web', 'prototyping', 'web', 'image', 'design', 'rapidly', 'prototype', 'design', 'web', 'new', 'adobe', 'fireworks', 'cs3', 'dramatically', 'accelerates', 'web', 'prototyping', 'web', 'image', 'design', 'enjoy', 'timesaving', 'enhancements', 'new', 'prototyping', 'tools', 'impressive', 'integration', 'adobe', 'photoshop', 'cs3', 'adobe', 'illustrator', 'cs3', 'adobe', 'dreamweaver', 'cs3', 'adobe', 'flash', 'cs3', 'professional', 'adobe', 'flex', 'software', 'new', 'fireworks', 'cs3', 'new', 'macintosh', 'windows', 'os', 'support', 'design', 'develop', 'platform', 'choice', 'adobe', 'fireworks', 'cs3', 'available', 'powerpc', 'intel', 'based', 'macintosh', 'computers', 'well', 'windows', 'xp', 'windows', 'vista', 'systems', 'efficient', 'adobe', 'photoshop', 'adobe', 'illustrator', 'integration', 'import', 'photoshop', 'psd', 'files', 'retaining', 'hierarchical', 'layers', 'layer', 'effects', 'blend', 'modes', 'save', 'fireworks', 'png', 'files', 'back', 'photoshop', 'psd', 'format', 'import', 'illustrator', 'ai', 'files', 'retaining', 'graphic', 'integrity', 'including', 'layer', 'group', 'color', 'information', 'hierarchical', 'layer', 'organization', 'organize', 'manage', 'prototypes', 'new', 'hierarchical', 'layer', 'structure', 'similar', 'one', 'adobe', 'photoshop', 'enables', 'easily', 'organize', 'web', 'layers', 'pages', 'intelligent', 'scaling', 'intelligently', 'scale', 'buttons', 'graphic', 'symbols', 'vector', 'bitmap', '9', 'slice', 'scaling', 'combine', '9', 'slice', 'scaling', 'new', 'auto', 'shape', 'library', 'accelerate', 'website', 'application', 'prototyping', 'multipage', 'support', 'use', 'new', 'pages', 'panel', 'create', 'multiple', 'pages', 'single', 'document', 'png', 'file', 'share', 'layers', 'across', 'multiple', 'pages', 'page', 'contain', 'slices', 'layers', 'frames', 'animations', 'canvas', 'settings', 'making', 'easy', 'simulate', 'website', 'flow', 'prototype', 'ria', 'layout', 'prototyping', 'prototype', 'layouts', 'rich', 'internet', 'applications', 'fireworks', 'export', 'directly', 'adobe', 'flex', 'retaining', 'absolute', 'positioning', 'styling', 'customizable', 'assets', 'jump', 'start', 'prototyping', 'common', 'library', 'frequently', 'used', 'graphic', 'symbols', 'text', 'symbols', 'animations', 'use', 'new', 'symbol', 'properties', 'panel', 'customize', 'symbol', 'attributes', 'adobe', 'photoshop', 'blend', 'modes', 'customize', 'appearance', 'images', 'seven', 'popular', 'blend', 'modes', 'adobe', 'photoshop', 'dissolve', 'linear', 'burn', 'linear', 'dodge', 'vivid', 'light', 'linear', 'light', 'pin', 'light', 'hard', 'mix', 'adobe', 'bridge', 'integration', 'enjoy', 'efficient', 'workflow', 'adobe', 'bridge', 'offers', 'central', 'access', 'project', 'files', 'batch', 'processing', 'include', 'multiple', 'adobe', 'applications', 'streamlined', 'adobe', 'dreamweaver', 'adobe', 'flash', 'integration', 'copy', 'object', 'fireworks', 'cs3', 'paste', 'directly', 'dreamweaver', 'cs3', 'create', 'pop', 'menus', 'saved', 'css', 'html', 'export', 'fireworks', 'png', 'files', 'directly', 'flash', 'cs3', 'maintaining', 'vectors', 'bitmaps', 'animations', 'multistates', 'edit', 'flash', 'cs3', 'additional', 'features', 'vector', 'bitmap', 'editing', 'create', 'edit', 'vector', 'bitmap', 'images', 'import', 'edit', 'native', 'adobe', 'photoshop', 'adobe', 'illustrator', 'files', 'image', 'optimization', 'optimize', 'graphics', 'virtually', 'delivery', 'scenario', 'preview', 'cross', 'platform', 'gamma', 'preview', 'selective', 'jpeg', 'compression', 'wide', 'range', 'export', 'controls', 'filter', 'effects', 'apply', 'lighting', 'effects', 'shadow', 'effects', 'styles', 'blend', 'modes', 'including', 'seven', 'new', 'blend', 'modes', 'photoshop', 'add', 'depth', 'character', 'text', 'symbols', 'common', 'library', 'jump', 'start', 'prototyping', 'common', 'library', 'graphic', 'symbols', 'text', 'symbols', 'animations', 'frequently', 'used', 'web', 'applications', 'forms', 'interfaces', 'websites', 'adobe'])\n('b0000ycfdq', ['dinosaurs', 'topics', 'entertainment'])\n('b0007yepy6', ['instant', 'home', 'design', '3', '0', 'lb', 'software', 'suite', 'helps', 'create', 'customized', 'visuals', 'home', 'renovation', 'photographic', 'cad', 'computer', 'aided', 'design', 'topics', 'entertainment'])\n('b000cpmtwk', ['x', 'oom', 'internet', 'movies', '2', 'internet', 'movies', '2', 'lets', 'take', 'advantage', 'internet', 'gift', 'film', 'fans', 'using', 'create', 'regular', 'dvds', 'video', 'cds', 'growing', 'collection', 'divx', 'xvid', 'real', 'movie', 'files', 'watch', 'big', 'screen', 'tv', 'using', 'standard', 'dvd', 'player', 'x', 'oom'])\n('b0002qnd2y', ['form', 'workshop', '1200', 'customize', 'forms', 'specific', 'needs', 'product', 'information', 'complete', 'solution', 'business', 'personal', 'form', 'needs', 'selectfrom', '1200', 'essential', 'forms', 'letters', 'customize', 'layout', 'text', 'graphics', 'use', 'full', 'suite', 'tools', 'create', 'documents', 'scratch', 'new', 'simplified', 'user', 'interface', 'quickly', 'guides', 'though', 'highly', 'advancedfeatures', 'nbs', 'valusoft'])\n('b000h22pg8', ['print', 'shop', 'pro', 'publisher', '22', 'deluxe', 'dvd', 'print', 'shop', 'pro', 'publisher', 'deluxe', 'edition', '22', 'gives', 'tools', 'need', 'design', 'publish', 'professional', 'business', 'materials', 'creative', 'projects', 'web', 'pages', 'wealth', 'photo', 'manipulation', 'tools', 'fingertips', 'helps', 'get', 'closer', 'final', 'product', 'see', 'pro', 'publisher', 'deluxe', 'pro', 'publisher', 'deluxe', 'express', 'creativity', 'promote', 'business', 'design', 'web', 'site', 'much', 'one', 'place', 'complete', 'source', 'designing', 'powerful', 'publications', 'home', 'business', 'needs', 'pro', 'publisher', 'deluxe', 'lets', 'create', 'banners', 'letterhead', 'business', 'cards', 'postcards', 'find', 'version', 'print', 'shop', 'right', '22', '000', 'templates', '400', '000', 'images', 'fingertips', '22', '000', 'pre', 'designed', 'project', 'templates', 'choose', 'easy', 'start', 'next', 'project', 'scratch', 'pro', 'publisher', 'deluxe', 'features', 'flexible', 'design', 'layout', 'tools', '850', 'fonts', 'complete', 'logo', 'creator', 'several', 'professional', 'quality', 'printing', 'options', 'help', 'tailor', 'projects', 'precise', 'needs', 'design', 'layouts', 'multimedia', 'presentations', 'letterhead', 'business', 'cards', 'greeting', 'cards', 'forms', 'multi', 'page', 'brochures', 'stationery', 'sets', 'cd', 'dvd', 'labels', 'newsletters', 'much', 'multi', 'page', 'booklet', 'template', 'helps', 'create', 'exciting', 'projects', 'including', 'programs', 'menus', 'informational', 'pamphlets', 'brochures', 'even', 'turn', 'family', 'history', 'work', 'art', 'unique', 'fun', 'use', 'family', 'tree', 'templates', 'pro', 'publisher', 'deluxe', 'offers', 'wider', 'variety', 'paper', 'sizes', 'several', 'new', 'templates', 'including', '4x6', 'inches', 'notecards', 'postcard', '11x17', 'inch', 'pages', 'square', '6x6', '8x8', '12x12', 'page', 'sizes', 'time', 'add', 'perfect', 'image', 'project', 'pro', 'publisher', 'deluxe', 'features', 'gallery', '400', '000', 'premium', 'images', 'including', '5', '000', 'getty', 'images', 'include', 'photos', 'graphics', 'illustrations', 'web', 'art', 'backgrounds', 'textures', 'seasonal', 'images', 'll', 'always', 'ideal', 'template', 'perfect', 'image', 'complete', 'project', 'program', 'also', 'includes', '3', '100', 'sentiments', 'll', 'precise', 'tools', 'add', 'perfect', 'phrase', 'quote', 'design', 'advanced', 'search', 'function', 'lets', 'conveniently', 'search', 'project', 'template', 'image', 'type', 'tone', 'category', 'keyword', 'purchase', 'pro', 'publisher', 'deluxe', 'also', 'receive', 'full', 'year', 'free', 'access', 'million', 'image', 'club', 'find', 'even', 'images', 'complement', 'designs', 'advanced', 'design', 'print', 'tools', 'convenient', 'pdf', 'tool', 'lets', 'easily', 'convert', 'projects', 'images', 'pdf', 'files', 'easy', 'sharing', 'maintaining', 'high', 'resolution', 'color', 'accuracy', 'also', 'access', 'tools', 'let', 'create', 'sophisticated', 'web', 'pages', 'html', 'coding', 'skills', 'required', 'simple', 'drag', 'drop', 'capabilities', 'allow', 'move', 'images', 'text', 'want', 'advanced', 'html', 'features', 'include', 'dynamic', 'web', 'templates', 'rollover', 'effects', 'hotspots', 'online', 'form', 'creation', 'spell', 'check', 'professional', 'graphic', 'tools', 'give', 'power', 'manipulate', 'images', 'take', 'business', 'communications', 'next', 'level', 'pro', 'publisher', 'deluxe', 'll', 'master', 'tools', 'let', 'create', 'edit', 'vector', 'art', 'create', '3', 'd', 'shapes', 'add', '3', 'd', 'texture', 'effects', 'even', 'draw', 'using', 'pastel', 'charcoal', 'watercolor', 'time', 'print', 'pro', 'publisher', 'deluxe', 'offers', 'advantages', 'several', 'professional', 'print', 'options', 'borderless', 'printing', 'printing', 'directly', 'printable', 'cds', 'dvds', 'print', 'multiple', 'labels', 'variety', 'images', 'text', 'simultaneously', 'one', 'sheet', 'feature', 'perfect', 'mass', 'mailings', 'customizing', 'variety', 'labels', 'ease', 'even', 'personalize', 'ipod', 'skin', 'favorite', 'photo', 'pictures', 'friends', 'cool', 'design', 'many', 'ways', 'pro', 'publisher', 'deluxe', 'help', 'business', 'grow', 'personal', 'projects', 'thrive', 'possibilities', 'endless', 'limit', 'pro', 'publisher', 'deluxe', 'imagination', 'encore'])\n('b0009h9q1i', ['stomp', 'inc', 'recover', 'lost', 'data', '2005', 'finger', 'ever', 'slip', 'keyboard', 'accidentally', 'erasing', 'important', 'file', 'handy', 'software', 'application', 'helps', 'get', 'file', 'back', 'recover', 'lost', 'data', 'gives', 'power', 'restore', 'lost', 'files', 'easy', 'use', 'intuitive', 'graphical', 'recovery', 'wizard', 'recover', 'lost', 'data', 'runs', 'directly', 'cd', 'install', 'hard', 'drive', 'recover', 'lost', 'data', 'powerful', 'recovery', 'tools', 'find', 'restore', 'deleted', 'lost', 'damaged', 'files', 'folders', 'caused', 'accidental', 'deletion', 'system', 'crashes', 'power', 'failures', 'viruses', 'corrupted', 'operating', 'systems', 'damaged', 'deleted', 'partitions', 'hacker', 'attacks', 'formatted', 'hard', 'drives', 'program', 'pre', 'installed', 'hard', 'drive', 'helps', 'retrieve', 'lost', 'data', 'files', 'might', 'accidentally', 'deleted', 'often', 'recover', 'data', 'drive', 'longer', 'recognized', 'windows', 'recovers', 'individual', 'email', 'messages', 'microsoft', 'outlook', 'outlook', 'express', 'netscape', 'eudora', 'email', 'clients', 'sophisticated', 'advanced', 'recovery', 'mode', 'recover', 'data', 'damaged', 'drives', 'media', 'works', 'fat16', 'fat32', 'ntfs', 'file', 'systems', 'supports', 'ide', 'serial', 'ata', 'scsi', 'raid', 'usb', 'firewire', 'drives', 'run', 'recoverlost', 'data', 'directly', 'cd', 'installation', 'necessary', 'flexible', 'search', 'enables', 'find', 'individual', 'files', 'lost', 'accidentally', 'erased', 'analyzes', 'searches', 'disk', 'clusters', 'detect', 'file', 'systems', 'lost', 'drives', 'partitions', 'stomp', 'inc'])\n('b000cqyclu', ['first', 'bible', 'stories', 'combines', 'exciting', 'multimedia', 'technology', 'great', 'story', 'telling', 'traditions', 'brought', 'bible', 'stories', 'life', 'thousands', 'years', 'teaches', 'kids', 'reinforces', 'tests', 'general', 'knowledge', 'bible', 'dorling', 'kindersley', 'multimedia', 'dk'])\n('b0001db6i6', ['big', 'mix', 'mac', 'big', 'mix', 'one', 'tool', 'home', 'musicians', 'skill', 'level', 'turn', 'home', 'recording', 'studio', 'quality', 'sound', 'make', 'music', 'like', 'never', 'whether', 're', 'created', 'orchestral', 'pieces', 'hypnotic', 'dance', 'tracks', 'll', 'find', 'everything', 'need', 'spark', 'le', 'real', 'processing', 'people', 'want', 'pristine', 'sounds', 'home', 'audio', 'features', 'tools', 'like', 'tempo', 'delay', 'one', 'band', 'eq', 'selectable', 'notch', 'low', 'pass', 'high', 'pass', 'parametric', 'types', 'equalization', 'aladdin'])\n('b000bl40dg', ['x', 'oom', 'movie', 'clone', '3', 'gold', 'copy', 'complete', 'original', 'dvds', 'favorite', 'scenes', 'remove', 'extras', 'want', 'featuring', 'user', 'friendly', 'interface', 'unique', 'compression', 'technology', 'x', 'oom', 'movie', 'clone', '3', 'gold', 'rapidly', 'burns', 'flawless', 'copies', 'dvds', 'cds', 'turn', 'divx', 'collection', 'avi', 'movie', 'files', 'dvds', 'watch', 'dvd', 'player', 'course', 'take', 'favorite', 'movie', 'pda', 'thanks', 'x', 'oom', 'movie', 'clone', '3', 'gold', 'versatile', 'conversion', 'features', 'turn', 'dvd', 'format', 'like', 'f', 'e', 'divx', 'avi', 'wmv', 'real', 'even', 'vcds', 'svcds', 'whatever', 'copy', 'll', 'thrilled', 'backup', 'speed', 'quality', 'tristep', 'technology', 'delivers', 'extremely', 'fast', 'backups', 'entire', 'dvds', 'copied', 'minutes', 'complete', '1', '1', 'dvd', 'backups', 'movie', 'mode', 'including', 'selected', 'languages', 'simultaneous', 'copy', 'burn', 'operations', 'powerful', 'transcoding', 'technology', 'allows', 'fit', 'larger', 'dvd', 'movies', '9', 'gb', 'onto', 'standard', 'blank', 'dvds', '4', '7', 'gb', 'automatic', 're', 'authoring', 'features', 'allow', 'split', 'backup', 'copies', 'across', 'one', 'disk', 'transfer', 'dvd', 'movie', 'vcd', 'svcd', '1', '1', 'audio', 'copying', 'perfect', 'sound', 'quality', 'including', 'stereo', '5', '1', 'surround', 'dts', 'dolby', 'digital', 'highspeed', 'conversion', 'dvds', 'divx', 'avi', 'wmv', 'even', 'cell', 'phone', 'fileformat', 'new', 'highspeed', 'conversion', 'divx', 'avi', 'wmv', 'real', 'movie', 'file', 'dvd', 'svcd', 'format', 'new', 'intuitive', 'user', 'friendly', 'interface', 'makes', 'operation', 'simple', 'backups', 'play', 'standard', 'dvd', 'player', 'x', 'oom'])\n('b000h22rbg', ['print', 'shop', '22', 'deluxe', 'print', 'shop', 'deluxe', 'edition', '22', 'gives', 'tools', 'need', 'design', 'publish', 'professional', 'business', 'materials', 'creative', 'projects', 'web', 'pages', 'wealth', 'photo', 'manipulation', 'tools', 'fingertips', 'helps', 'get', 'closer', 'final', 'product', 'see', 'print', 'shop', 'design', 'suite', 'deluxe', 'edition', 'express', 'creativity', 'promote', 'business', 'design', 'web', 'site', 'much', 'one', 'place', 'complete', 'source', 'designing', 'powerful', 'publications', 'home', 'business', 'needs', 'pro', 'publisher', 'deluxe', 'edition', 'lets', 'create', 'banners', 'letterhead', 'business', 'cards', 'postcards', 'find', 'version', 'print', 'shop', 'right', '22', '000', 'templates', '350', '000', 'graphics', 'fingertips', '22', '000', 'pre', 'designed', 'project', 'templates', 'choose', 'easy', 'start', 'next', 'project', 'scratch', 'deluxe', 'edition', 'features', 'flexible', 'design', 'layout', 'tools', '700', 'fonts', 'complete', 'logo', 'creator', 'several', 'professional', 'quality', 'printing', 'options', 'help', 'tailor', 'projects', 'precise', 'needs', 'design', 'layouts', 'multimedia', 'presentations', 'letterhead', 'business', 'cards', 'greeting', 'cards', 'forms', 'multi', 'page', 'brochures', 'stationery', 'sets', 'cd', 'dvd', 'labels', 'newsletters', 'much', 'multi', 'page', 'booklet', 'template', 'helps', 'create', 'exciting', 'projects', 'including', 'programs', 'menus', 'informational', 'pamphlets', 'brochures', 'even', 'turn', 'family', 'history', 'work', 'art', 'unique', 'fun', 'use', 'family', 'tree', 'templates', 'deluxe', 'edition', 'offers', 'wider', 'variety', 'paper', 'sizes', 'several', 'new', 'templates', 'including', '4x6', 'inches', 'notecards', 'postcard', '11x17', 'inch', 'pages', 'square', '6x6', '8x8', '12x12', 'page', 'sizes', 'time', 'add', 'perfect', 'image', 'project', 'deluxe', 'edition', 'features', 'gallery', '400', '000', 'premium', 'images', 'including', '2', '500', 'getty', 'images', 'include', 'photos', 'graphics', 'illustrations', 'web', 'art', 'backgrounds', 'textures', 'seasonal', 'images', 'll', 'always', 'ideal', 'template', 'perfect', 'image', 'complete', 'project', 'program', 'also', 'includes', '2', '900', 'sentiments', 'll', 'precise', 'tools', 'add', 'perfect', 'phrase', 'quote', 'design', 'find', 'perfect', 'project', 'image', 'template', 'every', 'time', 'advanced', 'search', 'tools', 'advanced', 'search', 'function', 'lets', 'conveniently', 'search', 'type', 'tone', 'category', 'keyword', 'purchase', 'deluxe', 'edition', 'also', 'receive', 'six', 'months', 'free', 'access', 'million', 'image', 'club', 'find', 'even', 'images', 'complement', 'designs', 'advanced', 'design', 'print', 'tools', 'convenient', 'pdf', 'tool', 'lets', 'easily', 'convert', 'projects', 'images', 'pdf', 'files', 'easy', 'sharing', 'maintaining', 'high', 'resolution', 'color', 'accuracy', 'also', 'access', 'tools', 'let', 'create', 'sophisticated', 'web', 'pages', 'html', 'coding', 'skills', 'required', 'simple', 'drag', 'drop', 'capabilities', 'allow', 'move', 'images', 'text', 'want', 'advanced', 'html', 'features', 'include', 'dynamic', 'web', 'templates', 'rollover', 'effects', 'hotspots', 'online', 'form', 'creation', 'spell', 'check', 'professional', 'graphic', 'tools', 'give', 'power', 'manipulate', 'images', 'take', 'business', 'communications', 'next', 'level', 'deluxe', 'edition', 'll', 'master', 'tools', 'let', 'create', 'edit', 'vector', 'art', 'create', '3', 'd', 'shapes', 'add', '3', 'd', 'texture', 'effects', 'even', 'draw', 'using', 'pastel', 'charcoal', 'watercolor', 'time', 'print', 'deluxe', 'edition', 'offers', 'advantages', 'several', 'professional', 'print', 'options', 'borderless', 'printing', 'printing', 'directly', 'printable', 'cds', 'dvds', 'print', 'multiple', 'labels', 'variety', 'images', 'text', 'simultaneously', 'one', 'sheet', 'feature', 'perfect', 'mass', 'mailings', 'customizing', 'variety', 'labels', 'ease', 'even', 'personalize', 'ipod', 'skin', 'favorite', 'photo', 'pictures', 'friends', 'cool', 'design', 'many', 'ways', 'deluxe', 'edition', 'help', 'business', 'grow', 'personal', 'projects', 'thrive', 'possibilities', 'endless', 'limit', 'deluxe', 'edition', 'imagination', 'encore'])\n('b000bezsyi', ['imsi', 'turbocad', 'designer', 'v', '11', 'fastest', 'easiest', 'way', 'design', 'product', 'informationit', 'easy', 'bring', 'wildest', 'design', 'ideas', 'life', 'turbocad', 'powerfulvisualization', 'tools', 'nbsp', 'create', 'professional', '2d', 'sketches', 'precisiondrawings', 'sure', 'impress', 'nbsp', 'best', 'par', 'imsi'])\n('b0007g9760', ['lavasoft', 'ad', 'aware', 'plus', 'edition', 'award', 'winning', 'technology', 'ad', 'aware', 'plus', 'edition', 'puts', 'complete', 'control', 'offers', 'highest', 'level', 'protection', 'known', 'unknown', 'threats', 'data', 'mining', 'aggressive', 'advertising', 'parasites', 'scumware', 'selected', 'traditional', 'trolans', 'dialers', 'malware', 'browser', 'hijackers', 'tracking', 'components', 'ad', 'aware', 'plusedition', 'offers', 'power', 'personal', 'edition', 'enhanced', 'additional', 'powerful', 'features', 'protect', 'privacy', 'ad', 'watch', 'real', 'time', 'monitor', 'goes', 'beyond', 'security', 'suites', 'offer', 'adding', 'another', 'layer', 'protection', 'system', 'ad', 'aware', 'plus', 'ad', 'watch', 'allows', 'detect', 'privacy', 'threats', 'computer', 'also', 'block', 'integrating', 'system', 'first', 'place', 'system', 'requirements', 'windows', '95', '98', 'nt', '2000', 'xp', '2003', 'ms', 'terminal', 'services', 'tri', 'synergy'])\n('b0001bg5gq', ['clip', 'art', '250', '000', 'jewel', 'case', 'imsi', 'design'])\n('b000ivhozk', ['instant', 'immersion', 'language', 'lab', 'deluxe', 'edition', 'easy', 'fast', 'way', 'multi', 'language', 'learning', 'product', 'informationpeerless', 'powerful', 'popularly', 'priced', 'new', 'improved', 'instant', 'immersion', 'language', 'lab', 'award', 'winning', 'instructional', 'software', 'suite', 'talks', 'langua', 'topics', 'entertainment'])\n('b000buqo9a', ['elementary', 'school', 'success', 'deluxe', '2006', 'unparalleled', 'primary', 'school', 'content', 'arithmeticto', 'zoology', 'grades', '1', '6product', 'informationintroducing', 'elementary', 'school', 'success', 'deluxe', 'leading', 'edge', 'suite', 'softwaretools', 'personal', 'computer', 'providing', 'elementary', 'students', 'nbsp', 'topics', 'entertainment'])\n('b00032heya', ['national', 'geographic', 'presents', 'redshift', 'planetarium', 'national', 'geographic', 'redshift', 'planetarium', '5', 'takes', 'interactive', 'journey', 'trhough', 'star', 'planets', 'galaxies', 'using', 'deep', 'space', 'technology', 'text', 'illustrations', 'launch', 'stars', 'teach', 'worlds', 'beyond', 'topics', 'entertainment'])\n('b000butd6q', ['math', 'success', 'deluxe', '2006', 'topics', 'entertainment'])\n('b00032hexq', ['national', 'geographic', 'presents', 'forces', 'nature', 'national', 'geographic', 'forces', 'nature', 'll', 'understand', 'nature', 'world', 'forces', 'affect', 'world', 'around', 'us', 'packed', 'hundreds', 'high', 'resolution', 'full', 'screen', 'videos', 'photos', 'educate', 'every', 'aspect', 'earth', 'natural', 'forces', 'topics', 'entertainment'])\n('b000b6vlh4', ['reference', 'success', 'deluxe', '2006', 'reference', 'success', 'deluxe', 'leading', 'edge', 'suite', 'software', 'tools', 'personal', 'computer', 'ideal', 'individual', 'students', 'entire', 'families', 'provides', 'award', 'winning', 'educator', 'endorsed', 'content', 'unrivaled', 'breadth', 'scope', 'data', 'absorbing', 'activities', 'presentation', 'captivate', 'users', 'includes', 'depth', 'national', 'portraits', 'featuring', 'flags', 'histories', 'almanac', 'vital', 'facts', 'figures', 'nobel', 'prize', 'oscar', 'pulitzer', 'prize', 'winners', 'world', 'leaders', 'inventions', 'athletes', 'writers', 'scientists', 'topics', 'entertainment'])\n"
     ]
    }
   ],
   "source": [
    "for i in corpusRDD.take(50):\n",
    "    print(i)"
   ]
  },
  {
   "cell_type": "code",
   "execution_count": 0,
   "metadata": {
    "application/vnd.databricks.v1+cell": {
     "cellMetadata": {
      "byteLimit": 2048000,
      "rowLimit": 10000
     },
     "inputWidgets": {},
     "nuid": "0a43b9ab-396c-4bf5-a63a-46ad6b83dd8f",
     "showTitle": false,
     "tableResultSettingsMap": {},
     "title": ""
    },
    "deletable": false,
    "editable": false,
    "nbgrader": {
     "cell_type": "code",
     "checksum": "26bf2440e02276cfd693aff5571ce022",
     "grade": true,
     "grade_id": "create_corpus_test",
     "locked": true,
     "points": 3,
     "schema_version": 3,
     "solution": false,
     "task": false
    },
    "tags": []
   },
   "outputs": [],
   "source": [
    "\"\"\"Check that there are 400 records in the two small datasets in total\"\"\"\n",
    "assert_equal(corpusRDD.count(), 400)\n",
    "\"\"\"Check that the third smallest token from the token list associated with Record b000jz4hqo is clickart\"\"\"\n",
    "_data = corpusRDD.filter(lambda t: t[0] == 'b000jz4hqo').collect()\n",
    "_words = sorted(_data[0][1])\n",
    "assert_equal(_words[3], 'clickart')"
   ]
  },
  {
   "cell_type": "markdown",
   "metadata": {
    "application/vnd.databricks.v1+cell": {
     "cellMetadata": {
      "byteLimit": 2048000,
      "rowLimit": 10000
     },
     "inputWidgets": {},
     "nuid": "c0872121-e3dd-4b7d-a233-23271089045e",
     "showTitle": false,
     "tableResultSettingsMap": {},
     "title": ""
    }
   },
   "source": [
    "### (2c) Implement an IDFs function\n",
    "Implement `idfs` that assigns an IDF weight to every unique token in an RDD called `corpus`. The function should return a pair RDD where the `key` is the unique token and value is the IDF weight for the token.\n",
    "\n",
    "Recall that the IDF weight for a token, *t*, in a set of documents, *U*, is computed as follows:\n",
    "* Let *N* be the total number of documents in *U*.\n",
    "* Find *n(t)*, the number of documents in *U* that contain *t*.\n",
    "* Then *IDF(t) = N/n(t)*.\n",
    "\n",
    "Use your `idfs` to compute the IDF weights for all tokens in `corpusRDD` (the combined small datasets).\n",
    "How many unique tokens are there?\n",
    "\n",
    "Specifically, in your `idfs`:\n",
    "* `uniqueTokens` is an RDD (not a pair RDD) with a list of unique tokens from each document. For each document, you should only include a token once, even if it appears multiple times in that document.\n",
    "* `tokenCountPairTuple` is a pair RDD with (.,1) in all the values. For example, a pair might be ('data', 1).\n",
    "* `tokenSumPairTuple` is a pair RDD with (.,sum). For example, a pair might be ('data', 10), since for the unique token 'data', it appears in a total of 10 documents."
   ]
  },
  {
   "cell_type": "code",
   "execution_count": 0,
   "metadata": {
    "application/vnd.databricks.v1+cell": {
     "cellMetadata": {
      "byteLimit": 2048000,
      "rowLimit": 10000
     },
     "inputWidgets": {},
     "nuid": "7c44e24d-aef2-4fd3-ba4f-67f61e594481",
     "showTitle": false,
     "tableResultSettingsMap": {},
     "title": ""
    },
    "deletable": false,
    "nbgrader": {
     "cell_type": "code",
     "checksum": "419a57db7b1b94195b34a33acfaa8a06",
     "grade": false,
     "grade_id": "idfs",
     "locked": false,
     "schema_version": 3,
     "solution": true,
     "task": false
    }
   },
   "outputs": [
    {
     "output_type": "stream",
     "name": "stdout",
     "output_type": "stream",
     "text": [
      "There are 4772 unique tokens in the small datasets.\n"
     ]
    }
   ],
   "source": [
    "def idfs(corpus):\n",
    "    \"\"\" Compute IDF\n",
    "    Args:\n",
    "        corpus (RDD): input corpus\n",
    "    Returns:\n",
    "        RDD: a RDD of (token, IDF value)\n",
    "    \"\"\"\n",
    "  \n",
    "    uniqueTokens = corpus.mapValues(set)  # Convert token lists to sets to remove duplicates\n",
    "    tokenCountPairTuple = uniqueTokens.flatMap(lambda x: [(token, 1) for token in x[1]])\n",
    "    tokenSumPairTuple = tokenCountPairTuple.reduceByKey(lambda a, b: a + b)\n",
    "\n",
    "    N = corpus.count() \n",
    "    idfRDD = tokenSumPairTuple.mapValues(lambda count: N / count)  # IDF formula: IDF(t) = N / n(t)\n",
    "\n",
    "    return idfRDD\n",
    "\n",
    "# Compute IDF weights for the corpus\n",
    "idfsSmall = idfs(corpusRDD)\n",
    "\n",
    "# Count unique tokens\n",
    "uniqueTokenCount = idfsSmall.count()\n",
    "\n",
    "print('There are %s unique tokens in the small datasets.' % uniqueTokenCount)\n"
   ]
  },
  {
   "cell_type": "code",
   "execution_count": 0,
   "metadata": {
    "application/vnd.databricks.v1+cell": {
     "cellMetadata": {
      "byteLimit": 2048000,
      "rowLimit": 10000
     },
     "inputWidgets": {},
     "nuid": "7d36ca6b-d617-46b5-a683-a8cf47e9f985",
     "showTitle": false,
     "tableResultSettingsMap": {},
     "title": ""
    },
    "deletable": false,
    "editable": false,
    "nbgrader": {
     "cell_type": "code",
     "checksum": "c239d4aa6cca0efa1b224db393592a21",
     "grade": true,
     "grade_id": "idfs_test",
     "locked": true,
     "points": 3,
     "schema_version": 3,
     "solution": false,
     "task": false
    },
    "tags": []
   },
   "outputs": [],
   "source": [
    "\"\"\"Check that the number of unique tokens in the combined small datasets is 4772\"\"\"\n",
    "assert_equal(uniqueTokenCount, 4772)\n"
   ]
  },
  {
   "cell_type": "markdown",
   "metadata": {
    "application/vnd.databricks.v1+cell": {
     "cellMetadata": {
      "byteLimit": 2048000,
      "rowLimit": 10000
     },
     "inputWidgets": {},
     "nuid": "a0172a0f-13ed-447a-bd20-6490c0a00395",
     "showTitle": false,
     "tableResultSettingsMap": {},
     "title": ""
    }
   },
   "source": [
    "### (2d) Tokens with the smallest IDF\n",
    "Print out the 11 tokens with the smallest IDF in the combined small dataset."
   ]
  },
  {
   "cell_type": "code",
   "execution_count": 0,
   "metadata": {
    "application/vnd.databricks.v1+cell": {
     "cellMetadata": {
      "byteLimit": 2048000,
      "rowLimit": 10000
     },
     "inputWidgets": {},
     "nuid": "abad4da0-9d05-44d4-95ba-c5ce27f91f9b",
     "showTitle": false,
     "tableResultSettingsMap": {},
     "title": ""
    },
    "deletable": false,
    "nbgrader": {
     "cell_type": "code",
     "checksum": "1e20e70a44e4964c5408b34a3a51b0c7",
     "grade": false,
     "grade_id": "smallest_idf",
     "locked": false,
     "schema_version": 3,
     "solution": true,
     "task": false
    }
   },
   "outputs": [
    {
     "output_type": "stream",
     "name": "stdout",
     "output_type": "stream",
     "text": [
      "[('1', 8.51063829787234), ('cd', 8.333333333333334), ('complete', 7.2727272727272725), ('create', 8.333333333333334), ('easy', 7.6923076923076925), ('features', 6.896551724137931), ('new', 6.896551724137931), ('software', 4.25531914893617), ('system', 8.333333333333334), ('use', 7.017543859649122), ('windows', 8.51063829787234)]\n"
     ]
    }
   ],
   "source": [
    "from numpy.testing import assert_equal\n",
    "\n",
    "\n",
    "smallIDFTokens = idfsSmall.takeOrdered(11, key=lambda x: x[1])  # Get 11 lowest IDFs\n",
    "\n",
    "_data = sorted(smallIDFTokens, key=lambda x: x[0])\n",
    "\n",
    "\n",
    "assert_equal(_data[0][0], '1')\n",
    "assert_equal(_data[2][0], 'complete') \n",
    "\n",
    "_expected = ['1', 'cd', 'complete', 'create', 'easy', 'features', 'new', 'software', 'system', 'use', 'windows']\n",
    "_got = [t[0] for t in _data]\n",
    "\n",
    "assert_equal(_got, _expected)\n",
    "print(_data)\n"
   ]
  },
  {
   "cell_type": "code",
   "execution_count": 0,
   "metadata": {
    "application/vnd.databricks.v1+cell": {
     "cellMetadata": {
      "byteLimit": 2048000,
      "rowLimit": 10000
     },
     "inputWidgets": {},
     "nuid": "9323a31b-ecb9-4f4a-a153-639322dc7906",
     "showTitle": false,
     "tableResultSettingsMap": {},
     "title": ""
    },
    "deletable": false,
    "editable": false,
    "nbgrader": {
     "cell_type": "code",
     "checksum": "c96eb5277ca92ae401c54b32ad7d624f",
     "grade": true,
     "grade_id": "smallest_idf_test",
     "locked": true,
     "points": 3,
     "schema_version": 3,
     "solution": false,
     "task": false
    },
    "tags": []
   },
   "outputs": [],
   "source": [
    "_data = sorted(smallIDFTokens)\n",
    "\"\"\"Check that the first token (among the 11 tokens with the smallest idf) is '1' (in string order)\"\"\"\n",
    "assert_equal(_data[0][0], '1')\n",
    "\"\"\"Check that the third token (among the 11 tokens with the smallest idf) is 'complete' (in string order)\"\"\"\n",
    "assert_equal(_data[2][0], 'complete')\n",
    "_expected = ['1', 'cd', 'complete', 'create', 'easy', 'features', 'new', 'software', 'system', 'use', 'windows']\n",
    "_got = [t[0] for t in _data]\n",
    "\"\"\"Check that the 11 tokens with the smallest idf are sorted by the string order\"\"\"\n",
    "assert_equal(_got, _expected)"
   ]
  },
  {
   "cell_type": "markdown",
   "metadata": {
    "application/vnd.databricks.v1+cell": {
     "cellMetadata": {
      "byteLimit": 2048000,
      "rowLimit": 10000
     },
     "inputWidgets": {},
     "nuid": "19b9894c-99d3-4692-b813-02f2721e23be",
     "showTitle": false,
     "tableResultSettingsMap": {},
     "title": ""
    }
   },
   "source": [
    "### (2e) IDF Histogram\n",
    "Plot a histogram of IDF values.  Be sure to use appropriate scaling and bucketing for the data. Use the values across the entire RDD.\n",
    "\n",
    "First plot the histogram using [matplotlib](https://matplotlib.org/stable/gallery/statistics/hist.html)"
   ]
  },
  {
   "cell_type": "code",
   "execution_count": 0,
   "metadata": {
    "application/vnd.databricks.v1+cell": {
     "cellMetadata": {
      "byteLimit": 2048000,
      "rowLimit": 10000
     },
     "inputWidgets": {},
     "nuid": "1232e080-945b-4ebf-8976-d5268faa31cb",
     "showTitle": false,
     "tableResultSettingsMap": {},
     "title": ""
    },
    "deletable": false,
    "nbgrader": {
     "cell_type": "code",
     "checksum": "986b2353ee0fb4a6a002986b35169287",
     "grade": false,
     "grade_id": "idf_historgram",
     "locked": false,
     "schema_version": 3,
     "solution": true,
     "task": false
    }
   },
   "outputs": [
    {
     "output_type": "display_data",
     "data": {
      "image/png": "[encoded data removed]",
      "text/plain": [
       "<Figure size 1000x600 with 1 Axes>"
      ]
     },
     "metadata": {},
     "output_type": "display_data"
    }
   ],
   "source": [
    "import matplotlib.pyplot as plt\n",
    "\n",
    "idf_values = idfsSmall.map(lambda x: x[1]).collect()\n",
    "\n",
    "plt.figure(figsize=(10, 6))\n",
    "plt.hist(idf_values, bins=50, edgecolor='black', alpha=0.7)\n",
    "\n",
    "plt.xlabel('IDF Value')\n",
    "plt.ylabel('Frequency')\n",
    "plt.title('Histogram of IDF Values')\n",
    "plt.yscale('log')\n",
    "\n",
    "plt.show()\n"
   ]
  },
  {
   "cell_type": "markdown",
   "metadata": {
    "application/vnd.databricks.v1+cell": {
     "cellMetadata": {
      "byteLimit": 2048000,
      "rowLimit": 10000
     },
     "inputWidgets": {},
     "nuid": "f371497d-d89e-4507-bd06-c1b51bdc0e54",
     "showTitle": false,
     "tableResultSettingsMap": {},
     "title": ""
    }
   },
   "source": [
    "Next, plot the histogram using the Databricks `display()` function. After the cell runs, click on \"Visualization 1\" to view the plot. You may explore this function by click on \"Edit Visualization\" at the bottom of the plot.\n",
    "\n",
    "<img src=\"https://raw.githubusercontent.com/10605/HW_imgs/main/S24/HW1/Figure_1.png\" alt=\"plot options\" style=\"height: 500px\"/>"
   ]
  },
  {
   "cell_type": "code",
   "execution_count": 0,
   "metadata": {
    "application/vnd.databricks.v1+cell": {
     "cellMetadata": {
      "byteLimit": 2048000,
      "rowLimit": 10000
     },
     "inputWidgets": {},
     "nuid": "e72d3d54-b905-4fbc-bfb1-76699586ec4c",
     "showTitle": false,
     "tableResultSettingsMap": {},
     "title": ""
    },
    "deletable": false,
    "nbgrader": {
     "cell_type": "code",
     "checksum": "e50f9428c736d4f8068dba4b33076463",
     "grade": false,
     "grade_id": "idf_display",
     "locked": false,
     "schema_version": 3,
     "solution": true,
     "task": false
    }
   },
   "outputs": [
    {
     "output_type": "display_data",
     "data": {
      "text/html": [
       "<style scoped>\n",
       "  .table-result-container {\n",
       "    max-height: 300px;\n",
       "    overflow: auto;\n",
       "  }\n",
       "  table, th, td {\n",
       "    border: 1px solid black;\n",
       "    border-collapse: collapse;\n",
       "  }\n",
       "  th, td {\n",
       "    padding: 5px;\n",
       "  }\n",
       "  th {\n",
       "    text-align: left;\n",
       "  }\n",
       "</style><div class='table-result-container'><table class='table-result'><thead style='background-color: white'><tr><th>Token</th><th>IDF_Value</th></tr></thead><tbody><tr><td>950</td><td>400.0</td></tr><tr><td>rom</td><td>16.666666666666668</td></tr><tr><td>dvd</td><td>16.0</td></tr><tr><td>v11</td><td>400.0</td></tr><tr><td>ca</td><td>57.142857142857146</td></tr><tr><td>lap</td><td>200.0</td></tr><tr><td>result</td><td>133.33333333333334</td></tr><tr><td>backed</td><td>80.0</td></tr><tr><td>constantly</td><td>200.0</td></tr><tr><td>files</td><td>14.285714285714286</td></tr><tr><td>set</td><td>23.529411764705884</td></tr><tr><td>like</td><td>23.529411764705884</td></tr><tr><td>period</td><td>200.0</td></tr><tr><td>billing</td><td>200.0</td></tr><tr><td>unlimited</td><td>80.0</td></tr><tr><td>learning</td><td>21.05263157894737</td></tr><tr><td>tune</td><td>100.0</td></tr><tr><td>diskcromwindows</td><td>400.0</td></tr><tr><td>tools</td><td>9.75609756097561</td></tr><tr><td>illustrator</td><td>100.0</td></tr><tr><td>photoshop</td><td>44.44444444444444</td></tr><tr><td>work</td><td>26.666666666666668</td></tr><tr><td>installation</td><td>57.142857142857146</td></tr><tr><td>protectsagainst</td><td>400.0</td></tr><tr><td>compatibility</td><td>57.142857142857146</td></tr><tr><td>microsoft</td><td>12.903225806451612</td></tr><tr><td>mobility</td><td>400.0</td></tr><tr><td>performance</td><td>22.22222222222222</td></tr><tr><td>ever</td><td>23.529411764705884</td></tr><tr><td>508</td><td>400.0</td></tr><tr><td>documents</td><td>22.22222222222222</td></tr><tr><td>naturallyspeakingprofessional</td><td>400.0</td></tr><tr><td>using</td><td>13.333333333333334</td></tr><tr><td>mia</td><td>133.33333333333334</td></tr><tr><td>aladdin</td><td>133.33333333333334</td></tr><tr><td>lightyear</td><td>200.0</td></tr><tr><td>imagination</td><td>80.0</td></tr><tr><td>pixar</td><td>200.0</td></tr><tr><td>wrapping</td><td>200.0</td></tr><tr><td>inc</td><td>14.285714285714286</td></tr><tr><td>cd</td><td>8.333333333333334</td></tr><tr><td>16</td><td>44.44444444444444</td></tr><tr><td>guide</td><td>66.66666666666667</td></tr><tr><td>card</td><td>23.529411764705884</td></tr><tr><td>thought</td><td>133.33333333333334</td></tr><tr><td>color</td><td>21.05263157894737</td></tr><tr><td>especially</td><td>133.33333333333334</td></tr><tr><td>gift</td><td>100.0</td></tr><tr><td>bags</td><td>400.0</td></tr><tr><td>counts</td><td>200.0</td></tr><tr><td>colors</td><td>200.0</td></tr><tr><td>baskets</td><td>400.0</td></tr><tr><td>compatible</td><td>44.44444444444444</td></tr><tr><td>manager</td><td>30.76923076923077</td></tr><tr><td>cache</td><td>200.0</td></tr><tr><td>setuid</td><td>400.0</td></tr><tr><td>sc</td><td>400.0</td></tr><tr><td>comprehensive</td><td>40.0</td></tr><tr><td>connection</td><td>100.0</td></tr><tr><td>command</td><td>400.0</td></tr><tr><td>service</td><td>36.36363636363637</td></tr><tr><td>native</td><td>133.33333333333334</td></tr><tr><td>4</td><td>12.5</td></tr><tr><td>rfc1813</td><td>400.0</td></tr><tr><td>systems</td><td>19.047619047619047</td></tr><tr><td>facto</td><td>400.0</td></tr><tr><td>technology</td><td>20.0</td></tr><tr><td>analytical</td><td>400.0</td></tr><tr><td>webroot</td><td>200.0</td></tr><tr><td>titles</td><td>133.33333333333334</td></tr><tr><td>50</td><td>80.0</td></tr><tr><td>administrators</td><td>133.33333333333334</td></tr><tr><td>anti</td><td>100.0</td></tr><tr><td>subscription</td><td>80.0</td></tr><tr><td>putting</td><td>200.0</td></tr><tr><td>unreliable</td><td>200.0</td></tr><tr><td>click</td><td>50.0</td></tr><tr><td>updates</td><td>100.0</td></tr><tr><td>policy</td><td>80.0</td></tr><tr><td>firewall</td><td>100.0</td></tr><tr><td>consequences</td><td>200.0</td></tr><tr><td>prevention</td><td>200.0</td></tr><tr><td>introduction</td><td>400.0</td></tr><tr><td>deepest</td><td>400.0</td></tr><tr><td>school</td><td>57.142857142857146</td></tr><tr><td>phonics</td><td>100.0</td></tr><tr><td>book</td><td>26.666666666666668</td></tr><tr><td>enhanced</td><td>50.0</td></tr><tr><td>dorothy</td><td>400.0</td></tr><tr><td>esl</td><td>400.0</td></tr><tr><td>numbers</td><td>133.33333333333334</td></tr><tr><td>mouse</td><td>50.0</td></tr><tr><td>56</td><td>200.0</td></tr><tr><td>resource</td><td>80.0</td></tr><tr><td>10</td><td>15.384615384615385</td></tr><tr><td>thoroughly</td><td>400.0</td></tr><tr><td>young</td><td>200.0</td></tr><tr><td>musicalis</td><td>200.0</td></tr><tr><td>leadership</td><td>400.0</td></tr><tr><td>shop</td><td>57.142857142857146</td></tr><tr><td>20</td><td>33.333333333333336</td></tr><tr><td>two</td><td>33.333333333333336</td></tr><tr><td>decades</td><td>400.0</td></tr><tr><td>quality</td><td>21.05263157894737</td></tr><tr><td>risk</td><td>100.0</td></tr><tr><td>host</td><td>50.0</td></tr><tr><td>girls</td><td>200.0</td></tr><tr><td>letting</td><td>400.0</td></tr><tr><td>start</td><td>30.76923076923077</td></tr><tr><td>decision</td><td>200.0</td></tr><tr><td>shoots</td><td>400.0</td></tr><tr><td>visual</td><td>100.0</td></tr><tr><td>clients</td><td>80.0</td></tr><tr><td>hardware</td><td>100.0</td></tr><tr><td>match</td><td>100.0</td></tr><tr><td>trigger</td><td>400.0</td></tr><tr><td>let</td><td>36.36363636363637</td></tr><tr><td>metadata</td><td>400.0</td></tr><tr><td>decks</td><td>400.0</td></tr><tr><td>challenge</td><td>200.0</td></tr><tr><td>beyond</td><td>66.66666666666667</td></tr><tr><td>generates</td><td>400.0</td></tr><tr><td>current</td><td>133.33333333333334</td></tr><tr><td>process</td><td>40.0</td></tr><tr><td>improved</td><td>50.0</td></tr><tr><td>preview</td><td>133.33333333333334</td></tr><tr><td>organize</td><td>50.0</td></tr><tr><td>needs</td><td>25.0</td></tr><tr><td>dramatic</td><td>133.33333333333334</td></tr><tr><td>leading</td><td>40.0</td></tr><tr><td>menus</td><td>66.66666666666667</td></tr><tr><td>feedback</td><td>133.33333333333334</td></tr><tr><td>format</td><td>23.529411764705884</td></tr><tr><td>however</td><td>400.0</td></tr><tr><td>switch</td><td>400.0</td></tr><tr><td>passion</td><td>400.0</td></tr><tr><td>schedule</td><td>400.0</td></tr><tr><td>recording</td><td>133.33333333333334</td></tr><tr><td>bridge</td><td>100.0</td></tr><tr><td>provide</td><td>33.333333333333336</td></tr><tr><td>cards</td><td>36.36363636363637</td></tr><tr><td>check</td><td>133.33333333333334</td></tr><tr><td>flags</td><td>200.0</td></tr><tr><td>incorporate</td><td>200.0</td></tr><tr><td>excellent</td><td>400.0</td></tr><tr><td>meets</td><td>200.0</td></tr><tr><td>smart</td><td>50.0</td></tr><tr><td>finish</td><td>66.66666666666667</td></tr><tr><td>comments</td><td>400.0</td></tr><tr><td>aaf</td><td>400.0</td></tr><tr><td>results</td><td>57.142857142857146</td></tr><tr><td>clicking</td><td>400.0</td></tr><tr><td>action</td><td>33.333333333333336</td></tr><tr><td>panels</td><td>200.0</td></tr><tr><td>stunning</td><td>133.33333333333334</td></tr><tr><td>delivery</td><td>133.33333333333334</td></tr><tr><td>broad</td><td>133.33333333333334</td></tr><tr><td>sync</td><td>400.0</td></tr><tr><td>promote</td><td>133.33333333333334</td></tr><tr><td>customizable</td><td>66.66666666666667</td></tr><tr><td>offers</td><td>18.181818181818183</td></tr><tr><td>exactly</td><td>400.0</td></tr><tr><td>edit</td><td>36.36363636363637</td></tr><tr><td>notes</td><td>133.33333333333334</td></tr><tr><td>production</td><td>66.66666666666667</td></tr><tr><td>timecode</td><td>400.0</td></tr><tr><td>frame</td><td>133.33333333333334</td></tr><tr><td>auto</td><td>200.0</td></tr><tr><td>movie</td><td>44.44444444444444</td></tr><tr><td>remix</td><td>200.0</td></tr><tr><td>steinberg</td><td>133.33333333333334</td></tr><tr><td>family</td><td>36.36363636363637</td></tr><tr><td>memorabilia</td><td>400.0</td></tr><tr><td>dreamweaver</td><td>133.33333333333334</td></tr><tr><td>jump</td><td>133.33333333333334</td></tr><tr><td>dodge</td><td>400.0</td></tr><tr><td>modes</td><td>100.0</td></tr><tr><td>ria</td><td>400.0</td></tr><tr><td>impressive</td><td>200.0</td></tr><tr><td>library</td><td>44.44444444444444</td></tr><tr><td>symbol</td><td>400.0</td></tr><tr><td>png</td><td>400.0</td></tr><tr><td>canvas</td><td>400.0</td></tr><tr><td>styling</td><td>400.0</td></tr><tr><td>common</td><td>100.0</td></tr><tr><td>multipage</td><td>400.0</td></tr><tr><td>symbols</td><td>400.0</td></tr><tr><td>interfaces</td><td>200.0</td></tr><tr><td>dinosaurs</td><td>200.0</td></tr><tr><td>simplified</td><td>200.0</td></tr><tr><td>advancedfeatures</td><td>400.0</td></tr><tr><td>essential</td><td>50.0</td></tr><tr><td>printing</td><td>100.0</td></tr><tr><td>charcoal</td><td>200.0</td></tr><tr><td>free</td><td>28.571428571428573</td></tr><tr><td>mailings</td><td>200.0</td></tr><tr><td>8x8</td><td>200.0</td></tr><tr><td>perfect</td><td>40.0</td></tr><tr><td>deluxe</td><td>19.047619047619047</td></tr><tr><td>wealth</td><td>80.0</td></tr><tr><td>sharing</td><td>100.0</td></tr><tr><td>notecards</td><td>133.33333333333334</td></tr><tr><td>favorite</td><td>30.76923076923077</td></tr><tr><td>category</td><td>200.0</td></tr><tr><td>deletion</td><td>400.0</td></tr><tr><td>recoverlost</td><td>200.0</td></tr><tr><td>lost</td><td>100.0</td></tr><tr><td>handy</td><td>200.0</td></tr><tr><td>finger</td><td>400.0</td></tr><tr><td>kindersley</td><td>200.0</td></tr><tr><td>tests</td><td>133.33333333333334</td></tr><tr><td>everything</td><td>28.571428571428573</td></tr><tr><td>eq</td><td>400.0</td></tr><tr><td>hypnotic</td><td>400.0</td></tr><tr><td>orchestral</td><td>400.0</td></tr><tr><td>copied</td><td>400.0</td></tr><tr><td>avi</td><td>100.0</td></tr><tr><td>fileformat</td><td>400.0</td></tr><tr><td>gb</td><td>400.0</td></tr><tr><td>svcd</td><td>400.0</td></tr><tr><td>remove</td><td>133.33333333333334</td></tr><tr><td>700</td><td>400.0</td></tr><tr><td>months</td><td>200.0</td></tr><tr><td>2d</td><td>200.0</td></tr><tr><td>fastest</td><td>400.0</td></tr><tr><td>components</td><td>200.0</td></tr><tr><td>suites</td><td>400.0</td></tr><tr><td>unknown</td><td>200.0</td></tr><tr><td>popularly</td><td>200.0</td></tr><tr><td>informationpeerless</td><td>400.0</td></tr><tr><td>primary</td><td>400.0</td></tr><tr><td>space</td><td>33.333333333333336</td></tr><tr><td>educate</td><td>400.0</td></tr><tr><td>figures</td><td>133.33333333333334</td></tr><tr><td>vital</td><td>400.0</td></tr><tr><td>scope</td><td>400.0</td></tr><tr><td>far</td><td>133.33333333333334</td></tr><tr><td>enjoyable</td><td>400.0</td></tr><tr><td>tips</td><td>80.0</td></tr><tr><td>entrees</td><td>400.0</td></tr><tr><td>store</td><td>80.0</td></tr><tr><td>boomerang</td><td>400.0</td></tr><tr><td>sophistication</td><td>400.0</td></tr><tr><td>technical</td><td>133.33333333333334</td></tr><tr><td>smith</td><td>200.0</td></tr><tr><td>smoother</td><td>400.0</td></tr><tr><td>engagingly</td><td>400.0</td></tr><tr><td>step</td><td>36.36363636363637</td></tr><tr><td>paris</td><td>400.0</td></tr><tr><td>replicas</td><td>400.0</td></tr><tr><td>insightful</td><td>200.0</td></tr><tr><td>offering</td><td>133.33333333333334</td></tr><tr><td>reveal</td><td>400.0</td></tr><tr><td>louvre</td><td>200.0</td></tr><tr><td>african</td><td>400.0</td></tr><tr><td>museums</td><td>200.0</td></tr><tr><td>something</td><td>400.0</td></tr><tr><td>zoo</td><td>400.0</td></tr><tr><td>unlock</td><td>133.33333333333334</td></tr><tr><td>really</td><td>400.0</td></tr><tr><td>bonus</td><td>133.33333333333334</td></tr><tr><td>crusher</td><td>200.0</td></tr><tr><td>good</td><td>66.66666666666667</td></tr><tr><td>thq</td><td>400.0</td></tr><tr><td>12</td><td>80.0</td></tr><tr><td>middle</td><td>200.0</td></tr><tr><td>teaching</td><td>66.66666666666667</td></tr><tr><td>trudy</td><td>400.0</td></tr><tr><td>washer</td><td>200.0</td></tr><tr><td>input</td><td>200.0</td></tr><tr><td>psp</td><td>200.0</td></tr><tr><td>cartoon</td><td>400.0</td></tr><tr><td>theres</td><td>400.0</td></tr><tr><td>humongous</td><td>400.0</td></tr><tr><td>ghost</td><td>400.0</td></tr><tr><td>schoolhouse</td><td>200.0</td></tr><tr><td>solve</td><td>100.0</td></tr><tr><td>haunted</td><td>200.0</td></tr><tr><td>24</td><td>57.142857142857146</td></tr><tr><td>submarine</td><td>400.0</td></tr><tr><td>childs</td><td>400.0</td></tr><tr><td>requests</td><td>400.0</td></tr><tr><td>authorities</td><td>400.0</td></tr><tr><td>oml</td><td>200.0</td></tr><tr><td>mgmt</td><td>200.0</td></tr><tr><td>eastwest</td><td>400.0</td></tr><tr><td>v9</td><td>133.33333333333334</td></tr><tr><td>cocktails</td><td>100.0</td></tr><tr><td>trying</td><td>133.33333333333334</td></tr><tr><td>bar</td><td>66.66666666666667</td></tr><tr><td>utilities</td><td>200.0</td></tr><tr><td>standards</td><td>133.33333333333334</td></tr><tr><td>hp</td><td>57.142857142857146</td></tr><tr><td>adhesive</td><td>400.0</td></tr><tr><td>dell</td><td>400.0</td></tr><tr><td>cannot</td><td>200.0</td></tr><tr><td>r</td><td>100.0</td></tr><tr><td>portable</td><td>80.0</td></tr><tr><td>volumes</td><td>200.0</td></tr><tr><td>charge</td><td>400.0</td></tr><tr><td>variable</td><td>133.33333333333334</td></tr><tr><td>accessories</td><td>200.0</td></tr><tr><td>inbound</td><td>400.0</td></tr><tr><td>confirms</td><td>400.0</td></tr><tr><td>proactive</td><td>400.0</td></tr><tr><td>protections</td><td>400.0</td></tr><tr><td>realistic</td><td>100.0</td></tr><tr><td>brand</td><td>66.66666666666667</td></tr><tr><td>quizzes</td><td>400.0</td></tr><tr><td>question</td><td>200.0</td></tr><tr><td>length</td><td>400.0</td></tr><tr><td>128</td><td>57.142857142857146</td></tr><tr><td>safely</td><td>200.0</td></tr><tr><td>smartphone</td><td>400.0</td></tr><tr><td>passwords</td><td>200.0</td></tr><tr><td>stores</td><td>133.33333333333334</td></tr><tr><td>handheld</td><td>200.0</td></tr><tr><td>stored</td><td>400.0</td></tr><tr><td>instructor</td><td>400.0</td></tr><tr><td>licks</td><td>400.0</td></tr><tr><td>graduate</td><td>400.0</td></tr><tr><td>michael</td><td>400.0</td></tr><tr><td>strap</td><td>400.0</td></tr><tr><td>threat</td><td>80.0</td></tr><tr><td>cannon</td><td>400.0</td></tr><tr><td>fleet</td><td>400.0</td></tr><tr><td>machine</td><td>200.0</td></tr><tr><td>midst</td><td>400.0</td></tr><tr><td>x3</td><td>200.0</td></tr><tr><td>gates</td><td>400.0</td></tr><tr><td>invade</td><td>400.0</td></tr><tr><td>plateaus</td><td>400.0</td></tr><tr><td>shadows</td><td>400.0</td></tr><tr><td>everquest</td><td>200.0</td></tr><tr><td>eight</td><td>100.0</td></tr><tr><td>companion</td><td>80.0</td></tr><tr><td>emails</td><td>200.0</td></tr><tr><td>recognizes</td><td>200.0</td></tr><tr><td>ergonomic</td><td>400.0</td></tr><tr><td>desk</td><td>400.0</td></tr><tr><td>rely</td><td>200.0</td></tr><tr><td>comfortable</td><td>400.0</td></tr><tr><td>demo</td><td>400.0</td></tr><tr><td>dutch</td><td>400.0</td></tr><tr><td>rather</td><td>200.0</td></tr><tr><td>conferences</td><td>400.0</td></tr><tr><td>quick</td><td>80.0</td></tr><tr><td>matching</td><td>133.33333333333334</td></tr><tr><td>scanners</td><td>133.33333333333334</td></tr><tr><td>exports</td><td>400.0</td></tr><tr><td>cluttering</td><td>400.0</td></tr><tr><td>send</td><td>200.0</td></tr><tr><td>warlords</td><td>200.0</td></tr><tr><td>orb</td><td>400.0</td></tr><tr><td>psg</td><td>400.0</td></tr><tr><td>courseware</td><td>400.0</td></tr><tr><td>texas</td><td>133.33333333333334</td></tr><tr><td>blackmailed</td><td>400.0</td></tr><tr><td>editor</td><td>100.0</td></tr><tr><td>saves</td><td>133.33333333333334</td></tr><tr><td>textbridge</td><td>133.33333333333334</td></tr><tr><td>resulting</td><td>200.0</td></tr><tr><td>classics</td><td>100.0</td></tr><tr><td>avanquest</td><td>200.0</td></tr><tr><td>sim</td><td>200.0</td></tr><tr><td>assaults</td><td>400.0</td></tr><tr><td>breaches</td><td>400.0</td></tr><tr><td>thereby</td><td>400.0</td></tr><tr><td>behavior</td><td>400.0</td></tr><tr><td>risks</td><td>400.0</td></tr><tr><td>endpoints</td><td>200.0</td></tr><tr><td>agent</td><td>80.0</td></tr><tr><td>stages</td><td>400.0</td></tr><tr><td>potential</td><td>200.0</td></tr><tr><td>proactively</td><td>200.0</td></tr><tr><td>defends</td><td>400.0</td></tr><tr><td>servers</td><td>57.142857142857146</td></tr><tr><td>freeze</td><td>400.0</td></tr><tr><td>wma</td><td>400.0</td></tr><tr><td>yet</td><td>200.0</td></tr><tr><td>flaws</td><td>400.0</td></tr><tr><td>ziggy</td><td>400.0</td></tr><tr><td>flowers</td><td>200.0</td></tr><tr><td>praise</td><td>400.0</td></tr><tr><td>wormie</td><td>400.0</td></tr><tr><td>eurotalk</td><td>400.0</td></tr><tr><td>developing</td><td>200.0</td></tr><tr><td>r3900292</td><td>400.0</td></tr><tr><td>manufacturer</td><td>100.0</td></tr><tr><td>timesheets</td><td>400.0</td></tr><tr><td>turns</td><td>200.0</td></tr><tr><td>customer</td><td>133.33333333333334</td></tr><tr><td>errors</td><td>200.0</td></tr><tr><td>preset</td><td>400.0</td></tr><tr><td>groups</td><td>133.33333333333334</td></tr><tr><td>transferred</td><td>400.0</td></tr><tr><td>quickbooksmerchantservice</td><td>400.0</td></tr><tr><td>assemblies</td><td>400.0</td></tr><tr><td>buying</td><td>400.0</td></tr><tr><td>optional</td><td>133.33333333333334</td></tr><tr><td>vendors</td><td>400.0</td></tr><tr><td>charges</td><td>400.0</td></tr><tr><td>overstocking</td><td>400.0</td></tr><tr><td>orders</td><td>400.0</td></tr><tr><td>intuit</td><td>133.33333333333334</td></tr><tr><td>reorder</td><td>400.0</td></tr><tr><td>item</td><td>400.0</td></tr><tr><td>kits</td><td>400.0</td></tr><tr><td>layaways</td><td>400.0</td></tr><tr><td>serve</td><td>200.0</td></tr><tr><td>purchases</td><td>400.0</td></tr><tr><td>helpdesk</td><td>400.0</td></tr><tr><td>brainstormer</td><td>400.0</td></tr><tr><td>research</td><td>200.0</td></tr><tr><td>monthly</td><td>400.0</td></tr><tr><td>foods</td><td>200.0</td></tr><tr><td>coupons</td><td>400.0</td></tr><tr><td>dvo</td><td>400.0</td></tr><tr><td>vegetarian</td><td>200.0</td></tr><tr><td>historic</td><td>400.0</td></tr><tr><td>epic</td><td>100.0</td></tr><tr><td>feel</td><td>400.0</td></tr><tr><td>europe</td><td>200.0</td></tr><tr><td>feudal</td><td>200.0</td></tr><tr><td>extrn</td><td>400.0</td></tr><tr><td>intercepted</td><td>400.0</td></tr><tr><td>engage</td><td>400.0</td></tr><tr><td>hat</td><td>133.33333333333334</td></tr><tr><td>magical</td><td>200.0</td></tr><tr><td>seuss</td><td>200.0</td></tr><tr><td>stickers</td><td>400.0</td></tr><tr><td>helpful</td><td>400.0</td></tr><tr><td>adaptation</td><td>400.0</td></tr><tr><td>surprises</td><td>200.0</td></tr><tr><td>h3200034</td><td>400.0</td></tr><tr><td>external</td><td>200.0</td></tr><tr><td>entities</td><td>200.0</td></tr><tr><td>lions</td><td>400.0</td></tr><tr><td>corporations</td><td>400.0</td></tr><tr><td>coupled</td><td>400.0</td></tr><tr><td>money</td><td>80.0</td></tr><tr><td>invest</td><td>400.0</td></tr><tr><td>distribution</td><td>100.0</td></tr><tr><td>cd08393wi</td><td>400.0</td></tr><tr><td>campaigns</td><td>400.0</td></tr><tr><td>competitor</td><td>200.0</td></tr><tr><td>netmanage</td><td>100.0</td></tr><tr><td>spry</td><td>400.0</td></tr><tr><td>graphically</td><td>200.0</td></tr><tr><td>raw</td><td>133.33333333333334</td></tr><tr><td>combining</td><td>400.0</td></tr><tr><td>compromises</td><td>400.0</td></tr><tr><td>self</td><td>400.0</td></tr><tr><td>upsell</td><td>400.0</td></tr><tr><td>actionscript</td><td>400.0</td></tr><tr><td>exploring</td><td>400.0</td></tr><tr><td>tiff</td><td>400.0</td></tr><tr><td>asset</td><td>400.0</td></tr><tr><td>equips</td><td>400.0</td></tr><tr><td>developers</td><td>100.0</td></tr><tr><td>seamlessly</td><td>200.0</td></tr><tr><td>subject</td><td>400.0</td></tr><tr><td>scripts</td><td>400.0</td></tr><tr><td>stronger</td><td>400.0</td></tr><tr><td>produce</td><td>133.33333333333334</td></tr><tr><td>compositing</td><td>200.0</td></tr><tr><td>diversify</td><td>400.0</td></tr><tr><td>finessing</td><td>400.0</td></tr><tr><td>unprecedented</td><td>200.0</td></tr><tr><td>deploymenteasily</td><td>400.0</td></tr><tr><td>postscript</td><td>200.0</td></tr><tr><td>investments</td><td>400.0</td></tr><tr><td>g</td><td>100.0</td></tr><tr><td>getting</td><td>200.0</td></tr><tr><td>prompted</td><td>400.0</td></tr><tr><td>coverage</td><td>200.0</td></tr><tr><td>acceleration</td><td>400.0</td></tr><tr><td>stateful</td><td>400.0</td></tr><tr><td>managed</td><td>400.0</td></tr><tr><td>engine</td><td>100.0</td></tr><tr><td>xsr</td><td>400.0</td></tr><tr><td>throughput</td><td>400.0</td></tr><tr><td>leveraged</td><td>400.0</td></tr><tr><td>cd374</td><td>400.0</td></tr><tr><td>softgrid</td><td>400.0</td></tr><tr><td>quickstart</td><td>400.0</td></tr><tr><td>clipping</td><td>400.0</td></tr><tr><td>150</td><td>133.33333333333334</td></tr><tr><td>adapters</td><td>400.0</td></tr><tr><td>insight</td><td>400.0</td></tr><tr><td>remaining</td><td>400.0</td></tr><tr><td>murdered</td><td>400.0</td></tr><tr><td>acquire</td><td>400.0</td></tr><tr><td>players</td><td>57.142857142857146</td></tr><tr><td>traveling</td><td>400.0</td></tr><tr><td>water</td><td>133.33333333333334</td></tr><tr><td>weapon</td><td>400.0</td></tr><tr><td>conquering</td><td>400.0</td></tr><tr><td>encounter</td><td>400.0</td></tr><tr><td>unearthly</td><td>400.0</td></tr><tr><td>213076</td><td>200.0</td></tr><tr><td>equilibrium</td><td>200.0</td></tr><tr><td>batches</td><td>400.0</td></tr><tr><td>task</td><td>200.0</td></tr><tr><td>repurpose</td><td>400.0</td></tr><tr><td>crafted</td><td>400.0</td></tr><tr><td>casinogames</td><td>400.0</td></tr><tr><td>installing</td><td>400.0</td></tr><tr><td>metrics</td><td>400.0</td></tr><tr><td>characteristics</td><td>400.0</td></tr><tr><td>verification</td><td>400.0</td></tr><tr><td>cases</td><td>400.0</td></tr><tr><td>initial</td><td>200.0</td></tr><tr><td>returns</td><td>200.0</td></tr><tr><td>v4</td><td>133.33333333333334</td></tr><tr><td>immediate</td><td>400.0</td></tr><tr><td>ed</td><td>200.0</td></tr><tr><td>administer</td><td>400.0</td></tr><tr><td>ste</td><td>400.0</td></tr><tr><td>automating</td><td>400.0</td></tr><tr><td>ethernet</td><td>400.0</td></tr><tr><td>dro</td><td>200.0</td></tr><tr><td>metal</td><td>400.0</td></tr><tr><td>disaster</td><td>400.0</td></tr><tr><td>fraud</td><td>400.0</td></tr><tr><td>clubhouse</td><td>400.0</td></tr><tr><td>24x</td><td>400.0</td></tr><tr><td>overhead</td><td>400.0</td></tr><tr><td>scripture</td><td>400.0</td></tr><tr><td>sun</td><td>133.33333333333334</td></tr><tr><td>administrator</td><td>400.0</td></tr><tr><td>integrate</td><td>400.0</td></tr><tr><td>lara</td><td>400.0</td></tr><tr><td>persistence</td><td>400.0</td></tr><tr><td>references</td><td>400.0</td></tr><tr><td>alerting</td><td>400.0</td></tr><tr><td>crazy</td><td>400.0</td></tr><tr><td>orient</td><td>400.0</td></tr><tr><td>oracle</td><td>400.0</td></tr><tr><td>multiplayer</td><td>400.0</td></tr><tr><td>adventurers</td><td>400.0</td></tr><tr><td>scansoft</td><td>200.0</td></tr><tr><td>paperport</td><td>400.0</td></tr><tr><td>007</td><td>200.0</td></tr><tr><td>builder</td><td>400.0</td></tr><tr><td>binary</td><td>400.0</td></tr><tr><td>consulting</td><td>400.0</td></tr><tr><td>quicken</td><td>200.0</td></tr><tr><td>curling</td><td>400.0</td></tr><tr><td>010008</td><td>400.0</td></tr><tr><td>160</td><td>400.0</td></tr><tr><td>34006</td><td>400.0</td></tr><tr><td>academicmodel</td><td>400.0</td></tr><tr><td>cd34597wiaevendor</td><td>400.0</td></tr><tr><td>panda</td><td>400.0</td></tr><tr><td>8000000</td><td>400.0</td></tr><tr><td>agencies</td><td>400.0</td></tr><tr><td>mypc</td><td>400.0</td></tr><tr><td>protector</td><td>400.0</td></tr><tr><td>boards</td><td>400.0</td></tr><tr><td>social</td><td>400.0</td></tr><tr><td>512mb</td><td>400.0</td></tr><tr><td>healthy</td><td>400.0</td></tr><tr><td>cultures</td><td>400.0</td></tr><tr><td>narrative</td><td>400.0</td></tr><tr><td>idea</td><td>400.0</td></tr><tr><td>l</td><td>133.33333333333334</td></tr><tr><td>protecting</td><td>200.0</td></tr><tr><td>crosspicking</td><td>400.0</td></tr><tr><td>hassle</td><td>400.0</td></tr><tr><td>intake</td><td>400.0</td></tr><tr><td>ships</td><td>100.0</td></tr><tr><td>goods</td><td>400.0</td></tr><tr><td>dj</td><td>400.0</td></tr><tr><td>mhz</td><td>200.0</td></tr><tr><td>los</td><td>400.0</td></tr><tr><td>andmore</td><td>400.0</td></tr><tr><td>schl</td><td>400.0</td></tr><tr><td>dogs</td><td>400.0</td></tr><tr><td>sometimes</td><td>400.0</td></tr><tr><td>trouble</td><td>200.0</td></tr><tr><td>brimming</td><td>400.0</td></tr><tr><td>spec</td><td>400.0</td></tr><tr><td>61208</td><td>400.0</td></tr><tr><td>proposes</td><td>400.0</td></tr><tr><td>lations</td><td>400.0</td></tr><tr><td>mesozoic</td><td>400.0</td></tr><tr><td>spirit</td><td>400.0</td></tr><tr><td>ati</td><td>400.0</td></tr><tr><td>aspyr</td><td>200.0</td></tr><tr><td>james</td><td>400.0</td></tr><tr><td>coursewarecustomizing</td><td>400.0</td></tr><tr><td>landscape</td><td>200.0</td></tr><tr><td>bird</td><td>400.0</td></tr><tr><td>ears</td><td>400.0</td></tr><tr><td>wings</td><td>400.0</td></tr><tr><td>framed</td><td>400.0</td></tr><tr><td>mechanical</td><td>400.0</td></tr><tr><td>registry</td><td>400.0</td></tr><tr><td>repair</td><td>400.0</td></tr><tr><td>holdem</td><td>400.0</td></tr><tr><td>egl</td><td>400.0</td></tr><tr><td>twenty</td><td>400.0</td></tr><tr><td>freely</td><td>400.0</td></tr><tr><td>leonard</td><td>400.0</td></tr><tr><td>algebra</td><td>400.0</td></tr><tr><td>multiplication</td><td>400.0</td></tr><tr><td>radicals</td><td>400.0</td></tr><tr><td>positions</td><td>400.0</td></tr><tr><td>bosendorfer</td><td>400.0</td></tr><tr><td>ambience</td><td>400.0</td></tr><tr><td>v22</td><td>200.0</td></tr><tr><td>shooter</td><td>400.0</td></tr><tr><td>hoth</td><td>400.0</td></tr><tr><td>reorganizing</td><td>400.0</td></tr><tr><td>continues</td><td>400.0</td></tr><tr><td>storyline</td><td>400.0</td></tr><tr><td>boundary</td><td>400.0</td></tr><tr><td>mbmodel</td><td>400.0</td></tr><tr><td>circulatory</td><td>400.0</td></tr><tr><td>lnx</td><td>400.0</td></tr><tr><td>lilo</td><td>400.0</td></tr><tr><td>wavelab</td><td>400.0</td></tr><tr><td>studying</td><td>400.0</td></tr><tr><td>asteroids</td><td>400.0</td></tr><tr><td>cuba</td><td>400.0</td></tr><tr><td>s552</td><td>400.0</td></tr><tr><td>transports</td><td>400.0</td></tr><tr><td>intervened</td><td>400.0</td></tr><tr><td>mediums</td><td>400.0</td></tr><tr><td>vernfp2007rt</td><td>400.0</td></tr><tr><td>intair</td><td>400.0</td></tr><tr><td>corp</td><td>400.0</td></tr><tr><td>00320249</td><td>400.0</td></tr><tr><td>buddy</td><td>400.0</td></tr><tr><td>would</td><td>400.0</td></tr><tr><td>travelers</td><td>400.0</td></tr><tr><td>conversation</td><td>400.0</td></tr><tr><td>quantitative</td><td>400.0</td></tr><tr><td>statistical</td><td>400.0</td></tr><tr><td>outcast</td><td>400.0</td></tr><tr><td>creeping</td><td>400.0</td></tr><tr><td>waiting</td><td>400.0</td></tr><tr><td>intimate</td><td>400.0</td></tr><tr><td>nightfall</td><td>400.0</td></tr><tr><td>10316</td><td>400.0</td></tr><tr><td>blast</td><td>400.0</td></tr><tr><td>excellence</td><td>400.0</td></tr><tr><td>librarians</td><td>400.0</td></tr><tr><td>llc</td><td>400.0</td></tr><tr><td>matter</td><td>400.0</td></tr><tr><td>international</td><td>133.33333333333334</td></tr><tr><td>arcserve</td><td>80.0</td></tr><tr><td>desktops</td><td>100.0</td></tr><tr><td>activity</td><td>100.0</td></tr><tr><td>features</td><td>6.896551724137931</td></tr><tr><td>every</td><td>25.0</td></tr><tr><td>general</td><td>133.33333333333334</td></tr><tr><td>customized</td><td>100.0</td></tr><tr><td>standard</td><td>15.384615384615385</td></tr><tr><td>prior</td><td>200.0</td></tr><tr><td>changes</td><td>133.33333333333334</td></tr><tr><td>ledger</td><td>400.0</td></tr><tr><td>keep</td><td>40.0</td></tr><tr><td>hundreds</td><td>100.0</td></tr><tr><td>shots</td><td>200.0</td></tr><tr><td>solutions</td><td>50.0</td></tr><tr><td>trail</td><td>400.0</td></tr><tr><td>budget</td><td>133.33333333333334</td></tr><tr><td>annual</td><td>200.0</td></tr><tr><td>technologies</td><td>57.142857142857146</td></tr><tr><td>7</td><td>23.529411764705884</td></tr><tr><td>windows</td><td>8.51063829787234</td></tr><tr><td>upgrade</td><td>16.666666666666668</td></tr><tr><td>text</td><td>25.0</td></tr><tr><td>interactive</td><td>14.814814814814815</td></tr><tr><td>create</td><td>8.333333333333334</td></tr><tr><td>capabilities</td><td>66.66666666666667</td></tr><tr><td>saveyou</td><td>400.0</td></tr><tr><td>pro</td><td>11.764705882352942</td></tr><tr><td>indragon</td><td>400.0</td></tr><tr><td>complete</td><td>7.2727272727272725</td></tr><tr><td>certified</td><td>400.0</td></tr><tr><td>applications</td><td>17.391304347826086</td></tr><tr><td>accuracy</td><td>66.66666666666667</td></tr><tr><td>marketing</td><td>26.666666666666668</td></tr><tr><td>email</td><td>66.66666666666667</td></tr><tr><td>costs</td><td>133.33333333333334</td></tr><tr><td>disney</td><td>100.0</td></tr><tr><td>quest</td><td>100.0</td></tr><tr><td>learn</td><td>25.0</td></tr><tr><td>640x480</td><td>200.0</td></tr><tr><td>arc</td><td>133.33333333333334</td></tr><tr><td>beautiful</td><td>66.66666666666667</td></tr><tr><td>fabric</td><td>400.0</td></tr><tr><td>soundblaster</td><td>400.0</td></tr><tr><td>paper</td><td>30.76923076923077</td></tr><tr><td>need</td><td>10.526315789473685</td></tr><tr><td>media</td><td>18.181818181818183</td></tr><tr><td>ram</td><td>40.0</td></tr><tr><td>many</td><td>25.0</td></tr><tr><td>creation</td><td>50.0</td></tr><tr><td>creates</td><td>133.33333333333334</td></tr><tr><td>networking</td><td>133.33333333333334</td></tr><tr><td>rpcsec_gss</td><td>400.0</td></tr><tr><td>symbolic</td><td>400.0</td></tr><tr><td>implementation</td><td>133.33333333333334</td></tr><tr><td>services</td><td>30.76923076923077</td></tr><tr><td>rfc2054</td><td>400.0</td></tr><tr><td>secured</td><td>200.0</td></tr><tr><td>empowers</td><td>400.0</td></tr><tr><td>reliable</td><td>80.0</td></tr><tr><td>powerful</td><td>9.523809523809524</td></tr><tr><td>secure</td><td>25.0</td></tr><tr><td>devices</td><td>44.44444444444444</td></tr><tr><td>delivers</td><td>36.36363636363637</td></tr><tr><td>existing</td><td>80.0</td></tr><tr><td>sweeper</td><td>200.0</td></tr><tr><td>developer</td><td>100.0</td></tr><tr><td>r5</td><td>400.0</td></tr><tr><td>csdc</td><td>133.33333333333334</td></tr><tr><td>netware</td><td>133.33333333333334</td></tr><tr><td>severe</td><td>200.0</td></tr><tr><td>cost</td><td>57.142857142857146</td></tr><tr><td>content</td><td>23.529411764705884</td></tr><tr><td>deployment</td><td>100.0</td></tr><tr><td>today</td><td>44.44444444444444</td></tr><tr><td>add</td><td>23.529411764705884</td></tr><tr><td>expensive</td><td>133.33333333333334</td></tr><tr><td>button</td><td>80.0</td></tr><tr><td>deploy</td><td>44.44444444444444</td></tr><tr><td>gms</td><td>133.33333333333334</td></tr><tr><td>ll</td><td>17.391304347826086</td></tr><tr><td>posed</td><td>400.0</td></tr><tr><td>winning</td><td>33.333333333333336</td></tr><tr><td>bilingual</td><td>400.0</td></tr><tr><td>jellybean</td><td>400.0</td></tr><tr><td>addition</td><td>57.142857142857146</td></tr><tr><td>illustrations</td><td>80.0</td></tr><tr><td>timelines</td><td>133.33333333333334</td></tr><tr><td>articles</td><td>200.0</td></tr><tr><td>guitar</td><td>28.571428571428573</td></tr><tr><td>workshop</td><td>80.0</td></tr><tr><td>digital</td><td>22.22222222222222</td></tr><tr><td>publisher</td><td>66.66666666666667</td></tr><tr><td>control</td><td>33.333333333333336</td></tr><tr><td>protect</td><td>33.333333333333336</td></tr><tr><td>makes</td><td>21.05263157894737</td></tr><tr><td>real</td><td>23.529411764705884</td></tr><tr><td>range</td><td>80.0</td></tr><tr><td>whether</td><td>26.666666666666668</td></tr><tr><td>converted</td><td>400.0</td></tr><tr><td>stay</td><td>80.0</td></tr><tr><td>play</td><td>21.05263157894737</td></tr><tr><td>precise</td><td>100.0</td></tr><tr><td>rendering</td><td>400.0</td></tr><tr><td>lets</td><td>25.0</td></tr><tr><td>miscommunication</td><td>400.0</td></tr><tr><td>directly</td><td>40.0</td></tr><tr><td>note</td><td>133.33333333333334</td></tr><tr><td>apply</td><td>100.0</td></tr><tr><td>camp</td><td>200.0</td></tr><tr><td>efficient</td><td>57.142857142857146</td></tr><tr><td>looming</td><td>400.0</td></tr><tr><td>shot</td><td>200.0</td></tr><tr><td>still</td><td>400.0</td></tr><tr><td>selection</td><td>100.0</td></tr><tr><td>streamlines</td><td>200.0</td></tr><tr><td>analyzer</td><td>400.0</td></tr><tr><td>independent</td><td>200.0</td></tr><tr><td>creativity</td><td>80.0</td></tr><tr><td>slow</td><td>200.0</td></tr><tr><td>recorded</td><td>200.0</td></tr><tr><td>frees</td><td>200.0</td></tr><tr><td>protocols</td><td>100.0</td></tr><tr><td>e</td><td>26.666666666666668</td></tr><tr><td>filmmakers</td><td>400.0</td></tr><tr><td>require</td><td>100.0</td></tr><tr><td>edl</td><td>400.0</td></tr><tr><td>sort</td><td>133.33333333333334</td></tr><tr><td>clip</td><td>200.0</td></tr><tr><td>signals</td><td>400.0</td></tr><tr><td>filmmaking</td><td>400.0</td></tr><tr><td>cell</td><td>200.0</td></tr><tr><td>approval</td><td>400.0</td></tr><tr><td>cue</td><td>200.0</td></tr><tr><td>detects</td><td>400.0</td></tr><tr><td>flexibility</td><td>50.0</td></tr><tr><td>crews</td><td>400.0</td></tr><tr><td>editorial</td><td>400.0</td></tr><tr><td>graphics</td><td>26.666666666666668</td></tr><tr><td>precision</td><td>133.33333333333334</td></tr><tr><td>without</td><td>33.333333333333336</td></tr><tr><td>fit</td><td>100.0</td></tr><tr><td>gen</td><td>400.0</td></tr><tr><td>roxio</td><td>400.0</td></tr><tr><td>trees</td><td>200.0</td></tr><tr><td>tool</td><td>22.22222222222222</td></tr><tr><td>processing</td><td>44.44444444444444</td></tr><tr><td>fireworks</td><td>100.0</td></tr><tr><td>accelerates</td><td>400.0</td></tr><tr><td>linear</td><td>400.0</td></tr><tr><td>buttons</td><td>200.0</td></tr><tr><td>highly</td><td>133.33333333333334</td></tr><tr><td>manipulate</td><td>133.33333333333334</td></tr><tr><td>resolution</td><td>40.0</td></tr><tr><td>ipod</td><td>80.0</td></tr><tr><td>texture</td><td>200.0</td></tr><tr><td>variety</td><td>57.142857142857146</td></tr><tr><td>mass</td><td>200.0</td></tr><tr><td>million</td><td>80.0</td></tr><tr><td>spell</td><td>100.0</td></tr><tr><td>wider</td><td>200.0</td></tr><tr><td>inch</td><td>100.0</td></tr><tr><td>corrupted</td><td>400.0</td></tr><tr><td>might</td><td>200.0</td></tr><tr><td>scsi</td><td>200.0</td></tr><tr><td>netscape</td><td>400.0</td></tr><tr><td>life</td><td>26.666666666666668</td></tr><tr><td>dorling</td><td>200.0</td></tr><tr><td>great</td><td>36.36363636363637</td></tr><tr><td>spark</td><td>400.0</td></tr><tr><td>surround</td><td>400.0</td></tr><tr><td>dts</td><td>400.0</td></tr><tr><td>highspeed</td><td>400.0</td></tr><tr><td>allows</td><td>36.36363636363637</td></tr><tr><td>vcds</td><td>400.0</td></tr><tr><td>automatic</td><td>133.33333333333334</td></tr><tr><td>350</td><td>200.0</td></tr><tr><td>synergy</td><td>200.0</td></tr><tr><td>puts</td><td>200.0</td></tr><tr><td>integrating</td><td>400.0</td></tr><tr><td>aggressive</td><td>200.0</td></tr><tr><td>advertising</td><td>200.0</td></tr><tr><td>dialers</td><td>400.0</td></tr><tr><td>talks</td><td>200.0</td></tr><tr><td>langua</td><td>400.0</td></tr><tr><td>instructional</td><td>200.0</td></tr><tr><td>zoology</td><td>400.0</td></tr><tr><td>planetarium</td><td>200.0</td></tr><tr><td>nature</td><td>133.33333333333334</td></tr><tr><td>writers</td><td>400.0</td></tr><tr><td>tries</td><td>200.0</td></tr><tr><td>concerned</td><td>400.0</td></tr><tr><td>nutritional</td><td>200.0</td></tr><tr><td>menu</td><td>400.0</td></tr><tr><td>lists</td><td>80.0</td></tr><tr><td>rollback</td><td>400.0</td></tr><tr><td>hosting</td><td>400.0</td></tr><tr><td>themes</td><td>133.33333333333334</td></tr><tr><td>custom</td><td>36.36363636363637</td></tr><tr><td>collects</td><td>400.0</td></tr><tr><td>hopper</td><td>400.0</td></tr><tr><td>informationthis</td><td>400.0</td></tr><tr><td>finest</td><td>200.0</td></tr><tr><td>globe</td><td>200.0</td></tr><tr><td>marvels</td><td>400.0</td></tr><tr><td>creations</td><td>200.0</td></tr><tr><td>matchbox</td><td>200.0</td></tr><tr><td>certificates</td><td>400.0</td></tr><tr><td>popping</td><td>400.0</td></tr><tr><td>suv</td><td>400.0</td></tr><tr><td>extend</td><td>200.0</td></tr><tr><td>heroic</td><td>200.0</td></tr><tr><td>methods</td><td>133.33333333333334</td></tr><tr><td>simply</td><td>57.142857142857146</td></tr><tr><td>vulnerable</td><td>200.0</td></tr><tr><td>stick</td><td>400.0</td></tr><tr><td>fox</td><td>400.0</td></tr><tr><td>sierra</td><td>200.0</td></tr><tr><td>double</td><td>200.0</td></tr><tr><td>old</td><td>133.33333333333334</td></tr><tr><td>luther</td><td>133.33333333333334</td></tr><tr><td>fishs</td><td>400.0</td></tr><tr><td>invaders</td><td>400.0</td></tr><tr><td>faces</td><td>400.0</td></tr><tr><td>thing</td><td>133.33333333333334</td></tr><tr><td>knows</td><td>200.0</td></tr><tr><td>main</td><td>200.0</td></tr><tr><td>prosafe</td><td>400.0</td></tr><tr><td>initiated</td><td>400.0</td></tr><tr><td>authentication</td><td>400.0</td></tr><tr><td>sha</td><td>400.0</td></tr><tr><td>equivalent</td><td>200.0</td></tr><tr><td>pki</td><td>200.0</td></tr><tr><td>ipcomp</td><td>400.0</td></tr><tr><td>encryption</td><td>100.0</td></tr><tr><td>1536</td><td>400.0</td></tr><tr><td>pcs</td><td>100.0</td></tr><tr><td>key</td><td>44.44444444444444</td></tr><tr><td>deflate</td><td>400.0</td></tr><tr><td>instrument</td><td>200.0</td></tr><tr><td>diskeeper</td><td>133.33333333333334</td></tr><tr><td>8mb</td><td>400.0</td></tr><tr><td>v10</td><td>50.0</td></tr><tr><td>builds</td><td>133.33333333333334</td></tr><tr><td>ieee</td><td>400.0</td></tr><tr><td>scored</td><td>400.0</td></tr><tr><td>bound</td><td>400.0</td></tr><tr><td>finished</td><td>400.0</td></tr><tr><td>glossy</td><td>400.0</td></tr><tr><td>ocr</td><td>80.0</td></tr><tr><td>immersive</td><td>400.0</td></tr><tr><td>age</td><td>133.33333333333334</td></tr><tr><td>solos</td><td>200.0</td></tr><tr><td>rhythm</td><td>133.33333333333334</td></tr><tr><td>fingerstyle</td><td>200.0</td></tr><tr><td>robots</td><td>400.0</td></tr><tr><td>strengthening</td><td>400.0</td></tr><tr><td>id</td><td>400.0</td></tr><tr><td>experience</td><td>30.76923076923077</td></tr><tr><td>confidence</td><td>400.0</td></tr><tr><td>raise</td><td>400.0</td></tr><tr><td>exams</td><td>200.0</td></tr><tr><td>strategies</td><td>80.0</td></tr><tr><td>wrong</td><td>133.33333333333334</td></tr><tr><td>exam</td><td>200.0</td></tr><tr><td>colleges</td><td>200.0</td></tr><tr><td>spent</td><td>400.0</td></tr><tr><td>info</td><td>400.0</td></tr><tr><td>hands</td><td>200.0</td></tr><tr><td>date</td><td>50.0</td></tr><tr><td>25</td><td>200.0</td></tr><tr><td>charles</td><td>400.0</td></tr><tr><td>existance</td><td>400.0</td></tr><tr><td>louder</td><td>400.0</td></tr><tr><td>basement</td><td>400.0</td></tr><tr><td>horror</td><td>400.0</td></tr><tr><td>ending</td><td>200.0</td></tr><tr><td>terrifying</td><td>200.0</td></tr><tr><td>writer</td><td>400.0</td></tr><tr><td>ruthless</td><td>200.0</td></tr><tr><td>species</td><td>400.0</td></tr><tr><td>return</td><td>200.0</td></tr><tr><td>laser</td><td>200.0</td></tr><tr><td>left</td><td>400.0</td></tr><tr><td>stretched</td><td>400.0</td></tr><tr><td>breaking</td><td>400.0</td></tr><tr><td>almost</td><td>133.33333333333334</td></tr><tr><td>khaak</td><td>400.0</td></tr><tr><td>brothers</td><td>400.0</td></tr><tr><td>svr</td><td>50.0</td></tr><tr><td>win32</td><td>200.0</td></tr><tr><td>sa</td><td>100.0</td></tr><tr><td>velious</td><td>400.0</td></tr><tr><td>luclin</td><td>400.0</td></tr><tr><td>scars</td><td>400.0</td></tr><tr><td>scarred</td><td>400.0</td></tr><tr><td>additionally</td><td>133.33333333333334</td></tr><tr><td>packages</td><td>400.0</td></tr><tr><td>deskewing</td><td>400.0</td></tr><tr><td>iris</td><td>200.0</td></tr><tr><td>leads</td><td>400.0</td></tr><tr><td>incredibly</td><td>400.0</td></tr><tr><td>records</td><td>200.0</td></tr><tr><td>digitizes</td><td>400.0</td></tr><tr><td>seconds</td><td>133.33333333333334</td></tr><tr><td>track</td><td>57.142857142857146</td></tr><tr><td>lojack</td><td>200.0</td></tr><tr><td>frontpage</td><td>200.0</td></tr><tr><td>functionality</td><td>133.33333333333334</td></tr><tr><td>hold</td><td>200.0</td></tr><tr><td>mafia</td><td>400.0</td></tr><tr><td>listen</td><td>100.0</td></tr><tr><td>omnipage</td><td>200.0</td></tr><tr><td>proofreading</td><td>200.0</td></tr><tr><td>invoices</td><td>200.0</td></tr><tr><td>maintains</td><td>400.0</td></tr><tr><td>aquarium</td><td>80.0</td></tr><tr><td>simulated</td><td>400.0</td></tr><tr><td>blitz</td><td>200.0</td></tr><tr><td>clock</td><td>200.0</td></tr><tr><td>scrabble</td><td>200.0</td></tr><tr><td>recent</td><td>400.0</td></tr><tr><td>perimeter</td><td>400.0</td></tr><tr><td>ssl</td><td>400.0</td></tr><tr><td>solaris</td><td>133.33333333333334</td></tr><tr><td>threaten</td><td>400.0</td></tr><tr><td>combat</td><td>133.33333333333334</td></tr><tr><td>early</td><td>80.0</td></tr><tr><td>entertain</td><td>133.33333333333334</td></tr><tr><td>show</td><td>133.33333333333334</td></tr><tr><td>29180248</td><td>200.0</td></tr><tr><td>quantity</td><td>100.0</td></tr><tr><td>breakin</td><td>200.0</td></tr><tr><td>bee</td><td>200.0</td></tr><tr><td>linguistic</td><td>400.0</td></tr><tr><td>stacks</td><td>400.0</td></tr><tr><td>sending</td><td>400.0</td></tr><tr><td>hewlett</td><td>57.142857142857146</td></tr><tr><td>warranty</td><td>133.33333333333334</td></tr><tr><td>employee</td><td>200.0</td></tr><tr><td>multistore</td><td>200.0</td></tr><tr><td>authorize</td><td>400.0</td></tr><tr><td>hand</td><td>80.0</td></tr><tr><td>com</td><td>133.33333333333334</td></tr><tr><td>headquarters</td><td>400.0</td></tr><tr><td>receipt</td><td>400.0</td></tr><tr><td>closing</td><td>400.0</td></tr><tr><td>encyclopaedia</td><td>200.0</td></tr><tr><td>2008</td><td>80.0</td></tr><tr><td>historians</td><td>200.0</td></tr><tr><td>81</td><td>400.0</td></tr><tr><td>experts</td><td>200.0</td></tr><tr><td>encyclopedias</td><td>400.0</td></tr><tr><td>magazine</td><td>400.0</td></tr><tr><td>food</td><td>400.0</td></tr><tr><td>fresh</td><td>400.0</td></tr><tr><td>pilot</td><td>200.0</td></tr><tr><td>healthful</td><td>400.0</td></tr><tr><td>antique</td><td>200.0</td></tr><tr><td>commemorate</td><td>400.0</td></tr><tr><td>dynasty</td><td>400.0</td></tr><tr><td>warfare</td><td>400.0</td></tr><tr><td>unlike</td><td>200.0</td></tr><tr><td>role</td><td>133.33333333333334</td></tr><tr><td>ecc</td><td>400.0</td></tr><tr><td>wish</td><td>133.33333333333334</td></tr><tr><td>delightful</td><td>400.0</td></tr><tr><td>causal</td><td>400.0</td></tr><tr><td>mayzie</td><td>400.0</td></tr><tr><td>parents</td><td>200.0</td></tr><tr><td>oxford</td><td>133.33333333333334</td></tr><tr><td>phrases</td><td>200.0</td></tr><tr><td>matte</td><td>133.33333333333334</td></tr><tr><td>procurve</td><td>133.33333333333334</td></tr><tr><td>ensures</td><td>200.0</td></tr><tr><td>heterogeneously</td><td>400.0</td></tr><tr><td>marked</td><td>400.0</td></tr><tr><td>branch</td><td>400.0</td></tr><tr><td>remains</td><td>400.0</td></tr><tr><td>descriptions</td><td>400.0</td></tr><tr><td>notebook</td><td>400.0</td></tr><tr><td>samples</td><td>200.0</td></tr><tr><td>knowing</td><td>400.0</td></tr><tr><td>complacency</td><td>400.0</td></tr><tr><td>hosted</td><td>400.0</td></tr><tr><td>pick</td><td>200.0</td></tr><tr><td>mistakes</td><td>400.0</td></tr><tr><td>communication</td><td>400.0</td></tr><tr><td>ansi</td><td>400.0</td></tr><tr><td>nondestructive</td><td>400.0</td></tr><tr><td>adjusting</td><td>400.0</td></tr><tr><td>experiences</td><td>400.0</td></tr><tr><td>editions</td><td>400.0</td></tr><tr><td>scriptable</td><td>400.0</td></tr><tr><td>flowing</td><td>400.0</td></tr><tr><td>collaborative</td><td>400.0</td></tr><tr><td>visionary</td><td>400.0</td></tr><tr><td>terms</td><td>200.0</td></tr><tr><td>targeted</td><td>400.0</td></tr><tr><td>stock</td><td>200.0</td></tr><tr><td>regions</td><td>400.0</td></tr><tr><td>bkup</td><td>100.0</td></tr><tr><td>specification</td><td>400.0</td></tr><tr><td>g5</td><td>50.0</td></tr><tr><td>mappoint</td><td>400.0</td></tr><tr><td>inspection</td><td>400.0</td></tr><tr><td>indu</td><td>400.0</td></tr><tr><td>schedules</td><td>400.0</td></tr><tr><td>innovation</td><td>400.0</td></tr><tr><td>ios</td><td>400.0</td></tr><tr><td>ts</td><td>400.0</td></tr><tr><td>mini</td><td>200.0</td></tr><tr><td>searching</td><td>400.0</td></tr><tr><td>quark</td><td>400.0</td></tr><tr><td>utility</td><td>133.33333333333334</td></tr><tr><td>seek</td><td>400.0</td></tr><tr><td>portal</td><td>400.0</td></tr><tr><td>side</td><td>400.0</td></tr><tr><td>deaths</td><td>400.0</td></tr><tr><td>weakened</td><td>400.0</td></tr><tr><td>perspective</td><td>133.33333333333334</td></tr><tr><td>magic</td><td>400.0</td></tr><tr><td>lay</td><td>200.0</td></tr><tr><td>mortagon</td><td>400.0</td></tr><tr><td>god</td><td>200.0</td></tr><tr><td>divine</td><td>400.0</td></tr><tr><td>trading</td><td>200.0</td></tr><tr><td>tranquil</td><td>400.0</td></tr><tr><td>aquatic</td><td>200.0</td></tr><tr><td>pet</td><td>200.0</td></tr><tr><td>combustion</td><td>200.0</td></tr><tr><td>wall</td><td>400.0</td></tr><tr><td>espro</td><td>400.0</td></tr><tr><td>recalled</td><td>400.0</td></tr><tr><td>wlan</td><td>200.0</td></tr><tr><td>physical</td><td>400.0</td></tr><tr><td>11a</td><td>200.0</td></tr><tr><td>reviewing</td><td>400.0</td></tr><tr><td>commonly</td><td>400.0</td></tr><tr><td>app</td><td>400.0</td></tr><tr><td>prefer</td><td>400.0</td></tr><tr><td>tradition</td><td>400.0</td></tr><tr><td>heterogeneous</td><td>400.0</td></tr><tr><td>extending</td><td>200.0</td></tr><tr><td>japanese</td><td>200.0</td></tr><tr><td>azeroth</td><td>200.0</td></tr><tr><td>reinstall</td><td>400.0</td></tr><tr><td>attached</td><td>400.0</td></tr><tr><td>downed</td><td>400.0</td></tr><tr><td>simplifies</td><td>400.0</td></tr><tr><td>timing</td><td>400.0</td></tr><tr><td>directx</td><td>400.0</td></tr><tr><td>microphone</td><td>133.33333333333334</td></tr><tr><td>encouragement</td><td>400.0</td></tr><tr><td>scrapbooks</td><td>200.0</td></tr><tr><td>intended</td><td>400.0</td></tr><tr><td>specified</td><td>200.0</td></tr><tr><td>viewed</td><td>400.0</td></tr><tr><td>fueled</td><td>400.0</td></tr><tr><td>vast</td><td>400.0</td></tr><tr><td>obstacles</td><td>200.0</td></tr><tr><td>unleash</td><td>200.0</td></tr><tr><td>legend</td><td>133.33333333333334</td></tr><tr><td>riddled</td><td>400.0</td></tr><tr><td>unwelcome</td><td>400.0</td></tr><tr><td>mapping</td><td>400.0</td></tr><tr><td>force</td><td>400.0</td></tr><tr><td>delphi</td><td>200.0</td></tr><tr><td>periodicals</td><td>400.0</td></tr><tr><td>distinguish</td><td>400.0</td></tr><tr><td>vary</td><td>400.0</td></tr><tr><td>adv</td><td>200.0</td></tr><tr><td>5310</td><td>400.0</td></tr><tr><td>ssc</td><td>200.0</td></tr><tr><td>lot</td><td>133.33333333333334</td></tr><tr><td>heat</td><td>400.0</td></tr><tr><td>blue</td><td>200.0</td></tr><tr><td>600mhz</td><td>400.0</td></tr><tr><td>serious</td><td>400.0</td></tr><tr><td>alarm</td><td>400.0</td></tr><tr><td>craze</td><td>400.0</td></tr><tr><td>seasoned</td><td>400.0</td></tr><tr><td>various</td><td>133.33333333333334</td></tr><tr><td>10356</td><td>400.0</td></tr><tr><td>ahead</td><td>400.0</td></tr><tr><td>subjects</td><td>133.33333333333334</td></tr><tr><td>extrnlconnnonemplyengl</td><td>400.0</td></tr><tr><td>planmaker</td><td>400.0</td></tr><tr><td>completed</td><td>400.0</td></tr><tr><td>favourite</td><td>400.0</td></tr><tr><td>394</td><td>400.0</td></tr><tr><td>mountain</td><td>400.0</td></tr><tr><td>kinds</td><td>400.0</td></tr><tr><td>pbupgrd</td><td>400.0</td></tr><tr><td>pb</td><td>400.0</td></tr><tr><td>tier</td><td>400.0</td></tr><tr><td>up04003j</td><td>400.0</td></tr><tr><td>10328</td><td>400.0</td></tr><tr><td>w9x</td><td>400.0</td></tr><tr><td>beginning</td><td>400.0</td></tr><tr><td>accompany</td><td>133.33333333333334</td></tr><tr><td>disklavier</td><td>133.33333333333334</td></tr><tr><td>magically</td><td>133.33333333333334</td></tr><tr><td>diskette</td><td>133.33333333333334</td></tr><tr><td>achievement</td><td>133.33333333333334</td></tr><tr><td>lifetime</td><td>400.0</td></tr><tr><td>concealing</td><td>400.0</td></tr><tr><td>eerie</td><td>400.0</td></tr><tr><td>mental</td><td>400.0</td></tr><tr><td>numerous</td><td>400.0</td></tr><tr><td>geometry</td><td>400.0</td></tr><tr><td>trans</td><td>400.0</td></tr><tr><td>240000</td><td>400.0</td></tr><tr><td>contemporary</td><td>200.0</td></tr><tr><td>culture</td><td>400.0</td></tr><tr><td>acoustic</td><td>400.0</td></tr><tr><td>thoughts</td><td>400.0</td></tr><tr><td>expanded</td><td>400.0</td></tr><tr><td>subpoints</td><td>400.0</td></tr><tr><td>propel</td><td>400.0</td></tr><tr><td>mccartney</td><td>400.0</td></tr><tr><td>8in</td><td>400.0</td></tr><tr><td>10in</td><td>400.0</td></tr><tr><td>prints</td><td>400.0</td></tr><tr><td>optionv10</td><td>400.0</td></tr><tr><td>death</td><td>400.0</td></tr><tr><td>helicopters</td><td>400.0</td></tr><tr><td>chopper</td><td>400.0</td></tr><tr><td>inexhaustible</td><td>400.0</td></tr><tr><td>fan</td><td>400.0</td></tr><tr><td>displaying</td><td>400.0</td></tr><tr><td>gps</td><td>400.0</td></tr><tr><td>ringtone</td><td>400.0</td></tr><tr><td>t03660</td><td>400.0</td></tr><tr><td>tomo</td><td>400.0</td></tr><tr><td>hal</td><td>400.0</td></tr><tr><td>decimals</td><td>400.0</td></tr><tr><td>realtime</td><td>400.0</td></tr><tr><td>qb</td><td>400.0</td></tr><tr><td>ds</td><td>400.0</td></tr><tr><td>10900</td><td>400.0</td></tr><tr><td>eras</td><td>400.0</td></tr><tr><td>welcome</td><td>400.0</td></tr><tr><td>supremes</td><td>400.0</td></tr><tr><td>outline</td><td>400.0</td></tr><tr><td>pushes</td><td>400.0</td></tr><tr><td>donating</td><td>400.0</td></tr><tr><td>briny</td><td>400.0</td></tr><tr><td>hogfish</td><td>400.0</td></tr><tr><td>stitch</td><td>400.0</td></tr><tr><td>artists</td><td>133.33333333333334</td></tr><tr><td>astronomy</td><td>400.0</td></tr><tr><td>spacecraft</td><td>400.0</td></tr><tr><td>hobby</td><td>400.0</td></tr><tr><td>among</td><td>400.0</td></tr><tr><td>documentary</td><td>400.0</td></tr><tr><td>aircraft</td><td>400.0</td></tr><tr><td>men</td><td>400.0</td></tr><tr><td>10307</td><td>400.0</td></tr><tr><td>m</td><td>400.0</td></tr><tr><td>sight</td><td>400.0</td></tr><tr><td>black</td><td>400.0</td></tr><tr><td>hampton</td><td>400.0</td></tr><tr><td>l00</td><td>400.0</td></tr><tr><td>25000</td><td>400.0</td></tr><tr><td>progressive</td><td>400.0</td></tr><tr><td>kyoto</td><td>400.0</td></tr><tr><td>xl</td><td>200.0</td></tr><tr><td>sewing</td><td>400.0</td></tr><tr><td>context</td><td>400.0</td></tr><tr><td>ofworld</td><td>400.0</td></tr><tr><td>imagemanager</td><td>400.0</td></tr><tr><td>succeed</td><td>400.0</td></tr><tr><td>elona</td><td>400.0</td></tr><tr><td>selentine</td><td>400.0</td></tr><tr><td>spells</td><td>400.0</td></tr><tr><td>absolutely</td><td>400.0</td></tr><tr><td>castle</td><td>400.0</td></tr><tr><td>millies</td><td>400.0</td></tr><tr><td>unsurpassed</td><td>400.0</td></tr><tr><td>firmly</td><td>400.0</td></tr><tr><td>homepage</td><td>400.0</td></tr><tr><td>infection</td><td>400.0</td></tr><tr><td>associates</td><td>57.142857142857146</td></tr><tr><td>30pk</td><td>400.0</td></tr><tr><td>1</td><td>8.51063829787234</td></tr><tr><td>win</td><td>8.88888888888889</td></tr><tr><td>8</td><td>18.181818181818183</td></tr><tr><td>improve</td><td>66.66666666666667</td></tr><tr><td>convert</td><td>23.529411764705884</td></tr><tr><td>management</td><td>19.047619047619047</td></tr><tr><td>2007</td><td>21.05263157894737</td></tr><tr><td>use</td><td>7.017543859649122</td></tr><tr><td>programs</td><td>40.0</td></tr><tr><td>customization</td><td>200.0</td></tr><tr><td>locking</td><td>200.0</td></tr><tr><td>nonprofit</td><td>200.0</td></tr><tr><td>assets</td><td>66.66666666666667</td></tr><tr><td>year</td><td>66.66666666666667</td></tr><tr><td>businesses</td><td>200.0</td></tr><tr><td>accounts</td><td>200.0</td></tr><tr><td>transactions</td><td>200.0</td></tr><tr><td>carry</td><td>200.0</td></tr><tr><td>retrospect</td><td>80.0</td></tr><tr><td>ntsc</td><td>400.0</td></tr><tr><td>layers</td><td>100.0</td></tr><tr><td>professional</td><td>10.0</td></tr><tr><td>presets</td><td>133.33333333333334</td></tr><tr><td>animation</td><td>400.0</td></tr><tr><td>masks</td><td>400.0</td></tr><tr><td>caching</td><td>400.0</td></tr><tr><td>output</td><td>100.0</td></tr><tr><td>enterprise</td><td>23.529411764705884</td></tr><tr><td>citrix</td><td>400.0</td></tr><tr><td>0</td><td>8.695652173913043</td></tr><tr><td>dragon</td><td>200.0</td></tr><tr><td>overthree</td><td>400.0</td></tr><tr><td>9</td><td>44.44444444444444</td></tr><tr><td>anyone</td><td>66.66666666666667</td></tr><tr><td>language</td><td>40.0</td></tr><tr><td>typing</td><td>133.33333333333334</td></tr><tr><td>safer</td><td>200.0</td></tr><tr><td>corporateprofessionals</td><td>400.0</td></tr><tr><td>academic</td><td>57.142857142857146</td></tr><tr><td>math</td><td>40.0</td></tr><tr><td>house</td><td>57.142857142857146</td></tr><tr><td>kutoka</td><td>200.0</td></tr><tr><td>secret</td><td>200.0</td></tr><tr><td>monitor</td><td>40.0</td></tr><tr><td>presented</td><td>200.0</td></tr><tr><td>386</td><td>400.0</td></tr><tr><td>basic</td><td>66.66666666666667</td></tr><tr><td>mac</td><td>9.090909090909092</td></tr><tr><td>networks</td><td>36.36363636363637</td></tr><tr><td>nfsv4</td><td>400.0</td></tr><tr><td>version</td><td>16.666666666666668</td></tr><tr><td>links</td><td>133.33333333333334</td></tr><tr><td>nis</td><td>400.0</td></tr><tr><td>line</td><td>80.0</td></tr><tr><td>specific</td><td>66.66666666666667</td></tr><tr><td>seamless</td><td>100.0</td></tr><tr><td>professionals</td><td>50.0</td></tr><tr><td>interoperability</td><td>200.0</td></tr><tr><td>edition</td><td>12.5</td></tr><tr><td>integrated</td><td>50.0</td></tr><tr><td>deploying</td><td>200.0</td></tr><tr><td>creating</td><td>33.333333333333336</td></tr><tr><td>end</td><td>57.142857142857146</td></tr><tr><td>development</td><td>30.76923076923077</td></tr><tr><td>v5</td><td>400.0</td></tr><tr><td>reference</td><td>28.571428571428573</td></tr><tr><td>explains</td><td>400.0</td></tr><tr><td>views</td><td>400.0</td></tr><tr><td>doc</td><td>400.0</td></tr><tr><td>lic</td><td>40.0</td></tr><tr><td>compaq</td><td>200.0</td></tr><tr><td>point</td><td>50.0</td></tr><tr><td>grows</td><td>200.0</td></tr><tr><td>linked</td><td>133.33333333333334</td></tr><tr><td>limited</td><td>100.0</td></tr><tr><td>basis</td><td>133.33333333333334</td></tr><tr><td>internet</td><td>21.05263157894737</td></tr><tr><td>large</td><td>57.142857142857146</td></tr><tr><td>sgms</td><td>400.0</td></tr><tr><td>appliances</td><td>133.33333333333334</td></tr><tr><td>configure</td><td>100.0</td></tr><tr><td>site</td><td>40.0</td></tr><tr><td>filtering</td><td>133.33333333333334</td></tr><tr><td>allowing</td><td>133.33333333333334</td></tr><tr><td>uncover</td><td>400.0</td></tr><tr><td>presents</td><td>50.0</td></tr><tr><td>mysteries</td><td>400.0</td></tr><tr><td>seven</td><td>100.0</td></tr><tr><td>award</td><td>33.333333333333336</td></tr><tr><td>misc</td><td>400.0</td></tr><tr><td>clear</td><td>200.0</td></tr><tr><td>friendly</td><td>57.142857142857146</td></tr><tr><td>truly</td><td>200.0</td></tr><tr><td>643</td><td>400.0</td></tr><tr><td>revised</td><td>400.0</td></tr><tr><td>accessible</td><td>133.33333333333334</td></tr><tr><td>student</td><td>200.0</td></tr><tr><td>maps</td><td>400.0</td></tr><tr><td>publications</td><td>133.33333333333334</td></tr><tr><td>home</td><td>16.666666666666668</td></tr><tr><td>means</td><td>200.0</td></tr><tr><td>guesswork</td><td>200.0</td></tr><tr><td>state</td><td>133.33333333333334</td></tr><tr><td>always</td><td>50.0</td></tr><tr><td>full</td><td>14.285714285714286</td></tr><tr><td>corruption</td><td>400.0</td></tr><tr><td>power</td><td>14.814814814814815</td></tr><tr><td>several</td><td>133.33333333333334</td></tr><tr><td>panel</td><td>200.0</td></tr><tr><td>effect</td><td>400.0</td></tr><tr><td>instant</td><td>23.529411764705884</td></tr><tr><td>capture</td><td>36.36363636363637</td></tr><tr><td>widest</td><td>400.0</td></tr><tr><td>audio</td><td>30.76923076923077</td></tr><tr><td>nested</td><td>400.0</td></tr><tr><td>handle</td><td>133.33333333333334</td></tr><tr><td>tapeless</td><td>400.0</td></tr><tr><td>swf</td><td>400.0</td></tr><tr><td>encore</td><td>28.571428571428573</td></tr><tr><td>possible</td><td>50.0</td></tr><tr><td>multi</td><td>30.76923076923077</td></tr><tr><td>deadlines</td><td>400.0</td></tr><tr><td>waveform</td><td>400.0</td></tr><tr><td>benefit</td><td>100.0</td></tr><tr><td>processes</td><td>100.0</td></tr><tr><td>chapter</td><td>400.0</td></tr><tr><td>replace</td><td>400.0</td></tr><tr><td>separately</td><td>133.33333333333334</td></tr><tr><td>disc</td><td>133.33333333333334</td></tr><tr><td>three</td><td>50.0</td></tr><tr><td>paste</td><td>100.0</td></tr><tr><td>fine</td><td>400.0</td></tr><tr><td>rerecord</td><td>400.0</td></tr><tr><td>aspects</td><td>400.0</td></tr><tr><td>viewable</td><td>200.0</td></tr><tr><td>pointing</td><td>400.0</td></tr><tr><td>ratio</td><td>400.0</td></tr><tr><td>update</td><td>133.33333333333334</td></tr><tr><td>timeline</td><td>200.0</td></tr><tr><td>points</td><td>133.33333333333334</td></tr><tr><td>expand</td><td>80.0</td></tr><tr><td>educators</td><td>200.0</td></tr><tr><td>programming</td><td>100.0</td></tr><tr><td>calibrate</td><td>400.0</td></tr><tr><td>tight</td><td>200.0</td></tr><tr><td>things</td><td>80.0</td></tr><tr><td>profile</td><td>400.0</td></tr><tr><td>dvds</td><td>28.571428571428573</td></tr><tr><td>searches</td><td>200.0</td></tr><tr><td>boutiques</td><td>400.0</td></tr><tr><td>compromising</td><td>400.0</td></tr><tr><td>premiere</td><td>66.66666666666667</td></tr><tr><td>preserving</td><td>400.0</td></tr><tr><td>filters</td><td>200.0</td></tr><tr><td>footage</td><td>400.0</td></tr><tr><td>encode</td><td>400.0</td></tr><tr><td>look</td><td>133.33333333333334</td></tr><tr><td>projects</td><td>40.0</td></tr><tr><td>authoring</td><td>66.66666666666667</td></tr><tr><td>run</td><td>66.66666666666667</td></tr><tr><td>high</td><td>16.0</td></tr><tr><td>rest</td><td>200.0</td></tr><tr><td>row</td><td>400.0</td></tr><tr><td>names</td><td>200.0</td></tr><tr><td>books</td><td>100.0</td></tr><tr><td>novice</td><td>200.0</td></tr><tr><td>rapidly</td><td>100.0</td></tr><tr><td>shadow</td><td>400.0</td></tr><tr><td>virtually</td><td>66.66666666666667</td></tr><tr><td>customize</td><td>66.66666666666667</td></tr><tr><td>prototypes</td><td>400.0</td></tr><tr><td>similar</td><td>133.33333333333334</td></tr><tr><td>flex</td><td>200.0</td></tr><tr><td>cross</td><td>100.0</td></tr><tr><td>layer</td><td>133.33333333333334</td></tr><tr><td>divx</td><td>80.0</td></tr><tr><td>take</td><td>16.666666666666668</td></tr><tr><td>22</td><td>200.0</td></tr><tr><td>watercolor</td><td>200.0</td></tr><tr><td>rollover</td><td>200.0</td></tr><tr><td>sets</td><td>200.0</td></tr><tr><td>online</td><td>40.0</td></tr><tr><td>getty</td><td>200.0</td></tr><tr><td>100</td><td>36.36363636363637</td></tr><tr><td>source</td><td>40.0</td></tr><tr><td>template</td><td>133.33333333333334</td></tr><tr><td>print</td><td>21.05263157894737</td></tr><tr><td>designed</td><td>19.047619047619047</td></tr><tr><td>banners</td><td>200.0</td></tr><tr><td>square</td><td>200.0</td></tr><tr><td>allow</td><td>100.0</td></tr><tr><td>publish</td><td>133.33333333333334</td></tr><tr><td>exciting</td><td>36.36363636363637</td></tr><tr><td>usb</td><td>200.0</td></tr><tr><td>install</td><td>200.0</td></tr><tr><td>installed</td><td>200.0</td></tr><tr><td>longer</td><td>200.0</td></tr><tr><td>accidental</td><td>400.0</td></tr><tr><td>band</td><td>133.33333333333334</td></tr><tr><td>music</td><td>44.44444444444444</td></tr><tr><td>low</td><td>133.33333333333334</td></tr><tr><td>created</td><td>200.0</td></tr><tr><td>minutes</td><td>57.142857142857146</td></tr><tr><td>phone</td><td>133.33333333333334</td></tr><tr><td>wmv</td><td>133.33333333333334</td></tr><tr><td>browser</td><td>133.33333333333334</td></tr><tr><td>2003</td><td>57.142857142857146</td></tr><tr><td>mining</td><td>200.0</td></tr><tr><td>trolans</td><td>400.0</td></tr><tr><td>lab</td><td>133.33333333333334</td></tr><tr><td>grades</td><td>100.0</td></tr><tr><td>success</td><td>40.0</td></tr><tr><td>edge</td><td>66.66666666666667</td></tr><tr><td>trhough</td><td>400.0</td></tr><tr><td>journey</td><td>100.0</td></tr><tr><td>forces</td><td>200.0</td></tr><tr><td>understand</td><td>100.0</td></tr><tr><td>around</td><td>133.33333333333334</td></tr><tr><td>presentation</td><td>133.33333333333334</td></tr><tr><td>portraits</td><td>400.0</td></tr><tr><td>captivate</td><td>400.0</td></tr><tr><td>leaders</td><td>400.0</td></tr><tr><td>satisfying</td><td>400.0</td></tr><tr><td>planning</td><td>133.33333333333334</td></tr><tr><td>mastercook</td><td>200.0</td></tr><tr><td>desserts</td><td>400.0</td></tr><tr><td>appetizers</td><td>400.0</td></tr><tr><td>meal</td><td>400.0</td></tr><tr><td>grams</td><td>400.0</td></tr><tr><td>database</td><td>100.0</td></tr><tr><td>commerce</td><td>133.33333333333334</td></tr><tr><td>thumbnail</td><td>200.0</td></tr><tr><td>clicks</td><td>100.0</td></tr><tr><td>games</td><td>26.666666666666668</td></tr><tr><td>evil</td><td>400.0</td></tr><tr><td>roms</td><td>57.142857142857146</td></tr><tr><td>breathtaking</td><td>400.0</td></tr><tr><td>museum</td><td>133.33333333333334</td></tr><tr><td>beauty</td><td>100.0</td></tr><tr><td>rope</td><td>200.0</td></tr><tr><td>spirits</td><td>400.0</td></tr><tr><td>narrations</td><td>400.0</td></tr><tr><td>creatures</td><td>133.33333333333334</td></tr><tr><td>factory</td><td>400.0</td></tr><tr><td>interact</td><td>400.0</td></tr><tr><td>awards</td><td>400.0</td></tr><tr><td>missions</td><td>133.33333333333334</td></tr><tr><td>intense</td><td>200.0</td></tr><tr><td>race</td><td>100.0</td></tr><tr><td>science</td><td>66.66666666666667</td></tr><tr><td>keeps</td><td>133.33333333333334</td></tr><tr><td>dangers</td><td>133.33333333333334</td></tr><tr><td>private</td><td>400.0</td></tr><tr><td>removed</td><td>400.0</td></tr><tr><td>reassigning</td><td>200.0</td></tr><tr><td>mpeg</td><td>133.33333333333334</td></tr><tr><td>four</td><td>66.66666666666667</td></tr><tr><td>fish</td><td>57.142857142857146</td></tr><tr><td>sleuths</td><td>200.0</td></tr><tr><td>sing</td><td>133.33333333333334</td></tr><tr><td>phony</td><td>400.0</td></tr><tr><td>undersea</td><td>400.0</td></tr><tr><td>33mhz</td><td>400.0</td></tr><tr><td>dive</td><td>400.0</td></tr><tr><td>festive</td><td>400.0</td></tr><tr><td>mystery</td><td>133.33333333333334</td></tr><tr><td>breaks</td><td>400.0</td></tr><tr><td>netgear</td><td>400.0</td></tr><tr><td>lzs</td><td>400.0</td></tr><tr><td>des</td><td>200.0</td></tr><tr><td>vpn01l</td><td>400.0</td></tr><tr><td>3des</td><td>400.0</td></tr><tr><td>public</td><td>400.0</td></tr><tr><td>grand</td><td>400.0</td></tr><tr><td>admin</td><td>200.0</td></tr><tr><td>sngl</td><td>400.0</td></tr><tr><td>beverage</td><td>200.0</td></tr><tr><td>recipies</td><td>400.0</td></tr><tr><td>stable</td><td>400.0</td></tr><tr><td>unified</td><td>200.0</td></tr><tr><td>junk</td><td>400.0</td></tr><tr><td>unwanted</td><td>400.0</td></tr><tr><td>workgroups</td><td>80.0</td></tr><tr><td>assembly</td><td>400.0</td></tr><tr><td>select</td><td>80.0</td></tr><tr><td>trip</td><td>200.0</td></tr><tr><td>strips</td><td>400.0</td></tr><tr><td>ink</td><td>400.0</td></tr><tr><td>acrobat</td><td>66.66666666666667</td></tr><tr><td>strength</td><td>400.0</td></tr><tr><td>fretboard</td><td>400.0</td></tr><tr><td>acquired</td><td>400.0</td></tr><tr><td>metronome</td><td>200.0</td></tr><tr><td>clapton</td><td>400.0</td></tr><tr><td>dictionary</td><td>80.0</td></tr><tr><td>hackers</td><td>200.0</td></tr><tr><td>authenticity</td><td>400.0</td></tr><tr><td>transmit</td><td>400.0</td></tr><tr><td>writing</td><td>100.0</td></tr><tr><td>technique</td><td>200.0</td></tr><tr><td>flashcards</td><td>400.0</td></tr><tr><td>discussion</td><td>400.0</td></tr><tr><td>answers</td><td>133.33333333333334</td></tr><tr><td>psat</td><td>133.33333333333334</td></tr><tr><td>personalized</td><td>200.0</td></tr><tr><td>act</td><td>133.33333333333334</td></tr><tr><td>sat</td><td>133.33333333333334</td></tr><tr><td>flyer</td><td>400.0</td></tr><tr><td>falling</td><td>400.0</td></tr><tr><td>git</td><td>400.0</td></tr><tr><td>45</td><td>400.0</td></tr><tr><td>cut</td><td>100.0</td></tr><tr><td>walls</td><td>100.0</td></tr><tr><td>blackwood</td><td>400.0</td></tr><tr><td>victorian</td><td>200.0</td></tr><tr><td>universe</td><td>200.0</td></tr><tr><td>argon</td><td>400.0</td></tr><tr><td>rumors</td><td>400.0</td></tr><tr><td>dramatica</td><td>200.0</td></tr><tr><td>ravaged</td><td>400.0</td></tr><tr><td>beasts</td><td>400.0</td></tr><tr><td>mata</td><td>400.0</td></tr><tr><td>realm</td><td>400.0</td></tr><tr><td>scanned</td><td>200.0</td></tr><tr><td>iriscard</td><td>200.0</td></tr><tr><td>cable</td><td>400.0</td></tr><tr><td>german</td><td>400.0</td></tr><tr><td>minimize</td><td>400.0</td></tr><tr><td>compact</td><td>80.0</td></tr><tr><td>useful</td><td>200.0</td></tr><tr><td>cardiris</td><td>400.0</td></tr><tr><td>usoa307</td><td>400.0</td></tr><tr><td>palm</td><td>100.0</td></tr><tr><td>twain</td><td>400.0</td></tr><tr><td>bcr</td><td>400.0</td></tr><tr><td>touch</td><td>400.0</td></tr><tr><td>locations</td><td>200.0</td></tr><tr><td>directions</td><td>400.0</td></tr><tr><td>autodesk</td><td>100.0</td></tr><tr><td>autocad</td><td>200.0</td></tr><tr><td>room</td><td>400.0</td></tr><tr><td>pros</td><td>400.0</td></tr><tr><td>cold</td><td>200.0</td></tr><tr><td>weapons</td><td>400.0</td></tr><tr><td>zero</td><td>133.33333333333334</td></tr><tr><td>processed</td><td>200.0</td></tr><tr><td>faithful</td><td>400.0</td></tr><tr><td>estimates</td><td>400.0</td></tr><tr><td>conventional</td><td>400.0</td></tr><tr><td>k9</td><td>200.0</td></tr><tr><td>evolving</td><td>400.0</td></tr><tr><td>deployed</td><td>133.33333333333334</td></tr><tr><td>fix</td><td>133.33333333333334</td></tr><tr><td>jvc</td><td>400.0</td></tr><tr><td>264</td><td>400.0</td></tr><tr><td>pricing</td><td>200.0</td></tr><tr><td>entertaining</td><td>200.0</td></tr><tr><td>moves</td><td>100.0</td></tr><tr><td>fogware</td><td>200.0</td></tr><tr><td>reform</td><td>200.0</td></tr><tr><td>ext</td><td>200.0</td></tr><tr><td>shipment</td><td>400.0</td></tr><tr><td>manual</td><td>400.0</td></tr><tr><td>sends</td><td>400.0</td></tr><tr><td>correctly</td><td>400.0</td></tr><tr><td>coded</td><td>400.0</td></tr><tr><td>manufacturers</td><td>400.0</td></tr><tr><td>mailing</td><td>400.0</td></tr><tr><td>compare</td><td>400.0</td></tr><tr><td>guaranteed</td><td>200.0</td></tr><tr><td>tracked</td><td>400.0</td></tr><tr><td>valuation</td><td>400.0</td></tr><tr><td>preferred</td><td>200.0</td></tr><tr><td>vouchers</td><td>400.0</td></tr><tr><td>17</td><td>200.0</td></tr><tr><td>atlas</td><td>400.0</td></tr><tr><td>ride</td><td>400.0</td></tr><tr><td>shaped</td><td>400.0</td></tr><tr><td>minds</td><td>400.0</td></tr><tr><td>astronomers</td><td>400.0</td></tr><tr><td>merriam</td><td>400.0</td></tr><tr><td>tasty</td><td>400.0</td></tr><tr><td>fats</td><td>400.0</td></tr><tr><td>14</td><td>200.0</td></tr><tr><td>wreckage</td><td>200.0</td></tr><tr><td>titanic</td><td>200.0</td></tr><tr><td>april</td><td>400.0</td></tr><tr><td>league</td><td>200.0</td></tr><tr><td>proportions</td><td>200.0</td></tr><tr><td>ocean</td><td>133.33333333333334</td></tr><tr><td>hallmark</td><td>100.0</td></tr><tr><td>medieval</td><td>200.0</td></tr><tr><td>diplomacy</td><td>400.0</td></tr><tr><td>kings</td><td>200.0</td></tr><tr><td>elegant</td><td>400.0</td></tr><tr><td>cryptosystem</td><td>400.0</td></tr><tr><td>serverlock</td><td>200.0</td></tr><tr><td>increased</td><td>133.33333333333334</td></tr><tr><td>rhyming</td><td>400.0</td></tr><tr><td>fundamental</td><td>100.0</td></tr><tr><td>learns</td><td>400.0</td></tr><tr><td>chart</td><td>400.0</td></tr><tr><td>rapid</td><td>200.0</td></tr><tr><td>model</td><td>80.0</td></tr><tr><td>chips</td><td>400.0</td></tr><tr><td>sps</td><td>200.0</td></tr><tr><td>microspot</td><td>200.0</td></tr><tr><td>interiors</td><td>200.0</td></tr><tr><td>needed</td><td>100.0</td></tr><tr><td>revenue</td><td>400.0</td></tr><tr><td>availability</td><td>100.0</td></tr><tr><td>framework</td><td>100.0</td></tr><tr><td>managerandquot</td><td>400.0</td></tr><tr><td>assistant</td><td>400.0</td></tr><tr><td>helping</td><td>133.33333333333334</td></tr><tr><td>hr</td><td>400.0</td></tr><tr><td>meet</td><td>80.0</td></tr><tr><td>scalable</td><td>200.0</td></tr><tr><td>direction</td><td>400.0</td></tr><tr><td>third</td><td>133.33333333333334</td></tr><tr><td>shifting</td><td>400.0</td></tr><tr><td>fees</td><td>200.0</td></tr><tr><td>opportunities</td><td>200.0</td></tr><tr><td>widely</td><td>100.0</td></tr><tr><td>leverage</td><td>133.33333333333334</td></tr><tr><td>paths</td><td>200.0</td></tr><tr><td>extendscript</td><td>400.0</td></tr><tr><td>collaborate</td><td>400.0</td></tr><tr><td>live</td><td>133.33333333333334</td></tr><tr><td>craft</td><td>200.0</td></tr><tr><td>tightly</td><td>400.0</td></tr><tr><td>workarounds</td><td>400.0</td></tr><tr><td>extensible</td><td>400.0</td></tr><tr><td>allocate</td><td>400.0</td></tr><tr><td>members</td><td>400.0</td></tr><tr><td>xhtml</td><td>400.0</td></tr><tr><td>flight</td><td>400.0</td></tr><tr><td>exceed</td><td>200.0</td></tr><tr><td>authorized</td><td>200.0</td></tr><tr><td>rhf0211us</td><td>200.0</td></tr><tr><td>area</td><td>400.0</td></tr><tr><td>embedded</td><td>400.0</td></tr><tr><td>brings</td><td>66.66666666666667</td></tr><tr><td>functions</td><td>400.0</td></tr><tr><td>cabletron</td><td>400.0</td></tr><tr><td>ip</td><td>400.0</td></tr><tr><td>systemsandquot</td><td>400.0</td></tr><tr><td>nat</td><td>400.0</td></tr><tr><td>enterasys</td><td>400.0</td></tr><tr><td>fujitsu</td><td>400.0</td></tr><tr><td>calendar</td><td>400.0</td></tr><tr><td>statuses</td><td>400.0</td></tr><tr><td>oversee</td><td>400.0</td></tr><tr><td>impression</td><td>400.0</td></tr><tr><td>mgr</td><td>400.0</td></tr><tr><td>victors</td><td>400.0</td></tr><tr><td>defeated</td><td>400.0</td></tr><tr><td>unfortunately</td><td>400.0</td></tr><tr><td>defy</td><td>400.0</td></tr><tr><td>person</td><td>400.0</td></tr><tr><td>throne</td><td>400.0</td></tr><tr><td>xarax</td><td>400.0</td></tr><tr><td>ruler</td><td>133.33333333333334</td></tr><tr><td>infinity</td><td>200.0</td></tr><tr><td>battles</td><td>200.0</td></tr><tr><td>grass</td><td>400.0</td></tr><tr><td>completing</td><td>400.0</td></tr><tr><td>modeled</td><td>200.0</td></tr><tr><td>storageworks</td><td>400.0</td></tr><tr><td>prosoft</td><td>400.0</td></tr><tr><td>hdtv</td><td>400.0</td></tr><tr><td>rate</td><td>400.0</td></tr><tr><td>phantom</td><td>400.0</td></tr><tr><td>paced</td><td>133.33333333333334</td></tr><tr><td>slots</td><td>400.0</td></tr><tr><td>fastaction</td><td>400.0</td></tr><tr><td>fluke</td><td>200.0</td></tr><tr><td>survey</td><td>200.0</td></tr><tr><td>residing</td><td>200.0</td></tr><tr><td>gains</td><td>400.0</td></tr><tr><td>consumer</td><td>133.33333333333334</td></tr><tr><td>hw</td><td>400.0</td></tr><tr><td>3u</td><td>400.0</td></tr><tr><td>defragmenting</td><td>200.0</td></tr><tr><td>blizzard</td><td>200.0</td></tr><tr><td>incredible</td><td>400.0</td></tr><tr><td>grader</td><td>400.0</td></tr><tr><td>dedicated</td><td>200.0</td></tr><tr><td>restored</td><td>400.0</td></tr><tr><td>restoration</td><td>400.0</td></tr><tr><td>blues</td><td>200.0</td></tr><tr><td>hear</td><td>400.0</td></tr><tr><td>fingerpicking</td><td>200.0</td></tr><tr><td>bartending</td><td>200.0</td></tr><tr><td>mixes</td><td>400.0</td></tr><tr><td>snacks</td><td>200.0</td></tr><tr><td>duplex</td><td>400.0</td></tr><tr><td>minimizing</td><td>400.0</td></tr><tr><td>internal</td><td>400.0</td></tr><tr><td>decisionmaking</td><td>400.0</td></tr><tr><td>poems</td><td>400.0</td></tr><tr><td>scrapbooking</td><td>400.0</td></tr><tr><td>intriguing</td><td>200.0</td></tr><tr><td>viewing</td><td>400.0</td></tr><tr><td>mysterious</td><td>200.0</td></tr><tr><td>treacherous</td><td>400.0</td></tr><tr><td>tomb</td><td>200.0</td></tr><tr><td>deadly</td><td>400.0</td></tr><tr><td>gaming</td><td>400.0</td></tr><tr><td>fr</td><td>400.0</td></tr><tr><td>expertise</td><td>400.0</td></tr><tr><td>eco</td><td>400.0</td></tr><tr><td>outperformed</td><td>400.0</td></tr><tr><td>individually</td><td>400.0</td></tr><tr><td>isi</td><td>400.0</td></tr><tr><td>passive</td><td>400.0</td></tr><tr><td>certain</td><td>400.0</td></tr><tr><td>sudoku</td><td>400.0</td></tr><tr><td>millions</td><td>400.0</td></tr><tr><td>versus</td><td>400.0</td></tr><tr><td>synthetic</td><td>400.0</td></tr><tr><td>bac</td><td>400.0</td></tr><tr><td>units</td><td>200.0</td></tr><tr><td>mastering</td><td>200.0</td></tr><tr><td>rooms</td><td>400.0</td></tr><tr><td>g3</td><td>400.0</td></tr><tr><td>loved</td><td>400.0</td></tr><tr><td>02322</td><td>400.0</td></tr><tr><td>25u</td><td>400.0</td></tr><tr><td>ub2pesapra</td><td>400.0</td></tr><tr><td>truprevent</td><td>400.0</td></tr><tr><td>100800104</td><td>400.0</td></tr><tr><td>rewards</td><td>400.0</td></tr><tr><td>cookn</td><td>400.0</td></tr><tr><td>television</td><td>400.0</td></tr><tr><td>00369</td><td>400.0</td></tr><tr><td>659556873790</td><td>400.0</td></tr><tr><td>acts</td><td>400.0</td></tr><tr><td>assists</td><td>400.0</td></tr><tr><td>ridge</td><td>400.0</td></tr><tr><td>push</td><td>400.0</td></tr><tr><td>bluegrass</td><td>400.0</td></tr><tr><td>pals</td><td>400.0</td></tr><tr><td>musical</td><td>200.0</td></tr><tr><td>aperture</td><td>400.0</td></tr><tr><td>variant</td><td>133.33333333333334</td></tr><tr><td>energize</td><td>400.0</td></tr><tr><td>ds4800</td><td>400.0</td></tr><tr><td>84</td><td>200.0</td></tr><tr><td>talent</td><td>400.0</td></tr><tr><td>eg04025</td><td>400.0</td></tr><tr><td>readers</td><td>400.0</td></tr><tr><td>photographers</td><td>400.0</td></tr><tr><td>iii</td><td>100.0</td></tr><tr><td>pianosmart</td><td>133.33333333333334</td></tr><tr><td>mails</td><td>400.0</td></tr><tr><td>feels</td><td>400.0</td></tr><tr><td>atmospheric</td><td>400.0</td></tr><tr><td>terrible</td><td>400.0</td></tr><tr><td>spending</td><td>400.0</td></tr><tr><td>mias</td><td>400.0</td></tr><tr><td>authoritative</td><td>400.0</td></tr><tr><td>triassic</td><td>400.0</td></tr><tr><td>wondrous</td><td>400.0</td></tr><tr><td>pr</td><td>400.0</td></tr><tr><td>radeon</td><td>400.0</td></tr><tr><td>9000</td><td>400.0</td></tr><tr><td>heros</td><td>400.0</td></tr><tr><td>500mb</td><td>400.0</td></tr><tr><td>2gb</td><td>400.0</td></tr><tr><td>orleans</td><td>400.0</td></tr><tr><td>28453</td><td>400.0</td></tr><tr><td>kick</td><td>400.0</td></tr><tr><td>collapsed</td><td>400.0</td></tr><tr><td>professionally</td><td>400.0</td></tr><tr><td>experiment</td><td>400.0</td></tr><tr><td>min</td><td>200.0</td></tr><tr><td>paul</td><td>400.0</td></tr><tr><td>myriad</td><td>400.0</td></tr><tr><td>overflowing</td><td>400.0</td></tr><tr><td>j</td><td>400.0</td></tr><tr><td>antispam</td><td>400.0</td></tr><tr><td>vandals</td><td>400.0</td></tr><tr><td>electrical</td><td>400.0</td></tr><tr><td>14100</td><td>400.0</td></tr><tr><td>mob</td><td>400.0</td></tr><tr><td>unknowingly</td><td>400.0</td></tr><tr><td>forced</td><td>400.0</td></tr><tr><td>glory</td><td>400.0</td></tr><tr><td>headset</td><td>400.0</td></tr><tr><td>swarm</td><td>400.0</td></tr><tr><td>rittor</td><td>400.0</td></tr><tr><td>roofs</td><td>400.0</td></tr><tr><td>metric</td><td>400.0</td></tr><tr><td>velocity</td><td>400.0</td></tr><tr><td>pedalling</td><td>400.0</td></tr><tr><td>canopus</td><td>400.0</td></tr><tr><td>fewer</td><td>400.0</td></tr><tr><td>788687400220</td><td>400.0</td></tr><tr><td>endor</td><td>400.0</td></tr><tr><td>tatooine</td><td>400.0</td></tr><tr><td>ended</td><td>400.0</td></tr><tr><td>disposing</td><td>400.0</td></tr><tr><td>nmd</td><td>400.0</td></tr><tr><td>del</td><td>400.0</td></tr><tr><td>substantially</td><td>400.0</td></tr><tr><td>desgin</td><td>400.0</td></tr><tr><td>leader</td><td>400.0</td></tr><tr><td>hailed</td><td>400.0</td></tr><tr><td>comets</td><td>400.0</td></tr><tr><td>cuban</td><td>400.0</td></tr><tr><td>monsters</td><td>400.0</td></tr><tr><td>examples</td><td>400.0</td></tr><tr><td>babwbr1151s05</td><td>400.0</td></tr><tr><td>r39</td><td>400.0</td></tr><tr><td>gene</td><td>400.0</td></tr><tr><td>lionel</td><td>400.0</td></tr><tr><td>sharks</td><td>400.0</td></tr><tr><td>kobe</td><td>400.0</td></tr><tr><td>holiday</td><td>400.0</td></tr><tr><td>copydvds</td><td>400.0</td></tr><tr><td>establishes</td><td>400.0</td></tr><tr><td>iteasy</td><td>400.0</td></tr><tr><td>lfl</td><td>400.0</td></tr><tr><td>barnyard</td><td>400.0</td></tr><tr><td>pyramids</td><td>400.0</td></tr><tr><td>breakout</td><td>400.0</td></tr><tr><td>enduring</td><td>400.0</td></tr><tr><td>harmful</td><td>400.0</td></tr><tr><td>annoying</td><td>400.0</td></tr><tr><td>30u</td><td>400.0</td></tr><tr><td>noah</td><td>200.0</td></tr><tr><td>case</td><td>33.333333333333336</td></tr><tr><td>ages</td><td>50.0</td></tr><tr><td>restore</td><td>50.0</td></tr><tr><td>receivable</td><td>400.0</td></tr><tr><td>costing</td><td>400.0</td></tr><tr><td>rock</td><td>66.66666666666667</td></tr><tr><td>made</td><td>44.44444444444444</td></tr><tr><td>includes</td><td>10.81081081081081</td></tr><tr><td>organization</td><td>80.0</td></tr><tr><td>premium</td><td>30.76923076923077</td></tr><tr><td>nonprofits</td><td>200.0</td></tr><tr><td>operating</td><td>25.0</td></tr><tr><td>dollar</td><td>200.0</td></tr><tr><td>payable</td><td>400.0</td></tr><tr><td>forms</td><td>36.36363636363637</td></tr><tr><td>data</td><td>12.5</td></tr><tr><td>profiles</td><td>200.0</td></tr><tr><td>thousands</td><td>40.0</td></tr><tr><td>products</td><td>57.142857142857146</td></tr><tr><td>nt</td><td>40.0</td></tr><tr><td>emc</td><td>100.0</td></tr><tr><td>5</td><td>11.764705882352942</td></tr><tr><td>parameters</td><td>400.0</td></tr><tr><td>easier</td><td>28.571428571428573</td></tr><tr><td>video</td><td>12.903225806451612</td></tr><tr><td>workers</td><td>200.0</td></tr><tr><td>canuse</td><td>400.0</td></tr><tr><td>product</td><td>11.764705882352942</td></tr><tr><td>recognition</td><td>50.0</td></tr><tr><td>english</td><td>22.22222222222222</td></tr><tr><td>corel</td><td>400.0</td></tr><tr><td>acad</td><td>400.0</td></tr><tr><td>wordperfect</td><td>400.0</td></tr><tr><td>tocreate</td><td>400.0</td></tr><tr><td>natural</td><td>80.0</td></tr><tr><td>times</td><td>50.0</td></tr><tr><td>also</td><td>15.384615384615385</td></tr><tr><td>write</td><td>133.33333333333334</td></tr><tr><td>children</td><td>36.36363636363637</td></tr><tr><td>bundle</td><td>57.142857142857146</td></tr><tr><td>education</td><td>400.0</td></tr><tr><td>develop</td><td>50.0</td></tr><tr><td>better</td><td>30.76923076923077</td></tr><tr><td>giftseven</td><td>400.0</td></tr><tr><td>well</td><td>23.529411764705884</td></tr><tr><td>thoughtfully</td><td>200.0</td></tr><tr><td>drive</td><td>25.0</td></tr><tr><td>giver</td><td>200.0</td></tr><tr><td>joy</td><td>200.0</td></tr><tr><td>webnfs</td><td>400.0</td></tr><tr><td>rfc</td><td>400.0</td></tr><tr><td>nfs</td><td>400.0</td></tr><tr><td>mount</td><td>400.0</td></tr><tr><td>hosts</td><td>400.0</td></tr><tr><td>de</td><td>400.0</td></tr><tr><td>including</td><td>16.0</td></tr><tr><td>bi</td><td>200.0</td></tr><tr><td>strong</td><td>400.0</td></tr><tr><td>operation</td><td>80.0</td></tr><tr><td>2005</td><td>40.0</td></tr><tr><td>managing</td><td>100.0</td></tr><tr><td>across</td><td>26.666666666666668</td></tr><tr><td>routine</td><td>200.0</td></tr><tr><td>automation</td><td>200.0</td></tr><tr><td>spy</td><td>133.33333333333334</td></tr><tr><td>comp</td><td>200.0</td></tr><tr><td>b22</td><td>400.0</td></tr><tr><td>face</td><td>200.0</td></tr><tr><td>flexible</td><td>23.529411764705884</td></tr><tr><td>gives</td><td>25.0</td></tr><tr><td>location</td><td>57.142857142857146</td></tr><tr><td>staffing</td><td>200.0</td></tr><tr><td>flaw</td><td>200.0</td></tr><tr><td>subnetworks</td><td>200.0</td></tr><tr><td>node</td><td>133.33333333333334</td></tr><tr><td>provider</td><td>100.0</td></tr><tr><td>virus</td><td>80.0</td></tr><tr><td>vpn</td><td>50.0</td></tr><tr><td>distributed</td><td>80.0</td></tr><tr><td>attacks</td><td>80.0</td></tr><tr><td>important</td><td>25.0</td></tr><tr><td>environment</td><td>44.44444444444444</td></tr><tr><td>lowers</td><td>200.0</td></tr><tr><td>spyware</td><td>100.0</td></tr><tr><td>physiology</td><td>200.0</td></tr><tr><td>complexities</td><td>400.0</td></tr><tr><td>body</td><td>80.0</td></tr><tr><td>explore</td><td>33.333333333333336</td></tr><tr><td>instruction</td><td>66.66666666666667</td></tr><tr><td>animated</td><td>80.0</td></tr><tr><td>entries</td><td>400.0</td></tr><tr><td>superior</td><td>100.0</td></tr><tr><td>navigation</td><td>200.0</td></tr><tr><td>helps</td><td>44.44444444444444</td></tr><tr><td>updated</td><td>200.0</td></tr><tr><td>simulations</td><td>400.0</td></tr><tr><td>chords</td><td>80.0</td></tr><tr><td>industry</td><td>80.0</td></tr><tr><td>theprint</td><td>400.0</td></tr><tr><td>programis</td><td>400.0</td></tr><tr><td>printshop</td><td>100.0</td></tr><tr><td>orbusinessproduct</td><td>400.0</td></tr><tr><td>critical</td><td>40.0</td></tr><tr><td>straightforward</td><td>400.0</td></tr><tr><td>crash</td><td>400.0</td></tr><tr><td>kids</td><td>33.333333333333336</td></tr><tr><td>fun</td><td>20.0</td></tr><tr><td>review</td><td>66.66666666666667</td></tr><tr><td>definition</td><td>133.33333333333334</td></tr><tr><td>efficiently</td><td>100.0</td></tr><tr><td>students</td><td>33.333333333333336</td></tr><tr><td>embed</td><td>400.0</td></tr><tr><td>exporting</td><td>200.0</td></tr><tr><td>workspace</td><td>200.0</td></tr><tr><td>mapped</td><td>400.0</td></tr><tr><td>problems</td><td>66.66666666666667</td></tr><tr><td>choose</td><td>66.66666666666667</td></tr><tr><td>included</td><td>57.142857142857146</td></tr><tr><td>serial</td><td>100.0</td></tr><tr><td>list</td><td>100.0</td></tr><tr><td>spectrum</td><td>400.0</td></tr><tr><td>post</td><td>400.0</td></tr><tr><td>shortcuts</td><td>400.0</td></tr><tr><td>available</td><td>33.333333333333336</td></tr><tr><td>clips</td><td>80.0</td></tr><tr><td>capturing</td><td>400.0</td></tr><tr><td>copy</td><td>66.66666666666667</td></tr><tr><td>videographers</td><td>400.0</td></tr><tr><td>plug</td><td>100.0</td></tr><tr><td>built</td><td>100.0</td></tr><tr><td>productivity</td><td>36.36363636363637</td></tr><tr><td>producing</td><td>133.33333333333334</td></tr><tr><td>promotional</td><td>400.0</td></tr><tr><td>avoid</td><td>200.0</td></tr><tr><td>twice</td><td>400.0</td></tr><tr><td>materials</td><td>100.0</td></tr><tr><td>get</td><td>13.793103448275861</td></tr><tr><td>accelerated</td><td>400.0</td></tr><tr><td>232</td><td>400.0</td></tr><tr><td>fast</td><td>25.0</td></tr><tr><td>hollywood</td><td>400.0</td></tr><tr><td>purchased</td><td>200.0</td></tr><tr><td>streamline</td><td>100.0</td></tr><tr><td>another</td><td>80.0</td></tr><tr><td>moving</td><td>400.0</td></tr><tr><td>compelling</td><td>200.0</td></tr><tr><td>switching</td><td>400.0</td></tr><tr><td>nuts</td><td>400.0</td></tr><tr><td>pixel</td><td>400.0</td></tr><tr><td>monitoring</td><td>400.0</td></tr><tr><td>insert</td><td>200.0</td></tr><tr><td>animate</td><td>200.0</td></tr><tr><td>camera</td><td>200.0</td></tr><tr><td>wide</td><td>57.142857142857146</td></tr><tr><td>correction</td><td>200.0</td></tr><tr><td>setting</td><td>80.0</td></tr><tr><td>telling</td><td>200.0</td></tr><tr><td>within</td><td>66.66666666666667</td></tr><tr><td>contains</td><td>57.142857142857146</td></tr><tr><td>unique</td><td>26.666666666666668</td></tr><tr><td>front</td><td>200.0</td></tr><tr><td>collectible</td><td>400.0</td></tr><tr><td>collector</td><td>133.33333333333334</td></tr><tr><td>photos</td><td>26.666666666666668</td></tr><tr><td>11</td><td>40.0</td></tr><tr><td>historian</td><td>400.0</td></tr><tr><td>positioning</td><td>400.0</td></tr><tr><td>intelligently</td><td>400.0</td></tr><tr><td>document</td><td>40.0</td></tr><tr><td>structure</td><td>400.0</td></tr><tr><td>vivid</td><td>400.0</td></tr><tr><td>scenario</td><td>400.0</td></tr><tr><td>images</td><td>33.333333333333336</td></tr><tr><td>optimizing</td><td>400.0</td></tr><tr><td>intelligent</td><td>200.0</td></tr><tr><td>flow</td><td>133.33333333333334</td></tr><tr><td>gamma</td><td>400.0</td></tr><tr><td>character</td><td>133.33333333333334</td></tr><tr><td>object</td><td>200.0</td></tr><tr><td>compression</td><td>100.0</td></tr><tr><td>mix</td><td>57.142857142857146</td></tr><tr><td>hierarchical</td><td>400.0</td></tr><tr><td>saved</td><td>200.0</td></tr><tr><td>blend</td><td>200.0</td></tr><tr><td>advantage</td><td>133.33333333333334</td></tr><tr><td>xvid</td><td>200.0</td></tr><tr><td>level</td><td>30.76923076923077</td></tr><tr><td>postcard</td><td>200.0</td></tr><tr><td>ways</td><td>50.0</td></tr><tr><td>limit</td><td>100.0</td></tr><tr><td>greeting</td><td>100.0</td></tr><tr><td>cool</td><td>200.0</td></tr><tr><td>850</td><td>400.0</td></tr><tr><td>much</td><td>57.142857142857146</td></tr><tr><td>printable</td><td>66.66666666666667</td></tr><tr><td>stationery</td><td>200.0</td></tr><tr><td>next</td><td>50.0</td></tr><tr><td>thrive</td><td>200.0</td></tr><tr><td>possibilities</td><td>80.0</td></tr><tr><td>often</td><td>200.0</td></tr><tr><td>damaged</td><td>400.0</td></tr><tr><td>viruses</td><td>133.33333333333334</td></tr><tr><td>deleted</td><td>400.0</td></tr><tr><td>runs</td><td>80.0</td></tr><tr><td>recognized</td><td>80.0</td></tr><tr><td>traditions</td><td>400.0</td></tr><tr><td>pristine</td><td>200.0</td></tr><tr><td>course</td><td>133.33333333333334</td></tr><tr><td>whatever</td><td>400.0</td></tr><tr><td>pda</td><td>400.0</td></tr><tr><td>copies</td><td>200.0</td></tr><tr><td>transfer</td><td>200.0</td></tr><tr><td>conversion</td><td>133.33333333333334</td></tr><tr><td>500</td><td>200.0</td></tr><tr><td>powerfulvisualization</td><td>400.0</td></tr><tr><td>par</td><td>400.0</td></tr><tr><td>precisiondrawings</td><td>400.0</td></tr><tr><td>tri</td><td>200.0</td></tr><tr><td>scumware</td><td>400.0</td></tr><tr><td>threats</td><td>133.33333333333334</td></tr><tr><td>immersion</td><td>50.0</td></tr><tr><td>elementary</td><td>200.0</td></tr><tr><td>national</td><td>66.66666666666667</td></tr><tr><td>launch</td><td>200.0</td></tr><tr><td>almanac</td><td>400.0</td></tr><tr><td>unrivaled</td><td>200.0</td></tr><tr><td>athletes</td><td>400.0</td></tr><tr><td>dog</td><td>133.33333333333334</td></tr><tr><td>sjust</td><td>400.0</td></tr><tr><td>carbs</td><td>400.0</td></tr><tr><td>wizards</td><td>200.0</td></tr><tr><td>hit</td><td>100.0</td></tr><tr><td>running</td><td>133.33333333333334</td></tr><tr><td>condition</td><td>200.0</td></tr><tr><td>tours</td><td>200.0</td></tr><tr><td>examine</td><td>200.0</td></tr><tr><td>china</td><td>400.0</td></tr><tr><td>vehicles</td><td>200.0</td></tr><tr><td>rescue</td><td>200.0</td></tr><tr><td>pumper</td><td>400.0</td></tr><tr><td>done</td><td>100.0</td></tr><tr><td>town</td><td>100.0</td></tr><tr><td>handles</td><td>400.0</td></tr><tr><td>shine</td><td>400.0</td></tr><tr><td>sony</td><td>133.33333333333334</td></tr><tr><td>educational</td><td>66.66666666666667</td></tr><tr><td>trap</td><td>400.0</td></tr><tr><td>practically</td><td>100.0</td></tr><tr><td>supported</td><td>200.0</td></tr><tr><td>transport</td><td>400.0</td></tr><tr><td>preshared</td><td>400.0</td></tr><tr><td>pentium</td><td>66.66666666666667</td></tr><tr><td>chains</td><td>200.0</td></tr><tr><td>modp</td><td>400.0</td></tr><tr><td>35</td><td>200.0</td></tr><tr><td>mom</td><td>200.0</td></tr><tr><td>mlp</td><td>133.33333333333334</td></tr><tr><td>pmi</td><td>400.0</td></tr><tr><td>corporation</td><td>50.0</td></tr><tr><td>choices</td><td>133.33333333333334</td></tr><tr><td>dinner</td><td>200.0</td></tr><tr><td>drinks</td><td>200.0</td></tr><tr><td>postfix</td><td>400.0</td></tr><tr><td>experienced</td><td>200.0</td></tr><tr><td>collaboration</td><td>200.0</td></tr><tr><td>apache</td><td>400.0</td></tr><tr><td>openldap</td><td>400.0</td></tr><tr><td>jabber</td><td>400.0</td></tr><tr><td>apple</td><td>100.0</td></tr><tr><td>specifications</td><td>400.0</td></tr><tr><td>durable</td><td>400.0</td></tr><tr><td>8x10</td><td>400.0</td></tr><tr><td>printed</td><td>200.0</td></tr><tr><td>assembled</td><td>400.0</td></tr><tr><td>28</td><td>400.0</td></tr><tr><td>800</td><td>400.0</td></tr><tr><td>teams</td><td>133.33333333333334</td></tr><tr><td>gorgeous</td><td>100.0</td></tr><tr><td>revenge</td><td>400.0</td></tr><tr><td>lessons</td><td>44.44444444444444</td></tr><tr><td>improvisation</td><td>400.0</td></tr><tr><td>ii</td><td>80.0</td></tr><tr><td>bestselling</td><td>400.0</td></tr><tr><td>weaknesses</td><td>400.0</td></tr><tr><td>synchronizes</td><td>200.0</td></tr><tr><td>securely</td><td>400.0</td></tr><tr><td>stringing</td><td>200.0</td></tr><tr><td>song</td><td>400.0</td></tr><tr><td>manor</td><td>400.0</td></tr><tr><td>market</td><td>133.33333333333334</td></tr><tr><td>noises</td><td>400.0</td></tr><tr><td>tales</td><td>400.0</td></tr><tr><td>director</td><td>200.0</td></tr><tr><td>alternate</td><td>400.0</td></tr><tr><td>cockpit</td><td>400.0</td></tr><tr><td>sequel</td><td>400.0</td></tr><tr><td>fi</td><td>400.0</td></tr><tr><td>pirates</td><td>400.0</td></tr><tr><td>ltd</td><td>100.0</td></tr><tr><td>expansion</td><td>400.0</td></tr><tr><td>army</td><td>400.0</td></tr><tr><td>land</td><td>133.33333333333334</td></tr><tr><td>battle</td><td>100.0</td></tr><tr><td>called</td><td>100.0</td></tr><tr><td>readiris</td><td>400.0</td></tr><tr><td>since</td><td>100.0</td></tr><tr><td>travel</td><td>100.0</td></tr><tr><td>box</td><td>66.66666666666667</td></tr><tr><td>contact</td><td>200.0</td></tr><tr><td>inside</td><td>200.0</td></tr><tr><td>captured</td><td>200.0</td></tr><tr><td>pocket</td><td>400.0</td></tr><tr><td>wherabouts</td><td>400.0</td></tr><tr><td>soon</td><td>400.0</td></tr><tr><td>computrace</td><td>200.0</td></tr><tr><td>driven</td><td>400.0</td></tr><tr><td>unpredictable</td><td>400.0</td></tr><tr><td>aggregation</td><td>200.0</td></tr><tr><td>saving</td><td>100.0</td></tr><tr><td>completely</td><td>200.0</td></tr><tr><td>opponent</td><td>400.0</td></tr><tr><td>remember</td><td>200.0</td></tr><tr><td>opponents</td><td>200.0</td></tr><tr><td>endpoint</td><td>200.0</td></tr><tr><td>b100</td><td>200.0</td></tr><tr><td>consists</td><td>400.0</td></tr><tr><td>agents</td><td>200.0</td></tr><tr><td>http</td><td>400.0</td></tr><tr><td>3gp</td><td>400.0</td></tr><tr><td>buzby</td><td>200.0</td></tr><tr><td>bowling</td><td>200.0</td></tr><tr><td>finally</td><td>200.0</td></tr><tr><td>capability</td><td>200.0</td></tr><tr><td>reliably</td><td>200.0</td></tr><tr><td>upcoming</td><td>400.0</td></tr><tr><td>transaction</td><td>400.0</td></tr><tr><td>ring</td><td>400.0</td></tr><tr><td>shipping</td><td>200.0</td></tr><tr><td>vendor</td><td>80.0</td></tr><tr><td>connected</td><td>200.0</td></tr><tr><td>commissions</td><td>400.0</td></tr><tr><td>register</td><td>400.0</td></tr><tr><td>sales</td><td>200.0</td></tr><tr><td>finances</td><td>400.0</td></tr><tr><td>receiving</td><td>400.0</td></tr><tr><td>upc</td><td>400.0</td></tr><tr><td>ordinary</td><td>400.0</td></tr><tr><td>retailers</td><td>400.0</td></tr><tr><td>day</td><td>80.0</td></tr><tr><td>sell</td><td>400.0</td></tr><tr><td>tricky</td><td>400.0</td></tr><tr><td>statistics</td><td>400.0</td></tr><tr><td>webster</td><td>400.0</td></tr><tr><td>notecard</td><td>400.0</td></tr><tr><td>noted</td><td>133.33333333333334</td></tr><tr><td>mathematicians</td><td>400.0</td></tr><tr><td>laureates</td><td>200.0</td></tr><tr><td>sugars</td><td>400.0</td></tr><tr><td>n</td><td>400.0</td></tr><tr><td>weekly</td><td>400.0</td></tr><tr><td>immerses</td><td>400.0</td></tr><tr><td>iceberg</td><td>400.0</td></tr><tr><td>xi</td><td>133.33333333333334</td></tr><tr><td>crystal</td><td>100.0</td></tr><tr><td>nova</td><td>100.0</td></tr><tr><td>gain</td><td>200.0</td></tr><tr><td>reputation</td><td>200.0</td></tr><tr><td>prestige</td><td>400.0</td></tr><tr><td>39400416</td><td>400.0</td></tr><tr><td>239</td><td>400.0</td></tr><tr><td>elliptical</td><td>400.0</td></tr><tr><td>clickable</td><td>400.0</td></tr><tr><td>fortune</td><td>200.0</td></tr><tr><td>170</td><td>400.0</td></tr><tr><td>bold</td><td>400.0</td></tr><tr><td>innovative</td><td>57.142857142857146</td></tr><tr><td>translation</td><td>400.0</td></tr><tr><td>cromserver</td><td>400.0</td></tr><tr><td>replication</td><td>400.0</td></tr><tr><td>edr</td><td>400.0</td></tr><tr><td>guardianos</td><td>400.0</td></tr><tr><td>toolkit</td><td>200.0</td></tr><tr><td>memos</td><td>400.0</td></tr><tr><td>reminders</td><td>400.0</td></tr><tr><td>objective</td><td>400.0</td></tr><tr><td>ratings</td><td>400.0</td></tr><tr><td>libraries</td><td>400.0</td></tr><tr><td>analys</td><td>400.0</td></tr><tr><td>reexamine</td><td>400.0</td></tr><tr><td>react</td><td>200.0</td></tr><tr><td>illustration</td><td>400.0</td></tr><tr><td>equip</td><td>400.0</td></tr><tr><td>downsample</td><td>400.0</td></tr><tr><td>indesign</td><td>200.0</td></tr><tr><td>workflows</td><td>133.33333333333334</td></tr><tr><td>link</td><td>400.0</td></tr><tr><td>realize</td><td>400.0</td></tr><tr><td>awkward</td><td>400.0</td></tr><tr><td>transparency</td><td>200.0</td></tr><tr><td>ajax</td><td>400.0</td></tr><tr><td>royalty</td><td>133.33333333333334</td></tr><tr><td>javascript</td><td>400.0</td></tr><tr><td>coordinate</td><td>400.0</td></tr><tr><td>v6</td><td>80.0</td></tr><tr><td>1yr</td><td>400.0</td></tr><tr><td>nw</td><td>200.0</td></tr><tr><td>prod</td><td>100.0</td></tr><tr><td>continue</td><td>200.0</td></tr><tr><td>volume</td><td>80.0</td></tr><tr><td>centrally</td><td>200.0</td></tr><tr><td>mechanism</td><td>400.0</td></tr><tr><td>predetermined</td><td>400.0</td></tr><tr><td>bills</td><td>400.0</td></tr><tr><td>driving</td><td>400.0</td></tr><tr><td>opt</td><td>400.0</td></tr><tr><td>san</td><td>200.0</td></tr><tr><td>xsrandquot</td><td>400.0</td></tr><tr><td>complements</td><td>400.0</td></tr><tr><td>aggregate</td><td>400.0</td></tr><tr><td>bandwidth</td><td>200.0</td></tr><tr><td>multilayer</td><td>400.0</td></tr><tr><td>unmatched</td><td>400.0</td></tr><tr><td>combined</td><td>400.0</td></tr><tr><td>connectivity</td><td>80.0</td></tr><tr><td>primavera</td><td>400.0</td></tr><tr><td>ent</td><td>400.0</td></tr><tr><td>esk9</td><td>400.0</td></tr><tr><td>largest</td><td>400.0</td></tr><tr><td>firmware</td><td>400.0</td></tr><tr><td>currently</td><td>200.0</td></tr><tr><td>graphs</td><td>400.0</td></tr><tr><td>canadian</td><td>400.0</td></tr><tr><td>29180162</td><td>400.0</td></tr><tr><td>masked</td><td>400.0</td></tr><tr><td>ruins</td><td>400.0</td></tr><tr><td>armies</td><td>400.0</td></tr><tr><td>lands</td><td>133.33333333333334</td></tr><tr><td>astral</td><td>400.0</td></tr><tr><td>conflict</td><td>133.33333333333334</td></tr><tr><td>fashioned</td><td>400.0</td></tr><tr><td>half</td><td>133.33333333333334</td></tr><tr><td>fold</td><td>200.0</td></tr><tr><td>30mb</td><td>400.0</td></tr><tr><td>marine</td><td>133.33333333333334</td></tr><tr><td>amazingly</td><td>200.0</td></tr><tr><td>seabed</td><td>400.0</td></tr><tr><td>underwater</td><td>133.33333333333334</td></tr><tr><td>b26</td><td>200.0</td></tr><tr><td>gif</td><td>400.0</td></tr><tr><td>reel</td><td>200.0</td></tr><tr><td>playvideo</td><td>400.0</td></tr><tr><td>rf</td><td>400.0</td></tr><tr><td>optimal</td><td>400.0</td></tr><tr><td>verify</td><td>200.0</td></tr><tr><td>whichever</td><td>400.0</td></tr><tr><td>as400</td><td>400.0</td></tr><tr><td>architecture</td><td>400.0</td></tr><tr><td>fantasy</td><td>200.0</td></tr><tr><td>enroll</td><td>400.0</td></tr><tr><td>diskettes</td><td>400.0</td></tr><tr><td>usable</td><td>400.0</td></tr><tr><td>rebuilding</td><td>400.0</td></tr><tr><td>picking</td><td>400.0</td></tr><tr><td>folk</td><td>400.0</td></tr><tr><td>roar</td><td>400.0</td></tr><tr><td>energy</td><td>400.0</td></tr><tr><td>notation</td><td>200.0</td></tr><tr><td>165</td><td>400.0</td></tr><tr><td>101</td><td>200.0</td></tr><tr><td>karaoke</td><td>200.0</td></tr><tr><td>showcase</td><td>400.0</td></tr><tr><td>consignment</td><td>400.0</td></tr><tr><td>traps</td><td>400.0</td></tr><tr><td>raider</td><td>200.0</td></tr><tr><td>intrepid</td><td>400.0</td></tr><tr><td>rad</td><td>400.0</td></tr><tr><td>isvs</td><td>400.0</td></tr><tr><td>modeling</td><td>200.0</td></tr><tr><td>component</td><td>400.0</td></tr><tr><td>globally</td><td>400.0</td></tr><tr><td>dictionaries</td><td>400.0</td></tr><tr><td>firesboxes</td><td>400.0</td></tr><tr><td>livesecurity</td><td>400.0</td></tr><tr><td>standby</td><td>400.0</td></tr><tr><td>decipher</td><td>400.0</td></tr><tr><td>kakuro</td><td>200.0</td></tr><tr><td>care</td><td>400.0</td></tr><tr><td>01</td><td>133.33333333333334</td></tr><tr><td>map</td><td>400.0</td></tr><tr><td>sierrahome</td><td>400.0</td></tr><tr><td>tan</td><td>400.0</td></tr><tr><td>mpn</td><td>80.0</td></tr><tr><td>functionalityto</td><td>400.0</td></tr><tr><td>2yr</td><td>400.0</td></tr><tr><td>firehouse</td><td>400.0</td></tr><tr><td>zachary</td><td>400.0</td></tr><tr><td>addictive</td><td>200.0</td></tr><tr><td>states</td><td>400.0</td></tr><tr><td>1963</td><td>400.0</td></tr><tr><td>movements</td><td>400.0</td></tr><tr><td>xoom</td><td>200.0</td></tr><tr><td>00416</td><td>400.0</td></tr><tr><td>exconn</td><td>400.0</td></tr><tr><td>opens</td><td>400.0</td></tr><tr><td>slowdowns</td><td>400.0</td></tr><tr><td>steve</td><td>200.0</td></tr><tr><td>rolling</td><td>400.0</td></tr><tr><td>entertained</td><td>400.0</td></tr><tr><td>tutorial</td><td>133.33333333333334</td></tr><tr><td>ints3</td><td>400.0</td></tr><tr><td>eat</td><td>400.0</td></tr><tr><td>hottest</td><td>400.0</td></tr><tr><td>status</td><td>400.0</td></tr><tr><td>rnwl</td><td>400.0</td></tr><tr><td>empower</td><td>133.33333333333334</td></tr><tr><td>naturally</td><td>400.0</td></tr><tr><td>chuck</td><td>400.0</td></tr><tr><td>calendars</td><td>400.0</td></tr><tr><td>00050</td><td>400.0</td></tr><tr><td>forgotten</td><td>400.0</td></tr><tr><td>interior</td><td>400.0</td></tr><tr><td>deck</td><td>400.0</td></tr><tr><td>fractions</td><td>200.0</td></tr><tr><td>170000</td><td>400.0</td></tr><tr><td>countless</td><td>400.0</td></tr><tr><td>velociraptor</td><td>400.0</td></tr><tr><td>freinds</td><td>400.0</td></tr><tr><td>nvidia</td><td>400.0</td></tr><tr><td>grayscale</td><td>400.0</td></tr><tr><td>headings</td><td>400.0</td></tr><tr><td>arbors</td><td>400.0</td></tr><tr><td>heights</td><td>400.0</td></tr><tr><td>k</td><td>400.0</td></tr><tr><td>packaging</td><td>400.0</td></tr><tr><td>phase</td><td>400.0</td></tr><tr><td>crime</td><td>400.0</td></tr><tr><td>patented</td><td>400.0</td></tr><tr><td>compose</td><td>400.0</td></tr><tr><td>lesson</td><td>400.0</td></tr><tr><td>imports</td><td>400.0</td></tr><tr><td>extension</td><td>400.0</td></tr><tr><td>plants</td><td>400.0</td></tr><tr><td>assume</td><td>400.0</td></tr><tr><td>railings</td><td>400.0</td></tr><tr><td>dreams</td><td>400.0</td></tr><tr><td>2050xf</td><td>400.0</td></tr><tr><td>nine</td><td>200.0</td></tr><tr><td>west</td><td>400.0</td></tr><tr><td>kamino</td><td>400.0</td></tr><tr><td>understanding</td><td>400.0</td></tr><tr><td>floods</td><td>400.0</td></tr><tr><td>ross</td><td>400.0</td></tr><tr><td>notetaker</td><td>400.0</td></tr><tr><td>aquaminds</td><td>400.0</td></tr><tr><td>universalis</td><td>400.0</td></tr><tr><td>rdp</td><td>400.0</td></tr><tr><td>reasoning</td><td>400.0</td></tr><tr><td>mermaids</td><td>400.0</td></tr><tr><td>demanding</td><td>400.0</td></tr><tr><td>hdb0006wwcs180</td><td>400.0</td></tr><tr><td>rebate</td><td>400.0</td></tr><tr><td>latin</td><td>400.0</td></tr><tr><td>introduces</td><td>400.0</td></tr><tr><td>woman</td><td>400.0</td></tr><tr><td>fs</td><td>400.0</td></tr><tr><td>fs2002</td><td>400.0</td></tr><tr><td>geared</td><td>400.0</td></tr><tr><td>legends</td><td>400.0</td></tr><tr><td>vhs</td><td>400.0</td></tr><tr><td>mito</td><td>400.0</td></tr><tr><td>5130</td><td>400.0</td></tr><tr><td>measures</td><td>400.0</td></tr><tr><td>ondvd</td><td>400.0</td></tr><tr><td>highlight</td><td>400.0</td></tr><tr><td>guild</td><td>400.0</td></tr><tr><td>satisfy</td><td>400.0</td></tr><tr><td>confidently</td><td>400.0</td></tr><tr><td>00257</td><td>400.0</td></tr><tr><td>premier</td><td>100.0</td></tr><tr><td>oem</td><td>133.33333333333334</td></tr><tr><td>center</td><td>200.0</td></tr><tr><td>sage</td><td>200.0</td></tr><tr><td>wizard</td><td>80.0</td></tr><tr><td>job</td><td>66.66666666666667</td></tr><tr><td>integrity</td><td>80.0</td></tr><tr><td>reporting</td><td>100.0</td></tr><tr><td>record</td><td>57.142857142857146</td></tr><tr><td>provides</td><td>22.22222222222222</td></tr><tr><td>maximize</td><td>100.0</td></tr><tr><td>individual</td><td>44.44444444444444</td></tr><tr><td>archive</td><td>100.0</td></tr><tr><td>grantor</td><td>400.0</td></tr><tr><td>organizations</td><td>50.0</td></tr><tr><td>striving</td><td>200.0</td></tr><tr><td>xp</td><td>12.5</td></tr><tr><td>save</td><td>33.333333333333336</td></tr><tr><td>tighter</td><td>400.0</td></tr><tr><td>cs</td><td>400.0</td></tr><tr><td>firewire</td><td>133.33333333333334</td></tr><tr><td>name</td><td>25.0</td></tr><tr><td>benefits</td><td>33.333333333333336</td></tr><tr><td>naturallyspeaking</td><td>200.0</td></tr><tr><td>compensationpremiums</td><td>400.0</td></tr><tr><td>accurate</td><td>28.571428571428573</td></tr><tr><td>andpowerpoint</td><td>400.0</td></tr><tr><td>9make</td><td>400.0</td></tr><tr><td>speech</td><td>400.0</td></tr><tr><td>organizationmoney</td><td>400.0</td></tr><tr><td>repetitive</td><td>400.0</td></tr><tr><td>environments</td><td>57.142857142857146</td></tr><tr><td>miscellaneous</td><td>100.0</td></tr><tr><td>type</td><td>17.391304347826086</td></tr><tr><td>platform</td><td>44.44444444444444</td></tr><tr><td>messages</td><td>133.33333333333334</td></tr><tr><td>buzz</td><td>200.0</td></tr><tr><td>1st</td><td>200.0</td></tr><tr><td>grade</td><td>100.0</td></tr><tr><td>256</td><td>133.33333333333334</td></tr><tr><td>sound</td><td>50.0</td></tr><tr><td>speakers</td><td>400.0</td></tr><tr><td>different</td><td>33.333333333333336</td></tr><tr><td>09</td><td>400.0</td></tr><tr><td>techniques</td><td>80.0</td></tr><tr><td>requirements</td><td>15.384615384615385</td></tr><tr><td>network</td><td>22.22222222222222</td></tr><tr><td>protocol</td><td>200.0</td></tr><tr><td>security</td><td>17.391304347826086</td></tr><tr><td>ldap</td><td>400.0</td></tr><tr><td>latest</td><td>50.0</td></tr><tr><td>active</td><td>100.0</td></tr><tr><td>operations</td><td>80.0</td></tr><tr><td>setgid</td><td>400.0</td></tr><tr><td>supports</td><td>66.66666666666667</td></tr><tr><td>64</td><td>80.0</td></tr><tr><td>kernel</td><td>200.0</td></tr><tr><td>directory</td><td>200.0</td></tr><tr><td>mobile</td><td>66.66666666666667</td></tr><tr><td>business</td><td>14.285714285714286</td></tr><tr><td>tasks</td><td>100.0</td></tr><tr><td>536</td><td>400.0</td></tr><tr><td>folders</td><td>100.0</td></tr><tr><td>fields</td><td>100.0</td></tr><tr><td>designer</td><td>57.142857142857146</td></tr><tr><td>providers</td><td>133.33333333333334</td></tr><tr><td>global</td><td>36.36363636363637</td></tr><tr><td>incremental</td><td>200.0</td></tr><tr><td>policies</td><td>200.0</td></tr><tr><td>already</td><td>80.0</td></tr><tr><td>central</td><td>57.142857142857146</td></tr><tr><td>effective</td><td>36.36363636363637</td></tr><tr><td>branches</td><td>200.0</td></tr><tr><td>multiple</td><td>30.76923076923077</td></tr><tr><td>human</td><td>133.33333333333334</td></tr><tr><td>anatomy</td><td>200.0</td></tr><tr><td>zone</td><td>200.0</td></tr><tr><td>houses</td><td>400.0</td></tr><tr><td>counting</td><td>400.0</td></tr><tr><td>ibm</td><td>100.0</td></tr><tr><td>cookies</td><td>400.0</td></tr><tr><td>even</td><td>14.285714285714286</td></tr><tr><td>duck</td><td>400.0</td></tr><tr><td>640</td><td>400.0</td></tr><tr><td>scales</td><td>80.0</td></tr><tr><td>renowned</td><td>200.0</td></tr><tr><td>quickly</td><td>26.666666666666668</td></tr><tr><td>suite</td><td>14.814814814814815</td></tr><tr><td>eliminating</td><td>133.33333333333334</td></tr><tr><td>stomp</td><td>133.33333333333334</td></tr><tr><td>communicate</td><td>100.0</td></tr><tr><td>levels</td><td>50.0</td></tr><tr><td>used</td><td>57.142857142857146</td></tr><tr><td>multicam</td><td>400.0</td></tr><tr><td>uncompressed</td><td>400.0</td></tr><tr><td>right</td><td>20.0</td></tr><tr><td>aspect</td><td>200.0</td></tr><tr><td>cameras</td><td>400.0</td></tr><tr><td>ensure</td><td>80.0</td></tr><tr><td>finishing</td><td>400.0</td></tr><tr><td>phones</td><td>400.0</td></tr><tr><td>cs3k</td><td>400.0</td></tr><tr><td>flash</td><td>80.0</td></tr><tr><td>everywhere</td><td>400.0</td></tr><tr><td>become</td><td>80.0</td></tr><tr><td>size</td><td>80.0</td></tr><tr><td>making</td><td>80.0</td></tr><tr><td>computers</td><td>66.66666666666667</td></tr><tr><td>motion</td><td>66.66666666666667</td></tr><tr><td>sequences</td><td>400.0</td></tr><tr><td>hd</td><td>100.0</td></tr><tr><td>corrector</td><td>400.0</td></tr><tr><td>422</td><td>400.0</td></tr><tr><td>versions</td><td>80.0</td></tr><tr><td>delivering</td><td>200.0</td></tr><tr><td>imagery</td><td>200.0</td></tr><tr><td>graphical</td><td>80.0</td></tr><tr><td>may</td><td>50.0</td></tr><tr><td>demand</td><td>200.0</td></tr><tr><td>creative</td><td>30.76923076923077</td></tr><tr><td>export</td><td>57.142857142857146</td></tr><tr><td>formats</td><td>44.44444444444444</td></tr><tr><td>effectively</td><td>80.0</td></tr><tr><td>additional</td><td>28.571428571428573</td></tr><tr><td>hdv</td><td>200.0</td></tr><tr><td>tell</td><td>400.0</td></tr><tr><td>best</td><td>22.22222222222222</td></tr><tr><td>corporate</td><td>66.66666666666667</td></tr><tr><td>replaced</td><td>400.0</td></tr><tr><td>recapturing</td><td>400.0</td></tr><tr><td>style</td><td>66.66666666666667</td></tr><tr><td>stage</td><td>200.0</td></tr><tr><td>uncompromised</td><td>400.0</td></tr><tr><td>mean</td><td>133.33333333333334</td></tr><tr><td>tracks</td><td>133.33333333333334</td></tr><tr><td>put</td><td>133.33333333333334</td></tr><tr><td>icopydvds2</td><td>133.33333333333334</td></tr><tr><td>enjoying</td><td>200.0</td></tr><tr><td>fill</td><td>400.0</td></tr><tr><td>tree</td><td>100.0</td></tr><tr><td>maker</td><td>200.0</td></tr><tr><td>treasured</td><td>100.0</td></tr><tr><td>avid</td><td>400.0</td></tr><tr><td>prebuilt</td><td>400.0</td></tr><tr><td>jpeg</td><td>133.33333333333334</td></tr><tr><td>vector</td><td>100.0</td></tr><tr><td>include</td><td>33.333333333333336</td></tr><tr><td>design</td><td>14.285714285714286</td></tr><tr><td>streamlined</td><td>100.0</td></tr><tr><td>multistates</td><td>400.0</td></tr><tr><td>slices</td><td>400.0</td></tr><tr><td>appearance</td><td>400.0</td></tr><tr><td>selective</td><td>400.0</td></tr><tr><td>maintaining</td><td>133.33333333333334</td></tr><tr><td>pin</td><td>200.0</td></tr><tr><td>shape</td><td>400.0</td></tr><tr><td>controls</td><td>80.0</td></tr><tr><td>powerpc</td><td>50.0</td></tr><tr><td>page</td><td>33.333333333333336</td></tr><tr><td>aided</td><td>400.0</td></tr><tr><td>visuals</td><td>400.0</td></tr><tr><td>fans</td><td>200.0</td></tr><tr><td>oom</td><td>80.0</td></tr><tr><td>movies</td><td>66.66666666666667</td></tr><tr><td>watch</td><td>57.142857142857146</td></tr><tr><td>letters</td><td>100.0</td></tr><tr><td>nbs</td><td>400.0</td></tr><tr><td>master</td><td>50.0</td></tr><tr><td>booklet</td><td>200.0</td></tr><tr><td>advantages</td><td>200.0</td></tr><tr><td>turn</td><td>28.571428571428573</td></tr><tr><td>keyword</td><td>133.33333333333334</td></tr><tr><td>seasonal</td><td>200.0</td></tr><tr><td>draw</td><td>133.33333333333334</td></tr><tr><td>convenient</td><td>66.66666666666667</td></tr><tr><td>sophisticated</td><td>80.0</td></tr><tr><td>give</td><td>100.0</td></tr><tr><td>conveniently</td><td>200.0</td></tr><tr><td>pictures</td><td>66.66666666666667</td></tr><tr><td>customizing</td><td>100.0</td></tr><tr><td>sheet</td><td>133.33333333333334</td></tr><tr><td>designing</td><td>100.0</td></tr><tr><td>designs</td><td>133.33333333333334</td></tr><tr><td>postcards</td><td>133.33333333333334</td></tr><tr><td>templates</td><td>57.142857142857146</td></tr><tr><td>fat16</td><td>400.0</td></tr><tr><td>ata</td><td>400.0</td></tr><tr><td>raid</td><td>400.0</td></tr><tr><td>keyboard</td><td>200.0</td></tr><tr><td>formatted</td><td>400.0</td></tr><tr><td>eudora</td><td>400.0</td></tr><tr><td>erasing</td><td>400.0</td></tr><tr><td>caused</td><td>400.0</td></tr><tr><td>teaches</td><td>200.0</td></tr><tr><td>bible</td><td>133.33333333333334</td></tr><tr><td>reinforces</td><td>400.0</td></tr><tr><td>years</td><td>66.66666666666667</td></tr><tr><td>le</td><td>400.0</td></tr><tr><td>copying</td><td>400.0</td></tr><tr><td>burns</td><td>200.0</td></tr><tr><td>thrilled</td><td>400.0</td></tr><tr><td>selected</td><td>200.0</td></tr><tr><td>simultaneous</td><td>400.0</td></tr><tr><td>dolby</td><td>200.0</td></tr><tr><td>larger</td><td>100.0</td></tr><tr><td>clone</td><td>133.33333333333334</td></tr><tr><td>svcds</td><td>400.0</td></tr><tr><td>informationit</td><td>400.0</td></tr><tr><td>wildest</td><td>400.0</td></tr><tr><td>nbsp</td><td>100.0</td></tr><tr><td>sketches</td><td>200.0</td></tr><tr><td>block</td><td>400.0</td></tr><tr><td>goes</td><td>66.66666666666667</td></tr><tr><td>malware</td><td>400.0</td></tr><tr><td>known</td><td>100.0</td></tr><tr><td>tracking</td><td>200.0</td></tr><tr><td>plusedition</td><td>400.0</td></tr><tr><td>redshift</td><td>200.0</td></tr><tr><td>planets</td><td>133.33333333333334</td></tr><tr><td>packed</td><td>133.33333333333334</td></tr><tr><td>earth</td><td>400.0</td></tr><tr><td>us</td><td>133.33333333333334</td></tr><tr><td>endorsed</td><td>400.0</td></tr><tr><td>nobel</td><td>133.33333333333334</td></tr><tr><td>pulitzer</td><td>400.0</td></tr><tr><td>histories</td><td>400.0</td></tr><tr><td>sacrifice</td><td>200.0</td></tr><tr><td>recipe</td><td>100.0</td></tr><tr><td>eating</td><td>200.0</td></tr><tr><td>carb</td><td>200.0</td></tr><tr><td>peak</td><td>100.0</td></tr><tr><td>velvet</td><td>200.0</td></tr><tr><td>collections</td><td>133.33333333333334</td></tr><tr><td>invention</td><td>400.0</td></tr><tr><td>head</td><td>133.33333333333334</td></tr><tr><td>must</td><td>80.0</td></tr><tr><td>fire</td><td>66.66666666666667</td></tr><tr><td>unlocked</td><td>400.0</td></tr><tr><td>airport</td><td>400.0</td></tr><tr><td>improves</td><td>400.0</td></tr><tr><td>think</td><td>200.0</td></tr><tr><td>identity</td><td>133.33333333333334</td></tr><tr><td>resizes</td><td>400.0</td></tr><tr><td>commercial</td><td>200.0</td></tr><tr><td>starring</td><td>400.0</td></tr><tr><td>landdesigner</td><td>400.0</td></tr><tr><td>crab</td><td>400.0</td></tr><tr><td>svga</td><td>400.0</td></tr><tr><td>ghosts</td><td>200.0</td></tr><tr><td>super</td><td>133.33333333333334</td></tr><tr><td>items</td><td>200.0</td></tr><tr><td>soundtrack</td><td>200.0</td></tr><tr><td>goal</td><td>200.0</td></tr><tr><td>guppies</td><td>200.0</td></tr><tr><td>fvl328</td><td>400.0</td></tr><tr><td>vpns</td><td>400.0</td></tr><tr><td>ike</td><td>400.0</td></tr><tr><td>mechanisms</td><td>200.0</td></tr><tr><td>fvs318</td><td>400.0</td></tr><tr><td>aes</td><td>400.0</td></tr><tr><td>1024</td><td>133.33333333333334</td></tr><tr><td>processor</td><td>40.0</td></tr><tr><td>wireless</td><td>100.0</td></tr><tr><td>bdorfer</td><td>400.0</td></tr><tr><td>datawatch</td><td>400.0</td></tr><tr><td>treasures</td><td>133.33333333333334</td></tr><tr><td>occasion</td><td>200.0</td></tr><tr><td>integrates</td><td>100.0</td></tr><tr><td>spamassassin</td><td>400.0</td></tr><tr><td>details</td><td>66.66666666666667</td></tr><tr><td>snapshot</td><td>400.0</td></tr><tr><td>epson</td><td>200.0</td></tr><tr><td>kit</td><td>100.0</td></tr><tr><td>long</td><td>133.33333333333334</td></tr><tr><td>jet</td><td>400.0</td></tr><tr><td>reunion</td><td>133.33333333333334</td></tr><tr><td>3gb</td><td>133.33333333333334</td></tr><tr><td>extranets</td><td>400.0</td></tr><tr><td>22101258</td><td>400.0</td></tr><tr><td>cinematics</td><td>400.0</td></tr><tr><td>eric</td><td>400.0</td></tr><tr><td>demonstrated</td><td>133.33333333333334</td></tr><tr><td>exposed</td><td>400.0</td></tr><tr><td>scanning</td><td>100.0</td></tr><tr><td>automated</td><td>80.0</td></tr><tr><td>score</td><td>133.33333333333334</td></tr><tr><td>approach</td><td>200.0</td></tr><tr><td>thorough</td><td>200.0</td></tr><tr><td>nation</td><td>200.0</td></tr><tr><td>diagnostic</td><td>400.0</td></tr><tr><td>safe</td><td>200.0</td></tr><tr><td>dataviz</td><td>400.0</td></tr><tr><td>spot</td><td>400.0</td></tr><tr><td>developed</td><td>100.0</td></tr><tr><td>cutting</td><td>200.0</td></tr><tr><td>institute</td><td>400.0</td></tr><tr><td>got</td><td>66.66666666666667</td></tr><tr><td>hours</td><td>33.333333333333336</td></tr><tr><td>echo</td><td>400.0</td></tr><tr><td>appears</td><td>400.0</td></tr><tr><td>continuing</td><td>400.0</td></tr><tr><td>rumor</td><td>400.0</td></tr><tr><td>situation</td><td>400.0</td></tr><tr><td>related</td><td>400.0</td></tr><tr><td>govt</td><td>133.33333333333334</td></tr><tr><td>assurance</td><td>200.0</td></tr><tr><td>discord</td><td>400.0</td></tr><tr><td>abilities</td><td>200.0</td></tr><tr><td>vision</td><td>133.33333333333334</td></tr><tr><td>omens</td><td>400.0</td></tr><tr><td>eyes</td><td>400.0</td></tr><tr><td>darkhollow</td><td>400.0</td></tr><tr><td>country</td><td>200.0</td></tr><tr><td>foes</td><td>400.0</td></tr><tr><td>cromprofessional</td><td>400.0</td></tr><tr><td>screenshots</td><td>400.0</td></tr><tr><td>road</td><td>400.0</td></tr><tr><td>scattered</td><td>400.0</td></tr><tr><td>album</td><td>400.0</td></tr><tr><td>goodcontacts</td><td>400.0</td></tr><tr><td>away</td><td>100.0</td></tr><tr><td>companies</td><td>200.0</td></tr><tr><td>organizer</td><td>400.0</td></tr><tr><td>field</td><td>400.0</td></tr><tr><td>detail</td><td>100.0</td></tr><tr><td>individuals</td><td>200.0</td></tr><tr><td>fly</td><td>200.0</td></tr><tr><td>utilizes</td><td>200.0</td></tr><tr><td>dpi</td><td>200.0</td></tr><tr><td>trade</td><td>400.0</td></tr><tr><td>laptop</td><td>100.0</td></tr><tr><td>go</td><td>80.0</td></tr><tr><td>53</td><td>400.0</td></tr><tr><td>sharepoint</td><td>400.0</td></tr><tr><td>em</td><td>200.0</td></tr><tr><td>vicious</td><td>400.0</td></tr><tr><td>mercy</td><td>400.0</td></tr><tr><td>redesigned</td><td>200.0</td></tr><tr><td>5u</td><td>400.0</td></tr><tr><td>operate</td><td>133.33333333333334</td></tr><tr><td>last</td><td>133.33333333333334</td></tr><tr><td>atari</td><td>100.0</td></tr><tr><td>reproductions</td><td>400.0</td></tr><tr><td>ite</td><td>400.0</td></tr><tr><td>cash</td><td>200.0</td></tr><tr><td>climb</td><td>200.0</td></tr><tr><td>destineer</td><td>100.0</td></tr><tr><td>typically</td><td>400.0</td></tr><tr><td>cisco</td><td>100.0</td></tr><tr><td>csa</td><td>200.0</td></tr><tr><td>sockets</td><td>400.0</td></tr><tr><td>identifying</td><td>400.0</td></tr><tr><td>srvr</td><td>133.33333333333334</td></tr><tr><td>layered</td><td>200.0</td></tr><tr><td>everio</td><td>400.0</td></tr><tr><td>memories</td><td>200.0</td></tr><tr><td>perform</td><td>57.142857142857146</td></tr><tr><td>hermie</td><td>200.0</td></tr><tr><td>scores</td><td>200.0</td></tr><tr><td>iggy</td><td>400.0</td></tr><tr><td>value</td><td>80.0</td></tr><tr><td>join</td><td>100.0</td></tr><tr><td>std</td><td>200.0</td></tr><tr><td>route</td><td>400.0</td></tr><tr><td>days</td><td>57.142857142857146</td></tr><tr><td>www</td><td>133.33333333333334</td></tr><tr><td>hot</td><td>133.33333333333334</td></tr><tr><td>loads</td><td>400.0</td></tr><tr><td>team</td><td>100.0</td></tr><tr><td>2004</td><td>400.0</td></tr><tr><td>ringing</td><td>400.0</td></tr><tr><td>eliminate</td><td>200.0</td></tr><tr><td>preferences</td><td>200.0</td></tr><tr><td>sale</td><td>400.0</td></tr><tr><td>merchant</td><td>400.0</td></tr><tr><td>2002</td><td>133.33333333333334</td></tr><tr><td>reduce</td><td>200.0</td></tr><tr><td>redeem</td><td>400.0</td></tr><tr><td>kept</td><td>400.0</td></tr><tr><td>bookkeeping</td><td>400.0</td></tr><tr><td>issues</td><td>400.0</td></tr><tr><td>suggest</td><td>400.0</td></tr><tr><td>inventories</td><td>400.0</td></tr><tr><td>selling</td><td>100.0</td></tr><tr><td>procedures</td><td>400.0</td></tr><tr><td>britannica</td><td>200.0</td></tr><tr><td>alike</td><td>200.0</td></tr><tr><td>homework</td><td>400.0</td></tr><tr><td>others</td><td>133.33333333333334</td></tr><tr><td>70</td><td>200.0</td></tr><tr><td>ingredients</td><td>200.0</td></tr><tr><td>salts</td><td>400.0</td></tr><tr><td>lose</td><td>400.0</td></tr><tr><td>artifacts</td><td>133.33333333333334</td></tr><tr><td>envelopes</td><td>400.0</td></tr><tr><td>watchguard</td><td>133.33333333333334</td></tr><tr><td>novastor</td><td>400.0</td></tr><tr><td>relationships</td><td>200.0</td></tr><tr><td>endearing</td><td>400.0</td></tr><tr><td>cat</td><td>200.0</td></tr><tr><td>ham</td><td>400.0</td></tr><tr><td>spatial</td><td>400.0</td></tr><tr><td>green</td><td>200.0</td></tr><tr><td>morality</td><td>400.0</td></tr><tr><td>pk</td><td>133.33333333333334</td></tr><tr><td>university</td><td>400.0</td></tr><tr><td>240</td><td>400.0</td></tr><tr><td>offered</td><td>400.0</td></tr><tr><td>coated</td><td>400.0</td></tr><tr><td>uncoated</td><td>400.0</td></tr><tr><td>connector</td><td>400.0</td></tr><tr><td>c</td><td>80.0</td></tr><tr><td>10000</td><td>200.0</td></tr><tr><td>toward</td><td>400.0</td></tr><tr><td>departments</td><td>400.0</td></tr><tr><td>treat</td><td>400.0</td></tr><tr><td>offshore</td><td>400.0</td></tr><tr><td>scheduling</td><td>200.0</td></tr><tr><td>centers</td><td>400.0</td></tr><tr><td>appraiser</td><td>400.0</td></tr><tr><td>calculator</td><td>400.0</td></tr><tr><td>suppliers</td><td>400.0</td></tr><tr><td>amount</td><td>400.0</td></tr><tr><td>competitive</td><td>133.33333333333334</td></tr><tr><td>requiring</td><td>400.0</td></tr><tr><td>continuously</td><td>400.0</td></tr><tr><td>leave</td><td>200.0</td></tr><tr><td>iso</td><td>400.0</td></tr><tr><td>interactively</td><td>400.0</td></tr><tr><td>installer</td><td>400.0</td></tr><tr><td>visually</td><td>400.0</td></tr><tr><td>conditions</td><td>200.0</td></tr><tr><td>typographic</td><td>400.0</td></tr><tr><td>artwork</td><td>400.0</td></tr><tr><td>locate</td><td>200.0</td></tr><tr><td>prepare</td><td>400.0</td></tr><tr><td>intent</td><td>400.0</td></tr><tr><td>smooth</td><td>100.0</td></tr><tr><td>reliability</td><td>66.66666666666667</td></tr><tr><td>agreement</td><td>200.0</td></tr><tr><td>concepts</td><td>200.0</td></tr><tr><td>nondestructively</td><td>400.0</td></tr><tr><td>specialized</td><td>400.0</td></tr><tr><td>governed</td><td>400.0</td></tr><tr><td>meetings</td><td>133.33333333333334</td></tr><tr><td>uac</td><td>400.0</td></tr><tr><td>tlo</td><td>400.0</td></tr><tr><td>brightstor</td><td>200.0</td></tr><tr><td>42050142</td><td>200.0</td></tr><tr><td>demographic</td><td>400.0</td></tr><tr><td>stor</td><td>400.0</td></tr><tr><td>wan</td><td>400.0</td></tr><tr><td>significantly</td><td>200.0</td></tr><tr><td>ideally</td><td>400.0</td></tr><tr><td>wkgrp</td><td>400.0</td></tr><tr><td>3745</td><td>400.0</td></tr><tr><td>summaries</td><td>400.0</td></tr><tr><td>aec</td><td>400.0</td></tr><tr><td>truetype</td><td>400.0</td></tr><tr><td>generating</td><td>400.0</td></tr><tr><td>enter</td><td>133.33333333333334</td></tr><tr><td>essence</td><td>400.0</td></tr><tr><td>bellarion</td><td>400.0</td></tr><tr><td>mortagorn</td><td>400.0</td></tr><tr><td>sent</td><td>400.0</td></tr><tr><td>refused</td><td>400.0</td></tr><tr><td>shader</td><td>400.0</td></tr><tr><td>arswaargh</td><td>400.0</td></tr><tr><td>claimed</td><td>400.0</td></tr><tr><td>wunders</td><td>200.0</td></tr><tr><td>feed</td><td>400.0</td></tr><tr><td>sea</td><td>200.0</td></tr><tr><td>scene</td><td>200.0</td></tr><tr><td>engineering</td><td>200.0</td></tr><tr><td>simplifying</td><td>200.0</td></tr><tr><td>antenna</td><td>400.0</td></tr><tr><td>b</td><td>100.0</td></tr><tr><td>documentation</td><td>200.0</td></tr><tr><td>subtle</td><td>400.0</td></tr><tr><td>measurement</td><td>400.0</td></tr><tr><td>equipment</td><td>200.0</td></tr><tr><td>extends</td><td>400.0</td></tr><tr><td>newest</td><td>400.0</td></tr><tr><td>sec</td><td>400.0</td></tr><tr><td>invisitasking</td><td>200.0</td></tr><tr><td>60</td><td>133.33333333333334</td></tr><tr><td>steps</td><td>200.0</td></tr><tr><td>drastically</td><td>400.0</td></tr><tr><td>happen</td><td>400.0</td></tr><tr><td>holding</td><td>400.0</td></tr><tr><td>expert</td><td>100.0</td></tr><tr><td>glass</td><td>400.0</td></tr><tr><td>val</td><td>200.0</td></tr><tr><td>say</td><td>400.0</td></tr><tr><td>physics</td><td>400.0</td></tr><tr><td>agile</td><td>400.0</td></tr><tr><td>checker</td><td>400.0</td></tr><tr><td>synonym</td><td>400.0</td></tr><tr><td>keywords</td><td>400.0</td></tr><tr><td>p</td><td>200.0</td></tr><tr><td>firebox</td><td>400.0</td></tr><tr><td>puzzle</td><td>200.0</td></tr><tr><td>unsure</td><td>400.0</td></tr><tr><td>shores</td><td>400.0</td></tr><tr><td>casual</td><td>200.0</td></tr><tr><td>networked</td><td>400.0</td></tr><tr><td>universal</td><td>100.0</td></tr><tr><td>multicore</td><td>200.0</td></tr><tr><td>maroon</td><td>400.0</td></tr><tr><td>loops</td><td>400.0</td></tr><tr><td>jc</td><td>80.0</td></tr><tr><td>walk</td><td>400.0</td></tr><tr><td>calls</td><td>400.0</td></tr><tr><td>overview</td><td>22.22222222222222</td></tr><tr><td>tour</td><td>400.0</td></tr><tr><td>mind</td><td>200.0</td></tr><tr><td>unites</td><td>400.0</td></tr><tr><td>america</td><td>400.0</td></tr><tr><td>scientific</td><td>400.0</td></tr><tr><td>plots</td><td>400.0</td></tr><tr><td>wkgp</td><td>400.0</td></tr><tr><td>loss</td><td>400.0</td></tr><tr><td>watching</td><td>400.0</td></tr><tr><td>tournaments</td><td>200.0</td></tr><tr><td>h22</td><td>400.0</td></tr><tr><td>olympus</td><td>400.0</td></tr><tr><td>calumet</td><td>400.0</td></tr><tr><td>peerless</td><td>400.0</td></tr><tr><td>mark</td><td>133.33333333333334</td></tr><tr><td>wn4</td><td>400.0</td></tr><tr><td>enthusiasts</td><td>400.0</td></tr><tr><td>zenith</td><td>400.0</td></tr><tr><td>uniquely</td><td>400.0</td></tr><tr><td>thomas</td><td>400.0</td></tr><tr><td>mangione</td><td>400.0</td></tr><tr><td>infinite</td><td>400.0</td></tr><tr><td>toolbox</td><td>400.0</td></tr><tr><td>treasure</td><td>400.0</td></tr><tr><td>java</td><td>400.0</td></tr><tr><td>dict</td><td>400.0</td></tr><tr><td>benches</td><td>400.0</td></tr><tr><td>structures</td><td>400.0</td></tr><tr><td>shelves</td><td>400.0</td></tr><tr><td>immerse</td><td>400.0</td></tr><tr><td>10dwindows</td><td>400.0</td></tr><tr><td>kfull</td><td>400.0</td></tr><tr><td>x4</td><td>400.0</td></tr><tr><td>punch</td><td>200.0</td></tr><tr><td>illegal</td><td>400.0</td></tr><tr><td>villain</td><td>400.0</td></tr><tr><td>28008</td><td>400.0</td></tr><tr><td>boss</td><td>400.0</td></tr><tr><td>thick</td><td>400.0</td></tr><tr><td>danger</td><td>400.0</td></tr><tr><td>sp4</td><td>400.0</td></tr><tr><td>98se</td><td>200.0</td></tr><tr><td>trailers</td><td>400.0</td></tr><tr><td>groupshield</td><td>400.0</td></tr><tr><td>furious</td><td>400.0</td></tr><tr><td>80542</td><td>400.0</td></tr><tr><td>forty</td><td>400.0</td></tr><tr><td>east</td><td>400.0</td></tr><tr><td>breakthrough</td><td>400.0</td></tr><tr><td>trilogy</td><td>400.0</td></tr><tr><td>fires</td><td>400.0</td></tr><tr><td>locusts</td><td>400.0</td></tr><tr><td>gear</td><td>400.0</td></tr><tr><td>utilising</td><td>400.0</td></tr><tr><td>kingdoms</td><td>400.0</td></tr><tr><td>26162vendor</td><td>400.0</td></tr><tr><td>permanently</td><td>400.0</td></tr><tr><td>v1</td><td>400.0</td></tr><tr><td>qty</td><td>400.0</td></tr><tr><td>replaces</td><td>400.0</td></tr><tr><td>extraordinarily</td><td>400.0</td></tr><tr><td>fs2004</td><td>400.0</td></tr><tr><td>civilizations</td><td>400.0</td></tr><tr><td>ptree</td><td>400.0</td></tr><tr><td>position</td><td>400.0</td></tr><tr><td>thunderous</td><td>400.0</td></tr><tr><td>10282</td><td>400.0</td></tr><tr><td>none</td><td>400.0</td></tr><tr><td>informationinspire</td><td>400.0</td></tr><tr><td>950000</td><td>400.0</td></tr><tr><td>recovered</td><td>400.0</td></tr><tr><td>cast</td><td>400.0</td></tr><tr><td>mickey</td><td>400.0</td></tr><tr><td>rising</td><td>400.0</td></tr><tr><td>added</td><td>400.0</td></tr><tr><td>broderbund</td><td>200.0</td></tr><tr><td>backup</td><td>36.36363636363637</td></tr><tr><td>3</td><td>9.30232558139535</td></tr><tr><td>victory</td><td>200.0</td></tr><tr><td>re</td><td>21.05263157894737</td></tr><tr><td>fixed</td><td>400.0</td></tr><tr><td>plus</td><td>16.666666666666668</td></tr><tr><td>solid</td><td>133.33333333333334</td></tr><tr><td>accounting</td><td>133.33333333333334</td></tr><tr><td>user</td><td>9.523809523809524</td></tr><tr><td>time</td><td>10.0</td></tr><tr><td>funds</td><td>400.0</td></tr><tr><td>quickbooks</td><td>133.33333333333334</td></tr><tr><td>software</td><td>4.25531914893617</td></tr><tr><td>audit</td><td>400.0</td></tr><tr><td>snap</td><td>80.0</td></tr><tr><td>coach</td><td>100.0</td></tr><tr><td>dantz</td><td>100.0</td></tr><tr><td>preserved</td><td>400.0</td></tr><tr><td>previewing</td><td>200.0</td></tr><tr><td>effects</td><td>26.666666666666668</td></tr><tr><td>6</td><td>20.0</td></tr><tr><td>stressinjuries</td><td>400.0</td></tr><tr><td>thin</td><td>400.0</td></tr><tr><td>employees</td><td>66.66666666666667</td></tr><tr><td>information</td><td>12.5</td></tr><tr><td>reports</td><td>30.76923076923077</td></tr><tr><td>special</td><td>40.0</td></tr><tr><td>professionalto</td><td>400.0</td></tr><tr><td>section</td><td>100.0</td></tr><tr><td>word</td><td>44.44444444444444</td></tr><tr><td>busy</td><td>400.0</td></tr><tr><td>faster</td><td>25.0</td></tr><tr><td>required</td><td>50.0</td></tr><tr><td>bluetooth</td><td>400.0</td></tr><tr><td>office</td><td>44.44444444444444</td></tr><tr><td>temporary</td><td>400.0</td></tr><tr><td>fd7</td><td>400.0</td></tr><tr><td>thantyping</td><td>400.0</td></tr><tr><td>outlook</td><td>80.0</td></tr><tr><td>administration</td><td>200.0</td></tr><tr><td>adventure</td><td>26.666666666666668</td></tr><tr><td>skills</td><td>18.181818181818183</td></tr><tr><td>keys</td><td>133.33333333333334</td></tr><tr><td>bit</td><td>22.22222222222222</td></tr><tr><td>x</td><td>12.903225806451612</td></tr><tr><td>recipient</td><td>200.0</td></tr><tr><td>boxes</td><td>200.0</td></tr><tr><td>art</td><td>36.36363636363637</td></tr><tr><td>implementations</td><td>400.0</td></tr><tr><td>enabled</td><td>133.33333333333334</td></tr><tr><td>access</td><td>20.0</td></tr><tr><td>hard</td><td>19.047619047619047</td></tr><tr><td>hummingbird</td><td>133.33333333333334</td></tr><tr><td>maestro</td><td>400.0</td></tr><tr><td>32</td><td>100.0</td></tr><tr><td>server</td><td>21.05263157894737</td></tr><tr><td>intelligence</td><td>133.33333333333334</td></tr><tr><td>complexity</td><td>100.0</td></tr><tr><td>domino</td><td>400.0</td></tr><tr><td>pages</td><td>36.36363636363637</td></tr><tr><td>231327</td><td>400.0</td></tr><tr><td>0c</td><td>133.33333333333334</td></tr><tr><td>v3</td><td>133.33333333333334</td></tr><tr><td>1000</td><td>100.0</td></tr><tr><td>infrastructure</td><td>66.66666666666667</td></tr><tr><td>intuitive</td><td>28.571428571428573</td></tr><tr><td>strain</td><td>200.0</td></tr><tr><td>upg</td><td>33.333333333333336</td></tr><tr><td>enforcing</td><td>200.0</td></tr><tr><td>enables</td><td>21.05263157894737</td></tr><tr><td>malicious</td><td>100.0</td></tr><tr><td>consuming</td><td>200.0</td></tr><tr><td>scale</td><td>100.0</td></tr><tr><td>topics</td><td>13.333333333333334</td></tr><tr><td>subtraction</td><td>200.0</td></tr><tr><td>30</td><td>80.0</td></tr><tr><td>build</td><td>33.333333333333336</td></tr><tr><td>bugs</td><td>133.33333333333334</td></tr><tr><td>wacky</td><td>400.0</td></tr><tr><td>featuring</td><td>66.66666666666667</td></tr><tr><td>crucial</td><td>400.0</td></tr><tr><td>animations</td><td>133.33333333333334</td></tr><tr><td>retrieve</td><td>200.0</td></tr><tr><td>table</td><td>400.0</td></tr><tr><td>42</td><td>400.0</td></tr><tr><td>chord</td><td>200.0</td></tr><tr><td>charts</td><td>200.0</td></tr><tr><td>disasters</td><td>200.0</td></tr><tr><td>preserve</td><td>200.0</td></tr><tr><td>instantly</td><td>133.33333333333334</td></tr><tr><td>window</td><td>400.0</td></tr><tr><td>dv</td><td>133.33333333333334</td></tr><tr><td>download</td><td>200.0</td></tr><tr><td>markers</td><td>400.0</td></tr><tr><td>reach</td><td>200.0</td></tr><tr><td>blu</td><td>200.0</td></tr><tr><td>requires</td><td>50.0</td></tr><tr><td>bolts</td><td>400.0</td></tr><tr><td>timewarp</td><td>400.0</td></tr><tr><td>drag</td><td>57.142857142857146</td></tr><tr><td>impact</td><td>200.0</td></tr><tr><td>audience</td><td>133.33333333333334</td></tr><tr><td>enjoy</td><td>44.44444444444444</td></tr><tr><td>player</td><td>66.66666666666667</td></tr><tr><td>websites</td><td>66.66666666666667</td></tr><tr><td>part</td><td>44.44444444444444</td></tr><tr><td>rs</td><td>400.0</td></tr><tr><td>drop</td><td>66.66666666666667</td></tr><tr><td>events</td><td>200.0</td></tr><tr><td>producers</td><td>400.0</td></tr><tr><td>rack</td><td>400.0</td></tr><tr><td>people</td><td>133.33333333333334</td></tr><tr><td>author</td><td>133.33333333333334</td></tr><tr><td>values</td><td>400.0</td></tr><tr><td>sd</td><td>400.0</td></tr><tr><td>batch</td><td>133.33333333333334</td></tr><tr><td>toolset</td><td>133.33333333333334</td></tr><tr><td>focus</td><td>133.33333333333334</td></tr><tr><td>smoothly</td><td>200.0</td></tr><tr><td>signal</td><td>400.0</td></tr><tr><td>efficiency</td><td>100.0</td></tr><tr><td>lighting</td><td>133.33333333333334</td></tr><tr><td>redefines</td><td>400.0</td></tr><tr><td>highest</td><td>200.0</td></tr><tr><td>vol</td><td>400.0</td></tr><tr><td>sites</td><td>133.33333333333334</td></tr><tr><td>rich</td><td>50.0</td></tr><tr><td>popular</td><td>44.44444444444444</td></tr><tr><td>filter</td><td>400.0</td></tr><tr><td>graphic</td><td>80.0</td></tr><tr><td>psd</td><td>400.0</td></tr><tr><td>frequently</td><td>400.0</td></tr><tr><td>vectors</td><td>400.0</td></tr><tr><td>dramatically</td><td>133.33333333333334</td></tr><tr><td>prototype</td><td>400.0</td></tr><tr><td>cad</td><td>400.0</td></tr><tr><td>growing</td><td>200.0</td></tr><tr><td>tv</td><td>200.0</td></tr><tr><td>guides</td><td>133.33333333333334</td></tr><tr><td>endless</td><td>200.0</td></tr><tr><td>backgrounds</td><td>80.0</td></tr><tr><td>fonts</td><td>100.0</td></tr><tr><td>400</td><td>66.66666666666667</td></tr><tr><td>complement</td><td>200.0</td></tr><tr><td>program</td><td>28.571428571428573</td></tr><tr><td>dynamic</td><td>66.66666666666667</td></tr><tr><td>borderless</td><td>200.0</td></tr><tr><td>logo</td><td>200.0</td></tr><tr><td>history</td><td>66.66666666666667</td></tr><tr><td>receive</td><td>133.33333333333334</td></tr><tr><td>partitions</td><td>400.0</td></tr><tr><td>failures</td><td>400.0</td></tr><tr><td>slip</td><td>200.0</td></tr><tr><td>works</td><td>100.0</td></tr><tr><td>ntfs</td><td>400.0</td></tr><tr><td>hacker</td><td>400.0</td></tr><tr><td>first</td><td>33.333333333333336</td></tr><tr><td>brought</td><td>400.0</td></tr><tr><td>dk</td><td>200.0</td></tr><tr><td>studio</td><td>57.142857142857146</td></tr><tr><td>dance</td><td>400.0</td></tr><tr><td>types</td><td>133.33333333333334</td></tr><tr><td>tempo</td><td>200.0</td></tr><tr><td>pieces</td><td>133.33333333333334</td></tr><tr><td>flawless</td><td>400.0</td></tr><tr><td>scenes</td><td>133.33333333333334</td></tr><tr><td>languages</td><td>100.0</td></tr><tr><td>tristep</td><td>400.0</td></tr><tr><td>blank</td><td>80.0</td></tr><tr><td>stereo</td><td>400.0</td></tr><tr><td>transcoding</td><td>400.0</td></tr><tr><td>easiest</td><td>400.0</td></tr><tr><td>turbocad</td><td>200.0</td></tr><tr><td>95</td><td>33.333333333333336</td></tr><tr><td>adding</td><td>200.0</td></tr><tr><td>250</td><td>400.0</td></tr><tr><td>priced</td><td>200.0</td></tr><tr><td>softwaretools</td><td>400.0</td></tr><tr><td>geographic</td><td>80.0</td></tr><tr><td>star</td><td>80.0</td></tr><tr><td>stars</td><td>200.0</td></tr><tr><td>facts</td><td>400.0</td></tr><tr><td>inventions</td><td>200.0</td></tr><tr><td>winners</td><td>400.0</td></tr><tr><td>little</td><td>80.0</td></tr><tr><td>dogsdo</td><td>400.0</td></tr><tr><td>thinking</td><td>133.33333333333334</td></tr><tr><td>party</td><td>80.0</td></tr><tr><td>red</td><td>66.66666666666667</td></tr><tr><td>delicious</td><td>400.0</td></tr><tr><td>controlled</td><td>200.0</td></tr><tr><td>shopping</td><td>200.0</td></tr><tr><td>webshop</td><td>400.0</td></tr><tr><td>fully</td><td>133.33333333333334</td></tr><tr><td>toolbars</td><td>400.0</td></tr><tr><td>boost</td><td>200.0</td></tr><tr><td>boostxp</td><td>200.0</td></tr><tr><td>error</td><td>200.0</td></tr><tr><td>insectcolony</td><td>400.0</td></tr><tr><td>air</td><td>400.0</td></tr><tr><td>exploration</td><td>400.0</td></tr><tr><td>animals</td><td>400.0</td></tr><tr><td>mayhem</td><td>400.0</td></tr><tr><td>heroes</td><td>80.0</td></tr><tr><td>police</td><td>200.0</td></tr><tr><td>wheel</td><td>100.0</td></tr><tr><td>flee</td><td>400.0</td></tr><tr><td>memorable</td><td>200.0</td></tr><tr><td>compromised</td><td>400.0</td></tr><tr><td>giving</td><td>100.0</td></tr><tr><td>theft</td><td>133.33333333333334</td></tr><tr><td>memory</td><td>66.66666666666667</td></tr><tr><td>quicktime</td><td>133.33333333333334</td></tr><tr><td>picture</td><td>133.33333333333334</td></tr><tr><td>brnigs</td><td>400.0</td></tr><tr><td>ship</td><td>66.66666666666667</td></tr><tr><td>freddi</td><td>133.33333333333334</td></tr><tr><td>toys</td><td>200.0</td></tr><tr><td>along</td><td>50.0</td></tr><tr><td>later</td><td>80.0</td></tr><tr><td>songs</td><td>80.0</td></tr><tr><td>places</td><td>200.0</td></tr><tr><td>setup</td><td>133.33333333333334</td></tr><tr><td>hash</td><td>400.0</td></tr><tr><td>768</td><td>133.33333333333334</td></tr><tr><td>compliant</td><td>400.0</td></tr><tr><td>rsa</td><td>400.0</td></tr><tr><td>dial</td><td>400.0</td></tr><tr><td>piano</td><td>66.66666666666667</td></tr><tr><td>sampled</td><td>400.0</td></tr><tr><td>midway</td><td>200.0</td></tr><tr><td>arcade</td><td>100.0</td></tr><tr><td>computing</td><td>100.0</td></tr><tr><td>200</td><td>100.0</td></tr><tr><td>stream</td><td>400.0</td></tr><tr><td>package</td><td>25.0</td></tr><tr><td>extra</td><td>400.0</td></tr><tr><td>graduation</td><td>400.0</td></tr><tr><td>practice</td><td>50.0</td></tr><tr><td>protects</td><td>200.0</td></tr><tr><td>sleeve</td><td>400.0</td></tr><tr><td>moments</td><td>200.0</td></tr><tr><td>pixels</td><td>200.0</td></tr><tr><td>minimum</td><td>80.0</td></tr><tr><td>scanner</td><td>100.0</td></tr><tr><td>era</td><td>200.0</td></tr><tr><td>favor</td><td>200.0</td></tr><tr><td>recordings</td><td>400.0</td></tr><tr><td>midi</td><td>200.0</td></tr><tr><td>method</td><td>50.0</td></tr><tr><td>famous</td><td>200.0</td></tr><tr><td>recorder</td><td>200.0</td></tr><tr><td>chapters</td><td>400.0</td></tr><tr><td>emedia</td><td>44.44444444444444</td></tr><tr><td>lead</td><td>57.142857142857146</td></tr><tr><td>jimi</td><td>400.0</td></tr><tr><td>license</td><td>14.814814814814815</td></tr><tr><td>determine</td><td>400.0</td></tr><tr><td>prep</td><td>200.0</td></tr><tr><td>reason</td><td>400.0</td></tr><tr><td>company</td><td>66.66666666666667</td></tr><tr><td>raising</td><td>400.0</td></tr><tr><td>vocabulary</td><td>133.33333333333334</td></tr><tr><td>kaplan</td><td>133.33333333333334</td></tr><tr><td>covering</td><td>200.0</td></tr><tr><td>helped</td><td>200.0</td></tr><tr><td>300mhz</td><td>400.0</td></tr><tr><td>ensuring</td><td>200.0</td></tr><tr><td>credit</td><td>133.33333333333334</td></tr><tr><td>pins</td><td>400.0</td></tr><tr><td>tuning</td><td>200.0</td></tr><tr><td>follow</td><td>44.44444444444444</td></tr><tr><td>mccrone</td><td>400.0</td></tr><tr><td>pleasant</td><td>400.0</td></tr><tr><td>odd</td><td>400.0</td></tr><tr><td>enemies</td><td>400.0</td></tr><tr><td>yaki</td><td>400.0</td></tr><tr><td>throught</td><td>400.0</td></tr><tr><td>local</td><td>50.0</td></tr><tr><td>licenses</td><td>57.142857142857146</td></tr><tr><td>fearsome</td><td>400.0</td></tr><tr><td>mage</td><td>400.0</td></tr><tr><td>brotherhood</td><td>400.0</td></tr><tr><td>daily</td><td>400.0</td></tr><tr><td>retypes</td><td>400.0</td></tr><tr><td>dots</td><td>400.0</td></tr><tr><td>scans</td><td>400.0</td></tr><tr><td>italian</td><td>200.0</td></tr><tr><td>either</td><td>400.0</td></tr><tr><td>parsing</td><td>400.0</td></tr><tr><td>address</td><td>200.0</td></tr><tr><td>shows</td><td>80.0</td></tr><tr><td>piles</td><td>400.0</td></tr><tr><td>struggle</td><td>400.0</td></tr><tr><td>organized</td><td>133.33333333333334</td></tr><tr><td>calibration</td><td>400.0</td></tr><tr><td>enforcement</td><td>200.0</td></tr><tr><td>missing</td><td>400.0</td></tr><tr><td>vegas</td><td>133.33333333333334</td></tr><tr><td>poker</td><td>133.33333333333334</td></tr><tr><td>staying</td><td>400.0</td></tr><tr><td>man</td><td>400.0</td></tr><tr><td>sos</td><td>200.0</td></tr><tr><td>engines</td><td>133.33333333333334</td></tr><tr><td>editable</td><td>133.33333333333334</td></tr><tr><td>elements</td><td>66.66666666666667</td></tr><tr><td>viva</td><td>200.0</td></tr><tr><td>signature</td><td>400.0</td></tr><tr><td>specifically</td><td>200.0</td></tr><tr><td>resident</td><td>400.0</td></tr><tr><td>removing</td><td>400.0</td></tr><tr><td>worm</td><td>400.0</td></tr><tr><td>code</td><td>66.66666666666667</td></tr><tr><td>wav</td><td>400.0</td></tr><tr><td>mod</td><td>400.0</td></tr><tr><td>happens</td><td>400.0</td></tr><tr><td>misbehaving</td><td>200.0</td></tr><tr><td>load</td><td>200.0</td></tr><tr><td>appropriate</td><td>400.0</td></tr><tr><td>cuisine</td><td>200.0</td></tr><tr><td>ferris</td><td>200.0</td></tr><tr><td>lucy</td><td>200.0</td></tr><tr><td>words</td><td>100.0</td></tr><tr><td>talk</td><td>400.0</td></tr><tr><td>packard</td><td>57.142857142857146</td></tr><tr><td>conn</td><td>133.33333333333334</td></tr><tr><td>inventory</td><td>400.0</td></tr><tr><td>refinements</td><td>400.0</td></tr><tr><td>whole</td><td>66.66666666666667</td></tr><tr><td>reader</td><td>200.0</td></tr><tr><td>merchandise</td><td>400.0</td></tr><tr><td>payments</td><td>400.0</td></tr><tr><td>entry</td><td>200.0</td></tr><tr><td>codes</td><td>200.0</td></tr><tr><td>greatly</td><td>133.33333333333334</td></tr><tr><td>bundled</td><td>400.0</td></tr><tr><td>purchasing</td><td>400.0</td></tr><tr><td>pos</td><td>200.0</td></tr><tr><td>sold</td><td>100.0</td></tr><tr><td>drawer</td><td>400.0</td></tr><tr><td>performing</td><td>200.0</td></tr><tr><td>166</td><td>400.0</td></tr><tr><td>exhilarating</td><td>400.0</td></tr><tr><td>comparison</td><td>200.0</td></tr><tr><td>adults</td><td>200.0</td></tr><tr><td>analyze</td><td>133.33333333333334</td></tr><tr><td>decorative</td><td>400.0</td></tr><tr><td>steamship</td><td>400.0</td></tr><tr><td>struck</td><td>400.0</td></tr><tr><td>1912</td><td>400.0</td></tr><tr><td>objects</td><td>57.142857142857146</td></tr><tr><td>nobles</td><td>400.0</td></tr><tr><td>respected</td><td>400.0</td></tr><tr><td>crusader</td><td>200.0</td></tr><tr><td>earning</td><td>400.0</td></tr><tr><td>comprehension</td><td>200.0</td></tr><tr><td>foundation</td><td>200.0</td></tr><tr><td>dr</td><td>200.0</td></tr><tr><td>eggs</td><td>400.0</td></tr><tr><td>302127</td><td>200.0</td></tr><tr><td>speaking</td><td>100.0</td></tr><tr><td>formula</td><td>400.0</td></tr><tr><td>gps206</td><td>200.0</td></tr><tr><td>metallic</td><td>400.0</td></tr><tr><td>hexachrome</td><td>400.0</td></tr><tr><td>presenting</td><td>400.0</td></tr><tr><td>non</td><td>133.33333333333334</td></tr><tr><td>extrnlconnnonemplyenglands</td><td>400.0</td></tr><tr><td>emply</td><td>400.0</td></tr><tr><td>replicate</td><td>400.0</td></tr><tr><td>trend</td><td>400.0</td></tr><tr><td>linux</td><td>80.0</td></tr><tr><td>distribute</td><td>400.0</td></tr><tr><td>unix</td><td>80.0</td></tr><tr><td>120</td><td>400.0</td></tr><tr><td>corrective</td><td>400.0</td></tr><tr><td>reviews</td><td>400.0</td></tr><tr><td>dynamics</td><td>400.0</td></tr><tr><td>readily</td><td>400.0</td></tr><tr><td>relationship</td><td>400.0</td></tr><tr><td>gets</td><td>200.0</td></tr><tr><td>intensified</td><td>400.0</td></tr><tr><td>partners</td><td>66.66666666666667</td></tr><tr><td>ue</td><td>400.0</td></tr><tr><td>006</td><td>400.0</td></tr><tr><td>preflight</td><td>400.0</td></tr><tr><td>tailored</td><td>400.0</td></tr><tr><td>shared</td><td>400.0</td></tr><tr><td>engaging</td><td>133.33333333333334</td></tr><tr><td>variations</td><td>400.0</td></tr><tr><td>browse</td><td>400.0</td></tr><tr><td>automate</td><td>400.0</td></tr><tr><td>inspired</td><td>400.0</td></tr><tr><td>fluidly</td><td>400.0</td></tr><tr><td>bootcamp</td><td>400.0</td></tr><tr><td>validate</td><td>400.0</td></tr><tr><td>fixing</td><td>400.0</td></tr><tr><td>workspaces</td><td>400.0</td></tr><tr><td>number</td><td>80.0</td></tr><tr><td>dimensions</td><td>200.0</td></tr><tr><td>scriptingspeed</td><td>400.0</td></tr><tr><td>w</td><td>57.142857142857146</td></tr><tr><td>mnt</td><td>400.0</td></tr><tr><td>smaller</td><td>200.0</td></tr><tr><td>distiller</td><td>100.0</td></tr><tr><td>improvements</td><td>400.0</td></tr><tr><td>suited</td><td>400.0</td></tr><tr><td>fw</td><td>400.0</td></tr><tr><td>suretrak</td><td>400.0</td></tr><tr><td>vrs4</td><td>400.0</td></tr><tr><td>workgroup</td><td>200.0</td></tr><tr><td>ser</td><td>400.0</td></tr><tr><td>logs</td><td>400.0</td></tr><tr><td>importing</td><td>400.0</td></tr><tr><td>processors</td><td>200.0</td></tr><tr><td>seeking</td><td>400.0</td></tr><tr><td>informatics</td><td>400.0</td></tr><tr><td>summoned</td><td>400.0</td></tr><tr><td>affairs</td><td>200.0</td></tr><tr><td>quests</td><td>200.0</td></tr><tr><td>gamers</td><td>100.0</td></tr><tr><td>struggled</td><td>400.0</td></tr><tr><td>submit</td><td>400.0</td></tr><tr><td>kingdom</td><td>400.0</td></tr><tr><td>400mhz</td><td>200.0</td></tr><tr><td>serenity</td><td>200.0</td></tr><tr><td>taps</td><td>400.0</td></tr><tr><td>palette</td><td>400.0</td></tr><tr><td>cmyk</td><td>400.0</td></tr><tr><td>debabelizer</td><td>200.0</td></tr><tr><td>las</td><td>400.0</td></tr><tr><td>enabling</td><td>400.0</td></tr><tr><td>lan</td><td>200.0</td></tr><tr><td>environmental</td><td>400.0</td></tr><tr><td>installers</td><td>200.0</td></tr><tr><td>define</td><td>400.0</td></tr><tr><td>simulation</td><td>200.0</td></tr><tr><td>lications</td><td>400.0</td></tr><tr><td>order</td><td>200.0</td></tr><tr><td>valuable</td><td>133.33333333333334</td></tr><tr><td>910620</td><td>400.0</td></tr><tr><td>bndl</td><td>400.0</td></tr><tr><td>defrag</td><td>200.0</td></tr><tr><td>facing</td><td>200.0</td></tr><tr><td>flood</td><td>400.0</td></tr><tr><td>shooters</td><td>200.0</td></tr><tr><td>scrapbook</td><td>400.0</td></tr><tr><td>quotations</td><td>400.0</td></tr><tr><td>100u</td><td>200.0</td></tr><tr><td>centralize</td><td>400.0</td></tr><tr><td>locales</td><td>400.0</td></tr><tr><td>adrenaline</td><td>400.0</td></tr><tr><td>eidos</td><td>200.0</td></tr><tr><td>improvise</td><td>400.0</td></tr><tr><td>tombs</td><td>400.0</td></tr><tr><td>borland</td><td>200.0</td></tr><tr><td>relational</td><td>400.0</td></tr><tr><td>revolutionary</td><td>400.0</td></tr><tr><td>syntax</td><td>400.0</td></tr><tr><td>researchsoft</td><td>400.0</td></tr><tr><td>authors</td><td>400.0</td></tr><tr><td>hint</td><td>400.0</td></tr><tr><td>tastes</td><td>400.0</td></tr><tr><td>undo</td><td>400.0</td></tr><tr><td>10d</td><td>200.0</td></tr><tr><td>tapes</td><td>400.0</td></tr><tr><td>hour</td><td>400.0</td></tr><tr><td>taken</td><td>400.0</td></tr><tr><td>expect</td><td>200.0</td></tr><tr><td>greater</td><td>400.0</td></tr><tr><td>itandquot</td><td>400.0</td></tr><tr><td>assemble</td><td>400.0</td></tr><tr><td>pd</td><td>400.0</td></tr><tr><td>equisys</td><td>400.0</td></tr><tr><td>withstand</td><td>400.0</td></tr><tr><td>inkjet</td><td>400.0</td></tr><tr><td>raster</td><td>400.0</td></tr><tr><td>symphony</td><td>400.0</td></tr><tr><td>04</td><td>200.0</td></tr><tr><td>ma613za</td><td>400.0</td></tr><tr><td>ae</td><td>400.0</td></tr><tr><td>entsec</td><td>400.0</td></tr><tr><td>gov</td><td>133.33333333333334</td></tr><tr><td>1788</td><td>400.0</td></tr><tr><td>comprehensi</td><td>400.0</td></tr><tr><td>1gb</td><td>133.33333333333334</td></tr><tr><td>diet</td><td>400.0</td></tr><tr><td>clean</td><td>133.33333333333334</td></tr><tr><td>flatpicking</td><td>400.0</td></tr><tr><td>kaufman</td><td>400.0</td></tr><tr><td>integral</td><td>400.0</td></tr><tr><td>arsenal</td><td>400.0</td></tr><tr><td>15</td><td>200.0</td></tr><tr><td>22070152</td><td>400.0</td></tr><tr><td>upgrademodel</td><td>400.0</td></tr><tr><td>1999</td><td>400.0</td></tr><tr><td>usually</td><td>100.0</td></tr><tr><td>superstar</td><td>400.0</td></tr><tr><td>bustling</td><td>400.0</td></tr><tr><td>enthusiastic</td><td>400.0</td></tr><tr><td>confident</td><td>400.0</td></tr><tr><td>20033</td><td>400.0</td></tr><tr><td>catalog</td><td>400.0</td></tr><tr><td>yamaha</td><td>133.33333333333334</td></tr><tr><td>hits</td><td>400.0</td></tr><tr><td>a109x</td><td>400.0</td></tr><tr><td>iphoto</td><td>400.0</td></tr><tr><td>runtime</td><td>400.0</td></tr><tr><td>solitary</td><td>400.0</td></tr><tr><td>remodeling</td><td>400.0</td></tr><tr><td>tub</td><td>400.0</td></tr><tr><td>indispensable</td><td>400.0</td></tr><tr><td>cretaceous</td><td>400.0</td></tr><tr><td>imaginative</td><td>400.0</td></tr><tr><td>sims</td><td>400.0</td></tr><tr><td>car</td><td>400.0</td></tr><tr><td>performer</td><td>400.0</td></tr><tr><td>roots</td><td>400.0</td></tr><tr><td>delta</td><td>400.0</td></tr><tr><td>jazz</td><td>400.0</td></tr><tr><td>statuary</td><td>400.0</td></tr><tr><td>gardens</td><td>400.0</td></tr><tr><td>session</td><td>400.0</td></tr><tr><td>soundtracks</td><td>400.0</td></tr><tr><td>s041886</td><td>400.0</td></tr><tr><td>shoe</td><td>400.0</td></tr><tr><td>introducing</td><td>400.0</td></tr><tr><td>netbarrier</td><td>400.0</td></tr><tr><td>sexy</td><td>400.0</td></tr><tr><td>hovering</td><td>400.0</td></tr><tr><td>112100602</td><td>400.0</td></tr><tr><td>berklee</td><td>400.0</td></tr><tr><td>fujita</td><td>400.0</td></tr><tr><td>improving</td><td>400.0</td></tr><tr><td>tech</td><td>400.0</td></tr><tr><td>securing</td><td>400.0</td></tr><tr><td>ability</td><td>400.0</td></tr><tr><td>battlefront</td><td>400.0</td></tr><tr><td>readalot</td><td>400.0</td></tr><tr><td>reality</td><td>400.0</td></tr><tr><td>x3mac</td><td>400.0</td></tr><tr><td>brain</td><td>400.0</td></tr><tr><td>wrangling</td><td>400.0</td></tr><tr><td>obvious</td><td>400.0</td></tr><tr><td>gps203</td><td>400.0</td></tr><tr><td>begin</td><td>400.0</td></tr><tr><td>november</td><td>400.0</td></tr><tr><td>drawings</td><td>400.0</td></tr><tr><td>enthusiast</td><td>400.0</td></tr><tr><td>romeu</td><td>400.0</td></tr><tr><td>talented</td><td>400.0</td></tr><tr><td>fighter</td><td>400.0</td></tr><tr><td>bab</td><td>400.0</td></tr><tr><td>released</td><td>400.0</td></tr><tr><td>krupa</td><td>400.0</td></tr><tr><td>papa</td><td>400.0</td></tr><tr><td>jones</td><td>400.0</td></tr><tr><td>38040450</td><td>400.0</td></tr><tr><td>m009a</td><td>400.0</td></tr><tr><td>universally</td><td>400.0</td></tr><tr><td>clipart</td><td>400.0</td></tr><tr><td>discs</td><td>400.0</td></tr><tr><td>hakone</td><td>400.0</td></tr><tr><td>uncertainties</td><td>400.0</td></tr><tr><td>infects</td><td>400.0</td></tr><tr><td>summons</td><td>400.0</td></tr><tr><td>unconstrained</td><td>400.0</td></tr><tr><td>empire</td><td>400.0</td></tr><tr><td>assures</td><td>400.0</td></tr><tr><td>conduct</td><td>400.0</td></tr><tr><td>keeper</td><td>400.0</td></tr><tr><td>11105095</td><td>400.0</td></tr><tr><td>pack</td><td>30.76923076923077</td></tr><tr><td>000</td><td>40.0</td></tr><tr><td>image</td><td>36.36363636363637</td></tr><tr><td>desktop</td><td>50.0</td></tr><tr><td>multimedia</td><td>50.0</td></tr><tr><td>easily</td><td>15.384615384615385</td></tr><tr><td>financial</td><td>133.33333333333334</td></tr><tr><td>challenges</td><td>80.0</td></tr><tr><td>solution</td><td>14.814814814814815</td></tr><tr><td>payroll</td><td>400.0</td></tr><tr><td>password</td><td>133.33333333333334</td></tr><tr><td>protection</td><td>26.666666666666668</td></tr><tr><td>singing</td><td>200.0</td></tr><tr><td>disk</td><td>28.571428571428573</td></tr><tr><td>new</td><td>6.896551724137931</td></tr><tr><td>transformations</td><td>400.0</td></tr><tr><td>adobe</td><td>16.666666666666668</td></tr><tr><td>import</td><td>36.36363636363637</td></tr><tr><td>expressions</td><td>400.0</td></tr><tr><td>attributes</td><td>133.33333333333334</td></tr><tr><td>speed</td><td>33.333333333333336</td></tr><tr><td>integration</td><td>44.44444444444444</td></tr><tr><td>combination</td><td>100.0</td></tr><tr><td>pc</td><td>13.793103448275861</td></tr><tr><td>ideal</td><td>33.333333333333336</td></tr><tr><td>support</td><td>16.666666666666668</td></tr><tr><td>training</td><td>50.0</td></tr><tr><td>robust</td><td>57.142857142857146</td></tr><tr><td>higher</td><td>26.666666666666668</td></tr><tr><td>ready</td><td>50.0</td></tr><tr><td>nuance</td><td>57.142857142857146</td></tr><tr><td>itempowers</td><td>400.0</td></tr><tr><td>help</td><td>17.391304347826086</td></tr><tr><td>challenging</td><td>66.66666666666667</td></tr><tr><td>child</td><td>80.0</td></tr><tr><td>love</td><td>100.0</td></tr><tr><td>search</td><td>28.571428571428573</td></tr><tr><td>activities</td><td>25.0</td></tr><tr><td>know</td><td>57.142857142857146</td></tr><tr><td>mode</td><td>57.142857142857146</td></tr><tr><td>os</td><td>26.666666666666668</td></tr><tr><td>heard</td><td>200.0</td></tr><tr><td>98</td><td>22.22222222222222</td></tr><tr><td>bring</td><td>33.333333333333336</td></tr><tr><td>true</td><td>80.0</td></tr><tr><td>simple</td><td>22.22222222222222</td></tr><tr><td>macintosh</td><td>50.0</td></tr><tr><td>remote</td><td>57.142857142857146</td></tr><tr><td>rfc3530</td><td>400.0</td></tr><tr><td>make</td><td>16.666666666666668</td></tr><tr><td>printers</td><td>200.0</td></tr><tr><td>solo</td><td>200.0</td></tr><tr><td>tcp</td><td>400.0</td></tr><tr><td>ipv6</td><td>400.0</td></tr><tr><td>drives</td><td>133.33333333333334</td></tr><tr><td>unc</td><td>400.0</td></tr><tr><td>emulation</td><td>400.0</td></tr><tr><td>1094</td><td>400.0</td></tr><tr><td>sizes</td><td>100.0</td></tr><tr><td>providing</td><td>50.0</td></tr><tr><td>feature</td><td>30.76923076923077</td></tr><tr><td>reducing</td><td>400.0</td></tr><tr><td>following</td><td>100.0</td></tr><tr><td>navi</td><td>400.0</td></tr><tr><td>path</td><td>100.0</td></tr><tr><td>wrkgrp</td><td>400.0</td></tr><tr><td>settings</td><td>66.66666666666667</td></tr><tr><td>single</td><td>20.0</td></tr><tr><td>gateway</td><td>200.0</td></tr><tr><td>speeds</td><td>133.33333333333334</td></tr><tr><td>intrusion</td><td>200.0</td></tr><tr><td>sonicwall</td><td>66.66666666666667</td></tr><tr><td>sonic</td><td>200.0</td></tr><tr><td>resources</td><td>66.66666666666667</td></tr><tr><td>entire</td><td>44.44444444444444</td></tr><tr><td>expose</td><td>133.33333333333334</td></tr><tr><td>form</td><td>44.44444444444444</td></tr><tr><td>shapes</td><td>133.33333333333334</td></tr><tr><td>aap</td><td>400.0</td></tr><tr><td>count</td><td>133.33333333333334</td></tr><tr><td>scholars</td><td>400.0</td></tr><tr><td>241</td><td>400.0</td></tr><tr><td>newly</td><td>133.33333333333334</td></tr><tr><td>world</td><td>12.121212121212121</td></tr><tr><td>tuner</td><td>200.0</td></tr><tr><td>beginner</td><td>80.0</td></tr><tr><td>informationentrust</td><td>400.0</td></tr><tr><td>headaches</td><td>400.0</td></tr><tr><td>prevent</td><td>133.33333333333334</td></tr><tr><td>event</td><td>80.0</td></tr><tr><td>trusted</td><td>133.33333333333334</td></tr><tr><td>crashes</td><td>200.0</td></tr><tr><td>simulate</td><td>133.33333333333334</td></tr><tr><td>generate</td><td>100.0</td></tr><tr><td>expedite</td><td>400.0</td></tr><tr><td>via</td><td>66.66666666666667</td></tr><tr><td>move</td><td>40.0</td></tr><tr><td>tag</td><td>400.0</td></tr><tr><td>working</td><td>200.0</td></tr><tr><td>emulate</td><td>400.0</td></tr><tr><td>cs3</td><td>36.36363636363637</td></tr><tr><td>keyframe</td><td>400.0</td></tr><tr><td>broadcast</td><td>400.0</td></tr><tr><td>onlocation</td><td>133.33333333333334</td></tr><tr><td>based</td><td>14.814814814814815</td></tr><tr><td>vectorscope</td><td>400.0</td></tr><tr><td>intel</td><td>36.36363636363637</td></tr><tr><td>boot</td><td>200.0</td></tr><tr><td>story</td><td>57.142857142857146</td></tr><tr><td>tomorrow</td><td>200.0</td></tr><tr><td>enhancements</td><td>80.0</td></tr><tr><td>adjustments</td><td>400.0</td></tr><tr><td>films</td><td>200.0</td></tr><tr><td>playback</td><td>133.33333333333334</td></tr><tr><td>way</td><td>19.047619047619047</td></tr><tr><td>options</td><td>57.142857142857146</td></tr><tr><td>html</td><td>80.0</td></tr><tr><td>project</td><td>30.76923076923077</td></tr><tr><td>vtr</td><td>400.0</td></tr><tr><td>major</td><td>200.0</td></tr><tr><td>remapping</td><td>400.0</td></tr><tr><td>maintain</td><td>100.0</td></tr><tr><td>xmp</td><td>400.0</td></tr><tr><td>equivalents</td><td>400.0</td></tr><tr><td>sections</td><td>400.0</td></tr><tr><td>blending</td><td>400.0</td></tr><tr><td>increase</td><td>66.66666666666667</td></tr><tr><td>biggest</td><td>200.0</td></tr><tr><td>ticket</td><td>400.0</td></tr><tr><td>legacy</td><td>100.0</td></tr><tr><td>pass</td><td>200.0</td></tr><tr><td>share</td><td>57.142857142857146</td></tr><tr><td>combine</td><td>100.0</td></tr><tr><td>slice</td><td>400.0</td></tr><tr><td>depth</td><td>57.142857142857146</td></tr><tr><td>pop</td><td>80.0</td></tr><tr><td>prototyping</td><td>400.0</td></tr><tr><td>optimize</td><td>80.0</td></tr><tr><td>ai</td><td>200.0</td></tr><tr><td>accelerate</td><td>133.33333333333334</td></tr><tr><td>absolute</td><td>133.33333333333334</td></tr><tr><td>retaining</td><td>200.0</td></tr><tr><td>group</td><td>133.33333333333334</td></tr><tr><td>layouts</td><td>100.0</td></tr><tr><td>website</td><td>400.0</td></tr><tr><td>css</td><td>200.0</td></tr><tr><td>optimization</td><td>200.0</td></tr><tr><td>photographic</td><td>200.0</td></tr><tr><td>lb</td><td>400.0</td></tr><tr><td>renovation</td><td>400.0</td></tr><tr><td>cds</td><td>44.44444444444444</td></tr><tr><td>regular</td><td>133.33333333333334</td></tr><tr><td>collection</td><td>26.666666666666668</td></tr><tr><td>scratch</td><td>100.0</td></tr><tr><td>though</td><td>200.0</td></tr><tr><td>selectfrom</td><td>400.0</td></tr><tr><td>valusoft</td><td>133.33333333333334</td></tr><tr><td>tone</td><td>200.0</td></tr><tr><td>purchase</td><td>80.0</td></tr><tr><td>pre</td><td>50.0</td></tr><tr><td>coding</td><td>133.33333333333334</td></tr><tr><td>labels</td><td>100.0</td></tr><tr><td>d</td><td>100.0</td></tr><tr><td>brochures</td><td>133.33333333333334</td></tr><tr><td>creator</td><td>100.0</td></tr><tr><td>fingertips</td><td>200.0</td></tr><tr><td>6x6</td><td>200.0</td></tr><tr><td>11x17</td><td>200.0</td></tr><tr><td>presentations</td><td>133.33333333333334</td></tr><tr><td>sentiments</td><td>200.0</td></tr><tr><td>phrase</td><td>200.0</td></tr><tr><td>skin</td><td>200.0</td></tr><tr><td>analyzes</td><td>200.0</td></tr><tr><td>clusters</td><td>400.0</td></tr><tr><td>accidentally</td><td>400.0</td></tr><tr><td>fat32</td><td>400.0</td></tr><tr><td>erased</td><td>400.0</td></tr><tr><td>knowledge</td><td>80.0</td></tr><tr><td>musicians</td><td>133.33333333333334</td></tr><tr><td>notch</td><td>200.0</td></tr><tr><td>parametric</td><td>400.0</td></tr><tr><td>delay</td><td>400.0</td></tr><tr><td>never</td><td>57.142857142857146</td></tr><tr><td>sounds</td><td>100.0</td></tr><tr><td>backups</td><td>100.0</td></tr><tr><td>extras</td><td>133.33333333333334</td></tr><tr><td>thanks</td><td>133.33333333333334</td></tr><tr><td>gold</td><td>200.0</td></tr><tr><td>900</td><td>400.0</td></tr><tr><td>imsi</td><td>133.33333333333334</td></tr><tr><td>impress</td><td>400.0</td></tr><tr><td>sure</td><td>57.142857142857146</td></tr><tr><td>hijackers</td><td>400.0</td></tr><tr><td>terminal</td><td>400.0</td></tr><tr><td>traditional</td><td>133.33333333333334</td></tr><tr><td>6product</td><td>400.0</td></tr><tr><td>worlds</td><td>100.0</td></tr><tr><td>breadth</td><td>400.0</td></tr><tr><td>oscar</td><td>200.0</td></tr><tr><td>prize</td><td>400.0</td></tr><tr><td>educator</td><td>400.0</td></tr><tr><td>families</td><td>133.33333333333334</td></tr><tr><td>absorbing</td><td>400.0</td></tr><tr><td>scientists</td><td>200.0</td></tr><tr><td>scholastic</td><td>400.0</td></tr><tr><td>adventures</td><td>100.0</td></tr><tr><td>informationclifford</td><td>400.0</td></tr><tr><td>dishes</td><td>200.0</td></tr><tr><td>recipes</td><td>100.0</td></tr><tr><td>account</td><td>200.0</td></tr><tr><td>test</td><td>57.142857142857146</td></tr><tr><td>viewer</td><td>400.0</td></tr><tr><td>featured</td><td>400.0</td></tr><tr><td>micro</td><td>200.0</td></tr><tr><td>allume</td><td>133.33333333333334</td></tr><tr><td>discover</td><td>80.0</td></tr><tr><td>antiquities</td><td>200.0</td></tr><tr><td>commentary</td><td>400.0</td></tr><tr><td>greatest</td><td>100.0</td></tr><tr><td>palace</td><td>400.0</td></tr><tr><td>flames</td><td>400.0</td></tr><tr><td>filled</td><td>100.0</td></tr><tr><td>earn</td><td>400.0</td></tr><tr><td>characters</td><td>80.0</td></tr><tr><td>hero</td><td>133.33333333333334</td></tr><tr><td>array</td><td>100.0</td></tr><tr><td>captions</td><td>200.0</td></tr><tr><td>ve</td><td>100.0</td></tr><tr><td>read</td><td>80.0</td></tr><tr><td>haunting</td><td>200.0</td></tr><tr><td>486</td><td>400.0</td></tr><tr><td>plan</td><td>66.66666666666667</td></tr><tr><td>puzzles</td><td>100.0</td></tr><tr><td>algorithm</td><td>400.0</td></tr><tr><td>mscapi</td><td>400.0</td></tr><tr><td>protected</td><td>200.0</td></tr><tr><td>routers</td><td>200.0</td></tr><tr><td>digest</td><td>400.0</td></tr><tr><td>signatures</td><td>400.0</td></tr><tr><td>connections</td><td>200.0</td></tr><tr><td>pkcs</td><td>400.0</td></tr><tr><td>ops</td><td>200.0</td></tr><tr><td>eng</td><td>100.0</td></tr><tr><td>290</td><td>200.0</td></tr><tr><td>awarded</td><td>400.0</td></tr><tr><td>diskeepeer</td><td>400.0</td></tr><tr><td>monarch</td><td>400.0</td></tr><tr><td>vga</td><td>400.0</td></tr><tr><td>liquor</td><td>100.0</td></tr><tr><td>6mb</td><td>400.0</td></tr><tr><td>3ad</td><td>400.0</td></tr><tr><td>enable</td><td>200.0</td></tr><tr><td>open</td><td>44.44444444444444</td></tr><tr><td>consistent</td><td>133.33333333333334</td></tr><tr><td>interne</td><td>400.0</td></tr><tr><td>802</td><td>133.33333333333334</td></tr><tr><td>600</td><td>133.33333333333334</td></tr><tr><td>73</td><td>400.0</td></tr><tr><td>covers</td><td>100.0</td></tr><tr><td>cleanup</td><td>400.0</td></tr><tr><td>intranets</td><td>400.0</td></tr><tr><td>publication</td><td>400.0</td></tr><tr><td>honor</td><td>400.0</td></tr><tr><td>mythology</td><td>200.0</td></tr><tr><td>hendrix</td><td>400.0</td></tr><tr><td>175</td><td>200.0</td></tr><tr><td>melodies</td><td>200.0</td></tr><tr><td>fingerings</td><td>400.0</td></tr><tr><td>basics</td><td>100.0</td></tr><tr><td>disks</td><td>400.0</td></tr><tr><td>thieves</td><td>200.0</td></tr><tr><td>jeopardize</td><td>400.0</td></tr><tr><td>response</td><td>200.0</td></tr><tr><td>oper</td><td>400.0</td></tr><tr><td>college</td><td>400.0</td></tr><tr><td>tutorials</td><td>200.0</td></tr><tr><td>correct</td><td>133.33333333333334</td></tr><tr><td>topic</td><td>400.0</td></tr><tr><td>blowfish</td><td>400.0</td></tr><tr><td>synchronize</td><td>200.0</td></tr><tr><td>bank</td><td>400.0</td></tr><tr><td>electric</td><td>100.0</td></tr><tr><td>quiet</td><td>400.0</td></tr><tr><td>past</td><td>100.0</td></tr><tr><td>emerges</td><td>200.0</td></tr><tr><td>explores</td><td>400.0</td></tr><tr><td>haunt</td><td>400.0</td></tr><tr><td>scratches</td><td>200.0</td></tr><tr><td>arthate</td><td>400.0</td></tr><tr><td>strange</td><td>133.33333333333334</td></tr><tr><td>near</td><td>400.0</td></tr><tr><td>famed</td><td>400.0</td></tr><tr><td>night</td><td>133.33333333333334</td></tr><tr><td>sci</td><td>400.0</td></tr><tr><td>ancient</td><td>80.0</td></tr><tr><td>h2200301</td><td>400.0</td></tr><tr><td>ten</td><td>100.0</td></tr><tr><td>depths</td><td>400.0</td></tr><tr><td>named</td><td>200.0</td></tr><tr><td>fight</td><td>200.0</td></tr><tr><td>unusual</td><td>400.0</td></tr><tr><td>legion</td><td>400.0</td></tr><tr><td>seen</td><td>400.0</td></tr><tr><td>norrath</td><td>400.0</td></tr><tr><td>rumored</td><td>400.0</td></tr><tr><td>packs</td><td>200.0</td></tr><tr><td>instantaneously</td><td>400.0</td></tr><tr><td>cropping</td><td>400.0</td></tr><tr><td>accurately</td><td>133.33333333333334</td></tr><tr><td>entourage</td><td>400.0</td></tr><tr><td>uses</td><td>133.33333333333334</td></tr><tr><td>disorganized</td><td>400.0</td></tr><tr><td>orientation</td><td>400.0</td></tr><tr><td>registration</td><td>200.0</td></tr><tr><td>contacts</td><td>200.0</td></tr><tr><td>countries</td><td>200.0</td></tr><tr><td>stolen</td><td>200.0</td></tr><tr><td>law</td><td>200.0</td></tr><tr><td>able</td><td>133.33333333333334</td></tr><tr><td>anywhere</td><td>200.0</td></tr><tr><td>series</td><td>50.0</td></tr><tr><td>tournament</td><td>100.0</td></tr><tr><td>eagle</td><td>200.0</td></tr><tr><td>turned</td><td>400.0</td></tr><tr><td>retained</td><td>200.0</td></tr><tr><td>proofing</td><td>200.0</td></tr><tr><td>retention</td><td>200.0</td></tr><tr><td>started</td><td>200.0</td></tr><tr><td>asier</td><td>400.0</td></tr><tr><td>paid</td><td>133.33333333333334</td></tr><tr><td>preventing</td><td>400.0</td></tr><tr><td>damage</td><td>400.0</td></tr><tr><td>slammer</td><td>400.0</td></tr><tr><td>visibility</td><td>400.0</td></tr><tr><td>occur</td><td>400.0</td></tr><tr><td>mission</td><td>80.0</td></tr><tr><td>whereas</td><td>400.0</td></tr><tr><td>console</td><td>100.0</td></tr><tr><td>generation</td><td>200.0</td></tr><tr><td>h</td><td>200.0</td></tr><tr><td>digit</td><td>400.0</td></tr><tr><td>minibox</td><td>400.0</td></tr><tr><td>slide</td><td>100.0</td></tr><tr><td>wants</td><td>400.0</td></tr><tr><td>garden</td><td>200.0</td></tr><tr><td>alley</td><td>200.0</td></tr><tr><td>living</td><td>133.33333333333334</td></tr><tr><td>honeycomb</td><td>400.0</td></tr><tr><td>pairs</td><td>400.0</td></tr><tr><td>rules</td><td>133.33333333333334</td></tr><tr><td>speaker</td><td>400.0</td></tr><tr><td>multifunction</td><td>400.0</td></tr><tr><td>foreign</td><td>200.0</td></tr><tr><td>andnbsp</td><td>133.33333333333334</td></tr><tr><td>addresses</td><td>400.0</td></tr><tr><td>hassles</td><td>400.0</td></tr><tr><td>walks</td><td>400.0</td></tr><tr><td>connect</td><td>200.0</td></tr><tr><td>tags</td><td>400.0</td></tr><tr><td>questions</td><td>200.0</td></tr><tr><td>keystrokes</td><td>400.0</td></tr><tr><td>quantities</td><td>400.0</td></tr><tr><td>class</td><td>133.33333333333334</td></tr><tr><td>debit</td><td>400.0</td></tr><tr><td>price</td><td>400.0</td></tr><tr><td>visit</td><td>133.33333333333334</td></tr><tr><td>classical</td><td>400.0</td></tr><tr><td>month</td><td>400.0</td></tr><tr><td>preparation</td><td>200.0</td></tr><tr><td>meatless</td><td>400.0</td></tr><tr><td>activision</td><td>400.0</td></tr><tr><td>majestic</td><td>200.0</td></tr><tr><td>rms</td><td>400.0</td></tr><tr><td>hidden</td><td>133.33333333333334</td></tr><tr><td>maintenance</td><td>200.0</td></tr><tr><td>exclusive</td><td>133.33333333333334</td></tr><tr><td>piety</td><td>400.0</td></tr><tr><td>territory</td><td>400.0</td></tr><tr><td>society</td><td>400.0</td></tr><tr><td>1419</td><td>400.0</td></tr><tr><td>fraught</td><td>400.0</td></tr><tr><td>exch</td><td>200.0</td></tr><tr><td>assign</td><td>400.0</td></tr><tr><td>instructions</td><td>200.0</td></tr><tr><td>curve</td><td>400.0</td></tr><tr><td>tlc</td><td>400.0</td></tr><tr><td>progress</td><td>100.0</td></tr><tr><td>wonderfully</td><td>400.0</td></tr><tr><td>reward</td><td>400.0</td></tr><tr><td>positive</td><td>400.0</td></tr><tr><td>19</td><td>400.0</td></tr><tr><td>tints</td><td>400.0</td></tr><tr><td>movement</td><td>200.0</td></tr><tr><td>offices</td><td>200.0</td></tr><tr><td>remotes</td><td>400.0</td></tr><tr><td>replicator</td><td>400.0</td></tr><tr><td>industrys</td><td>400.0</td></tr><tr><td>objectives</td><td>400.0</td></tr><tr><td>coaching</td><td>400.0</td></tr><tr><td>due</td><td>400.0</td></tr><tr><td>mailer</td><td>400.0</td></tr><tr><td>notices</td><td>400.0</td></tr><tr><td>staffs</td><td>400.0</td></tr><tr><td>configuration</td><td>133.33333333333334</td></tr><tr><td>literally</td><td>200.0</td></tr><tr><td>cal</td><td>200.0</td></tr><tr><td>predict</td><td>400.0</td></tr><tr><td>robohelp</td><td>400.0</td></tr><tr><td>rumba</td><td>100.0</td></tr><tr><td>902453</td><td>133.33333333333334</td></tr><tr><td>1a</td><td>400.0</td></tr><tr><td>align</td><td>400.0</td></tr><tr><td>change</td><td>400.0</td></tr><tr><td>term</td><td>400.0</td></tr><tr><td>draft</td><td>400.0</td></tr><tr><td>soundbooth</td><td>400.0</td></tr><tr><td>medium</td><td>200.0</td></tr><tr><td>dream</td><td>200.0</td></tr><tr><td>r11</td><td>80.0</td></tr><tr><td>converting</td><td>400.0</td></tr><tr><td>veritas</td><td>400.0</td></tr><tr><td>exec</td><td>133.33333333333334</td></tr><tr><td>guidance</td><td>400.0</td></tr><tr><td>suit</td><td>400.0</td></tr><tr><td>entprse</td><td>400.0</td></tr><tr><td>netw</td><td>400.0</td></tr><tr><td>todayandquot</td><td>400.0</td></tr><tr><td>capacity</td><td>400.0</td></tr><tr><td>affordability</td><td>400.0</td></tr><tr><td>vrs</td><td>400.0</td></tr><tr><td>en</td><td>200.0</td></tr><tr><td>router</td><td>400.0</td></tr><tr><td>column</td><td>400.0</td></tr><tr><td>submittal</td><td>400.0</td></tr><tr><td>chance</td><td>400.0</td></tr><tr><td>centralized</td><td>400.0</td></tr><tr><td>keynote</td><td>400.0</td></tr><tr><td>1ltu</td><td>400.0</td></tr><tr><td>storage</td><td>400.0</td></tr><tr><td>pwr</td><td>400.0</td></tr><tr><td>spreadsheets</td><td>200.0</td></tr><tr><td>fontware</td><td>400.0</td></tr><tr><td>wasp</td><td>400.0</td></tr><tr><td>ice</td><td>400.0</td></tr><tr><td>antasion</td><td>400.0</td></tr><tr><td>instead</td><td>200.0</td></tr><tr><td>played</td><td>200.0</td></tr><tr><td>vivien</td><td>400.0</td></tr><tr><td>800x600</td><td>200.0</td></tr><tr><td>habitats</td><td>200.0</td></tr><tr><td>lifelike</td><td>200.0</td></tr><tr><td>swim</td><td>400.0</td></tr><tr><td>64mb</td><td>400.0</td></tr><tr><td>conditional</td><td>400.0</td></tr><tr><td>scripting</td><td>400.0</td></tr><tr><td>destructive</td><td>400.0</td></tr><tr><td>deal</td><td>200.0</td></tr><tr><td>casino</td><td>200.0</td></tr><tr><td>criteria</td><td>400.0</td></tr><tr><td>governments</td><td>400.0</td></tr><tr><td>extranet</td><td>400.0</td></tr><tr><td>intranet</td><td>400.0</td></tr><tr><td>lower</td><td>400.0</td></tr><tr><td>satisfaction</td><td>400.0</td></tr><tr><td>1pk</td><td>400.0</td></tr><tr><td>warcraft</td><td>100.0</td></tr><tr><td>curriculum</td><td>400.0</td></tr><tr><td>fourth</td><td>400.0</td></tr><tr><td>4th</td><td>200.0</td></tr><tr><td>obdr</td><td>400.0</td></tr><tr><td>iremember</td><td>200.0</td></tr><tr><td>verses</td><td>400.0</td></tr><tr><td>perilous</td><td>400.0</td></tr><tr><td>tedium</td><td>400.0</td></tr><tr><td>multiplier</td><td>400.0</td></tr><tr><td>alm</td><td>400.0</td></tr><tr><td>xml</td><td>400.0</td></tr><tr><td>maximizing</td><td>400.0</td></tr><tr><td>backtrack</td><td>400.0</td></tr><tr><td>serene</td><td>400.0</td></tr><tr><td>topware</td><td>200.0</td></tr><tr><td>symantec</td><td>200.0</td></tr><tr><td>battlefields</td><td>400.0</td></tr><tr><td>week</td><td>400.0</td></tr><tr><td>convenience</td><td>400.0</td></tr><tr><td>g4</td><td>66.66666666666667</td></tr><tr><td>zetafax</td><td>400.0</td></tr><tr><td>checks</td><td>400.0</td></tr><tr><td>willtake</td><td>400.0</td></tr><tr><td>thinkyou</td><td>400.0</td></tr><tr><td>05</td><td>400.0</td></tr><tr><td>ilife</td><td>400.0</td></tr><tr><td>jam</td><td>400.0</td></tr><tr><td>garageband</td><td>400.0</td></tr><tr><td>safeguard</td><td>400.0</td></tr><tr><td>stompsoft</td><td>400.0</td></tr><tr><td>blends</td><td>400.0</td></tr><tr><td>station</td><td>400.0</td></tr><tr><td>zebra</td><td>400.0</td></tr><tr><td>tutoring</td><td>400.0</td></tr><tr><td>peace</td><td>400.0</td></tr><tr><td>motivating</td><td>400.0</td></tr><tr><td>appetizing</td><td>400.0</td></tr><tr><td>805529073074</td><td>400.0</td></tr><tr><td>00034</td><td>400.0</td></tr><tr><td>trudys</td><td>400.0</td></tr><tr><td>d48</td><td>400.0</td></tr><tr><td>homespun</td><td>133.33333333333334</td></tr><tr><td>birdwell</td><td>400.0</td></tr><tr><td>imac</td><td>400.0</td></tr><tr><td>8ghz</td><td>400.0</td></tr><tr><td>adbcd36149wi</td><td>400.0</td></tr><tr><td>worldofwarcraft</td><td>400.0</td></tr><tr><td>72305</td><td>400.0</td></tr><tr><td>prepaid</td><td>400.0</td></tr><tr><td>5k</td><td>400.0</td></tr><tr><td>macrovision</td><td>400.0</td></tr><tr><td>photofinishing</td><td>400.0</td></tr><tr><td>vandross</td><td>400.0</td></tr><tr><td>diverse</td><td>200.0</td></tr><tr><td>zink</td><td>400.0</td></tr><tr><td>twists</td><td>400.0</td></tr><tr><td>captivating</td><td>200.0</td></tr><tr><td>computation</td><td>400.0</td></tr><tr><td>limitless</td><td>400.0</td></tr><tr><td>albertosaurus</td><td>400.0</td></tr><tr><td>informative</td><td>400.0</td></tr><tr><td>bottleneck</td><td>400.0</td></tr><tr><td>landscapes</td><td>400.0</td></tr><tr><td>1400</td><td>400.0</td></tr><tr><td>admi</td><td>400.0</td></tr><tr><td>barrier</td><td>400.0</td></tr><tr><td>crossing</td><td>400.0</td></tr><tr><td>description</td><td>400.0</td></tr><tr><td>abacus</td><td>200.0</td></tr><tr><td>5562</td><td>400.0</td></tr><tr><td>planes</td><td>400.0</td></tr><tr><td>mechanic</td><td>400.0</td></tr><tr><td>netshield</td><td>400.0</td></tr><tr><td>leverages</td><td>400.0</td></tr><tr><td>6993</td><td>400.0</td></tr><tr><td>85100</td><td>400.0</td></tr><tr><td>updater</td><td>400.0</td></tr><tr><td>specifying</td><td>400.0</td></tr><tr><td>bil</td><td>400.0</td></tr><tr><td>pitch</td><td>400.0</td></tr><tr><td>sunburst</td><td>400.0</td></tr><tr><td>brave</td><td>400.0</td></tr><tr><td>recruiting</td><td>400.0</td></tr><tr><td>exercises</td><td>200.0</td></tr><tr><td>shares</td><td>400.0</td></tr><tr><td>781735805428</td><td>400.0</td></tr><tr><td>ratios</td><td>400.0</td></tr><tr><td>close</td><td>400.0</td></tr><tr><td>portfolio</td><td>400.0</td></tr><tr><td>40022</td><td>400.0</td></tr><tr><td>geonosis</td><td>400.0</td></tr><tr><td>rocksongs</td><td>400.0</td></tr><tr><td>riffs</td><td>400.0</td></tr><tr><td>ub</td><td>400.0</td></tr><tr><td>skeletal</td><td>400.0</td></tr><tr><td>prol</td><td>400.0</td></tr><tr><td>dylan</td><td>400.0</td></tr><tr><td>ret</td><td>400.0</td></tr><tr><td>rustlers</td><td>400.0</td></tr><tr><td>madcap</td><td>400.0</td></tr><tr><td>gulch</td><td>400.0</td></tr><tr><td>upon</td><td>400.0</td></tr><tr><td>portrait</td><td>400.0</td></tr><tr><td>rare</td><td>400.0</td></tr><tr><td>mortal</td><td>400.0</td></tr><tr><td>00292</td><td>400.0</td></tr><tr><td>00320289</td><td>400.0</td></tr><tr><td>gifts</td><td>400.0</td></tr><tr><td>designers</td><td>400.0</td></tr><tr><td>terrors</td><td>400.0</td></tr><tr><td>250000</td><td>400.0</td></tr><tr><td>posters</td><td>400.0</td></tr><tr><td>225000</td><td>400.0</td></tr><tr><td>9780387988238</td><td>400.0</td></tr><tr><td>massive</td><td>400.0</td></tr><tr><td>48</td><td>400.0</td></tr><tr><td>refund</td><td>400.0</td></tr><tr><td>corrupt</td><td>400.0</td></tr><tr><td>alliance</td><td>400.0</td></tr><tr><td>premised</td><td>400.0</td></tr><tr><td>inter</td><td>400.0</td></tr><tr><td>established</td><td>400.0</td></tr><tr><td>ads</td><td>400.0</td></tr><tr><td>31250</td><td>400.0</td></tr><tr><td>sypware</td><td>400.0</td></tr><tr><td>chaning</td><td>400.0</td></tr><tr><td>clickart</td><td>200.0</td></tr><tr><td>laptops</td><td>133.33333333333334</td></tr><tr><td>computer</td><td>10.81081081081081</td></tr><tr><td>jewel</td><td>44.44444444444444</td></tr><tr><td>ark</td><td>200.0</td></tr><tr><td>affordable</td><td>80.0</td></tr><tr><td>tailor</td><td>133.33333333333334</td></tr><tr><td>closed</td><td>400.0</td></tr><tr><td>peachtree</td><td>200.0</td></tr><tr><td>report</td><td>100.0</td></tr><tr><td>restores</td><td>200.0</td></tr><tr><td>small</td><td>36.36363636363637</td></tr><tr><td>analysis</td><td>57.142857142857146</td></tr><tr><td>core</td><td>50.0</td></tr><tr><td>easy</td><td>7.6923076923076925</td></tr><tr><td>operational</td><td>200.0</td></tr><tr><td>donor</td><td>400.0</td></tr><tr><td>web</td><td>14.285714285714286</td></tr><tr><td>choice</td><td>57.142857142857146</td></tr><tr><td>advanced</td><td>20.0</td></tr><tr><td>2000</td><td>14.814814814814815</td></tr><tr><td>electronic</td><td>36.36363636363637</td></tr><tr><td>monitors</td><td>400.0</td></tr><tr><td>pal</td><td>133.33333333333334</td></tr><tr><td>ease</td><td>57.142857142857146</td></tr><tr><td>a289a</td><td>400.0</td></tr><tr><td>labor</td><td>400.0</td></tr><tr><td>voice</td><td>100.0</td></tr><tr><td>client</td><td>30.76923076923077</td></tr><tr><td>sub</td><td>44.44444444444444</td></tr><tr><td>lostproductivity</td><td>400.0</td></tr><tr><td>excel</td><td>80.0</td></tr><tr><td>v</td><td>28.571428571428573</td></tr><tr><td>reading</td><td>50.0</td></tr><tr><td>2nd</td><td>200.0</td></tr><tr><td>building</td><td>100.0</td></tr><tr><td>skill</td><td>133.33333333333334</td></tr><tr><td>2x</td><td>200.0</td></tr><tr><td>mb</td><td>50.0</td></tr><tr><td>classic</td><td>33.333333333333336</td></tr><tr><td>system</td><td>8.333333333333334</td></tr><tr><td>recommended</td><td>200.0</td></tr><tr><td>2</td><td>10.81081081081081</td></tr><tr><td>comes</td><td>100.0</td></tr><tr><td>cylinders</td><td>400.0</td></tr><tr><td>file</td><td>25.0</td></tr><tr><td>communications</td><td>26.666666666666668</td></tr><tr><td>1u</td><td>66.66666666666667</td></tr><tr><td>device</td><td>100.0</td></tr><tr><td>printer</td><td>100.0</td></tr><tr><td>directional</td><td>400.0</td></tr><tr><td>unicode</td><td>400.0</td></tr><tr><td>soft</td><td>400.0</td></tr><tr><td>less</td><td>100.0</td></tr><tr><td>2006</td><td>26.666666666666668</td></tr><tr><td>ranging</td><td>200.0</td></tr><tr><td>productive</td><td>133.33333333333334</td></tr><tr><td>familiar</td><td>100.0</td></tr><tr><td>platforms</td><td>80.0</td></tr><tr><td>sql</td><td>133.33333333333334</td></tr><tr><td>enterprises</td><td>57.142857142857146</td></tr><tr><td>users</td><td>21.05263157894737</td></tr><tr><td>spanish</td><td>40.0</td></tr><tr><td>intermediate</td><td>100.0</td></tr><tr><td>application</td><td>25.0</td></tr><tr><td>lotus</td><td>400.0</td></tr><tr><td>databases</td><td>200.0</td></tr><tr><td>omnioutliner</td><td>200.0</td></tr><tr><td>big</td><td>40.0</td></tr><tr><td>increasing</td><td>80.0</td></tr><tr><td>reduces</td><td>100.0</td></tr><tr><td>throughout</td><td>66.66666666666667</td></tr><tr><td>manage</td><td>33.333333333333336</td></tr><tr><td>entertainment</td><td>11.764705882352942</td></tr><tr><td>pencil</td><td>133.33333333333334</td></tr><tr><td>millie</td><td>200.0</td></tr><tr><td>critters</td><td>400.0</td></tr><tr><td>patterns</td><td>400.0</td></tr><tr><td>parts</td><td>200.0</td></tr><tr><td>offer</td><td>100.0</td></tr><tr><td>answer</td><td>200.0</td></tr><tr><td>encyclopedia</td><td>200.0</td></tr><tr><td>photo</td><td>28.571428571428573</td></tr><tr><td>tables</td><td>133.33333333333334</td></tr><tr><td>labeling</td><td>400.0</td></tr><tr><td>267</td><td>400.0</td></tr><tr><td>display</td><td>40.0</td></tr><tr><td>publishing</td><td>44.44444444444444</td></tr><tr><td>essenti</td><td>400.0</td></tr><tr><td>versatile</td><td>133.33333333333334</td></tr><tr><td>personal</td><td>20.0</td></tr><tr><td>interface</td><td>18.181818181818183</td></tr><tr><td>ray</td><td>400.0</td></tr><tr><td>shoot</td><td>400.0</td></tr><tr><td>adjust</td><td>200.0</td></tr><tr><td>exchange</td><td>80.0</td></tr><tr><td>supporting</td><td>400.0</td></tr><tr><td>separate</td><td>133.33333333333334</td></tr><tr><td>interactivity</td><td>200.0</td></tr><tr><td>concentrate</td><td>400.0</td></tr><tr><td>find</td><td>26.666666666666668</td></tr><tr><td>cycles</td><td>400.0</td></tr><tr><td>express</td><td>33.333333333333336</td></tr><tr><td>flv</td><td>400.0</td></tr><tr><td>final</td><td>80.0</td></tr><tr><td>workflow</td><td>100.0</td></tr><tr><td>one</td><td>12.121212121212121</td></tr><tr><td>editing</td><td>33.333333333333336</td></tr><tr><td>ins</td><td>200.0</td></tr><tr><td>pdf</td><td>40.0</td></tr><tr><td>formerly</td><td>400.0</td></tr><tr><td>budgets</td><td>400.0</td></tr><tr><td>frames</td><td>100.0</td></tr><tr><td>unparalleled</td><td>200.0</td></tr><tr><td>deliver</td><td>50.0</td></tr><tr><td>film</td><td>66.66666666666667</td></tr><tr><td>retiming</td><td>400.0</td></tr><tr><td>maximum</td><td>100.0</td></tr><tr><td>enhance</td><td>80.0</td></tr><tr><td>takes</td><td>133.33333333333334</td></tr><tr><td>tape</td><td>100.0</td></tr><tr><td>function</td><td>57.142857142857146</td></tr><tr><td>want</td><td>33.333333333333336</td></tr><tr><td>virtual</td><td>36.36363636363637</td></tr><tr><td>automatically</td><td>44.44444444444444</td></tr><tr><td>finding</td><td>400.0</td></tr><tr><td>workstations</td><td>400.0</td></tr><tr><td>shuttling</td><td>400.0</td></tr><tr><td>view</td><td>57.142857142857146</td></tr><tr><td>mail</td><td>50.0</td></tr><tr><td>direct</td><td>57.142857142857146</td></tr><tr><td>government</td><td>100.0</td></tr><tr><td>storytelling</td><td>400.0</td></tr><tr><td>burn</td><td>57.142857142857146</td></tr><tr><td>press</td><td>100.0</td></tr><tr><td>pinnacle</td><td>400.0</td></tr><tr><td>future</td><td>133.33333333333334</td></tr><tr><td>detailed</td><td>100.0</td></tr><tr><td>vista</td><td>80.0</td></tr><tr><td>dissolve</td><td>400.0</td></tr><tr><td>back</td><td>40.0</td></tr><tr><td>timesaving</td><td>400.0</td></tr><tr><td>layout</td><td>66.66666666666667</td></tr><tr><td>styles</td><td>100.0</td></tr><tr><td>contain</td><td>400.0</td></tr><tr><td>scaling</td><td>400.0</td></tr><tr><td>bitmap</td><td>400.0</td></tr><tr><td>properties</td><td>200.0</td></tr><tr><td>bitmaps</td><td>400.0</td></tr><tr><td>light</td><td>133.33333333333334</td></tr><tr><td>screen</td><td>66.66666666666667</td></tr><tr><td>1200</td><td>200.0</td></tr><tr><td>12x12</td><td>200.0</td></tr><tr><td>hotspots</td><td>200.0</td></tr><tr><td>friends</td><td>28.571428571428573</td></tr><tr><td>textures</td><td>133.33333333333334</td></tr><tr><td>4x6</td><td>200.0</td></tr><tr><td>manipulation</td><td>200.0</td></tr><tr><td>gallery</td><td>200.0</td></tr><tr><td>simultaneously</td><td>133.33333333333334</td></tr><tr><td>letterhead</td><td>200.0</td></tr><tr><td>closer</td><td>200.0</td></tr><tr><td>quote</td><td>200.0</td></tr><tr><td>pastel</td><td>133.33333333333334</td></tr><tr><td>see</td><td>50.0</td></tr><tr><td>newsletters</td><td>80.0</td></tr><tr><td>informational</td><td>200.0</td></tr><tr><td>pamphlets</td><td>200.0</td></tr><tr><td>place</td><td>66.66666666666667</td></tr><tr><td>club</td><td>200.0</td></tr><tr><td>grow</td><td>80.0</td></tr><tr><td>inches</td><td>200.0</td></tr><tr><td>personalize</td><td>133.33333333333334</td></tr><tr><td>recovery</td><td>66.66666666666667</td></tr><tr><td>necessary</td><td>133.33333333333334</td></tr><tr><td>recovers</td><td>400.0</td></tr><tr><td>detect</td><td>200.0</td></tr><tr><td>recover</td><td>80.0</td></tr><tr><td>ide</td><td>400.0</td></tr><tr><td>combines</td><td>50.0</td></tr><tr><td>stories</td><td>133.33333333333334</td></tr><tr><td>selectable</td><td>400.0</td></tr><tr><td>equalization</td><td>400.0</td></tr><tr><td>extremely</td><td>400.0</td></tr><tr><td>vcd</td><td>133.33333333333334</td></tr><tr><td>onto</td><td>200.0</td></tr><tr><td>f</td><td>80.0</td></tr><tr><td>original</td><td>50.0</td></tr><tr><td>split</td><td>400.0</td></tr><tr><td>six</td><td>200.0</td></tr><tr><td>ideas</td><td>66.66666666666667</td></tr><tr><td>ad</td><td>200.0</td></tr><tr><td>ms</td><td>66.66666666666667</td></tr><tr><td>parasites</td><td>400.0</td></tr><tr><td>privacy</td><td>80.0</td></tr><tr><td>aware</td><td>200.0</td></tr><tr><td>lavasoft</td><td>200.0</td></tr><tr><td>informationintroducing</td><td>400.0</td></tr><tr><td>arithmeticto</td><td>400.0</td></tr><tr><td>deep</td><td>133.33333333333334</td></tr><tr><td>teach</td><td>133.33333333333334</td></tr><tr><td>galaxies</td><td>400.0</td></tr><tr><td>affect</td><td>200.0</td></tr><tr><td>videos</td><td>80.0</td></tr><tr><td>clifford</td><td>133.33333333333334</td></tr><tr><td>taste</td><td>200.0</td></tr><tr><td>platinum</td><td>133.33333333333334</td></tr><tr><td>jumpstart</td><td>80.0</td></tr><tr><td>adds</td><td>400.0</td></tr><tr><td>ones</td><td>80.0</td></tr><tr><td>interactivecd</td><td>400.0</td></tr><tr><td>flik</td><td>200.0</td></tr><tr><td>3d</td><td>44.44444444444444</td></tr><tr><td>historical</td><td>133.33333333333334</td></tr><tr><td>behind</td><td>200.0</td></tr><tr><td>american</td><td>400.0</td></tr><tr><td>smithsonian</td><td>400.0</td></tr><tr><td>net</td><td>133.33333333333334</td></tr><tr><td>county</td><td>400.0</td></tr><tr><td>mischief</td><td>400.0</td></tr><tr><td>taking</td><td>66.66666666666667</td></tr><tr><td>top</td><td>50.0</td></tr><tr><td>studyworks</td><td>400.0</td></tr><tr><td>friend</td><td>133.33333333333334</td></tr><tr><td>sensiive</td><td>400.0</td></tr><tr><td>zoom</td><td>200.0</td></tr><tr><td>together</td><td>133.33333333333334</td></tr><tr><td>fascinating</td><td>133.33333333333334</td></tr><tr><td>everyone</td><td>100.0</td></tr><tr><td>atlantis</td><td>400.0</td></tr><tr><td>scaring</td><td>200.0</td></tr><tr><td>game</td><td>14.285714285714286</td></tr><tr><td>helman</td><td>400.0</td></tr><tr><td>fvm318</td><td>400.0</td></tr><tr><td>certificate</td><td>400.0</td></tr><tr><td>tunnel</td><td>200.0</td></tr><tr><td>md5</td><td>400.0</td></tr><tr><td>fwag114</td><td>400.0</td></tr><tr><td>broadband</td><td>400.0</td></tr><tr><td>ipsec</td><td>400.0</td></tr><tr><td>message</td><td>400.0</td></tr><tr><td>diffie</td><td>400.0</td></tr><tr><td>bsendorfer</td><td>400.0</td></tr><tr><td>planet</td><td>200.0</td></tr><tr><td>option</td><td>57.142857142857146</td></tr><tr><td>fantastic</td><td>400.0</td></tr><tr><td>extensive</td><td>66.66666666666667</td></tr><tr><td>drink</td><td>200.0</td></tr><tr><td>kerberos</td><td>400.0</td></tr><tr><td>samba</td><td>400.0</td></tr><tr><td>detection</td><td>400.0</td></tr><tr><td>embraced</td><td>400.0</td></tr><tr><td>complex</td><td>80.0</td></tr><tr><td>adaptive</td><td>400.0</td></tr><tr><td>enhances</td><td>400.0</td></tr><tr><td>canon</td><td>400.0</td></tr><tr><td>everyday</td><td>200.0</td></tr><tr><td>sized</td><td>200.0</td></tr><tr><td>transparent</td><td>200.0</td></tr><tr><td>storyteller</td><td>200.0</td></tr><tr><td>inclusive</td><td>400.0</td></tr><tr><td>sheets</td><td>400.0</td></tr><tr><td>lexmark</td><td>400.0</td></tr><tr><td>cover</td><td>400.0</td></tr><tr><td>searchable</td><td>400.0</td></tr><tr><td>jobs</td><td>400.0</td></tr><tr><td>macsoft</td><td>200.0</td></tr><tr><td>tale</td><td>200.0</td></tr><tr><td>military</td><td>200.0</td></tr><tr><td>gods</td><td>100.0</td></tr><tr><td>playing</td><td>44.44444444444444</td></tr><tr><td>senders</td><td>400.0</td></tr><tr><td>verifies</td><td>400.0</td></tr><tr><td>spam</td><td>400.0</td></tr><tr><td>collect</td><td>80.0</td></tr><tr><td>strengths</td><td>400.0</td></tr><tr><td>diagnose</td><td>400.0</td></tr><tr><td>admission</td><td>200.0</td></tr><tr><td>target</td><td>400.0</td></tr><tr><td>drills</td><td>400.0</td></tr><tr><td>universities</td><td>200.0</td></tr><tr><td>study</td><td>133.33333333333334</td></tr><tr><td>changing</td><td>200.0</td></tr><tr><td>frequent</td><td>400.0</td></tr><tr><td>bass</td><td>100.0</td></tr><tr><td>present</td><td>133.33333333333334</td></tr><tr><td>directors</td><td>200.0</td></tr><tr><td>gameplay</td><td>133.33333333333334</td></tr><tr><td>warm</td><td>400.0</td></tr><tr><td>disappear</td><td>400.0</td></tr><tr><td>strategy</td><td>66.66666666666667</td></tr><tr><td>total</td><td>50.0</td></tr><tr><td>intend</td><td>400.0</td></tr><tr><td>titanium</td><td>200.0</td></tr><tr><td>calliav</td><td>400.0</td></tr><tr><td>muram</td><td>400.0</td></tr><tr><td>dungeons</td><td>400.0</td></tr><tr><td>wayfarers</td><td>400.0</td></tr><tr><td>war</td><td>200.0</td></tr><tr><td>unleashed</td><td>400.0</td></tr><tr><td>unit</td><td>400.0</td></tr><tr><td>powered</td><td>133.33333333333334</td></tr><tr><td>exact</td><td>400.0</td></tr><tr><td>portuguese</td><td>400.0</td></tr><tr><td>flatbed</td><td>400.0</td></tr><tr><td>russian</td><td>400.0</td></tr><tr><td>visualize</td><td>200.0</td></tr><tr><td>workplace</td><td>400.0</td></tr><tr><td>multilingual</td><td>400.0</td></tr><tr><td>french</td><td>100.0</td></tr><tr><td>per</td><td>200.0</td></tr><tr><td>minute</td><td>400.0</td></tr><tr><td>alive</td><td>200.0</td></tr><tr><td>violence</td><td>400.0</td></tr><tr><td>magnetic</td><td>200.0</td></tr><tr><td>wysiwyg</td><td>200.0</td></tr><tr><td>myinvoices</td><td>400.0</td></tr><tr><td>tank</td><td>400.0</td></tr><tr><td>champions</td><td>400.0</td></tr><tr><td>relying</td><td>400.0</td></tr><tr><td>customers</td><td>44.44444444444444</td></tr><tr><td>attack</td><td>200.0</td></tr><tr><td>shown</td><td>400.0</td></tr><tr><td>reduced</td><td>400.0</td></tr><tr><td>wow</td><td>400.0</td></tr><tr><td>asf</td><td>400.0</td></tr><tr><td>amazing</td><td>80.0</td></tr><tr><td>cinematic</td><td>200.0</td></tr><tr><td>seeds</td><td>200.0</td></tr><tr><td>roach</td><td>400.0</td></tr><tr><td>bug</td><td>200.0</td></tr><tr><td>lake</td><td>400.0</td></tr><tr><td>dss</td><td>400.0</td></tr><tr><td>beginners</td><td>200.0</td></tr><tr><td>90</td><td>133.33333333333334</td></tr><tr><td>scan</td><td>80.0</td></tr><tr><td>retail</td><td>66.66666666666667</td></tr><tr><td>sample</td><td>100.0</td></tr><tr><td>glance</td><td>400.0</td></tr><tr><td>restocking</td><td>400.0</td></tr><tr><td>simplify</td><td>400.0</td></tr><tr><td>receipts</td><td>400.0</td></tr><tr><td>retailer</td><td>400.0</td></tr><tr><td>decisions</td><td>400.0</td></tr><tr><td>imaginary</td><td>400.0</td></tr><tr><td>synchronization</td><td>200.0</td></tr><tr><td>newsfeeds</td><td>400.0</td></tr><tr><td>thesaurus</td><td>400.0</td></tr><tr><td>ultimate</td><td>66.66666666666667</td></tr><tr><td>discounts</td><td>400.0</td></tr><tr><td>biographies</td><td>400.0</td></tr><tr><td>grocery</td><td>400.0</td></tr><tr><td>cook</td><td>400.0</td></tr><tr><td>utilizing</td><td>400.0</td></tr><tr><td>sank</td><td>400.0</td></tr><tr><td>expedition</td><td>200.0</td></tr><tr><td>bottom</td><td>400.0</td></tr><tr><td>atlantic</td><td>400.0</td></tr><tr><td>fidelity</td><td>400.0</td></tr><tr><td>release</td><td>133.33333333333334</td></tr><tr><td>dozens</td><td>400.0</td></tr><tr><td>royal</td><td>400.0</td></tr><tr><td>1066</td><td>400.0</td></tr><tr><td>certicom</td><td>400.0</td></tr><tr><td>triple</td><td>400.0</td></tr><tr><td>fame</td><td>400.0</td></tr><tr><td>witty</td><td>400.0</td></tr><tr><td>daisy</td><td>400.0</td></tr><tr><td>goals</td><td>400.0</td></tr><tr><td>engrossed</td><td>400.0</td></tr><tr><td>colorful</td><td>400.0</td></tr><tr><td>proven</td><td>200.0</td></tr><tr><td>familiarity</td><td>400.0</td></tr><tr><td>come</td><td>400.0</td></tr><tr><td>b21</td><td>200.0</td></tr><tr><td>describes</td><td>200.0</td></tr><tr><td>translations</td><td>400.0</td></tr><tr><td>firms</td><td>200.0</td></tr><tr><td>shops</td><td>200.0</td></tr><tr><td>pantone</td><td>200.0</td></tr><tr><td>overlook</td><td>400.0</td></tr><tr><td>adaptec</td><td>400.0</td></tr><tr><td>plans</td><td>133.33333333333334</td></tr><tr><td>crm</td><td>400.0</td></tr><tr><td>adapt</td><td>400.0</td></tr><tr><td>problem</td><td>400.0</td></tr><tr><td>smarter</td><td>400.0</td></tr><tr><td>imaging</td><td>200.0</td></tr><tr><td>composites</td><td>400.0</td></tr><tr><td>ultra</td><td>80.0</td></tr><tr><td>jdf</td><td>400.0</td></tr><tr><td>hairlines</td><td>400.0</td></tr><tr><td>extended</td><td>200.0</td></tr><tr><td>pen</td><td>200.0</td></tr><tr><td>flatten</td><td>400.0</td></tr><tr><td>applescript</td><td>400.0</td></tr><tr><td>contribute</td><td>400.0</td></tr><tr><td>conferencing</td><td>400.0</td></tr><tr><td>example</td><td>400.0</td></tr><tr><td>intuitively</td><td>400.0</td></tr><tr><td>depend</td><td>400.0</td></tr><tr><td>currencies</td><td>400.0</td></tr><tr><td>installs</td><td>200.0</td></tr><tr><td>sp1</td><td>100.0</td></tr><tr><td>statements</td><td>400.0</td></tr><tr><td>u</td><td>133.33333333333334</td></tr><tr><td>member</td><td>400.0</td></tr><tr><td>amd</td><td>400.0</td></tr><tr><td>increases</td><td>200.0</td></tr><tr><td>18xx</td><td>400.0</td></tr><tr><td>offerings</td><td>200.0</td></tr><tr><td>gateways</td><td>400.0</td></tr><tr><td>routing</td><td>400.0</td></tr><tr><td>softwareandquot</td><td>400.0</td></tr><tr><td>intensive</td><td>400.0</td></tr><tr><td>worldandquot</td><td>400.0</td></tr><tr><td>colleagues</td><td>400.0</td></tr><tr><td>hyperlinks</td><td>400.0</td></tr><tr><td>generator</td><td>200.0</td></tr><tr><td>calculation</td><td>400.0</td></tr><tr><td>powerpoint</td><td>133.33333333333334</td></tr><tr><td>background</td><td>200.0</td></tr><tr><td>resize</td><td>133.33333333333334</td></tr><tr><td>spectacular</td><td>400.0</td></tr><tr><td>crop</td><td>133.33333333333334</td></tr><tr><td>font</td><td>200.0</td></tr><tr><td>worshippers</td><td>400.0</td></tr><tr><td>resisted</td><td>400.0</td></tr><tr><td>npc</td><td>400.0</td></tr><tr><td>hope</td><td>400.0</td></tr><tr><td>invites</td><td>400.0</td></tr><tr><td>began</td><td>400.0</td></tr><tr><td>counter</td><td>400.0</td></tr><tr><td>achieve</td><td>200.0</td></tr><tr><td>spend</td><td>400.0</td></tr><tr><td>hundred</td><td>400.0</td></tr><tr><td>found</td><td>200.0</td></tr><tr><td>darkness</td><td>200.0</td></tr><tr><td>discovering</td><td>400.0</td></tr><tr><td>powers</td><td>400.0</td></tr><tr><td>paradise</td><td>200.0</td></tr><tr><td>breath</td><td>200.0</td></tr><tr><td>five</td><td>66.66666666666667</td></tr><tr><td>exotic</td><td>133.33333333333334</td></tr><tr><td>tunetech</td><td>400.0</td></tr><tr><td>discreet</td><td>400.0</td></tr><tr><td>efx</td><td>400.0</td></tr><tr><td>could</td><td>400.0</td></tr><tr><td>interpretair</td><td>200.0</td></tr><tr><td>construction</td><td>400.0</td></tr><tr><td>visualization</td><td>400.0</td></tr><tr><td>health</td><td>400.0</td></tr><tr><td>addressing</td><td>400.0</td></tr><tr><td>d4800369</td><td>400.0</td></tr><tr><td>ownership</td><td>400.0</td></tr><tr><td>bare</td><td>400.0</td></tr><tr><td>isn</td><td>200.0</td></tr><tr><td>ax</td><td>400.0</td></tr><tr><td>garnishes</td><td>400.0</td></tr><tr><td>advice</td><td>400.0</td></tr><tr><td>300</td><td>133.33333333333334</td></tr><tr><td>learn2</td><td>200.0</td></tr><tr><td>watched</td><td>400.0</td></tr><tr><td>42050106</td><td>200.0</td></tr><tr><td>travels</td><td>400.0</td></tr><tr><td>sexiest</td><td>400.0</td></tr><tr><td>adventurer</td><td>400.0</td></tr><tr><td>discovery</td><td>400.0</td></tr><tr><td>second</td><td>400.0</td></tr><tr><td>remain</td><td>400.0</td></tr><tr><td>logic</td><td>100.0</td></tr><tr><td>karkuro</td><td>200.0</td></tr><tr><td>buku</td><td>200.0</td></tr><tr><td>newspapers</td><td>400.0</td></tr><tr><td>cluster</td><td>400.0</td></tr><tr><td>e180518</td><td>400.0</td></tr><tr><td>10g</td><td>400.0</td></tr><tr><td>massively</td><td>400.0</td></tr><tr><td>vivendi</td><td>200.0</td></tr><tr><td>filling</td><td>400.0</td></tr><tr><td>simplicity</td><td>400.0</td></tr><tr><td>hse</td><td>200.0</td></tr><tr><td>informationenjoy</td><td>400.0</td></tr><tr><td>yourpc</td><td>400.0</td></tr><tr><td>essentials</td><td>200.0</td></tr><tr><td>orchestra</td><td>200.0</td></tr><tr><td>392</td><td>400.0</td></tr><tr><td>genealogy</td><td>400.0</td></tr><tr><td>wait</td><td>400.0</td></tr><tr><td>vowel</td><td>400.0</td></tr><tr><td>430</td><td>400.0</td></tr><tr><td>millennia</td><td>400.0</td></tr><tr><td>h32</td><td>400.0</td></tr><tr><td>nuendo</td><td>400.0</td></tr><tr><td>forecasts</td><td>400.0</td></tr><tr><td>partner</td><td>400.0</td></tr><tr><td>qual</td><td>400.0</td></tr><tr><td>wincleaner</td><td>400.0</td></tr><tr><td>guitarist</td><td>400.0</td></tr><tr><td>island</td><td>400.0</td></tr><tr><td>6sb</td><td>400.0</td></tr><tr><td>carbohydrate</td><td>400.0</td></tr><tr><td>weight</td><td>400.0</td></tr><tr><td>gamecard</td><td>400.0</td></tr><tr><td>totalstorage</td><td>400.0</td></tr><tr><td>40248</td><td>400.0</td></tr><tr><td>effort</td><td>400.0</td></tr><tr><td>corner</td><td>400.0</td></tr><tr><td>9999</td><td>400.0</td></tr><tr><td>00301</td><td>400.0</td></tr><tr><td>pianosoft</td><td>133.33333333333334</td></tr><tr><td>andpc</td><td>400.0</td></tr><tr><td>arrange</td><td>400.0</td></tr><tr><td>mansion</td><td>400.0</td></tr><tr><td>pool</td><td>200.0</td></tr><tr><td>harmonic</td><td>400.0</td></tr><tr><td>prof</td><td>200.0</td></tr><tr><td>pz24a0075</td><td>400.0</td></tr><tr><td>2ghz</td><td>400.0</td></tr><tr><td>cpu</td><td>400.0</td></tr><tr><td>circuit</td><td>400.0</td></tr><tr><td>navarre</td><td>400.0</td></tr><tr><td>cohesive</td><td>400.0</td></tr><tr><td>hierarchy</td><td>400.0</td></tr><tr><td>fencing</td><td>400.0</td></tr><tr><td>laurence</td><td>400.0</td></tr><tr><td>juber</td><td>400.0</td></tr><tr><td>clutter</td><td>400.0</td></tr><tr><td>intego</td><td>400.0</td></tr><tr><td>underworld</td><td>400.0</td></tr><tr><td>havoc</td><td>400.0</td></tr><tr><td>bomber</td><td>400.0</td></tr><tr><td>mcafee</td><td>400.0</td></tr><tr><td>angles</td><td>400.0</td></tr><tr><td>tall</td><td>400.0</td></tr><tr><td>13</td><td>400.0</td></tr><tr><td>division</td><td>400.0</td></tr><tr><td>ambient</td><td>400.0</td></tr><tr><td>sw</td><td>400.0</td></tr><tr><td>mngmt</td><td>400.0</td></tr><tr><td>loaded</td><td>200.0</td></tr><tr><td>wars</td><td>200.0</td></tr><tr><td>enlighten</td><td>400.0</td></tr><tr><td>diana</td><td>400.0</td></tr><tr><td>excitingfast</td><td>400.0</td></tr><tr><td>europa</td><td>400.0</td></tr><tr><td>successful</td><td>200.0</td></tr><tr><td>atarifeatures</td><td>400.0</td></tr><tr><td>focuses</td><td>400.0</td></tr><tr><td>26162</td><td>400.0</td></tr><tr><td>muscular</td><td>400.0</td></tr><tr><td>2700</td><td>400.0</td></tr><tr><td>hints</td><td>400.0</td></tr><tr><td>eg03014</td><td>400.0</td></tr><tr><td>crossgrade</td><td>400.0</td></tr><tr><td>thru</td><td>400.0</td></tr><tr><td>camerata</td><td>400.0</td></tr><tr><td>conductor</td><td>400.0</td></tr><tr><td>difficult</td><td>400.0</td></tr><tr><td>drum</td><td>400.0</td></tr><tr><td>hudson</td><td>400.0</td></tr><tr><td>jo</td><td>400.0</td></tr><tr><td>dealing</td><td>400.0</td></tr><tr><td>n2</td><td>400.0</td></tr><tr><td>41032</td><td>400.0</td></tr><tr><td>nc</td><td>400.0</td></tr><tr><td>roleplaying</td><td>400.0</td></tr><tr><td>darklords</td><td>400.0</td></tr><tr><td>87</td><td>400.0</td></tr><tr><td>teachers</td><td>400.0</td></tr><tr><td>ups</td><td>400.0</td></tr></tbody></table></div>"
      ]
     },
     "metadata": {
      "application/vnd.databricks.v1+output": {
       "addedWidgets": {},
       "aggData": [],
       "aggError": "",
       "aggOverflow": false,
       "aggSchema": [],
       "aggSeriesLimitReached": false,
       "aggType": "",
       "arguments": {},
       "columnCustomDisplayInfos": {},
       "data": [
        [
         "950",
         400.0
        ],
        [
         "rom",
         16.666666666666668
        ],
        [
         "dvd",
         16.0
        ],
        [
         "v11",
         400.0
        ],
        [
         "ca",
         57.142857142857146
        ],
        [
         "lap",
         200.0
        ],
        [
         "result",
         133.33333333333334
        ],
        [
         "backed",
         80.0
        ],
        [
         "constantly",
         200.0
        ],
        [
         "files",
         14.285714285714286
        ],
        [
         "set",
         23.529411764705884
        ],
        [
         "like",
         23.529411764705884
        ],
        [
         "period",
         200.0
        ],
        [
         "billing",
         200.0
        ],
        [
         "unlimited",
         80.0
        ],
        [
         "learning",
         21.05263157894737
        ],
        [
         "tune",
         100.0
        ],
        [
         "diskcromwindows",
         400.0
        ],
        [
         "tools",
         9.75609756097561
        ],
        [
         "illustrator",
         100.0
        ],
        [
         "photoshop",
         44.44444444444444
        ],
        [
         "work",
         26.666666666666668
        ],
        [
         "installation",
         57.142857142857146
        ],
        [
         "protectsagainst",
         400.0
        ],
        [
         "compatibility",
         57.142857142857146
        ],
        [
         "microsoft",
         12.903225806451612
        ],
        [
         "mobility",
         400.0
        ],
        [
         "performance",
         22.22222222222222
        ],
        [
         "ever",
         23.529411764705884
        ],
        [
         "508",
         400.0
        ],
        [
         "documents",
         22.22222222222222
        ],
        [
         "naturallyspeakingprofessional",
         400.0
        ],
        [
         "using",
         13.333333333333334
        ],
        [
         "mia",
         133.33333333333334
        ],
        [
         "aladdin",
         133.33333333333334
        ],
        [
         "lightyear",
         200.0
        ],
        [
         "imagination",
         80.0
        ],
        [
         "pixar",
         200.0
        ],
        [
         "wrapping",
         200.0
        ],
        [
         "inc",
         14.285714285714286
        ],
        [
         "cd",
         8.333333333333334
        ],
        [
         "16",
         44.44444444444444
        ],
        [
         "guide",
         66.66666666666667
        ],
        [
         "card",
         23.529411764705884
        ],
        [
         "thought",
         133.33333333333334
        ],
        [
         "color",
         21.05263157894737
        ],
        [
         "especially",
         133.33333333333334
        ],
        [
         "gift",
         100.0
        ],
        [
         "bags",
         400.0
        ],
        [
         "counts",
         200.0
        ],
        [
         "colors",
         200.0
        ],
        [
         "baskets",
         400.0
        ],
        [
         "compatible",
         44.44444444444444
        ],
        [
         "manager",
         30.76923076923077
        ],
        [
         "cache",
         200.0
        ],
        [
         "setuid",
         400.0
        ],
        [
         "sc",
         400.0
        ],
        [
         "comprehensive",
         40.0
        ],
        [
         "connection",
         100.0
        ],
        [
         "command",
         400.0
        ],
        [
         "service",
         36.36363636363637
        ],
        [
         "native",
         133.33333333333334
        ],
        [
         "4",
         12.5
        ],
        [
         "rfc1813",
         400.0
        ],
        [
         "systems",
         19.047619047619047
        ],
        [
         "facto",
         400.0
        ],
        [
         "technology",
         20.0
        ],
        [
         "analytical",
         400.0
        ],
        [
         "webroot",
         200.0
        ],
        [
         "titles",
         133.33333333333334
        ],
        [
         "50",
         80.0
        ],
        [
         "administrators",
         133.33333333333334
        ],
        [
         "anti",
         100.0
        ],
        [
         "subscription",
         80.0
        ],
        [
         "putting",
         200.0
        ],
        [
         "unreliable",
         200.0
        ],
        [
         "click",
         50.0
        ],
        [
         "updates",
         100.0
        ],
        [
         "policy",
         80.0
        ],
        [
         "firewall",
         100.0
        ],
        [
         "consequences",
         200.0
        ],
        [
         "prevention",
         200.0
        ],
        [
         "introduction",
         400.0
        ],
        [
         "deepest",
         400.0
        ],
        [
         "school",
         57.142857142857146
        ],
        [
         "phonics",
         100.0
        ],
        [
         "book",
         26.666666666666668
        ],
        [
         "enhanced",
         50.0
        ],
        [
         "dorothy",
         400.0
        ],
        [
         "esl",
         400.0
        ],
        [
         "numbers",
         133.33333333333334
        ],
        [
         "mouse",
         50.0
        ],
        [
         "56",
         200.0
        ],
        [
         "resource",
         80.0
        ],
        [
         "10",
         15.384615384615385
        ],
        [
         "thoroughly",
         400.0
        ],
        [
         "young",
         200.0
        ],
        [
         "musicalis",
         200.0
        ],
        [
         "leadership",
         400.0
        ],
        [
         "shop",
         57.142857142857146
        ],
        [
         "20",
         33.333333333333336
        ],
        [
         "two",
         33.333333333333336
        ],
        [
         "decades",
         400.0
        ],
        [
         "quality",
         21.05263157894737
        ],
        [
         "risk",
         100.0
        ],
        [
         "host",
         50.0
        ],
        [
         "girls",
         200.0
        ],
        [
         "letting",
         400.0
        ],
        [
         "start",
         30.76923076923077
        ],
        [
         "decision",
         200.0
        ],
        [
         "shoots",
         400.0
        ],
        [
         "visual",
         100.0
        ],
        [
         "clients",
         80.0
        ],
        [
         "hardware",
         100.0
        ],
        [
         "match",
         100.0
        ],
        [
         "trigger",
         400.0
        ],
        [
         "let",
         36.36363636363637
        ],
        [
         "metadata",
         400.0
        ],
        [
         "decks",
         400.0
        ],
        [
         "challenge",
         200.0
        ],
        [
         "beyond",
         66.66666666666667
        ],
        [
         "generates",
         400.0
        ],
        [
         "current",
         133.33333333333334
        ],
        [
         "process",
         40.0
        ],
        [
         "improved",
         50.0
        ],
        [
         "preview",
         133.33333333333334
        ],
        [
         "organize",
         50.0
        ],
        [
         "needs",
         25.0
        ],
        [
         "dramatic",
         133.33333333333334
        ],
        [
         "leading",
         40.0
        ],
        [
         "menus",
         66.66666666666667
        ],
        [
         "feedback",
         133.33333333333334
        ],
        [
         "format",
         23.529411764705884
        ],
        [
         "however",
         400.0
        ],
        [
         "switch",
         400.0
        ],
        [
         "passion",
         400.0
        ],
        [
         "schedule",
         400.0
        ],
        [
         "recording",
         133.33333333333334
        ],
        [
         "bridge",
         100.0
        ],
        [
         "provide",
         33.333333333333336
        ],
        [
         "cards",
         36.36363636363637
        ],
        [
         "check",
         133.33333333333334
        ],
        [
         "flags",
         200.0
        ],
        [
         "incorporate",
         200.0
        ],
        [
         "excellent",
         400.0
        ],
        [
         "meets",
         200.0
        ],
        [
         "smart",
         50.0
        ],
        [
         "finish",
         66.66666666666667
        ],
        [
         "comments",
         400.0
        ],
        [
         "aaf",
         400.0
        ],
        [
         "results",
         57.142857142857146
        ],
        [
         "clicking",
         400.0
        ],
        [
         "action",
         33.333333333333336
        ],
        [
         "panels",
         200.0
        ],
        [
         "stunning",
         133.33333333333334
        ],
        [
         "delivery",
         133.33333333333334
        ],
        [
         "broad",
         133.33333333333334
        ],
        [
         "sync",
         400.0
        ],
        [
         "promote",
         133.33333333333334
        ],
        [
         "customizable",
         66.66666666666667
        ],
        [
         "offers",
         18.181818181818183
        ],
        [
         "exactly",
         400.0
        ],
        [
         "edit",
         36.36363636363637
        ],
        [
         "notes",
         133.33333333333334
        ],
        [
         "production",
         66.66666666666667
        ],
        [
         "timecode",
         400.0
        ],
        [
         "frame",
         133.33333333333334
        ],
        [
         "auto",
         200.0
        ],
        [
         "movie",
         44.44444444444444
        ],
        [
         "remix",
         200.0
        ],
        [
         "steinberg",
         133.33333333333334
        ],
        [
         "family",
         36.36363636363637
        ],
        [
         "memorabilia",
         400.0
        ],
        [
         "dreamweaver",
         133.33333333333334
        ],
        [
         "jump",
         133.33333333333334
        ],
        [
         "dodge",
         400.0
        ],
        [
         "modes",
         100.0
        ],
        [
         "ria",
         400.0
        ],
        [
         "impressive",
         200.0
        ],
        [
         "library",
         44.44444444444444
        ],
        [
         "symbol",
         400.0
        ],
        [
         "png",
         400.0
        ],
        [
         "canvas",
         400.0
        ],
        [
         "styling",
         400.0
        ],
        [
         "common",
         100.0
        ],
        [
         "multipage",
         400.0
        ],
        [
         "symbols",
         400.0
        ],
        [
         "interfaces",
         200.0
        ],
        [
         "dinosaurs",
         200.0
        ],
        [
         "simplified",
         200.0
        ],
        [
         "advancedfeatures",
         400.0
        ],
        [
         "essential",
         50.0
        ],
        [
         "printing",
         100.0
        ],
        [
         "charcoal",
         200.0
        ],
        [
         "free",
         28.571428571428573
        ],
        [
         "mailings",
         200.0
        ],
        [
         "8x8",
         200.0
        ],
        [
         "perfect",
         40.0
        ],
        [
         "deluxe",
         19.047619047619047
        ],
        [
         "wealth",
         80.0
        ],
        [
         "sharing",
         100.0
        ],
        [
         "notecards",
         133.33333333333334
        ],
        [
         "favorite",
         30.76923076923077
        ],
        [
         "category",
         200.0
        ],
        [
         "deletion",
         400.0
        ],
        [
         "recoverlost",
         200.0
        ],
        [
         "lost",
         100.0
        ],
        [
         "handy",
         200.0
        ],
        [
         "finger",
         400.0
        ],
        [
         "kindersley",
         200.0
        ],
        [
         "tests",
         133.33333333333334
        ],
        [
         "everything",
         28.571428571428573
        ],
        [
         "eq",
         400.0
        ],
        [
         "hypnotic",
         400.0
        ],
        [
         "orchestral",
         400.0
        ],
        [
         "copied",
         400.0
        ],
        [
         "avi",
         100.0
        ],
        [
         "fileformat",
         400.0
        ],
        [
         "gb",
         400.0
        ],
        [
         "svcd",
         400.0
        ],
        [
         "remove",
         133.33333333333334
        ],
        [
         "700",
         400.0
        ],
        [
         "months",
         200.0
        ],
        [
         "2d",
         200.0
        ],
        [
         "fastest",
         400.0
        ],
        [
         "components",
         200.0
        ],
        [
         "suites",
         400.0
        ],
        [
         "unknown",
         200.0
        ],
        [
         "popularly",
         200.0
        ],
        [
         "informationpeerless",
         400.0
        ],
        [
         "primary",
         400.0
        ],
        [
         "space",
         33.333333333333336
        ],
        [
         "educate",
         400.0
        ],
        [
         "figures",
         133.33333333333334
        ],
        [
         "vital",
         400.0
        ],
        [
         "scope",
         400.0
        ],
        [
         "far",
         133.33333333333334
        ],
        [
         "enjoyable",
         400.0
        ],
        [
         "tips",
         80.0
        ],
        [
         "entrees",
         400.0
        ],
        [
         "store",
         80.0
        ],
        [
         "boomerang",
         400.0
        ],
        [
         "sophistication",
         400.0
        ],
        [
         "technical",
         133.33333333333334
        ],
        [
         "smith",
         200.0
        ],
        [
         "smoother",
         400.0
        ],
        [
         "engagingly",
         400.0
        ],
        [
         "step",
         36.36363636363637
        ],
        [
         "paris",
         400.0
        ],
        [
         "replicas",
         400.0
        ],
        [
         "insightful",
         200.0
        ],
        [
         "offering",
         133.33333333333334
        ],
        [
         "reveal",
         400.0
        ],
        [
         "louvre",
         200.0
        ],
        [
         "african",
         400.0
        ],
        [
         "museums",
         200.0
        ],
        [
         "something",
         400.0
        ],
        [
         "zoo",
         400.0
        ],
        [
         "unlock",
         133.33333333333334
        ],
        [
         "really",
         400.0
        ],
        [
         "bonus",
         133.33333333333334
        ],
        [
         "crusher",
         200.0
        ],
        [
         "good",
         66.66666666666667
        ],
        [
         "thq",
         400.0
        ],
        [
         "12",
         80.0
        ],
        [
         "middle",
         200.0
        ],
        [
         "teaching",
         66.66666666666667
        ],
        [
         "trudy",
         400.0
        ],
        [
         "washer",
         200.0
        ],
        [
         "input",
         200.0
        ],
        [
         "psp",
         200.0
        ],
        [
         "cartoon",
         400.0
        ],
        [
         "theres",
         400.0
        ],
        [
         "humongous",
         400.0
        ],
        [
         "ghost",
         400.0
        ],
        [
         "schoolhouse",
         200.0
        ],
        [
         "solve",
         100.0
        ],
        [
         "haunted",
         200.0
        ],
        [
         "24",
         57.142857142857146
        ],
        [
         "submarine",
         400.0
        ],
        [
         "childs",
         400.0
        ],
        [
         "requests",
         400.0
        ],
        [
         "authorities",
         400.0
        ],
        [
         "oml",
         200.0
        ],
        [
         "mgmt",
         200.0
        ],
        [
         "eastwest",
         400.0
        ],
        [
         "v9",
         133.33333333333334
        ],
        [
         "cocktails",
         100.0
        ],
        [
         "trying",
         133.33333333333334
        ],
        [
         "bar",
         66.66666666666667
        ],
        [
         "utilities",
         200.0
        ],
        [
         "standards",
         133.33333333333334
        ],
        [
         "hp",
         57.142857142857146
        ],
        [
         "adhesive",
         400.0
        ],
        [
         "dell",
         400.0
        ],
        [
         "cannot",
         200.0
        ],
        [
         "r",
         100.0
        ],
        [
         "portable",
         80.0
        ],
        [
         "volumes",
         200.0
        ],
        [
         "charge",
         400.0
        ],
        [
         "variable",
         133.33333333333334
        ],
        [
         "accessories",
         200.0
        ],
        [
         "inbound",
         400.0
        ],
        [
         "confirms",
         400.0
        ],
        [
         "proactive",
         400.0
        ],
        [
         "protections",
         400.0
        ],
        [
         "realistic",
         100.0
        ],
        [
         "brand",
         66.66666666666667
        ],
        [
         "quizzes",
         400.0
        ],
        [
         "question",
         200.0
        ],
        [
         "length",
         400.0
        ],
        [
         "128",
         57.142857142857146
        ],
        [
         "safely",
         200.0
        ],
        [
         "smartphone",
         400.0
        ],
        [
         "passwords",
         200.0
        ],
        [
         "stores",
         133.33333333333334
        ],
        [
         "handheld",
         200.0
        ],
        [
         "stored",
         400.0
        ],
        [
         "instructor",
         400.0
        ],
        [
         "licks",
         400.0
        ],
        [
         "graduate",
         400.0
        ],
        [
         "michael",
         400.0
        ],
        [
         "strap",
         400.0
        ],
        [
         "threat",
         80.0
        ],
        [
         "cannon",
         400.0
        ],
        [
         "fleet",
         400.0
        ],
        [
         "machine",
         200.0
        ],
        [
         "midst",
         400.0
        ],
        [
         "x3",
         200.0
        ],
        [
         "gates",
         400.0
        ],
        [
         "invade",
         400.0
        ],
        [
         "plateaus",
         400.0
        ],
        [
         "shadows",
         400.0
        ],
        [
         "everquest",
         200.0
        ],
        [
         "eight",
         100.0
        ],
        [
         "companion",
         80.0
        ],
        [
         "emails",
         200.0
        ],
        [
         "recognizes",
         200.0
        ],
        [
         "ergonomic",
         400.0
        ],
        [
         "desk",
         400.0
        ],
        [
         "rely",
         200.0
        ],
        [
         "comfortable",
         400.0
        ],
        [
         "demo",
         400.0
        ],
        [
         "dutch",
         400.0
        ],
        [
         "rather",
         200.0
        ],
        [
         "conferences",
         400.0
        ],
        [
         "quick",
         80.0
        ],
        [
         "matching",
         133.33333333333334
        ],
        [
         "scanners",
         133.33333333333334
        ],
        [
         "exports",
         400.0
        ],
        [
         "cluttering",
         400.0
        ],
        [
         "send",
         200.0
        ],
        [
         "warlords",
         200.0
        ],
        [
         "orb",
         400.0
        ],
        [
         "psg",
         400.0
        ],
        [
         "courseware",
         400.0
        ],
        [
         "texas",
         133.33333333333334
        ],
        [
         "blackmailed",
         400.0
        ],
        [
         "editor",
         100.0
        ],
        [
         "saves",
         133.33333333333334
        ],
        [
         "textbridge",
         133.33333333333334
        ],
        [
         "resulting",
         200.0
        ],
        [
         "classics",
         100.0
        ],
        [
         "avanquest",
         200.0
        ],
        [
         "sim",
         200.0
        ],
        [
         "assaults",
         400.0
        ],
        [
         "breaches",
         400.0
        ],
        [
         "thereby",
         400.0
        ],
        [
         "behavior",
         400.0
        ],
        [
         "risks",
         400.0
        ],
        [
         "endpoints",
         200.0
        ],
        [
         "agent",
         80.0
        ],
        [
         "stages",
         400.0
        ],
        [
         "potential",
         200.0
        ],
        [
         "proactively",
         200.0
        ],
        [
         "defends",
         400.0
        ],
        [
         "servers",
         57.142857142857146
        ],
        [
         "freeze",
         400.0
        ],
        [
         "wma",
         400.0
        ],
        [
         "yet",
         200.0
        ],
        [
         "flaws",
         400.0
        ],
        [
         "ziggy",
         400.0
        ],
        [
         "flowers",
         200.0
        ],
        [
         "praise",
         400.0
        ],
        [
         "wormie",
         400.0
        ],
        [
         "eurotalk",
         400.0
        ],
        [
         "developing",
         200.0
        ],
        [
         "r3900292",
         400.0
        ],
        [
         "manufacturer",
         100.0
        ],
        [
         "timesheets",
         400.0
        ],
        [
         "turns",
         200.0
        ],
        [
         "customer",
         133.33333333333334
        ],
        [
         "errors",
         200.0
        ],
        [
         "preset",
         400.0
        ],
        [
         "groups",
         133.33333333333334
        ],
        [
         "transferred",
         400.0
        ],
        [
         "quickbooksmerchantservice",
         400.0
        ],
        [
         "assemblies",
         400.0
        ],
        [
         "buying",
         400.0
        ],
        [
         "optional",
         133.33333333333334
        ],
        [
         "vendors",
         400.0
        ],
        [
         "charges",
         400.0
        ],
        [
         "overstocking",
         400.0
        ],
        [
         "orders",
         400.0
        ],
        [
         "intuit",
         133.33333333333334
        ],
        [
         "reorder",
         400.0
        ],
        [
         "item",
         400.0
        ],
        [
         "kits",
         400.0
        ],
        [
         "layaways",
         400.0
        ],
        [
         "serve",
         200.0
        ],
        [
         "purchases",
         400.0
        ],
        [
         "helpdesk",
         400.0
        ],
        [
         "brainstormer",
         400.0
        ],
        [
         "research",
         200.0
        ],
        [
         "monthly",
         400.0
        ],
        [
         "foods",
         200.0
        ],
        [
         "coupons",
         400.0
        ],
        [
         "dvo",
         400.0
        ],
        [
         "vegetarian",
         200.0
        ],
        [
         "historic",
         400.0
        ],
        [
         "epic",
         100.0
        ],
        [
         "feel",
         400.0
        ],
        [
         "europe",
         200.0
        ],
        [
         "feudal",
         200.0
        ],
        [
         "extrn",
         400.0
        ],
        [
         "intercepted",
         400.0
        ],
        [
         "engage",
         400.0
        ],
        [
         "hat",
         133.33333333333334
        ],
        [
         "magical",
         200.0
        ],
        [
         "seuss",
         200.0
        ],
        [
         "stickers",
         400.0
        ],
        [
         "helpful",
         400.0
        ],
        [
         "adaptation",
         400.0
        ],
        [
         "surprises",
         200.0
        ],
        [
         "h3200034",
         400.0
        ],
        [
         "external",
         200.0
        ],
        [
         "entities",
         200.0
        ],
        [
         "lions",
         400.0
        ],
        [
         "corporations",
         400.0
        ],
        [
         "coupled",
         400.0
        ],
        [
         "money",
         80.0
        ],
        [
         "invest",
         400.0
        ],
        [
         "distribution",
         100.0
        ],
        [
         "cd08393wi",
         400.0
        ],
        [
         "campaigns",
         400.0
        ],
        [
         "competitor",
         200.0
        ],
        [
         "netmanage",
         100.0
        ],
        [
         "spry",
         400.0
        ],
        [
         "graphically",
         200.0
        ],
        [
         "raw",
         133.33333333333334
        ],
        [
         "combining",
         400.0
        ],
        [
         "compromises",
         400.0
        ],
        [
         "self",
         400.0
        ],
        [
         "upsell",
         400.0
        ],
        [
         "actionscript",
         400.0
        ],
        [
         "exploring",
         400.0
        ],
        [
         "tiff",
         400.0
        ],
        [
         "asset",
         400.0
        ],
        [
         "equips",
         400.0
        ],
        [
         "developers",
         100.0
        ],
        [
         "seamlessly",
         200.0
        ],
        [
         "subject",
         400.0
        ],
        [
         "scripts",
         400.0
        ],
        [
         "stronger",
         400.0
        ],
        [
         "produce",
         133.33333333333334
        ],
        [
         "compositing",
         200.0
        ],
        [
         "diversify",
         400.0
        ],
        [
         "finessing",
         400.0
        ],
        [
         "unprecedented",
         200.0
        ],
        [
         "deploymenteasily",
         400.0
        ],
        [
         "postscript",
         200.0
        ],
        [
         "investments",
         400.0
        ],
        [
         "g",
         100.0
        ],
        [
         "getting",
         200.0
        ],
        [
         "prompted",
         400.0
        ],
        [
         "coverage",
         200.0
        ],
        [
         "acceleration",
         400.0
        ],
        [
         "stateful",
         400.0
        ],
        [
         "managed",
         400.0
        ],
        [
         "engine",
         100.0
        ],
        [
         "xsr",
         400.0
        ],
        [
         "throughput",
         400.0
        ],
        [
         "leveraged",
         400.0
        ],
        [
         "cd374",
         400.0
        ],
        [
         "softgrid",
         400.0
        ],
        [
         "quickstart",
         400.0
        ],
        [
         "clipping",
         400.0
        ],
        [
         "150",
         133.33333333333334
        ],
        [
         "adapters",
         400.0
        ],
        [
         "insight",
         400.0
        ],
        [
         "remaining",
         400.0
        ],
        [
         "murdered",
         400.0
        ],
        [
         "acquire",
         400.0
        ],
        [
         "players",
         57.142857142857146
        ],
        [
         "traveling",
         400.0
        ],
        [
         "water",
         133.33333333333334
        ],
        [
         "weapon",
         400.0
        ],
        [
         "conquering",
         400.0
        ],
        [
         "encounter",
         400.0
        ],
        [
         "unearthly",
         400.0
        ],
        [
         "213076",
         200.0
        ],
        [
         "equilibrium",
         200.0
        ],
        [
         "batches",
         400.0
        ],
        [
         "task",
         200.0
        ],
        [
         "repurpose",
         400.0
        ],
        [
         "crafted",
         400.0
        ],
        [
         "casinogames",
         400.0
        ],
        [
         "installing",
         400.0
        ],
        [
         "metrics",
         400.0
        ],
        [
         "characteristics",
         400.0
        ],
        [
         "verification",
         400.0
        ],
        [
         "cases",
         400.0
        ],
        [
         "initial",
         200.0
        ],
        [
         "returns",
         200.0
        ],
        [
         "v4",
         133.33333333333334
        ],
        [
         "immediate",
         400.0
        ],
        [
         "ed",
         200.0
        ],
        [
         "administer",
         400.0
        ],
        [
         "ste",
         400.0
        ],
        [
         "automating",
         400.0
        ],
        [
         "ethernet",
         400.0
        ],
        [
         "dro",
         200.0
        ],
        [
         "metal",
         400.0
        ],
        [
         "disaster",
         400.0
        ],
        [
         "fraud",
         400.0
        ],
        [
         "clubhouse",
         400.0
        ],
        [
         "24x",
         400.0
        ],
        [
         "overhead",
         400.0
        ],
        [
         "scripture",
         400.0
        ],
        [
         "sun",
         133.33333333333334
        ],
        [
         "administrator",
         400.0
        ],
        [
         "integrate",
         400.0
        ],
        [
         "lara",
         400.0
        ],
        [
         "persistence",
         400.0
        ],
        [
         "references",
         400.0
        ],
        [
         "alerting",
         400.0
        ],
        [
         "crazy",
         400.0
        ],
        [
         "orient",
         400.0
        ],
        [
         "oracle",
         400.0
        ],
        [
         "multiplayer",
         400.0
        ],
        [
         "adventurers",
         400.0
        ],
        [
         "scansoft",
         200.0
        ],
        [
         "paperport",
         400.0
        ],
        [
         "007",
         200.0
        ],
        [
         "builder",
         400.0
        ],
        [
         "binary",
         400.0
        ],
        [
         "consulting",
         400.0
        ],
        [
         "quicken",
         200.0
        ],
        [
         "curling",
         400.0
        ],
        [
         "010008",
         400.0
        ],
        [
         "160",
         400.0
        ],
        [
         "34006",
         400.0
        ],
        [
         "academicmodel",
         400.0
        ],
        [
         "cd34597wiaevendor",
         400.0
        ],
        [
         "panda",
         400.0
        ],
        [
         "8000000",
         400.0
        ],
        [
         "agencies",
         400.0
        ],
        [
         "mypc",
         400.0
        ],
        [
         "protector",
         400.0
        ],
        [
         "boards",
         400.0
        ],
        [
         "social",
         400.0
        ],
        [
         "512mb",
         400.0
        ],
        [
         "healthy",
         400.0
        ],
        [
         "cultures",
         400.0
        ],
        [
         "narrative",
         400.0
        ],
        [
         "idea",
         400.0
        ],
        [
         "l",
         133.33333333333334
        ],
        [
         "protecting",
         200.0
        ],
        [
         "crosspicking",
         400.0
        ],
        [
         "hassle",
         400.0
        ],
        [
         "intake",
         400.0
        ],
        [
         "ships",
         100.0
        ],
        [
         "goods",
         400.0
        ],
        [
         "dj",
         400.0
        ],
        [
         "mhz",
         200.0
        ],
        [
         "los",
         400.0
        ],
        [
         "andmore",
         400.0
        ],
        [
         "schl",
         400.0
        ],
        [
         "dogs",
         400.0
        ],
        [
         "sometimes",
         400.0
        ],
        [
         "trouble",
         200.0
        ],
        [
         "brimming",
         400.0
        ],
        [
         "spec",
         400.0
        ],
        [
         "61208",
         400.0
        ],
        [
         "proposes",
         400.0
        ],
        [
         "lations",
         400.0
        ],
        [
         "mesozoic",
         400.0
        ],
        [
         "spirit",
         400.0
        ],
        [
         "ati",
         400.0
        ],
        [
         "aspyr",
         200.0
        ],
        [
         "james",
         400.0
        ],
        [
         "coursewarecustomizing",
         400.0
        ],
        [
         "landscape",
         200.0
        ],
        [
         "bird",
         400.0
        ],
        [
         "ears",
         400.0
        ],
        [
         "wings",
         400.0
        ],
        [
         "framed",
         400.0
        ],
        [
         "mechanical",
         400.0
        ],
        [
         "registry",
         400.0
        ],
        [
         "repair",
         400.0
        ],
        [
         "holdem",
         400.0
        ],
        [
         "egl",
         400.0
        ],
        [
         "twenty",
         400.0
        ],
        [
         "freely",
         400.0
        ],
        [
         "leonard",
         400.0
        ],
        [
         "algebra",
         400.0
        ],
        [
         "multiplication",
         400.0
        ],
        [
         "radicals",
         400.0
        ],
        [
         "positions",
         400.0
        ],
        [
         "bosendorfer",
         400.0
        ],
        [
         "ambience",
         400.0
        ],
        [
         "v22",
         200.0
        ],
        [
         "shooter",
         400.0
        ],
        [
         "hoth",
         400.0
        ],
        [
         "reorganizing",
         400.0
        ],
        [
         "continues",
         400.0
        ],
        [
         "storyline",
         400.0
        ],
        [
         "boundary",
         400.0
        ],
        [
         "mbmodel",
         400.0
        ],
        [
         "circulatory",
         400.0
        ],
        [
         "lnx",
         400.0
        ],
        [
         "lilo",
         400.0
        ],
        [
         "wavelab",
         400.0
        ],
        [
         "studying",
         400.0
        ],
        [
         "asteroids",
         400.0
        ],
        [
         "cuba",
         400.0
        ],
        [
         "s552",
         400.0
        ],
        [
         "transports",
         400.0
        ],
        [
         "intervened",
         400.0
        ],
        [
         "mediums",
         400.0
        ],
        [
         "vernfp2007rt",
         400.0
        ],
        [
         "intair",
         400.0
        ],
        [
         "corp",
         400.0
        ],
        [
         "00320249",
         400.0
        ],
        [
         "buddy",
         400.0
        ],
        [
         "would",
         400.0
        ],
        [
         "travelers",
         400.0
        ],
        [
         "conversation",
         400.0
        ],
        [
         "quantitative",
         400.0
        ],
        [
         "statistical",
         400.0
        ],
        [
         "outcast",
         400.0
        ],
        [
         "creeping",
         400.0
        ],
        [
         "waiting",
         400.0
        ],
        [
         "intimate",
         400.0
        ],
        [
         "nightfall",
         400.0
        ],
        [
         "10316",
         400.0
        ],
        [
         "blast",
         400.0
        ],
        [
         "excellence",
         400.0
        ],
        [
         "librarians",
         400.0
        ],
        [
         "llc",
         400.0
        ],
        [
         "matter",
         400.0
        ],
        [
         "international",
         133.33333333333334
        ],
        [
         "arcserve",
         80.0
        ],
        [
         "desktops",
         100.0
        ],
        [
         "activity",
         100.0
        ],
        [
         "features",
         6.896551724137931
        ],
        [
         "every",
         25.0
        ],
        [
         "general",
         133.33333333333334
        ],
        [
         "customized",
         100.0
        ],
        [
         "standard",
         15.384615384615385
        ],
        [
         "prior",
         200.0
        ],
        [
         "changes",
         133.33333333333334
        ],
        [
         "ledger",
         400.0
        ],
        [
         "keep",
         40.0
        ],
        [
         "hundreds",
         100.0
        ],
        [
         "shots",
         200.0
        ],
        [
         "solutions",
         50.0
        ],
        [
         "trail",
         400.0
        ],
        [
         "budget",
         133.33333333333334
        ],
        [
         "annual",
         200.0
        ],
        [
         "technologies",
         57.142857142857146
        ],
        [
         "7",
         23.529411764705884
        ],
        [
         "windows",
         8.51063829787234
        ],
        [
         "upgrade",
         16.666666666666668
        ],
        [
         "text",
         25.0
        ],
        [
         "interactive",
         14.814814814814815
        ],
        [
         "create",
         8.333333333333334
        ],
        [
         "capabilities",
         66.66666666666667
        ],
        [
         "saveyou",
         400.0
        ],
        [
         "pro",
         11.764705882352942
        ],
        [
         "indragon",
         400.0
        ],
        [
         "complete",
         7.2727272727272725
        ],
        [
         "certified",
         400.0
        ],
        [
         "applications",
         17.391304347826086
        ],
        [
         "accuracy",
         66.66666666666667
        ],
        [
         "marketing",
         26.666666666666668
        ],
        [
         "email",
         66.66666666666667
        ],
        [
         "costs",
         133.33333333333334
        ],
        [
         "disney",
         100.0
        ],
        [
         "quest",
         100.0
        ],
        [
         "learn",
         25.0
        ],
        [
         "640x480",
         200.0
        ],
        [
         "arc",
         133.33333333333334
        ],
        [
         "beautiful",
         66.66666666666667
        ],
        [
         "fabric",
         400.0
        ],
        [
         "soundblaster",
         400.0
        ],
        [
         "paper",
         30.76923076923077
        ],
        [
         "need",
         10.526315789473685
        ],
        [
         "media",
         18.181818181818183
        ],
        [
         "ram",
         40.0
        ],
        [
         "many",
         25.0
        ],
        [
         "creation",
         50.0
        ],
        [
         "creates",
         133.33333333333334
        ],
        [
         "networking",
         133.33333333333334
        ],
        [
         "rpcsec_gss",
         400.0
        ],
        [
         "symbolic",
         400.0
        ],
        [
         "implementation",
         133.33333333333334
        ],
        [
         "services",
         30.76923076923077
        ],
        [
         "rfc2054",
         400.0
        ],
        [
         "secured",
         200.0
        ],
        [
         "empowers",
         400.0
        ],
        [
         "reliable",
         80.0
        ],
        [
         "powerful",
         9.523809523809524
        ],
        [
         "secure",
         25.0
        ],
        [
         "devices",
         44.44444444444444
        ],
        [
         "delivers",
         36.36363636363637
        ],
        [
         "existing",
         80.0
        ],
        [
         "sweeper",
         200.0
        ],
        [
         "developer",
         100.0
        ],
        [
         "r5",
         400.0
        ],
        [
         "csdc",
         133.33333333333334
        ],
        [
         "netware",
         133.33333333333334
        ],
        [
         "severe",
         200.0
        ],
        [
         "cost",
         57.142857142857146
        ],
        [
         "content",
         23.529411764705884
        ],
        [
         "deployment",
         100.0
        ],
        [
         "today",
         44.44444444444444
        ],
        [
         "add",
         23.529411764705884
        ],
        [
         "expensive",
         133.33333333333334
        ],
        [
         "button",
         80.0
        ],
        [
         "deploy",
         44.44444444444444
        ],
        [
         "gms",
         133.33333333333334
        ],
        [
         "ll",
         17.391304347826086
        ],
        [
         "posed",
         400.0
        ],
        [
         "winning",
         33.333333333333336
        ],
        [
         "bilingual",
         400.0
        ],
        [
         "jellybean",
         400.0
        ],
        [
         "addition",
         57.142857142857146
        ],
        [
         "illustrations",
         80.0
        ],
        [
         "timelines",
         133.33333333333334
        ],
        [
         "articles",
         200.0
        ],
        [
         "guitar",
         28.571428571428573
        ],
        [
         "workshop",
         80.0
        ],
        [
         "digital",
         22.22222222222222
        ],
        [
         "publisher",
         66.66666666666667
        ],
        [
         "control",
         33.333333333333336
        ],
        [
         "protect",
         33.333333333333336
        ],
        [
         "makes",
         21.05263157894737
        ],
        [
         "real",
         23.529411764705884
        ],
        [
         "range",
         80.0
        ],
        [
         "whether",
         26.666666666666668
        ],
        [
         "converted",
         400.0
        ],
        [
         "stay",
         80.0
        ],
        [
         "play",
         21.05263157894737
        ],
        [
         "precise",
         100.0
        ],
        [
         "rendering",
         400.0
        ],
        [
         "lets",
         25.0
        ],
        [
         "miscommunication",
         400.0
        ],
        [
         "directly",
         40.0
        ],
        [
         "note",
         133.33333333333334
        ],
        [
         "apply",
         100.0
        ],
        [
         "camp",
         200.0
        ],
        [
         "efficient",
         57.142857142857146
        ],
        [
         "looming",
         400.0
        ],
        [
         "shot",
         200.0
        ],
        [
         "still",
         400.0
        ],
        [
         "selection",
         100.0
        ],
        [
         "streamlines",
         200.0
        ],
        [
         "analyzer",
         400.0
        ],
        [
         "independent",
         200.0
        ],
        [
         "creativity",
         80.0
        ],
        [
         "slow",
         200.0
        ],
        [
         "recorded",
         200.0
        ],
        [
         "frees",
         200.0
        ],
        [
         "protocols",
         100.0
        ],
        [
         "e",
         26.666666666666668
        ],
        [
         "filmmakers",
         400.0
        ],
        [
         "require",
         100.0
        ],
        [
         "edl",
         400.0
        ],
        [
         "sort",
         133.33333333333334
        ],
        [
         "clip",
         200.0
        ],
        [
         "signals",
         400.0
        ],
        [
         "filmmaking",
         400.0
        ],
        [
         "cell",
         200.0
        ],
        [
         "approval",
         400.0
        ],
        [
         "cue",
         200.0
        ],
        [
         "detects",
         400.0
        ],
        [
         "flexibility",
         50.0
        ],
        [
         "crews",
         400.0
        ],
        [
         "editorial",
         400.0
        ],
        [
         "graphics",
         26.666666666666668
        ],
        [
         "precision",
         133.33333333333334
        ],
        [
         "without",
         33.333333333333336
        ],
        [
         "fit",
         100.0
        ],
        [
         "gen",
         400.0
        ],
        [
         "roxio",
         400.0
        ],
        [
         "trees",
         200.0
        ],
        [
         "tool",
         22.22222222222222
        ],
        [
         "processing",
         44.44444444444444
        ],
        [
         "fireworks",
         100.0
        ],
        [
         "accelerates",
         400.0
        ],
        [
         "linear",
         400.0
        ],
        [
         "buttons",
         200.0
        ],
        [
         "highly",
         133.33333333333334
        ],
        [
         "manipulate",
         133.33333333333334
        ],
        [
         "resolution",
         40.0
        ],
        [
         "ipod",
         80.0
        ],
        [
         "texture",
         200.0
        ],
        [
         "variety",
         57.142857142857146
        ],
        [
         "mass",
         200.0
        ],
        [
         "million",
         80.0
        ],
        [
         "spell",
         100.0
        ],
        [
         "wider",
         200.0
        ],
        [
         "inch",
         100.0
        ],
        [
         "corrupted",
         400.0
        ],
        [
         "might",
         200.0
        ],
        [
         "scsi",
         200.0
        ],
        [
         "netscape",
         400.0
        ],
        [
         "life",
         26.666666666666668
        ],
        [
         "dorling",
         200.0
        ],
        [
         "great",
         36.36363636363637
        ],
        [
         "spark",
         400.0
        ],
        [
         "surround",
         400.0
        ],
        [
         "dts",
         400.0
        ],
        [
         "highspeed",
         400.0
        ],
        [
         "allows",
         36.36363636363637
        ],
        [
         "vcds",
         400.0
        ],
        [
         "automatic",
         133.33333333333334
        ],
        [
         "350",
         200.0
        ],
        [
         "synergy",
         200.0
        ],
        [
         "puts",
         200.0
        ],
        [
         "integrating",
         400.0
        ],
        [
         "aggressive",
         200.0
        ],
        [
         "advertising",
         200.0
        ],
        [
         "dialers",
         400.0
        ],
        [
         "talks",
         200.0
        ],
        [
         "langua",
         400.0
        ],
        [
         "instructional",
         200.0
        ],
        [
         "zoology",
         400.0
        ],
        [
         "planetarium",
         200.0
        ],
        [
         "nature",
         133.33333333333334
        ],
        [
         "writers",
         400.0
        ],
        [
         "tries",
         200.0
        ],
        [
         "concerned",
         400.0
        ],
        [
         "nutritional",
         200.0
        ],
        [
         "menu",
         400.0
        ],
        [
         "lists",
         80.0
        ],
        [
         "rollback",
         400.0
        ],
        [
         "hosting",
         400.0
        ],
        [
         "themes",
         133.33333333333334
        ],
        [
         "custom",
         36.36363636363637
        ],
        [
         "collects",
         400.0
        ],
        [
         "hopper",
         400.0
        ],
        [
         "informationthis",
         400.0
        ],
        [
         "finest",
         200.0
        ],
        [
         "globe",
         200.0
        ],
        [
         "marvels",
         400.0
        ],
        [
         "creations",
         200.0
        ],
        [
         "matchbox",
         200.0
        ],
        [
         "certificates",
         400.0
        ],
        [
         "popping",
         400.0
        ],
        [
         "suv",
         400.0
        ],
        [
         "extend",
         200.0
        ],
        [
         "heroic",
         200.0
        ],
        [
         "methods",
         133.33333333333334
        ],
        [
         "simply",
         57.142857142857146
        ],
        [
         "vulnerable",
         200.0
        ],
        [
         "stick",
         400.0
        ],
        [
         "fox",
         400.0
        ],
        [
         "sierra",
         200.0
        ],
        [
         "double",
         200.0
        ],
        [
         "old",
         133.33333333333334
        ],
        [
         "luther",
         133.33333333333334
        ],
        [
         "fishs",
         400.0
        ],
        [
         "invaders",
         400.0
        ],
        [
         "faces",
         400.0
        ],
        [
         "thing",
         133.33333333333334
        ],
        [
         "knows",
         200.0
        ],
        [
         "main",
         200.0
        ],
        [
         "prosafe",
         400.0
        ],
        [
         "initiated",
         400.0
        ],
        [
         "authentication",
         400.0
        ],
        [
         "sha",
         400.0
        ],
        [
         "equivalent",
         200.0
        ],
        [
         "pki",
         200.0
        ],
        [
         "ipcomp",
         400.0
        ],
        [
         "encryption",
         100.0
        ],
        [
         "1536",
         400.0
        ],
        [
         "pcs",
         100.0
        ],
        [
         "key",
         44.44444444444444
        ],
        [
         "deflate",
         400.0
        ],
        [
         "instrument",
         200.0
        ],
        [
         "diskeeper",
         133.33333333333334
        ],
        [
         "8mb",
         400.0
        ],
        [
         "v10",
         50.0
        ],
        [
         "builds",
         133.33333333333334
        ],
        [
         "ieee",
         400.0
        ],
        [
         "scored",
         400.0
        ],
        [
         "bound",
         400.0
        ],
        [
         "finished",
         400.0
        ],
        [
         "glossy",
         400.0
        ],
        [
         "ocr",
         80.0
        ],
        [
         "immersive",
         400.0
        ],
        [
         "age",
         133.33333333333334
        ],
        [
         "solos",
         200.0
        ],
        [
         "rhythm",
         133.33333333333334
        ],
        [
         "fingerstyle",
         200.0
        ],
        [
         "robots",
         400.0
        ],
        [
         "strengthening",
         400.0
        ],
        [
         "id",
         400.0
        ],
        [
         "experience",
         30.76923076923077
        ],
        [
         "confidence",
         400.0
        ],
        [
         "raise",
         400.0
        ],
        [
         "exams",
         200.0
        ],
        [
         "strategies",
         80.0
        ],
        [
         "wrong",
         133.33333333333334
        ],
        [
         "exam",
         200.0
        ],
        [
         "colleges",
         200.0
        ],
        [
         "spent",
         400.0
        ],
        [
         "info",
         400.0
        ],
        [
         "hands",
         200.0
        ],
        [
         "date",
         50.0
        ],
        [
         "25",
         200.0
        ],
        [
         "charles",
         400.0
        ],
        [
         "existance",
         400.0
        ],
        [
         "louder",
         400.0
        ],
        [
         "basement",
         400.0
        ],
        [
         "horror",
         400.0
        ],
        [
         "ending",
         200.0
        ],
        [
         "terrifying",
         200.0
        ],
        [
         "writer",
         400.0
        ],
        [
         "ruthless",
         200.0
        ],
        [
         "species",
         400.0
        ],
        [
         "return",
         200.0
        ],
        [
         "laser",
         200.0
        ],
        [
         "left",
         400.0
        ],
        [
         "stretched",
         400.0
        ],
        [
         "breaking",
         400.0
        ],
        [
         "almost",
         133.33333333333334
        ],
        [
         "khaak",
         400.0
        ],
        [
         "brothers",
         400.0
        ],
        [
         "svr",
         50.0
        ],
        [
         "win32",
         200.0
        ],
        [
         "sa",
         100.0
        ],
        [
         "velious",
         400.0
        ],
        [
         "luclin",
         400.0
        ],
        [
         "scars",
         400.0
        ],
        [
         "scarred",
         400.0
        ],
        [
         "additionally",
         133.33333333333334
        ],
        [
         "packages",
         400.0
        ],
        [
         "deskewing",
         400.0
        ],
        [
         "iris",
         200.0
        ],
        [
         "leads",
         400.0
        ],
        [
         "incredibly",
         400.0
        ],
        [
         "records",
         200.0
        ],
        [
         "digitizes",
         400.0
        ],
        [
         "seconds",
         133.33333333333334
        ],
        [
         "track",
         57.142857142857146
        ],
        [
         "lojack",
         200.0
        ],
        [
         "frontpage",
         200.0
        ],
        [
         "functionality",
         133.33333333333334
        ],
        [
         "hold",
         200.0
        ],
        [
         "mafia",
         400.0
        ],
        [
         "listen",
         100.0
        ],
        [
         "omnipage",
         200.0
        ],
        [
         "proofreading",
         200.0
        ],
        [
         "invoices",
         200.0
        ],
        [
         "maintains",
         400.0
        ],
        [
         "aquarium",
         80.0
        ],
        [
         "simulated",
         400.0
        ],
        [
         "blitz",
         200.0
        ],
        [
         "clock",
         200.0
        ],
        [
         "scrabble",
         200.0
        ],
        [
         "recent",
         400.0
        ],
        [
         "perimeter",
         400.0
        ],
        [
         "ssl",
         400.0
        ],
        [
         "solaris",
         133.33333333333334
        ],
        [
         "threaten",
         400.0
        ],
        [
         "combat",
         133.33333333333334
        ],
        [
         "early",
         80.0
        ],
        [
         "entertain",
         133.33333333333334
        ],
        [
         "show",
         133.33333333333334
        ],
        [
         "29180248",
         200.0
        ],
        [
         "quantity",
         100.0
        ],
        [
         "breakin",
         200.0
        ],
        [
         "bee",
         200.0
        ],
        [
         "linguistic",
         400.0
        ],
        [
         "stacks",
         400.0
        ],
        [
         "sending",
         400.0
        ],
        [
         "hewlett",
         57.142857142857146
        ],
        [
         "warranty",
         133.33333333333334
        ],
        [
         "employee",
         200.0
        ],
        [
         "multistore",
         200.0
        ],
        [
         "authorize",
         400.0
        ],
        [
         "hand",
         80.0
        ],
        [
         "com",
         133.33333333333334
        ],
        [
         "headquarters",
         400.0
        ],
        [
         "receipt",
         400.0
        ],
        [
         "closing",
         400.0
        ],
        [
         "encyclopaedia",
         200.0
        ],
        [
         "2008",
         80.0
        ],
        [
         "historians",
         200.0
        ],
        [
         "81",
         400.0
        ],
        [
         "experts",
         200.0
        ],
        [
         "encyclopedias",
         400.0
        ],
        [
         "magazine",
         400.0
        ],
        [
         "food",
         400.0
        ],
        [
         "fresh",
         400.0
        ],
        [
         "pilot",
         200.0
        ],
        [
         "healthful",
         400.0
        ],
        [
         "antique",
         200.0
        ],
        [
         "commemorate",
         400.0
        ],
        [
         "dynasty",
         400.0
        ],
        [
         "warfare",
         400.0
        ],
        [
         "unlike",
         200.0
        ],
        [
         "role",
         133.33333333333334
        ],
        [
         "ecc",
         400.0
        ],
        [
         "wish",
         133.33333333333334
        ],
        [
         "delightful",
         400.0
        ],
        [
         "causal",
         400.0
        ],
        [
         "mayzie",
         400.0
        ],
        [
         "parents",
         200.0
        ],
        [
         "oxford",
         133.33333333333334
        ],
        [
         "phrases",
         200.0
        ],
        [
         "matte",
         133.33333333333334
        ],
        [
         "procurve",
         133.33333333333334
        ],
        [
         "ensures",
         200.0
        ],
        [
         "heterogeneously",
         400.0
        ],
        [
         "marked",
         400.0
        ],
        [
         "branch",
         400.0
        ],
        [
         "remains",
         400.0
        ],
        [
         "descriptions",
         400.0
        ],
        [
         "notebook",
         400.0
        ],
        [
         "samples",
         200.0
        ],
        [
         "knowing",
         400.0
        ],
        [
         "complacency",
         400.0
        ],
        [
         "hosted",
         400.0
        ],
        [
         "pick",
         200.0
        ],
        [
         "mistakes",
         400.0
        ],
        [
         "communication",
         400.0
        ],
        [
         "ansi",
         400.0
        ],
        [
         "nondestructive",
         400.0
        ],
        [
         "adjusting",
         400.0
        ],
        [
         "experiences",
         400.0
        ],
        [
         "editions",
         400.0
        ],
        [
         "scriptable",
         400.0
        ],
        [
         "flowing",
         400.0
        ],
        [
         "collaborative",
         400.0
        ],
        [
         "visionary",
         400.0
        ],
        [
         "terms",
         200.0
        ],
        [
         "targeted",
         400.0
        ],
        [
         "stock",
         200.0
        ],
        [
         "regions",
         400.0
        ],
        [
         "bkup",
         100.0
        ],
        [
         "specification",
         400.0
        ],
        [
         "g5",
         50.0
        ],
        [
         "mappoint",
         400.0
        ],
        [
         "inspection",
         400.0
        ],
        [
         "indu",
         400.0
        ],
        [
         "schedules",
         400.0
        ],
        [
         "innovation",
         400.0
        ],
        [
         "ios",
         400.0
        ],
        [
         "ts",
         400.0
        ],
        [
         "mini",
         200.0
        ],
        [
         "searching",
         400.0
        ],
        [
         "quark",
         400.0
        ],
        [
         "utility",
         133.33333333333334
        ],
        [
         "seek",
         400.0
        ],
        [
         "portal",
         400.0
        ],
        [
         "side",
         400.0
        ],
        [
         "deaths",
         400.0
        ],
        [
         "weakened",
         400.0
        ],
        [
         "perspective",
         133.33333333333334
        ],
        [
         "magic",
         400.0
        ],
        [
         "lay",
         200.0
        ],
        [
         "mortagon",
         400.0
        ],
        [
         "god",
         200.0
        ],
        [
         "divine",
         400.0
        ],
        [
         "trading",
         200.0
        ],
        [
         "tranquil",
         400.0
        ],
        [
         "aquatic",
         200.0
        ],
        [
         "pet",
         200.0
        ],
        [
         "combustion",
         200.0
        ],
        [
         "wall",
         400.0
        ],
        [
         "espro",
         400.0
        ],
        [
         "recalled",
         400.0
        ],
        [
         "wlan",
         200.0
        ],
        [
         "physical",
         400.0
        ],
        [
         "11a",
         200.0
        ],
        [
         "reviewing",
         400.0
        ],
        [
         "commonly",
         400.0
        ],
        [
         "app",
         400.0
        ],
        [
         "prefer",
         400.0
        ],
        [
         "tradition",
         400.0
        ],
        [
         "heterogeneous",
         400.0
        ],
        [
         "extending",
         200.0
        ],
        [
         "japanese",
         200.0
        ],
        [
         "azeroth",
         200.0
        ],
        [
         "reinstall",
         400.0
        ],
        [
         "attached",
         400.0
        ],
        [
         "downed",
         400.0
        ],
        [
         "simplifies",
         400.0
        ],
        [
         "timing",
         400.0
        ],
        [
         "directx",
         400.0
        ],
        [
         "microphone",
         133.33333333333334
        ],
        [
         "encouragement",
         400.0
        ],
        [
         "scrapbooks",
         200.0
        ],
        [
         "intended",
         400.0
        ],
        [
         "specified",
         200.0
        ],
        [
         "viewed",
         400.0
        ],
        [
         "fueled",
         400.0
        ],
        [
         "vast",
         400.0
        ],
        [
         "obstacles",
         200.0
        ],
        [
         "unleash",
         200.0
        ],
        [
         "legend",
         133.33333333333334
        ],
        [
         "riddled",
         400.0
        ],
        [
         "unwelcome",
         400.0
        ],
        [
         "mapping",
         400.0
        ],
        [
         "force",
         400.0
        ],
        [
         "delphi",
         200.0
        ],
        [
         "periodicals",
         400.0
        ],
        [
         "distinguish",
         400.0
        ],
        [
         "vary",
         400.0
        ],
        [
         "adv",
         200.0
        ],
        [
         "5310",
         400.0
        ],
        [
         "ssc",
         200.0
        ],
        [
         "lot",
         133.33333333333334
        ],
        [
         "heat",
         400.0
        ],
        [
         "blue",
         200.0
        ],
        [
         "600mhz",
         400.0
        ],
        [
         "serious",
         400.0
        ],
        [
         "alarm",
         400.0
        ],
        [
         "craze",
         400.0
        ],
        [
         "seasoned",
         400.0
        ],
        [
         "various",
         133.33333333333334
        ],
        [
         "10356",
         400.0
        ],
        [
         "ahead",
         400.0
        ],
        [
         "subjects",
         133.33333333333334
        ],
        [
         "extrnlconnnonemplyengl",
         400.0
        ],
        [
         "planmaker",
         400.0
        ],
        [
         "completed",
         400.0
        ],
        [
         "favourite",
         400.0
        ],
        [
         "394",
         400.0
        ],
        [
         "mountain",
         400.0
        ],
        [
         "kinds",
         400.0
        ],
        [
         "pbupgrd",
         400.0
        ],
        [
         "pb",
         400.0
        ],
        [
         "tier",
         400.0
        ],
        [
         "up04003j",
         400.0
        ],
        [
         "10328",
         400.0
        ],
        [
         "w9x",
         400.0
        ],
        [
         "beginning",
         400.0
        ],
        [
         "accompany",
         133.33333333333334
        ],
        [
         "disklavier",
         133.33333333333334
        ],
        [
         "magically",
         133.33333333333334
        ],
        [
         "diskette",
         133.33333333333334
        ],
        [
         "achievement",
         133.33333333333334
        ],
        [
         "lifetime",
         400.0
        ],
        [
         "concealing",
         400.0
        ],
        [
         "eerie",
         400.0
        ],
        [
         "mental",
         400.0
        ],
        [
         "numerous",
         400.0
        ],
        [
         "geometry",
         400.0
        ],
        [
         "trans",
         400.0
        ],
        [
         "240000",
         400.0
        ],
        [
         "contemporary",
         200.0
        ],
        [
         "culture",
         400.0
        ],
        [
         "acoustic",
         400.0
        ],
        [
         "thoughts",
         400.0
        ],
        [
         "expanded",
         400.0
        ],
        [
         "subpoints",
         400.0
        ],
        [
         "propel",
         400.0
        ],
        [
         "mccartney",
         400.0
        ],
        [
         "8in",
         400.0
        ],
        [
         "10in",
         400.0
        ],
        [
         "prints",
         400.0
        ],
        [
         "optionv10",
         400.0
        ],
        [
         "death",
         400.0
        ],
        [
         "helicopters",
         400.0
        ],
        [
         "chopper",
         400.0
        ],
        [
         "inexhaustible",
         400.0
        ],
        [
         "fan",
         400.0
        ],
        [
         "displaying",
         400.0
        ],
        [
         "gps",
         400.0
        ],
        [
         "ringtone",
         400.0
        ],
        [
         "t03660",
         400.0
        ],
        [
         "tomo",
         400.0
        ],
        [
         "hal",
         400.0
        ],
        [
         "decimals",
         400.0
        ],
        [
         "realtime",
         400.0
        ],
        [
         "qb",
         400.0
        ],
        [
         "ds",
         400.0
        ],
        [
         "10900",
         400.0
        ],
        [
         "eras",
         400.0
        ],
        [
         "welcome",
         400.0
        ],
        [
         "supremes",
         400.0
        ],
        [
         "outline",
         400.0
        ],
        [
         "pushes",
         400.0
        ],
        [
         "donating",
         400.0
        ],
        [
         "briny",
         400.0
        ],
        [
         "hogfish",
         400.0
        ],
        [
         "stitch",
         400.0
        ],
        [
         "artists",
         133.33333333333334
        ],
        [
         "astronomy",
         400.0
        ],
        [
         "spacecraft",
         400.0
        ],
        [
         "hobby",
         400.0
        ],
        [
         "among",
         400.0
        ],
        [
         "documentary",
         400.0
        ],
        [
         "aircraft",
         400.0
        ],
        [
         "men",
         400.0
        ],
        [
         "10307",
         400.0
        ],
        [
         "m",
         400.0
        ],
        [
         "sight",
         400.0
        ],
        [
         "black",
         400.0
        ],
        [
         "hampton",
         400.0
        ],
        [
         "l00",
         400.0
        ],
        [
         "25000",
         400.0
        ],
        [
         "progressive",
         400.0
        ],
        [
         "kyoto",
         400.0
        ],
        [
         "xl",
         200.0
        ],
        [
         "sewing",
         400.0
        ],
        [
         "context",
         400.0
        ],
        [
         "ofworld",
         400.0
        ],
        [
         "imagemanager",
         400.0
        ],
        [
         "succeed",
         400.0
        ],
        [
         "elona",
         400.0
        ],
        [
         "selentine",
         400.0
        ],
        [
         "spells",
         400.0
        ],
        [
         "absolutely",
         400.0
        ],
        [
         "castle",
         400.0
        ],
        [
         "millies",
         400.0
        ],
        [
         "unsurpassed",
         400.0
        ],
        [
         "firmly",
         400.0
        ],
        [
         "homepage",
         400.0
        ],
        [
         "infection",
         400.0
        ],
        [
         "associates",
         57.142857142857146
        ],
        [
         "30pk",
         400.0
        ],
        [
         "1",
         8.51063829787234
        ],
        [
         "win",
         8.88888888888889
        ],
        [
         "8",
         18.181818181818183
        ],
        [
         "improve",
         66.66666666666667
        ],
        [
         "convert",
         23.529411764705884
        ],
        [
         "management",
         19.047619047619047
        ],
        [
         "2007",
         21.05263157894737
        ],
        [
         "use",
         7.017543859649122
        ],
        [
         "programs",
         40.0
        ],
        [
         "customization",
         200.0
        ],
        [
         "locking",
         200.0
        ],
        [
         "nonprofit",
         200.0
        ],
        [
         "assets",
         66.66666666666667
        ],
        [
         "year",
         66.66666666666667
        ],
        [
         "businesses",
         200.0
        ],
        [
         "accounts",
         200.0
        ],
        [
         "transactions",
         200.0
        ],
        [
         "carry",
         200.0
        ],
        [
         "retrospect",
         80.0
        ],
        [
         "ntsc",
         400.0
        ],
        [
         "layers",
         100.0
        ],
        [
         "professional",
         10.0
        ],
        [
         "presets",
         133.33333333333334
        ],
        [
         "animation",
         400.0
        ],
        [
         "masks",
         400.0
        ],
        [
         "caching",
         400.0
        ],
        [
         "output",
         100.0
        ],
        [
         "enterprise",
         23.529411764705884
        ],
        [
         "citrix",
         400.0
        ],
        [
         "0",
         8.695652173913043
        ],
        [
         "dragon",
         200.0
        ],
        [
         "overthree",
         400.0
        ],
        [
         "9",
         44.44444444444444
        ],
        [
         "anyone",
         66.66666666666667
        ],
        [
         "language",
         40.0
        ],
        [
         "typing",
         133.33333333333334
        ],
        [
         "safer",
         200.0
        ],
        [
         "corporateprofessionals",
         400.0
        ],
        [
         "academic",
         57.142857142857146
        ],
        [
         "math",
         40.0
        ],
        [
         "house",
         57.142857142857146
        ],
        [
         "kutoka",
         200.0
        ],
        [
         "secret",
         200.0
        ],
        [
         "monitor",
         40.0
        ],
        [
         "presented",
         200.0
        ],
        [
         "386",
         400.0
        ],
        [
         "basic",
         66.66666666666667
        ],
        [
         "mac",
         9.090909090909092
        ],
        [
         "networks",
         36.36363636363637
        ],
        [
         "nfsv4",
         400.0
        ],
        [
         "version",
         16.666666666666668
        ],
        [
         "links",
         133.33333333333334
        ],
        [
         "nis",
         400.0
        ],
        [
         "line",
         80.0
        ],
        [
         "specific",
         66.66666666666667
        ],
        [
         "seamless",
         100.0
        ],
        [
         "professionals",
         50.0
        ],
        [
         "interoperability",
         200.0
        ],
        [
         "edition",
         12.5
        ],
        [
         "integrated",
         50.0
        ],
        [
         "deploying",
         200.0
        ],
        [
         "creating",
         33.333333333333336
        ],
        [
         "end",
         57.142857142857146
        ],
        [
         "development",
         30.76923076923077
        ],
        [
         "v5",
         400.0
        ],
        [
         "reference",
         28.571428571428573
        ],
        [
         "explains",
         400.0
        ],
        [
         "views",
         400.0
        ],
        [
         "doc",
         400.0
        ],
        [
         "lic",
         40.0
        ],
        [
         "compaq",
         200.0
        ],
        [
         "point",
         50.0
        ],
        [
         "grows",
         200.0
        ],
        [
         "linked",
         133.33333333333334
        ],
        [
         "limited",
         100.0
        ],
        [
         "basis",
         133.33333333333334
        ],
        [
         "internet",
         21.05263157894737
        ],
        [
         "large",
         57.142857142857146
        ],
        [
         "sgms",
         400.0
        ],
        [
         "appliances",
         133.33333333333334
        ],
        [
         "configure",
         100.0
        ],
        [
         "site",
         40.0
        ],
        [
         "filtering",
         133.33333333333334
        ],
        [
         "allowing",
         133.33333333333334
        ],
        [
         "uncover",
         400.0
        ],
        [
         "presents",
         50.0
        ],
        [
         "mysteries",
         400.0
        ],
        [
         "seven",
         100.0
        ],
        [
         "award",
         33.333333333333336
        ],
        [
         "misc",
         400.0
        ],
        [
         "clear",
         200.0
        ],
        [
         "friendly",
         57.142857142857146
        ],
        [
         "truly",
         200.0
        ],
        [
         "643",
         400.0
        ],
        [
         "revised",
         400.0
        ],
        [
         "accessible",
         133.33333333333334
        ],
        [
         "student",
         200.0
        ],
        [
         "maps",
         400.0
        ],
        [
         "publications",
         133.33333333333334
        ],
        [
         "home",
         16.666666666666668
        ],
        [
         "means",
         200.0
        ],
        [
         "guesswork",
         200.0
        ],
        [
         "state",
         133.33333333333334
        ],
        [
         "always",
         50.0
        ],
        [
         "full",
         14.285714285714286
        ],
        [
         "corruption",
         400.0
        ],
        [
         "power",
         14.814814814814815
        ],
        [
         "several",
         133.33333333333334
        ],
        [
         "panel",
         200.0
        ],
        [
         "effect",
         400.0
        ],
        [
         "instant",
         23.529411764705884
        ],
        [
         "capture",
         36.36363636363637
        ],
        [
         "widest",
         400.0
        ],
        [
         "audio",
         30.76923076923077
        ],
        [
         "nested",
         400.0
        ],
        [
         "handle",
         133.33333333333334
        ],
        [
         "tapeless",
         400.0
        ],
        [
         "swf",
         400.0
        ],
        [
         "encore",
         28.571428571428573
        ],
        [
         "possible",
         50.0
        ],
        [
         "multi",
         30.76923076923077
        ],
        [
         "deadlines",
         400.0
        ],
        [
         "waveform",
         400.0
        ],
        [
         "benefit",
         100.0
        ],
        [
         "processes",
         100.0
        ],
        [
         "chapter",
         400.0
        ],
        [
         "replace",
         400.0
        ],
        [
         "separately",
         133.33333333333334
        ],
        [
         "disc",
         133.33333333333334
        ],
        [
         "three",
         50.0
        ],
        [
         "paste",
         100.0
        ],
        [
         "fine",
         400.0
        ],
        [
         "rerecord",
         400.0
        ],
        [
         "aspects",
         400.0
        ],
        [
         "viewable",
         200.0
        ],
        [
         "pointing",
         400.0
        ],
        [
         "ratio",
         400.0
        ],
        [
         "update",
         133.33333333333334
        ],
        [
         "timeline",
         200.0
        ],
        [
         "points",
         133.33333333333334
        ],
        [
         "expand",
         80.0
        ],
        [
         "educators",
         200.0
        ],
        [
         "programming",
         100.0
        ],
        [
         "calibrate",
         400.0
        ],
        [
         "tight",
         200.0
        ],
        [
         "things",
         80.0
        ],
        [
         "profile",
         400.0
        ],
        [
         "dvds",
         28.571428571428573
        ],
        [
         "searches",
         200.0
        ],
        [
         "boutiques",
         400.0
        ],
        [
         "compromising",
         400.0
        ],
        [
         "premiere",
         66.66666666666667
        ],
        [
         "preserving",
         400.0
        ],
        [
         "filters",
         200.0
        ],
        [
         "footage",
         400.0
        ],
        [
         "encode",
         400.0
        ],
        [
         "look",
         133.33333333333334
        ],
        [
         "projects",
         40.0
        ],
        [
         "authoring",
         66.66666666666667
        ],
        [
         "run",
         66.66666666666667
        ],
        [
         "high",
         16.0
        ],
        [
         "rest",
         200.0
        ],
        [
         "row",
         400.0
        ],
        [
         "names",
         200.0
        ],
        [
         "books",
         100.0
        ],
        [
         "novice",
         200.0
        ],
        [
         "rapidly",
         100.0
        ],
        [
         "shadow",
         400.0
        ],
        [
         "virtually",
         66.66666666666667
        ],
        [
         "customize",
         66.66666666666667
        ],
        [
         "prototypes",
         400.0
        ],
        [
         "similar",
         133.33333333333334
        ],
        [
         "flex",
         200.0
        ],
        [
         "cross",
         100.0
        ],
        [
         "layer",
         133.33333333333334
        ],
        [
         "divx",
         80.0
        ],
        [
         "take",
         16.666666666666668
        ],
        [
         "22",
         200.0
        ],
        [
         "watercolor",
         200.0
        ],
        [
         "rollover",
         200.0
        ],
        [
         "sets",
         200.0
        ],
        [
         "online",
         40.0
        ],
        [
         "getty",
         200.0
        ],
        [
         "100",
         36.36363636363637
        ],
        [
         "source",
         40.0
        ],
        [
         "template",
         133.33333333333334
        ],
        [
         "print",
         21.05263157894737
        ],
        [
         "designed",
         19.047619047619047
        ],
        [
         "banners",
         200.0
        ],
        [
         "square",
         200.0
        ],
        [
         "allow",
         100.0
        ],
        [
         "publish",
         133.33333333333334
        ],
        [
         "exciting",
         36.36363636363637
        ],
        [
         "usb",
         200.0
        ],
        [
         "install",
         200.0
        ],
        [
         "installed",
         200.0
        ],
        [
         "longer",
         200.0
        ],
        [
         "accidental",
         400.0
        ],
        [
         "band",
         133.33333333333334
        ],
        [
         "music",
         44.44444444444444
        ],
        [
         "low",
         133.33333333333334
        ],
        [
         "created",
         200.0
        ],
        [
         "minutes",
         57.142857142857146
        ],
        [
         "phone",
         133.33333333333334
        ],
        [
         "wmv",
         133.33333333333334
        ],
        [
         "browser",
         133.33333333333334
        ],
        [
         "2003",
         57.142857142857146
        ],
        [
         "mining",
         200.0
        ],
        [
         "trolans",
         400.0
        ],
        [
         "lab",
         133.33333333333334
        ],
        [
         "grades",
         100.0
        ],
        [
         "success",
         40.0
        ],
        [
         "edge",
         66.66666666666667
        ],
        [
         "trhough",
         400.0
        ],
        [
         "journey",
         100.0
        ],
        [
         "forces",
         200.0
        ],
        [
         "understand",
         100.0
        ],
        [
         "around",
         133.33333333333334
        ],
        [
         "presentation",
         133.33333333333334
        ],
        [
         "portraits",
         400.0
        ],
        [
         "captivate",
         400.0
        ],
        [
         "leaders",
         400.0
        ],
        [
         "satisfying",
         400.0
        ],
        [
         "planning",
         133.33333333333334
        ],
        [
         "mastercook",
         200.0
        ],
        [
         "desserts",
         400.0
        ],
        [
         "appetizers",
         400.0
        ],
        [
         "meal",
         400.0
        ],
        [
         "grams",
         400.0
        ],
        [
         "database",
         100.0
        ],
        [
         "commerce",
         133.33333333333334
        ],
        [
         "thumbnail",
         200.0
        ],
        [
         "clicks",
         100.0
        ],
        [
         "games",
         26.666666666666668
        ],
        [
         "evil",
         400.0
        ],
        [
         "roms",
         57.142857142857146
        ],
        [
         "breathtaking",
         400.0
        ],
        [
         "museum",
         133.33333333333334
        ],
        [
         "beauty",
         100.0
        ],
        [
         "rope",
         200.0
        ],
        [
         "spirits",
         400.0
        ],
        [
         "narrations",
         400.0
        ],
        [
         "creatures",
         133.33333333333334
        ],
        [
         "factory",
         400.0
        ],
        [
         "interact",
         400.0
        ],
        [
         "awards",
         400.0
        ],
        [
         "missions",
         133.33333333333334
        ],
        [
         "intense",
         200.0
        ],
        [
         "race",
         100.0
        ],
        [
         "science",
         66.66666666666667
        ],
        [
         "keeps",
         133.33333333333334
        ],
        [
         "dangers",
         133.33333333333334
        ],
        [
         "private",
         400.0
        ],
        [
         "removed",
         400.0
        ],
        [
         "reassigning",
         200.0
        ],
        [
         "mpeg",
         133.33333333333334
        ],
        [
         "four",
         66.66666666666667
        ],
        [
         "fish",
         57.142857142857146
        ],
        [
         "sleuths",
         200.0
        ],
        [
         "sing",
         133.33333333333334
        ],
        [
         "phony",
         400.0
        ],
        [
         "undersea",
         400.0
        ],
        [
         "33mhz",
         400.0
        ],
        [
         "dive",
         400.0
        ],
        [
         "festive",
         400.0
        ],
        [
         "mystery",
         133.33333333333334
        ],
        [
         "breaks",
         400.0
        ],
        [
         "netgear",
         400.0
        ],
        [
         "lzs",
         400.0
        ],
        [
         "des",
         200.0
        ],
        [
         "vpn01l",
         400.0
        ],
        [
         "3des",
         400.0
        ],
        [
         "public",
         400.0
        ],
        [
         "grand",
         400.0
        ],
        [
         "admin",
         200.0
        ],
        [
         "sngl",
         400.0
        ],
        [
         "beverage",
         200.0
        ],
        [
         "recipies",
         400.0
        ],
        [
         "stable",
         400.0
        ],
        [
         "unified",
         200.0
        ],
        [
         "junk",
         400.0
        ],
        [
         "unwanted",
         400.0
        ],
        [
         "workgroups",
         80.0
        ],
        [
         "assembly",
         400.0
        ],
        [
         "select",
         80.0
        ],
        [
         "trip",
         200.0
        ],
        [
         "strips",
         400.0
        ],
        [
         "ink",
         400.0
        ],
        [
         "acrobat",
         66.66666666666667
        ],
        [
         "strength",
         400.0
        ],
        [
         "fretboard",
         400.0
        ],
        [
         "acquired",
         400.0
        ],
        [
         "metronome",
         200.0
        ],
        [
         "clapton",
         400.0
        ],
        [
         "dictionary",
         80.0
        ],
        [
         "hackers",
         200.0
        ],
        [
         "authenticity",
         400.0
        ],
        [
         "transmit",
         400.0
        ],
        [
         "writing",
         100.0
        ],
        [
         "technique",
         200.0
        ],
        [
         "flashcards",
         400.0
        ],
        [
         "discussion",
         400.0
        ],
        [
         "answers",
         133.33333333333334
        ],
        [
         "psat",
         133.33333333333334
        ],
        [
         "personalized",
         200.0
        ],
        [
         "act",
         133.33333333333334
        ],
        [
         "sat",
         133.33333333333334
        ],
        [
         "flyer",
         400.0
        ],
        [
         "falling",
         400.0
        ],
        [
         "git",
         400.0
        ],
        [
         "45",
         400.0
        ],
        [
         "cut",
         100.0
        ],
        [
         "walls",
         100.0
        ],
        [
         "blackwood",
         400.0
        ],
        [
         "victorian",
         200.0
        ],
        [
         "universe",
         200.0
        ],
        [
         "argon",
         400.0
        ],
        [
         "rumors",
         400.0
        ],
        [
         "dramatica",
         200.0
        ],
        [
         "ravaged",
         400.0
        ],
        [
         "beasts",
         400.0
        ],
        [
         "mata",
         400.0
        ],
        [
         "realm",
         400.0
        ],
        [
         "scanned",
         200.0
        ],
        [
         "iriscard",
         200.0
        ],
        [
         "cable",
         400.0
        ],
        [
         "german",
         400.0
        ],
        [
         "minimize",
         400.0
        ],
        [
         "compact",
         80.0
        ],
        [
         "useful",
         200.0
        ],
        [
         "cardiris",
         400.0
        ],
        [
         "usoa307",
         400.0
        ],
        [
         "palm",
         100.0
        ],
        [
         "twain",
         400.0
        ],
        [
         "bcr",
         400.0
        ],
        [
         "touch",
         400.0
        ],
        [
         "locations",
         200.0
        ],
        [
         "directions",
         400.0
        ],
        [
         "autodesk",
         100.0
        ],
        [
         "autocad",
         200.0
        ],
        [
         "room",
         400.0
        ],
        [
         "pros",
         400.0
        ],
        [
         "cold",
         200.0
        ],
        [
         "weapons",
         400.0
        ],
        [
         "zero",
         133.33333333333334
        ],
        [
         "processed",
         200.0
        ],
        [
         "faithful",
         400.0
        ],
        [
         "estimates",
         400.0
        ],
        [
         "conventional",
         400.0
        ],
        [
         "k9",
         200.0
        ],
        [
         "evolving",
         400.0
        ],
        [
         "deployed",
         133.33333333333334
        ],
        [
         "fix",
         133.33333333333334
        ],
        [
         "jvc",
         400.0
        ],
        [
         "264",
         400.0
        ],
        [
         "pricing",
         200.0
        ],
        [
         "entertaining",
         200.0
        ],
        [
         "moves",
         100.0
        ],
        [
         "fogware",
         200.0
        ],
        [
         "reform",
         200.0
        ],
        [
         "ext",
         200.0
        ],
        [
         "shipment",
         400.0
        ],
        [
         "manual",
         400.0
        ],
        [
         "sends",
         400.0
        ],
        [
         "correctly",
         400.0
        ],
        [
         "coded",
         400.0
        ],
        [
         "manufacturers",
         400.0
        ],
        [
         "mailing",
         400.0
        ],
        [
         "compare",
         400.0
        ],
        [
         "guaranteed",
         200.0
        ],
        [
         "tracked",
         400.0
        ],
        [
         "valuation",
         400.0
        ],
        [
         "preferred",
         200.0
        ],
        [
         "vouchers",
         400.0
        ],
        [
         "17",
         200.0
        ],
        [
         "atlas",
         400.0
        ],
        [
         "ride",
         400.0
        ],
        [
         "shaped",
         400.0
        ],
        [
         "minds",
         400.0
        ],
        [
         "astronomers",
         400.0
        ],
        [
         "merriam",
         400.0
        ],
        [
         "tasty",
         400.0
        ],
        [
         "fats",
         400.0
        ],
        [
         "14",
         200.0
        ],
        [
         "wreckage",
         200.0
        ],
        [
         "titanic",
         200.0
        ],
        [
         "april",
         400.0
        ],
        [
         "league",
         200.0
        ],
        [
         "proportions",
         200.0
        ],
        [
         "ocean",
         133.33333333333334
        ],
        [
         "hallmark",
         100.0
        ],
        [
         "medieval",
         200.0
        ],
        [
         "diplomacy",
         400.0
        ],
        [
         "kings",
         200.0
        ],
        [
         "elegant",
         400.0
        ],
        [
         "cryptosystem",
         400.0
        ],
        [
         "serverlock",
         200.0
        ],
        [
         "increased",
         133.33333333333334
        ],
        [
         "rhyming",
         400.0
        ],
        [
         "fundamental",
         100.0
        ],
        [
         "learns",
         400.0
        ],
        [
         "chart",
         400.0
        ],
        [
         "rapid",
         200.0
        ],
        [
         "model",
         80.0
        ],
        [
         "chips",
         400.0
        ],
        [
         "sps",
         200.0
        ],
        [
         "microspot",
         200.0
        ],
        [
         "interiors",
         200.0
        ],
        [
         "needed",
         100.0
        ],
        [
         "revenue",
         400.0
        ],
        [
         "availability",
         100.0
        ],
        [
         "framework",
         100.0
        ],
        [
         "managerandquot",
         400.0
        ],
        [
         "assistant",
         400.0
        ],
        [
         "helping",
         133.33333333333334
        ],
        [
         "hr",
         400.0
        ],
        [
         "meet",
         80.0
        ],
        [
         "scalable",
         200.0
        ],
        [
         "direction",
         400.0
        ],
        [
         "third",
         133.33333333333334
        ],
        [
         "shifting",
         400.0
        ],
        [
         "fees",
         200.0
        ],
        [
         "opportunities",
         200.0
        ],
        [
         "widely",
         100.0
        ],
        [
         "leverage",
         133.33333333333334
        ],
        [
         "paths",
         200.0
        ],
        [
         "extendscript",
         400.0
        ],
        [
         "collaborate",
         400.0
        ],
        [
         "live",
         133.33333333333334
        ],
        [
         "craft",
         200.0
        ],
        [
         "tightly",
         400.0
        ],
        [
         "workarounds",
         400.0
        ],
        [
         "extensible",
         400.0
        ],
        [
         "allocate",
         400.0
        ],
        [
         "members",
         400.0
        ],
        [
         "xhtml",
         400.0
        ],
        [
         "flight",
         400.0
        ],
        [
         "exceed",
         200.0
        ],
        [
         "authorized",
         200.0
        ],
        [
         "rhf0211us",
         200.0
        ],
        [
         "area",
         400.0
        ],
        [
         "embedded",
         400.0
        ],
        [
         "brings",
         66.66666666666667
        ],
        [
         "functions",
         400.0
        ],
        [
         "cabletron",
         400.0
        ],
        [
         "ip",
         400.0
        ],
        [
         "systemsandquot",
         400.0
        ],
        [
         "nat",
         400.0
        ],
        [
         "enterasys",
         400.0
        ],
        [
         "fujitsu",
         400.0
        ],
        [
         "calendar",
         400.0
        ],
        [
         "statuses",
         400.0
        ],
        [
         "oversee",
         400.0
        ],
        [
         "impression",
         400.0
        ],
        [
         "mgr",
         400.0
        ],
        [
         "victors",
         400.0
        ],
        [
         "defeated",
         400.0
        ],
        [
         "unfortunately",
         400.0
        ],
        [
         "defy",
         400.0
        ],
        [
         "person",
         400.0
        ],
        [
         "throne",
         400.0
        ],
        [
         "xarax",
         400.0
        ],
        [
         "ruler",
         133.33333333333334
        ],
        [
         "infinity",
         200.0
        ],
        [
         "battles",
         200.0
        ],
        [
         "grass",
         400.0
        ],
        [
         "completing",
         400.0
        ],
        [
         "modeled",
         200.0
        ],
        [
         "storageworks",
         400.0
        ],
        [
         "prosoft",
         400.0
        ],
        [
         "hdtv",
         400.0
        ],
        [
         "rate",
         400.0
        ],
        [
         "phantom",
         400.0
        ],
        [
         "paced",
         133.33333333333334
        ],
        [
         "slots",
         400.0
        ],
        [
         "fastaction",
         400.0
        ],
        [
         "fluke",
         200.0
        ],
        [
         "survey",
         200.0
        ],
        [
         "residing",
         200.0
        ],
        [
         "gains",
         400.0
        ],
        [
         "consumer",
         133.33333333333334
        ],
        [
         "hw",
         400.0
        ],
        [
         "3u",
         400.0
        ],
        [
         "defragmenting",
         200.0
        ],
        [
         "blizzard",
         200.0
        ],
        [
         "incredible",
         400.0
        ],
        [
         "grader",
         400.0
        ],
        [
         "dedicated",
         200.0
        ],
        [
         "restored",
         400.0
        ],
        [
         "restoration",
         400.0
        ],
        [
         "blues",
         200.0
        ],
        [
         "hear",
         400.0
        ],
        [
         "fingerpicking",
         200.0
        ],
        [
         "bartending",
         200.0
        ],
        [
         "mixes",
         400.0
        ],
        [
         "snacks",
         200.0
        ],
        [
         "duplex",
         400.0
        ],
        [
         "minimizing",
         400.0
        ],
        [
         "internal",
         400.0
        ],
        [
         "decisionmaking",
         400.0
        ],
        [
         "poems",
         400.0
        ],
        [
         "scrapbooking",
         400.0
        ],
        [
         "intriguing",
         200.0
        ],
        [
         "viewing",
         400.0
        ],
        [
         "mysterious",
         200.0
        ],
        [
         "treacherous",
         400.0
        ],
        [
         "tomb",
         200.0
        ],
        [
         "deadly",
         400.0
        ],
        [
         "gaming",
         400.0
        ],
        [
         "fr",
         400.0
        ],
        [
         "expertise",
         400.0
        ],
        [
         "eco",
         400.0
        ],
        [
         "outperformed",
         400.0
        ],
        [
         "individually",
         400.0
        ],
        [
         "isi",
         400.0
        ],
        [
         "passive",
         400.0
        ],
        [
         "certain",
         400.0
        ],
        [
         "sudoku",
         400.0
        ],
        [
         "millions",
         400.0
        ],
        [
         "versus",
         400.0
        ],
        [
         "synthetic",
         400.0
        ],
        [
         "bac",
         400.0
        ],
        [
         "units",
         200.0
        ],
        [
         "mastering",
         200.0
        ],
        [
         "rooms",
         400.0
        ],
        [
         "g3",
         400.0
        ],
        [
         "loved",
         400.0
        ],
        [
         "02322",
         400.0
        ],
        [
         "25u",
         400.0
        ],
        [
         "ub2pesapra",
         400.0
        ],
        [
         "truprevent",
         400.0
        ],
        [
         "100800104",
         400.0
        ],
        [
         "rewards",
         400.0
        ],
        [
         "cookn",
         400.0
        ],
        [
         "television",
         400.0
        ],
        [
         "00369",
         400.0
        ],
        [
         "659556873790",
         400.0
        ],
        [
         "acts",
         400.0
        ],
        [
         "assists",
         400.0
        ],
        [
         "ridge",
         400.0
        ],
        [
         "push",
         400.0
        ],
        [
         "bluegrass",
         400.0
        ],
        [
         "pals",
         400.0
        ],
        [
         "musical",
         200.0
        ],
        [
         "aperture",
         400.0
        ],
        [
         "variant",
         133.33333333333334
        ],
        [
         "energize",
         400.0
        ],
        [
         "ds4800",
         400.0
        ],
        [
         "84",
         200.0
        ],
        [
         "talent",
         400.0
        ],
        [
         "eg04025",
         400.0
        ],
        [
         "readers",
         400.0
        ],
        [
         "photographers",
         400.0
        ],
        [
         "iii",
         100.0
        ],
        [
         "pianosmart",
         133.33333333333334
        ],
        [
         "mails",
         400.0
        ],
        [
         "feels",
         400.0
        ],
        [
         "atmospheric",
         400.0
        ],
        [
         "terrible",
         400.0
        ],
        [
         "spending",
         400.0
        ],
        [
         "mias",
         400.0
        ],
        [
         "authoritative",
         400.0
        ],
        [
         "triassic",
         400.0
        ],
        [
         "wondrous",
         400.0
        ],
        [
         "pr",
         400.0
        ],
        [
         "radeon",
         400.0
        ],
        [
         "9000",
         400.0
        ],
        [
         "heros",
         400.0
        ],
        [
         "500mb",
         400.0
        ],
        [
         "2gb",
         400.0
        ],
        [
         "orleans",
         400.0
        ],
        [
         "28453",
         400.0
        ],
        [
         "kick",
         400.0
        ],
        [
         "collapsed",
         400.0
        ],
        [
         "professionally",
         400.0
        ],
        [
         "experiment",
         400.0
        ],
        [
         "min",
         200.0
        ],
        [
         "paul",
         400.0
        ],
        [
         "myriad",
         400.0
        ],
        [
         "overflowing",
         400.0
        ],
        [
         "j",
         400.0
        ],
        [
         "antispam",
         400.0
        ],
        [
         "vandals",
         400.0
        ],
        [
         "electrical",
         400.0
        ],
        [
         "14100",
         400.0
        ],
        [
         "mob",
         400.0
        ],
        [
         "unknowingly",
         400.0
        ],
        [
         "forced",
         400.0
        ],
        [
         "glory",
         400.0
        ],
        [
         "headset",
         400.0
        ],
        [
         "swarm",
         400.0
        ],
        [
         "rittor",
         400.0
        ],
        [
         "roofs",
         400.0
        ],
        [
         "metric",
         400.0
        ],
        [
         "velocity",
         400.0
        ],
        [
         "pedalling",
         400.0
        ],
        [
         "canopus",
         400.0
        ],
        [
         "fewer",
         400.0
        ],
        [
         "788687400220",
         400.0
        ],
        [
         "endor",
         400.0
        ],
        [
         "tatooine",
         400.0
        ],
        [
         "ended",
         400.0
        ],
        [
         "disposing",
         400.0
        ],
        [
         "nmd",
         400.0
        ],
        [
         "del",
         400.0
        ],
        [
         "substantially",
         400.0
        ],
        [
         "desgin",
         400.0
        ],
        [
         "leader",
         400.0
        ],
        [
         "hailed",
         400.0
        ],
        [
         "comets",
         400.0
        ],
        [
         "cuban",
         400.0
        ],
        [
         "monsters",
         400.0
        ],
        [
         "examples",
         400.0
        ],
        [
         "babwbr1151s05",
         400.0
        ],
        [
         "r39",
         400.0
        ],
        [
         "gene",
         400.0
        ],
        [
         "lionel",
         400.0
        ],
        [
         "sharks",
         400.0
        ],
        [
         "kobe",
         400.0
        ],
        [
         "holiday",
         400.0
        ],
        [
         "copydvds",
         400.0
        ],
        [
         "establishes",
         400.0
        ],
        [
         "iteasy",
         400.0
        ],
        [
         "lfl",
         400.0
        ],
        [
         "barnyard",
         400.0
        ],
        [
         "pyramids",
         400.0
        ],
        [
         "breakout",
         400.0
        ],
        [
         "enduring",
         400.0
        ],
        [
         "harmful",
         400.0
        ],
        [
         "annoying",
         400.0
        ],
        [
         "30u",
         400.0
        ],
        [
         "noah",
         200.0
        ],
        [
         "case",
         33.333333333333336
        ],
        [
         "ages",
         50.0
        ],
        [
         "restore",
         50.0
        ],
        [
         "receivable",
         400.0
        ],
        [
         "costing",
         400.0
        ],
        [
         "rock",
         66.66666666666667
        ],
        [
         "made",
         44.44444444444444
        ],
        [
         "includes",
         10.81081081081081
        ],
        [
         "organization",
         80.0
        ],
        [
         "premium",
         30.76923076923077
        ],
        [
         "nonprofits",
         200.0
        ],
        [
         "operating",
         25.0
        ],
        [
         "dollar",
         200.0
        ],
        [
         "payable",
         400.0
        ],
        [
         "forms",
         36.36363636363637
        ],
        [
         "data",
         12.5
        ],
        [
         "profiles",
         200.0
        ],
        [
         "thousands",
         40.0
        ],
        [
         "products",
         57.142857142857146
        ],
        [
         "nt",
         40.0
        ],
        [
         "emc",
         100.0
        ],
        [
         "5",
         11.764705882352942
        ],
        [
         "parameters",
         400.0
        ],
        [
         "easier",
         28.571428571428573
        ],
        [
         "video",
         12.903225806451612
        ],
        [
         "workers",
         200.0
        ],
        [
         "canuse",
         400.0
        ],
        [
         "product",
         11.764705882352942
        ],
        [
         "recognition",
         50.0
        ],
        [
         "english",
         22.22222222222222
        ],
        [
         "corel",
         400.0
        ],
        [
         "acad",
         400.0
        ],
        [
         "wordperfect",
         400.0
        ],
        [
         "tocreate",
         400.0
        ],
        [
         "natural",
         80.0
        ],
        [
         "times",
         50.0
        ],
        [
         "also",
         15.384615384615385
        ],
        [
         "write",
         133.33333333333334
        ],
        [
         "children",
         36.36363636363637
        ],
        [
         "bundle",
         57.142857142857146
        ],
        [
         "education",
         400.0
        ],
        [
         "develop",
         50.0
        ],
        [
         "better",
         30.76923076923077
        ],
        [
         "giftseven",
         400.0
        ],
        [
         "well",
         23.529411764705884
        ],
        [
         "thoughtfully",
         200.0
        ],
        [
         "drive",
         25.0
        ],
        [
         "giver",
         200.0
        ],
        [
         "joy",
         200.0
        ],
        [
         "webnfs",
         400.0
        ],
        [
         "rfc",
         400.0
        ],
        [
         "nfs",
         400.0
        ],
        [
         "mount",
         400.0
        ],
        [
         "hosts",
         400.0
        ],
        [
         "de",
         400.0
        ],
        [
         "including",
         16.0
        ],
        [
         "bi",
         200.0
        ],
        [
         "strong",
         400.0
        ],
        [
         "operation",
         80.0
        ],
        [
         "2005",
         40.0
        ],
        [
         "managing",
         100.0
        ],
        [
         "across",
         26.666666666666668
        ],
        [
         "routine",
         200.0
        ],
        [
         "automation",
         200.0
        ],
        [
         "spy",
         133.33333333333334
        ],
        [
         "comp",
         200.0
        ],
        [
         "b22",
         400.0
        ],
        [
         "face",
         200.0
        ],
        [
         "flexible",
         23.529411764705884
        ],
        [
         "gives",
         25.0
        ],
        [
         "location",
         57.142857142857146
        ],
        [
         "staffing",
         200.0
        ],
        [
         "flaw",
         200.0
        ],
        [
         "subnetworks",
         200.0
        ],
        [
         "node",
         133.33333333333334
        ],
        [
         "provider",
         100.0
        ],
        [
         "virus",
         80.0
        ],
        [
         "vpn",
         50.0
        ],
        [
         "distributed",
         80.0
        ],
        [
         "attacks",
         80.0
        ],
        [
         "important",
         25.0
        ],
        [
         "environment",
         44.44444444444444
        ],
        [
         "lowers",
         200.0
        ],
        [
         "spyware",
         100.0
        ],
        [
         "physiology",
         200.0
        ],
        [
         "complexities",
         400.0
        ],
        [
         "body",
         80.0
        ],
        [
         "explore",
         33.333333333333336
        ],
        [
         "instruction",
         66.66666666666667
        ],
        [
         "animated",
         80.0
        ],
        [
         "entries",
         400.0
        ],
        [
         "superior",
         100.0
        ],
        [
         "navigation",
         200.0
        ],
        [
         "helps",
         44.44444444444444
        ],
        [
         "updated",
         200.0
        ],
        [
         "simulations",
         400.0
        ],
        [
         "chords",
         80.0
        ],
        [
         "industry",
         80.0
        ],
        [
         "theprint",
         400.0
        ],
        [
         "programis",
         400.0
        ],
        [
         "printshop",
         100.0
        ],
        [
         "orbusinessproduct",
         400.0
        ],
        [
         "critical",
         40.0
        ],
        [
         "straightforward",
         400.0
        ],
        [
         "crash",
         400.0
        ],
        [
         "kids",
         33.333333333333336
        ],
        [
         "fun",
         20.0
        ],
        [
         "review",
         66.66666666666667
        ],
        [
         "definition",
         133.33333333333334
        ],
        [
         "efficiently",
         100.0
        ],
        [
         "students",
         33.333333333333336
        ],
        [
         "embed",
         400.0
        ],
        [
         "exporting",
         200.0
        ],
        [
         "workspace",
         200.0
        ],
        [
         "mapped",
         400.0
        ],
        [
         "problems",
         66.66666666666667
        ],
        [
         "choose",
         66.66666666666667
        ],
        [
         "included",
         57.142857142857146
        ],
        [
         "serial",
         100.0
        ],
        [
         "list",
         100.0
        ],
        [
         "spectrum",
         400.0
        ],
        [
         "post",
         400.0
        ],
        [
         "shortcuts",
         400.0
        ],
        [
         "available",
         33.333333333333336
        ],
        [
         "clips",
         80.0
        ],
        [
         "capturing",
         400.0
        ],
        [
         "copy",
         66.66666666666667
        ],
        [
         "videographers",
         400.0
        ],
        [
         "plug",
         100.0
        ],
        [
         "built",
         100.0
        ],
        [
         "productivity",
         36.36363636363637
        ],
        [
         "producing",
         133.33333333333334
        ],
        [
         "promotional",
         400.0
        ],
        [
         "avoid",
         200.0
        ],
        [
         "twice",
         400.0
        ],
        [
         "materials",
         100.0
        ],
        [
         "get",
         13.793103448275861
        ],
        [
         "accelerated",
         400.0
        ],
        [
         "232",
         400.0
        ],
        [
         "fast",
         25.0
        ],
        [
         "hollywood",
         400.0
        ],
        [
         "purchased",
         200.0
        ],
        [
         "streamline",
         100.0
        ],
        [
         "another",
         80.0
        ],
        [
         "moving",
         400.0
        ],
        [
         "compelling",
         200.0
        ],
        [
         "switching",
         400.0
        ],
        [
         "nuts",
         400.0
        ],
        [
         "pixel",
         400.0
        ],
        [
         "monitoring",
         400.0
        ],
        [
         "insert",
         200.0
        ],
        [
         "animate",
         200.0
        ],
        [
         "camera",
         200.0
        ],
        [
         "wide",
         57.142857142857146
        ],
        [
         "correction",
         200.0
        ],
        [
         "setting",
         80.0
        ],
        [
         "telling",
         200.0
        ],
        [
         "within",
         66.66666666666667
        ],
        [
         "contains",
         57.142857142857146
        ],
        [
         "unique",
         26.666666666666668
        ],
        [
         "front",
         200.0
        ],
        [
         "collectible",
         400.0
        ],
        [
         "collector",
         133.33333333333334
        ],
        [
         "photos",
         26.666666666666668
        ],
        [
         "11",
         40.0
        ],
        [
         "historian",
         400.0
        ],
        [
         "positioning",
         400.0
        ],
        [
         "intelligently",
         400.0
        ],
        [
         "document",
         40.0
        ],
        [
         "structure",
         400.0
        ],
        [
         "vivid",
         400.0
        ],
        [
         "scenario",
         400.0
        ],
        [
         "images",
         33.333333333333336
        ],
        [
         "optimizing",
         400.0
        ],
        [
         "intelligent",
         200.0
        ],
        [
         "flow",
         133.33333333333334
        ],
        [
         "gamma",
         400.0
        ],
        [
         "character",
         133.33333333333334
        ],
        [
         "object",
         200.0
        ],
        [
         "compression",
         100.0
        ],
        [
         "mix",
         57.142857142857146
        ],
        [
         "hierarchical",
         400.0
        ],
        [
         "saved",
         200.0
        ],
        [
         "blend",
         200.0
        ],
        [
         "advantage",
         133.33333333333334
        ],
        [
         "xvid",
         200.0
        ],
        [
         "level",
         30.76923076923077
        ],
        [
         "postcard",
         200.0
        ],
        [
         "ways",
         50.0
        ],
        [
         "limit",
         100.0
        ],
        [
         "greeting",
         100.0
        ],
        [
         "cool",
         200.0
        ],
        [
         "850",
         400.0
        ],
        [
         "much",
         57.142857142857146
        ],
        [
         "printable",
         66.66666666666667
        ],
        [
         "stationery",
         200.0
        ],
        [
         "next",
         50.0
        ],
        [
         "thrive",
         200.0
        ],
        [
         "possibilities",
         80.0
        ],
        [
         "often",
         200.0
        ],
        [
         "damaged",
         400.0
        ],
        [
         "viruses",
         133.33333333333334
        ],
        [
         "deleted",
         400.0
        ],
        [
         "runs",
         80.0
        ],
        [
         "recognized",
         80.0
        ],
        [
         "traditions",
         400.0
        ],
        [
         "pristine",
         200.0
        ],
        [
         "course",
         133.33333333333334
        ],
        [
         "whatever",
         400.0
        ],
        [
         "pda",
         400.0
        ],
        [
         "copies",
         200.0
        ],
        [
         "transfer",
         200.0
        ],
        [
         "conversion",
         133.33333333333334
        ],
        [
         "500",
         200.0
        ],
        [
         "powerfulvisualization",
         400.0
        ],
        [
         "par",
         400.0
        ],
        [
         "precisiondrawings",
         400.0
        ],
        [
         "tri",
         200.0
        ],
        [
         "scumware",
         400.0
        ],
        [
         "threats",
         133.33333333333334
        ],
        [
         "immersion",
         50.0
        ],
        [
         "elementary",
         200.0
        ],
        [
         "national",
         66.66666666666667
        ],
        [
         "launch",
         200.0
        ],
        [
         "almanac",
         400.0
        ],
        [
         "unrivaled",
         200.0
        ],
        [
         "athletes",
         400.0
        ],
        [
         "dog",
         133.33333333333334
        ],
        [
         "sjust",
         400.0
        ],
        [
         "carbs",
         400.0
        ],
        [
         "wizards",
         200.0
        ],
        [
         "hit",
         100.0
        ],
        [
         "running",
         133.33333333333334
        ],
        [
         "condition",
         200.0
        ],
        [
         "tours",
         200.0
        ],
        [
         "examine",
         200.0
        ],
        [
         "china",
         400.0
        ],
        [
         "vehicles",
         200.0
        ],
        [
         "rescue",
         200.0
        ],
        [
         "pumper",
         400.0
        ],
        [
         "done",
         100.0
        ],
        [
         "town",
         100.0
        ],
        [
         "handles",
         400.0
        ],
        [
         "shine",
         400.0
        ],
        [
         "sony",
         133.33333333333334
        ],
        [
         "educational",
         66.66666666666667
        ],
        [
         "trap",
         400.0
        ],
        [
         "practically",
         100.0
        ],
        [
         "supported",
         200.0
        ],
        [
         "transport",
         400.0
        ],
        [
         "preshared",
         400.0
        ],
        [
         "pentium",
         66.66666666666667
        ],
        [
         "chains",
         200.0
        ],
        [
         "modp",
         400.0
        ],
        [
         "35",
         200.0
        ],
        [
         "mom",
         200.0
        ],
        [
         "mlp",
         133.33333333333334
        ],
        [
         "pmi",
         400.0
        ],
        [
         "corporation",
         50.0
        ],
        [
         "choices",
         133.33333333333334
        ],
        [
         "dinner",
         200.0
        ],
        [
         "drinks",
         200.0
        ],
        [
         "postfix",
         400.0
        ],
        [
         "experienced",
         200.0
        ],
        [
         "collaboration",
         200.0
        ],
        [
         "apache",
         400.0
        ],
        [
         "openldap",
         400.0
        ],
        [
         "jabber",
         400.0
        ],
        [
         "apple",
         100.0
        ],
        [
         "specifications",
         400.0
        ],
        [
         "durable",
         400.0
        ],
        [
         "8x10",
         400.0
        ],
        [
         "printed",
         200.0
        ],
        [
         "assembled",
         400.0
        ],
        [
         "28",
         400.0
        ],
        [
         "800",
         400.0
        ],
        [
         "teams",
         133.33333333333334
        ],
        [
         "gorgeous",
         100.0
        ],
        [
         "revenge",
         400.0
        ],
        [
         "lessons",
         44.44444444444444
        ],
        [
         "improvisation",
         400.0
        ],
        [
         "ii",
         80.0
        ],
        [
         "bestselling",
         400.0
        ],
        [
         "weaknesses",
         400.0
        ],
        [
         "synchronizes",
         200.0
        ],
        [
         "securely",
         400.0
        ],
        [
         "stringing",
         200.0
        ],
        [
         "song",
         400.0
        ],
        [
         "manor",
         400.0
        ],
        [
         "market",
         133.33333333333334
        ],
        [
         "noises",
         400.0
        ],
        [
         "tales",
         400.0
        ],
        [
         "director",
         200.0
        ],
        [
         "alternate",
         400.0
        ],
        [
         "cockpit",
         400.0
        ],
        [
         "sequel",
         400.0
        ],
        [
         "fi",
         400.0
        ],
        [
         "pirates",
         400.0
        ],
        [
         "ltd",
         100.0
        ],
        [
         "expansion",
         400.0
        ],
        [
         "army",
         400.0
        ],
        [
         "land",
         133.33333333333334
        ],
        [
         "battle",
         100.0
        ],
        [
         "called",
         100.0
        ],
        [
         "readiris",
         400.0
        ],
        [
         "since",
         100.0
        ],
        [
         "travel",
         100.0
        ],
        [
         "box",
         66.66666666666667
        ],
        [
         "contact",
         200.0
        ],
        [
         "inside",
         200.0
        ],
        [
         "captured",
         200.0
        ],
        [
         "pocket",
         400.0
        ],
        [
         "wherabouts",
         400.0
        ],
        [
         "soon",
         400.0
        ],
        [
         "computrace",
         200.0
        ],
        [
         "driven",
         400.0
        ],
        [
         "unpredictable",
         400.0
        ],
        [
         "aggregation",
         200.0
        ],
        [
         "saving",
         100.0
        ],
        [
         "completely",
         200.0
        ],
        [
         "opponent",
         400.0
        ],
        [
         "remember",
         200.0
        ],
        [
         "opponents",
         200.0
        ],
        [
         "endpoint",
         200.0
        ],
        [
         "b100",
         200.0
        ],
        [
         "consists",
         400.0
        ],
        [
         "agents",
         200.0
        ],
        [
         "http",
         400.0
        ],
        [
         "3gp",
         400.0
        ],
        [
         "buzby",
         200.0
        ],
        [
         "bowling",
         200.0
        ],
        [
         "finally",
         200.0
        ],
        [
         "capability",
         200.0
        ],
        [
         "reliably",
         200.0
        ],
        [
         "upcoming",
         400.0
        ],
        [
         "transaction",
         400.0
        ],
        [
         "ring",
         400.0
        ],
        [
         "shipping",
         200.0
        ],
        [
         "vendor",
         80.0
        ],
        [
         "connected",
         200.0
        ],
        [
         "commissions",
         400.0
        ],
        [
         "register",
         400.0
        ],
        [
         "sales",
         200.0
        ],
        [
         "finances",
         400.0
        ],
        [
         "receiving",
         400.0
        ],
        [
         "upc",
         400.0
        ],
        [
         "ordinary",
         400.0
        ],
        [
         "retailers",
         400.0
        ],
        [
         "day",
         80.0
        ],
        [
         "sell",
         400.0
        ],
        [
         "tricky",
         400.0
        ],
        [
         "statistics",
         400.0
        ],
        [
         "webster",
         400.0
        ],
        [
         "notecard",
         400.0
        ],
        [
         "noted",
         133.33333333333334
        ],
        [
         "mathematicians",
         400.0
        ],
        [
         "laureates",
         200.0
        ],
        [
         "sugars",
         400.0
        ],
        [
         "n",
         400.0
        ],
        [
         "weekly",
         400.0
        ],
        [
         "immerses",
         400.0
        ],
        [
         "iceberg",
         400.0
        ],
        [
         "xi",
         133.33333333333334
        ],
        [
         "crystal",
         100.0
        ],
        [
         "nova",
         100.0
        ],
        [
         "gain",
         200.0
        ],
        [
         "reputation",
         200.0
        ],
        [
         "prestige",
         400.0
        ],
        [
         "39400416",
         400.0
        ],
        [
         "239",
         400.0
        ],
        [
         "elliptical",
         400.0
        ],
        [
         "clickable",
         400.0
        ],
        [
         "fortune",
         200.0
        ],
        [
         "170",
         400.0
        ],
        [
         "bold",
         400.0
        ],
        [
         "innovative",
         57.142857142857146
        ],
        [
         "translation",
         400.0
        ],
        [
         "cromserver",
         400.0
        ],
        [
         "replication",
         400.0
        ],
        [
         "edr",
         400.0
        ],
        [
         "guardianos",
         400.0
        ],
        [
         "toolkit",
         200.0
        ],
        [
         "memos",
         400.0
        ],
        [
         "reminders",
         400.0
        ],
        [
         "objective",
         400.0
        ],
        [
         "ratings",
         400.0
        ],
        [
         "libraries",
         400.0
        ],
        [
         "analys",
         400.0
        ],
        [
         "reexamine",
         400.0
        ],
        [
         "react",
         200.0
        ],
        [
         "illustration",
         400.0
        ],
        [
         "equip",
         400.0
        ],
        [
         "downsample",
         400.0
        ],
        [
         "indesign",
         200.0
        ],
        [
         "workflows",
         133.33333333333334
        ],
        [
         "link",
         400.0
        ],
        [
         "realize",
         400.0
        ],
        [
         "awkward",
         400.0
        ],
        [
         "transparency",
         200.0
        ],
        [
         "ajax",
         400.0
        ],
        [
         "royalty",
         133.33333333333334
        ],
        [
         "javascript",
         400.0
        ],
        [
         "coordinate",
         400.0
        ],
        [
         "v6",
         80.0
        ],
        [
         "1yr",
         400.0
        ],
        [
         "nw",
         200.0
        ],
        [
         "prod",
         100.0
        ],
        [
         "continue",
         200.0
        ],
        [
         "volume",
         80.0
        ],
        [
         "centrally",
         200.0
        ],
        [
         "mechanism",
         400.0
        ],
        [
         "predetermined",
         400.0
        ],
        [
         "bills",
         400.0
        ],
        [
         "driving",
         400.0
        ],
        [
         "opt",
         400.0
        ],
        [
         "san",
         200.0
        ],
        [
         "xsrandquot",
         400.0
        ],
        [
         "complements",
         400.0
        ],
        [
         "aggregate",
         400.0
        ],
        [
         "bandwidth",
         200.0
        ],
        [
         "multilayer",
         400.0
        ],
        [
         "unmatched",
         400.0
        ],
        [
         "combined",
         400.0
        ],
        [
         "connectivity",
         80.0
        ],
        [
         "primavera",
         400.0
        ],
        [
         "ent",
         400.0
        ],
        [
         "esk9",
         400.0
        ],
        [
         "largest",
         400.0
        ],
        [
         "firmware",
         400.0
        ],
        [
         "currently",
         200.0
        ],
        [
         "graphs",
         400.0
        ],
        [
         "canadian",
         400.0
        ],
        [
         "29180162",
         400.0
        ],
        [
         "masked",
         400.0
        ],
        [
         "ruins",
         400.0
        ],
        [
         "armies",
         400.0
        ],
        [
         "lands",
         133.33333333333334
        ],
        [
         "astral",
         400.0
        ],
        [
         "conflict",
         133.33333333333334
        ],
        [
         "fashioned",
         400.0
        ],
        [
         "half",
         133.33333333333334
        ],
        [
         "fold",
         200.0
        ],
        [
         "30mb",
         400.0
        ],
        [
         "marine",
         133.33333333333334
        ],
        [
         "amazingly",
         200.0
        ],
        [
         "seabed",
         400.0
        ],
        [
         "underwater",
         133.33333333333334
        ],
        [
         "b26",
         200.0
        ],
        [
         "gif",
         400.0
        ],
        [
         "reel",
         200.0
        ],
        [
         "playvideo",
         400.0
        ],
        [
         "rf",
         400.0
        ],
        [
         "optimal",
         400.0
        ],
        [
         "verify",
         200.0
        ],
        [
         "whichever",
         400.0
        ],
        [
         "as400",
         400.0
        ],
        [
         "architecture",
         400.0
        ],
        [
         "fantasy",
         200.0
        ],
        [
         "enroll",
         400.0
        ],
        [
         "diskettes",
         400.0
        ],
        [
         "usable",
         400.0
        ],
        [
         "rebuilding",
         400.0
        ],
        [
         "picking",
         400.0
        ],
        [
         "folk",
         400.0
        ],
        [
         "roar",
         400.0
        ],
        [
         "energy",
         400.0
        ],
        [
         "notation",
         200.0
        ],
        [
         "165",
         400.0
        ],
        [
         "101",
         200.0
        ],
        [
         "karaoke",
         200.0
        ],
        [
         "showcase",
         400.0
        ],
        [
         "consignment",
         400.0
        ],
        [
         "traps",
         400.0
        ],
        [
         "raider",
         200.0
        ],
        [
         "intrepid",
         400.0
        ],
        [
         "rad",
         400.0
        ],
        [
         "isvs",
         400.0
        ],
        [
         "modeling",
         200.0
        ],
        [
         "component",
         400.0
        ],
        [
         "globally",
         400.0
        ],
        [
         "dictionaries",
         400.0
        ],
        [
         "firesboxes",
         400.0
        ],
        [
         "livesecurity",
         400.0
        ],
        [
         "standby",
         400.0
        ],
        [
         "decipher",
         400.0
        ],
        [
         "kakuro",
         200.0
        ],
        [
         "care",
         400.0
        ],
        [
         "01",
         133.33333333333334
        ],
        [
         "map",
         400.0
        ],
        [
         "sierrahome",
         400.0
        ],
        [
         "tan",
         400.0
        ],
        [
         "mpn",
         80.0
        ],
        [
         "functionalityto",
         400.0
        ],
        [
         "2yr",
         400.0
        ],
        [
         "firehouse",
         400.0
        ],
        [
         "zachary",
         400.0
        ],
        [
         "addictive",
         200.0
        ],
        [
         "states",
         400.0
        ],
        [
         "1963",
         400.0
        ],
        [
         "movements",
         400.0
        ],
        [
         "xoom",
         200.0
        ],
        [
         "00416",
         400.0
        ],
        [
         "exconn",
         400.0
        ],
        [
         "opens",
         400.0
        ],
        [
         "slowdowns",
         400.0
        ],
        [
         "steve",
         200.0
        ],
        [
         "rolling",
         400.0
        ],
        [
         "entertained",
         400.0
        ],
        [
         "tutorial",
         133.33333333333334
        ],
        [
         "ints3",
         400.0
        ],
        [
         "eat",
         400.0
        ],
        [
         "hottest",
         400.0
        ],
        [
         "status",
         400.0
        ],
        [
         "rnwl",
         400.0
        ],
        [
         "empower",
         133.33333333333334
        ],
        [
         "naturally",
         400.0
        ],
        [
         "chuck",
         400.0
        ],
        [
         "calendars",
         400.0
        ],
        [
         "00050",
         400.0
        ],
        [
         "forgotten",
         400.0
        ],
        [
         "interior",
         400.0
        ],
        [
         "deck",
         400.0
        ],
        [
         "fractions",
         200.0
        ],
        [
         "170000",
         400.0
        ],
        [
         "countless",
         400.0
        ],
        [
         "velociraptor",
         400.0
        ],
        [
         "freinds",
         400.0
        ],
        [
         "nvidia",
         400.0
        ],
        [
         "grayscale",
         400.0
        ],
        [
         "headings",
         400.0
        ],
        [
         "arbors",
         400.0
        ],
        [
         "heights",
         400.0
        ],
        [
         "k",
         400.0
        ],
        [
         "packaging",
         400.0
        ],
        [
         "phase",
         400.0
        ],
        [
         "crime",
         400.0
        ],
        [
         "patented",
         400.0
        ],
        [
         "compose",
         400.0
        ],
        [
         "lesson",
         400.0
        ],
        [
         "imports",
         400.0
        ],
        [
         "extension",
         400.0
        ],
        [
         "plants",
         400.0
        ],
        [
         "assume",
         400.0
        ],
        [
         "railings",
         400.0
        ],
        [
         "dreams",
         400.0
        ],
        [
         "2050xf",
         400.0
        ],
        [
         "nine",
         200.0
        ],
        [
         "west",
         400.0
        ],
        [
         "kamino",
         400.0
        ],
        [
         "understanding",
         400.0
        ],
        [
         "floods",
         400.0
        ],
        [
         "ross",
         400.0
        ],
        [
         "notetaker",
         400.0
        ],
        [
         "aquaminds",
         400.0
        ],
        [
         "universalis",
         400.0
        ],
        [
         "rdp",
         400.0
        ],
        [
         "reasoning",
         400.0
        ],
        [
         "mermaids",
         400.0
        ],
        [
         "demanding",
         400.0
        ],
        [
         "hdb0006wwcs180",
         400.0
        ],
        [
         "rebate",
         400.0
        ],
        [
         "latin",
         400.0
        ],
        [
         "introduces",
         400.0
        ],
        [
         "woman",
         400.0
        ],
        [
         "fs",
         400.0
        ],
        [
         "fs2002",
         400.0
        ],
        [
         "geared",
         400.0
        ],
        [
         "legends",
         400.0
        ],
        [
         "vhs",
         400.0
        ],
        [
         "mito",
         400.0
        ],
        [
         "5130",
         400.0
        ],
        [
         "measures",
         400.0
        ],
        [
         "ondvd",
         400.0
        ],
        [
         "highlight",
         400.0
        ],
        [
         "guild",
         400.0
        ],
        [
         "satisfy",
         400.0
        ],
        [
         "confidently",
         400.0
        ],
        [
         "00257",
         400.0
        ],
        [
         "premier",
         100.0
        ],
        [
         "oem",
         133.33333333333334
        ],
        [
         "center",
         200.0
        ],
        [
         "sage",
         200.0
        ],
        [
         "wizard",
         80.0
        ],
        [
         "job",
         66.66666666666667
        ],
        [
         "integrity",
         80.0
        ],
        [
         "reporting",
         100.0
        ],
        [
         "record",
         57.142857142857146
        ],
        [
         "provides",
         22.22222222222222
        ],
        [
         "maximize",
         100.0
        ],
        [
         "individual",
         44.44444444444444
        ],
        [
         "archive",
         100.0
        ],
        [
         "grantor",
         400.0
        ],
        [
         "organizations",
         50.0
        ],
        [
         "striving",
         200.0
        ],
        [
         "xp",
         12.5
        ],
        [
         "save",
         33.333333333333336
        ],
        [
         "tighter",
         400.0
        ],
        [
         "cs",
         400.0
        ],
        [
         "firewire",
         133.33333333333334
        ],
        [
         "name",
         25.0
        ],
        [
         "benefits",
         33.333333333333336
        ],
        [
         "naturallyspeaking",
         200.0
        ],
        [
         "compensationpremiums",
         400.0
        ],
        [
         "accurate",
         28.571428571428573
        ],
        [
         "andpowerpoint",
         400.0
        ],
        [
         "9make",
         400.0
        ],
        [
         "speech",
         400.0
        ],
        [
         "organizationmoney",
         400.0
        ],
        [
         "repetitive",
         400.0
        ],
        [
         "environments",
         57.142857142857146
        ],
        [
         "miscellaneous",
         100.0
        ],
        [
         "type",
         17.391304347826086
        ],
        [
         "platform",
         44.44444444444444
        ],
        [
         "messages",
         133.33333333333334
        ],
        [
         "buzz",
         200.0
        ],
        [
         "1st",
         200.0
        ],
        [
         "grade",
         100.0
        ],
        [
         "256",
         133.33333333333334
        ],
        [
         "sound",
         50.0
        ],
        [
         "speakers",
         400.0
        ],
        [
         "different",
         33.333333333333336
        ],
        [
         "09",
         400.0
        ],
        [
         "techniques",
         80.0
        ],
        [
         "requirements",
         15.384615384615385
        ],
        [
         "network",
         22.22222222222222
        ],
        [
         "protocol",
         200.0
        ],
        [
         "security",
         17.391304347826086
        ],
        [
         "ldap",
         400.0
        ],
        [
         "latest",
         50.0
        ],
        [
         "active",
         100.0
        ],
        [
         "operations",
         80.0
        ],
        [
         "setgid",
         400.0
        ],
        [
         "supports",
         66.66666666666667
        ],
        [
         "64",
         80.0
        ],
        [
         "kernel",
         200.0
        ],
        [
         "directory",
         200.0
        ],
        [
         "mobile",
         66.66666666666667
        ],
        [
         "business",
         14.285714285714286
        ],
        [
         "tasks",
         100.0
        ],
        [
         "536",
         400.0
        ],
        [
         "folders",
         100.0
        ],
        [
         "fields",
         100.0
        ],
        [
         "designer",
         57.142857142857146
        ],
        [
         "providers",
         133.33333333333334
        ],
        [
         "global",
         36.36363636363637
        ],
        [
         "incremental",
         200.0
        ],
        [
         "policies",
         200.0
        ],
        [
         "already",
         80.0
        ],
        [
         "central",
         57.142857142857146
        ],
        [
         "effective",
         36.36363636363637
        ],
        [
         "branches",
         200.0
        ],
        [
         "multiple",
         30.76923076923077
        ],
        [
         "human",
         133.33333333333334
        ],
        [
         "anatomy",
         200.0
        ],
        [
         "zone",
         200.0
        ],
        [
         "houses",
         400.0
        ],
        [
         "counting",
         400.0
        ],
        [
         "ibm",
         100.0
        ],
        [
         "cookies",
         400.0
        ],
        [
         "even",
         14.285714285714286
        ],
        [
         "duck",
         400.0
        ],
        [
         "640",
         400.0
        ],
        [
         "scales",
         80.0
        ],
        [
         "renowned",
         200.0
        ],
        [
         "quickly",
         26.666666666666668
        ],
        [
         "suite",
         14.814814814814815
        ],
        [
         "eliminating",
         133.33333333333334
        ],
        [
         "stomp",
         133.33333333333334
        ],
        [
         "communicate",
         100.0
        ],
        [
         "levels",
         50.0
        ],
        [
         "used",
         57.142857142857146
        ],
        [
         "multicam",
         400.0
        ],
        [
         "uncompressed",
         400.0
        ],
        [
         "right",
         20.0
        ],
        [
         "aspect",
         200.0
        ],
        [
         "cameras",
         400.0
        ],
        [
         "ensure",
         80.0
        ],
        [
         "finishing",
         400.0
        ],
        [
         "phones",
         400.0
        ],
        [
         "cs3k",
         400.0
        ],
        [
         "flash",
         80.0
        ],
        [
         "everywhere",
         400.0
        ],
        [
         "become",
         80.0
        ],
        [
         "size",
         80.0
        ],
        [
         "making",
         80.0
        ],
        [
         "computers",
         66.66666666666667
        ],
        [
         "motion",
         66.66666666666667
        ],
        [
         "sequences",
         400.0
        ],
        [
         "hd",
         100.0
        ],
        [
         "corrector",
         400.0
        ],
        [
         "422",
         400.0
        ],
        [
         "versions",
         80.0
        ],
        [
         "delivering",
         200.0
        ],
        [
         "imagery",
         200.0
        ],
        [
         "graphical",
         80.0
        ],
        [
         "may",
         50.0
        ],
        [
         "demand",
         200.0
        ],
        [
         "creative",
         30.76923076923077
        ],
        [
         "export",
         57.142857142857146
        ],
        [
         "formats",
         44.44444444444444
        ],
        [
         "effectively",
         80.0
        ],
        [
         "additional",
         28.571428571428573
        ],
        [
         "hdv",
         200.0
        ],
        [
         "tell",
         400.0
        ],
        [
         "best",
         22.22222222222222
        ],
        [
         "corporate",
         66.66666666666667
        ],
        [
         "replaced",
         400.0
        ],
        [
         "recapturing",
         400.0
        ],
        [
         "style",
         66.66666666666667
        ],
        [
         "stage",
         200.0
        ],
        [
         "uncompromised",
         400.0
        ],
        [
         "mean",
         133.33333333333334
        ],
        [
         "tracks",
         133.33333333333334
        ],
        [
         "put",
         133.33333333333334
        ],
        [
         "icopydvds2",
         133.33333333333334
        ],
        [
         "enjoying",
         200.0
        ],
        [
         "fill",
         400.0
        ],
        [
         "tree",
         100.0
        ],
        [
         "maker",
         200.0
        ],
        [
         "treasured",
         100.0
        ],
        [
         "avid",
         400.0
        ],
        [
         "prebuilt",
         400.0
        ],
        [
         "jpeg",
         133.33333333333334
        ],
        [
         "vector",
         100.0
        ],
        [
         "include",
         33.333333333333336
        ],
        [
         "design",
         14.285714285714286
        ],
        [
         "streamlined",
         100.0
        ],
        [
         "multistates",
         400.0
        ],
        [
         "slices",
         400.0
        ],
        [
         "appearance",
         400.0
        ],
        [
         "selective",
         400.0
        ],
        [
         "maintaining",
         133.33333333333334
        ],
        [
         "pin",
         200.0
        ],
        [
         "shape",
         400.0
        ],
        [
         "controls",
         80.0
        ],
        [
         "powerpc",
         50.0
        ],
        [
         "page",
         33.333333333333336
        ],
        [
         "aided",
         400.0
        ],
        [
         "visuals",
         400.0
        ],
        [
         "fans",
         200.0
        ],
        [
         "oom",
         80.0
        ],
        [
         "movies",
         66.66666666666667
        ],
        [
         "watch",
         57.142857142857146
        ],
        [
         "letters",
         100.0
        ],
        [
         "nbs",
         400.0
        ],
        [
         "master",
         50.0
        ],
        [
         "booklet",
         200.0
        ],
        [
         "advantages",
         200.0
        ],
        [
         "turn",
         28.571428571428573
        ],
        [
         "keyword",
         133.33333333333334
        ],
        [
         "seasonal",
         200.0
        ],
        [
         "draw",
         133.33333333333334
        ],
        [
         "convenient",
         66.66666666666667
        ],
        [
         "sophisticated",
         80.0
        ],
        [
         "give",
         100.0
        ],
        [
         "conveniently",
         200.0
        ],
        [
         "pictures",
         66.66666666666667
        ],
        [
         "customizing",
         100.0
        ],
        [
         "sheet",
         133.33333333333334
        ],
        [
         "designing",
         100.0
        ],
        [
         "designs",
         133.33333333333334
        ],
        [
         "postcards",
         133.33333333333334
        ],
        [
         "templates",
         57.142857142857146
        ],
        [
         "fat16",
         400.0
        ],
        [
         "ata",
         400.0
        ],
        [
         "raid",
         400.0
        ],
        [
         "keyboard",
         200.0
        ],
        [
         "formatted",
         400.0
        ],
        [
         "eudora",
         400.0
        ],
        [
         "erasing",
         400.0
        ],
        [
         "caused",
         400.0
        ],
        [
         "teaches",
         200.0
        ],
        [
         "bible",
         133.33333333333334
        ],
        [
         "reinforces",
         400.0
        ],
        [
         "years",
         66.66666666666667
        ],
        [
         "le",
         400.0
        ],
        [
         "copying",
         400.0
        ],
        [
         "burns",
         200.0
        ],
        [
         "thrilled",
         400.0
        ],
        [
         "selected",
         200.0
        ],
        [
         "simultaneous",
         400.0
        ],
        [
         "dolby",
         200.0
        ],
        [
         "larger",
         100.0
        ],
        [
         "clone",
         133.33333333333334
        ],
        [
         "svcds",
         400.0
        ],
        [
         "informationit",
         400.0
        ],
        [
         "wildest",
         400.0
        ],
        [
         "nbsp",
         100.0
        ],
        [
         "sketches",
         200.0
        ],
        [
         "block",
         400.0
        ],
        [
         "goes",
         66.66666666666667
        ],
        [
         "malware",
         400.0
        ],
        [
         "known",
         100.0
        ],
        [
         "tracking",
         200.0
        ],
        [
         "plusedition",
         400.0
        ],
        [
         "redshift",
         200.0
        ],
        [
         "planets",
         133.33333333333334
        ],
        [
         "packed",
         133.33333333333334
        ],
        [
         "earth",
         400.0
        ],
        [
         "us",
         133.33333333333334
        ],
        [
         "endorsed",
         400.0
        ],
        [
         "nobel",
         133.33333333333334
        ],
        [
         "pulitzer",
         400.0
        ],
        [
         "histories",
         400.0
        ],
        [
         "sacrifice",
         200.0
        ],
        [
         "recipe",
         100.0
        ],
        [
         "eating",
         200.0
        ],
        [
         "carb",
         200.0
        ],
        [
         "peak",
         100.0
        ],
        [
         "velvet",
         200.0
        ],
        [
         "collections",
         133.33333333333334
        ],
        [
         "invention",
         400.0
        ],
        [
         "head",
         133.33333333333334
        ],
        [
         "must",
         80.0
        ],
        [
         "fire",
         66.66666666666667
        ],
        [
         "unlocked",
         400.0
        ],
        [
         "airport",
         400.0
        ],
        [
         "improves",
         400.0
        ],
        [
         "think",
         200.0
        ],
        [
         "identity",
         133.33333333333334
        ],
        [
         "resizes",
         400.0
        ],
        [
         "commercial",
         200.0
        ],
        [
         "starring",
         400.0
        ],
        [
         "landdesigner",
         400.0
        ],
        [
         "crab",
         400.0
        ],
        [
         "svga",
         400.0
        ],
        [
         "ghosts",
         200.0
        ],
        [
         "super",
         133.33333333333334
        ],
        [
         "items",
         200.0
        ],
        [
         "soundtrack",
         200.0
        ],
        [
         "goal",
         200.0
        ],
        [
         "guppies",
         200.0
        ],
        [
         "fvl328",
         400.0
        ],
        [
         "vpns",
         400.0
        ],
        [
         "ike",
         400.0
        ],
        [
         "mechanisms",
         200.0
        ],
        [
         "fvs318",
         400.0
        ],
        [
         "aes",
         400.0
        ],
        [
         "1024",
         133.33333333333334
        ],
        [
         "processor",
         40.0
        ],
        [
         "wireless",
         100.0
        ],
        [
         "bdorfer",
         400.0
        ],
        [
         "datawatch",
         400.0
        ],
        [
         "treasures",
         133.33333333333334
        ],
        [
         "occasion",
         200.0
        ],
        [
         "integrates",
         100.0
        ],
        [
         "spamassassin",
         400.0
        ],
        [
         "details",
         66.66666666666667
        ],
        [
         "snapshot",
         400.0
        ],
        [
         "epson",
         200.0
        ],
        [
         "kit",
         100.0
        ],
        [
         "long",
         133.33333333333334
        ],
        [
         "jet",
         400.0
        ],
        [
         "reunion",
         133.33333333333334
        ],
        [
         "3gb",
         133.33333333333334
        ],
        [
         "extranets",
         400.0
        ],
        [
         "22101258",
         400.0
        ],
        [
         "cinematics",
         400.0
        ],
        [
         "eric",
         400.0
        ],
        [
         "demonstrated",
         133.33333333333334
        ],
        [
         "exposed",
         400.0
        ],
        [
         "scanning",
         100.0
        ],
        [
         "automated",
         80.0
        ],
        [
         "score",
         133.33333333333334
        ],
        [
         "approach",
         200.0
        ],
        [
         "thorough",
         200.0
        ],
        [
         "nation",
         200.0
        ],
        [
         "diagnostic",
         400.0
        ],
        [
         "safe",
         200.0
        ],
        [
         "dataviz",
         400.0
        ],
        [
         "spot",
         400.0
        ],
        [
         "developed",
         100.0
        ],
        [
         "cutting",
         200.0
        ],
        [
         "institute",
         400.0
        ],
        [
         "got",
         66.66666666666667
        ],
        [
         "hours",
         33.333333333333336
        ],
        [
         "echo",
         400.0
        ],
        [
         "appears",
         400.0
        ],
        [
         "continuing",
         400.0
        ],
        [
         "rumor",
         400.0
        ],
        [
         "situation",
         400.0
        ],
        [
         "related",
         400.0
        ],
        [
         "govt",
         133.33333333333334
        ],
        [
         "assurance",
         200.0
        ],
        [
         "discord",
         400.0
        ],
        [
         "abilities",
         200.0
        ],
        [
         "vision",
         133.33333333333334
        ],
        [
         "omens",
         400.0
        ],
        [
         "eyes",
         400.0
        ],
        [
         "darkhollow",
         400.0
        ],
        [
         "country",
         200.0
        ],
        [
         "foes",
         400.0
        ],
        [
         "cromprofessional",
         400.0
        ],
        [
         "screenshots",
         400.0
        ],
        [
         "road",
         400.0
        ],
        [
         "scattered",
         400.0
        ],
        [
         "album",
         400.0
        ],
        [
         "goodcontacts",
         400.0
        ],
        [
         "away",
         100.0
        ],
        [
         "companies",
         200.0
        ],
        [
         "organizer",
         400.0
        ],
        [
         "field",
         400.0
        ],
        [
         "detail",
         100.0
        ],
        [
         "individuals",
         200.0
        ],
        [
         "fly",
         200.0
        ],
        [
         "utilizes",
         200.0
        ],
        [
         "dpi",
         200.0
        ],
        [
         "trade",
         400.0
        ],
        [
         "laptop",
         100.0
        ],
        [
         "go",
         80.0
        ],
        [
         "53",
         400.0
        ],
        [
         "sharepoint",
         400.0
        ],
        [
         "em",
         200.0
        ],
        [
         "vicious",
         400.0
        ],
        [
         "mercy",
         400.0
        ],
        [
         "redesigned",
         200.0
        ],
        [
         "5u",
         400.0
        ],
        [
         "operate",
         133.33333333333334
        ],
        [
         "last",
         133.33333333333334
        ],
        [
         "atari",
         100.0
        ],
        [
         "reproductions",
         400.0
        ],
        [
         "ite",
         400.0
        ],
        [
         "cash",
         200.0
        ],
        [
         "climb",
         200.0
        ],
        [
         "destineer",
         100.0
        ],
        [
         "typically",
         400.0
        ],
        [
         "cisco",
         100.0
        ],
        [
         "csa",
         200.0
        ],
        [
         "sockets",
         400.0
        ],
        [
         "identifying",
         400.0
        ],
        [
         "srvr",
         133.33333333333334
        ],
        [
         "layered",
         200.0
        ],
        [
         "everio",
         400.0
        ],
        [
         "memories",
         200.0
        ],
        [
         "perform",
         57.142857142857146
        ],
        [
         "hermie",
         200.0
        ],
        [
         "scores",
         200.0
        ],
        [
         "iggy",
         400.0
        ],
        [
         "value",
         80.0
        ],
        [
         "join",
         100.0
        ],
        [
         "std",
         200.0
        ],
        [
         "route",
         400.0
        ],
        [
         "days",
         57.142857142857146
        ],
        [
         "www",
         133.33333333333334
        ],
        [
         "hot",
         133.33333333333334
        ],
        [
         "loads",
         400.0
        ],
        [
         "team",
         100.0
        ],
        [
         "2004",
         400.0
        ],
        [
         "ringing",
         400.0
        ],
        [
         "eliminate",
         200.0
        ],
        [
         "preferences",
         200.0
        ],
        [
         "sale",
         400.0
        ],
        [
         "merchant",
         400.0
        ],
        [
         "2002",
         133.33333333333334
        ],
        [
         "reduce",
         200.0
        ],
        [
         "redeem",
         400.0
        ],
        [
         "kept",
         400.0
        ],
        [
         "bookkeeping",
         400.0
        ],
        [
         "issues",
         400.0
        ],
        [
         "suggest",
         400.0
        ],
        [
         "inventories",
         400.0
        ],
        [
         "selling",
         100.0
        ],
        [
         "procedures",
         400.0
        ],
        [
         "britannica",
         200.0
        ],
        [
         "alike",
         200.0
        ],
        [
         "homework",
         400.0
        ],
        [
         "others",
         133.33333333333334
        ],
        [
         "70",
         200.0
        ],
        [
         "ingredients",
         200.0
        ],
        [
         "salts",
         400.0
        ],
        [
         "lose",
         400.0
        ],
        [
         "artifacts",
         133.33333333333334
        ],
        [
         "envelopes",
         400.0
        ],
        [
         "watchguard",
         133.33333333333334
        ],
        [
         "novastor",
         400.0
        ],
        [
         "relationships",
         200.0
        ],
        [
         "endearing",
         400.0
        ],
        [
         "cat",
         200.0
        ],
        [
         "ham",
         400.0
        ],
        [
         "spatial",
         400.0
        ],
        [
         "green",
         200.0
        ],
        [
         "morality",
         400.0
        ],
        [
         "pk",
         133.33333333333334
        ],
        [
         "university",
         400.0
        ],
        [
         "240",
         400.0
        ],
        [
         "offered",
         400.0
        ],
        [
         "coated",
         400.0
        ],
        [
         "uncoated",
         400.0
        ],
        [
         "connector",
         400.0
        ],
        [
         "c",
         80.0
        ],
        [
         "10000",
         200.0
        ],
        [
         "toward",
         400.0
        ],
        [
         "departments",
         400.0
        ],
        [
         "treat",
         400.0
        ],
        [
         "offshore",
         400.0
        ],
        [
         "scheduling",
         200.0
        ],
        [
         "centers",
         400.0
        ],
        [
         "appraiser",
         400.0
        ],
        [
         "calculator",
         400.0
        ],
        [
         "suppliers",
         400.0
        ],
        [
         "amount",
         400.0
        ],
        [
         "competitive",
         133.33333333333334
        ],
        [
         "requiring",
         400.0
        ],
        [
         "continuously",
         400.0
        ],
        [
         "leave",
         200.0
        ],
        [
         "iso",
         400.0
        ],
        [
         "interactively",
         400.0
        ],
        [
         "installer",
         400.0
        ],
        [
         "visually",
         400.0
        ],
        [
         "conditions",
         200.0
        ],
        [
         "typographic",
         400.0
        ],
        [
         "artwork",
         400.0
        ],
        [
         "locate",
         200.0
        ],
        [
         "prepare",
         400.0
        ],
        [
         "intent",
         400.0
        ],
        [
         "smooth",
         100.0
        ],
        [
         "reliability",
         66.66666666666667
        ],
        [
         "agreement",
         200.0
        ],
        [
         "concepts",
         200.0
        ],
        [
         "nondestructively",
         400.0
        ],
        [
         "specialized",
         400.0
        ],
        [
         "governed",
         400.0
        ],
        [
         "meetings",
         133.33333333333334
        ],
        [
         "uac",
         400.0
        ],
        [
         "tlo",
         400.0
        ],
        [
         "brightstor",
         200.0
        ],
        [
         "42050142",
         200.0
        ],
        [
         "demographic",
         400.0
        ],
        [
         "stor",
         400.0
        ],
        [
         "wan",
         400.0
        ],
        [
         "significantly",
         200.0
        ],
        [
         "ideally",
         400.0
        ],
        [
         "wkgrp",
         400.0
        ],
        [
         "3745",
         400.0
        ],
        [
         "summaries",
         400.0
        ],
        [
         "aec",
         400.0
        ],
        [
         "truetype",
         400.0
        ],
        [
         "generating",
         400.0
        ],
        [
         "enter",
         133.33333333333334
        ],
        [
         "essence",
         400.0
        ],
        [
         "bellarion",
         400.0
        ],
        [
         "mortagorn",
         400.0
        ],
        [
         "sent",
         400.0
        ],
        [
         "refused",
         400.0
        ],
        [
         "shader",
         400.0
        ],
        [
         "arswaargh",
         400.0
        ],
        [
         "claimed",
         400.0
        ],
        [
         "wunders",
         200.0
        ],
        [
         "feed",
         400.0
        ],
        [
         "sea",
         200.0
        ],
        [
         "scene",
         200.0
        ],
        [
         "engineering",
         200.0
        ],
        [
         "simplifying",
         200.0
        ],
        [
         "antenna",
         400.0
        ],
        [
         "b",
         100.0
        ],
        [
         "documentation",
         200.0
        ],
        [
         "subtle",
         400.0
        ],
        [
         "measurement",
         400.0
        ],
        [
         "equipment",
         200.0
        ],
        [
         "extends",
         400.0
        ],
        [
         "newest",
         400.0
        ],
        [
         "sec",
         400.0
        ],
        [
         "invisitasking",
         200.0
        ],
        [
         "60",
         133.33333333333334
        ],
        [
         "steps",
         200.0
        ],
        [
         "drastically",
         400.0
        ],
        [
         "happen",
         400.0
        ],
        [
         "holding",
         400.0
        ],
        [
         "expert",
         100.0
        ],
        [
         "glass",
         400.0
        ],
        [
         "val",
         200.0
        ],
        [
         "say",
         400.0
        ],
        [
         "physics",
         400.0
        ],
        [
         "agile",
         400.0
        ],
        [
         "checker",
         400.0
        ],
        [
         "synonym",
         400.0
        ],
        [
         "keywords",
         400.0
        ],
        [
         "p",
         200.0
        ],
        [
         "firebox",
         400.0
        ],
        [
         "puzzle",
         200.0
        ],
        [
         "unsure",
         400.0
        ],
        [
         "shores",
         400.0
        ],
        [
         "casual",
         200.0
        ],
        [
         "networked",
         400.0
        ],
        [
         "universal",
         100.0
        ],
        [
         "multicore",
         200.0
        ],
        [
         "maroon",
         400.0
        ],
        [
         "loops",
         400.0
        ],
        [
         "jc",
         80.0
        ],
        [
         "walk",
         400.0
        ],
        [
         "calls",
         400.0
        ],
        [
         "overview",
         22.22222222222222
        ],
        [
         "tour",
         400.0
        ],
        [
         "mind",
         200.0
        ],
        [
         "unites",
         400.0
        ],
        [
         "america",
         400.0
        ],
        [
         "scientific",
         400.0
        ],
        [
         "plots",
         400.0
        ],
        [
         "wkgp",
         400.0
        ],
        [
         "loss",
         400.0
        ],
        [
         "watching",
         400.0
        ],
        [
         "tournaments",
         200.0
        ],
        [
         "h22",
         400.0
        ],
        [
         "olympus",
         400.0
        ],
        [
         "calumet",
         400.0
        ],
        [
         "peerless",
         400.0
        ],
        [
         "mark",
         133.33333333333334
        ],
        [
         "wn4",
         400.0
        ],
        [
         "enthusiasts",
         400.0
        ],
        [
         "zenith",
         400.0
        ],
        [
         "uniquely",
         400.0
        ],
        [
         "thomas",
         400.0
        ],
        [
         "mangione",
         400.0
        ],
        [
         "infinite",
         400.0
        ],
        [
         "toolbox",
         400.0
        ],
        [
         "treasure",
         400.0
        ],
        [
         "java",
         400.0
        ],
        [
         "dict",
         400.0
        ],
        [
         "benches",
         400.0
        ],
        [
         "structures",
         400.0
        ],
        [
         "shelves",
         400.0
        ],
        [
         "immerse",
         400.0
        ],
        [
         "10dwindows",
         400.0
        ],
        [
         "kfull",
         400.0
        ],
        [
         "x4",
         400.0
        ],
        [
         "punch",
         200.0
        ],
        [
         "illegal",
         400.0
        ],
        [
         "villain",
         400.0
        ],
        [
         "28008",
         400.0
        ],
        [
         "boss",
         400.0
        ],
        [
         "thick",
         400.0
        ],
        [
         "danger",
         400.0
        ],
        [
         "sp4",
         400.0
        ],
        [
         "98se",
         200.0
        ],
        [
         "trailers",
         400.0
        ],
        [
         "groupshield",
         400.0
        ],
        [
         "furious",
         400.0
        ],
        [
         "80542",
         400.0
        ],
        [
         "forty",
         400.0
        ],
        [
         "east",
         400.0
        ],
        [
         "breakthrough",
         400.0
        ],
        [
         "trilogy",
         400.0
        ],
        [
         "fires",
         400.0
        ],
        [
         "locusts",
         400.0
        ],
        [
         "gear",
         400.0
        ],
        [
         "utilising",
         400.0
        ],
        [
         "kingdoms",
         400.0
        ],
        [
         "26162vendor",
         400.0
        ],
        [
         "permanently",
         400.0
        ],
        [
         "v1",
         400.0
        ],
        [
         "qty",
         400.0
        ],
        [
         "replaces",
         400.0
        ],
        [
         "extraordinarily",
         400.0
        ],
        [
         "fs2004",
         400.0
        ],
        [
         "civilizations",
         400.0
        ],
        [
         "ptree",
         400.0
        ],
        [
         "position",
         400.0
        ],
        [
         "thunderous",
         400.0
        ],
        [
         "10282",
         400.0
        ],
        [
         "none",
         400.0
        ],
        [
         "informationinspire",
         400.0
        ],
        [
         "950000",
         400.0
        ],
        [
         "recovered",
         400.0
        ],
        [
         "cast",
         400.0
        ],
        [
         "mickey",
         400.0
        ],
        [
         "rising",
         400.0
        ],
        [
         "added",
         400.0
        ],
        [
         "broderbund",
         200.0
        ],
        [
         "backup",
         36.36363636363637
        ],
        [
         "3",
         9.30232558139535
        ],
        [
         "victory",
         200.0
        ],
        [
         "re",
         21.05263157894737
        ],
        [
         "fixed",
         400.0
        ],
        [
         "plus",
         16.666666666666668
        ],
        [
         "solid",
         133.33333333333334
        ],
        [
         "accounting",
         133.33333333333334
        ],
        [
         "user",
         9.523809523809524
        ],
        [
         "time",
         10.0
        ],
        [
         "funds",
         400.0
        ],
        [
         "quickbooks",
         133.33333333333334
        ],
        [
         "software",
         4.25531914893617
        ],
        [
         "audit",
         400.0
        ],
        [
         "snap",
         80.0
        ],
        [
         "coach",
         100.0
        ],
        [
         "dantz",
         100.0
        ],
        [
         "preserved",
         400.0
        ],
        [
         "previewing",
         200.0
        ],
        [
         "effects",
         26.666666666666668
        ],
        [
         "6",
         20.0
        ],
        [
         "stressinjuries",
         400.0
        ],
        [
         "thin",
         400.0
        ],
        [
         "employees",
         66.66666666666667
        ],
        [
         "information",
         12.5
        ],
        [
         "reports",
         30.76923076923077
        ],
        [
         "special",
         40.0
        ],
        [
         "professionalto",
         400.0
        ],
        [
         "section",
         100.0
        ],
        [
         "word",
         44.44444444444444
        ],
        [
         "busy",
         400.0
        ],
        [
         "faster",
         25.0
        ],
        [
         "required",
         50.0
        ],
        [
         "bluetooth",
         400.0
        ],
        [
         "office",
         44.44444444444444
        ],
        [
         "temporary",
         400.0
        ],
        [
         "fd7",
         400.0
        ],
        [
         "thantyping",
         400.0
        ],
        [
         "outlook",
         80.0
        ],
        [
         "administration",
         200.0
        ],
        [
         "adventure",
         26.666666666666668
        ],
        [
         "skills",
         18.181818181818183
        ],
        [
         "keys",
         133.33333333333334
        ],
        [
         "bit",
         22.22222222222222
        ],
        [
         "x",
         12.903225806451612
        ],
        [
         "recipient",
         200.0
        ],
        [
         "boxes",
         200.0
        ],
        [
         "art",
         36.36363636363637
        ],
        [
         "implementations",
         400.0
        ],
        [
         "enabled",
         133.33333333333334
        ],
        [
         "access",
         20.0
        ],
        [
         "hard",
         19.047619047619047
        ],
        [
         "hummingbird",
         133.33333333333334
        ],
        [
         "maestro",
         400.0
        ],
        [
         "32",
         100.0
        ],
        [
         "server",
         21.05263157894737
        ],
        [
         "intelligence",
         133.33333333333334
        ],
        [
         "complexity",
         100.0
        ],
        [
         "domino",
         400.0
        ],
        [
         "pages",
         36.36363636363637
        ],
        [
         "231327",
         400.0
        ],
        [
         "0c",
         133.33333333333334
        ],
        [
         "v3",
         133.33333333333334
        ],
        [
         "1000",
         100.0
        ],
        [
         "infrastructure",
         66.66666666666667
        ],
        [
         "intuitive",
         28.571428571428573
        ],
        [
         "strain",
         200.0
        ],
        [
         "upg",
         33.333333333333336
        ],
        [
         "enforcing",
         200.0
        ],
        [
         "enables",
         21.05263157894737
        ],
        [
         "malicious",
         100.0
        ],
        [
         "consuming",
         200.0
        ],
        [
         "scale",
         100.0
        ],
        [
         "topics",
         13.333333333333334
        ],
        [
         "subtraction",
         200.0
        ],
        [
         "30",
         80.0
        ],
        [
         "build",
         33.333333333333336
        ],
        [
         "bugs",
         133.33333333333334
        ],
        [
         "wacky",
         400.0
        ],
        [
         "featuring",
         66.66666666666667
        ],
        [
         "crucial",
         400.0
        ],
        [
         "animations",
         133.33333333333334
        ],
        [
         "retrieve",
         200.0
        ],
        [
         "table",
         400.0
        ],
        [
         "42",
         400.0
        ],
        [
         "chord",
         200.0
        ],
        [
         "charts",
         200.0
        ],
        [
         "disasters",
         200.0
        ],
        [
         "preserve",
         200.0
        ],
        [
         "instantly",
         133.33333333333334
        ],
        [
         "window",
         400.0
        ],
        [
         "dv",
         133.33333333333334
        ],
        [
         "download",
         200.0
        ],
        [
         "markers",
         400.0
        ],
        [
         "reach",
         200.0
        ],
        [
         "blu",
         200.0
        ],
        [
         "requires",
         50.0
        ],
        [
         "bolts",
         400.0
        ],
        [
         "timewarp",
         400.0
        ],
        [
         "drag",
         57.142857142857146
        ],
        [
         "impact",
         200.0
        ],
        [
         "audience",
         133.33333333333334
        ],
        [
         "enjoy",
         44.44444444444444
        ],
        [
         "player",
         66.66666666666667
        ],
        [
         "websites",
         66.66666666666667
        ],
        [
         "part",
         44.44444444444444
        ],
        [
         "rs",
         400.0
        ],
        [
         "drop",
         66.66666666666667
        ],
        [
         "events",
         200.0
        ],
        [
         "producers",
         400.0
        ],
        [
         "rack",
         400.0
        ],
        [
         "people",
         133.33333333333334
        ],
        [
         "author",
         133.33333333333334
        ],
        [
         "values",
         400.0
        ],
        [
         "sd",
         400.0
        ],
        [
         "batch",
         133.33333333333334
        ],
        [
         "toolset",
         133.33333333333334
        ],
        [
         "focus",
         133.33333333333334
        ],
        [
         "smoothly",
         200.0
        ],
        [
         "signal",
         400.0
        ],
        [
         "efficiency",
         100.0
        ],
        [
         "lighting",
         133.33333333333334
        ],
        [
         "redefines",
         400.0
        ],
        [
         "highest",
         200.0
        ],
        [
         "vol",
         400.0
        ],
        [
         "sites",
         133.33333333333334
        ],
        [
         "rich",
         50.0
        ],
        [
         "popular",
         44.44444444444444
        ],
        [
         "filter",
         400.0
        ],
        [
         "graphic",
         80.0
        ],
        [
         "psd",
         400.0
        ],
        [
         "frequently",
         400.0
        ],
        [
         "vectors",
         400.0
        ],
        [
         "dramatically",
         133.33333333333334
        ],
        [
         "prototype",
         400.0
        ],
        [
         "cad",
         400.0
        ],
        [
         "growing",
         200.0
        ],
        [
         "tv",
         200.0
        ],
        [
         "guides",
         133.33333333333334
        ],
        [
         "endless",
         200.0
        ],
        [
         "backgrounds",
         80.0
        ],
        [
         "fonts",
         100.0
        ],
        [
         "400",
         66.66666666666667
        ],
        [
         "complement",
         200.0
        ],
        [
         "program",
         28.571428571428573
        ],
        [
         "dynamic",
         66.66666666666667
        ],
        [
         "borderless",
         200.0
        ],
        [
         "logo",
         200.0
        ],
        [
         "history",
         66.66666666666667
        ],
        [
         "receive",
         133.33333333333334
        ],
        [
         "partitions",
         400.0
        ],
        [
         "failures",
         400.0
        ],
        [
         "slip",
         200.0
        ],
        [
         "works",
         100.0
        ],
        [
         "ntfs",
         400.0
        ],
        [
         "hacker",
         400.0
        ],
        [
         "first",
         33.333333333333336
        ],
        [
         "brought",
         400.0
        ],
        [
         "dk",
         200.0
        ],
        [
         "studio",
         57.142857142857146
        ],
        [
         "dance",
         400.0
        ],
        [
         "types",
         133.33333333333334
        ],
        [
         "tempo",
         200.0
        ],
        [
         "pieces",
         133.33333333333334
        ],
        [
         "flawless",
         400.0
        ],
        [
         "scenes",
         133.33333333333334
        ],
        [
         "languages",
         100.0
        ],
        [
         "tristep",
         400.0
        ],
        [
         "blank",
         80.0
        ],
        [
         "stereo",
         400.0
        ],
        [
         "transcoding",
         400.0
        ],
        [
         "easiest",
         400.0
        ],
        [
         "turbocad",
         200.0
        ],
        [
         "95",
         33.333333333333336
        ],
        [
         "adding",
         200.0
        ],
        [
         "250",
         400.0
        ],
        [
         "priced",
         200.0
        ],
        [
         "softwaretools",
         400.0
        ],
        [
         "geographic",
         80.0
        ],
        [
         "star",
         80.0
        ],
        [
         "stars",
         200.0
        ],
        [
         "facts",
         400.0
        ],
        [
         "inventions",
         200.0
        ],
        [
         "winners",
         400.0
        ],
        [
         "little",
         80.0
        ],
        [
         "dogsdo",
         400.0
        ],
        [
         "thinking",
         133.33333333333334
        ],
        [
         "party",
         80.0
        ],
        [
         "red",
         66.66666666666667
        ],
        [
         "delicious",
         400.0
        ],
        [
         "controlled",
         200.0
        ],
        [
         "shopping",
         200.0
        ],
        [
         "webshop",
         400.0
        ],
        [
         "fully",
         133.33333333333334
        ],
        [
         "toolbars",
         400.0
        ],
        [
         "boost",
         200.0
        ],
        [
         "boostxp",
         200.0
        ],
        [
         "error",
         200.0
        ],
        [
         "insectcolony",
         400.0
        ],
        [
         "air",
         400.0
        ],
        [
         "exploration",
         400.0
        ],
        [
         "animals",
         400.0
        ],
        [
         "mayhem",
         400.0
        ],
        [
         "heroes",
         80.0
        ],
        [
         "police",
         200.0
        ],
        [
         "wheel",
         100.0
        ],
        [
         "flee",
         400.0
        ],
        [
         "memorable",
         200.0
        ],
        [
         "compromised",
         400.0
        ],
        [
         "giving",
         100.0
        ],
        [
         "theft",
         133.33333333333334
        ],
        [
         "memory",
         66.66666666666667
        ],
        [
         "quicktime",
         133.33333333333334
        ],
        [
         "picture",
         133.33333333333334
        ],
        [
         "brnigs",
         400.0
        ],
        [
         "ship",
         66.66666666666667
        ],
        [
         "freddi",
         133.33333333333334
        ],
        [
         "toys",
         200.0
        ],
        [
         "along",
         50.0
        ],
        [
         "later",
         80.0
        ],
        [
         "songs",
         80.0
        ],
        [
         "places",
         200.0
        ],
        [
         "setup",
         133.33333333333334
        ],
        [
         "hash",
         400.0
        ],
        [
         "768",
         133.33333333333334
        ],
        [
         "compliant",
         400.0
        ],
        [
         "rsa",
         400.0
        ],
        [
         "dial",
         400.0
        ],
        [
         "piano",
         66.66666666666667
        ],
        [
         "sampled",
         400.0
        ],
        [
         "midway",
         200.0
        ],
        [
         "arcade",
         100.0
        ],
        [
         "computing",
         100.0
        ],
        [
         "200",
         100.0
        ],
        [
         "stream",
         400.0
        ],
        [
         "package",
         25.0
        ],
        [
         "extra",
         400.0
        ],
        [
         "graduation",
         400.0
        ],
        [
         "practice",
         50.0
        ],
        [
         "protects",
         200.0
        ],
        [
         "sleeve",
         400.0
        ],
        [
         "moments",
         200.0
        ],
        [
         "pixels",
         200.0
        ],
        [
         "minimum",
         80.0
        ],
        [
         "scanner",
         100.0
        ],
        [
         "era",
         200.0
        ],
        [
         "favor",
         200.0
        ],
        [
         "recordings",
         400.0
        ],
        [
         "midi",
         200.0
        ],
        [
         "method",
         50.0
        ],
        [
         "famous",
         200.0
        ],
        [
         "recorder",
         200.0
        ],
        [
         "chapters",
         400.0
        ],
        [
         "emedia",
         44.44444444444444
        ],
        [
         "lead",
         57.142857142857146
        ],
        [
         "jimi",
         400.0
        ],
        [
         "license",
         14.814814814814815
        ],
        [
         "determine",
         400.0
        ],
        [
         "prep",
         200.0
        ],
        [
         "reason",
         400.0
        ],
        [
         "company",
         66.66666666666667
        ],
        [
         "raising",
         400.0
        ],
        [
         "vocabulary",
         133.33333333333334
        ],
        [
         "kaplan",
         133.33333333333334
        ],
        [
         "covering",
         200.0
        ],
        [
         "helped",
         200.0
        ],
        [
         "300mhz",
         400.0
        ],
        [
         "ensuring",
         200.0
        ],
        [
         "credit",
         133.33333333333334
        ],
        [
         "pins",
         400.0
        ],
        [
         "tuning",
         200.0
        ],
        [
         "follow",
         44.44444444444444
        ],
        [
         "mccrone",
         400.0
        ],
        [
         "pleasant",
         400.0
        ],
        [
         "odd",
         400.0
        ],
        [
         "enemies",
         400.0
        ],
        [
         "yaki",
         400.0
        ],
        [
         "throught",
         400.0
        ],
        [
         "local",
         50.0
        ],
        [
         "licenses",
         57.142857142857146
        ],
        [
         "fearsome",
         400.0
        ],
        [
         "mage",
         400.0
        ],
        [
         "brotherhood",
         400.0
        ],
        [
         "daily",
         400.0
        ],
        [
         "retypes",
         400.0
        ],
        [
         "dots",
         400.0
        ],
        [
         "scans",
         400.0
        ],
        [
         "italian",
         200.0
        ],
        [
         "either",
         400.0
        ],
        [
         "parsing",
         400.0
        ],
        [
         "address",
         200.0
        ],
        [
         "shows",
         80.0
        ],
        [
         "piles",
         400.0
        ],
        [
         "struggle",
         400.0
        ],
        [
         "organized",
         133.33333333333334
        ],
        [
         "calibration",
         400.0
        ],
        [
         "enforcement",
         200.0
        ],
        [
         "missing",
         400.0
        ],
        [
         "vegas",
         133.33333333333334
        ],
        [
         "poker",
         133.33333333333334
        ],
        [
         "staying",
         400.0
        ],
        [
         "man",
         400.0
        ],
        [
         "sos",
         200.0
        ],
        [
         "engines",
         133.33333333333334
        ],
        [
         "editable",
         133.33333333333334
        ],
        [
         "elements",
         66.66666666666667
        ],
        [
         "viva",
         200.0
        ],
        [
         "signature",
         400.0
        ],
        [
         "specifically",
         200.0
        ],
        [
         "resident",
         400.0
        ],
        [
         "removing",
         400.0
        ],
        [
         "worm",
         400.0
        ],
        [
         "code",
         66.66666666666667
        ],
        [
         "wav",
         400.0
        ],
        [
         "mod",
         400.0
        ],
        [
         "happens",
         400.0
        ],
        [
         "misbehaving",
         200.0
        ],
        [
         "load",
         200.0
        ],
        [
         "appropriate",
         400.0
        ],
        [
         "cuisine",
         200.0
        ],
        [
         "ferris",
         200.0
        ],
        [
         "lucy",
         200.0
        ],
        [
         "words",
         100.0
        ],
        [
         "talk",
         400.0
        ],
        [
         "packard",
         57.142857142857146
        ],
        [
         "conn",
         133.33333333333334
        ],
        [
         "inventory",
         400.0
        ],
        [
         "refinements",
         400.0
        ],
        [
         "whole",
         66.66666666666667
        ],
        [
         "reader",
         200.0
        ],
        [
         "merchandise",
         400.0
        ],
        [
         "payments",
         400.0
        ],
        [
         "entry",
         200.0
        ],
        [
         "codes",
         200.0
        ],
        [
         "greatly",
         133.33333333333334
        ],
        [
         "bundled",
         400.0
        ],
        [
         "purchasing",
         400.0
        ],
        [
         "pos",
         200.0
        ],
        [
         "sold",
         100.0
        ],
        [
         "drawer",
         400.0
        ],
        [
         "performing",
         200.0
        ],
        [
         "166",
         400.0
        ],
        [
         "exhilarating",
         400.0
        ],
        [
         "comparison",
         200.0
        ],
        [
         "adults",
         200.0
        ],
        [
         "analyze",
         133.33333333333334
        ],
        [
         "decorative",
         400.0
        ],
        [
         "steamship",
         400.0
        ],
        [
         "struck",
         400.0
        ],
        [
         "1912",
         400.0
        ],
        [
         "objects",
         57.142857142857146
        ],
        [
         "nobles",
         400.0
        ],
        [
         "respected",
         400.0
        ],
        [
         "crusader",
         200.0
        ],
        [
         "earning",
         400.0
        ],
        [
         "comprehension",
         200.0
        ],
        [
         "foundation",
         200.0
        ],
        [
         "dr",
         200.0
        ],
        [
         "eggs",
         400.0
        ],
        [
         "302127",
         200.0
        ],
        [
         "speaking",
         100.0
        ],
        [
         "formula",
         400.0
        ],
        [
         "gps206",
         200.0
        ],
        [
         "metallic",
         400.0
        ],
        [
         "hexachrome",
         400.0
        ],
        [
         "presenting",
         400.0
        ],
        [
         "non",
         133.33333333333334
        ],
        [
         "extrnlconnnonemplyenglands",
         400.0
        ],
        [
         "emply",
         400.0
        ],
        [
         "replicate",
         400.0
        ],
        [
         "trend",
         400.0
        ],
        [
         "linux",
         80.0
        ],
        [
         "distribute",
         400.0
        ],
        [
         "unix",
         80.0
        ],
        [
         "120",
         400.0
        ],
        [
         "corrective",
         400.0
        ],
        [
         "reviews",
         400.0
        ],
        [
         "dynamics",
         400.0
        ],
        [
         "readily",
         400.0
        ],
        [
         "relationship",
         400.0
        ],
        [
         "gets",
         200.0
        ],
        [
         "intensified",
         400.0
        ],
        [
         "partners",
         66.66666666666667
        ],
        [
         "ue",
         400.0
        ],
        [
         "006",
         400.0
        ],
        [
         "preflight",
         400.0
        ],
        [
         "tailored",
         400.0
        ],
        [
         "shared",
         400.0
        ],
        [
         "engaging",
         133.33333333333334
        ],
        [
         "variations",
         400.0
        ],
        [
         "browse",
         400.0
        ],
        [
         "automate",
         400.0
        ],
        [
         "inspired",
         400.0
        ],
        [
         "fluidly",
         400.0
        ],
        [
         "bootcamp",
         400.0
        ],
        [
         "validate",
         400.0
        ],
        [
         "fixing",
         400.0
        ],
        [
         "workspaces",
         400.0
        ],
        [
         "number",
         80.0
        ],
        [
         "dimensions",
         200.0
        ],
        [
         "scriptingspeed",
         400.0
        ],
        [
         "w",
         57.142857142857146
        ],
        [
         "mnt",
         400.0
        ],
        [
         "smaller",
         200.0
        ],
        [
         "distiller",
         100.0
        ],
        [
         "improvements",
         400.0
        ],
        [
         "suited",
         400.0
        ],
        [
         "fw",
         400.0
        ],
        [
         "suretrak",
         400.0
        ],
        [
         "vrs4",
         400.0
        ],
        [
         "workgroup",
         200.0
        ],
        [
         "ser",
         400.0
        ],
        [
         "logs",
         400.0
        ],
        [
         "importing",
         400.0
        ],
        [
         "processors",
         200.0
        ],
        [
         "seeking",
         400.0
        ],
        [
         "informatics",
         400.0
        ],
        [
         "summoned",
         400.0
        ],
        [
         "affairs",
         200.0
        ],
        [
         "quests",
         200.0
        ],
        [
         "gamers",
         100.0
        ],
        [
         "struggled",
         400.0
        ],
        [
         "submit",
         400.0
        ],
        [
         "kingdom",
         400.0
        ],
        [
         "400mhz",
         200.0
        ],
        [
         "serenity",
         200.0
        ],
        [
         "taps",
         400.0
        ],
        [
         "palette",
         400.0
        ],
        [
         "cmyk",
         400.0
        ],
        [
         "debabelizer",
         200.0
        ],
        [
         "las",
         400.0
        ],
        [
         "enabling",
         400.0
        ],
        [
         "lan",
         200.0
        ],
        [
         "environmental",
         400.0
        ],
        [
         "installers",
         200.0
        ],
        [
         "define",
         400.0
        ],
        [
         "simulation",
         200.0
        ],
        [
         "lications",
         400.0
        ],
        [
         "order",
         200.0
        ],
        [
         "valuable",
         133.33333333333334
        ],
        [
         "910620",
         400.0
        ],
        [
         "bndl",
         400.0
        ],
        [
         "defrag",
         200.0
        ],
        [
         "facing",
         200.0
        ],
        [
         "flood",
         400.0
        ],
        [
         "shooters",
         200.0
        ],
        [
         "scrapbook",
         400.0
        ],
        [
         "quotations",
         400.0
        ],
        [
         "100u",
         200.0
        ],
        [
         "centralize",
         400.0
        ],
        [
         "locales",
         400.0
        ],
        [
         "adrenaline",
         400.0
        ],
        [
         "eidos",
         200.0
        ],
        [
         "improvise",
         400.0
        ],
        [
         "tombs",
         400.0
        ],
        [
         "borland",
         200.0
        ],
        [
         "relational",
         400.0
        ],
        [
         "revolutionary",
         400.0
        ],
        [
         "syntax",
         400.0
        ],
        [
         "researchsoft",
         400.0
        ],
        [
         "authors",
         400.0
        ],
        [
         "hint",
         400.0
        ],
        [
         "tastes",
         400.0
        ],
        [
         "undo",
         400.0
        ],
        [
         "10d",
         200.0
        ],
        [
         "tapes",
         400.0
        ],
        [
         "hour",
         400.0
        ],
        [
         "taken",
         400.0
        ],
        [
         "expect",
         200.0
        ],
        [
         "greater",
         400.0
        ],
        [
         "itandquot",
         400.0
        ],
        [
         "assemble",
         400.0
        ],
        [
         "pd",
         400.0
        ],
        [
         "equisys",
         400.0
        ],
        [
         "withstand",
         400.0
        ],
        [
         "inkjet",
         400.0
        ],
        [
         "raster",
         400.0
        ],
        [
         "symphony",
         400.0
        ],
        [
         "04",
         200.0
        ],
        [
         "ma613za",
         400.0
        ],
        [
         "ae",
         400.0
        ],
        [
         "entsec",
         400.0
        ],
        [
         "gov",
         133.33333333333334
        ],
        [
         "1788",
         400.0
        ],
        [
         "comprehensi",
         400.0
        ],
        [
         "1gb",
         133.33333333333334
        ],
        [
         "diet",
         400.0
        ],
        [
         "clean",
         133.33333333333334
        ],
        [
         "flatpicking",
         400.0
        ],
        [
         "kaufman",
         400.0
        ],
        [
         "integral",
         400.0
        ],
        [
         "arsenal",
         400.0
        ],
        [
         "15",
         200.0
        ],
        [
         "22070152",
         400.0
        ],
        [
         "upgrademodel",
         400.0
        ],
        [
         "1999",
         400.0
        ],
        [
         "usually",
         100.0
        ],
        [
         "superstar",
         400.0
        ],
        [
         "bustling",
         400.0
        ],
        [
         "enthusiastic",
         400.0
        ],
        [
         "confident",
         400.0
        ],
        [
         "20033",
         400.0
        ],
        [
         "catalog",
         400.0
        ],
        [
         "yamaha",
         133.33333333333334
        ],
        [
         "hits",
         400.0
        ],
        [
         "a109x",
         400.0
        ],
        [
         "iphoto",
         400.0
        ],
        [
         "runtime",
         400.0
        ],
        [
         "solitary",
         400.0
        ],
        [
         "remodeling",
         400.0
        ],
        [
         "tub",
         400.0
        ],
        [
         "indispensable",
         400.0
        ],
        [
         "cretaceous",
         400.0
        ],
        [
         "imaginative",
         400.0
        ],
        [
         "sims",
         400.0
        ],
        [
         "car",
         400.0
        ],
        [
         "performer",
         400.0
        ],
        [
         "roots",
         400.0
        ],
        [
         "delta",
         400.0
        ],
        [
         "jazz",
         400.0
        ],
        [
         "statuary",
         400.0
        ],
        [
         "gardens",
         400.0
        ],
        [
         "session",
         400.0
        ],
        [
         "soundtracks",
         400.0
        ],
        [
         "s041886",
         400.0
        ],
        [
         "shoe",
         400.0
        ],
        [
         "introducing",
         400.0
        ],
        [
         "netbarrier",
         400.0
        ],
        [
         "sexy",
         400.0
        ],
        [
         "hovering",
         400.0
        ],
        [
         "112100602",
         400.0
        ],
        [
         "berklee",
         400.0
        ],
        [
         "fujita",
         400.0
        ],
        [
         "improving",
         400.0
        ],
        [
         "tech",
         400.0
        ],
        [
         "securing",
         400.0
        ],
        [
         "ability",
         400.0
        ],
        [
         "battlefront",
         400.0
        ],
        [
         "readalot",
         400.0
        ],
        [
         "reality",
         400.0
        ],
        [
         "x3mac",
         400.0
        ],
        [
         "brain",
         400.0
        ],
        [
         "wrangling",
         400.0
        ],
        [
         "obvious",
         400.0
        ],
        [
         "gps203",
         400.0
        ],
        [
         "begin",
         400.0
        ],
        [
         "november",
         400.0
        ],
        [
         "drawings",
         400.0
        ],
        [
         "enthusiast",
         400.0
        ],
        [
         "romeu",
         400.0
        ],
        [
         "talented",
         400.0
        ],
        [
         "fighter",
         400.0
        ],
        [
         "bab",
         400.0
        ],
        [
         "released",
         400.0
        ],
        [
         "krupa",
         400.0
        ],
        [
         "papa",
         400.0
        ],
        [
         "jones",
         400.0
        ],
        [
         "38040450",
         400.0
        ],
        [
         "m009a",
         400.0
        ],
        [
         "universally",
         400.0
        ],
        [
         "clipart",
         400.0
        ],
        [
         "discs",
         400.0
        ],
        [
         "hakone",
         400.0
        ],
        [
         "uncertainties",
         400.0
        ],
        [
         "infects",
         400.0
        ],
        [
         "summons",
         400.0
        ],
        [
         "unconstrained",
         400.0
        ],
        [
         "empire",
         400.0
        ],
        [
         "assures",
         400.0
        ],
        [
         "conduct",
         400.0
        ],
        [
         "keeper",
         400.0
        ],
        [
         "11105095",
         400.0
        ],
        [
         "pack",
         30.76923076923077
        ],
        [
         "000",
         40.0
        ],
        [
         "image",
         36.36363636363637
        ],
        [
         "desktop",
         50.0
        ],
        [
         "multimedia",
         50.0
        ],
        [
         "easily",
         15.384615384615385
        ],
        [
         "financial",
         133.33333333333334
        ],
        [
         "challenges",
         80.0
        ],
        [
         "solution",
         14.814814814814815
        ],
        [
         "payroll",
         400.0
        ],
        [
         "password",
         133.33333333333334
        ],
        [
         "protection",
         26.666666666666668
        ],
        [
         "singing",
         200.0
        ],
        [
         "disk",
         28.571428571428573
        ],
        [
         "new",
         6.896551724137931
        ],
        [
         "transformations",
         400.0
        ],
        [
         "adobe",
         16.666666666666668
        ],
        [
         "import",
         36.36363636363637
        ],
        [
         "expressions",
         400.0
        ],
        [
         "attributes",
         133.33333333333334
        ],
        [
         "speed",
         33.333333333333336
        ],
        [
         "integration",
         44.44444444444444
        ],
        [
         "combination",
         100.0
        ],
        [
         "pc",
         13.793103448275861
        ],
        [
         "ideal",
         33.333333333333336
        ],
        [
         "support",
         16.666666666666668
        ],
        [
         "training",
         50.0
        ],
        [
         "robust",
         57.142857142857146
        ],
        [
         "higher",
         26.666666666666668
        ],
        [
         "ready",
         50.0
        ],
        [
         "nuance",
         57.142857142857146
        ],
        [
         "itempowers",
         400.0
        ],
        [
         "help",
         17.391304347826086
        ],
        [
         "challenging",
         66.66666666666667
        ],
        [
         "child",
         80.0
        ],
        [
         "love",
         100.0
        ],
        [
         "search",
         28.571428571428573
        ],
        [
         "activities",
         25.0
        ],
        [
         "know",
         57.142857142857146
        ],
        [
         "mode",
         57.142857142857146
        ],
        [
         "os",
         26.666666666666668
        ],
        [
         "heard",
         200.0
        ],
        [
         "98",
         22.22222222222222
        ],
        [
         "bring",
         33.333333333333336
        ],
        [
         "true",
         80.0
        ],
        [
         "simple",
         22.22222222222222
        ],
        [
         "macintosh",
         50.0
        ],
        [
         "remote",
         57.142857142857146
        ],
        [
         "rfc3530",
         400.0
        ],
        [
         "make",
         16.666666666666668
        ],
        [
         "printers",
         200.0
        ],
        [
         "solo",
         200.0
        ],
        [
         "tcp",
         400.0
        ],
        [
         "ipv6",
         400.0
        ],
        [
         "drives",
         133.33333333333334
        ],
        [
         "unc",
         400.0
        ],
        [
         "emulation",
         400.0
        ],
        [
         "1094",
         400.0
        ],
        [
         "sizes",
         100.0
        ],
        [
         "providing",
         50.0
        ],
        [
         "feature",
         30.76923076923077
        ],
        [
         "reducing",
         400.0
        ],
        [
         "following",
         100.0
        ],
        [
         "navi",
         400.0
        ],
        [
         "path",
         100.0
        ],
        [
         "wrkgrp",
         400.0
        ],
        [
         "settings",
         66.66666666666667
        ],
        [
         "single",
         20.0
        ],
        [
         "gateway",
         200.0
        ],
        [
         "speeds",
         133.33333333333334
        ],
        [
         "intrusion",
         200.0
        ],
        [
         "sonicwall",
         66.66666666666667
        ],
        [
         "sonic",
         200.0
        ],
        [
         "resources",
         66.66666666666667
        ],
        [
         "entire",
         44.44444444444444
        ],
        [
         "expose",
         133.33333333333334
        ],
        [
         "form",
         44.44444444444444
        ],
        [
         "shapes",
         133.33333333333334
        ],
        [
         "aap",
         400.0
        ],
        [
         "count",
         133.33333333333334
        ],
        [
         "scholars",
         400.0
        ],
        [
         "241",
         400.0
        ],
        [
         "newly",
         133.33333333333334
        ],
        [
         "world",
         12.121212121212121
        ],
        [
         "tuner",
         200.0
        ],
        [
         "beginner",
         80.0
        ],
        [
         "informationentrust",
         400.0
        ],
        [
         "headaches",
         400.0
        ],
        [
         "prevent",
         133.33333333333334
        ],
        [
         "event",
         80.0
        ],
        [
         "trusted",
         133.33333333333334
        ],
        [
         "crashes",
         200.0
        ],
        [
         "simulate",
         133.33333333333334
        ],
        [
         "generate",
         100.0
        ],
        [
         "expedite",
         400.0
        ],
        [
         "via",
         66.66666666666667
        ],
        [
         "move",
         40.0
        ],
        [
         "tag",
         400.0
        ],
        [
         "working",
         200.0
        ],
        [
         "emulate",
         400.0
        ],
        [
         "cs3",
         36.36363636363637
        ],
        [
         "keyframe",
         400.0
        ],
        [
         "broadcast",
         400.0
        ],
        [
         "onlocation",
         133.33333333333334
        ],
        [
         "based",
         14.814814814814815
        ],
        [
         "vectorscope",
         400.0
        ],
        [
         "intel",
         36.36363636363637
        ],
        [
         "boot",
         200.0
        ],
        [
         "story",
         57.142857142857146
        ],
        [
         "tomorrow",
         200.0
        ],
        [
         "enhancements",
         80.0
        ],
        [
         "adjustments",
         400.0
        ],
        [
         "films",
         200.0
        ],
        [
         "playback",
         133.33333333333334
        ],
        [
         "way",
         19.047619047619047
        ],
        [
         "options",
         57.142857142857146
        ],
        [
         "html",
         80.0
        ],
        [
         "project",
         30.76923076923077
        ],
        [
         "vtr",
         400.0
        ],
        [
         "major",
         200.0
        ],
        [
         "remapping",
         400.0
        ],
        [
         "maintain",
         100.0
        ],
        [
         "xmp",
         400.0
        ],
        [
         "equivalents",
         400.0
        ],
        [
         "sections",
         400.0
        ],
        [
         "blending",
         400.0
        ],
        [
         "increase",
         66.66666666666667
        ],
        [
         "biggest",
         200.0
        ],
        [
         "ticket",
         400.0
        ],
        [
         "legacy",
         100.0
        ],
        [
         "pass",
         200.0
        ],
        [
         "share",
         57.142857142857146
        ],
        [
         "combine",
         100.0
        ],
        [
         "slice",
         400.0
        ],
        [
         "depth",
         57.142857142857146
        ],
        [
         "pop",
         80.0
        ],
        [
         "prototyping",
         400.0
        ],
        [
         "optimize",
         80.0
        ],
        [
         "ai",
         200.0
        ],
        [
         "accelerate",
         133.33333333333334
        ],
        [
         "absolute",
         133.33333333333334
        ],
        [
         "retaining",
         200.0
        ],
        [
         "group",
         133.33333333333334
        ],
        [
         "layouts",
         100.0
        ],
        [
         "website",
         400.0
        ],
        [
         "css",
         200.0
        ],
        [
         "optimization",
         200.0
        ],
        [
         "photographic",
         200.0
        ],
        [
         "lb",
         400.0
        ],
        [
         "renovation",
         400.0
        ],
        [
         "cds",
         44.44444444444444
        ],
        [
         "regular",
         133.33333333333334
        ],
        [
         "collection",
         26.666666666666668
        ],
        [
         "scratch",
         100.0
        ],
        [
         "though",
         200.0
        ],
        [
         "selectfrom",
         400.0
        ],
        [
         "valusoft",
         133.33333333333334
        ],
        [
         "tone",
         200.0
        ],
        [
         "purchase",
         80.0
        ],
        [
         "pre",
         50.0
        ],
        [
         "coding",
         133.33333333333334
        ],
        [
         "labels",
         100.0
        ],
        [
         "d",
         100.0
        ],
        [
         "brochures",
         133.33333333333334
        ],
        [
         "creator",
         100.0
        ],
        [
         "fingertips",
         200.0
        ],
        [
         "6x6",
         200.0
        ],
        [
         "11x17",
         200.0
        ],
        [
         "presentations",
         133.33333333333334
        ],
        [
         "sentiments",
         200.0
        ],
        [
         "phrase",
         200.0
        ],
        [
         "skin",
         200.0
        ],
        [
         "analyzes",
         200.0
        ],
        [
         "clusters",
         400.0
        ],
        [
         "accidentally",
         400.0
        ],
        [
         "fat32",
         400.0
        ],
        [
         "erased",
         400.0
        ],
        [
         "knowledge",
         80.0
        ],
        [
         "musicians",
         133.33333333333334
        ],
        [
         "notch",
         200.0
        ],
        [
         "parametric",
         400.0
        ],
        [
         "delay",
         400.0
        ],
        [
         "never",
         57.142857142857146
        ],
        [
         "sounds",
         100.0
        ],
        [
         "backups",
         100.0
        ],
        [
         "extras",
         133.33333333333334
        ],
        [
         "thanks",
         133.33333333333334
        ],
        [
         "gold",
         200.0
        ],
        [
         "900",
         400.0
        ],
        [
         "imsi",
         133.33333333333334
        ],
        [
         "impress",
         400.0
        ],
        [
         "sure",
         57.142857142857146
        ],
        [
         "hijackers",
         400.0
        ],
        [
         "terminal",
         400.0
        ],
        [
         "traditional",
         133.33333333333334
        ],
        [
         "6product",
         400.0
        ],
        [
         "worlds",
         100.0
        ],
        [
         "breadth",
         400.0
        ],
        [
         "oscar",
         200.0
        ],
        [
         "prize",
         400.0
        ],
        [
         "educator",
         400.0
        ],
        [
         "families",
         133.33333333333334
        ],
        [
         "absorbing",
         400.0
        ],
        [
         "scientists",
         200.0
        ],
        [
         "scholastic",
         400.0
        ],
        [
         "adventures",
         100.0
        ],
        [
         "informationclifford",
         400.0
        ],
        [
         "dishes",
         200.0
        ],
        [
         "recipes",
         100.0
        ],
        [
         "account",
         200.0
        ],
        [
         "test",
         57.142857142857146
        ],
        [
         "viewer",
         400.0
        ],
        [
         "featured",
         400.0
        ],
        [
         "micro",
         200.0
        ],
        [
         "allume",
         133.33333333333334
        ],
        [
         "discover",
         80.0
        ],
        [
         "antiquities",
         200.0
        ],
        [
         "commentary",
         400.0
        ],
        [
         "greatest",
         100.0
        ],
        [
         "palace",
         400.0
        ],
        [
         "flames",
         400.0
        ],
        [
         "filled",
         100.0
        ],
        [
         "earn",
         400.0
        ],
        [
         "characters",
         80.0
        ],
        [
         "hero",
         133.33333333333334
        ],
        [
         "array",
         100.0
        ],
        [
         "captions",
         200.0
        ],
        [
         "ve",
         100.0
        ],
        [
         "read",
         80.0
        ],
        [
         "haunting",
         200.0
        ],
        [
         "486",
         400.0
        ],
        [
         "plan",
         66.66666666666667
        ],
        [
         "puzzles",
         100.0
        ],
        [
         "algorithm",
         400.0
        ],
        [
         "mscapi",
         400.0
        ],
        [
         "protected",
         200.0
        ],
        [
         "routers",
         200.0
        ],
        [
         "digest",
         400.0
        ],
        [
         "signatures",
         400.0
        ],
        [
         "connections",
         200.0
        ],
        [
         "pkcs",
         400.0
        ],
        [
         "ops",
         200.0
        ],
        [
         "eng",
         100.0
        ],
        [
         "290",
         200.0
        ],
        [
         "awarded",
         400.0
        ],
        [
         "diskeepeer",
         400.0
        ],
        [
         "monarch",
         400.0
        ],
        [
         "vga",
         400.0
        ],
        [
         "liquor",
         100.0
        ],
        [
         "6mb",
         400.0
        ],
        [
         "3ad",
         400.0
        ],
        [
         "enable",
         200.0
        ],
        [
         "open",
         44.44444444444444
        ],
        [
         "consistent",
         133.33333333333334
        ],
        [
         "interne",
         400.0
        ],
        [
         "802",
         133.33333333333334
        ],
        [
         "600",
         133.33333333333334
        ],
        [
         "73",
         400.0
        ],
        [
         "covers",
         100.0
        ],
        [
         "cleanup",
         400.0
        ],
        [
         "intranets",
         400.0
        ],
        [
         "publication",
         400.0
        ],
        [
         "honor",
         400.0
        ],
        [
         "mythology",
         200.0
        ],
        [
         "hendrix",
         400.0
        ],
        [
         "175",
         200.0
        ],
        [
         "melodies",
         200.0
        ],
        [
         "fingerings",
         400.0
        ],
        [
         "basics",
         100.0
        ],
        [
         "disks",
         400.0
        ],
        [
         "thieves",
         200.0
        ],
        [
         "jeopardize",
         400.0
        ],
        [
         "response",
         200.0
        ],
        [
         "oper",
         400.0
        ],
        [
         "college",
         400.0
        ],
        [
         "tutorials",
         200.0
        ],
        [
         "correct",
         133.33333333333334
        ],
        [
         "topic",
         400.0
        ],
        [
         "blowfish",
         400.0
        ],
        [
         "synchronize",
         200.0
        ],
        [
         "bank",
         400.0
        ],
        [
         "electric",
         100.0
        ],
        [
         "quiet",
         400.0
        ],
        [
         "past",
         100.0
        ],
        [
         "emerges",
         200.0
        ],
        [
         "explores",
         400.0
        ],
        [
         "haunt",
         400.0
        ],
        [
         "scratches",
         200.0
        ],
        [
         "arthate",
         400.0
        ],
        [
         "strange",
         133.33333333333334
        ],
        [
         "near",
         400.0
        ],
        [
         "famed",
         400.0
        ],
        [
         "night",
         133.33333333333334
        ],
        [
         "sci",
         400.0
        ],
        [
         "ancient",
         80.0
        ],
        [
         "h2200301",
         400.0
        ],
        [
         "ten",
         100.0
        ],
        [
         "depths",
         400.0
        ],
        [
         "named",
         200.0
        ],
        [
         "fight",
         200.0
        ],
        [
         "unusual",
         400.0
        ],
        [
         "legion",
         400.0
        ],
        [
         "seen",
         400.0
        ],
        [
         "norrath",
         400.0
        ],
        [
         "rumored",
         400.0
        ],
        [
         "packs",
         200.0
        ],
        [
         "instantaneously",
         400.0
        ],
        [
         "cropping",
         400.0
        ],
        [
         "accurately",
         133.33333333333334
        ],
        [
         "entourage",
         400.0
        ],
        [
         "uses",
         133.33333333333334
        ],
        [
         "disorganized",
         400.0
        ],
        [
         "orientation",
         400.0
        ],
        [
         "registration",
         200.0
        ],
        [
         "contacts",
         200.0
        ],
        [
         "countries",
         200.0
        ],
        [
         "stolen",
         200.0
        ],
        [
         "law",
         200.0
        ],
        [
         "able",
         133.33333333333334
        ],
        [
         "anywhere",
         200.0
        ],
        [
         "series",
         50.0
        ],
        [
         "tournament",
         100.0
        ],
        [
         "eagle",
         200.0
        ],
        [
         "turned",
         400.0
        ],
        [
         "retained",
         200.0
        ],
        [
         "proofing",
         200.0
        ],
        [
         "retention",
         200.0
        ],
        [
         "started",
         200.0
        ],
        [
         "asier",
         400.0
        ],
        [
         "paid",
         133.33333333333334
        ],
        [
         "preventing",
         400.0
        ],
        [
         "damage",
         400.0
        ],
        [
         "slammer",
         400.0
        ],
        [
         "visibility",
         400.0
        ],
        [
         "occur",
         400.0
        ],
        [
         "mission",
         80.0
        ],
        [
         "whereas",
         400.0
        ],
        [
         "console",
         100.0
        ],
        [
         "generation",
         200.0
        ],
        [
         "h",
         200.0
        ],
        [
         "digit",
         400.0
        ],
        [
         "minibox",
         400.0
        ],
        [
         "slide",
         100.0
        ],
        [
         "wants",
         400.0
        ],
        [
         "garden",
         200.0
        ],
        [
         "alley",
         200.0
        ],
        [
         "living",
         133.33333333333334
        ],
        [
         "honeycomb",
         400.0
        ],
        [
         "pairs",
         400.0
        ],
        [
         "rules",
         133.33333333333334
        ],
        [
         "speaker",
         400.0
        ],
        [
         "multifunction",
         400.0
        ],
        [
         "foreign",
         200.0
        ],
        [
         "andnbsp",
         133.33333333333334
        ],
        [
         "addresses",
         400.0
        ],
        [
         "hassles",
         400.0
        ],
        [
         "walks",
         400.0
        ],
        [
         "connect",
         200.0
        ],
        [
         "tags",
         400.0
        ],
        [
         "questions",
         200.0
        ],
        [
         "keystrokes",
         400.0
        ],
        [
         "quantities",
         400.0
        ],
        [
         "class",
         133.33333333333334
        ],
        [
         "debit",
         400.0
        ],
        [
         "price",
         400.0
        ],
        [
         "visit",
         133.33333333333334
        ],
        [
         "classical",
         400.0
        ],
        [
         "month",
         400.0
        ],
        [
         "preparation",
         200.0
        ],
        [
         "meatless",
         400.0
        ],
        [
         "activision",
         400.0
        ],
        [
         "majestic",
         200.0
        ],
        [
         "rms",
         400.0
        ],
        [
         "hidden",
         133.33333333333334
        ],
        [
         "maintenance",
         200.0
        ],
        [
         "exclusive",
         133.33333333333334
        ],
        [
         "piety",
         400.0
        ],
        [
         "territory",
         400.0
        ],
        [
         "society",
         400.0
        ],
        [
         "1419",
         400.0
        ],
        [
         "fraught",
         400.0
        ],
        [
         "exch",
         200.0
        ],
        [
         "assign",
         400.0
        ],
        [
         "instructions",
         200.0
        ],
        [
         "curve",
         400.0
        ],
        [
         "tlc",
         400.0
        ],
        [
         "progress",
         100.0
        ],
        [
         "wonderfully",
         400.0
        ],
        [
         "reward",
         400.0
        ],
        [
         "positive",
         400.0
        ],
        [
         "19",
         400.0
        ],
        [
         "tints",
         400.0
        ],
        [
         "movement",
         200.0
        ],
        [
         "offices",
         200.0
        ],
        [
         "remotes",
         400.0
        ],
        [
         "replicator",
         400.0
        ],
        [
         "industrys",
         400.0
        ],
        [
         "objectives",
         400.0
        ],
        [
         "coaching",
         400.0
        ],
        [
         "due",
         400.0
        ],
        [
         "mailer",
         400.0
        ],
        [
         "notices",
         400.0
        ],
        [
         "staffs",
         400.0
        ],
        [
         "configuration",
         133.33333333333334
        ],
        [
         "literally",
         200.0
        ],
        [
         "cal",
         200.0
        ],
        [
         "predict",
         400.0
        ],
        [
         "robohelp",
         400.0
        ],
        [
         "rumba",
         100.0
        ],
        [
         "902453",
         133.33333333333334
        ],
        [
         "1a",
         400.0
        ],
        [
         "align",
         400.0
        ],
        [
         "change",
         400.0
        ],
        [
         "term",
         400.0
        ],
        [
         "draft",
         400.0
        ],
        [
         "soundbooth",
         400.0
        ],
        [
         "medium",
         200.0
        ],
        [
         "dream",
         200.0
        ],
        [
         "r11",
         80.0
        ],
        [
         "converting",
         400.0
        ],
        [
         "veritas",
         400.0
        ],
        [
         "exec",
         133.33333333333334
        ],
        [
         "guidance",
         400.0
        ],
        [
         "suit",
         400.0
        ],
        [
         "entprse",
         400.0
        ],
        [
         "netw",
         400.0
        ],
        [
         "todayandquot",
         400.0
        ],
        [
         "capacity",
         400.0
        ],
        [
         "affordability",
         400.0
        ],
        [
         "vrs",
         400.0
        ],
        [
         "en",
         200.0
        ],
        [
         "router",
         400.0
        ],
        [
         "column",
         400.0
        ],
        [
         "submittal",
         400.0
        ],
        [
         "chance",
         400.0
        ],
        [
         "centralized",
         400.0
        ],
        [
         "keynote",
         400.0
        ],
        [
         "1ltu",
         400.0
        ],
        [
         "storage",
         400.0
        ],
        [
         "pwr",
         400.0
        ],
        [
         "spreadsheets",
         200.0
        ],
        [
         "fontware",
         400.0
        ],
        [
         "wasp",
         400.0
        ],
        [
         "ice",
         400.0
        ],
        [
         "antasion",
         400.0
        ],
        [
         "instead",
         200.0
        ],
        [
         "played",
         200.0
        ],
        [
         "vivien",
         400.0
        ],
        [
         "800x600",
         200.0
        ],
        [
         "habitats",
         200.0
        ],
        [
         "lifelike",
         200.0
        ],
        [
         "swim",
         400.0
        ],
        [
         "64mb",
         400.0
        ],
        [
         "conditional",
         400.0
        ],
        [
         "scripting",
         400.0
        ],
        [
         "destructive",
         400.0
        ],
        [
         "deal",
         200.0
        ],
        [
         "casino",
         200.0
        ],
        [
         "criteria",
         400.0
        ],
        [
         "governments",
         400.0
        ],
        [
         "extranet",
         400.0
        ],
        [
         "intranet",
         400.0
        ],
        [
         "lower",
         400.0
        ],
        [
         "satisfaction",
         400.0
        ],
        [
         "1pk",
         400.0
        ],
        [
         "warcraft",
         100.0
        ],
        [
         "curriculum",
         400.0
        ],
        [
         "fourth",
         400.0
        ],
        [
         "4th",
         200.0
        ],
        [
         "obdr",
         400.0
        ],
        [
         "iremember",
         200.0
        ],
        [
         "verses",
         400.0
        ],
        [
         "perilous",
         400.0
        ],
        [
         "tedium",
         400.0
        ],
        [
         "multiplier",
         400.0
        ],
        [
         "alm",
         400.0
        ],
        [
         "xml",
         400.0
        ],
        [
         "maximizing",
         400.0
        ],
        [
         "backtrack",
         400.0
        ],
        [
         "serene",
         400.0
        ],
        [
         "topware",
         200.0
        ],
        [
         "symantec",
         200.0
        ],
        [
         "battlefields",
         400.0
        ],
        [
         "week",
         400.0
        ],
        [
         "convenience",
         400.0
        ],
        [
         "g4",
         66.66666666666667
        ],
        [
         "zetafax",
         400.0
        ],
        [
         "checks",
         400.0
        ],
        [
         "willtake",
         400.0
        ],
        [
         "thinkyou",
         400.0
        ],
        [
         "05",
         400.0
        ],
        [
         "ilife",
         400.0
        ],
        [
         "jam",
         400.0
        ],
        [
         "garageband",
         400.0
        ],
        [
         "safeguard",
         400.0
        ],
        [
         "stompsoft",
         400.0
        ],
        [
         "blends",
         400.0
        ],
        [
         "station",
         400.0
        ],
        [
         "zebra",
         400.0
        ],
        [
         "tutoring",
         400.0
        ],
        [
         "peace",
         400.0
        ],
        [
         "motivating",
         400.0
        ],
        [
         "appetizing",
         400.0
        ],
        [
         "805529073074",
         400.0
        ],
        [
         "00034",
         400.0
        ],
        [
         "trudys",
         400.0
        ],
        [
         "d48",
         400.0
        ],
        [
         "homespun",
         133.33333333333334
        ],
        [
         "birdwell",
         400.0
        ],
        [
         "imac",
         400.0
        ],
        [
         "8ghz",
         400.0
        ],
        [
         "adbcd36149wi",
         400.0
        ],
        [
         "worldofwarcraft",
         400.0
        ],
        [
         "72305",
         400.0
        ],
        [
         "prepaid",
         400.0
        ],
        [
         "5k",
         400.0
        ],
        [
         "macrovision",
         400.0
        ],
        [
         "photofinishing",
         400.0
        ],
        [
         "vandross",
         400.0
        ],
        [
         "diverse",
         200.0
        ],
        [
         "zink",
         400.0
        ],
        [
         "twists",
         400.0
        ],
        [
         "captivating",
         200.0
        ],
        [
         "computation",
         400.0
        ],
        [
         "limitless",
         400.0
        ],
        [
         "albertosaurus",
         400.0
        ],
        [
         "informative",
         400.0
        ],
        [
         "bottleneck",
         400.0
        ],
        [
         "landscapes",
         400.0
        ],
        [
         "1400",
         400.0
        ],
        [
         "admi",
         400.0
        ],
        [
         "barrier",
         400.0
        ],
        [
         "crossing",
         400.0
        ],
        [
         "description",
         400.0
        ],
        [
         "abacus",
         200.0
        ],
        [
         "5562",
         400.0
        ],
        [
         "planes",
         400.0
        ],
        [
         "mechanic",
         400.0
        ],
        [
         "netshield",
         400.0
        ],
        [
         "leverages",
         400.0
        ],
        [
         "6993",
         400.0
        ],
        [
         "85100",
         400.0
        ],
        [
         "updater",
         400.0
        ],
        [
         "specifying",
         400.0
        ],
        [
         "bil",
         400.0
        ],
        [
         "pitch",
         400.0
        ],
        [
         "sunburst",
         400.0
        ],
        [
         "brave",
         400.0
        ],
        [
         "recruiting",
         400.0
        ],
        [
         "exercises",
         200.0
        ],
        [
         "shares",
         400.0
        ],
        [
         "781735805428",
         400.0
        ],
        [
         "ratios",
         400.0
        ],
        [
         "close",
         400.0
        ],
        [
         "portfolio",
         400.0
        ],
        [
         "40022",
         400.0
        ],
        [
         "geonosis",
         400.0
        ],
        [
         "rocksongs",
         400.0
        ],
        [
         "riffs",
         400.0
        ],
        [
         "ub",
         400.0
        ],
        [
         "skeletal",
         400.0
        ],
        [
         "prol",
         400.0
        ],
        [
         "dylan",
         400.0
        ],
        [
         "ret",
         400.0
        ],
        [
         "rustlers",
         400.0
        ],
        [
         "madcap",
         400.0
        ],
        [
         "gulch",
         400.0
        ],
        [
         "upon",
         400.0
        ],
        [
         "portrait",
         400.0
        ],
        [
         "rare",
         400.0
        ],
        [
         "mortal",
         400.0
        ],
        [
         "00292",
         400.0
        ],
        [
         "00320289",
         400.0
        ],
        [
         "gifts",
         400.0
        ],
        [
         "designers",
         400.0
        ],
        [
         "terrors",
         400.0
        ],
        [
         "250000",
         400.0
        ],
        [
         "posters",
         400.0
        ],
        [
         "225000",
         400.0
        ],
        [
         "9780387988238",
         400.0
        ],
        [
         "massive",
         400.0
        ],
        [
         "48",
         400.0
        ],
        [
         "refund",
         400.0
        ],
        [
         "corrupt",
         400.0
        ],
        [
         "alliance",
         400.0
        ],
        [
         "premised",
         400.0
        ],
        [
         "inter",
         400.0
        ],
        [
         "established",
         400.0
        ],
        [
         "ads",
         400.0
        ],
        [
         "31250",
         400.0
        ],
        [
         "sypware",
         400.0
        ],
        [
         "chaning",
         400.0
        ],
        [
         "clickart",
         200.0
        ],
        [
         "laptops",
         133.33333333333334
        ],
        [
         "computer",
         10.81081081081081
        ],
        [
         "jewel",
         44.44444444444444
        ],
        [
         "ark",
         200.0
        ],
        [
         "affordable",
         80.0
        ],
        [
         "tailor",
         133.33333333333334
        ],
        [
         "closed",
         400.0
        ],
        [
         "peachtree",
         200.0
        ],
        [
         "report",
         100.0
        ],
        [
         "restores",
         200.0
        ],
        [
         "small",
         36.36363636363637
        ],
        [
         "analysis",
         57.142857142857146
        ],
        [
         "core",
         50.0
        ],
        [
         "easy",
         7.6923076923076925
        ],
        [
         "operational",
         200.0
        ],
        [
         "donor",
         400.0
        ],
        [
         "web",
         14.285714285714286
        ],
        [
         "choice",
         57.142857142857146
        ],
        [
         "advanced",
         20.0
        ],
        [
         "2000",
         14.814814814814815
        ],
        [
         "electronic",
         36.36363636363637
        ],
        [
         "monitors",
         400.0
        ],
        [
         "pal",
         133.33333333333334
        ],
        [
         "ease",
         57.142857142857146
        ],
        [
         "a289a",
         400.0
        ],
        [
         "labor",
         400.0
        ],
        [
         "voice",
         100.0
        ],
        [
         "client",
         30.76923076923077
        ],
        [
         "sub",
         44.44444444444444
        ],
        [
         "lostproductivity",
         400.0
        ],
        [
         "excel",
         80.0
        ],
        [
         "v",
         28.571428571428573
        ],
        [
         "reading",
         50.0
        ],
        [
         "2nd",
         200.0
        ],
        [
         "building",
         100.0
        ],
        [
         "skill",
         133.33333333333334
        ],
        [
         "2x",
         200.0
        ],
        [
         "mb",
         50.0
        ],
        [
         "classic",
         33.333333333333336
        ],
        [
         "system",
         8.333333333333334
        ],
        [
         "recommended",
         200.0
        ],
        [
         "2",
         10.81081081081081
        ],
        [
         "comes",
         100.0
        ],
        [
         "cylinders",
         400.0
        ],
        [
         "file",
         25.0
        ],
        [
         "communications",
         26.666666666666668
        ],
        [
         "1u",
         66.66666666666667
        ],
        [
         "device",
         100.0
        ],
        [
         "printer",
         100.0
        ],
        [
         "directional",
         400.0
        ],
        [
         "unicode",
         400.0
        ],
        [
         "soft",
         400.0
        ],
        [
         "less",
         100.0
        ],
        [
         "2006",
         26.666666666666668
        ],
        [
         "ranging",
         200.0
        ],
        [
         "productive",
         133.33333333333334
        ],
        [
         "familiar",
         100.0
        ],
        [
         "platforms",
         80.0
        ],
        [
         "sql",
         133.33333333333334
        ],
        [
         "enterprises",
         57.142857142857146
        ],
        [
         "users",
         21.05263157894737
        ],
        [
         "spanish",
         40.0
        ],
        [
         "intermediate",
         100.0
        ],
        [
         "application",
         25.0
        ],
        [
         "lotus",
         400.0
        ],
        [
         "databases",
         200.0
        ],
        [
         "omnioutliner",
         200.0
        ],
        [
         "big",
         40.0
        ],
        [
         "increasing",
         80.0
        ],
        [
         "reduces",
         100.0
        ],
        [
         "throughout",
         66.66666666666667
        ],
        [
         "manage",
         33.333333333333336
        ],
        [
         "entertainment",
         11.764705882352942
        ],
        [
         "pencil",
         133.33333333333334
        ],
        [
         "millie",
         200.0
        ],
        [
         "critters",
         400.0
        ],
        [
         "patterns",
         400.0
        ],
        [
         "parts",
         200.0
        ],
        [
         "offer",
         100.0
        ],
        [
         "answer",
         200.0
        ],
        [
         "encyclopedia",
         200.0
        ],
        [
         "photo",
         28.571428571428573
        ],
        [
         "tables",
         133.33333333333334
        ],
        [
         "labeling",
         400.0
        ],
        [
         "267",
         400.0
        ],
        [
         "display",
         40.0
        ],
        [
         "publishing",
         44.44444444444444
        ],
        [
         "essenti",
         400.0
        ],
        [
         "versatile",
         133.33333333333334
        ],
        [
         "personal",
         20.0
        ],
        [
         "interface",
         18.181818181818183
        ],
        [
         "ray",
         400.0
        ],
        [
         "shoot",
         400.0
        ],
        [
         "adjust",
         200.0
        ],
        [
         "exchange",
         80.0
        ],
        [
         "supporting",
         400.0
        ],
        [
         "separate",
         133.33333333333334
        ],
        [
         "interactivity",
         200.0
        ],
        [
         "concentrate",
         400.0
        ],
        [
         "find",
         26.666666666666668
        ],
        [
         "cycles",
         400.0
        ],
        [
         "express",
         33.333333333333336
        ],
        [
         "flv",
         400.0
        ],
        [
         "final",
         80.0
        ],
        [
         "workflow",
         100.0
        ],
        [
         "one",
         12.121212121212121
        ],
        [
         "editing",
         33.333333333333336
        ],
        [
         "ins",
         200.0
        ],
        [
         "pdf",
         40.0
        ],
        [
         "formerly",
         400.0
        ],
        [
         "budgets",
         400.0
        ],
        [
         "frames",
         100.0
        ],
        [
         "unparalleled",
         200.0
        ],
        [
         "deliver",
         50.0
        ],
        [
         "film",
         66.66666666666667
        ],
        [
         "retiming",
         400.0
        ],
        [
         "maximum",
         100.0
        ],
        [
         "enhance",
         80.0
        ],
        [
         "takes",
         133.33333333333334
        ],
        [
         "tape",
         100.0
        ],
        [
         "function",
         57.142857142857146
        ],
        [
         "want",
         33.333333333333336
        ],
        [
         "virtual",
         36.36363636363637
        ],
        [
         "automatically",
         44.44444444444444
        ],
        [
         "finding",
         400.0
        ],
        [
         "workstations",
         400.0
        ],
        [
         "shuttling",
         400.0
        ],
        [
         "view",
         57.142857142857146
        ],
        [
         "mail",
         50.0
        ],
        [
         "direct",
         57.142857142857146
        ],
        [
         "government",
         100.0
        ],
        [
         "storytelling",
         400.0
        ],
        [
         "burn",
         57.142857142857146
        ],
        [
         "press",
         100.0
        ],
        [
         "pinnacle",
         400.0
        ],
        [
         "future",
         133.33333333333334
        ],
        [
         "detailed",
         100.0
        ],
        [
         "vista",
         80.0
        ],
        [
         "dissolve",
         400.0
        ],
        [
         "back",
         40.0
        ],
        [
         "timesaving",
         400.0
        ],
        [
         "layout",
         66.66666666666667
        ],
        [
         "styles",
         100.0
        ],
        [
         "contain",
         400.0
        ],
        [
         "scaling",
         400.0
        ],
        [
         "bitmap",
         400.0
        ],
        [
         "properties",
         200.0
        ],
        [
         "bitmaps",
         400.0
        ],
        [
         "light",
         133.33333333333334
        ],
        [
         "screen",
         66.66666666666667
        ],
        [
         "1200",
         200.0
        ],
        [
         "12x12",
         200.0
        ],
        [
         "hotspots",
         200.0
        ],
        [
         "friends",
         28.571428571428573
        ],
        [
         "textures",
         133.33333333333334
        ],
        [
         "4x6",
         200.0
        ],
        [
         "manipulation",
         200.0
        ],
        [
         "gallery",
         200.0
        ],
        [
         "simultaneously",
         133.33333333333334
        ],
        [
         "letterhead",
         200.0
        ],
        [
         "closer",
         200.0
        ],
        [
         "quote",
         200.0
        ],
        [
         "pastel",
         133.33333333333334
        ],
        [
         "see",
         50.0
        ],
        [
         "newsletters",
         80.0
        ],
        [
         "informational",
         200.0
        ],
        [
         "pamphlets",
         200.0
        ],
        [
         "place",
         66.66666666666667
        ],
        [
         "club",
         200.0
        ],
        [
         "grow",
         80.0
        ],
        [
         "inches",
         200.0
        ],
        [
         "personalize",
         133.33333333333334
        ],
        [
         "recovery",
         66.66666666666667
        ],
        [
         "necessary",
         133.33333333333334
        ],
        [
         "recovers",
         400.0
        ],
        [
         "detect",
         200.0
        ],
        [
         "recover",
         80.0
        ],
        [
         "ide",
         400.0
        ],
        [
         "combines",
         50.0
        ],
        [
         "stories",
         133.33333333333334
        ],
        [
         "selectable",
         400.0
        ],
        [
         "equalization",
         400.0
        ],
        [
         "extremely",
         400.0
        ],
        [
         "vcd",
         133.33333333333334
        ],
        [
         "onto",
         200.0
        ],
        [
         "f",
         80.0
        ],
        [
         "original",
         50.0
        ],
        [
         "split",
         400.0
        ],
        [
         "six",
         200.0
        ],
        [
         "ideas",
         66.66666666666667
        ],
        [
         "ad",
         200.0
        ],
        [
         "ms",
         66.66666666666667
        ],
        [
         "parasites",
         400.0
        ],
        [
         "privacy",
         80.0
        ],
        [
         "aware",
         200.0
        ],
        [
         "lavasoft",
         200.0
        ],
        [
         "informationintroducing",
         400.0
        ],
        [
         "arithmeticto",
         400.0
        ],
        [
         "deep",
         133.33333333333334
        ],
        [
         "teach",
         133.33333333333334
        ],
        [
         "galaxies",
         400.0
        ],
        [
         "affect",
         200.0
        ],
        [
         "videos",
         80.0
        ],
        [
         "clifford",
         133.33333333333334
        ],
        [
         "taste",
         200.0
        ],
        [
         "platinum",
         133.33333333333334
        ],
        [
         "jumpstart",
         80.0
        ],
        [
         "adds",
         400.0
        ],
        [
         "ones",
         80.0
        ],
        [
         "interactivecd",
         400.0
        ],
        [
         "flik",
         200.0
        ],
        [
         "3d",
         44.44444444444444
        ],
        [
         "historical",
         133.33333333333334
        ],
        [
         "behind",
         200.0
        ],
        [
         "american",
         400.0
        ],
        [
         "smithsonian",
         400.0
        ],
        [
         "net",
         133.33333333333334
        ],
        [
         "county",
         400.0
        ],
        [
         "mischief",
         400.0
        ],
        [
         "taking",
         66.66666666666667
        ],
        [
         "top",
         50.0
        ],
        [
         "studyworks",
         400.0
        ],
        [
         "friend",
         133.33333333333334
        ],
        [
         "sensiive",
         400.0
        ],
        [
         "zoom",
         200.0
        ],
        [
         "together",
         133.33333333333334
        ],
        [
         "fascinating",
         133.33333333333334
        ],
        [
         "everyone",
         100.0
        ],
        [
         "atlantis",
         400.0
        ],
        [
         "scaring",
         200.0
        ],
        [
         "game",
         14.285714285714286
        ],
        [
         "helman",
         400.0
        ],
        [
         "fvm318",
         400.0
        ],
        [
         "certificate",
         400.0
        ],
        [
         "tunnel",
         200.0
        ],
        [
         "md5",
         400.0
        ],
        [
         "fwag114",
         400.0
        ],
        [
         "broadband",
         400.0
        ],
        [
         "ipsec",
         400.0
        ],
        [
         "message",
         400.0
        ],
        [
         "diffie",
         400.0
        ],
        [
         "bsendorfer",
         400.0
        ],
        [
         "planet",
         200.0
        ],
        [
         "option",
         57.142857142857146
        ],
        [
         "fantastic",
         400.0
        ],
        [
         "extensive",
         66.66666666666667
        ],
        [
         "drink",
         200.0
        ],
        [
         "kerberos",
         400.0
        ],
        [
         "samba",
         400.0
        ],
        [
         "detection",
         400.0
        ],
        [
         "embraced",
         400.0
        ],
        [
         "complex",
         80.0
        ],
        [
         "adaptive",
         400.0
        ],
        [
         "enhances",
         400.0
        ],
        [
         "canon",
         400.0
        ],
        [
         "everyday",
         200.0
        ],
        [
         "sized",
         200.0
        ],
        [
         "transparent",
         200.0
        ],
        [
         "storyteller",
         200.0
        ],
        [
         "inclusive",
         400.0
        ],
        [
         "sheets",
         400.0
        ],
        [
         "lexmark",
         400.0
        ],
        [
         "cover",
         400.0
        ],
        [
         "searchable",
         400.0
        ],
        [
         "jobs",
         400.0
        ],
        [
         "macsoft",
         200.0
        ],
        [
         "tale",
         200.0
        ],
        [
         "military",
         200.0
        ],
        [
         "gods",
         100.0
        ],
        [
         "playing",
         44.44444444444444
        ],
        [
         "senders",
         400.0
        ],
        [
         "verifies",
         400.0
        ],
        [
         "spam",
         400.0
        ],
        [
         "collect",
         80.0
        ],
        [
         "strengths",
         400.0
        ],
        [
         "diagnose",
         400.0
        ],
        [
         "admission",
         200.0
        ],
        [
         "target",
         400.0
        ],
        [
         "drills",
         400.0
        ],
        [
         "universities",
         200.0
        ],
        [
         "study",
         133.33333333333334
        ],
        [
         "changing",
         200.0
        ],
        [
         "frequent",
         400.0
        ],
        [
         "bass",
         100.0
        ],
        [
         "present",
         133.33333333333334
        ],
        [
         "directors",
         200.0
        ],
        [
         "gameplay",
         133.33333333333334
        ],
        [
         "warm",
         400.0
        ],
        [
         "disappear",
         400.0
        ],
        [
         "strategy",
         66.66666666666667
        ],
        [
         "total",
         50.0
        ],
        [
         "intend",
         400.0
        ],
        [
         "titanium",
         200.0
        ],
        [
         "calliav",
         400.0
        ],
        [
         "muram",
         400.0
        ],
        [
         "dungeons",
         400.0
        ],
        [
         "wayfarers",
         400.0
        ],
        [
         "war",
         200.0
        ],
        [
         "unleashed",
         400.0
        ],
        [
         "unit",
         400.0
        ],
        [
         "powered",
         133.33333333333334
        ],
        [
         "exact",
         400.0
        ],
        [
         "portuguese",
         400.0
        ],
        [
         "flatbed",
         400.0
        ],
        [
         "russian",
         400.0
        ],
        [
         "visualize",
         200.0
        ],
        [
         "workplace",
         400.0
        ],
        [
         "multilingual",
         400.0
        ],
        [
         "french",
         100.0
        ],
        [
         "per",
         200.0
        ],
        [
         "minute",
         400.0
        ],
        [
         "alive",
         200.0
        ],
        [
         "violence",
         400.0
        ],
        [
         "magnetic",
         200.0
        ],
        [
         "wysiwyg",
         200.0
        ],
        [
         "myinvoices",
         400.0
        ],
        [
         "tank",
         400.0
        ],
        [
         "champions",
         400.0
        ],
        [
         "relying",
         400.0
        ],
        [
         "customers",
         44.44444444444444
        ],
        [
         "attack",
         200.0
        ],
        [
         "shown",
         400.0
        ],
        [
         "reduced",
         400.0
        ],
        [
         "wow",
         400.0
        ],
        [
         "asf",
         400.0
        ],
        [
         "amazing",
         80.0
        ],
        [
         "cinematic",
         200.0
        ],
        [
         "seeds",
         200.0
        ],
        [
         "roach",
         400.0
        ],
        [
         "bug",
         200.0
        ],
        [
         "lake",
         400.0
        ],
        [
         "dss",
         400.0
        ],
        [
         "beginners",
         200.0
        ],
        [
         "90",
         133.33333333333334
        ],
        [
         "scan",
         80.0
        ],
        [
         "retail",
         66.66666666666667
        ],
        [
         "sample",
         100.0
        ],
        [
         "glance",
         400.0
        ],
        [
         "restocking",
         400.0
        ],
        [
         "simplify",
         400.0
        ],
        [
         "receipts",
         400.0
        ],
        [
         "retailer",
         400.0
        ],
        [
         "decisions",
         400.0
        ],
        [
         "imaginary",
         400.0
        ],
        [
         "synchronization",
         200.0
        ],
        [
         "newsfeeds",
         400.0
        ],
        [
         "thesaurus",
         400.0
        ],
        [
         "ultimate",
         66.66666666666667
        ],
        [
         "discounts",
         400.0
        ],
        [
         "biographies",
         400.0
        ],
        [
         "grocery",
         400.0
        ],
        [
         "cook",
         400.0
        ],
        [
         "utilizing",
         400.0
        ],
        [
         "sank",
         400.0
        ],
        [
         "expedition",
         200.0
        ],
        [
         "bottom",
         400.0
        ],
        [
         "atlantic",
         400.0
        ],
        [
         "fidelity",
         400.0
        ],
        [
         "release",
         133.33333333333334
        ],
        [
         "dozens",
         400.0
        ],
        [
         "royal",
         400.0
        ],
        [
         "1066",
         400.0
        ],
        [
         "certicom",
         400.0
        ],
        [
         "triple",
         400.0
        ],
        [
         "fame",
         400.0
        ],
        [
         "witty",
         400.0
        ],
        [
         "daisy",
         400.0
        ],
        [
         "goals",
         400.0
        ],
        [
         "engrossed",
         400.0
        ],
        [
         "colorful",
         400.0
        ],
        [
         "proven",
         200.0
        ],
        [
         "familiarity",
         400.0
        ],
        [
         "come",
         400.0
        ],
        [
         "b21",
         200.0
        ],
        [
         "describes",
         200.0
        ],
        [
         "translations",
         400.0
        ],
        [
         "firms",
         200.0
        ],
        [
         "shops",
         200.0
        ],
        [
         "pantone",
         200.0
        ],
        [
         "overlook",
         400.0
        ],
        [
         "adaptec",
         400.0
        ],
        [
         "plans",
         133.33333333333334
        ],
        [
         "crm",
         400.0
        ],
        [
         "adapt",
         400.0
        ],
        [
         "problem",
         400.0
        ],
        [
         "smarter",
         400.0
        ],
        [
         "imaging",
         200.0
        ],
        [
         "composites",
         400.0
        ],
        [
         "ultra",
         80.0
        ],
        [
         "jdf",
         400.0
        ],
        [
         "hairlines",
         400.0
        ],
        [
         "extended",
         200.0
        ],
        [
         "pen",
         200.0
        ],
        [
         "flatten",
         400.0
        ],
        [
         "applescript",
         400.0
        ],
        [
         "contribute",
         400.0
        ],
        [
         "conferencing",
         400.0
        ],
        [
         "example",
         400.0
        ],
        [
         "intuitively",
         400.0
        ],
        [
         "depend",
         400.0
        ],
        [
         "currencies",
         400.0
        ],
        [
         "installs",
         200.0
        ],
        [
         "sp1",
         100.0
        ],
        [
         "statements",
         400.0
        ],
        [
         "u",
         133.33333333333334
        ],
        [
         "member",
         400.0
        ],
        [
         "amd",
         400.0
        ],
        [
         "increases",
         200.0
        ],
        [
         "18xx",
         400.0
        ],
        [
         "offerings",
         200.0
        ],
        [
         "gateways",
         400.0
        ],
        [
         "routing",
         400.0
        ],
        [
         "softwareandquot",
         400.0
        ],
        [
         "intensive",
         400.0
        ],
        [
         "worldandquot",
         400.0
        ],
        [
         "colleagues",
         400.0
        ],
        [
         "hyperlinks",
         400.0
        ],
        [
         "generator",
         200.0
        ],
        [
         "calculation",
         400.0
        ],
        [
         "powerpoint",
         133.33333333333334
        ],
        [
         "background",
         200.0
        ],
        [
         "resize",
         133.33333333333334
        ],
        [
         "spectacular",
         400.0
        ],
        [
         "crop",
         133.33333333333334
        ],
        [
         "font",
         200.0
        ],
        [
         "worshippers",
         400.0
        ],
        [
         "resisted",
         400.0
        ],
        [
         "npc",
         400.0
        ],
        [
         "hope",
         400.0
        ],
        [
         "invites",
         400.0
        ],
        [
         "began",
         400.0
        ],
        [
         "counter",
         400.0
        ],
        [
         "achieve",
         200.0
        ],
        [
         "spend",
         400.0
        ],
        [
         "hundred",
         400.0
        ],
        [
         "found",
         200.0
        ],
        [
         "darkness",
         200.0
        ],
        [
         "discovering",
         400.0
        ],
        [
         "powers",
         400.0
        ],
        [
         "paradise",
         200.0
        ],
        [
         "breath",
         200.0
        ],
        [
         "five",
         66.66666666666667
        ],
        [
         "exotic",
         133.33333333333334
        ],
        [
         "tunetech",
         400.0
        ],
        [
         "discreet",
         400.0
        ],
        [
         "efx",
         400.0
        ],
        [
         "could",
         400.0
        ],
        [
         "interpretair",
         200.0
        ],
        [
         "construction",
         400.0
        ],
        [
         "visualization",
         400.0
        ],
        [
         "health",
         400.0
        ],
        [
         "addressing",
         400.0
        ],
        [
         "d4800369",
         400.0
        ],
        [
         "ownership",
         400.0
        ],
        [
         "bare",
         400.0
        ],
        [
         "isn",
         200.0
        ],
        [
         "ax",
         400.0
        ],
        [
         "garnishes",
         400.0
        ],
        [
         "advice",
         400.0
        ],
        [
         "300",
         133.33333333333334
        ],
        [
         "learn2",
         200.0
        ],
        [
         "watched",
         400.0
        ],
        [
         "42050106",
         200.0
        ],
        [
         "travels",
         400.0
        ],
        [
         "sexiest",
         400.0
        ],
        [
         "adventurer",
         400.0
        ],
        [
         "discovery",
         400.0
        ],
        [
         "second",
         400.0
        ],
        [
         "remain",
         400.0
        ],
        [
         "logic",
         100.0
        ],
        [
         "karkuro",
         200.0
        ],
        [
         "buku",
         200.0
        ],
        [
         "newspapers",
         400.0
        ],
        [
         "cluster",
         400.0
        ],
        [
         "e180518",
         400.0
        ],
        [
         "10g",
         400.0
        ],
        [
         "massively",
         400.0
        ],
        [
         "vivendi",
         200.0
        ],
        [
         "filling",
         400.0
        ],
        [
         "simplicity",
         400.0
        ],
        [
         "hse",
         200.0
        ],
        [
         "informationenjoy",
         400.0
        ],
        [
         "yourpc",
         400.0
        ],
        [
         "essentials",
         200.0
        ],
        [
         "orchestra",
         200.0
        ],
        [
         "392",
         400.0
        ],
        [
         "genealogy",
         400.0
        ],
        [
         "wait",
         400.0
        ],
        [
         "vowel",
         400.0
        ],
        [
         "430",
         400.0
        ],
        [
         "millennia",
         400.0
        ],
        [
         "h32",
         400.0
        ],
        [
         "nuendo",
         400.0
        ],
        [
         "forecasts",
         400.0
        ],
        [
         "partner",
         400.0
        ],
        [
         "qual",
         400.0
        ],
        [
         "wincleaner",
         400.0
        ],
        [
         "guitarist",
         400.0
        ],
        [
         "island",
         400.0
        ],
        [
         "6sb",
         400.0
        ],
        [
         "carbohydrate",
         400.0
        ],
        [
         "weight",
         400.0
        ],
        [
         "gamecard",
         400.0
        ],
        [
         "totalstorage",
         400.0
        ],
        [
         "40248",
         400.0
        ],
        [
         "effort",
         400.0
        ],
        [
         "corner",
         400.0
        ],
        [
         "9999",
         400.0
        ],
        [
         "00301",
         400.0
        ],
        [
         "pianosoft",
         133.33333333333334
        ],
        [
         "andpc",
         400.0
        ],
        [
         "arrange",
         400.0
        ],
        [
         "mansion",
         400.0
        ],
        [
         "pool",
         200.0
        ],
        [
         "harmonic",
         400.0
        ],
        [
         "prof",
         200.0
        ],
        [
         "pz24a0075",
         400.0
        ],
        [
         "2ghz",
         400.0
        ],
        [
         "cpu",
         400.0
        ],
        [
         "circuit",
         400.0
        ],
        [
         "navarre",
         400.0
        ],
        [
         "cohesive",
         400.0
        ],
        [
         "hierarchy",
         400.0
        ],
        [
         "fencing",
         400.0
        ],
        [
         "laurence",
         400.0
        ],
        [
         "juber",
         400.0
        ],
        [
         "clutter",
         400.0
        ],
        [
         "intego",
         400.0
        ],
        [
         "underworld",
         400.0
        ],
        [
         "havoc",
         400.0
        ],
        [
         "bomber",
         400.0
        ],
        [
         "mcafee",
         400.0
        ],
        [
         "angles",
         400.0
        ],
        [
         "tall",
         400.0
        ],
        [
         "13",
         400.0
        ],
        [
         "division",
         400.0
        ],
        [
         "ambient",
         400.0
        ],
        [
         "sw",
         400.0
        ],
        [
         "mngmt",
         400.0
        ],
        [
         "loaded",
         200.0
        ],
        [
         "wars",
         200.0
        ],
        [
         "enlighten",
         400.0
        ],
        [
         "diana",
         400.0
        ],
        [
         "excitingfast",
         400.0
        ],
        [
         "europa",
         400.0
        ],
        [
         "successful",
         200.0
        ],
        [
         "atarifeatures",
         400.0
        ],
        [
         "focuses",
         400.0
        ],
        [
         "26162",
         400.0
        ],
        [
         "muscular",
         400.0
        ],
        [
         "2700",
         400.0
        ],
        [
         "hints",
         400.0
        ],
        [
         "eg03014",
         400.0
        ],
        [
         "crossgrade",
         400.0
        ],
        [
         "thru",
         400.0
        ],
        [
         "camerata",
         400.0
        ],
        [
         "conductor",
         400.0
        ],
        [
         "difficult",
         400.0
        ],
        [
         "drum",
         400.0
        ],
        [
         "hudson",
         400.0
        ],
        [
         "jo",
         400.0
        ],
        [
         "dealing",
         400.0
        ],
        [
         "n2",
         400.0
        ],
        [
         "41032",
         400.0
        ],
        [
         "nc",
         400.0
        ],
        [
         "roleplaying",
         400.0
        ],
        [
         "darklords",
         400.0
        ],
        [
         "87",
         400.0
        ],
        [
         "teachers",
         400.0
        ],
        [
         "ups",
         400.0
        ]
       ],
       "datasetInfos": [],
       "dbfsResultPath": null,
       "isJsonSchema": true,
       "metadata": {},
       "overflow": false,
       "plotOptions": {
        "customPlotOptions": {},
        "displayType": "table",
        "pivotAggregation": null,
        "pivotColumns": null,
        "xColumns": null,
        "yColumns": null
       },
       "removedWidgets": [],
       "schema": [
        {
         "metadata": "{}",
         "name": "Token",
         "type": "\"string\""
        },
        {
         "metadata": "{}",
         "name": "IDF_Value",
         "type": "\"double\""
        }
       ],
       "type": "table"
      }
     },
     "output_type": "display_data"
    },
    {
     "output_type": "display_data",
     "data": {
      "text/plain": [
       "Databricks visualization. Run in Databricks to view."
      ]
     },
     "metadata": {
      "application/vnd.databricks.v1.subcommand+json": {
       "baseErrorDetails": null,
       "bindings": {},
       "collapsed": false,
       "command": "%python\n__backend_agg_display_orig = display\n__backend_agg_dfs = []\ndef __backend_agg_display_new(df):\n    __backend_agg_df_modules = [\"pandas.core.frame\", \"databricks.koalas.frame\", \"pyspark.sql.dataframe\", \"pyspark.pandas.frame\", \"pyspark.sql.connect.dataframe\"]\n    if (type(df).__module__ in __backend_agg_df_modules and type(df).__name__ == 'DataFrame') or isinstance(df, list):\n        __backend_agg_dfs.append(df)\n\ndisplay = __backend_agg_display_new\n\ndef __backend_agg_user_code_fn():\n    import base64\n    exec(base64.standard_b64decode(\"ZnJvbSBweXNwYXJrLnNxbCBpbXBvcnQgU3BhcmtTZXNzaW9uCgojIEVuc3VyZSBTcGFya1Nlc3Npb24gZXhpc3RzCnNwYXJrID0gU3BhcmtTZXNzaW9uLmJ1aWxkZXIuZ2V0T3JDcmVhdGUoKQoKIyBDb252ZXJ0IFJERCB0byBEYXRhRnJhbWUKaWRmc1RvQ291bnRSb3cgPSBpZGZzU21hbGwubWFwKGxhbWJkYSB4OiAoeFswXSwgeFsxXSkpICAjIChUb2tlbiwgSURGIFZhbHVlKQppZGZzVG9Db3VudERGID0gc3BhcmsuY3JlYXRlRGF0YUZyYW1lKGlkZnNUb0NvdW50Um93LCBbIlRva2VuIiwgIklERl9WYWx1ZSJdKQoKIyBEaXNwbGF5IGluIERhdGFicmlja3MgKFN3aXRjaCB0byAiVmlzdWFsaXphdGlvbiIg4oaSIFNlbGVjdCAiSGlzdG9ncmFtIikKZGlzcGxheShpZGZzVG9Db3VudERGKQo=\").decode())\n\ntry:\n    # run user code\n    __backend_agg_user_code_fn()\n\n    #reset display function\n    display = __backend_agg_display_orig\n\n    if len(__backend_agg_dfs) > 0:\n        # create a temp view\n        if type(__backend_agg_dfs[0]).__module__ == \"databricks.koalas.frame\":\n            # koalas dataframe\n            __backend_agg_dfs[0].to_spark().createOrReplaceTempView(\"DatabricksView0b4b8de\")\n        elif type(__backend_agg_dfs[0]).__module__ == \"pandas.core.frame\" or isinstance(__backend_agg_dfs[0], list):\n            # pandas dataframe\n            spark.createDataFrame(__backend_agg_dfs[0]).createOrReplaceTempView(\"DatabricksView0b4b8de\")\n        else:\n            __backend_agg_dfs[0].createOrReplaceTempView(\"DatabricksView0b4b8de\")\n        #run backend agg\n        display(spark.sql(\"\"\"WITH q AS (select * from DatabricksView0b4b8de) ,min_max AS (SELECT `IDF_Value`,(SELECT MAX(`IDF_Value`) FROM q) `target_column_max`,(SELECT MIN(`IDF_Value`) FROM q) `target_column_min` FROM q) ,histogram_meta AS (SELECT `IDF_Value`,`target_column_min` `min_value`,IF(`target_column_max` = `target_column_min`,`target_column_max` + 1,`target_column_max`) `max_value`,(`target_column_max` - `target_column_min`) / 10 `step` FROM min_max) SELECT IF(ISNULL(`IDF_Value`),NULL,LEAST(WIDTH_BUCKET(`IDF_Value`,`min_value`,`max_value`,10),10)) `IDF_Value_BIN`,FIRST(`min_value` + ((IF(ISNULL(`IDF_Value`),NULL,LEAST(WIDTH_BUCKET(`IDF_Value`,`min_value`,`max_value`,10),10)) - 1) * `step`)) `IDF_Value_BIN_LOWER_BOUND`,FIRST(`step`) `IDF_Value_BIN_STEP`,COUNT(`IDF_Value`) `COUNT` FROM histogram_meta GROUP BY `IDF_Value_BIN`\"\"\"))\n    else:\n        displayHTML(\"dataframe no longer exists. If you're using dataframe.display(), use display(dataframe) instead.\")\n\n\nfinally:\n    spark.sql(\"drop view if exists DatabricksView0b4b8de\")\n    display = __backend_agg_display_orig\n    del __backend_agg_display_new\n    del __backend_agg_display_orig\n    del __backend_agg_dfs\n    del __backend_agg_user_code_fn\n\n",
       "commandTitle": "Visualization 1",
       "commandType": "auto",
       "commandVersion": 0,
       "commentThread": [],
       "commentsVisible": false,
       "contentSha256Hex": null,
       "customPlotOptions": {
        "redashChart": [
         {
          "key": "type",
          "value": "CHART"
         },
         {
          "key": "options",
          "value": {
           "alignYAxesAtZero": true,
           "coefficient": 1,
           "columnConfigurationMap": {
            "x": {
             "column": "IDF_Value",
             "id": "column_410543d3406"
            }
           },
           "dateTimeFormat": "DD/MM/YYYY HH:mm",
           "direction": {
            "type": "counterclockwise"
           },
           "error_y": {
            "type": "data",
            "visible": true
           },
           "globalSeriesType": "histogram",
           "isAggregationOn": true,
           "legend": {
            "traceorder": "normal"
           },
           "missingValuesAsZero": true,
           "numBins": 10,
           "numberFormat": "0,0.[00000]",
           "percentFormat": "0[.]00%",
           "series": {
            "error_y": {
             "type": "data",
             "visible": true
            },
            "stacking": null
           },
           "seriesOptions": {},
           "showDataLabels": false,
           "sizemode": "diameter",
           "sortX": true,
           "sortY": true,
           "swappedAxes": false,
           "textFormat": "",
           "useAggregationsUi": true,
           "valuesOptions": {},
           "version": 2,
           "xAxis": {
            "labels": {
             "enabled": true
            },
            "type": "-"
           },
           "yAxis": [
            {
             "type": "-"
            },
            {
             "opposite": true,
             "type": "-"
            }
           ]
          }
         }
        ]
       },
       "datasetPreviewNameToCmdIdMap": {},
       "diffDeletes": [],
       "diffInserts": [],
       "displayType": "redashChart",
       "error": null,
       "errorDetails": null,
       "errorSummary": null,
       "errorTraceType": null,
       "finishTime": 0,
       "globalVars": {},
       "guid": "",
       "height": "auto",
       "hideCommandCode": false,
       "hideCommandResult": false,
       "iPythonMetadata": null,
       "inputWidgets": {},
       "isLockedInExamMode": false,
       "latestUser": "a user",
       "latestUserId": null,
       "listResultMetadata": null,
       "metadata": {
        "byteLimit": 2048000,
        "rowLimit": 10000
       },
       "nuid": "ce8cf9cb-ebd7-446b-917f-7b756435a0f6",
       "origId": 0,
       "parentHierarchy": [],
       "pivotAggregation": null,
       "pivotColumns": null,
       "position": 45.0,
       "resultDbfsErrorMessage": null,
       "resultDbfsStatus": "INLINED_IN_TREE",
       "results": null,
       "showCommandTitle": false,
       "startTime": 0,
       "state": "finished",
       "streamStates": {},
       "subcommandOptions": {
        "queryPlan": {
         "groups": [
          {
           "column": "IDF_Value_BIN",
           "type": "column"
          }
         ],
         "selects": [
          {
           "alias": "IDF_Value_BIN",
           "args": [
            {
             "column": "IDF_Value",
             "type": "column"
            },
            {
             "number": 10,
             "type": "number"
            }
           ],
           "function": "BIN",
           "type": "function"
          },
          {
           "alias": "IDF_Value_BIN_LOWER_BOUND",
           "args": [
            {
             "column": "IDF_Value",
             "type": "column"
            },
            {
             "number": 10,
             "type": "number"
            }
           ],
           "function": "BIN_LOWER_BOUND",
           "type": "function"
          },
          {
           "alias": "IDF_Value_BIN_STEP",
           "args": [
            {
             "column": "IDF_Value",
             "type": "column"
            },
            {
             "number": 10,
             "type": "number"
            }
           ],
           "function": "BIN_STEP",
           "type": "function"
          },
          {
           "alias": "COUNT",
           "args": [
            {
             "column": "IDF_Value",
             "type": "column"
            }
           ],
           "function": "COUNT",
           "type": "function"
          }
         ]
        }
       },
       "submitTime": 0,
       "subtype": "tableResultSubCmd.visualization",
       "tableResultIndex": 0,
       "tableResultSettingsMap": {},
       "useConsistentColors": false,
       "version": "CommandV1",
       "width": "auto",
       "workflows": [],
       "xColumns": null,
       "yColumns": null
      }
     },
     "output_type": "display_data"
    }
   ],
   "source": [
    "from pyspark.sql import SparkSession\n",
    "\n",
    "# Ensure SparkSession exists\n",
    "spark = SparkSession.builder.getOrCreate()\n",
    "\n",
    "# Convert RDD to DataFrame\n",
    "idfsToCountRow = idfsSmall.map(lambda x: (x[0], x[1]))  # (Token, IDF Value)\n",
    "idfsToCountDF = spark.createDataFrame(idfsToCountRow, [\"Token\", \"IDF_Value\"])\n",
    "\n",
    "# Display in Databricks (Switch to \"Visualization\" → Select \"Histogram\")\n",
    "display(idfsToCountDF)\n"
   ]
  },
  {
   "cell_type": "markdown",
   "metadata": {
    "application/vnd.databricks.v1+cell": {
     "cellMetadata": {
      "byteLimit": 2048000,
      "rowLimit": 10000
     },
     "inputWidgets": {},
     "nuid": "ba27e260-b9d6-494c-9a8b-f6b61474930a",
     "showTitle": false,
     "tableResultSettingsMap": {},
     "title": ""
    }
   },
   "source": [
    "### (2f) Implement a TF-IDF function\n",
    "Use your `tf` function to implement a `tfidf(tokens, idfs)` function that takes a list of tokens from a document and a Python dictionary of IDF weights and returns a Python dictionary mapping individual tokens to total TF-IDF weights.\n",
    "\n",
    "The steps your function should perform are:\n",
    "* Calculate the token frequencies (TF) for `tokens`\n",
    "* Create a Python dictionary where each token maps to the token's frequency times the token's IDF weight\n",
    "\n",
    "Use your `tfidf` function to compute the weights of Amazon product record 'b000hkgj8k'. To do this, we need to extract the record for the token from the tokenized small Amazon dataset and we need to convert the IDFs for the small dataset into a Python dictionary. We can do the first part, by using a `filter()` transformation to extract the matching record and a `collect()` action to return the value to the driver.\n",
    "\n",
    "For the second part, we use the [`collectAsMap()` action](https://spark.apache.org/docs/3.4.0/api/python/reference/api/pyspark.RDD.collectAsMap.html) to return the IDFs to the driver as a Python dictionary."
   ]
  },
  {
   "cell_type": "code",
   "execution_count": 0,
   "metadata": {
    "application/vnd.databricks.v1+cell": {
     "cellMetadata": {
      "byteLimit": 2048000,
      "rowLimit": 10000
     },
     "inputWidgets": {},
     "nuid": "8fd1499c-c6ad-4f24-af12-bf106ecebebc",
     "showTitle": false,
     "tableResultSettingsMap": {},
     "title": ""
    },
    "deletable": false,
    "nbgrader": {
     "cell_type": "code",
     "checksum": "7eb34e1a642211f70874e15c9370c0c9",
     "grade": false,
     "grade_id": "tfidf",
     "locked": false,
     "schema_version": 3,
     "solution": true,
     "task": false
    }
   },
   "outputs": [],
   "source": [
    "from collections import Counter\n",
    "\n",
    "def tfidf(tokens, idfs):\n",
    "    \"\"\" Compute TF-IDF\n",
    "    Args:\n",
    "        tokens (list of str): input list of tokens from tokenize\n",
    "        idfs (dictionary): record to IDF value\n",
    "    Returns:\n",
    "        dictionary: a dictionary of tokens to TF-IDF values\n",
    "    \"\"\"\n",
    "    # Step 1: Compute Term Frequency (TF) with Normalization\n",
    "    total_terms = len(tokens)  # Total words in the document\n",
    "    tfs = {token: tokens.count(token) / total_terms for token in set(tokens)}  # Normalized TF\n",
    "\n",
    "    # Step 2: Compute TF-IDF\n",
    "    tfIdfDict = {token: (tfs[token] * idfs.get(token, 0)) for token in tfs}\n",
    "\n",
    "    return tfIdfDict\n"
   ]
  },
  {
   "cell_type": "code",
   "execution_count": 0,
   "metadata": {
    "application/vnd.databricks.v1+cell": {
     "cellMetadata": {
      "byteLimit": 2048000,
      "rowLimit": 10000
     },
     "inputWidgets": {},
     "nuid": "b02a164d-39f2-441a-a8ee-f0cc1f425e38",
     "showTitle": false,
     "tableResultSettingsMap": {},
     "title": ""
    },
    "deletable": false,
    "editable": false,
    "nbgrader": {
     "cell_type": "code",
     "checksum": "5bf2b7e651ff01ff88c6e78363d224fa",
     "grade": true,
     "grade_id": "tfidf_test",
     "locked": true,
     "points": 3,
     "schema_version": 3,
     "solution": false,
     "task": false
    },
    "tags": []
   },
   "outputs": [],
   "source": [
    "\"\"\"Check for the TFIDF score vector associated with Record recb000jz4hqo\"\"\"\n",
    "assert_equal(rec_b000hkgj8k_weights, \n",
    "                   {'autocad': 33.33333333333333, 'autodesk': 8.333333333333332,\n",
    "                    'courseware': 66.66666666666666, 'psg': 33.33333333333333,\n",
    "                    '2007': 3.5087719298245617, 'customizing': 16.666666666666664,\n",
    "                    'interface': 3.0303030303030303})\n"
   ]
  },
  {
   "cell_type": "markdown",
   "metadata": {
    "application/vnd.databricks.v1+cell": {
     "cellMetadata": {
      "byteLimit": 2048000,
      "rowLimit": 10000
     },
     "inputWidgets": {},
     "nuid": "219ba68a-1e19-4ba5-8352-4134a80e46ae",
     "showTitle": false,
     "tableResultSettingsMap": {},
     "title": ""
    }
   },
   "source": [
    "## Part 3: ER as Text Similarity - Cosine Similarity\n",
    "Now we are ready to do text comparisons in a formal way. The metric of string distance we will use is called **[cosine similarity][cosine]**. We will treat each document as a vector in some high dimensional space. Then, to compare two documents we compute the cosine of the angle between their two document vectors. This is *much* easier than it sounds.\n",
    "\n",
    "The first question to answer is how do we represent documents as vectors? The answer is familiar: bag-of-words! We treat each unique token as a dimension, and treat token weights as magnitudes in their respective token dimensions. For example, suppose we use simple counts as weights, and we want to interpret the string \"Hello, world!  Goodbye, world!\" as a vector. Then in the \"hello\" and \"goodbye\" dimensions the vector has value 1, in the \"world\" dimension it has value 2, and it is zero in all other dimensions.\n",
    "\n",
    "The next question is: given two vectors how do we find the cosine of the angle between them? Recall the formula for the dot product of two vectors:\n",
    "\\\\[ a \\cdot b = \\| a \\| \\| b \\| \\cos \\theta \\\\]\n",
    "Here \\\\( a \\cdot b = \\sum a_i b_i \\\\) is the ordinary dot product of two vectors, and \\\\( \\|a\\| = \\sqrt{ \\sum a_i^2 } \\\\) is the norm of \\\\( a \\\\).\n",
    "\n",
    "We can rearrange terms and solve for the cosine to find it is simply the normalized dot product of the vectors. With our vector model, the dot product and norm computations are simple functions of the bag-of-words document representations, so we now have a formal way to compute similarity:\n",
    "\\\\[ similarity = \\cos \\theta = \\frac{a \\cdot b}{\\|a\\| \\|b\\|} = \\frac{\\sum a_i b_i}{\\sqrt{\\sum a_i^2} \\sqrt{\\sum b_i^2}} \\\\]\n",
    "\n",
    "Setting aside the algebra, the geometric interpretation is more intuitive. The angle between two document vectors is small if they share many tokens in common, because they are pointing in roughly the same direction. For that case, the cosine of the angle will be large. Otherwise, if the angle is large (and they have few words in common), the cosine is small. Therefore, cosine similarity scales proportionally with our intuitive sense of similarity.\n",
    "[cosine]: https://en.wikipedia.org/wiki/Cosine_similarity"
   ]
  },
  {
   "cell_type": "markdown",
   "metadata": {
    "application/vnd.databricks.v1+cell": {
     "cellMetadata": {
      "byteLimit": 2048000,
      "rowLimit": 10000
     },
     "inputWidgets": {},
     "nuid": "4aa09c45-1cca-4a2b-bb41-0b7058ac64bb",
     "showTitle": false,
     "tableResultSettingsMap": {},
     "title": ""
    }
   },
   "source": [
    "### (3a) Implement the components of a `cosineSimilarity` function\n",
    "Implement the components of a `cosineSimilarity` function.\n",
    "Use the `tokenize` and `tfidf` functions, and the IDF weights from Part 2 for extracting tokens and assigning them weights.\n",
    "The steps you should perform are:\n",
    "* Define a function `dotprod` that takes two Python dictionaries and produces the dot product of them, where the dot product is defined as the sum of the product of values for tokens that appear in *both* dictionaries\n",
    "* Define a function `norm` that returns the square root of the dot product of a dictionary and itself\n",
    "* Define a function `cossim` that returns the dot product of two dictionaries divided by the norm of the first dictionary and then by the norm of the second dictionary"
   ]
  },
  {
   "cell_type": "code",
   "execution_count": 0,
   "metadata": {
    "application/vnd.databricks.v1+cell": {
     "cellMetadata": {
      "byteLimit": 2048000,
      "rowLimit": 10000
     },
     "inputWidgets": {},
     "nuid": "0ffc427d-ce48-4d99-ab9e-3fa958db950d",
     "showTitle": false,
     "tableResultSettingsMap": {},
     "title": ""
    },
    "deletable": false,
    "nbgrader": {
     "cell_type": "code",
     "checksum": "0ee8e358cc2f096db30895eaf21db3c0",
     "grade": false,
     "grade_id": "cosine_similarity_math",
     "locked": false,
     "schema_version": 3,
     "solution": true,
     "task": false
    }
   },
   "outputs": [
    {
     "output_type": "stream",
     "name": "stdout",
     "output_type": "stream",
     "text": [
      "Dot Product: 102\nNorm: 6.1644\nCosine Similarity: 0.8263\n"
     ]
    }
   ],
   "source": [
    "import math\n",
    "\n",
    "# 1️⃣ Compute dot product of two vectors\n",
    "def dotprod(a, b):\n",
    "    \"\"\" Compute dot product of two dictionaries\n",
    "    Args:\n",
    "        a (dict): First dictionary of token weights\n",
    "        b (dict): Second dictionary of token weights\n",
    "    Returns:\n",
    "        float: Dot product value\n",
    "    \"\"\"\n",
    "    return sum(a[token] * b[token] for token in a if token in b)\n",
    "\n",
    "# 2️⃣ Compute vector norm\n",
    "def norm(a):\n",
    "    \"\"\" Compute the L2 norm of a dictionary\n",
    "    Args:\n",
    "        a (dict): Dictionary of token weights\n",
    "    Returns:\n",
    "        float: Norm value\n",
    "    \"\"\"\n",
    "    return math.sqrt(sum(value ** 2 for value in a.values()))\n",
    "\n",
    "# 3️⃣ Compute cosine similarity\n",
    "def cossim(a, b):\n",
    "    \"\"\" Compute cosine similarity between two dictionaries\n",
    "    Args:\n",
    "        a (dict): First dictionary of token weights\n",
    "        b (dict): Second dictionary of token weights\n",
    "    Returns:\n",
    "        float: Cosine similarity value\n",
    "    \"\"\"\n",
    "    dot_product = dotprod(a, b)\n",
    "    norm_a = norm(a)\n",
    "    norm_b = norm(b)\n",
    "\n",
    "    # Prevent division by zero\n",
    "    if norm_a == 0 or norm_b == 0:\n",
    "        return 0.0\n",
    "\n",
    "    return dot_product / (norm_a * norm_b)\n",
    "\n",
    "# ✅ Test Cases\n",
    "testVec1 = {'foo': 2, 'bar': 3, 'baz': 5}\n",
    "testVec2 = {'foo': 1, 'bar': 0, 'baz': 20}\n",
    "\n",
    "dp = dotprod(testVec1, testVec2)\n",
    "nm = norm(testVec1)\n",
    "cs = cossim(testVec1, testVec2)\n",
    "\n",
    "print(f\"Dot Product: {dp}\")    # Expected: 102  (2*1 + 3*0 + 5*20)\n",
    "print(f\"Norm: {nm:.4f}\")       # Expected: sqrt(2^2 + 3^2 + 5^2) = sqrt(38)\n",
    "print(f\"Cosine Similarity: {cs:.4f}\")  # Expected value ≈ 0.8381\n"
   ]
  },
  {
   "cell_type": "code",
   "execution_count": 0,
   "metadata": {
    "application/vnd.databricks.v1+cell": {
     "cellMetadata": {
      "byteLimit": 2048000,
      "rowLimit": 10000
     },
     "inputWidgets": {},
     "nuid": "2fbe5529-a41c-452d-801d-83e02cdf7a76",
     "showTitle": false,
     "tableResultSettingsMap": {},
     "title": ""
    },
    "deletable": false,
    "editable": false,
    "nbgrader": {
     "cell_type": "code",
     "checksum": "9fd177f7b66d5c9a0a49fd909c8a7d25",
     "grade": true,
     "grade_id": "cosine_similarity_math_test",
     "locked": true,
     "points": 3,
     "schema_version": 3,
     "solution": false,
     "task": false
    },
    "tags": []
   },
   "outputs": [],
   "source": [
    "\"\"\"Check that the dot product between testVec1 and testVec2 is 102\"\"\"\n",
    "assert_equal(dp, 102)\n",
    "\"\"\"Check that the L2 norm of testVec1 is around 6.16441400297\"\"\"\n",
    "assert_true(abs(nm - 6.16441400297) < 0.0000001)\n",
    "\"\"\"Check that the cosine similarity between testVec1 and testVec2 is around 0.826297021229\"\"\"\n",
    "assert_true(abs(cs - 0.826297021229) < 0.0000001)"
   ]
  },
  {
   "cell_type": "markdown",
   "metadata": {
    "application/vnd.databricks.v1+cell": {
     "cellMetadata": {
      "byteLimit": 2048000,
      "rowLimit": 10000
     },
     "inputWidgets": {},
     "nuid": "b7f91892-7707-4aaa-a04f-ea729ef223ce",
     "showTitle": false,
     "tableResultSettingsMap": {},
     "title": ""
    }
   },
   "source": [
    "### (3b) Implement a `cosineSimilarity` function\n",
    "Implement a `cosineSimilarity(string1, string2, idfsDictionary)` function that takes two strings and a dictionary of IDF weights, and computes their cosine similarity in the context of some global IDF weights.\n",
    "\n",
    "The steps you should perform are:\n",
    "* Apply your `tfidf` function to the tokenized first and second strings, using the dictionary of IDF weights\n",
    "* Compute and return your `cossim` function applied to the results of the two `tfidf` functions"
   ]
  },
  {
   "cell_type": "code",
   "execution_count": 0,
   "metadata": {
    "application/vnd.databricks.v1+cell": {
     "cellMetadata": {
      "byteLimit": 2048000,
      "rowLimit": 10000
     },
     "inputWidgets": {},
     "nuid": "661ed811-629e-42e2-a05c-f95eec32856a",
     "showTitle": false,
     "tableResultSettingsMap": {},
     "title": ""
    },
    "deletable": false,
    "nbgrader": {
     "cell_type": "code",
     "checksum": "61bfceb68fdbd5a1618d26e7538624ce",
     "grade": false,
     "grade_id": "cosine_similarity",
     "locked": false,
     "schema_version": 3,
     "solution": true,
     "task": false
    }
   },
   "outputs": [
    {
     "output_type": "stream",
     "name": "stdout",
     "output_type": "stream",
     "text": [
      "Cosine Similarity: 0.05772433821630337\n"
     ]
    }
   ],
   "source": [
    "import numpy as np\n",
    "\n",
    "def cossim(vec1, vec2):\n",
    "    \"\"\" Compute cosine similarity between two TF-IDF vectors\n",
    "    Args:\n",
    "        vec1 (dict): First document's TF-IDF vector\n",
    "        vec2 (dict): Second document's TF-IDF vector\n",
    "    Returns:\n",
    "        float: Cosine similarity value\n",
    "    \"\"\"\n",
    "\n",
    "    all_tokens = set(vec1.keys()).union(set(vec2.keys()))\n",
    "\n",
    "    vec1_arr = np.array([vec1.get(token, 0) for token in all_tokens])\n",
    "    vec2_arr = np.array([vec2.get(token, 0) for token in all_tokens])\n",
    "\n",
    "\n",
    "    numerator = np.dot(vec1_arr, vec2_arr)\n",
    "    denominator = (np.linalg.norm(vec1_arr) * np.linalg.norm(vec2_arr))\n",
    "\n",
    "    return numerator / denominator if denominator != 0 else 0.0\n",
    "\n",
    "def cosineSimilarity(string1, string2, idfsDictionary):\n",
    "    \"\"\" Compute cosine similarity between two strings\n",
    "    Args:\n",
    "        string1 (str): first string\n",
    "        string2 (str): second string\n",
    "        idfsDictionary (dictionary): a dictionary of IDF values\n",
    "    Returns:\n",
    "        float: cosine similarity value\n",
    "    \"\"\"\n",
    "\n",
    "    tokens1 = tokenize(string1)\n",
    "    tokens2 = tokenize(string2)\n",
    "\n",
    "    w1 = tfidf(tokens1, idfsDictionary)\n",
    "    w2 = tfidf(tokens2, idfsDictionary)\n",
    "\n",
    "    return cossim(w1, w2)\n",
    "\n",
    "\n",
    "cossimAdobe = cosineSimilarity('Adobe Photoshop', 'Adobe Illustrator', idfsSmallWeights)\n",
    "\n",
    "print(\"Cosine Similarity:\", cossimAdobe)\n"
   ]
  },
  {
   "cell_type": "code",
   "execution_count": 0,
   "metadata": {
    "application/vnd.databricks.v1+cell": {
     "cellMetadata": {
      "byteLimit": 2048000,
      "rowLimit": 10000
     },
     "inputWidgets": {},
     "nuid": "2108a849-7fbd-4aee-8595-734e050adeff",
     "showTitle": false,
     "tableResultSettingsMap": {},
     "title": ""
    },
    "deletable": false,
    "editable": false,
    "nbgrader": {
     "cell_type": "code",
     "checksum": "98169fb18d0e1570dcd4ba11631be073",
     "grade": true,
     "grade_id": "cosine_similarity_test",
     "locked": true,
     "points": 3,
     "schema_version": 3,
     "solution": false,
     "task": false
    },
    "tags": []
   },
   "outputs": [],
   "source": [
    "\"\"\"Check that the cosine similarity between Adobe Photoshop and Adobe Illustrator is around 0.0577243382163\"\"\"\n",
    "assert_true(abs(cossimAdobe - 0.0577243382163) < 0.0000001)"
   ]
  },
  {
   "cell_type": "markdown",
   "metadata": {
    "application/vnd.databricks.v1+cell": {
     "cellMetadata": {
      "byteLimit": 2048000,
      "rowLimit": 10000
     },
     "inputWidgets": {},
     "nuid": "df606ea6-45d8-4922-bd17-ce4b9be170fa",
     "showTitle": false,
     "tableResultSettingsMap": {},
     "title": ""
    }
   },
   "source": [
    "### (3c) Perform Entity Resolution\n",
    "Now we can finally do some entity resolution!\n",
    "For *every* product record in the small Google dataset, use your `cosineSimilarity` function to compute its similarity to every record in the small Amazon dataset.  Then, build a dictionary mapping `(Google URL, Amazon ID)` tuples to similarity scores between 0 and 1.\n",
    "We'll do this computation two different ways, first we'll do it without a broadcast variable, and then we'll use a broadcast variable\n",
    "\n",
    "The steps you should perform are:\n",
    "* Create an RDD that is a combination of the small Google and small Amazon datasets that has as elements all pairs of elements (a, b) where a is in self and b is in other. The result will be an RDD of the form: `[ ((Google URL1, Google String1), (Amazon ID1, Amazon String1)), ((Google URL1, Google String1), (Amazon ID2, Amazon String2)), ((Google URL2, Google String2), (Amazon ID1, Amazon String1)), ... ]`\n",
    "* Define a worker function that given an element from the combination RDD computes the cosineSimlarity for the two records in the element\n",
    "* Apply the worker function to every element in the RDD\n",
    "\n",
    "Now, compute the similarity between Amazon record `b000o24l3q` and Google record `http://www.google.com/base/feeds/snippets/17242822440574356561`.\n",
    "\n",
    "**Hint**: Use Spark's [cartesian](https://spark.apache.org/docs/3.4.0/api/python/reference/api/pyspark.RDD.cartesian.html) method."
   ]
  },
  {
   "cell_type": "code",
   "execution_count": 0,
   "metadata": {
    "application/vnd.databricks.v1+cell": {
     "cellMetadata": {
      "byteLimit": 2048000,
      "rowLimit": 10000
     },
     "inputWidgets": {},
     "nuid": "1bf3c362-0cf0-4111-8f88-a25ee299d158",
     "showTitle": false,
     "tableResultSettingsMap": {},
     "title": ""
    },
    "deletable": false,
    "nbgrader": {
     "cell_type": "code",
     "checksum": "40f704dc5f687c6495e3422ae9beeaa6",
     "grade": false,
     "grade_id": "compute_similarity",
     "locked": false,
     "schema_version": 3,
     "solution": true,
     "task": false
    }
   },
   "outputs": [
    {
     "output_type": "stream",
     "name": "stdout",
     "output_type": "stream",
     "text": [
      "Requested similarity is 0.00030317194045132.\n"
     ]
    }
   ],
   "source": [
    "\n",
    "crossSmall = googleSmall.cartesian(amazonSmall).cache()\n",
    "\n",
    "\n",
    "def computeSimilarity(record):\n",
    "    \"\"\" Compute similarity on a combination record\n",
    "    Args:\n",
    "        record: a pair, (google record, amazon record)\n",
    "    Returns:\n",
    "        tuple: (google URL, amazon ID, cosine similarity value)\n",
    "    \"\"\"\n",
    "    googleRec = record[0] \n",
    "    amazonRec = record[1]  \n",
    "\n",
    "    googleURL = googleRec[0] \n",
    "    amazonID = amazonRec[0]  \n",
    "    googleValue = googleRec[1] \n",
    "    amazonValue = amazonRec[1]  \n",
    "\n",
    "\n",
    "    cs = cosineSimilarity(googleValue, amazonValue, idfsSmallWeights)\n",
    "\n",
    "    return (googleURL, amazonID, cs)\n",
    "\n",
    "similarities = crossSmall.map(computeSimilarity).cache()\n",
    "\n",
    "\n",
    "def similar(amazonID, googleURL):\n",
    "    \"\"\" Return similarity value\n",
    "    Args:\n",
    "        amazonID: amazon ID\n",
    "        googleURL: google URL\n",
    "    Returns:\n",
    "        float: cosine similarity value\n",
    "    \"\"\"\n",
    "    return (similarities\n",
    "            .filter(lambda record: (record[0] == googleURL and record[1] == amazonID))\n",
    "            .collect()[0][2])\n",
    "\n",
    "\n",
    "similarityAmazonGoogle = similar('b000o24l3q', 'http://www.google.com/base/feeds/snippets/17242822440574356561')\n",
    "\n",
    "print('Requested similarity is %s.' % similarityAmazonGoogle)\n"
   ]
  },
  {
   "cell_type": "code",
   "execution_count": 0,
   "metadata": {
    "application/vnd.databricks.v1+cell": {
     "cellMetadata": {
      "byteLimit": 2048000,
      "rowLimit": 10000
     },
     "inputWidgets": {},
     "nuid": "a82192fd-235d-4317-8fd4-df376dffa206",
     "showTitle": false,
     "tableResultSettingsMap": {},
     "title": ""
    },
    "deletable": false,
    "editable": false,
    "nbgrader": {
     "cell_type": "code",
     "checksum": "0fa1c9e120979c7fdbf966567b98fd54",
     "grade": true,
     "grade_id": "compute_similarity_test",
     "locked": true,
     "points": 3,
     "schema_version": 3,
     "solution": false,
     "task": false
    },
    "tags": []
   },
   "outputs": [],
   "source": [
    "\"\"\"Check that the cosine similarity between the Amazon record and the Google record is around 0.000303171940451\"\"\"\n",
    "assert_true(abs(similarityAmazonGoogle - 0.000303171940451) < 0.0000001)"
   ]
  },
  {
   "cell_type": "markdown",
   "metadata": {
    "application/vnd.databricks.v1+cell": {
     "cellMetadata": {
      "byteLimit": 2048000,
      "rowLimit": 10000
     },
     "inputWidgets": {},
     "nuid": "7e51bea1-4d54-42d4-853c-6d42c489dd12",
     "showTitle": false,
     "tableResultSettingsMap": {},
     "title": ""
    }
   },
   "source": [
    "### (3d) Perform Entity Resolution with Broadcast Variables\n",
    "The solution in (3c) works well for small datasets, but it requires Spark to (automatically) send the `idfsSmallWeights` variable to all the workers _for each record_. For example, if we only have one worker, and we have 1,000 records, we would be sending `idfSmallWeights` to the same worker 1,000 times. Further, if we didn't `cache()` similarities, then it might have to be recreated if we run `similar()` multiple times. While this approach works fine for small datasets, it becomes a bottleneck for larger datasets.\n",
    "\n",
    "Instead, we can use a broadcast variable - we define the broadcast variable in the driver and then we can refer to it in each worker. Spark saves the broadcast variable at each worker, so it is only sent once.\n",
    "\n",
    "The steps you should perform are:\n",
    "* Define a `computeSimilarityBroadcast` function that given an element from the combination RDD computes the cosine simlarity for the two records in the element. This will be the same as the worker function `computeSimilarity` in (3c) except that it uses a broadcast variable.\n",
    "* Apply the worker function to every element in the RDD\n",
    "\n",
    "Again, compute the similarity between Amazon record `b000o24l3q` and Google record `http://www.google.com/base/feeds/snippets/17242822440574356561`."
   ]
  },
  {
   "cell_type": "code",
   "execution_count": 0,
   "metadata": {
    "application/vnd.databricks.v1+cell": {
     "cellMetadata": {
      "byteLimit": 2048000,
      "rowLimit": 10000
     },
     "inputWidgets": {},
     "nuid": "b1d8c031-c294-4893-96de-1c96f9339bd3",
     "showTitle": false,
     "tableResultSettingsMap": {},
     "title": ""
    },
    "deletable": false,
    "nbgrader": {
     "cell_type": "code",
     "checksum": "7802a678524c2b5cfd45cf5d5c69027c",
     "grade": false,
     "grade_id": "compute_similarity_broadcast",
     "locked": false,
     "schema_version": 3,
     "solution": true,
     "task": false
    }
   },
   "outputs": [
    {
     "output_type": "stream",
     "name": "stdout",
     "output_type": "stream",
     "text": [
      "Requested similarity is 0.00030317194045132.\n"
     ]
    }
   ],
   "source": [
    "\n",
    "idfsSmallBroadcast = sc.broadcast(idfsSmallWeights)\n",
    "\n",
    "\n",
    "def computeSimilarityBroadcast(record):\n",
    "    \"\"\" Compute similarity on a combination record, using Broadcast variable\n",
    "    Args:\n",
    "        record: a pair, (google record, amazon record)\n",
    "    Returns:\n",
    "        tuple: (google URL, amazon ID, cosine similarity value)\n",
    "    \"\"\"\n",
    "    googleRec = record[0]\n",
    "    amazonRec = record[1] \n",
    "\n",
    "    googleURL = googleRec[0] \n",
    "    amazonID = amazonRec[0]\n",
    "    googleValue = googleRec[1]\n",
    "    amazonValue = amazonRec[1] \n",
    "\n",
    "    cs = cosineSimilarity(googleValue, amazonValue, idfsSmallBroadcast.value)\n",
    "\n",
    "    return (googleURL, amazonID, cs)\n",
    "\n",
    "\n",
    "similaritiesBroadcast = crossSmall.map(computeSimilarityBroadcast).cache()\n",
    "\n",
    "\n",
    "def similarBroadcast(amazonID, googleURL):\n",
    "    \"\"\" Return similarity value, computed using Broadcast variable\n",
    "    Args:\n",
    "        amazonID: amazon ID\n",
    "        googleURL: google URL\n",
    "    Returns:\n",
    "        float: cosine similarity value\n",
    "    \"\"\"\n",
    "    return (similaritiesBroadcast\n",
    "            .filter(lambda record: (record[0] == googleURL and record[1] == amazonID))\n",
    "            .collect()[0][2])\n",
    "\n",
    "similarityAmazonGoogleBroadcast = similarBroadcast('b000o24l3q', 'http://www.google.com/base/feeds/snippets/17242822440574356561')\n",
    "\n",
    "print('Requested similarity is %s.' % similarityAmazonGoogleBroadcast)\n"
   ]
  },
  {
   "cell_type": "code",
   "execution_count": 0,
   "metadata": {
    "application/vnd.databricks.v1+cell": {
     "cellMetadata": {
      "byteLimit": 2048000,
      "rowLimit": 10000
     },
     "inputWidgets": {},
     "nuid": "35a6e22f-c962-45e4-9a7b-e623a3d5013e",
     "showTitle": false,
     "tableResultSettingsMap": {},
     "title": ""
    },
    "deletable": false,
    "editable": false,
    "nbgrader": {
     "cell_type": "code",
     "checksum": "55face3cddf7d2e8a38d3bc5db1f4b0a",
     "grade": true,
     "grade_id": "compute_similarity_broadcast_test",
     "locked": true,
     "points": 3,
     "schema_version": 3,
     "solution": false,
     "task": false
    },
    "tags": []
   },
   "outputs": [],
   "source": [
    "\n",
    "\"\"\"Check that idfsSmallBroadcast is a boradcast variable\"\"\"\n",
    "assert_true(isinstance(idfsSmallBroadcast, Broadcast))\n",
    "\"\"\"Check that the number of weights/tokens is 4772\"\"\"\n",
    "assert_equal(len(idfsSmallBroadcast.value), 4772)\n",
    "\"\"\"Check that the cosine similarity between the Amazon record and the Google record is around 0.000303171940451\"\"\"\n",
    "assert_true(abs(similarityAmazonGoogleBroadcast - 0.000303171940451) < 0.0000001)"
   ]
  },
  {
   "cell_type": "markdown",
   "metadata": {
    "application/vnd.databricks.v1+cell": {
     "cellMetadata": {
      "byteLimit": 2048000,
      "rowLimit": 10000
     },
     "inputWidgets": {},
     "nuid": "31a0f0bd-d392-48e3-8ba9-2d46f64528ee",
     "showTitle": false,
     "tableResultSettingsMap": {},
     "title": ""
    }
   },
   "source": [
    "### (3e) Perform a Gold Standard evaluation\n",
    "\n",
    "First, we'll load the \"gold standard\" data, considered to be ground truth, and use it to answer several questions. We read and parse the Gold Standard data, where the format of each line is \"Amazon Product ID\",\"Google URL\". The resulting RDD has elements of the form:\n",
    "\n",
    "```\n",
    "(\"AmazonID GoogleURL\", 'gold')\n",
    "```\n",
    "\n",
    "Run the following cell to create the `parse_goldfile_line()` function that we'll use to parse the data."
   ]
  },
  {
   "cell_type": "code",
   "execution_count": 0,
   "metadata": {
    "application/vnd.databricks.v1+cell": {
     "cellMetadata": {
      "byteLimit": 2048000,
      "rowLimit": 10000
     },
     "inputWidgets": {},
     "nuid": "9c067da1-a9aa-41a6-b0c0-57c8cefcb018",
     "showTitle": false,
     "tableResultSettingsMap": {},
     "title": ""
    }
   },
   "outputs": [
    {
     "output_type": "stream",
     "name": "stdout",
     "output_type": "stream",
     "text": [
      "Read 1301 lines, successfully parsed 1300 lines, failed to parse 0 lines\n"
     ]
    }
   ],
   "source": [
    "GOLDFILE_PATTERN = '^(.+),(.+)'\n",
    "\n",
    "def parse_goldfile_line(goldfile_line):\n",
    "    \"\"\" Parse a line from the 'golden standard' data file\n",
    "    Args:\n",
    "        goldfile_line: a line of data\n",
    "    Returns:\n",
    "        pair: ((key, 'gold', 1 if successful or else 0))\n",
    "    \"\"\"\n",
    "    match = re.search(GOLDFILE_PATTERN, goldfile_line)\n",
    "    if match is None:\n",
    "        print('Invalid goldfile line: %s' % goldfile_line)\n",
    "        return (goldfile_line, -1)\n",
    "    elif match.group(1) == '\"idAmazon\"':\n",
    "        print('Header datafile line: %s' % goldfile_line)\n",
    "        return (goldfile_line, 0)\n",
    "    else:\n",
    "        key = '%s %s' % (removeQuotes(match.group(1)), removeQuotes(match.group(2)))\n",
    "        return ((key, 'gold'), 1)\n",
    "    \n",
    "GOAL_STANDARD = \"https://raw.githubusercontent.com/10605/data/master/hw1/\" + GOLD_STANDARD_PATH\n",
    "sc.addFile(GOAL_STANDARD)\n",
    "\n",
    "gsRaw = (sc\n",
    "         .textFile(\"file:///\" + SparkFiles.get(GOLD_STANDARD_PATH))\n",
    "         .map(parse_goldfile_line)\n",
    "         .cache())\n",
    "\n",
    "gsFailed = (gsRaw\n",
    "            .filter(lambda s: s[1] == -1)\n",
    "            .map(lambda s: s[0]))\n",
    "for line in gsFailed.take(10):\n",
    "    print('Invalid goldfile line: %s' % line)\n",
    "\n",
    "goldStandard = (gsRaw\n",
    "                .filter(lambda s: s[1] == 1)\n",
    "                .map(lambda s: s[0])\n",
    "                .cache())\n",
    "\n",
    "print('Read %d lines, successfully parsed %d lines, failed to parse %d lines' % (gsRaw.count(),\n",
    "                                                                                 goldStandard.count(),\n",
    "                                                                                 gsFailed.count()))\n",
    "assert (gsFailed.count() == 0)\n",
    "assert (gsRaw.count() == (goldStandard.count() + 1))"
   ]
  },
  {
   "cell_type": "markdown",
   "metadata": {
    "application/vnd.databricks.v1+cell": {
     "cellMetadata": {
      "byteLimit": 2048000,
      "rowLimit": 10000
     },
     "inputWidgets": {},
     "nuid": "179c954a-9448-4312-9458-34ae006e19a9",
     "showTitle": false,
     "tableResultSettingsMap": {},
     "title": ""
    }
   },
   "source": [
    "### Using the \"gold standard\" data we can answer the following questions:\n",
    "\n",
    "* How many true duplicate pairs are there in the small datasets?\n",
    "* What is the average similarity score for true duplicates?\n",
    "* What about for non-duplicates?\n",
    "The steps you should perform are:\n",
    "* Create a new `sims` RDD from the `similaritiesBroadcast` RDD, where each element consists of a pair of the form (\"AmazonID GoogleURL\", cosineSimilarityScore). Note that AmazonID is in front. An example entry from `sims` is: `('b000bi7uqs http://www.google.com/base/feeds/snippets/18403148885652932189', 0.40202896125621296)`\n",
    "* Combine the `sims` RDD with the `goldStandard` RDD by creating a new `trueDupsRDD` RDD that has just the cosine similarity scores for those \"AmazonID GoogleURL\" pairs that appear in both the `sims` RDD and `goldStandard` RDD. Hint: you can do this using the [join()](https://spark.apache.org/docs/3.4.0/api/python/reference/api/pyspark.RDD.join.html) transformation.\n",
    "* Count the number of true duplicate pairs in the `trueDupsRDD` dataset\n",
    "* Compute the average similarity score for true duplicates in the `trueDupsRDD` datasets. Remember to use `float` for calculation\n",
    "* Create a new `nonDupsRDD` RDD that has just the cosine similarity scores for those \"AmazonID GoogleURL\" pairs from the `similaritiesBroadcast` RDD that **do not** appear in both the `sims` RDD and `goldStandard` RDD. Hint: you can do this using the [subtractByKey()](https://spark.apache.org/docs/3.4.0/api/python/reference/api/pyspark.RDD.subtractByKey.html) transformation\n",
    "* Compute the average similarity score for non-duplicates in the last datasets. Remember to use `float` for calculation"
   ]
  },
  {
   "cell_type": "code",
   "execution_count": 0,
   "metadata": {
    "application/vnd.databricks.v1+cell": {
     "cellMetadata": {
      "byteLimit": 2048000,
      "rowLimit": 10000
     },
     "inputWidgets": {},
     "nuid": "30b2a63f-898d-4038-91b2-f8e87a6210e7",
     "showTitle": false,
     "tableResultSettingsMap": {},
     "title": ""
    },
    "deletable": false,
    "nbgrader": {
     "cell_type": "code",
     "checksum": "7bea352a44241854afee90724d87e813",
     "grade": false,
     "grade_id": "gold_standard_evaluation",
     "locked": false,
     "schema_version": 3,
     "solution": true,
     "task": false
    }
   },
   "outputs": [
    {
     "output_type": "stream",
     "name": "stdout",
     "output_type": "stream",
     "text": [
      "There are 146 true duplicates.\nThe average similarity of true duplicates is 0.2643.\nAnd for non-duplicates, it is 0.0012.\n"
     ]
    }
   ],
   "source": [
    "\n",
    "sims = (similaritiesBroadcast\n",
    "        .map(lambda record: (\"%s %s\" % (record[1], record[0]), record[2])))\n",
    "\n",
    "\n",
    "trueDupsRDD = sims.join(goldStandard).map(lambda pair: (pair[0], pair[1][0]))\n",
    "\n",
    "trueDupsCount = trueDupsRDD.count()\n",
    "\n",
    "\n",
    "avgSimDups = trueDupsRDD.values().mean()\n",
    "\n",
    "nonDupsRDD = sims.subtractByKey(trueDupsRDD)\n",
    "\n",
    "\n",
    "avgSimNon = nonDupsRDD.values().mean()\n",
    "\n",
    "print(f\"There are {trueDupsCount} true duplicates.\")\n",
    "print(f\"The average similarity of true duplicates is {avgSimDups:.4f}.\")\n",
    "print(f\"And for non-duplicates, it is {avgSimNon:.4f}.\")\n"
   ]
  },
  {
   "cell_type": "code",
   "execution_count": 0,
   "metadata": {
    "application/vnd.databricks.v1+cell": {
     "cellMetadata": {
      "byteLimit": 2048000,
      "rowLimit": 10000
     },
     "inputWidgets": {},
     "nuid": "e95145fd-3c7d-472c-b12e-7b7b577d74de",
     "showTitle": false,
     "tableResultSettingsMap": {},
     "title": ""
    },
    "deletable": false,
    "editable": false,
    "nbgrader": {
     "cell_type": "code",
     "checksum": "12f27fe7940f03e1eec67e2be44d1c83",
     "grade": true,
     "grade_id": "gold_standard_evaluation_test",
     "locked": true,
     "points": 3,
     "schema_version": 3,
     "solution": false,
     "task": false
    },
    "tags": []
   },
   "outputs": [],
   "source": [
    "\"\"\"Check that there are 146 true duplicate pairs in the dataset\"\"\"\n",
    "assert_equal(trueDupsCount, 146)\n"
   ]
  },
  {
   "cell_type": "markdown",
   "metadata": {
    "application/vnd.databricks.v1+cell": {
     "cellMetadata": {
      "byteLimit": 2048000,
      "rowLimit": 10000
     },
     "inputWidgets": {},
     "nuid": "af744394-95fd-4353-a126-5faafc43d27a",
     "showTitle": false,
     "tableResultSettingsMap": {},
     "title": ""
    }
   },
   "source": [
    "## Part 4: Scalable ER\n",
    "In the previous parts, we built a text similarity function and used it for small scale entity resolution.  Our implementation is limited by its quadratic run time complexity, and is not practical for even modestly sized datasets.  In this part, we will implement a more scalable algorithm and use it to do entity resolution on the full dataset.\n",
    "\n",
    "### Inverted Indices\n",
    "To improve our ER algorithm from the earlier parts, we should begin by analyzing its running time. In particular, the algorithm above is quadratic in two ways. First, we did a lot of redundant computation of tokens and weights, since each record was reprocessed every time it was compared. Second, we made quadratically many token comparisons between records.\n",
    "\n",
    "The first source of quadratic overhead can be eliminated with precomputation and look-up tables, but the second source is a little more tricky. In the worst case, every token in every record in one dataset exists in every record in the other dataset, and therefore every token makes a non-zero contribution to the cosine similarity. In this case, token comparison is unavoidably quadratic.\n",
    "\n",
    "But in reality most records have nothing (or very little) in common. Moreover, it is typical for a record in one dataset to have at most one duplicate record in the other dataset (this is the case assuming each dataset has been de-duplicated against itself). In this case, the output is linear in the size of the input and we can hope to achieve linear running time.\n",
    "\n",
    "An [**inverted index**](https://en.wikipedia.org/wiki/Inverted_index) is a data structure that will allow us to avoid making quadratically many token comparisons.  It maps each token in the dataset to the list of documents that contain the token.  So, instead of comparing, record by record, each token to every other token to see if they match, we will use inverted indices to *look up* records that match on a particular token.\n",
    "\n",
    "> **Note on terminology**: In text search, a *forward* index maps documents in a dataset to the tokens they contain.  An *inverted* index supports the inverse mapping.\n",
    "\n",
    "> **Note**: For this section, use the complete Google and Amazon datasets, not the samples"
   ]
  },
  {
   "cell_type": "markdown",
   "metadata": {
    "application/vnd.databricks.v1+cell": {
     "cellMetadata": {
      "byteLimit": 2048000,
      "rowLimit": 10000
     },
     "inputWidgets": {},
     "nuid": "bccbdbad-7127-430c-bcef-b6147e95040a",
     "showTitle": false,
     "tableResultSettingsMap": {},
     "title": ""
    }
   },
   "source": [
    "### (4a) Tokenize the full dataset\n",
    "Tokenize each of the two full datasets for Google and Amazon so that each record in the resulting RDD will look like `(product id, list of tokens)`. Use the `tokenize()` function we defined in (1b)."
   ]
  },
  {
   "cell_type": "code",
   "execution_count": 0,
   "metadata": {
    "application/vnd.databricks.v1+cell": {
     "cellMetadata": {
      "byteLimit": 2048000,
      "rowLimit": 10000
     },
     "inputWidgets": {},
     "nuid": "84529479-ff5c-4cb3-839e-1e4030d7ae29",
     "showTitle": false,
     "tableResultSettingsMap": {},
     "title": ""
    },
    "deletable": false,
    "nbgrader": {
     "cell_type": "code",
     "checksum": "70f405c9c7788ae6e38c64f7dd6e2963",
     "grade": false,
     "grade_id": "full_tokenize",
     "locked": false,
     "schema_version": 3,
     "solution": true,
     "task": false
    }
   },
   "outputs": [
    {
     "output_type": "stream",
     "name": "stdout",
     "output_type": "stream",
     "text": [
      "Amazon full dataset is 1363 products, Google full dataset is 3226 products\n"
     ]
    }
   ],
   "source": [
    "amazonFullRecToToken = amazon.map(lambda row: (row[0], tokenize(row[1])))\n",
    "googleFullRecToToken = google.map(lambda row: (row[0], tokenize(row[1])))\n",
    "\n",
    "print('Amazon full dataset is %s products, Google full dataset is %s products' % \n",
    "      (amazonFullRecToToken.count(), googleFullRecToToken.count()))\n"
   ]
  },
  {
   "cell_type": "code",
   "execution_count": 0,
   "metadata": {
    "application/vnd.databricks.v1+cell": {
     "cellMetadata": {
      "byteLimit": 2048000,
      "rowLimit": 10000
     },
     "inputWidgets": {},
     "nuid": "53470995-7462-4f2e-8f7f-67db468773bd",
     "showTitle": false,
     "tableResultSettingsMap": {},
     "title": ""
    },
    "deletable": false,
    "editable": false,
    "nbgrader": {
     "cell_type": "code",
     "checksum": "547da4756c213a5aed50dac6c92d82dc",
     "grade": true,
     "grade_id": "full_tokenize_test",
     "locked": true,
     "points": 3,
     "schema_version": 3,
     "solution": false,
     "task": false
    },
    "tags": []
   },
   "outputs": [],
   "source": [
    "\"\"\"Check that Amazon full dataset has 1363 products\"\"\"\n",
    "assert_equal(amazonFullRecToToken.count(), 1363)"
   ]
  },
  {
   "cell_type": "markdown",
   "metadata": {
    "application/vnd.databricks.v1+cell": {
     "cellMetadata": {
      "byteLimit": 2048000,
      "rowLimit": 10000
     },
     "inputWidgets": {},
     "nuid": "82636ddb-6b65-4a1d-a062-ca864cc9c245",
     "showTitle": false,
     "tableResultSettingsMap": {},
     "title": ""
    }
   },
   "source": [
    "### (4b) Compute IDFs and TF-IDFs for the full datasets\n",
    "\n",
    "We will reuse your code from above to compute TF-IDF weights for the complete combined datasets.\n",
    "The steps you should perform are:\n",
    "* Create a new `fullCorpusRDD` that contains the tokens from the full Amazon and Google datasets.\n",
    "* Apply your `idfs` function to the `fullCorpusRDD`\n",
    "* Create a broadcast variable containing a dictionary of the IDF weights for the full dataset.\n",
    "* For each of the Amazon and Google full datasets, create weight RDDs that map IDs/URLs to TF-IDF weighted token vectors."
   ]
  },
  {
   "cell_type": "code",
   "execution_count": 0,
   "metadata": {
    "application/vnd.databricks.v1+cell": {
     "cellMetadata": {
      "byteLimit": 2048000,
      "rowLimit": 10000
     },
     "inputWidgets": {},
     "nuid": "fd797698-4328-404d-98d9-a3de5d0bcccf",
     "showTitle": false,
     "tableResultSettingsMap": {},
     "title": ""
    },
    "deletable": false,
    "nbgrader": {
     "cell_type": "code",
     "checksum": "f8f00159e51141794d4814116e09c539",
     "grade": false,
     "grade_id": "full_tfidf",
     "locked": false,
     "schema_version": 3,
     "solution": true,
     "task": false
    }
   },
   "outputs": [
    {
     "output_type": "stream",
     "name": "stdout",
     "output_type": "stream",
     "text": [
      "There are 17078 unique tokens in the full datasets.\nThere are 1363 Amazon weights and 3226 Google weights.\n"
     ]
    }
   ],
   "source": [
    "\n",
    "fullCorpusRDD = amazonFullRecToToken.union(googleFullRecToToken)\n",
    "\n",
    "idfsFull = idfs(fullCorpusRDD)\n",
    "idfsFullCount = idfsFull.count()\n",
    "\n",
    "print('There are %s unique tokens in the full datasets.' % idfsFullCount)\n",
    "\n",
    "\n",
    "idfsFullWeights = idfsFull.collectAsMap()\n",
    "idfsFullBroadcast = sc.broadcast(idfsFullWeights)\n",
    "\n",
    "\n",
    "amazonWeightsRDD = amazonFullRecToToken.map(lambda row: (row[0], tfidf(row[1], idfsFullBroadcast.value)))\n",
    "googleWeightsRDD = googleFullRecToToken.map(lambda row: (row[0], tfidf(row[1], idfsFullBroadcast.value)))\n",
    "\n",
    "print('There are %s Amazon weights and %s Google weights.' % (amazonWeightsRDD.count(), googleWeightsRDD.count()))\n"
   ]
  },
  {
   "cell_type": "code",
   "execution_count": 0,
   "metadata": {
    "application/vnd.databricks.v1+cell": {
     "cellMetadata": {
      "byteLimit": 2048000,
      "rowLimit": 10000
     },
     "inputWidgets": {},
     "nuid": "10dad200-36ed-44ca-b4da-506d9df11eef",
     "showTitle": false,
     "tableResultSettingsMap": {},
     "title": ""
    },
    "deletable": false,
    "editable": false,
    "nbgrader": {
     "cell_type": "code",
     "checksum": "f84bf7564b5838b8ec2919d82a93eace",
     "grade": true,
     "grade_id": "full_tfidf_test",
     "locked": true,
     "points": 3,
     "schema_version": 3,
     "solution": false,
     "task": false
    },
    "tags": []
   },
   "outputs": [],
   "source": [
    "assert_equal(idfsFullCount, 17078)\n",
    "assert_equal(amazonWeightsRDD.count(), 1363)\n"
   ]
  },
  {
   "cell_type": "markdown",
   "metadata": {
    "application/vnd.databricks.v1+cell": {
     "cellMetadata": {
      "byteLimit": 2048000,
      "rowLimit": 10000
     },
     "inputWidgets": {},
     "nuid": "3503ebf1-f203-4002-9eec-f5c866bf5df1",
     "showTitle": false,
     "tableResultSettingsMap": {},
     "title": ""
    }
   },
   "source": [
    "### (4c) Compute Norms for the weights from the full datasets\n",
    "\n",
    "We will reuse your code from above to compute norms of the IDF weights for the complete combined dataset.\n",
    "The steps you should perform are:\n",
    "* Create two collections, one for each of the full Amazon and Google datasets, where IDs/URLs map to the norm of the associated TF-IDF weighted token vectors.\n",
    "* Convert each collection into a broadcast variable, containing a dictionary of the norm of IDF weights for the full dataset"
   ]
  },
  {
   "cell_type": "code",
   "execution_count": 0,
   "metadata": {
    "application/vnd.databricks.v1+cell": {
     "cellMetadata": {
      "byteLimit": 2048000,
      "rowLimit": 10000
     },
     "inputWidgets": {},
     "nuid": "ea65e1b6-1506-49e3-b091-c240733af6fb",
     "showTitle": false,
     "tableResultSettingsMap": {},
     "title": ""
    },
    "deletable": false,
    "nbgrader": {
     "cell_type": "code",
     "checksum": "59b7ca283041d28a2f0993ddc4beb2e8",
     "grade": false,
     "grade_id": "full_norms",
     "locked": false,
     "schema_version": 3,
     "solution": true,
     "task": false
    }
   },
   "outputs": [
    {
     "output_type": "stream",
     "name": "stdout",
     "output_type": "stream",
     "text": [
      "There are 1363 Amazon norms and 3226 Google norms.\n"
     ]
    }
   ],
   "source": [
    "amazonNorms = amazonWeightsRDD.mapValues(lambda weights: math.sqrt(sum(v**2 for v in weights.values()))).collectAsMap()\n",
    "googleNorms = googleWeightsRDD.mapValues(lambda weights: math.sqrt(sum(v**2 for v in weights.values()))).collectAsMap()\n",
    "\n",
    "amazonNormsBroadcast = sc.broadcast(amazonNorms)\n",
    "googleNormsBroadcast = sc.broadcast(googleNorms)\n",
    "\n",
    "print('There are %s Amazon norms and %s Google norms.' % (len(amazonNorms), len(googleNorms)))"
   ]
  },
  {
   "cell_type": "code",
   "execution_count": 0,
   "metadata": {
    "application/vnd.databricks.v1+cell": {
     "cellMetadata": {
      "byteLimit": 2048000,
      "rowLimit": 10000
     },
     "inputWidgets": {},
     "nuid": "1f00ae29-f12a-4adf-b49d-ee4c51767035",
     "showTitle": false,
     "tableResultSettingsMap": {},
     "title": ""
    },
    "deletable": false,
    "editable": false,
    "nbgrader": {
     "cell_type": "code",
     "checksum": "453e563ca58a4fbc0dbcf5ff3ac9386b",
     "grade": true,
     "grade_id": "full_norms_test",
     "locked": true,
     "points": 3,
     "schema_version": 3,
     "solution": false,
     "task": false
    },
    "tags": []
   },
   "outputs": [],
   "source": [
    "assert_true(isinstance(amazonNormsBroadcast, Broadcast))\n",
    "assert_equal(len(amazonNormsBroadcast.value), 1363)\n"
   ]
  },
  {
   "cell_type": "markdown",
   "metadata": {
    "application/vnd.databricks.v1+cell": {
     "cellMetadata": {
      "byteLimit": 2048000,
      "rowLimit": 10000
     },
     "inputWidgets": {},
     "nuid": "2f0922d0-8be6-4579-9e4d-b35cfd828bd8",
     "showTitle": false,
     "tableResultSettingsMap": {},
     "title": ""
    }
   },
   "source": [
    "### (4d) Create inverted indices from the full datasets\n",
    "\n",
    "Build inverted indices of both data sources.\n",
    "The steps you should perform are:\n",
    "* Create an invert function that given a pair of (ID/URL, TF-IDF weighted token vector), returns a list of pairs of (token, ID/URL). Recall that the TF-IDF weighted token vector is a Python dictionary with keys that are tokens and values that are weights.\n",
    "* Use your invert function to convert the full Amazon and Google TF-IDF weighted token vector datasets into two RDDs where each element is a pair of a token and an ID/URL that contain that token. These are inverted indices."
   ]
  },
  {
   "cell_type": "code",
   "execution_count": 0,
   "metadata": {
    "application/vnd.databricks.v1+cell": {
     "cellMetadata": {
      "byteLimit": 2048000,
      "rowLimit": 10000
     },
     "inputWidgets": {},
     "nuid": "38b50447-1e77-4f5e-92d7-a455f6ca7c97",
     "showTitle": false,
     "tableResultSettingsMap": {},
     "title": ""
    },
    "deletable": false,
    "nbgrader": {
     "cell_type": "code",
     "checksum": "09893aa8b21161da6c852db036383c0f",
     "grade": false,
     "grade_id": "invert",
     "locked": false,
     "schema_version": 3,
     "solution": true,
     "task": false
    }
   },
   "outputs": [
    {
     "output_type": "stream",
     "name": "stdout",
     "output_type": "stream",
     "text": [
      "There are 111387 Amazon inverted pairs and 77678 Google inverted pairs.\n"
     ]
    }
   ],
   "source": [
    "def invert(record):\n",
    "    \"\"\" Invert (ID, tokens) to a list of (token, ID)\n",
    "    Args:\n",
    "        record: a pair, (ID, token vector)\n",
    "    Returns:\n",
    "        pairs: a list of pairs of token to ID\n",
    "    \"\"\"\n",
    "    recordID, tokenVector = record \n",
    "    return [(token, recordID) for token in tokenVector.keys()] \n",
    "\n",
    "amazonInvPairsRDD = (amazonWeightsRDD\n",
    "                     .flatMap(invert) \n",
    "                     .cache())\n",
    "\n",
    "googleInvPairsRDD = (googleWeightsRDD\n",
    "                     .flatMap(invert) \n",
    "                     .cache())\n",
    "\n",
    "print('There are %s Amazon inverted pairs and %s Google inverted pairs.' % (amazonInvPairsRDD.count(),\n",
    "                                                                            googleInvPairsRDD.count()))\n"
   ]
  },
  {
   "cell_type": "code",
   "execution_count": 0,
   "metadata": {
    "application/vnd.databricks.v1+cell": {
     "cellMetadata": {
      "byteLimit": 2048000,
      "rowLimit": 10000
     },
     "inputWidgets": {},
     "nuid": "b64df2e2-84a4-4720-af39-2c14b17698aa",
     "showTitle": false,
     "tableResultSettingsMap": {},
     "title": ""
    },
    "deletable": false,
    "editable": false,
    "nbgrader": {
     "cell_type": "code",
     "checksum": "4c9f2e8eb13b9b9121fd36d9e807506e",
     "grade": true,
     "grade_id": "invert_test",
     "locked": true,
     "points": 3,
     "schema_version": 3,
     "solution": false,
     "task": false
    },
    "tags": []
   },
   "outputs": [],
   "source": [
    "invertedPair = invert((1, {'foo': 2}))\n",
    "\"\"\"Check that the function successfully inverts (ID, tokens) to a list of (tokens, ID)\"\"\"\n",
    "assert_equal(invertedPair[0][1], 1)\n",
    "\"\"\"Check that there are 111387 Amazon inverted pairs\"\"\"\n",
    "assert_equal(amazonInvPairsRDD.count(), 111387)\n"
   ]
  },
  {
   "cell_type": "markdown",
   "metadata": {
    "application/vnd.databricks.v1+cell": {
     "cellMetadata": {
      "byteLimit": 2048000,
      "rowLimit": 10000
     },
     "inputWidgets": {},
     "nuid": "c6bbc3ca-f089-49d1-ac12-af47badbeadd",
     "showTitle": false,
     "tableResultSettingsMap": {},
     "title": ""
    }
   },
   "source": [
    "### (4e) Identify common tokens from the full dataset\n",
    "\n",
    "We are now in position to efficiently perform ER on the full datasets. Implement the following algorithm to build an RDD that maps a pair of (ID, URL) to a list of tokens they share in common. This might take more time to run than other cells."
   ]
  },
  {
   "cell_type": "code",
   "execution_count": 0,
   "metadata": {
    "application/vnd.databricks.v1+cell": {
     "cellMetadata": {
      "byteLimit": 2048000,
      "rowLimit": 10000
     },
     "inputWidgets": {},
     "nuid": "8a775ee8-34c0-44d5-9726-5640826a3a27",
     "showTitle": false,
     "tableResultSettingsMap": {},
     "title": ""
    },
    "deletable": false,
    "nbgrader": {
     "cell_type": "code",
     "checksum": "67bc12cba797141abebfffda90bb2a11",
     "grade": false,
     "grade_id": "swap_and_common_tokens",
     "locked": false,
     "schema_version": 3,
     "solution": true,
     "task": false
    },
    "tags": []
   },
   "outputs": [
    {
     "output_type": "stream",
     "name": "stdout",
     "output_type": "stream",
     "text": [
      "commonTokens is cached:  True\nFound 2441100 common tokens\n"
     ]
    }
   ],
   "source": [
    "from pyspark.sql import Row\n",
    "amazonInvPairsRDD = amazonInvPairsRDD.distinct()\n",
    "googleInvPairsRDD = googleInvPairsRDD.distinct()\n",
    "commonTokens = (amazonInvPairsRDD\n",
    "                .join(googleInvPairsRDD)\n",
    "                .map(lambda record: ((record[1][0], record[1][1]), record[0]))\n",
    "                .groupByKey() \n",
    "                .mapValues(list)  \n",
    "                .cache()) \n",
    "print('commonTokens is cached: ', commonTokens.is_cached)\n",
    "print('Found %d common tokens' % commonTokens.count())\n",
    "\n",
    "# ✅ Final Assertion Check\n",
    "assert_equal(commonTokens.count(), 2441100)  # Ensure the count is correct\n"
   ]
  },
  {
   "cell_type": "code",
   "execution_count": 0,
   "metadata": {
    "application/vnd.databricks.v1+cell": {
     "cellMetadata": {
      "byteLimit": 2048000,
      "rowLimit": 10000
     },
     "inputWidgets": {},
     "nuid": "bd1f848f-af0e-49dc-a837-232690058891",
     "showTitle": false,
     "tableResultSettingsMap": {},
     "title": ""
    },
    "deletable": false,
    "editable": false,
    "nbgrader": {
     "cell_type": "code",
     "checksum": "a7afb726f75164c18bcf698feb21ef6a",
     "grade": true,
     "grade_id": "swap_and_common_tokens_test",
     "locked": true,
     "points": 3,
     "schema_version": 3,
     "solution": false,
     "task": false
    },
    "tags": []
   },
   "outputs": [],
   "source": [
    "\"\"\"Check that there are the correct number of common tokens\"\"\"\n",
    "\n",
    "assert_equal(commonTokens.count(), 2441100)"
   ]
  },
  {
   "cell_type": "markdown",
   "metadata": {
    "application/vnd.databricks.v1+cell": {
     "cellMetadata": {
      "byteLimit": 2048000,
      "rowLimit": 10000
     },
     "inputWidgets": {},
     "nuid": "c4d52bfe-85b7-4504-b324-401cdfc65851",
     "showTitle": false,
     "tableResultSettingsMap": {},
     "title": ""
    }
   },
   "source": [
    "### (4f) Compute Similarity Scores\n",
    "\n",
    "Use the data structures from parts **(4a)** and **(4e)** to build a dictionary to map record pairs to cosine similarity scores.\n",
    "The steps you should perform are:\n",
    "* Create two broadcast dictionaries from the amazonWeights and googleWeights RDDs\n",
    "* Create a `fastCosinesSimilarity` function that takes in a record consisting of the pair ((Amazon ID, Google URL), tokens list) and computes the sum for each of the tokens in the token list of the products of the Amazon weight for the token times the Google weight for the token. The sum should then be divided by the norm for the Google URL and then divided by the norm for the Amazon ID. The function should return this value in a pair with the key being the (Amazon ID, Google URL). *Make sure you use broadcast variables you created for both the weights and norms*\n",
    "* Apply your `fastCosinesSimilarity` function to the common tokens from the full dataset"
   ]
  },
  {
   "cell_type": "code",
   "execution_count": 0,
   "metadata": {
    "application/vnd.databricks.v1+cell": {
     "cellMetadata": {
      "byteLimit": 2048000,
      "rowLimit": 10000
     },
     "inputWidgets": {},
     "nuid": "244f8123-a18a-49ba-a69f-7f52e660d0f1",
     "showTitle": false,
     "tableResultSettingsMap": {},
     "title": ""
    },
    "deletable": false,
    "nbgrader": {
     "cell_type": "code",
     "checksum": "e20b7bcaaa5b343499546d72a665f785",
     "grade": false,
     "grade_id": "full_similarity",
     "locked": false,
     "schema_version": 3,
     "solution": true,
     "task": false
    },
    "tags": []
   },
   "outputs": [
    {
     "output_type": "stream",
     "name": "stdout",
     "output_type": "stream",
     "text": [
      "2441100\n"
     ]
    }
   ],
   "source": [
    "amazonWeightsBroadcast = sc.broadcast(amazonWeightsRDD.collectAsMap())\n",
    "googleWeightsBroadcast = sc.broadcast(googleWeightsRDD.collectAsMap())\n",
    "\n",
    "amazonNormsBroadcast = sc.broadcast(amazonNorms)\n",
    "googleNormsBroadcast = sc.broadcast(googleNorms)\n",
    "\n",
    "def fastCosineSimilarity(record):\n",
    "    \"\"\" Compute Cosine Similarity using Broadcast variables\n",
    "    Args:\n",
    "        record: ((Amazon ID, Google URL), list of shared tokens)\n",
    "    Returns:\n",
    "        pair: ((Amazon ID, Google URL), cosine similarity value)\n",
    "    \"\"\"\n",
    "    (amazonID, googleURL), sharedTokens = record \n",
    "    amazonWeights = amazonWeightsBroadcast.value.get(amazonID, {})\n",
    "    googleWeights = googleWeightsBroadcast.value.get(googleURL, {})\n",
    "    dot_product = sum(amazonWeights.get(token, 0) * googleWeights.get(token, 0) for token in sharedTokens)\n",
    "    normAmazon = amazonNormsBroadcast.value.get(amazonID, 1)\n",
    "    normGoogle = googleNormsBroadcast.value.get(googleURL, 1)\n",
    "    similarity_score = dot_product / (normAmazon * normGoogle)\n",
    "\n",
    "    return ((amazonID, googleURL), similarity_score)\n",
    "similaritiesFullRDD = (commonTokens\n",
    "                       .map(fastCosineSimilarity)\n",
    "                       .cache()) \n",
    "\n",
    "print(similaritiesFullRDD.count())\n"
   ]
  },
  {
   "cell_type": "code",
   "execution_count": 0,
   "metadata": {
    "application/vnd.databricks.v1+cell": {
     "cellMetadata": {
      "byteLimit": 2048000,
      "rowLimit": 10000
     },
     "inputWidgets": {},
     "nuid": "ad100a11-8cb0-4fe8-b9ee-80bfd91178f9",
     "showTitle": false,
     "tableResultSettingsMap": {},
     "title": ""
    },
    "deletable": false,
    "editable": false,
    "nbgrader": {
     "cell_type": "code",
     "checksum": "26d1db457d6f0555c1609b06e6a9a0bd",
     "grade": true,
     "grade_id": "full_similarity_test",
     "locked": true,
     "points": 1,
     "schema_version": 3,
     "solution": false,
     "task": false
    },
    "tags": []
   },
   "outputs": [],
   "source": [
    "similarityTest = similaritiesFullRDD.filter(lambda kv : kv[0][0] == 'b00005lzly' and kv[0][1] == 'http://www.google.com/base/feeds/snippets/13823221823254120257').collect()\n",
    "\"\"\"Check that we are testing the similarity score of one pair of product\"\"\"\n",
    "assert_equal(len(similarityTest), 1)\n",
    "\"\"\"Check that the similarity socre is very small (they are the same entity)\"\"\"\n",
    "assert_true(abs(similarityTest[0][1] - 4.286548414e-06) < 0.000000000001)\n",
    "\"\"\"Check that there are 2441100 common tokens\"\"\"\n",
    "assert_equal(similaritiesFullRDD.count(), 2441100)"
   ]
  },
  {
   "cell_type": "markdown",
   "metadata": {
    "application/vnd.databricks.v1+cell": {
     "cellMetadata": {
      "byteLimit": 2048000,
      "rowLimit": 10000
     },
     "inputWidgets": {},
     "nuid": "a2e1467e-ee18-40fa-adc7-b74414af0181",
     "showTitle": false,
     "tableResultSettingsMap": {},
     "title": ""
    }
   },
   "source": [
    "#### **Part 5: Analysis**\n",
    "\n",
    "Now we have an authoritative list of record-pair similarities, but we need a way to use those similarities to decide if two records are duplicates or not. The simplest approach is to pick a **threshold**. Pairs whose similarity is above the threshold are declared duplicates, and pairs below the threshold are declared distinct.\n",
    "\n",
    "To decide where to set the threshold we need to understand what kind of errors result at different levels. If we set the threshold too low, we get more **false positives**, that is, record-pairs we say are duplicates that in reality are not. If we set the threshold too high, we get more **false negatives**, that is, record-pairs that really are duplicates but that we miss.\n",
    "\n",
    "ER algorithms are evaluated by the common metrics of information retrieval and search called **precision** and **recall**. Precision asks, of all the record-pairs marked duplicates, what fraction are true duplicates? Recall asks, of all the true duplicates in the data, what fraction did we successfully find? As with false positives and false negatives, there is a trade-off between precision and recall. A third metric, called **F-measure**, takes the harmonic mean of precision and recall to measure overall goodness in a single value:\n",
    "\\\\[ Fmeasure = 2 \\frac{precision * recall}{precision + recall} \\\\]"
   ]
  },
  {
   "cell_type": "markdown",
   "metadata": {
    "application/vnd.databricks.v1+cell": {
     "cellMetadata": {
      "byteLimit": 2048000,
      "rowLimit": 10000
     },
     "inputWidgets": {},
     "nuid": "a9fde684-bace-43e5-9a05-e2b3a6c0c9d0",
     "showTitle": false,
     "tableResultSettingsMap": {},
     "title": ""
    }
   },
   "source": [
    "### (5a) Counting True Positives, False Positives, and False Negatives\n",
    "\n",
    "We need functions that count True Positives (true duplicates above the threshold), and False Positives and False Negatives:\n",
    "* We start with creating the `simsFullRDD` from our `similaritiesFullRDD` that consists of a pair of ((Amazon ID, Google URL), simlarity score)\n",
    "* From this RDD, we create an RDD consisting of only the similarity scores\n",
    "* To look up the similarity scores for true duplicates, we perform a left outer join using the `goldStandard` RDD and `simsFullRDD` and extract the similarities scores using the helper function"
   ]
  },
  {
   "cell_type": "code",
   "execution_count": 0,
   "metadata": {
    "application/vnd.databricks.v1+cell": {
     "cellMetadata": {
      "byteLimit": 2048000,
      "rowLimit": 10000
     },
     "inputWidgets": {},
     "nuid": "e61f8ff0-7669-40fe-85d1-9e8f15e525e8",
     "showTitle": false,
     "tableResultSettingsMap": {},
     "title": ""
    }
   },
   "outputs": [
    {
     "output_type": "stream",
     "name": "stdout",
     "output_type": "stream",
     "text": [
      "There are 1300 true duplicates.\n"
     ]
    }
   ],
   "source": [
    "# Create an RDD of ((Amazon ID, Google URL), similarity score)\n",
    "simsFullRDD = similaritiesFullRDD.map(lambda x: (\"%s %s\" % (x[0][0], x[0][1]), x[1]))\n",
    "assert (simsFullRDD.count() == 2441100)\n",
    "\n",
    "# Create an RDD of just the similarity scores\n",
    "simsFullValuesRDD = (simsFullRDD\n",
    "                     .map(lambda x: x[1])\n",
    "                     .cache())\n",
    "assert (simsFullValuesRDD.count() == 2441100)\n",
    "\n",
    "# Look up all similarity scores for true duplicates\n",
    "\n",
    "# This helper function will return the similarity score for records that are in the gold standard and the simsFullRDD (True positives), and will return 0 for records that are in the gold standard but not in simsFullRDD (False Negatives).\n",
    "def gs_value(record):\n",
    "    if (record[1][1] is None):\n",
    "        return 0\n",
    "    else:\n",
    "        return record[1][1]\n",
    "\n",
    "# Join the gold standard and simsFullRDD, and then extract the similarities scores using the helper function\n",
    "trueDupSimsRDD = (goldStandard\n",
    "                  .leftOuterJoin(simsFullRDD)\n",
    "                  .map(gs_value)\n",
    "                  .cache())\n",
    "print('There are %s true duplicates.' % trueDupSimsRDD.count())\n",
    "assert(trueDupSimsRDD.count() == 1300)"
   ]
  },
  {
   "cell_type": "markdown",
   "metadata": {
    "application/vnd.databricks.v1+cell": {
     "cellMetadata": {
      "byteLimit": 2048000,
      "rowLimit": 10000
     },
     "inputWidgets": {},
     "nuid": "22a8db8e-d27e-46e6-912d-5c84d2d944c5",
     "showTitle": false,
     "tableResultSettingsMap": {},
     "title": ""
    }
   },
   "source": [
    "The next step is to pick a threshold between 0 and 1 for the count of True Positives (true duplicates above the threshold). However, we would like to explore many different thresholds.\n",
    "\n",
    "To do this, we divide the space of thresholds into 100 bins, and take the following actions:\n",
    "* We use Spark Accumulators to implement our counting function. We define a custom accumulator type, `VectorAccumulatorParam`, along with functions to initialize the accumulator's vector to zero, and to add two vectors. Note that we have to use the += operator because you can only add to an accumulator.\n",
    "* We create a helper function to create a list with one entry (bit) set to a value and all others set to 0.\n",
    "* We create 101 bins for the 100 threshold values between 0 and 1.\n",
    "* Now, for each similarity score, we can compute the false positives. We do this by adding each similarity score to the appropriate bin of the vector. Then we remove true positives from the vector by using the gold standard data.\n",
    "* We define functions for computing false positive and negative and true positives, for a given threshold."
   ]
  },
  {
   "cell_type": "code",
   "execution_count": 0,
   "metadata": {
    "application/vnd.databricks.v1+cell": {
     "cellMetadata": {
      "byteLimit": 2048000,
      "rowLimit": 10000
     },
     "inputWidgets": {},
     "nuid": "3bea02f3-39ec-477e-813d-004917ab63a0",
     "showTitle": false,
     "tableResultSettingsMap": {},
     "title": ""
    }
   },
   "outputs": [],
   "source": [
    "\n",
    "class VectorAccumulatorParam(AccumulatorParam):\n",
    "    # Initialize the VectorAccumulator to 0\n",
    "    def zero(self, value):\n",
    "        return [0] * len(value)\n",
    "\n",
    "    # Add two VectorAccumulator variables\n",
    "    def addInPlace(self, val1, val2):\n",
    "        for i in range(len(val1)):\n",
    "            val1[i] += val2[i]\n",
    "        return val1\n",
    "\n",
    "# Return a list with entry x set to value and all other entries set to 0\n",
    "def set_bit(x, value, length):\n",
    "    bits = []\n",
    "    for y in range(length):\n",
    "        if (x == y):\n",
    "            bits.append(value)\n",
    "        else:\n",
    "            bits.append(0)\n",
    "    return bits\n",
    "\n",
    "# Pre-bin counts of false positives for different threshold ranges\n",
    "BINS = 101\n",
    "nthresholds = 100\n",
    "def bin(similarity):\n",
    "    return int(similarity * nthresholds)\n",
    "\n",
    "# fpCounts[i] = number of entries (possible false positives) where bin(similarity) == i\n",
    "zeros = [0] * BINS\n",
    "fpCounts = sc.accumulator(zeros, VectorAccumulatorParam())\n",
    "\n",
    "def add_element(score):\n",
    "    global fpCounts\n",
    "    b = bin(score)\n",
    "    fpCounts += set_bit(b, 1, BINS)\n",
    "\n",
    "simsFullValuesRDD.foreach(add_element)\n",
    "\n",
    "# Remove true positives from FP counts\n",
    "def sub_element(score):\n",
    "    global fpCounts\n",
    "    b = bin(score)\n",
    "    fpCounts += set_bit(b, -1, BINS)\n",
    "\n",
    "trueDupSimsRDD.foreach(sub_element)\n",
    "\n",
    "def falsepos(threshold):\n",
    "    fpList = fpCounts.value\n",
    "    return sum([fpList[b] for b in range(0, BINS) if float(b) / nthresholds >= threshold])\n",
    "\n",
    "def falseneg(threshold):\n",
    "    return trueDupSimsRDD.filter(lambda x: x < threshold).count()\n",
    "\n",
    "def truepos(threshold):\n",
    "    return trueDupSimsRDD.count() - falsenegDict[threshold]"
   ]
  },
  {
   "cell_type": "markdown",
   "metadata": {
    "application/vnd.databricks.v1+cell": {
     "cellMetadata": {
      "byteLimit": 2048000,
      "rowLimit": 10000
     },
     "inputWidgets": {},
     "nuid": "59fe5b30-b3d2-470c-9dd7-54cab28162f3",
     "showTitle": false,
     "tableResultSettingsMap": {},
     "title": ""
    }
   },
   "source": [
    "### (5b) Precision, Recall, and F-measures\n",
    "We define functions so that we can compute the [Precision](https://en.wikipedia.org/wiki/Precision_and_recall), [Recall](https://en.wikipedia.org/wiki/Precision_and_recall), and [F-measure](https://en.wikipedia.org/wiki/Precision_and_recall#F-measure) as a function of threshold value:\n",
    "* Precision = true-positives / (true-positives + false-positives)\n",
    "* Recall = true-positives / (true-positives + false-negatives)\n",
    "* F-measure = 2 x Recall x Precision / (Recall + Precision)"
   ]
  },
  {
   "cell_type": "code",
   "execution_count": 0,
   "metadata": {
    "application/vnd.databricks.v1+cell": {
     "cellMetadata": {
      "byteLimit": 2048000,
      "rowLimit": 10000
     },
     "inputWidgets": {},
     "nuid": "9a5242cf-5f76-4bbe-b0cb-517f63ea9aad",
     "showTitle": false,
     "tableResultSettingsMap": {},
     "title": ""
    }
   },
   "outputs": [],
   "source": [
    "# Precision = true-positives / (true-positives + false-positives)\n",
    "# Recall = true-positives / (true-positives + false-negatives)\n",
    "# F-measure = 2 x Recall x Precision / (Recall + Precision)\n",
    "\n",
    "def precision(threshold):\n",
    "    tp = trueposDict[threshold]\n",
    "    return float(tp) / (tp + falseposDict[threshold])\n",
    "\n",
    "def recall(threshold):\n",
    "    tp = trueposDict[threshold]\n",
    "    return float(tp) / (tp + falsenegDict[threshold])\n",
    "\n",
    "def fmeasure(threshold):\n",
    "    r = recall(threshold)\n",
    "    p = precision(threshold)\n",
    "    return 2 * r * p / (r + p)"
   ]
  },
  {
   "cell_type": "markdown",
   "metadata": {
    "application/vnd.databricks.v1+cell": {
     "cellMetadata": {
      "byteLimit": 2048000,
      "rowLimit": 10000
     },
     "inputWidgets": {},
     "nuid": "4d02b244-1fcb-482a-9980-b0a5d10aff7d",
     "showTitle": false,
     "tableResultSettingsMap": {},
     "title": ""
    }
   },
   "source": [
    "### (5c) Line Plots\n",
    "We can make line plots of precision, recall, and F-measure as a function of threshold value, for thresholds between 0.0 and 1.0.  You can change `nthresholds` (above in part **(5a)**) to change the threshold values to plot."
   ]
  },
  {
   "cell_type": "code",
   "execution_count": 0,
   "metadata": {
    "application/vnd.databricks.v1+cell": {
     "cellMetadata": {
      "byteLimit": 2048000,
      "rowLimit": 10000
     },
     "inputWidgets": {},
     "nuid": "bf4f9e22-8d31-4fe0-abe2-8526416ddd89",
     "showTitle": false,
     "tableResultSettingsMap": {},
     "title": ""
    }
   },
   "outputs": [
    {
     "output_type": "stream",
     "name": "stdout",
     "output_type": "stream",
     "text": [
      "0.0005325468026709271 0.0010645266950540452\n"
     ]
    },
    {
     "output_type": "display_data",
     "data": {
      "image/png": "[encoded data removed]",
      "text/plain": [
       "<Figure size 640x480 with 1 Axes>"
      ]
     },
     "metadata": {},
     "output_type": "display_data"
    },
    {
     "output_type": "display_data",
     "data": {
      "image/png": "[encoded data removed]",
      "text/plain": [
       "<Figure size 640x480 with 1 Axes>"
      ]
     },
     "metadata": {},
     "output_type": "display_data"
    }
   ],
   "source": [
    "thresholds = [float(n) / nthresholds for n in range(0, nthresholds)]\n",
    "falseposDict = dict([(t, falsepos(t)) for t in thresholds])\n",
    "falsenegDict = dict([(t, falseneg(t)) for t in thresholds])\n",
    "trueposDict = dict([(t, truepos(t)) for t in thresholds])\n",
    "\n",
    "precisions = [precision(t) for t in thresholds]\n",
    "recalls = [recall(t) for t in thresholds]\n",
    "fmeasures = [fmeasure(t) for t in thresholds]\n",
    "\n",
    "print(precisions[0], fmeasures[0])\n",
    "assert (abs(precisions[0] - 0.000532546802671) < 0.0000001)\n",
    "assert (abs(fmeasures[0] - 0.00106452669505) < 0.0000001)\n",
    "\n",
    "\n",
    "fig = plt.figure()\n",
    "plt.plot(thresholds, precisions)\n",
    "plt.plot(thresholds, recalls)\n",
    "plt.plot(thresholds, fmeasures)\n",
    "plt.legend(['Precision', 'Recall', 'F-measure'])\n",
    "display(fig)"
   ]
  },
  {
   "cell_type": "markdown",
   "metadata": {
    "application/vnd.databricks.v1+cell": {
     "cellMetadata": {
      "byteLimit": 2048000,
      "rowLimit": 10000
     },
     "inputWidgets": {},
     "nuid": "94813fc0-9f4b-4f5f-baab-6d267d7a105d",
     "showTitle": false,
     "tableResultSettingsMap": {},
     "title": ""
    }
   },
   "source": [
    "You can also create a similar plot using the Databricks `display()` function.\n",
    "\n",
    "* Run the following cell.\n",
    "* Then, click on **+** tab next to the **table** tab, and select **visualization**.\n",
    "* Choose **line** plot. Then, add **threshold** as the x-axis and **precision**, **recall**, and **f-measure** as the y-axis.\n",
    "\n",
    "<img src=\"https://raw.githubusercontent.com/10605/HW_imgs/main/S24/HW1/Figure_2.png\" alt=\"plot options\" style=\"height: 500px\"/>"
   ]
  },
  {
   "cell_type": "code",
   "execution_count": 0,
   "metadata": {
    "application/vnd.databricks.v1+cell": {
     "cellMetadata": {
      "byteLimit": 2048000,
      "rowLimit": 10000
     },
     "inputWidgets": {},
     "nuid": "df90efd0-913c-4269-afa4-4d14149aed19",
     "showTitle": false,
     "tableResultSettingsMap": {},
     "title": ""
    }
   },
   "outputs": [],
   "source": [
    "# Create a DataFrame and visualize using display()\n",
    "graph = [(t, precision(t), recall(t),fmeasure(t)) for t in thresholds]\n",
    "graphRDD = sc.parallelize(graph)\n",
    "\n",
    "graphRow = graphRDD.map(lambda kv: Row(threshold=kv[0], precision=kv[1], recall=kv[2], fmeasure=kv[3]))\n",
    "graphDF = sqlContext.createDataFrame(graphRow)\n",
    "# display(graphDF)"
   ]
  },
  {
   "cell_type": "markdown",
   "metadata": {
    "application/vnd.databricks.v1+cell": {
     "cellMetadata": {
      "byteLimit": 2048000,
      "rowLimit": 10000
     },
     "inputWidgets": {},
     "nuid": "6cd5aee5-03fe-42ad-9dde-936c997b1405",
     "showTitle": false,
     "tableResultSettingsMap": {},
     "title": ""
    }
   },
   "source": [
    "> Note: There is no code to write for Part 5. We just think it is important to see how to do the analysis."
   ]
  },
  {
   "cell_type": "markdown",
   "metadata": {
    "application/vnd.databricks.v1+cell": {
     "cellMetadata": {
      "byteLimit": 2048000,
      "rowLimit": 10000
     },
     "inputWidgets": {},
     "nuid": "da220f29-4093-46a9-8805-780c799173c1",
     "showTitle": false,
     "tableResultSettingsMap": {},
     "title": ""
    }
   },
   "source": [
    "## Discussion\n",
    "\n",
    "State-of-the-art tools can get an F-measure of about 60% on this dataset. In this lab exercise, our best F-measure is closer to 40%. Look at some examples of errors (both False Positives and False Negatives) and think about what went wrong. (You don't have to submit an answer to this discussion question for the assignment, but it is a useful exercise.)\n",
    "\n",
    "### There are several ways we might improve our simple classifier, including:\n",
    "* Using additional attributes\n",
    "* Performing better featurization of our textual data (e.g., stemming, n-grams, etc.)\n",
    "* Using different similarity functions"
   ]
  },
  {
   "cell_type": "markdown",
   "metadata": {
    "application/vnd.databricks.v1+cell": {
     "cellMetadata": {
      "byteLimit": 2048000,
      "rowLimit": 10000
     },
     "inputWidgets": {},
     "nuid": "52ddb6ca-226c-4c9f-9a8c-6081ee56e810",
     "showTitle": false,
     "tableResultSettingsMap": {},
     "title": ""
    }
   },
   "source": [
    "## Export the notebook as an IPython notebook, then submit it to Gradescope!"
   ]
  },
  {
   "cell_type": "code",
   "execution_count": 0,
   "metadata": {
    "application/vnd.databricks.v1+cell": {
     "cellMetadata": {
      "byteLimit": 2048000,
      "rowLimit": 10000
     },
     "inputWidgets": {},
     "nuid": "44eefe2e-a537-4399-a235-8f0973d5e986",
     "showTitle": false,
     "tableResultSettingsMap": {},
     "title": ""
    }
   },
   "outputs": [],
   "source": []
  }
 ],
 "metadata": {
  "application/vnd.databricks.v1+notebook": {
   "computePreferences": null,
   "dashboards": [],
   "environmentMetadata": null,
   "language": "python",
   "notebookMetadata": {
    "pythonIndentUnit": 4
   },
   "notebookName": "hw1_coding_1",
   "widgets": {}
  },
  "kernelspec": {
   "display_name": "Python 3 (ipykernel)",
   "language": "python",
   "name": "python3"
  },
  "language_info": {
   "codemirror_mode": {
    "name": "ipython",
    "version": 3
   },
   "file_extension": ".py",
   "mimetype": "text/x-python",
   "name": "python",
   "nbconvert_exporter": "python",
   "pygments_lexer": "ipython3",
   "version": "3.11.4"
  }
 },
 "nbformat": 4,
 "nbformat_minor": 0
}
