{
 "cells": [
  {
   "cell_type": "markdown",
   "metadata": {
    "application/vnd.databricks.v1+cell": {
     "inputWidgets": {},
     "nuid": "3867f4ce-7b80-4976-9198-e1cfa31e90dc",
     "showTitle": false,
     "title": ""
    },
    "id": "cOnNoPPlbGOd"
   },
   "source": [
    "# CMU Machine Learning with Large Datasets\n",
    "\n",
    "## Homework 3 - Coding 2: Machine Learning at Scale\n"
   ]
  },
  {
   "cell_type": "markdown",
   "metadata": {
    "application/vnd.databricks.v1+cell": {
     "inputWidgets": {},
     "nuid": "4cedccf5-c707-442c-be0e-56922d3a080f",
     "showTitle": false,
     "title": ""
    },
    "id": "IdgzxKxwbGOh"
   },
   "source": [
    "Note that we've included code that does data loading and preparation for you. You could take a brief look to learn about how to specify a schema when loading data, or just run them all and start from \"Part B Begins\".\n",
    "\n",
    "Note that we will not be autograding this notebook because of the open-ended nature of it (although you will have to submit this notebook). To make grading easier and to learn about your thought process, throughout the notebook, we include questions you have to anwswer in your writeup. Whenver this happens, there is a ✰ symbol.\n"
   ]
  },
  {
   "cell_type": "markdown",
   "metadata": {},
   "source": [
    "### Start a Spark Session and Install Libraries\n"
   ]
  },
  {
   "cell_type": "code",
   "execution_count": 1,
   "metadata": {
    "application/vnd.databricks.v1+cell": {
     "inputWidgets": {},
     "nuid": "484df638-6b78-47fe-b9d3-0d08c79398e5",
     "showTitle": false,
     "title": ""
    },
    "id": "EQrVmpuIbGOh"
   },
   "outputs": [
    {
     "name": "stdout",
     "output_type": "stream",
     "text": [
      "Starting Spark application\n"
     ]
    },
    {
     "data": {
      "text/html": [
       "<table>\n",
       "<tr><th>ID</th><th>YARN Application ID</th><th>Kind</th><th>State</th><th>Spark UI</th><th>Driver log</th><th>User</th><th>Current session?</th></tr><tr><td>5</td><td>application_1740182129057_0007</td><td>pyspark</td><td>idle</td><td><a target=\"_blank\" href=\"http://ip-172-31-18-6.ec2.internal:20888/proxy/application_1740182129057_0007/\">Link</a></td><td><a target=\"_blank\" href=\"http://ip-172-31-22-110.ec2.internal:8042/node/containerlogs/container_1740182129057_0007_01_000001/livy\">Link</a></td><td>None</td><td>✔</td></tr></table>"
      ],
      "text/plain": [
       "<IPython.core.display.HTML object>"
      ]
     },
     "metadata": {},
     "output_type": "display_data"
    },
    {
     "data": {
      "application/vnd.jupyter.widget-view+json": {
       "model_id": "",
       "version_major": 2,
       "version_minor": 0
      },
      "text/plain": [
       "FloatProgress(value=0.0, bar_style='info', description='Progress:', layout=Layout(height='25px', width='50%'),…"
      ]
     },
     "metadata": {},
     "output_type": "display_data"
    },
    {
     "name": "stdout",
     "output_type": "stream",
     "text": [
      "SparkSession available as 'spark'.\n"
     ]
    },
    {
     "data": {
      "application/vnd.jupyter.widget-view+json": {
       "model_id": "",
       "version_major": 2,
       "version_minor": 0
      },
      "text/plain": [
       "FloatProgress(value=0.0, bar_style='info', description='Progress:', layout=Layout(height='25px', width='50%'),…"
      ]
     },
     "metadata": {},
     "output_type": "display_data"
    },
    {
     "name": "stdout",
     "output_type": "stream",
     "text": [
      "num executors: 1"
     ]
    }
   ],
   "source": [
    "# You are highly recommended to select the \"PySpark\" kernel instead of python kernel,\n",
    "# Otherwise you need to modify this cell to get pyspark working.\n",
    "\n",
    "import pyspark\n",
    "from pyspark.sql import *\n",
    "\n",
    "sc = spark.sparkContext\n",
    "print(f'num executors: {sc.getConf().get(\"spark.executor.instances\")}')"
   ]
  },
  {
   "cell_type": "markdown",
   "metadata": {
    "application/vnd.databricks.v1+cell": {
     "inputWidgets": {},
     "nuid": "c972f2bf-974e-4b8c-ad0d-05433de19e90",
     "showTitle": false,
     "title": ""
    },
    "id": "IFmlw9SPbGOi"
   },
   "source": [
    "Throughout this assignment, you will be generating plots. `Matplotlib` and other useful Python libraries do not come pre-installed on the cluster. Therefore, you will have to ssh into your master node (think about why it should be the master) using your keypair created earlier and install `matplotlib`. You might have to do this later again for other libraries you use, e.g. `Pandas`.\n",
    "\n",
    "Run the below cell to ensure you installation was successful. If an error occurs, you might want to double check your installation.\n"
   ]
  },
  {
   "cell_type": "code",
   "execution_count": 2,
   "metadata": {
    "application/vnd.databricks.v1+cell": {
     "inputWidgets": {},
     "nuid": "488f21b7-f54a-45e0-8dc7-00e8c5577a44",
     "showTitle": false,
     "title": ""
    },
    "id": "foQTxuvwbGOj"
   },
   "outputs": [
    {
     "data": {
      "application/vnd.jupyter.widget-view+json": {
       "model_id": "",
       "version_major": 2,
       "version_minor": 0
      },
      "text/plain": [
       "FloatProgress(value=0.0, bar_style='info', description='Progress:', layout=Layout(height='25px', width='50%'),…"
      ]
     },
     "metadata": {},
     "output_type": "display_data"
    },
    {
     "name": "stdout",
     "output_type": "stream",
     "text": [
      "'\\nNote : If you are having issues with your plots not showing, try running `%matplot plt` in a new code box after you have run the rest of the plotting code.\\n'"
     ]
    }
   ],
   "source": [
    "import matplotlib.pyplot as plt\n",
    "import numpy as np\n",
    "\n",
    "'''\n",
    "Note : If you are having issues with your plots not showing, try running `%matplot plt` in a new code box after you have run the rest of the plotting code.\n",
    "'''"
   ]
  },
  {
   "cell_type": "markdown",
   "metadata": {
    "application/vnd.databricks.v1+cell": {
     "inputWidgets": {},
     "nuid": "5dad8a9c-b4d3-4274-8521-27267223d7ef",
     "showTitle": false,
     "title": ""
    },
    "id": "AbkX3VxWbGOj"
   },
   "source": [
    "### Data Loading and Preparation\n",
    "\n",
    "We are hosting the converted full raw Million Song Dataset in a public S3 bucket on AWS: https://us-east-1.console.aws.amazon.com/s3/buckets/10405-spring2025-hw3-msp.\n",
    "\n",
    "Instead of asking you to download data on your own, we provide the S3 bucket name and script below to load the converted dataset from the S3 Storage for your convenience.\n",
    "\n",
    "Note that although you can load all chunks of the dataset using `*`, we recommend you only load in a subset while developing so that processing takes shorter time when you are just verifying your ideas.\n"
   ]
  },
  {
   "cell_type": "code",
   "execution_count": 3,
   "metadata": {
    "application/vnd.databricks.v1+cell": {
     "inputWidgets": {},
     "nuid": "714d2f77-a394-477b-a40a-62f6b2536eae",
     "showTitle": false,
     "title": ""
    },
    "id": "ZG5MFx3VbGOk"
   },
   "outputs": [
    {
     "data": {
      "application/vnd.jupyter.widget-view+json": {
       "model_id": "",
       "version_major": 2,
       "version_minor": 0
      },
      "text/plain": [
       "FloatProgress(value=0.0, bar_style='info', description='Progress:', layout=Layout(height='25px', width='50%'),…"
      ]
     },
     "metadata": {},
     "output_type": "display_data"
    }
   ],
   "source": [
    "from pyspark.sql.types import DoubleType, StringType, StructField, StructType\n",
    "\n",
    "schema = StructType(\n",
    "    [StructField('song_hotttnesss', DoubleType(), True),\n",
    "     StructField('artist_familiarity', DoubleType(), True),\n",
    "     StructField('artist_hotttnesss', DoubleType(), True),\n",
    "     StructField('artist_id', StringType(), True),\n",
    "     StructField('artist_latitude', DoubleType(), True),\n",
    "     StructField('artist_location', StringType(), True),\n",
    "     StructField('artist_longitude', DoubleType(), True),\n",
    "     StructField('artist_name', StringType(), True),\n",
    "     StructField('title', StringType(), True),\n",
    "     StructField('danceability', DoubleType(), True),\n",
    "     StructField('duration', DoubleType(), True),\n",
    "     StructField('end_of_fade_in', DoubleType(), True),\n",
    "     StructField('energy', DoubleType(), True),\n",
    "     StructField('key', DoubleType(), True),\n",
    "     StructField('key_confidence', DoubleType(), True),\n",
    "     StructField('loudness', DoubleType(), True),\n",
    "     StructField('mode', DoubleType(), True),\n",
    "     StructField('mode_confidence', DoubleType(), True),\n",
    "     StructField('start_of_fade_out', DoubleType(), True),\n",
    "     StructField('tempo', DoubleType(), True),\n",
    "     StructField('time_signature', DoubleType(), True),\n",
    "     StructField('time_signature_confidence', DoubleType(), True),\n",
    "     StructField('artist_terms', StringType(), True),\n",
    "     StructField('artist_terms_freq', StringType(), True),\n",
    "     StructField('artist_terms_weight', StringType(), True),\n",
    "     StructField('year', DoubleType(), True)]\n",
    ")"
   ]
  },
  {
   "cell_type": "code",
   "execution_count": 4,
   "metadata": {
    "application/vnd.databricks.v1+cell": {
     "inputWidgets": {},
     "nuid": "f365d6b4-6a95-43ae-b4eb-7b4e87d6cee4",
     "showTitle": false,
     "title": ""
    },
    "id": "VkMM1pqSbGOl"
   },
   "outputs": [
    {
     "data": {
      "application/vnd.jupyter.widget-view+json": {
       "model_id": "",
       "version_major": 2,
       "version_minor": 0
      },
      "text/plain": [
       "FloatProgress(value=0.0, bar_style='info', description='Progress:', layout=Layout(height='25px', width='50%'),…"
      ]
     },
     "metadata": {},
     "output_type": "display_data"
    },
    {
     "name": "stdout",
     "output_type": "stream",
     "text": [
      "loaded 10000 records"
     ]
    }
   ],
   "source": [
    "#--------------------------------------------------------------------\n",
    "# Set to False after writing your code and run end-to-end on full data\n",
    "#--------------------------------------------------------------------\n",
    "load_subset = False\n",
    "\n",
    "#----------------------------\n",
    "# DO NOT change the s3 bucket name below\n",
    "#----------------------------\n",
    "s3_bucket_name = '10405-spring2025-hw3-msp'\n",
    "\n",
    "if load_subset:\n",
    "    df = spark.read.format(\"csv\")\\\n",
    "        .option(\"header\", \"false\")\\\n",
    "        .option(\"nanValue\", \"nan\")\\\n",
    "        .option(\"quote\", \"\\\"\")\\\n",
    "        .option(\"escape\", \"\\\"\")\\\n",
    "        .schema(schema)\\\n",
    "        .load(f\"s3://{s3_bucket_name}/processed/A_1.csv\")\n",
    "else:\n",
    "    df = spark.read.format(\"csv\")\\\n",
    "        .option(\"header\", \"false\")\\\n",
    "        .option(\"nanValue\", \"nan\")\\\n",
    "        .option(\"quote\", \"\\\"\")\\\n",
    "        .option(\"escape\", \"\\\"\")\\\n",
    "        .schema(schema)\\\n",
    "        .load(f\"s3://{s3_bucket_name}/processed/*.csv\")\n",
    "\n",
    "print('loaded {} records'.format(df.count()))"
   ]
  },
  {
   "cell_type": "markdown",
   "metadata": {
    "application/vnd.databricks.v1+cell": {
     "inputWidgets": {},
     "nuid": "5906caef-3ef1-446f-a63a-fa74be25e03e",
     "showTitle": false,
     "title": ""
    },
    "id": "1AYyfx6mbGOm"
   },
   "source": [
    "Inspect the `df` we just created by running the below cell:\n"
   ]
  },
  {
   "cell_type": "code",
   "execution_count": 5,
   "metadata": {
    "application/vnd.databricks.v1+cell": {
     "inputWidgets": {},
     "nuid": "46627166-6d11-4c7a-a7eb-03943226ff03",
     "showTitle": false,
     "title": ""
    },
    "id": "87ggwTuMbGOm"
   },
   "outputs": [
    {
     "data": {
      "application/vnd.jupyter.widget-view+json": {
       "model_id": "",
       "version_major": 2,
       "version_minor": 0
      },
      "text/plain": [
       "FloatProgress(value=0.0, bar_style='info', description='Progress:', layout=Layout(height='25px', width='50%'),…"
      ]
     },
     "metadata": {},
     "output_type": "display_data"
    },
    {
     "name": "stdout",
     "output_type": "stream",
     "text": [
      "root\n",
      " |-- song_hotttnesss: double (nullable = true)\n",
      " |-- artist_familiarity: double (nullable = true)\n",
      " |-- artist_hotttnesss: double (nullable = true)\n",
      " |-- artist_id: string (nullable = true)\n",
      " |-- artist_latitude: double (nullable = true)\n",
      " |-- artist_location: string (nullable = true)\n",
      " |-- artist_longitude: double (nullable = true)\n",
      " |-- artist_name: string (nullable = true)\n",
      " |-- title: string (nullable = true)\n",
      " |-- danceability: double (nullable = true)\n",
      " |-- duration: double (nullable = true)\n",
      " |-- end_of_fade_in: double (nullable = true)\n",
      " |-- energy: double (nullable = true)\n",
      " |-- key: double (nullable = true)\n",
      " |-- key_confidence: double (nullable = true)\n",
      " |-- loudness: double (nullable = true)\n",
      " |-- mode: double (nullable = true)\n",
      " |-- mode_confidence: double (nullable = true)\n",
      " |-- start_of_fade_out: double (nullable = true)\n",
      " |-- tempo: double (nullable = true)\n",
      " |-- time_signature: double (nullable = true)\n",
      " |-- time_signature_confidence: double (nullable = true)\n",
      " |-- artist_terms: string (nullable = true)\n",
      " |-- artist_terms_freq: string (nullable = true)\n",
      " |-- artist_terms_weight: string (nullable = true)\n",
      " |-- year: double (nullable = true)"
     ]
    }
   ],
   "source": [
    "df.printSchema()"
   ]
  },
  {
   "cell_type": "markdown",
   "metadata": {},
   "source": [
    "<div align=\"center\">\n",
    "    <h1>------------------- Part B Begins ------------------- </h1>\n",
    "</div>\n"
   ]
  },
  {
   "cell_type": "markdown",
   "metadata": {
    "application/vnd.databricks.v1+cell": {
     "inputWidgets": {},
     "nuid": "3cebafaa-b3a9-4a1c-9118-42e9ec98a1da",
     "showTitle": false,
     "title": ""
    },
    "id": "jr6kvrk8bGOn"
   },
   "source": [
    "### 2.2.1 Exploratory Data Analysis\n",
    "\n",
    "Now we have our data mostly ready. It's a good time to take some deeper look to better understand what we are dealing with here.\n",
    "\n",
    "First, show summary statistics of the features using `.summary()`. Hint: because we have many features, the output might be too long for a single line. The simplest way to resolve this mess is to copy paste the output to some editor (e.g. vscode) and check the result. Another way is you could select only a few features to print at a time so that things could fit into one line.\n"
   ]
  },
  {
   "cell_type": "code",
   "execution_count": 6,
   "metadata": {
    "application/vnd.databricks.v1+cell": {
     "inputWidgets": {},
     "nuid": "1933a481-773a-4eff-8c26-316d6c4b63f7",
     "showTitle": false,
     "title": ""
    },
    "id": "oQu9P_nfbGOn",
    "scrolled": true
   },
   "outputs": [
    {
     "data": {
      "application/vnd.jupyter.widget-view+json": {
       "model_id": "",
       "version_major": 2,
       "version_minor": 0
      },
      "text/plain": [
       "FloatProgress(value=0.0, bar_style='info', description='Progress:', layout=Layout(height='25px', width='50%'),…"
      ]
     },
     "metadata": {},
     "output_type": "display_data"
    },
    {
     "name": "stdout",
     "output_type": "stream",
     "text": [
      "+-------+-------------------+------------------+-------------------+------------------+---------------+-----------------+----------------+-----------------+-----------------+------------+------------------+------------------+------+------------------+-------------------+------------------+------------------+-------------------+------------------+------------------+------------------+-------------------------+-----------------------------------------------------------------------------------------------------------------------------------------------------------------------------------------------------------------------------------------+-----------------+-------------------+-----------------+\n",
      "|summary|song_hotttnesss    |artist_familiarity|artist_hotttnesss  |artist_id         |artist_latitude|artist_location  |artist_longitude|artist_name      |title            |danceability|duration          |end_of_fade_in    |energy|key               |key_confidence     |loudness          |mode              |mode_confidence    |start_of_fade_out |tempo             |time_signature    |time_signature_confidence|artist_terms                                                                                                                                                                                                                             |artist_terms_freq|artist_terms_weight|year             |\n",
      "+-------+-------------------+------------------+-------------------+------------------+---------------+-----------------+----------------+-----------------+-----------------+------------+------------------+------------------+------+------------------+-------------------+------------------+------------------+-------------------+------------------+------------------+------------------+-------------------------+-----------------------------------------------------------------------------------------------------------------------------------------------------------------------------------------------------------------------------------------+-----------------+-------------------+-----------------+\n",
      "|count  |10000              |10000             |10000              |10000             |10000          |5308             |10000           |10000            |10000            |10000       |10000             |10000             |10000 |10000             |10000              |10000             |10000             |10000              |10000             |10000             |10000             |10000                    |10000                                                                                                                                                                                                                                    |10000            |10000              |10000            |\n",
      "|mean   |0.3551803271445163 |0.5784401048379997|0.3983575784479524 |null              |NaN            |64.0             |NaN             |1245.0           |737.9090909090909|0.0         |247.84456666299985|0.8178430999999996|0.0   |5.2736            |0.44667739999999967|-9.671528099999998|0.6751            |0.474287           |238.6396554000001 |125.18470129999996|3.611             |0.5180839999999999       |null                                                                                                                                                                                                                                     |null             |null               |1186.3509        |\n",
      "|stddev |0.2350145360791679 |0.1296631917953024|0.11267128564656775|null              |NaN            |62.22539674441618|NaN             |734.1857167411163|874.0427283085712|0.0         |119.96129193918779|2.062948162895682 |0.0   |3.5475627633850273|0.27539397363288726|4.910719627033896 |0.4683608931076754|0.19159366911358125|117.76173287736081|34.994327099839985|1.2182887271670353|0.3705957528968816       |null                                                                                                                                                                                                                                     |null             |null               |982.3068675558543|\n",
      "|min    |0.0                |0.0               |0.0                |AR002UA1187B9A637D|-45.8745       |                 |-155.43414      |& And Oceans     | Forces          |0.0         |1.12281           |0.0               |0.0   |0.0               |0.0                |-55.751           |0.0               |0.0                |1.123             |0.0               |0.0               |0.0                      |[\"rock 'n roll\", 'art rock', 'big beat', 'pop rock', 'garage rock', 'new wave', 'grunge', 'alternative rock', 'hip hop', 'rock', 'indie rock', 'death metal', 'hard rock', 'electro', 'techno', 'electronic', 'world fusion', 'shoegaze']|[]               |[]                 |0.0              |\n",
      "|25%    |0.21508031850922793|0.5047401771385015|0.3511734079559807 |null              |44.49141       |20.0             |-7.46751        |702.0            |66.0             |0.0         |183.11791         |0.0               |0.0   |2.0               |0.223              |-11.995           |0.0               |0.362              |175.137           |99.076            |3.0               |0.131                    |null                                                                                                                                                                                                                                     |null             |null               |0.0              |\n",
      "|50%    |0.3775316449767025 |0.5803470419415806|0.39823614000241037|null              |NaN            |20.0             |NaN             |999.0            |311.0            |0.0         |230.29506         |0.189             |0.0   |5.0               |0.47               |-8.586            |1.0               |0.487              |220.926           |122.551           |4.0               |0.556                    |null                                                                                                                                                                                                                                     |null             |null               |1992.0           |\n",
      "|75%    |0.5317220984213001 |0.6554753076491304|0.45589706932136675|null              |NaN            |108.0            |NaN             |2002.0           |2004.0           |0.0         |286.58893         |0.427             |0.0   |9.0               |0.656              |-6.176            |1.0               |0.6                |276.764           |145.91            |4.0               |0.872                    |null                                                                                                                                                                                                                                     |null             |null               |2004.0           |\n",
      "|max    |1.0                |1.0               |1.0825025567261237 |ARZZXT51187FB4627E|NaN            |�tersund, Sweden |NaN             |Æthenor          |Último Jardin    |0.0         |2534.45179        |60.389            |0.0   |11.0              |1.0                |3.233             |1.0               |1.0                |2510.994          |253.357           |7.0               |1.0                      |[]                                                                                                                                                                                                                                       |[np.float64(1.0)]|[np.float64(1.0)]  |2010.0           |\n",
      "+-------+-------------------+------------------+-------------------+------------------+---------------+-----------------+----------------+-----------------+-----------------+------------+------------------+------------------+------+------------------+-------------------+------------------+------------------+-------------------+------------------+------------------+------------------+-------------------------+-----------------------------------------------------------------------------------------------------------------------------------------------------------------------------------------------------------------------------------------+-----------------+-------------------+-----------------+"
     ]
    }
   ],
   "source": [
    "# YOUR CODE HERE\n",
    "# Show summary statistics for all columns\n",
    "df.summary().show(truncate=False)"
   ]
  },
  {
   "cell_type": "markdown",
   "metadata": {
    "application/vnd.databricks.v1+cell": {
     "inputWidgets": {},
     "nuid": "98330ff9-d36b-4384-b334-f8b6a6daea03",
     "showTitle": false,
     "title": ""
    },
    "id": "oJL6fIm9bGOn"
   },
   "source": [
    "Now looking at the statistics, `danceability` and `energy` appear strange.\n",
    "\n",
    "✰2.2.1(a) Explain why these features seem problematic in your writeup.\n",
    "\n",
    "Now we would like to make some histogram plots to inspect the distribution of feature values.\n",
    "\n",
    "✰2.2.1(b) Plot histograms for `'song_hotttnesss', 'artist_familiarity', 'artist_hotttnesss', 'duration', 'tempo', 'year'`.\n",
    "\n",
    "Note that one of these features may appear weird.\n",
    "\n",
    "✰2.2.1(c) Explain what is weird about `year`'s distribution and what might cause this. Describe how you could filter `year` to make its histogram look more balanced. Hint: Choose a threshold and filter the `year` values.\n",
    "\n",
    "✰2.2.1(d) Do it and include the new plot of this feature into your writeup.\n",
    "\n",
    "Note: you may want to use the spark magic commands `%matplot plt` to show the plot.\n"
   ]
  },
  {
   "cell_type": "code",
   "execution_count": 7,
   "metadata": {
    "application/vnd.databricks.v1+cell": {
     "inputWidgets": {},
     "nuid": "f50cf7a6-6c68-49a0-ac60-1fce85ede4a9",
     "showTitle": false,
     "title": ""
    },
    "id": "vLN7d7BhbGOo"
   },
   "outputs": [
    {
     "data": {
      "application/vnd.jupyter.widget-view+json": {
       "model_id": "",
       "version_major": 2,
       "version_minor": 0
      },
      "text/plain": [
       "FloatProgress(value=0.0, bar_style='info', description='Progress:', layout=Layout(height='25px', width='50%'),…"
      ]
     },
     "metadata": {},
     "output_type": "display_data"
    }
   ],
   "source": [
    "import matplotlib.pyplot as plt\n",
    "\n",
    "# List of features to plot.\n",
    "features = ['song_hotttnesss', 'artist_familiarity', 'artist_hotttnesss', \n",
    "            'duration', 'tempo', 'year']\n",
    "\n",
    "# Convert to Pandas DataFrame (if the data is not huge, otherwise sample).\n",
    "pdf = df.select(features).toPandas()\n",
    "\n",
    "# Create subplots.\n",
    "fig, axes = plt.subplots(nrows=2, ncols=3, figsize=(18, 10))\n",
    "axes = axes.flatten()\n",
    "\n",
    "for ax, feature in zip(axes, features):\n",
    "    # Drop NaN values for plotting.\n",
    "    data = pdf[feature].dropna()\n",
    "    ax.hist(data, bins=30, edgecolor='k')\n",
    "    ax.set_title(feature)\n",
    "    ax.set_xlabel(feature)\n",
    "    ax.set_ylabel('Frequency')\n",
    "\n",
    "plt.tight_layout()\n",
    "plt.show()"
   ]
  },
  {
   "cell_type": "code",
   "execution_count": 8,
   "metadata": {},
   "outputs": [
    {
     "data": {
      "application/vnd.jupyter.widget-view+json": {
       "model_id": "",
       "version_major": 2,
       "version_minor": 0
      },
      "text/plain": [
       "FloatProgress(value=0.0, bar_style='info', description='Progress:', layout=Layout(height='25px', width='50%'),…"
      ]
     },
     "metadata": {},
     "output_type": "display_data"
    },
    {
     "data": {
      "image/png": "[encoded data removed]",
      "text/plain": [
       "<IPython.core.display.Image object>"
      ]
     },
     "metadata": {},
     "output_type": "display_data"
    }
   ],
   "source": [
    "%matplot plt"
   ]
  },
  {
   "cell_type": "code",
   "execution_count": 9,
   "metadata": {},
   "outputs": [
    {
     "data": {
      "application/vnd.jupyter.widget-view+json": {
       "model_id": "",
       "version_major": 2,
       "version_minor": 0
      },
      "text/plain": [
       "FloatProgress(value=0.0, bar_style='info', description='Progress:', layout=Layout(height='25px', width='50%'),…"
      ]
     },
     "metadata": {},
     "output_type": "display_data"
    }
   ],
   "source": [
    "# Filter out rows where the year is 0\n",
    "filtered_df = df.filter(\"year > 0\")\n",
    "\n",
    "# Convert only the 'year' column to Pandas for plotting\n",
    "pdf_year = filtered_df.select(\"year\").toPandas()\n",
    "\n",
    "# Plot the histogram of the filtered 'year'\n",
    "import matplotlib.pyplot as plt\n",
    "\n",
    "plt.figure(figsize=(8, 6))\n",
    "plt.hist(pdf_year['year'], bins=30, edgecolor='black')\n",
    "plt.xlabel(\"Year\")\n",
    "plt.ylabel(\"Count\")\n",
    "plt.title(\"Distribution of Year (Filtered: year > 0)\")\n",
    "plt.show()\n"
   ]
  },
  {
   "cell_type": "code",
   "execution_count": 10,
   "metadata": {},
   "outputs": [
    {
     "data": {
      "application/vnd.jupyter.widget-view+json": {
       "model_id": "",
       "version_major": 2,
       "version_minor": 0
      },
      "text/plain": [
       "FloatProgress(value=0.0, bar_style='info', description='Progress:', layout=Layout(height='25px', width='50%'),…"
      ]
     },
     "metadata": {},
     "output_type": "display_data"
    },
    {
     "data": {
      "image/png": "[encoded data removed]",
      "text/plain": [
       "<IPython.core.display.Image object>"
      ]
     },
     "metadata": {},
     "output_type": "display_data"
    }
   ],
   "source": [
    "%matplot plt"
   ]
  },
  {
   "cell_type": "markdown",
   "metadata": {
    "application/vnd.databricks.v1+cell": {
     "inputWidgets": {},
     "nuid": "8a8f8438-166b-44aa-ad20-2cdc3fafdcb3",
     "showTitle": false,
     "title": ""
    },
    "id": "g8OM2ZiEbGOo"
   },
   "source": [
    "Some scatter pair plots would also be interesting to see the correlation between features.\n",
    "\n",
    "✰2.2.1(e) Include the plots of the following pairs of features and describe your findings (e.g. what patterns you observe) in your writeup.\n",
    "\n",
    "- `song_hotttnesss` against `artist_familiarity`\n",
    "- `artist_latitude` against `artist_longitude`\n",
    "- `song_hotttnesss` against `year`\n",
    "\n",
    "Plotting all data points might explode matplotlib. Think about what simple technique you could use to visualize large datasets while retaining data distribution. ✰2.2.1(f) In your writeup, briefly describe what you did.\n"
   ]
  },
  {
   "cell_type": "code",
   "execution_count": 11,
   "metadata": {
    "application/vnd.databricks.v1+cell": {
     "inputWidgets": {},
     "nuid": "41f7f371-fbec-4988-b12c-8e3dd3567488",
     "showTitle": false,
     "title": ""
    },
    "id": "1S111QAjbGOo"
   },
   "outputs": [
    {
     "data": {
      "application/vnd.jupyter.widget-view+json": {
       "model_id": "",
       "version_major": 2,
       "version_minor": 0
      },
      "text/plain": [
       "FloatProgress(value=0.0, bar_style='info', description='Progress:', layout=Layout(height='25px', width='50%'),…"
      ]
     },
     "metadata": {},
     "output_type": "display_data"
    }
   ],
   "source": [
    "# YOUR CODE HERE\n",
    "import matplotlib.pyplot as plt\n",
    "\n",
    "# Sample 5% of the data to retain distribution without plotting every point.\n",
    "# (Adjust the fraction as needed.)\n",
    "pdf_sample = df.sample(fraction=0.05, seed=42).toPandas()\n",
    "\n",
    "fig, axes = plt.subplots(1, 3, figsize=(20, 5))\n",
    "\n",
    "axes[0].scatter(pdf_sample['song_hotttnesss'], pdf_sample['artist_familiarity'], alpha=0.5, edgecolor='none')\n",
    "axes[0].set_xlabel('song_hotttnesss')\n",
    "axes[0].set_ylabel('artist_familiarity')\n",
    "axes[0].set_title('Song Hotttnesss vs Artist Familiarity')\n",
    "\n",
    "lat_lon = pdf_sample[['artist_latitude', 'artist_longitude']].dropna()\n",
    "axes[1].scatter(lat_lon['artist_longitude'], lat_lon['artist_latitude'], alpha=0.5, edgecolor='none')\n",
    "axes[1].set_xlabel('artist_longitude')\n",
    "axes[1].set_ylabel('artist_latitude')\n",
    "axes[1].set_title('Artist Latitude vs Longitude')\n",
    "\n",
    "axes[2].scatter(pdf_sample['year'], pdf_sample['song_hotttnesss'], alpha=0.5, edgecolor='none')\n",
    "axes[2].set_xlabel('year')\n",
    "axes[2].set_ylabel('song_hotttnesss')\n",
    "axes[2].set_title('Song Hotttnesss vs Year')\n",
    "\n",
    "plt.tight_layout()\n",
    "plt.show()\n",
    "# YOUR CODE HERE"
   ]
  },
  {
   "cell_type": "code",
   "execution_count": 12,
   "metadata": {},
   "outputs": [
    {
     "data": {
      "application/vnd.jupyter.widget-view+json": {
       "model_id": "",
       "version_major": 2,
       "version_minor": 0
      },
      "text/plain": [
       "FloatProgress(value=0.0, bar_style='info', description='Progress:', layout=Layout(height='25px', width='50%'),…"
      ]
     },
     "metadata": {},
     "output_type": "display_data"
    },
    {
     "data": {
      "image/png": "[encoded data removed]",
      "text/plain": [
       "<IPython.core.display.Image object>"
      ]
     },
     "metadata": {},
     "output_type": "display_data"
    }
   ],
   "source": [
    "%matplot plt"
   ]
  },
  {
   "cell_type": "markdown",
   "metadata": {
    "application/vnd.databricks.v1+cell": {
     "inputWidgets": {},
     "nuid": "b8a46234-ae5e-4ab7-ba35-4c9a08043c23",
     "showTitle": false,
     "title": ""
    },
    "id": "edOR1LYvbGOo"
   },
   "source": [
    "### 2.2.2 Data Cleaning\n",
    "\n",
    "From Section 3, you should have had a basic understanding of the dataset. In this cleaning step, we are dropping `energy` and `danceability` features.\n",
    "\n",
    "✰2.2.2(a) In your writeup, justify why we are doing this.\n"
   ]
  },
  {
   "cell_type": "code",
   "execution_count": 13,
   "metadata": {
    "application/vnd.databricks.v1+cell": {
     "inputWidgets": {},
     "nuid": "b491848b-96be-4af8-a64b-4bdecbf907cc",
     "showTitle": false,
     "title": ""
    },
    "id": "K_qoFKDKbGOp"
   },
   "outputs": [
    {
     "data": {
      "application/vnd.jupyter.widget-view+json": {
       "model_id": "",
       "version_major": 2,
       "version_minor": 0
      },
      "text/plain": [
       "FloatProgress(value=0.0, bar_style='info', description='Progress:', layout=Layout(height='25px', width='50%'),…"
      ]
     },
     "metadata": {},
     "output_type": "display_data"
    },
    {
     "name": "stdout",
     "output_type": "stream",
     "text": [
      "root\n",
      " |-- song_hotttnesss: double (nullable = true)\n",
      " |-- artist_familiarity: double (nullable = true)\n",
      " |-- artist_hotttnesss: double (nullable = true)\n",
      " |-- artist_id: string (nullable = true)\n",
      " |-- artist_latitude: double (nullable = true)\n",
      " |-- artist_location: string (nullable = true)\n",
      " |-- artist_longitude: double (nullable = true)\n",
      " |-- artist_name: string (nullable = true)\n",
      " |-- title: string (nullable = true)\n",
      " |-- duration: double (nullable = true)\n",
      " |-- end_of_fade_in: double (nullable = true)\n",
      " |-- key: double (nullable = true)\n",
      " |-- key_confidence: double (nullable = true)\n",
      " |-- loudness: double (nullable = true)\n",
      " |-- mode: double (nullable = true)\n",
      " |-- mode_confidence: double (nullable = true)\n",
      " |-- start_of_fade_out: double (nullable = true)\n",
      " |-- tempo: double (nullable = true)\n",
      " |-- time_signature: double (nullable = true)\n",
      " |-- time_signature_confidence: double (nullable = true)\n",
      " |-- artist_terms: string (nullable = true)\n",
      " |-- artist_terms_freq: string (nullable = true)\n",
      " |-- artist_terms_weight: string (nullable = true)\n",
      " |-- year: double (nullable = true)"
     ]
    }
   ],
   "source": [
    "df_clean = df.drop(\"energy\", \"danceability\")\n",
    "df_clean.printSchema()\n"
   ]
  },
  {
   "cell_type": "markdown",
   "metadata": {
    "application/vnd.databricks.v1+cell": {
     "inputWidgets": {},
     "nuid": "64cb2226-dcf2-4d19-a423-320270a93391",
     "showTitle": false,
     "title": ""
    },
    "id": "rS8RChEBbGOp"
   },
   "source": [
    "For simplicity, we are dropping `year` values that are less or equal to 1920. Print out the number of samples before and after dropping these rows.\n",
    "\n",
    "✰2.2.2(b) In your writeup, compare these two numbers and explain the advantages and potential problem of doing this step. What other techniques could you use to potentially do better?\n"
   ]
  },
  {
   "cell_type": "code",
   "execution_count": 14,
   "metadata": {
    "application/vnd.databricks.v1+cell": {
     "inputWidgets": {},
     "nuid": "cd1fb1a7-628b-4f18-b728-d874fa2eecc2",
     "showTitle": false,
     "title": ""
    },
    "id": "IntPLzb0bGOp"
   },
   "outputs": [
    {
     "data": {
      "application/vnd.jupyter.widget-view+json": {
       "model_id": "",
       "version_major": 2,
       "version_minor": 0
      },
      "text/plain": [
       "FloatProgress(value=0.0, bar_style='info', description='Progress:', layout=Layout(height='25px', width='50%'),…"
      ]
     },
     "metadata": {},
     "output_type": "display_data"
    },
    {
     "name": "stdout",
     "output_type": "stream",
     "text": [
      "Number of samples before dropping: 10000\n",
      "Number of samples after dropping: 5933"
     ]
    }
   ],
   "source": [
    "\n",
    "before_count = df_clean.count()\n",
    "\n",
    "# Filter out rows with year ≤ 1920\n",
    "df_filtered = df_clean.filter(\"year > 1920\")\n",
    "\n",
    "# Count samples after dropping\n",
    "after_count = df_filtered.count()\n",
    "\n",
    "print(f\"Number of samples before dropping: {before_count}\")\n",
    "print(f\"Number of samples after dropping: {after_count}\")\n"
   ]
  },
  {
   "cell_type": "markdown",
   "metadata": {
    "application/vnd.databricks.v1+cell": {
     "inputWidgets": {},
     "nuid": "0139eb2c-2151-44fb-bc95-da9e1939574f",
     "showTitle": false,
     "title": ""
    },
    "id": "cfPJkDifbGOp"
   },
   "source": [
    "Now, let's do an NaN check to see if there are other problematic features. Print the number of entries that contain NaN for each feature.\n",
    "\n",
    "Hint: use pyspark sql `count(when(isnull(...)))` to count total Null entries for a feature. Replace `isnull` with `isnan` to count nan entries.\n"
   ]
  },
  {
   "cell_type": "code",
   "execution_count": 15,
   "metadata": {
    "application/vnd.databricks.v1+cell": {
     "inputWidgets": {},
     "nuid": "2ee11481-e983-42b7-a35c-67f2cd0bfd58",
     "showTitle": false,
     "title": ""
    },
    "id": "NUFuO6SrbGOq"
   },
   "outputs": [
    {
     "data": {
      "application/vnd.jupyter.widget-view+json": {
       "model_id": "",
       "version_major": 2,
       "version_minor": 0
      },
      "text/plain": [
       "FloatProgress(value=0.0, bar_style='info', description='Progress:', layout=Layout(height='25px', width='50%'),…"
      ]
     },
     "metadata": {},
     "output_type": "display_data"
    },
    {
     "name": "stdout",
     "output_type": "stream",
     "text": [
      "+---------------+------------------+-----------------+---------+---------------+---------------+----------------+-----------+-----+--------+--------------+---+--------------+--------+----+---------------+-----------------+-----+--------------+-------------------------+------------+-----------------+-------------------+----+\n",
      "|song_hotttnesss|artist_familiarity|artist_hotttnesss|artist_id|artist_latitude|artist_location|artist_longitude|artist_name|title|duration|end_of_fade_in|key|key_confidence|loudness|mode|mode_confidence|start_of_fade_out|tempo|time_signature|time_signature_confidence|artist_terms|artist_terms_freq|artist_terms_weight|year|\n",
      "+---------------+------------------+-----------------+---------+---------------+---------------+----------------+-----------+-----+--------+--------------+---+--------------+--------+----+---------------+-----------------+-----+--------------+-------------------------+------------+-----------------+-------------------+----+\n",
      "|0              |0                 |0                |0        |6390           |4692           |6390            |0          |0    |0       |0             |0  |0             |0       |0   |0              |0                |0    |0             |0                        |0           |0                |0                  |0   |\n",
      "+---------------+------------------+-----------------+---------+---------------+---------------+----------------+-----------+-----+--------+--------------+---+--------------+--------+----+---------------+-----------------+-----+--------------+-------------------------+------------+-----------------+-------------------+----+"
     ]
    }
   ],
   "source": [
    "# count na\n",
    "from pyspark.sql.functions import isnan, when, count, isnull\n",
    "\n",
    "# YOUR CODE HERE\n",
    "from pyspark.sql.functions import isnan, when, count, col\n",
    "\n",
    "# Create a DataFrame with counts of NaN or null for each column\n",
    "nan_counts = df_clean.select([\n",
    "    count(when(isnan(col(c)) | col(c).isNull(), c)).alias(c)\n",
    "    for c in df_clean.columns\n",
    "])\n",
    "\n",
    "nan_counts.show(truncate=False)\n",
    "\n",
    "# YOUR CODE HERE"
   ]
  },
  {
   "cell_type": "markdown",
   "metadata": {
    "application/vnd.databricks.v1+cell": {
     "inputWidgets": {},
     "nuid": "b64e1319-1b0f-4d05-90a2-332968de3545",
     "showTitle": false,
     "title": ""
    },
    "id": "KMIBhrFjbGOq"
   },
   "source": [
    "We should see two features that contain (a lot of) `nan` in them.\n",
    "\n",
    "✰2.2.2(c) Which two are they?\n",
    "\n",
    "For simplicity, we are dropping all records with `nan` in these two features. Note that this drops a significant proportion of our dataset. Since we have a lot of data to fit some rather simple models, this might be ok.\n",
    "\n",
    "However, do note that this is not usually desirable in the real-word because we always want to retain as much data as possible, especially when training larger, more complex models.\n",
    "\n",
    "✰2.2.2(d) In your writeup, explain what possible techniques could you employ to deal with this situation. Discuss the pros and cons of your proposed solution.\n"
   ]
  },
  {
   "cell_type": "code",
   "execution_count": 16,
   "metadata": {
    "application/vnd.databricks.v1+cell": {
     "inputWidgets": {},
     "nuid": "ecc73bc3-a9de-4af6-be6d-3d629b4edc25",
     "showTitle": false,
     "title": ""
    },
    "id": "FfTUaV9MbGOq"
   },
   "outputs": [
    {
     "data": {
      "application/vnd.jupyter.widget-view+json": {
       "model_id": "",
       "version_major": 2,
       "version_minor": 0
      },
      "text/plain": [
       "FloatProgress(value=0.0, bar_style='info', description='Progress:', layout=Layout(height='25px', width='50%'),…"
      ]
     },
     "metadata": {},
     "output_type": "display_data"
    },
    {
     "name": "stdout",
     "output_type": "stream",
     "text": [
      "+---------------+------------------+-----------------+---------+---------------+---------------+----------------+-----------+-----+--------+--------------+---+--------------+--------+----+---------------+-----------------+-----+--------------+-------------------------+------------+-----------------+-------------------+----+\n",
      "|song_hotttnesss|artist_familiarity|artist_hotttnesss|artist_id|artist_latitude|artist_location|artist_longitude|artist_name|title|duration|end_of_fade_in|key|key_confidence|loudness|mode|mode_confidence|start_of_fade_out|tempo|time_signature|time_signature_confidence|artist_terms|artist_terms_freq|artist_terms_weight|year|\n",
      "+---------------+------------------+-----------------+---------+---------------+---------------+----------------+-----------+-----+--------+--------------+---+--------------+--------+----+---------------+-----------------+-----+--------------+-------------------------+------------+-----------------+-------------------+----+\n",
      "|0              |0                 |0                |0        |6390           |0              |6390            |0          |0    |0       |0             |0  |0             |0       |0   |0              |0                |0    |0             |0                        |0           |0                |0                  |0   |\n",
      "+---------------+------------------+-----------------+---------+---------------+---------------+----------------+-----------+-----+--------+--------------+---+--------------+--------+----+---------------+-----------------+-----+--------------+-------------------------+------------+-----------------+-------------------+----+\n",
      "\n",
      "Number of samples before dropping: 10000\n",
      "Number of samples after dropping: 3610"
     ]
    }
   ],
   "source": [
    "# YOUR CODE HERE\n",
    "\n",
    "from pyspark.sql.functions import isnan, when, count, col\n",
    "\n",
    "# Count NaN values for each column in df_clean.\n",
    "nan_counts = df_clean.select([\n",
    "    count(when(isnan(col(c)), c)).alias(c)\n",
    "    for c in df_clean.columns\n",
    "])\n",
    "nan_counts.show(truncate=False)\n",
    "\n",
    "\n",
    "# YOUR CODE HERE\n",
    "\n",
    "\n",
    "# Count samples before dropping\n",
    "before_drop = df_clean.count()\n",
    "\n",
    "# Filter out rows with NaN in either artist_latitude or artist_longitude.\n",
    "df_final = df_clean.filter(~(isnan(col(\"artist_latitude\")) | isnan(col(\"artist_longitude\"))))\n",
    "\n",
    "# Count samples after dropping\n",
    "after_drop = df_final.count()\n",
    "\n",
    "print(f\"Number of samples before dropping: {before_drop}\")\n",
    "print(f\"Number of samples after dropping: {after_drop}\")\n"
   ]
  },
  {
   "cell_type": "markdown",
   "metadata": {
    "application/vnd.databricks.v1+cell": {
     "inputWidgets": {},
     "nuid": "5337b93b-2e7b-42a3-95af-acb04aa860f0",
     "showTitle": false,
     "title": ""
    },
    "id": "C5YQ936PbGOq"
   },
   "source": [
    "✰2.2.2(e) Finally in your writeup, report the percentage of records that survived our very aggressive data cleaning.\n"
   ]
  },
  {
   "cell_type": "code",
   "execution_count": 17,
   "metadata": {
    "application/vnd.databricks.v1+cell": {
     "inputWidgets": {},
     "nuid": "5d738d09-aba9-4e13-a9b5-365ed92131a4",
     "showTitle": false,
     "title": ""
    },
    "id": "Hno4Hve4bGOq"
   },
   "outputs": [
    {
     "data": {
      "application/vnd.jupyter.widget-view+json": {
       "model_id": "",
       "version_major": 2,
       "version_minor": 0
      },
      "text/plain": [
       "FloatProgress(value=0.0, bar_style='info', description='Progress:', layout=Layout(height='25px', width='50%'),…"
      ]
     },
     "metadata": {},
     "output_type": "display_data"
    },
    {
     "name": "stdout",
     "output_type": "stream",
     "text": [
      "Records before cleaning: 10000\n",
      "Records after cleaning: 3610\n",
      "Percentage of records that survived cleaning: 36.10%"
     ]
    }
   ],
   "source": [
    "\n",
    "before_count = df_clean.count()\n",
    "after_count = df_final.count()\n",
    "\n",
    "percentage_survived = (after_count / before_count) * 100\n",
    "\n",
    "print(f\"Records before cleaning: {before_count}\")\n",
    "print(f\"Records after cleaning: {after_count}\")\n",
    "print(f\"Percentage of records that survived cleaning: {percentage_survived:.2f}%\")\n"
   ]
  },
  {
   "cell_type": "markdown",
   "metadata": {
    "application/vnd.databricks.v1+cell": {
     "inputWidgets": {},
     "nuid": "eb77bbcf-691d-46dd-b405-5dd4ba0b1eb8",
     "showTitle": false,
     "title": ""
    },
    "id": "I3p1DrvmbGOq"
   },
   "source": [
    "### 2.2.3. Baseline\n",
    "\n",
    "Now we have the data (almost) ready to do some preliminary modeling!\n",
    "\n",
    "We will be treating this problem as a classification problem, i.e. given some features, predict whether a song will be popular. We define a song to be popular if its `song_hotttnesss` value is above average.\n",
    "\n",
    "✰2.2.3(a) Explain in your writeup why treating this as a classification problem (instead of a regression problem) might be a sensible choice.\n",
    "\n",
    "Then, assign labels to the dataset with the above definition of \"popularity\".\n"
   ]
  },
  {
   "cell_type": "code",
   "execution_count": 18,
   "metadata": {
    "application/vnd.databricks.v1+cell": {
     "inputWidgets": {},
     "nuid": "2960145a-91b9-4f1f-aa69-fd49829bda64",
     "showTitle": false,
     "title": ""
    },
    "id": "yCGy3UtUbGOr"
   },
   "outputs": [
    {
     "data": {
      "application/vnd.jupyter.widget-view+json": {
       "model_id": "",
       "version_major": 2,
       "version_minor": 0
      },
      "text/plain": [
       "FloatProgress(value=0.0, bar_style='info', description='Progress:', layout=Layout(height='25px', width='50%'),…"
      ]
     },
     "metadata": {},
     "output_type": "display_data"
    },
    {
     "name": "stdout",
     "output_type": "stream",
     "text": [
      "+------------------+-------+\n",
      "|   song_hotttnesss|popular|\n",
      "+------------------+-------+\n",
      "|0.6528356953891383|      1|\n",
      "|0.5367888864406624|      1|\n",
      "|0.5654510121736983|      1|\n",
      "|               0.0|      0|\n",
      "|               0.0|      0|\n",
      "+------------------+-------+\n",
      "only showing top 5 rows"
     ]
    }
   ],
   "source": [
    "from pyspark.sql.functions import col, expr, when\n",
    "\n",
    "from pyspark.sql.functions import col, when, avg\n",
    "\n",
    "# Compute the average song_hotttnesss for the dataset.\n",
    "avg_hotttnesss = df_final.agg(avg(\"song_hotttnesss\")).collect()[0][0]\n",
    "\n",
    "# Create a new column \"popular\" where 1 indicates popular (above average) and 0 indicates not popular.\n",
    "df_labeled = df_final.withColumn(\n",
    "    \"popular\",\n",
    "    when(col(\"song_hotttnesss\") > avg_hotttnesss, 1).otherwise(0)\n",
    ")\n",
    "\n",
    "df_labeled.select(\"song_hotttnesss\", \"popular\").show(5)\n"
   ]
  },
  {
   "cell_type": "markdown",
   "metadata": {
    "application/vnd.databricks.v1+cell": {
     "inputWidgets": {},
     "nuid": "5cc243f5-904c-46a9-a45f-95cf47086ae4",
     "showTitle": false,
     "title": ""
    },
    "id": "7P7RUcVGbGOr"
   },
   "source": [
    "Now let's take a look at how balanced the two classes are.\n",
    "\n",
    "✰2.2.3(b) Report what percentage of songs are assigned the \"popular\" label.\n"
   ]
  },
  {
   "cell_type": "code",
   "execution_count": 19,
   "metadata": {
    "application/vnd.databricks.v1+cell": {
     "inputWidgets": {},
     "nuid": "fffe7c1f-ab19-414a-b073-a07e5de6d7de",
     "showTitle": false,
     "title": ""
    },
    "id": "lijIsObbbGOr"
   },
   "outputs": [
    {
     "data": {
      "application/vnd.jupyter.widget-view+json": {
       "model_id": "",
       "version_major": 2,
       "version_minor": 0
      },
      "text/plain": [
       "FloatProgress(value=0.0, bar_style='info', description='Progress:', layout=Layout(height='25px', width='50%'),…"
      ]
     },
     "metadata": {},
     "output_type": "display_data"
    },
    {
     "name": "stdout",
     "output_type": "stream",
     "text": [
      "Percentage of songs assigned the 'popular' label: 52.47%"
     ]
    }
   ],
   "source": [
    "from pyspark.sql.functions import col\n",
    "\n",
    "total_songs = df_labeled.count()\n",
    "popular_songs = df_labeled.filter(col(\"popular\") == 1).count()\n",
    "\n",
    "percentage_popular = (popular_songs / total_songs) * 100\n",
    "print(\"Percentage of songs assigned the 'popular' label: {:.2f}%\".format(percentage_popular))\n"
   ]
  },
  {
   "cell_type": "markdown",
   "metadata": {
    "application/vnd.databricks.v1+cell": {
     "inputWidgets": {},
     "nuid": "a49f1fe3-9ecc-4f0a-8721-1da6bddf901d",
     "showTitle": false,
     "title": ""
    },
    "id": "CAFx-f3NbGOr"
   },
   "source": [
    "As how we've been dealing with the `year` feature in earlier assignments, we will shift the feature so that it starts from 0.\n",
    "\n",
    "✰2.2.3(c) Explain why we want to do this.\n"
   ]
  },
  {
   "cell_type": "code",
   "execution_count": 20,
   "metadata": {
    "application/vnd.databricks.v1+cell": {
     "inputWidgets": {},
     "nuid": "464fd15a-eb38-4767-9961-7367f398a2cf",
     "showTitle": false,
     "title": ""
    },
    "id": "vWfY2SR_bGOr"
   },
   "outputs": [
    {
     "data": {
      "application/vnd.jupyter.widget-view+json": {
       "model_id": "",
       "version_major": 2,
       "version_minor": 0
      },
      "text/plain": [
       "FloatProgress(value=0.0, bar_style='info', description='Progress:', layout=Layout(height='25px', width='50%'),…"
      ]
     },
     "metadata": {},
     "output_type": "display_data"
    },
    {
     "name": "stdout",
     "output_type": "stream",
     "text": [
      "+------+------------+\n",
      "|  year|year_shifted|\n",
      "+------+------------+\n",
      "|   0.0|         0.0|\n",
      "|2006.0|      2006.0|\n",
      "|2002.0|      2002.0|\n",
      "|2007.0|      2007.0|\n",
      "|1968.0|      1968.0|\n",
      "+------+------------+\n",
      "only showing top 5 rows"
     ]
    }
   ],
   "source": [
    "from pyspark.sql.functions import col, min\n",
    "\n",
    "# Compute the minimum year value in the DataFrame.\n",
    "min_year = df_labeled.agg(min(\"year\")).collect()[0][0]\n",
    "\n",
    "# Create a new column \"year_shifted\" where we subtract the minimum year.\n",
    "df_shifted = df_labeled.withColumn(\"year_shifted\", col(\"year\") - min_year)\n",
    "\n",
    "# Display the original and shifted year columns.\n",
    "df_shifted.select(\"year\", \"year_shifted\").show(5)"
   ]
  },
  {
   "cell_type": "markdown",
   "metadata": {
    "application/vnd.databricks.v1+cell": {
     "inputWidgets": {},
     "nuid": "cba48875-ef80-4ef8-9b9d-f65ff3463ebc",
     "showTitle": false,
     "title": ""
    },
    "id": "iQypQ7mobGOr"
   },
   "source": [
    "Finally, let's concatenate all features (using VectorAssembler) into a feature vector and scale it.\n",
    "\n",
    "✰2.2.3(d) Explain what scaling means and why we want to perform scaling before the learning step.\n",
    "\n",
    "Note: we will only be using the numeric features for now. Excluding `song_hotttnesss` and the two features we dropped in the data cleaning step, there should be 19-3=16 of them.\n"
   ]
  },
  {
   "cell_type": "code",
   "execution_count": 21,
   "metadata": {
    "application/vnd.databricks.v1+cell": {
     "inputWidgets": {},
     "nuid": "5edbc59d-3f87-4436-9f5f-14928035d6ae",
     "showTitle": false,
     "title": ""
    },
    "id": "VOs9nbj3bGOr"
   },
   "outputs": [
    {
     "data": {
      "application/vnd.jupyter.widget-view+json": {
       "model_id": "",
       "version_major": 2,
       "version_minor": 0
      },
      "text/plain": [
       "FloatProgress(value=0.0, bar_style='info', description='Progress:', layout=Layout(height='25px', width='50%'),…"
      ]
     },
     "metadata": {},
     "output_type": "display_data"
    },
    {
     "name": "stdout",
     "output_type": "stream",
     "text": [
      "root\n",
      " |-- song_hotttnesss: double (nullable = true)\n",
      " |-- artist_familiarity: double (nullable = true)\n",
      " |-- artist_hotttnesss: double (nullable = true)\n",
      " |-- artist_id: string (nullable = true)\n",
      " |-- artist_latitude: double (nullable = true)\n",
      " |-- artist_location: string (nullable = true)\n",
      " |-- artist_longitude: double (nullable = true)\n",
      " |-- artist_name: string (nullable = true)\n",
      " |-- title: string (nullable = true)\n",
      " |-- duration: double (nullable = true)\n",
      " |-- end_of_fade_in: double (nullable = true)\n",
      " |-- key: double (nullable = true)\n",
      " |-- key_confidence: double (nullable = true)\n",
      " |-- loudness: double (nullable = true)\n",
      " |-- mode: double (nullable = true)\n",
      " |-- mode_confidence: double (nullable = true)\n",
      " |-- start_of_fade_out: double (nullable = true)\n",
      " |-- tempo: double (nullable = true)\n",
      " |-- time_signature: double (nullable = true)\n",
      " |-- time_signature_confidence: double (nullable = true)\n",
      " |-- artist_terms: string (nullable = true)\n",
      " |-- artist_terms_freq: string (nullable = true)\n",
      " |-- artist_terms_weight: string (nullable = true)\n",
      " |-- year: double (nullable = true)\n",
      " |-- popular: integer (nullable = false)\n",
      " |-- year_shifted: double (nullable = true)\n",
      " |-- features: vector (nullable = true)"
     ]
    }
   ],
   "source": [
    "from pyspark.ml.feature import VectorAssembler\n",
    "\n",
    "# List of input features (16 numeric features)\n",
    "input_feature_columns = [\n",
    "    \"artist_familiarity\", \"artist_hotttnesss\", \"artist_latitude\", \"artist_longitude\",\n",
    "    \"duration\", \"end_of_fade_in\", \"key\", \"key_confidence\", \"loudness\", \"mode\",\n",
    "    \"mode_confidence\", \"start_of_fade_out\", \"tempo\", \"time_signature\", \n",
    "    \"time_signature_confidence\", \"year_shifted\"\n",
    "]\n",
    "\n",
    "vectorizer = VectorAssembler(inputCols=input_feature_columns, outputCol=\"features\")\n",
    "\n",
    "df_features = vectorizer.transform(df_shifted)\n",
    "\n",
    "df_features.printSchema()\n"
   ]
  },
  {
   "cell_type": "code",
   "execution_count": 22,
   "metadata": {
    "application/vnd.databricks.v1+cell": {
     "inputWidgets": {},
     "nuid": "4f2dc7fa-29fb-46fd-b4db-c6ea6c017abb",
     "showTitle": false,
     "title": ""
    },
    "id": "J04hWIfybGOs"
   },
   "outputs": [
    {
     "data": {
      "application/vnd.jupyter.widget-view+json": {
       "model_id": "",
       "version_major": 2,
       "version_minor": 0
      },
      "text/plain": [
       "FloatProgress(value=0.0, bar_style='info', description='Progress:', layout=Layout(height='25px', width='50%'),…"
      ]
     },
     "metadata": {},
     "output_type": "display_data"
    },
    {
     "name": "stdout",
     "output_type": "stream",
     "text": [
      "+-----------------------------------------------------------------------------------------------------------------------------------+-------------------------------------------------------------------------------------------------------------------------------------------------------------------------------------------------------------------------------------------------------------------------------------------------+\n",
      "|features                                                                                                                           |scaled_features                                                                                                                                                                                                                                                                                  |\n",
      "+-----------------------------------------------------------------------------------------------------------------------------------+-------------------------------------------------------------------------------------------------------------------------------------------------------------------------------------------------------------------------------------------------------------------------------------------------+\n",
      "|[0.9290302874411605,0.7504265510189179,54.31407,-2.23001,156.96934,0.322,4.0,0.772,-20.816,0.0,0.524,142.286,127.547,1.0,0.168,0.0]|[7.974531053286564,7.823284786234549,3.508740445895209,-0.040742490169086064,1.2960597626774228,0.14195456113659913,1.1191889458080646,2.784627379043629,-3.9819690801679526,0.0,2.711731762352178,1.2001457782297,3.6908140887670395,0.7889413870207153,0.4503622257210726,0.0]                 |\n",
      "|[0.8140143856017059,0.7277085215552097,35.14968,-90.04892,271.3073,2.781,2.0,0.593,-3.683,0.0,0.59,253.991,90.046,4.0,0.912,2006.0]|[6.987267351296031,7.58644666525477,2.270702672001452,-1.6452021461055408,2.2401220190557747,1.2260112873319322,0.5595944729040323,2.138968958255015,-0.7045345946511611,0.0,3.053285762953788,2.1423486945893466,2.6056516063656288,3.155765548082861,2.444823511057251,2.043140420228505]      |\n",
      "|[0.5662797912128699,0.31309203687265225,53.4796,-2.24881,164.362,0.218,5.0,0.777,-6.419,1.0,0.62,157.931,192.261,1.0,0.0,2002.0]   |[4.860784240214202,3.2640211962533003,3.45483289229287,-0.04108596791814496,1.357099257174596,0.09610588300552364,1.3989861822600806,2.802662530462305,-1.2279140817447198,2.1640850922319053,3.2085375814090655,1.332107325398105,5.563436282471871,0.7889413870207153,0.0,2.0390663615640414]  |\n",
      "|[0.49440347011628794,0.3648064792150419,46.8132,8.22395,53.78567,0.0,9.0,0.0,-17.917,0.0,0.0,53.786,66.362,4.0,0.908,2007.0]       |[4.2438183970882415,3.8031503214907967,3.0241771283533274,0.1502523316155781,0.44409591513633295,0.0,2.5181751280681453,0.0,-3.4274087245085134,0.0,0.0,0.45367106270372803,1.92031019591804,3.155765548082861,2.434100600921035,2.0441589348946207]                                             |\n",
      "|[0.3849668121853178,0.30424491688363864,39.60856,-75.83013,156.96934,0.0,1.0,0.187,-9.054,1.0,0.057,146.86,116.329,4.0,1.0,1968.0] |[3.3044453337598916,3.1717889329917397,2.5587505498237775,-1.385423529959739,1.2960597626774228,0.0,0.27979723645201615,0.6745146630584955,-1.7319729079477635,2.1640850922319053,0.294978455065027,1.238726290645698,3.3662000057404793,3.155765548082861,2.6807275340540033,2.0044368629161005]|\n",
      "+-----------------------------------------------------------------------------------------------------------------------------------+-------------------------------------------------------------------------------------------------------------------------------------------------------------------------------------------------------------------------------------------------------------------------------------------------+\n",
      "only showing top 5 rows"
     ]
    }
   ],
   "source": [
    "from pyspark.ml.feature import StandardScaler\n",
    "\n",
    "# Create a StandardScaler with input column \"features\" and output column \"scaled_features\"\n",
    "stdscaler = StandardScaler(inputCol=\"features\", outputCol=\"scaled_features\")\n",
    "\n",
    "# Fit the scaler model on the DataFrame\n",
    "stdscaler_model = stdscaler.fit(df_features)\n",
    "\n",
    "# Transform the DataFrame to add the scaled features column\n",
    "df_features = stdscaler_model.transform(df_features)\n",
    "\n",
    "df_features.select(\"features\", \"scaled_features\").show(5, truncate=False)\n"
   ]
  },
  {
   "cell_type": "markdown",
   "metadata": {
    "application/vnd.databricks.v1+cell": {
     "inputWidgets": {},
     "nuid": "18b3d8b7-ca44-4790-a2a9-30b30b80c612",
     "showTitle": false,
     "title": ""
    },
    "id": "_04B0N44bGOs"
   },
   "source": [
    "Now let's verify the resulting feature vector is of expected length 16.\n"
   ]
  },
  {
   "cell_type": "code",
   "execution_count": 23,
   "metadata": {
    "application/vnd.databricks.v1+cell": {
     "inputWidgets": {},
     "nuid": "028b1e4e-dfe8-4191-a49b-f29f23ab8aac",
     "showTitle": false,
     "title": ""
    },
    "id": "XSzZdDxebGOs"
   },
   "outputs": [
    {
     "data": {
      "application/vnd.jupyter.widget-view+json": {
       "model_id": "",
       "version_major": 2,
       "version_minor": 0
      },
      "text/plain": [
       "FloatProgress(value=0.0, bar_style='info', description='Progress:', layout=Layout(height='25px', width='50%'),…"
      ]
     },
     "metadata": {},
     "output_type": "display_data"
    },
    {
     "name": "stdout",
     "output_type": "stream",
     "text": [
      "vector len: 16"
     ]
    }
   ],
   "source": [
    "# change your variable/column names accordingly\n",
    "l = df_features.select('features').take(1)[0].features\n",
    "print('vector len:', len(l))\n",
    "assert len(l) == 16"
   ]
  },
  {
   "cell_type": "markdown",
   "metadata": {
    "application/vnd.databricks.v1+cell": {
     "inputWidgets": {},
     "nuid": "c54cf7b6-0109-493b-bf45-58ae23407c64",
     "showTitle": false,
     "title": ""
    },
    "id": "cA6ciqngbGOs"
   },
   "source": [
    "Now, we are really ready to fit some models.\n",
    "\n",
    "First, do a train-test split on the dataset, with test ratio 0.2 and seed 10605.\n"
   ]
  },
  {
   "cell_type": "code",
   "execution_count": 24,
   "metadata": {
    "application/vnd.databricks.v1+cell": {
     "inputWidgets": {},
     "nuid": "adaa8b39-f18e-47b6-bc98-8996bf4397bc",
     "showTitle": false,
     "title": ""
    },
    "id": "rZvvEWTrbGOs"
   },
   "outputs": [
    {
     "data": {
      "application/vnd.jupyter.widget-view+json": {
       "model_id": "",
       "version_major": 2,
       "version_minor": 0
      },
      "text/plain": [
       "FloatProgress(value=0.0, bar_style='info', description='Progress:', layout=Layout(height='25px', width='50%'),…"
      ]
     },
     "metadata": {},
     "output_type": "display_data"
    },
    {
     "name": "stdout",
     "output_type": "stream",
     "text": [
      "Number of training samples: 2883\n",
      "Number of test samples: 727"
     ]
    }
   ],
   "source": [
    "# Perform train-test split on the DataFrame\n",
    "train_df, test_df = df_features.randomSplit([0.8, 0.2], seed=10605)\n",
    "\n",
    "print(\"Number of training samples:\", train_df.count())\n",
    "print(\"Number of test samples:\", test_df.count())"
   ]
  },
  {
   "cell_type": "markdown",
   "metadata": {
    "application/vnd.databricks.v1+cell": {
     "inputWidgets": {},
     "nuid": "00a18243-93e3-4368-a753-8bde1d19633a",
     "showTitle": false,
     "title": ""
    },
    "id": "qbmIO2ibbGOs"
   },
   "source": [
    "We have to select a metric to evaluate our models on. For classification, potential choices include accuracy and AUC.\n",
    "\n",
    "✰2.2.3(e) In your writeup, explain the difference between these two metrics and when AUC might be more useful than accuracy.\n",
    "\n",
    "We will be going with AUC here. Instantiate an AUC Evaluator in the following cell.\n"
   ]
  },
  {
   "cell_type": "code",
   "execution_count": 25,
   "metadata": {
    "application/vnd.databricks.v1+cell": {
     "inputWidgets": {},
     "nuid": "a318a005-a6f2-4d1e-89b2-83949396fb72",
     "showTitle": false,
     "title": ""
    },
    "id": "dK2VbP_obGOt"
   },
   "outputs": [
    {
     "data": {
      "application/vnd.jupyter.widget-view+json": {
       "model_id": "",
       "version_major": 2,
       "version_minor": 0
      },
      "text/plain": [
       "FloatProgress(value=0.0, bar_style='info', description='Progress:', layout=Layout(height='25px', width='50%'),…"
      ]
     },
     "metadata": {},
     "output_type": "display_data"
    }
   ],
   "source": [
    "from pyspark.ml.evaluation import BinaryClassificationEvaluator\n",
    "\n",
    "# Instantiate an AUC evaluator. Note: set labelCol to the column name of your binary label.\n",
    "auc_evaluator = BinaryClassificationEvaluator(labelCol=\"popular\", metricName=\"areaUnderROC\")\n",
    "\n",
    "# You can later use auc_evaluator.evaluate(predictions) to compute the AUC on a DataFrame of predictions."
   ]
  },
  {
   "cell_type": "markdown",
   "metadata": {
    "application/vnd.databricks.v1+cell": {
     "inputWidgets": {},
     "nuid": "1968687d-252d-4073-a78c-12bafdfd5927",
     "showTitle": false,
     "title": ""
    },
    "id": "kLGozCzDbGOt"
   },
   "source": [
    "We will be fitting two models, logistic regression, and random forest, in the mandatory part. You have the chance go with fancier models in the last section to achieve higher accuracy to earn additional points.\n",
    "\n",
    "Train a LR and a RF model with default hyperparameters.\n",
    "\n",
    "✰2.2.3(f) Calculate the train and test AUC of both models and report them in your writeup.\n"
   ]
  },
  {
   "cell_type": "code",
   "execution_count": 26,
   "metadata": {
    "application/vnd.databricks.v1+cell": {
     "inputWidgets": {},
     "nuid": "49d94a8d-e607-4beb-8a06-30bbe5a2e542",
     "showTitle": false,
     "title": ""
    },
    "id": "ks5RQm4DbGOt"
   },
   "outputs": [
    {
     "data": {
      "application/vnd.jupyter.widget-view+json": {
       "model_id": "",
       "version_major": 2,
       "version_minor": 0
      },
      "text/plain": [
       "FloatProgress(value=0.0, bar_style='info', description='Progress:', layout=Layout(height='25px', width='50%'),…"
      ]
     },
     "metadata": {},
     "output_type": "display_data"
    },
    {
     "name": "stdout",
     "output_type": "stream",
     "text": [
      "Logistic Regression Train AUC: 0.7992174047259589\n",
      "Logistic Regression Test AUC: 0.7985680879494658"
     ]
    }
   ],
   "source": [
    "# Logistic Regression\n",
    "from pyspark.ml.classification import LogisticRegression\n",
    "\n",
    "from pyspark.ml.classification import LogisticRegression, RandomForestClassifier\n",
    "\n",
    "# ----- Logistic Regression Model -----\n",
    "lr = LogisticRegression(featuresCol=\"scaled_features\", labelCol=\"popular\")\n",
    "lr_model = lr.fit(train_df)\n",
    "\n",
    "# Make predictions on train and test sets\n",
    "train_pred_lr = lr_model.transform(train_df)\n",
    "test_pred_lr = lr_model.transform(test_df)\n",
    "\n",
    "# Evaluate AUC for Logistic Regression\n",
    "train_auc_lr = auc_evaluator.evaluate(train_pred_lr)\n",
    "test_auc_lr = auc_evaluator.evaluate(test_pred_lr)\n",
    "\n",
    "print(\"Logistic Regression Train AUC:\", train_auc_lr)\n",
    "print(\"Logistic Regression Test AUC:\", test_auc_lr)\n"
   ]
  },
  {
   "cell_type": "code",
   "execution_count": 27,
   "metadata": {
    "application/vnd.databricks.v1+cell": {
     "inputWidgets": {},
     "nuid": "d8e65973-9032-4f58-a280-45315d68b498",
     "showTitle": false,
     "title": ""
    },
    "id": "EXQ93tnObGOt"
   },
   "outputs": [
    {
     "data": {
      "application/vnd.jupyter.widget-view+json": {
       "model_id": "",
       "version_major": 2,
       "version_minor": 0
      },
      "text/plain": [
       "FloatProgress(value=0.0, bar_style='info', description='Progress:', layout=Layout(height='25px', width='50%'),…"
      ]
     },
     "metadata": {},
     "output_type": "display_data"
    },
    {
     "name": "stdout",
     "output_type": "stream",
     "text": [
      "Random Forest Train AUC: 0.8316260135151425\n",
      "Random Forest Test AUC: 0.7969433309037903"
     ]
    }
   ],
   "source": [
    "# ----- Random Forest Model -----\n",
    "rf = RandomForestClassifier(featuresCol=\"scaled_features\", labelCol=\"popular\")\n",
    "rf_model = rf.fit(train_df)\n",
    "\n",
    "# Make predictions on train and test sets\n",
    "train_pred_rf = rf_model.transform(train_df)\n",
    "test_pred_rf = rf_model.transform(test_df)\n",
    "\n",
    "# Evaluate AUC for Random Forest\n",
    "train_auc_rf = auc_evaluator.evaluate(train_pred_rf)\n",
    "test_auc_rf = auc_evaluator.evaluate(test_pred_rf)\n",
    "\n",
    "print(\"Random Forest Train AUC:\", train_auc_rf)\n",
    "print(\"Random Forest Test AUC:\", test_auc_rf)\n"
   ]
  },
  {
   "cell_type": "markdown",
   "metadata": {
    "application/vnd.databricks.v1+cell": {
     "inputWidgets": {},
     "nuid": "48a5b8d3-d12f-4366-9cb7-9c36ad772196",
     "showTitle": false,
     "title": ""
    },
    "id": "hIa9p1q9bGOt"
   },
   "source": [
    "### 2.2.4 Featurization: Bag-of-Words and TF-IDF\n",
    "\n",
    "In our list of features, we have two features that contain text data, namely `title` and `artist_terms`. In the entity resolution task of HW1, we've seen how TF-IDF could help us featurize textual data. Let's do that here as well. [Bag-of-Words](https://en.wikipedia.org/wiki/Bag-of-words_model) is yet another technique (arguably simpler than TF-IDF) to featurize text features.\n",
    "\n",
    "To get yourself familiar with both in Spark, let's treat titles and artist terms as mini documents and compute TF-IDF for `title` and BoW for `artist_terms`.\n"
   ]
  },
  {
   "cell_type": "code",
   "execution_count": 28,
   "metadata": {
    "application/vnd.databricks.v1+cell": {
     "inputWidgets": {},
     "nuid": "e660b9c3-d8df-40db-8634-b8675a63e24a",
     "showTitle": false,
     "title": ""
    },
    "id": "6jqlCBvMbGOt"
   },
   "outputs": [
    {
     "data": {
      "application/vnd.jupyter.widget-view+json": {
       "model_id": "",
       "version_major": 2,
       "version_minor": 0
      },
      "text/plain": [
       "FloatProgress(value=0.0, bar_style='info', description='Progress:', layout=Layout(height='25px', width='50%'),…"
      ]
     },
     "metadata": {},
     "output_type": "display_data"
    },
    {
     "name": "stdout",
     "output_type": "stream",
     "text": [
      "+------------------------------------+-------------------------------------------+-------------------------------------+---------------------------------------------------------------------------------------------------------------+\n",
      "|title                               |title_tokens                               |title_tf                             |title_tfidf                                                                                                    |\n",
      "+------------------------------------+-------------------------------------------+-------------------------------------+---------------------------------------------------------------------------------------------------------------+\n",
      "|Bedroom Acoustics                   |[bedroom, acoustics]                       |(5,[1,2],[1.0,1.0])                  |(5,[1,2],[0.7844223108080407,0.6521811919764273])                                                              |\n",
      "|Looking For Angels (Album Version)  |[looking, for, angels, (album, version)]   |(5,[0,2,3,4],[1.0,2.0,1.0,1.0])      |(5,[0,2,3,4],[0.7545336544061652,1.3043623839528546,0.6389779370633103,0.804030782196417])                     |\n",
      "|Playing Bogart                      |[playing, bogart]                          |(5,[0,1],[1.0,1.0])                  |(5,[0,1],[0.7545336544061652,0.7844223108080407])                                                              |\n",
      "|Tuvalu Transit Lounge               |[tuvalu, transit, lounge]                  |(5,[1,4],[2.0,1.0])                  |(5,[1,4],[1.5688446216160814,0.804030782196417])                                                               |\n",
      "|Caravan                             |[caravan]                                  |(5,[0],[1.0])                        |(5,[0],[0.7545336544061652])                                                                                   |\n",
      "|Bring The Monster Inside            |[bring, the, monster, inside]              |(5,[1,2,3],[1.0,2.0,1.0])            |(5,[1,2,3],[0.7844223108080407,1.3043623839528546,0.6389779370633103])                                         |\n",
      "|Enseñame A Olvidar                  |[enseñame, a, olvidar]                     |(5,[1,2],[1.0,2.0])                  |(5,[1,2],[0.7844223108080407,1.3043623839528546])                                                              |\n",
      "|Cross My Heart                      |[cross, my, heart]                         |(5,[3],[3.0])                        |(5,[3],[1.916933811189931])                                                                                    |\n",
      "|Heart of Steel                      |[heart, of, steel]                         |(5,[0,3],[2.0,1.0])                  |(5,[0,3],[1.5090673088123303,0.6389779370633103])                                                              |\n",
      "|Low Down Alligator (LP Version)     |[low, down, alligator, (lp, version)]      |(5,[0,1,2,4],[1.0,1.0,2.0,1.0])      |(5,[0,1,2,4],[0.7545336544061652,0.7844223108080407,1.3043623839528546,0.804030782196417])                     |\n",
      "|When two men kiss                   |[when, two, men, kiss]                     |(5,[0,1,3],[1.0,1.0,2.0])            |(5,[0,1,3],[0.7545336544061652,0.7844223108080407,1.2779558741266206])                                         |\n",
      "|Sharing Love (Album Version)        |[sharing, love, (album, version)]          |(5,[0,2,3,4],[1.0,1.0,1.0,1.0])      |(5,[0,2,3,4],[0.7545336544061652,0.6521811919764273,0.6389779370633103,0.804030782196417])                     |\n",
      "|Lay It Down (Untitled Album Version)|[lay, it, down, (untitled, album, version)]|(5,[0,1,2],[2.0,2.0,2.0])            |(5,[0,1,2],[1.5090673088123303,1.5688446216160814,1.3043623839528546])                                         |\n",
      "|Amarga Navidad                      |[amarga, navidad]                          |(5,[3,4],[1.0,1.0])                  |(5,[3,4],[0.6389779370633103,0.804030782196417])                                                               |\n",
      "|Heart Of The City (Soul and R&B)    |[heart, of, the, city, (soul, and, r&b)]   |(5,[0,1,2,3],[2.0,2.0,1.0,2.0])      |(5,[0,1,2,3],[1.5090673088123303,1.5688446216160814,0.6521811919764273,1.2779558741266206])                    |\n",
      "|Arizona Cream                       |[arizona, cream]                           |(5,[0],[2.0])                        |(5,[0],[1.5090673088123303])                                                                                   |\n",
      "|Convoy                              |[convoy]                                   |(5,[2],[1.0])                        |(5,[2],[0.6521811919764273])                                                                                   |\n",
      "|Busy Body                           |[busy, body]                               |(5,[1,2],[1.0,1.0])                  |(5,[1,2],[0.7844223108080407,0.6521811919764273])                                                              |\n",
      "|One Way Ticket To The Blues         |[one, way, ticket, to, the, blues]         |(5,[0,1,2,3,4],[1.0,1.0,2.0,1.0,1.0])|(5,[0,1,2,3,4],[0.7545336544061652,0.7844223108080407,1.3043623839528546,0.6389779370633103,0.804030782196417])|\n",
      "|I Shall Not Be Moved                |[i, shall, not, be, moved]                 |(5,[0,1,2],[2.0,1.0,2.0])            |(5,[0,1,2],[1.5090673088123303,0.7844223108080407,1.3043623839528546])                                         |\n",
      "+------------------------------------+-------------------------------------------+-------------------------------------+---------------------------------------------------------------------------------------------------------------+\n",
      "only showing top 20 rows"
     ]
    }
   ],
   "source": [
    "from pyspark.ml.feature import Tokenizer, HashingTF, IDF\n",
    "\n",
    "TF_IDF_NUM_FEATS = 5  # You can adjust this value as needed\n",
    "\n",
    "# Step 1: Tokenize the title column into words.\n",
    "tokenizer = Tokenizer(inputCol=\"title\", outputCol=\"title_tokens\")\n",
    "df_tf_idf = tokenizer.transform(df_features)\n",
    "\n",
    "# Step 2: Compute term frequencies using HashingTF.\n",
    "hashing = HashingTF(inputCol=\"title_tokens\", outputCol=\"title_tf\", numFeatures=TF_IDF_NUM_FEATS)\n",
    "df_tf_idf = hashing.transform(df_tf_idf)\n",
    "\n",
    "# Step 3: Fit an IDF model and transform the TF features into TF-IDF features.\n",
    "idf = IDF(inputCol=\"title_tf\", outputCol=\"title_tfidf\")\n",
    "idfModel = idf.fit(df_tf_idf)\n",
    "df_tf_idf = idfModel.transform(df_tf_idf)\n",
    "\n",
    "# You can now inspect the new TF-IDF features:\n",
    "df_tf_idf.select(\"title\", \"title_tokens\", \"title_tf\", \"title_tfidf\").show(truncate=False)\n"
   ]
  },
  {
   "cell_type": "markdown",
   "metadata": {
    "application/vnd.databricks.v1+cell": {
     "inputWidgets": {},
     "nuid": "db6c37e5-acc3-459d-af44-0aebeef4e223",
     "showTitle": false,
     "title": ""
    },
    "id": "JK40r1AlbGOt"
   },
   "source": [
    "Verify the resulting TF-IDF feature is indeed a vector of length `TF_IDF_NUM_FEATS`.\n"
   ]
  },
  {
   "cell_type": "code",
   "execution_count": 29,
   "metadata": {
    "application/vnd.databricks.v1+cell": {
     "inputWidgets": {},
     "nuid": "93935194-25b2-43cc-b529-078353cddda4",
     "showTitle": false,
     "title": ""
    },
    "id": "gmz9L9kybGOt"
   },
   "outputs": [
    {
     "data": {
      "application/vnd.jupyter.widget-view+json": {
       "model_id": "",
       "version_major": 2,
       "version_minor": 0
      },
      "text/plain": [
       "FloatProgress(value=0.0, bar_style='info', description='Progress:', layout=Layout(height='25px', width='50%'),…"
      ]
     },
     "metadata": {},
     "output_type": "display_data"
    },
    {
     "name": "stdout",
     "output_type": "stream",
     "text": [
      "Row(title_features=SparseVector(5, {1: 0.7844, 2: 0.6522}))"
     ]
    }
   ],
   "source": [
    "from pyspark.ml.feature import Tokenizer, HashingTF, IDF\n",
    "\n",
    "TF_IDF_NUM_FEATS = 5  # Number of features\n",
    "\n",
    "# Step 1: Tokenize the title column into words.\n",
    "tokenizer = Tokenizer(inputCol=\"title\", outputCol=\"title_tokens\")\n",
    "df_tf_idf = tokenizer.transform(df_features)\n",
    "\n",
    "# Step 2: Compute term frequencies using HashingTF.\n",
    "hashing = HashingTF(inputCol=\"title_tokens\", outputCol=\"title_tf\", numFeatures=TF_IDF_NUM_FEATS)\n",
    "df_tf_idf = hashing.transform(df_tf_idf)\n",
    "\n",
    "# Step 3: Fit an IDF model and transform the TF features into TF-IDF features.\n",
    "# The output column will be named \"title_features\"\n",
    "idf = IDF(inputCol=\"title_tf\", outputCol=\"title_features\")\n",
    "idfModel = idf.fit(df_tf_idf)\n",
    "df_tf_idf = idfModel.transform(df_tf_idf)\n",
    "\n",
    "# Check that the output is as expected.\n",
    "col_name = 'title_features'\n",
    "head = df_tf_idf.select(col_name).head()\n",
    "print(head)\n",
    "assert type(head[col_name]) == pyspark.ml.linalg.SparseVector\n",
    "assert len(head[col_name]) == TF_IDF_NUM_FEATS\n"
   ]
  },
  {
   "cell_type": "markdown",
   "metadata": {
    "application/vnd.databricks.v1+cell": {
     "inputWidgets": {},
     "nuid": "2569bd2b-1646-4c9c-b2dd-a2d8f1dcaa35",
     "showTitle": false,
     "title": ""
    },
    "id": "45v57XVXbGOu"
   },
   "source": [
    "Recall that `artist_terms` should be of type string array but we have not yet interpreted from a string literal. Let's do that now.\n",
    "\n",
    "Hint: start by defining a UDF to convert a single string literal to type `T.ArrayType(T.StringType())`.\n"
   ]
  },
  {
   "cell_type": "code",
   "execution_count": 30,
   "metadata": {
    "application/vnd.databricks.v1+cell": {
     "inputWidgets": {},
     "nuid": "09a6183e-6f84-4c3d-ba90-4b48cb653c3f",
     "showTitle": false,
     "title": ""
    },
    "id": "NKzvQv_obGOu"
   },
   "outputs": [
    {
     "data": {
      "application/vnd.jupyter.widget-view+json": {
       "model_id": "",
       "version_major": 2,
       "version_minor": 0
      },
      "text/plain": [
       "FloatProgress(value=0.0, bar_style='info', description='Progress:', layout=Layout(height='25px', width='50%'),…"
      ]
     },
     "metadata": {},
     "output_type": "display_data"
    },
    {
     "name": "stdout",
     "output_type": "stream",
     "text": [
      "+---------------------------------------------------------------------------------------------------------------------------------------------------------------------------------------------------------------------------------------------------------------------------------------------------------------------------------------------------------------------------------------------------------------------------------------------------------------------------------------------------------------------------------------+\n",
      "|artist_terms                                                                                                                                                                                                                                                                                                                                                                                                                                                                                                                           |\n",
      "+---------------------------------------------------------------------------------------------------------------------------------------------------------------------------------------------------------------------------------------------------------------------------------------------------------------------------------------------------------------------------------------------------------------------------------------------------------------------------------------------------------------------------------------+\n",
      "|[art rock, piano rock, indie pop, alternative rock, progressive rock, alternative pop rock, emo, hard rock, indie rock, grunge, ballad, post rock, alternative metal, pop rock, male vocalist, heavy metal, rock, psychedelic rock, new wave, electronica, alternative, soundtrack, indie, 00s, progressive, electronic, experimental, rap, punk, pop, jazz, metal]                                                                                                                                                                    |\n",
      "|[christian rock, rock, alternative, contemporary christian, hard rock, soundtrack, guitar, alternative rock, christian, funny, heavy, industrial, acoustic, dark, metal, 80s, gospel, contemporary, worship music, indie, punk, crossover, loud]                                                                                                                                                                                                                                                                                       |\n",
      "|[new wave, pop rock, power pop, post rock, blues-rock, soft rock, country rock, rock, pop, folk rock, rockabilly, ska, reggae, classic rock, indie rock, jazz, male vocalist, 80s, indie, punk, electronic, alternative, germany, cover, united states, pub rock, nederland, synthpop, soul, british, english, england, manchester, funk soul, british artists, new wave artists, alternative rock]                                                                                                                                    |\n",
      "|[breakbeat, dub, trip hop, broken beat, downtempo, hip hop, reggae, electro, future jazz, electronic, electropop, glitch, funk, intelligent dance music, pop, experimental, techno, raga, abstract, electronica, rap, switzerland, swiss, bounce, net label, ambient, house, lo-fi, groove, sexy, netaudio, synthpop, weblabel, fusion festival 2008, funk soul, netaudio artists, web music, bern, fusion festival, uk, wonk, ch]                                                                                                     |\n",
      "|[jazz funk, soul jazz, acid jazz, funk, jazz, soul, groove, electronic, experimental, buddamat, drums, rusbeh, funky jazz, jazz pop, r&b]                                                                                                                                                                                                                                                                                                                                                                                              |\n",
      "|[country rock, folk rock, alternative rock, rock, roots rock, americana, alternative country, post rock, blues-rock, massachusetts, southern rock, art rock, indie rock, rockabilly, acoustic, folk, country, pop rock, world, new wave, intelligent dance music, singer-songwriter, classic rock, electronic, united states, germany, male vocalist, indie, experimental, lo-fi, melancholia, alternative, 90s, 00s, american, psychedelic, soul, california, mellow, abstract, indie folk, italy, duyster, boston, nederland]        |\n",
      "|[latin, latin pop, reggaeton, tropical, merengue, samba, bachata, hip hop, funk, singer, urban, electronica, pop, crossover, rock, psychedelic, instrumental, folk, indie, spanish]                                                                                                                                                                                                                                                                                                                                                    |\n",
      "|[goregrind, grindcore, melodic death metal, death metal, heavy metal, england, extreme metal, los angeles, thrash metal, guitar, vocal, metal, traditional, rock, bass, original, drums, guitarist, underground, grind, remix, lyrics, cover, vocalist, lyrical, noise, old, group, drummer, technical, songs, doom metal]                                                                                                                                                                                                             |\n",
      "|[classic rock, ballad, soft rock, pop rock, rock, folk rock, lounge music, symphonic rock, country rock, psychedelic rock, easy listening, disco, soundtrack, celtic, oldies, singer-songwriter, pop, male vocalist, electronic, jazz, ambient, world, folk, alternative pop, country, progressive rock, synthpop, united states, soul, england, canada, acoustic, british, germany, groove, spain, british folk, funk soul, sci-fi, melodious, alternative rock]                                                                      |\n",
      "|[folk rock, psychedelic rock, symphonic rock, country rock, rock, pop rock, classic rock, experimental, female vocalist, blues, pop, singer-songwriter, folk, comedy, groovy, soul, psychedelic, spoken word, united states, french, torch song, funk soul, folk revival, burke music, murder ballads]                                                                                                                                                                                                                                 |\n",
      "|[folk punk, irish folk, folk rock, celtic rock, celtic punk, stoner rock, celtic, ska, punk, emo, hard rock, rock, mediaeval, german, germany, anarcho-punk, folk, political, crossover, irish, german punk, male vocalist, funk soul, riot folk, alternative rock]                                                                                                                                                                                                                                                                    |\n",
      "|[disco, funk, quiet storm, dance pop, pop rap, electronic, europop, neo soul, hip house, deep house, chill-out, r&b, hip hop, germany, soft rock, electro, united states, house, club, soul, rock, pop rock, oldies, dance, downtempo, urban, reggae, classic rock, canada, italy, nederland, funk soul, trance, pop, singer-songwriter, spain, belgium, jazz, french, 70s, female vocalist, synthpop, 80s, 90s, american, hardcore]                                                                                                   |\n",
      "|[pop rock, christian rock, alternative dance, christian music, modern rock, ccm, nu metal, electro, industrial rock, experimental rock, rock, hard rock, post-hardcore, alternative rock, electronic, female vocalist, soundtrack, hip hop, indie rock, electronica, pop, alternative, christian, south african, united states, relax, 00s, hardcore, punk, experimental, africa, 90s, industrial, gospel, worship music, emotional, uplifting, contemporary christian, south africa, synthpop, girl rock, movie, pretty, electro rock]|\n",
      "|[mariachi, ranchera, bolero, los angeles, latin, tropical, disco, mexico, texas, argentina, chicago, brazilian, san francisco, chile, singer, mexican, colorado, colombia, buenos aires, peru, venezuela, america, barcelona, italian]                                                                                                                                                                                                                                                                                                 |\n",
      "|[chicago soul, chicago blues, soul blues, southern soul, blues-rock, neo soul, jazz, blues, rockabilly, soul, disco, funk, r&b, hip hop, alternative rock, american, united states, rock, funk soul, fusion, jazz rock, progressive rock]                                                                                                                                                                                                                                                                                              |\n",
      "|[trip hop, future jazz, downtempo, broken beat, deep house, dub, big beat, chill-out, nu jazz, breakbeat, jazz funk, free improvisation, jungle music, electronic, acid jazz, smooth jazz, hip hop, easy listening, nu metal, grunge, garage rock, doom metal, reggae, grindcore, house, jazz, trance, ska, electronica, electro, alternative rock, ambient, indie rock, lounge, female vocalist, folk, country, world, latin, abstract, rock, discover, synthpop, pop, hardcore, 00s, minimal, germany]                               |\n",
      "|[hip hop, alternative hip hop, tech house, trip hop, rap, dub, downtempo, reggae, hardcore rap, progressive rock, underground hip hop, funk, techno, alternative rock, intelligent dance music, united states, indie rock, chill-out, punk, jazz, electronica, underground rap, female vocalist, conscious, electronic, indie, rock, underground, swedish, avant-garde, new york, ninja tune, minnesota, horrorcore, abstract hip hop, drum and bass, washington, dance dance revolution, indie hip hop, anticon, lyrical, rhymesayers]|\n",
      "|[garage rock, rock, power pop, psychedelic rock, rock 'n roll, massachusetts, beat, surf music, glam rock, psychobilly, indie rock, new wave, pop rock, electro, alternative rock, classic rock, united states, punk, electronic, garage, boston, indie, psychedelic, 60s, garage rock revival, american underground, american punk, metal, norway, 80s, industrial, british, garage punk, protopunk, french, nuggets, college rock, garage revival, fuzz, post-punk]                                                                  |\n",
      "|[blues-rock, classic rock, blues, rock, male vocalist, guitar, acoustic blues, acoustic, berlin, modern electric blues, rock 'n roll, rock blues, r&b]                                                                                                                                                                                                                                                                                                                                                                                 |\n",
      "|[country rock, classic country, southern gospel, r&b, easy listening, country, rock, folk, world, jazz, united states, male vocalist, pop, male, swing, contemporary country, christmas music, romantic, new traditionalist country, slow, holiday, modern country, traditional country, pop country, male country, funk soul, new traditionalist]                                                                                                                                                                                     |\n",
      "+---------------------------------------------------------------------------------------------------------------------------------------------------------------------------------------------------------------------------------------------------------------------------------------------------------------------------------------------------------------------------------------------------------------------------------------------------------------------------------------------------------------------------------------+\n",
      "only showing top 20 rows"
     ]
    }
   ],
   "source": [
    "from pyspark.sql.functions import udf\n",
    "import pyspark.sql.types as T\n",
    "import ast\n",
    "\n",
    "def convert_string_of_array_to_array(input_string):\n",
    "    try:\n",
    "        # Safely evaluate the string to a Python object.\n",
    "        output_array = ast.literal_eval(input_string)\n",
    "        # Ensure that the result is a list; otherwise, return an empty list.\n",
    "        if isinstance(output_array, list):\n",
    "            return output_array\n",
    "        else:\n",
    "            return []\n",
    "    except Exception:\n",
    "        return []\n",
    "\n",
    "# Define the UDF with the desired return type.\n",
    "convert_string_of_array_to_array_udf = udf(convert_string_of_array_to_array, T.ArrayType(T.StringType()))\n",
    "\n",
    "# Apply the UDF to the \"artist_terms\" column, converting it from a string literal to an array.\n",
    "df_tags_arr = df_tf_idf.withColumn(\"artist_terms\", convert_string_of_array_to_array_udf(\"artist_terms\"))\n",
    "\n",
    "df_tags_arr.select(\"artist_terms\").show(truncate=False)\n"
   ]
  },
  {
   "cell_type": "markdown",
   "metadata": {
    "application/vnd.databricks.v1+cell": {
     "inputWidgets": {},
     "nuid": "fb38600e-8562-4ddc-a3c9-2bd8a37b9a2e",
     "showTitle": false,
     "title": ""
    },
    "id": "JuSwcIRKbGOu"
   },
   "source": [
    "Let's do a quick check things indeed worked out.\n"
   ]
  },
  {
   "cell_type": "code",
   "execution_count": 31,
   "metadata": {
    "application/vnd.databricks.v1+cell": {
     "inputWidgets": {},
     "nuid": "ad3d7ac2-13ba-4b70-9dbb-b44aa2ab73c7",
     "showTitle": false,
     "title": ""
    },
    "id": "81Ta3_ljbGOu"
   },
   "outputs": [
    {
     "data": {
      "application/vnd.jupyter.widget-view+json": {
       "model_id": "",
       "version_major": 2,
       "version_minor": 0
      },
      "text/plain": [
       "FloatProgress(value=0.0, bar_style='info', description='Progress:', layout=Layout(height='25px', width='50%'),…"
      ]
     },
     "metadata": {},
     "output_type": "display_data"
    },
    {
     "name": "stdout",
     "output_type": "stream",
     "text": [
      "Row(artist_terms_arr=['art rock', 'piano rock', 'indie pop', 'alternative rock', 'progressive rock', 'alternative pop rock', 'emo', 'hard rock', 'indie rock', 'grunge', 'ballad', 'post rock', 'alternative metal', 'pop rock', 'male vocalist', 'heavy metal', 'rock', 'psychedelic rock', 'new wave', 'electronica', 'alternative', 'soundtrack', 'indie', '00s', 'progressive', 'electronic', 'experimental', 'rap', 'punk', 'pop', 'jazz', 'metal'])"
     ]
    }
   ],
   "source": [
    "# Convert \"artist_terms\" to an array and store it in a new column \"artist_terms_arr\"\n",
    "df_tags_arr = df_tf_idf.withColumn(\"artist_terms_arr\", convert_string_of_array_to_array_udf(\"artist_terms\"))\n",
    "\n",
    "col_name = 'artist_terms_arr'\n",
    "head = df_tags_arr.select(col_name).head()\n",
    "print(head)\n",
    "assert type(head[col_name]) == list\n"
   ]
  },
  {
   "cell_type": "markdown",
   "metadata": {
    "application/vnd.databricks.v1+cell": {
     "inputWidgets": {},
     "nuid": "3b6e99de-065e-4b99-8af8-43b2be8a701c",
     "showTitle": false,
     "title": ""
    },
    "id": "hxEv4U3XbGOu"
   },
   "source": [
    "Now perform BoW on the array feature you just created.\n",
    "\n",
    "✰2.2.4(a) In your writeup, explain what the `vocabSize` hyperparameter means in the context of Bag-of-Words. Remember you can tune this later in the last section.\n"
   ]
  },
  {
   "cell_type": "code",
   "execution_count": 32,
   "metadata": {
    "application/vnd.databricks.v1+cell": {
     "inputWidgets": {},
     "nuid": "41494760-f599-41ac-8940-51aafd925454",
     "showTitle": false,
     "title": ""
    },
    "id": "7M3D9CCUbGOu"
   },
   "outputs": [
    {
     "data": {
      "application/vnd.jupyter.widget-view+json": {
       "model_id": "",
       "version_major": 2,
       "version_minor": 0
      },
      "text/plain": [
       "FloatProgress(value=0.0, bar_style='info', description='Progress:', layout=Layout(height='25px', width='50%'),…"
      ]
     },
     "metadata": {},
     "output_type": "display_data"
    },
    {
     "name": "stderr",
     "output_type": "stream",
     "text": [
      "An error was encountered:\n",
      "requirement failed: Column artist_terms must be of type equal to one of the following types: [array<string>, array<string>] but was actually of type string.\n",
      "Traceback (most recent call last):\n",
      "  File \"/mnt1/yarn/usercache/livy/appcache/application_1740182129057_0007/container_1740182129057_0007_01_000001/pyspark.zip/pyspark/ml/base.py\", line 205, in fit\n",
      "    return self._fit(dataset)\n",
      "  File \"/mnt1/yarn/usercache/livy/appcache/application_1740182129057_0007/container_1740182129057_0007_01_000001/pyspark.zip/pyspark/ml/wrapper.py\", line 379, in _fit\n",
      "    java_model = self._fit_java(dataset)\n",
      "  File \"/mnt1/yarn/usercache/livy/appcache/application_1740182129057_0007/container_1740182129057_0007_01_000001/pyspark.zip/pyspark/ml/wrapper.py\", line 376, in _fit_java\n",
      "    return self._java_obj.fit(dataset._jdf)\n",
      "  File \"/mnt1/yarn/usercache/livy/appcache/application_1740182129057_0007/container_1740182129057_0007_01_000001/py4j-0.10.9.5-src.zip/py4j/java_gateway.py\", line 1322, in __call__\n",
      "    answer, self.gateway_client, self.target_id, self.name)\n",
      "  File \"/mnt1/yarn/usercache/livy/appcache/application_1740182129057_0007/container_1740182129057_0007_01_000001/pyspark.zip/pyspark/sql/utils.py\", line 196, in deco\n",
      "    raise converted from None\n",
      "pyspark.sql.utils.IllegalArgumentException: requirement failed: Column artist_terms must be of type equal to one of the following types: [array<string>, array<string>] but was actually of type string.\n",
      "\n"
     ]
    }
   ],
   "source": [
    "from pyspark.ml.feature import CountVectorizer\n",
    "\n",
    "BOW_VOCAB_SIZE = 10\n",
    "BOW_MIN_DF = 2\n",
    "\n",
    "# Create a CountVectorizer with the input column \"artist_terms\" and output column \"artist_terms_bow\"\n",
    "cv = CountVectorizer(inputCol=\"artist_terms\", outputCol=\"artist_terms_bow\", \n",
    "                     vocabSize=BOW_VOCAB_SIZE, minDF=BOW_MIN_DF)\n",
    "\n",
    "# Fit the model on the DataFrame\n",
    "cv_model = cv.fit(df_final)\n",
    "\n",
    "# Transform the DataFrame to include the new BoW features column\n",
    "df_final = cv_model.transform(df_final)\n",
    "\n",
    "# Optionally, inspect the result\n",
    "df_final.select(\"artist_terms\", \"artist_terms_bow\").show(5, truncate=False)\n"
   ]
  },
  {
   "cell_type": "markdown",
   "metadata": {
    "application/vnd.databricks.v1+cell": {
     "inputWidgets": {},
     "nuid": "d2b709df-209e-4e60-a420-7a7ecf22869c",
     "showTitle": false,
     "title": ""
    },
    "id": "RDAOyBfkbGOu"
   },
   "source": [
    "Verify the result of BoW is indeed a vector of length `BOW_VOCAB_SIZE`.\n"
   ]
  },
  {
   "cell_type": "code",
   "execution_count": null,
   "metadata": {
    "application/vnd.databricks.v1+cell": {
     "inputWidgets": {},
     "nuid": "43d9ea21-0b8d-40e2-a0e8-7da406c39e45",
     "showTitle": false,
     "title": ""
    },
    "id": "j89WWdllbGOv"
   },
   "outputs": [],
   "source": [
    "\n"
   ]
  },
  {
   "cell_type": "markdown",
   "metadata": {
    "application/vnd.databricks.v1+cell": {
     "inputWidgets": {},
     "nuid": "d044f7fd-00b2-4257-8343-b61a38c3fe7d",
     "showTitle": false,
     "title": ""
    },
    "id": "kTQ1nlX0bGOv"
   },
   "source": [
    "✰2.2.4(b) Other than featurizing texts, what other feature engineering would you do on the dataset? Briefly describe one in your writeup.\n"
   ]
  },
  {
   "cell_type": "markdown",
   "metadata": {
    "application/vnd.databricks.v1+cell": {
     "inputWidgets": {},
     "nuid": "1eac2c14-eb99-4792-8525-6e727adab8ef",
     "showTitle": false,
     "title": ""
    },
    "id": "yexg1l-UbGOv"
   },
   "source": [
    "Now with the new feature columns ready, let's assemble and scale our features once again as we did to prepare for training.\n",
    "\n",
    "This time, we should have 16 features, plus the features we just created from TF-IDF and BoW. The total length of the resulting feature vector should be 31.\n",
    "\n",
    "✰2.2.4(c) Explain where this number (31) comes from in your writeup.\n"
   ]
  },
  {
   "cell_type": "code",
   "execution_count": 33,
   "metadata": {
    "application/vnd.databricks.v1+cell": {
     "inputWidgets": {},
     "nuid": "5fd58d44-1e9d-4584-ade0-44514938d227",
     "showTitle": false,
     "title": ""
    },
    "id": "WnIpicdFbGOv"
   },
   "outputs": [
    {
     "data": {
      "application/vnd.jupyter.widget-view+json": {
       "model_id": "",
       "version_major": 2,
       "version_minor": 0
      },
      "text/plain": [
       "FloatProgress(value=0.0, bar_style='info', description='Progress:', layout=Layout(height='25px', width='50%'),…"
      ]
     },
     "metadata": {},
     "output_type": "display_data"
    },
    {
     "name": "stderr",
     "output_type": "stream",
     "text": [
      "An error was encountered:\n",
      "year_shifted does not exist. Available: song_hotttnesss, artist_familiarity, artist_hotttnesss, artist_id, artist_latitude, artist_location, artist_longitude, artist_name, title, duration, end_of_fade_in, key, key_confidence, loudness, mode, mode_confidence, start_of_fade_out, tempo, time_signature, time_signature_confidence, artist_terms, artist_terms_freq, artist_terms_weight, year\n",
      "Traceback (most recent call last):\n",
      "  File \"/mnt1/yarn/usercache/livy/appcache/application_1740182129057_0007/container_1740182129057_0007_01_000001/pyspark.zip/pyspark/ml/base.py\", line 262, in transform\n",
      "    return self._transform(dataset)\n",
      "  File \"/mnt1/yarn/usercache/livy/appcache/application_1740182129057_0007/container_1740182129057_0007_01_000001/pyspark.zip/pyspark/ml/wrapper.py\", line 396, in _transform\n",
      "    return DataFrame(self._java_obj.transform(dataset._jdf), dataset.sparkSession)\n",
      "  File \"/mnt1/yarn/usercache/livy/appcache/application_1740182129057_0007/container_1740182129057_0007_01_000001/py4j-0.10.9.5-src.zip/py4j/java_gateway.py\", line 1322, in __call__\n",
      "    answer, self.gateway_client, self.target_id, self.name)\n",
      "  File \"/mnt1/yarn/usercache/livy/appcache/application_1740182129057_0007/container_1740182129057_0007_01_000001/pyspark.zip/pyspark/sql/utils.py\", line 196, in deco\n",
      "    raise converted from None\n",
      "pyspark.sql.utils.IllegalArgumentException: year_shifted does not exist. Available: song_hotttnesss, artist_familiarity, artist_hotttnesss, artist_id, artist_latitude, artist_location, artist_longitude, artist_name, title, duration, end_of_fade_in, key, key_confidence, loudness, mode, mode_confidence, start_of_fade_out, tempo, time_signature, time_signature_confidence, artist_terms, artist_terms_freq, artist_terms_weight, year\n",
      "\n"
     ]
    }
   ],
   "source": [
    "from pyspark.ml.feature import VectorAssembler\n",
    "\n",
    "# List of 16 numeric features (excluding song_hotttnesss and the dropped features)\n",
    "input_feature_columns = [\n",
    "    \"artist_familiarity\", \"artist_hotttnesss\", \"artist_latitude\", \"artist_longitude\",\n",
    "    \"duration\", \"end_of_fade_in\", \"key\", \"key_confidence\", \"loudness\", \"mode\",\n",
    "    \"mode_confidence\", \"start_of_fade_out\", \"tempo\", \"time_signature\",\n",
    "    \"time_signature_confidence\", \"year_shifted\"\n",
    "]\n",
    "\n",
    "# Create a VectorAssembler to combine the features into one column \"features\"\n",
    "vectorizer = VectorAssembler(inputCols=input_feature_columns, outputCol=\"features\")\n",
    "\n",
    "# Transform the DataFrame to include the new feature vector column.\n",
    "df_final = vectorizer.transform(df_final)\n",
    "\n",
    "# Optionally, inspect the schema to confirm the new column is added.\n",
    "df_final.printSchema()\n"
   ]
  },
  {
   "cell_type": "code",
   "execution_count": 34,
   "metadata": {
    "application/vnd.databricks.v1+cell": {
     "inputWidgets": {},
     "nuid": "378f4098-7052-47bd-9af8-cadb54cb133a",
     "showTitle": false,
     "title": ""
    },
    "id": "ZdnoSxLqbGOv"
   },
   "outputs": [
    {
     "data": {
      "application/vnd.jupyter.widget-view+json": {
       "model_id": "",
       "version_major": 2,
       "version_minor": 0
      },
      "text/plain": [
       "FloatProgress(value=0.0, bar_style='info', description='Progress:', layout=Layout(height='25px', width='50%'),…"
      ]
     },
     "metadata": {},
     "output_type": "display_data"
    },
    {
     "name": "stderr",
     "output_type": "stream",
     "text": [
      "An error was encountered:\n",
      "invalid syntax (<stdin>, line 5)\n",
      "  File \"<stdin>\", line 5\n",
      "    stdscaler_model = stdscaler.<FILL IN>\n",
      "                                ^\n",
      "SyntaxError: invalid syntax\n",
      "\n"
     ]
    }
   ],
   "source": [
    "# scaling\n",
    "\n",
    "# YOUR CODE HERE\n",
    "stdscaler = StandardScaler(inputCol=\"<FILL IN>\", outputCol=\"<FILL IN>\")\n",
    "stdscaler_model = stdscaler.<FILL IN>\n",
    "\n",
    "df_scaled_features = stdscaler_model.<FILL IN>\n",
    "\n",
    "\n",
    "# YOUR CODE HERE\n",
    "df_scaled_features.toPandas().head()"
   ]
  },
  {
   "cell_type": "markdown",
   "metadata": {
    "application/vnd.databricks.v1+cell": {
     "inputWidgets": {},
     "nuid": "614933d1-1ab5-49a9-8e93-1e36da2e7f39",
     "showTitle": false,
     "title": ""
    },
    "id": "7AYxB7XMbGOv"
   },
   "source": [
    "Now let's verify the feature vector is of expected length 31.\n"
   ]
  },
  {
   "cell_type": "code",
   "execution_count": 35,
   "metadata": {
    "application/vnd.databricks.v1+cell": {
     "inputWidgets": {},
     "nuid": "b12fbc10-a30c-47f9-a405-4b20c47a4458",
     "showTitle": false,
     "title": ""
    },
    "id": "WWtHDij2bGOv"
   },
   "outputs": [
    {
     "data": {
      "application/vnd.jupyter.widget-view+json": {
       "model_id": "",
       "version_major": 2,
       "version_minor": 0
      },
      "text/plain": [
       "FloatProgress(value=0.0, bar_style='info', description='Progress:', layout=Layout(height='25px', width='50%'),…"
      ]
     },
     "metadata": {},
     "output_type": "display_data"
    },
    {
     "name": "stderr",
     "output_type": "stream",
     "text": [
      "An error was encountered:\n",
      "name 'df_scaled_features' is not defined\n",
      "Traceback (most recent call last):\n",
      "NameError: name 'df_scaled_features' is not defined\n",
      "\n"
     ]
    }
   ],
   "source": [
    "# change your variable/column names accordingly\n",
    "l = df_scaled_features.select('features').take(1)[0].features\n",
    "print('vector len:', len(l))\n",
    "assert len(l) == 31"
   ]
  },
  {
   "cell_type": "markdown",
   "metadata": {
    "application/vnd.databricks.v1+cell": {
     "inputWidgets": {},
     "nuid": "210655de-2f0c-4406-9603-b24f515236a7",
     "showTitle": false,
     "title": ""
    },
    "id": "qiELJKJvbGOv"
   },
   "source": [
    "### 2.2.5 Modeling with New Features\n"
   ]
  },
  {
   "cell_type": "markdown",
   "metadata": {
    "application/vnd.databricks.v1+cell": {
     "inputWidgets": {},
     "nuid": "f65fb59c-7633-4116-aad9-7f4e1e218eec",
     "showTitle": false,
     "title": ""
    },
    "id": "zQD8qUrUbGOv"
   },
   "source": [
    "Now let's fit LR and RF on our new data. As before, first do a train-test split with test ratio 0.2 and seed 10605.\n"
   ]
  },
  {
   "cell_type": "code",
   "execution_count": 36,
   "metadata": {
    "application/vnd.databricks.v1+cell": {
     "inputWidgets": {},
     "nuid": "30ccee50-61a1-4b2a-a71f-7ec982384c37",
     "showTitle": false,
     "title": ""
    },
    "id": "dsXN1DHEbGOw"
   },
   "outputs": [
    {
     "data": {
      "application/vnd.jupyter.widget-view+json": {
       "model_id": "",
       "version_major": 2,
       "version_minor": 0
      },
      "text/plain": [
       "FloatProgress(value=0.0, bar_style='info', description='Progress:', layout=Layout(height='25px', width='50%'),…"
      ]
     },
     "metadata": {},
     "output_type": "display_data"
    }
   ],
   "source": [
    "# YOUR CODE HERE\n",
    "\n",
    "# YOUR CODE HERE"
   ]
  },
  {
   "cell_type": "markdown",
   "metadata": {
    "application/vnd.databricks.v1+cell": {
     "inputWidgets": {},
     "nuid": "9e3bd4f6-c1be-4a8e-8f67-78068a40aa89",
     "showTitle": false,
     "title": ""
    },
    "id": "UVmYHu4jbGOw"
   },
   "source": [
    "Now train the LR and RF model with default hyperparameters.\n",
    "\n",
    "✰2.2.5(a) Evaluate train and test AUC for each model and report them in your writeup.\n"
   ]
  },
  {
   "cell_type": "code",
   "execution_count": 37,
   "metadata": {
    "application/vnd.databricks.v1+cell": {
     "inputWidgets": {},
     "nuid": "e53618df-d85b-4de1-98c9-dbcf8b1bb13a",
     "showTitle": false,
     "title": ""
    },
    "id": "BMIltHGQbGOw"
   },
   "outputs": [
    {
     "data": {
      "application/vnd.jupyter.widget-view+json": {
       "model_id": "",
       "version_major": 2,
       "version_minor": 0
      },
      "text/plain": [
       "FloatProgress(value=0.0, bar_style='info', description='Progress:', layout=Layout(height='25px', width='50%'),…"
      ]
     },
     "metadata": {},
     "output_type": "display_data"
    }
   ],
   "source": [
    "# Logistic Regression\n",
    "\n",
    "# YOUR CODE HERE\n",
    "\n",
    "# YOUR CODE HERE"
   ]
  },
  {
   "cell_type": "code",
   "execution_count": 38,
   "metadata": {
    "application/vnd.databricks.v1+cell": {
     "inputWidgets": {},
     "nuid": "2a20b8f0-79ee-4acd-8c9b-a1bb2c064464",
     "showTitle": false,
     "title": ""
    },
    "id": "XW1MkYvibGOw"
   },
   "outputs": [
    {
     "data": {
      "application/vnd.jupyter.widget-view+json": {
       "model_id": "",
       "version_major": 2,
       "version_minor": 0
      },
      "text/plain": [
       "FloatProgress(value=0.0, bar_style='info', description='Progress:', layout=Layout(height='25px', width='50%'),…"
      ]
     },
     "metadata": {},
     "output_type": "display_data"
    }
   ],
   "source": [
    "# Random Forest\n",
    "\n",
    "# YOUR CODE HERE\n",
    "\n",
    "# YOUR CODE HERE"
   ]
  },
  {
   "cell_type": "markdown",
   "metadata": {
    "application/vnd.databricks.v1+cell": {
     "inputWidgets": {},
     "nuid": "d848886b-1e65-4482-9a04-44c8ee5d3c36",
     "showTitle": false,
     "title": ""
    },
    "id": "LPiEUwnfbGOw"
   },
   "source": [
    "Recall that AUC is the area under the ROC curve. Now, plot the ROC curves for the four models (including two baselines) in **one single plot**.\n",
    "\n",
    "✰2.2.5(b) In your writeup:\n",
    "\n",
    "- Include the plot (with legends)\n",
    "- Explain how the ROC curve is derived and what it measures\n",
    "- Explain, from the ROC curves, how do you discover which models are performing better than others, and in this case, which model performs the best.\n"
   ]
  },
  {
   "cell_type": "code",
   "execution_count": 39,
   "metadata": {},
   "outputs": [
    {
     "data": {
      "application/vnd.jupyter.widget-view+json": {
       "model_id": "",
       "version_major": 2,
       "version_minor": 0
      },
      "text/plain": [
       "FloatProgress(value=0.0, bar_style='info', description='Progress:', layout=Layout(height='25px', width='50%'),…"
      ]
     },
     "metadata": {},
     "output_type": "display_data"
    }
   ],
   "source": [
    "# YOUR CODE HERE\n",
    "\n",
    "# YOUR CODE HERE"
   ]
  },
  {
   "cell_type": "code",
   "execution_count": 40,
   "metadata": {
    "application/vnd.databricks.v1+cell": {
     "inputWidgets": {},
     "nuid": "73b7752e-0cb6-4657-ac53-73eeeaabe9b3",
     "showTitle": false,
     "title": ""
    },
    "id": "6unBCK-rbGOw"
   },
   "outputs": [
    {
     "data": {
      "application/vnd.jupyter.widget-view+json": {
       "model_id": "",
       "version_major": 2,
       "version_minor": 0
      },
      "text/plain": [
       "FloatProgress(value=0.0, bar_style='info', description='Progress:', layout=Layout(height='25px', width='50%'),…"
      ]
     },
     "metadata": {},
     "output_type": "display_data"
    }
   ],
   "source": [
    "def get_tpr_fpr(test_df):\n",
    "    label_and_prob = test_df.select('popularlity', 'probability').rdd.map(\n",
    "        lambda row: (float(row['popularlity']), float(row['probability'][1]))).collect()\n",
    "    label_and_prob.sort(key=lambda x: x[1], reverse=True)\n",
    "    labels_by_weight = np.array([k for (k, v) in label_and_prob])\n",
    "\n",
    "    length = labels_by_weight.size\n",
    "    true_positives = labels_by_weight.cumsum()\n",
    "    num_positive = true_positives[-1]\n",
    "    false_positives = np.arange(1.0, length + 1, 1.) - true_positives\n",
    "\n",
    "    true_positive_rate = true_positives / num_positive\n",
    "    false_positive_rate = false_positives / (length - num_positive)\n",
    "\n",
    "    return true_positive_rate, false_positive_rate"
   ]
  },
  {
   "cell_type": "code",
   "execution_count": 41,
   "metadata": {},
   "outputs": [
    {
     "data": {
      "application/vnd.jupyter.widget-view+json": {
       "model_id": "",
       "version_major": 2,
       "version_minor": 0
      },
      "text/plain": [
       "FloatProgress(value=0.0, bar_style='info', description='Progress:', layout=Layout(height='25px', width='50%'),…"
      ]
     },
     "metadata": {},
     "output_type": "display_data"
    },
    {
     "name": "stderr",
     "output_type": "stream",
     "text": [
      "An error was encountered:\n",
      "invalid syntax (<stdin>, line 2)\n",
      "  File \"<stdin>\", line 2\n",
      "    pr_lr_baseline, fpr_lr_baseline = get_tpr_fpr(<FILL IN>)\n",
      "                                                  ^\n",
      "SyntaxError: invalid syntax\n",
      "\n"
     ]
    }
   ],
   "source": [
    "# YOUR CODE HERE\n",
    "pr_lr_baseline, fpr_lr_baseline = get_tpr_fpr(<FILL IN>)\n",
    "tpr_rf_baseline, fpr_rf_baseline = get_tpr_fpr(<FILL IN>)\n",
    "tpr_lr, fpr_lr = get_tpr_fpr(<FILL IN>)\n",
    "tpr_rf, fpr_rf = get_tpr_fpr(<FILL IN>)\n",
    "# YOUR CODE HERE"
   ]
  },
  {
   "cell_type": "code",
   "execution_count": 42,
   "metadata": {},
   "outputs": [
    {
     "data": {
      "application/vnd.jupyter.widget-view+json": {
       "model_id": "",
       "version_major": 2,
       "version_minor": 0
      },
      "text/plain": [
       "FloatProgress(value=0.0, bar_style='info', description='Progress:', layout=Layout(height='25px', width='50%'),…"
      ]
     },
     "metadata": {},
     "output_type": "display_data"
    }
   ],
   "source": [
    "def prepare_plot(xticks, yticks, figsize=(10.5, 6), hide_labels=False, grid_color='#999999',\n",
    "                 grid_width=1.0):\n",
    "    \"\"\"Template for generating the plot layout.\"\"\"\n",
    "    plt.close()\n",
    "    fig, ax = plt.subplots(figsize=figsize, facecolor='white', edgecolor='white')\n",
    "    ax.axes.tick_params(labelcolor='#999999', labelsize='10')\n",
    "    for axis, ticks in [(ax.get_xaxis(), xticks), (ax.get_yaxis(), yticks)]:\n",
    "        axis.set_ticks_position('none')\n",
    "        axis.set_ticks(ticks)\n",
    "        axis.label.set_color('#999999')\n",
    "        if hide_labels:\n",
    "            axis.set_ticklabels([])\n",
    "    plt.grid(color=grid_color, linewidth=grid_width, linestyle='-')\n",
    "    map(lambda position: ax.spines[position].set_visible(False), ['bottom', 'top', 'left', 'right'])\n",
    "    return fig, ax"
   ]
  },
  {
   "cell_type": "code",
   "execution_count": 43,
   "metadata": {},
   "outputs": [
    {
     "data": {
      "application/vnd.jupyter.widget-view+json": {
       "model_id": "",
       "version_major": 2,
       "version_minor": 0
      },
      "text/plain": [
       "FloatProgress(value=0.0, bar_style='info', description='Progress:', layout=Layout(height='25px', width='50%'),…"
      ]
     },
     "metadata": {},
     "output_type": "display_data"
    },
    {
     "name": "stderr",
     "output_type": "stream",
     "text": [
      "An error was encountered:\n",
      "name 'fpr_lr_baseline' is not defined\n",
      "Traceback (most recent call last):\n",
      "NameError: name 'fpr_lr_baseline' is not defined\n",
      "\n"
     ]
    }
   ],
   "source": [
    "fig, ax = prepare_plot(np.arange(0., 1.1, 0.1), np.arange(0., 1.1, 0.1))\n",
    "ax.set_xlim(-.05, 1.05), ax.set_ylim(-.05, 1.05)\n",
    "ax.set_ylabel('True Positive Rate (Sensitivity)')\n",
    "ax.set_xlabel('False Positive Rate (1 - Specificity)')\n",
    "plt.plot(fpr_lr_baseline, tpr_lr_baseline, color='r', label=\"LogisticRegressionBaseline\")\n",
    "plt.plot(fpr_rf_baseline, tpr_rf_baseline, color='g', label=\"RandomForestBaseline\")\n",
    "plt.plot(fpr_lr, tpr_lr, color='b', label=\"LogisticRegression\")\n",
    "plt.plot(fpr_rf, tpr_rf, color='orange', label=\"RandomForest\")\n",
    "plt.plot((0., 1.), (0., 1.), linestyle='--', color='#d6ebf2',\n",
    "         linewidth=2., label=\"baseline\")  # Baseline model\n",
    "plt.legend()"
   ]
  },
  {
   "cell_type": "markdown",
   "metadata": {
    "application/vnd.databricks.v1+cell": {
     "inputWidgets": {},
     "nuid": "c48783f2-5004-492e-b286-e0e879c6173c",
     "showTitle": false,
     "title": ""
    },
    "id": "64qRWzqSbGOw"
   },
   "source": [
    "### 2.2.6 Do Your Best\n"
   ]
  },
  {
   "cell_type": "markdown",
   "metadata": {
    "application/vnd.databricks.v1+cell": {
     "inputWidgets": {},
     "nuid": "e42bf942-1ab5-460a-a96c-bafaf5cbc2a1",
     "showTitle": false,
     "title": ""
    },
    "id": "bU6JcYWybGOw"
   },
   "source": [
    "In all previous sections in this assignment and other assignments so far, we have almost specified everything you should do. You might be (and should be!) bored by now. This section gives you a chance to do whatever you want to improve the prediction AUC.\n",
    "\n",
    "You can do better data preprocessing, feature engineering, fit fancier models, perform hyperparameter tuning, etc.\n",
    "\n",
    "✰2.2.6 after you are satisfied with your model, report in your writeup\n",
    "\n",
    "- the hyperparameters,\n",
    "- train and test AUC of your optimized model, and\n",
    "- the approach you took on top of the specified instructions to obtain this better result.\n"
   ]
  },
  {
   "cell_type": "code",
   "execution_count": 44,
   "metadata": {},
   "outputs": [
    {
     "data": {
      "application/vnd.jupyter.widget-view+json": {
       "model_id": "",
       "version_major": 2,
       "version_minor": 0
      },
      "text/plain": [
       "FloatProgress(value=0.0, bar_style='info', description='Progress:', layout=Layout(height='25px', width='50%'),…"
      ]
     },
     "metadata": {},
     "output_type": "display_data"
    }
   ],
   "source": [
    "# have fun!"
   ]
  },
  {
   "cell_type": "markdown",
   "metadata": {
    "application/vnd.databricks.v1+cell": {
     "inputWidgets": {},
     "nuid": "3607f3e4-9fad-4ab5-85af-6a948e3139b3",
     "showTitle": false,
     "title": ""
    },
    "id": "YtUulxsMbGOx"
   },
   "source": [
    "### 2.2.7 Don't forget to answer the reflection question on the writeup! ✰2.2.7\n"
   ]
  }
 ],
 "metadata": {
  "application/vnd.databricks.v1+notebook": {
   "dashboards": [],
   "language": "python",
   "notebookMetadata": {
    "pythonIndentUnit": 2
   },
   "notebookName": "HW4",
   "notebookOrigID": 379635546166569,
   "widgets": {}
  },
  "colab": {
   "name": "HW4.ipynb",
   "provenance": []
  },
  "kernelspec": {
   "display_name": "PySpark",
   "language": "python",
   "name": "pysparkkernel"
  },
  "language_info": {
   "codemirror_mode": {
    "name": "python",
    "version": 3
   },
   "file_extension": ".py",
   "mimetype": "text/x-python",
   "name": "pyspark",
   "pygments_lexer": "python3"
  }
 },
 "nbformat": 4,
 "nbformat_minor": 2
}
